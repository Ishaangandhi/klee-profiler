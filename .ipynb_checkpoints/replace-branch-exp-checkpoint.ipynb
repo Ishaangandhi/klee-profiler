{
 "cells": [
  {
   "cell_type": "code",
   "execution_count": 1,
   "metadata": {},
   "outputs": [],
   "source": [
    "#thread;;\n",
    "\n",
    "#require \"core\";;\n",
    "#require \"core.syntax\";;\n",
    "#require \"stdio\";;\n",
    "\n",
    "open Printf;;\n",
    "open Stdio;;\n",
    "open Core;;"
   ]
  },
  {
   "cell_type": "code",
   "execution_count": 10,
   "metadata": {},
   "outputs": [
    {
     "data": {
      "text/plain": [
       "val executable : string = \"/home/igandhi/Documents/build/bin/klee\"\n"
      ]
     },
     "execution_count": 10,
     "metadata": {},
     "output_type": "execute_result"
    },
    {
     "data": {
      "text/plain": [
       "val klee_stats : string = \"/home/igandhi/Documents/build/bin/klee-stats\"\n"
      ]
     },
     "execution_count": 10,
     "metadata": {},
     "output_type": "execute_result"
    },
    {
     "data": {
      "text/plain": [
       "val output_flags : string list =\n",
       "  [\"search=random-path\"; \"no-forking\"; \"track-instruction-time\";\n",
       "   \"libc=uclibc\"; \"posix-runtime\"; \"write-paths\"; \"output-conditions\"]\n"
      ]
     },
     "execution_count": 10,
     "metadata": {},
     "output_type": "execute_result"
    },
    {
     "data": {
      "text/plain": [
       "val replay_flags : string list =\n",
       "  [\"search=random-path\"; \"no-forking\"; \"track-instruction-time\";\n",
       "   \"libc=uclibc\"; \"posix-runtime\"]\n"
      ]
     },
     "execution_count": 10,
     "metadata": {},
     "output_type": "execute_result"
    },
    {
     "data": {
      "text/plain": [
       "val stats_flags : string list = [\"print-all\"; \"to-csv\"]\n"
      ]
     },
     "execution_count": 10,
     "metadata": {},
     "output_type": "execute_result"
    },
    {
     "data": {
      "text/plain": [
       "val directory : string = \"../klee/examples/llvm-coreutils/bitcodes/\"\n"
      ]
     },
     "execution_count": 10,
     "metadata": {},
     "output_type": "execute_result"
    },
    {
     "data": {
      "text/plain": [
       "val bitcode : string = \"printf.bc\"\n"
      ]
     },
     "execution_count": 10,
     "metadata": {},
     "output_type": "execute_result"
    },
    {
     "data": {
      "text/plain": [
       "val path_n : int = 1\n"
      ]
     },
     "execution_count": 10,
     "metadata": {},
     "output_type": "execute_result"
    }
   ],
   "source": [
    "let executable = \"/home/igandhi/Documents/build/bin/klee\"\n",
    "\n",
    "let klee_stats = \"/home/igandhi/Documents/build/bin/klee-stats\"\n",
    "\n",
    "let output_flags =\n",
    "  [ \n",
    "  \"search=random-path\"; \"no-forking\"; \"track-instruction-time\"; \n",
    "  \"libc=uclibc\"; \"posix-runtime\"; \"write-paths\"; \"output-conditions\"\n",
    "  ]\n",
    "  \n",
    "let replay_flags =\n",
    "  [ \n",
    "  \"search=random-path\"; \"no-forking\"; \"track-instruction-time\"; \n",
    "  \"libc=uclibc\"; \"posix-runtime\"\n",
    "  ]\n",
    "\n",
    "let stats_flags = [ \"print-all\"; \"to-csv\" ]\n",
    "\n",
    "let directory = \"../klee/examples/llvm-coreutils/bitcodes/\"\n",
    "\n",
    "let bitcode = \"printf.bc\"\n",
    "\n",
    "(* number of paths to explore with klee *)\n",
    "let path_n = 1"
   ]
  },
  {
   "cell_type": "code",
   "execution_count": 3,
   "metadata": {},
   "outputs": [
    {
     "data": {
      "text/plain": [
       "exception FileError of string\n"
      ]
     },
     "execution_count": 3,
     "metadata": {},
     "output_type": "execute_result"
    },
    {
     "data": {
      "text/plain": [
       "type stderrOutput = Print | Ignore | Keep\n"
      ]
     },
     "execution_count": 3,
     "metadata": {},
     "output_type": "execute_result"
    },
    {
     "data": {
      "text/plain": [
       "val flags_to_str : string list -> string = <fun>\n"
      ]
     },
     "execution_count": 3,
     "metadata": {},
     "output_type": "execute_result"
    },
    {
     "data": {
      "text/plain": [
       "val run : string -> stderrOutput -> string list = <fun>\n"
      ]
     },
     "execution_count": 3,
     "metadata": {},
     "output_type": "execute_result"
    },
    {
     "data": {
      "text/plain": [
       "val lowest_unused : unit -> int = <fun>\n"
      ]
     },
     "execution_count": 3,
     "metadata": {},
     "output_type": "execute_result"
    },
    {
     "data": {
      "text/plain": [
       "val write_to_log : string list -> string list -> unit = <fun>\n"
      ]
     },
     "execution_count": 3,
     "metadata": {},
     "output_type": "execute_result"
    },
    {
     "data": {
      "text/plain": [
       "val get_csv_stats : string -> string -> string * string = <fun>\n"
      ]
     },
     "execution_count": 3,
     "metadata": {},
     "output_type": "execute_result"
    },
    {
     "data": {
      "text/plain": [
       "val print_str_list : string list -> unit = <fun>\n"
      ]
     },
     "execution_count": 3,
     "metadata": {},
     "output_type": "execute_result"
    }
   ],
   "source": [
    "exception FileError of string\n",
    "\n",
    "type stderrOutput = \n",
    "  | Print\n",
    "  | Ignore\n",
    "  | Keep\n",
    "\n",
    "let flags_to_str (flags : string list) : string =\n",
    "  String.concat ~sep:\" \" @@ List.map flags (fun x -> \"--\" ^ x) \n",
    "\n",
    "(** run runs the given command, and returns each line of output of standard out*)\n",
    "let run (cmd : string) (suppress : stderrOutput) : string list =\n",
    "  let cmd = match suppress with\n",
    "  | Print -> cmd\n",
    "  | Ignore -> cmd ^ \" 2> /dev/null\"\n",
    "  | Keep -> cmd ^ \" 2>&1\"\n",
    "  in\n",
    "  let inp = Unix.open_process_in @@ cmd in\n",
    "  let r = In_channel.input_lines inp in\n",
    "  In_channel.close inp;\n",
    "  r\n",
    "  \n",
    "(* Outputs are logged as log1.csv, log2.csv... lowest_unused finds the lowest unused log number*)\n",
    "let lowest_unused () : int = \n",
    "    let filenames = run (\"ls logs/\") Print in\n",
    "    let num_to_name n = \"log\" ^ string_of_int n ^ \".csv\" in\n",
    "    let is_unused n = not @@ List.mem filenames (num_to_name n) (String.equal) in\n",
    "    match List.find (List.init 100 Fun.id) is_unused with\n",
    "    | Some unused -> unused\n",
    "    | None -> raise (FileError \"All file numbers used\")\n",
    "\n",
    "let write_to_log (headers : string list) (values : string list) : unit =\n",
    "  let i = lowest_unused () in\n",
    "  let oc = Out_channel.create ~append:true @@ \"logs/log\" ^ string_of_int i ^ \".csv\" in\n",
    "  fprintf oc \"%s\\n\" (Option.value (List.hd headers) ~default:\"No headers\");\n",
    "  List.iter values (fprintf oc \"%s\\n\");\n",
    "  Out_channel.close oc\n",
    "\n",
    "(** get_csv_stats returns the results of \"klee-stats\" as a tuple of (header, value) *)\n",
    "let get_csv_stats (directory : string) (cond : string) : string * string =\n",
    "  let command =\n",
    "    klee_stats ^ \" \" ^ directory ^ \"klee-last \" ^ flags_to_str stats_flags\n",
    "  in\n",
    "  let csv_table = run command Print in\n",
    "  ((Option.value (List.hd csv_table) ~default:\"No header\") ^ \",Cond\", \n",
    "  (Option.value (List.hd @@ List.rev csv_table) ~default:\"No rows\") ^ \",\" ^ cond)\n",
    "  \n",
    "let print_str_list = fun l -> List.iter l print_endline"
   ]
  },
  {
   "cell_type": "code",
   "execution_count": 4,
   "metadata": {},
   "outputs": [
    {
     "data": {
      "text/plain": [
       "val clear_subdirs : string -> unit = <fun>\n"
      ]
     },
     "execution_count": 4,
     "metadata": {},
     "output_type": "execute_result"
    }
   ],
   "source": [
    "let clear_subdirs (directory : string) : unit = ( run (\"rm -rf \" ^ directory ^ \"*/\") Print : string list) |> ignore"
   ]
  },
  {
   "cell_type": "code",
   "execution_count": 5,
   "metadata": {},
   "outputs": [
    {
     "data": {
      "text/plain": [
       "val get_output_dir : string list -> string = <fun>\n"
      ]
     },
     "execution_count": 5,
     "metadata": {},
     "output_type": "execute_result"
    },
    {
     "data": {
      "text/plain": [
       "val get_branches : string list -> (int * string) list = <fun>\n"
      ]
     },
     "execution_count": 5,
     "metadata": {},
     "output_type": "execute_result"
    }
   ],
   "source": [
    "(*  Given KLEE output, returns a string of where the output is located *)\n",
    "let get_output_dir (klee_output : string list) : string = \n",
    "  let output_str = String.concat ~sep:\"\\n\" klee_output in\n",
    "  let r = Str.regexp \"KLEE: output directory is \\\"\\\\(.*\\\\)\\\"\" in\n",
    "  Str.search_forward r output_str 0 |> ignore;\n",
    "  Str.matched_group 1 output_str\n",
    " \n",
    "(*  Given KLEE output, returns a list of replayposition, condition pairs *)\n",
    "let get_branches (klee_output : string list) : (int * string) list =\n",
    "  let output_str = String.concat ~sep:\" \" klee_output in\n",
    "  let r = Str.regexp \"forking on condition: \\\\([^,]+\\\\), line number: [0-9]+, position \\\\([0-9]+\\\\)\" in\n",
    "  \n",
    "  let rec match_regs start =\n",
    "    try\n",
    "    let next_start = Str.search_forward r output_str start in\n",
    "    let c = Str.matched_group 1 output_str in\n",
    "    let p = Str.matched_group 2 output_str in\n",
    "    (int_of_string p, c) :: match_regs (next_start + 1)\n",
    "    with _ -> []\n",
    "  in\n",
    "  match_regs 0"
   ]
  },
  {
   "cell_type": "code",
   "execution_count": null,
   "metadata": {
    "scrolled": true
   },
   "outputs": [
    {
     "data": {
      "text/plain": [
       "val main : unit -> unit = <fun>\n"
      ]
     },
     "execution_count": 11,
     "metadata": {},
     "output_type": "execute_result"
    },
    {
     "name": "stdout",
     "output_type": "stream",
     "text": [
      "KLEE: NOTE: Using POSIX model: /home/igandhi/Documents/build/Debug+Asserts/lib/libkleeRuntimePOSIX.bca\n",
      "KLEE: NOTE: Using klee-uclibc : /home/igandhi/Documents/build/Debug+Asserts/lib/klee-uclibc.bca\n",
      "KLEE: output directory is \"/home/igandhi/Documents/profiler/../klee/examples/llvm-coreutils/bitcodes/klee-out-1\"\n",
      "KLEE: Using STP solver backend\n",
      "KLEE: WARNING ONCE: function \"vasnprintf\" has inline asm\n",
      "KLEE: WARNING: undefined reference to function: __ctype_get_mb_cur_max\n",
      "KLEE: WARNING: undefined reference to function: bindtextdomain\n",
      "KLEE: WARNING: undefined reference to function: gettext\n",
      "KLEE: WARNING: undefined reference to function: textdomain\n",
      "KLEE: WARNING: executable has module level assembly (ignoring)\n",
      "KLEE: WARNING ONCE: calling external: syscall(16, 0, 21505, 93902146399760) at klee/runtime/POSIX/fd.c:1007 10\n",
      "KLEE: WARNING ONCE: Alignment of memory from call \"malloc\" is not modelled. Using alignment of 8.\n",
      "KLEE: WARNING ONCE: skipping fork (fork disabled globally)\n",
      "KLEE: WARNING ONCE: calling __klee_posix_wrapped_main with extra arguments.\n",
      "KLEE: WARNING ONCE: Alignment of memory from call \"calloc\" is not modelled. Using alignment of 8.\n",
      "KLEE: WARNING ONCE: calling external: bindtextdomain(93902144003744, 93902146340512) at [no debug info]\n",
      "KLEE: WARNING ONCE: calling external: textdomain(93902144003744) at [no debug info]\n",
      "KLEE: WARNING ONCE: Alignment of memory from call \"realloc\" is not modelled. Using alignment of 8.\n"
     ]
    }
   ],
   "source": [
    "let main () =\n",
    "    let klee_command =\n",
    "        String.concat ~sep:\" \" @@ [executable; flags_to_str output_flags; directory ^ bitcode; \" --sym-arg 10\"]\n",
    "    in\n",
    "    let initial_run = (run klee_command Keep : string list) in\n",
    "    print_str_list initial_run;\n",
    "    let output_dir = get_output_dir initial_run in\n",
    "    let branches = get_branches initial_run in\n",
    "    let run_branch (p, c) : string * string =\n",
    "        let klee_command =\n",
    "        String.concat ~sep:\" \"\n",
    "        @@ [ executable; flags_to_str replay_flags; \"--replace-condition=\" ^ string_of_int p; \n",
    "        \"--replay-path=\\\"\" ^ output_dir ^ \"/test000001.path\\\"\"; directory ^ bitcode; \" --sym-arg 10\" ]\n",
    "        in\n",
    "        print_endline klee_command;\n",
    "        (run klee_command Print : string list) |> ignore;\n",
    "        get_csv_stats directory c \n",
    "    in\n",
    "    (* header strings, value strings *)\n",
    "    let (h_str , v_str) = Caml.List.split @@ List.map branches run_branch in\n",
    "    print_endline @@ Caml.List.hd h_str;\n",
    "    print_str_list v_str;\n",
    "    clear_subdirs directory;\n",
    "    write_to_log h_str v_str\n",
    "\n",
    "let () = main ()"
   ]
  },
  {
   "cell_type": "code",
   "execution_count": null,
   "metadata": {},
   "outputs": [],
   "source": []
  }
 ],
 "metadata": {
  "kernelspec": {
   "display_name": "OCaml 4.09.0",
   "language": "OCaml",
   "name": "ocaml-jupyter"
  },
  "language_info": {
   "codemirror_mode": "text/x-ocaml",
   "file_extension": ".ml",
   "mimetype": "text/x-ocaml",
   "name": "OCaml",
   "nbconverter_exporter": null,
   "pygments_lexer": "OCaml",
   "version": "4.09.0"
  }
 },
 "nbformat": 4,
 "nbformat_minor": 2
}
