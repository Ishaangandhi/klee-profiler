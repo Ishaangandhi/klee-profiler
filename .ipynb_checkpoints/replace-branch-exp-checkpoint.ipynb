{
 "cells": [
  {
   "cell_type": "code",
   "execution_count": 1,
   "metadata": {},
   "outputs": [
    {
     "name": "stderr",
     "output_type": "stream",
     "text": [
      "/home/igandhi/.opam/4.09.0/lib/core/error_checking_mutex: added to search path\n",
      "/home/igandhi/.opam/4.09.0/lib/core/error_checking_mutex/error_checking_mutex.cma: loaded\n",
      "/home/igandhi/.opam/4.09.0/lib/core_kernel/bounded_int_table: added to search path\n",
      "/home/igandhi/.opam/4.09.0/lib/core_kernel/bounded_int_table/bounded_int_table.cma: loaded\n",
      "/home/igandhi/.opam/4.09.0/lib/core_kernel/flags: added to search path\n",
      "/home/igandhi/.opam/4.09.0/lib/core_kernel/flags/flags.cma: loaded\n",
      "/home/igandhi/.opam/4.09.0/lib/core_kernel/version_util: added to search path\n",
      "/home/igandhi/.opam/4.09.0/lib/core_kernel/version_util/version_util.cma: loaded\n",
      "/home/igandhi/.opam/4.09.0/lib/sexplib/unix: added to search path\n",
      "/home/igandhi/.opam/4.09.0/lib/sexplib/unix/sexplib_unix.cma: loaded\n",
      "/home/igandhi/.opam/4.09.0/lib/spawn: added to search path\n",
      "/home/igandhi/.opam/4.09.0/lib/spawn/spawn.cma: loaded\n",
      "/home/igandhi/.opam/4.09.0/lib/core: added to search path\n",
      "/home/igandhi/.opam/4.09.0/lib/core/core.cma: loaded\n",
      "/home/igandhi/.opam/4.09.0/lib/core/top: added to search path\n",
      "/home/igandhi/.opam/4.09.0/lib/core/top/core_top.cma: loaded\n"
     ]
    }
   ],
   "source": [
    "#thread;;\n",
    "\n",
    "#require \"core\";;\n",
    "#require \"core.syntax\";;\n",
    "#require \"stdio\";;\n",
    "\n",
    "open Printf;;\n",
    "open Stdio;;\n",
    "open Core;;"
   ]
  },
  {
   "cell_type": "code",
   "execution_count": null,
   "metadata": {},
   "outputs": [],
   "source": [
    "let executable = \"/home/igandhi/Documents/build/bin/klee\"\n",
    "\n",
    "let klee_stats = \"/home/igandhi/Documents/build/bin/klee-stats\"\n",
    "\n",
    "let output_flags =\n",
    "  [ \n",
    "  \"search=random-path\"; \"no-forking\"; \"track-instruction-time\"; \n",
    "  \"libc=uclibc\"; \"posix-runtime\"; \"write-paths\"; \"output-conditions\"\n",
    "  ]\n",
    "  \n",
    "let replay_flags =\n",
    "  [ \n",
    "  \"search=random-path\"; \"no-forking\"; \"track-instruction-time\"; \n",
    "  \"libc=uclibc\"; \"posix-runtime\"\n",
    "  ]\n",
    "\n",
    "let stats_flags = [ \"print-all\"; \"to-csv\" ]\n",
    "\n",
    "let directory = \"../klee/examples/llvm-coreutils/bitcodes/\"\n",
    "\n",
    "let bitcode = \"ls.bc\"\n",
    "\n",
    "(* number of paths to explore with klee *)\n",
    "let path_n = 1"
   ]
  },
  {
   "cell_type": "code",
   "execution_count": null,
   "metadata": {},
   "outputs": [],
   "source": [
    "exception FileError of string\n",
    "\n",
    "type stderrOutput = \n",
    "  | Print\n",
    "  | Ignore\n",
    "  | Keep\n",
    "\n",
    "let flags_to_str (flags : string list) : string =\n",
    "  String.concat ~sep:\" \" @@ List.map flags (fun x -> \"--\" ^ x) \n",
    "\n",
    "(** run runs the given command, and returns each line of output of standard out*)\n",
    "let run (cmd : string) (suppress : stderrOutput) : string list =\n",
    "  let cmd = match suppress with\n",
    "  | Print -> cmd\n",
    "  | Ignore -> cmd ^ \" 2> /dev/null\"\n",
    "  | Keep -> cmd ^ \" 2>&1\"\n",
    "  in\n",
    "  let inp = Unix.open_process_in @@ cmd in\n",
    "  let r = In_channel.input_lines inp in\n",
    "  In_channel.close inp;\n",
    "  r\n",
    "  \n",
    "(* Outputs are logged as log1.csv, log2.csv... lowest_unused finds the lowest unused log number*)\n",
    "let lowest_unused () : int = \n",
    "    let filenames = run (\"ls logs/\") Print in\n",
    "    let num_to_name n = \"log\" ^ string_of_int n ^ \".csv\" in\n",
    "    let is_unused n = not @@ List.mem filenames (num_to_name n) (String.equal) in\n",
    "    match List.find (List.init 100 Fun.id) is_unused with\n",
    "    | Some unused -> unused\n",
    "    | None -> raise (FileError \"All file numbers used\")\n",
    "\n",
    "let write_to_log (headers : string list) (values : string list) : unit =\n",
    "  let i = lowest_unused () in\n",
    "  let oc = Out_channel.create ~append:true @@ \"logs/log\" ^ string_of_int i ^ \".csv\" in\n",
    "  fprintf oc \"%s\\n\" (Option.value (List.hd headers) ~default:\"No headers\");\n",
    "  List.iter values (fprintf oc \"%s\\n\");\n",
    "  Out_channel.close oc\n",
    "\n",
    "(** get_csv_stats returns the results of \"klee-stats\" as a tuple of (header, value) *)\n",
    "let get_csv_stats (directory : string) (cond : string) : string * string =\n",
    "  let command =\n",
    "    klee_stats ^ \" \" ^ directory ^ \"klee-last \" ^ flags_to_str stats_flags\n",
    "  in\n",
    "  let csv_table = run command Print in\n",
    "  ((Option.value (List.hd csv_table) ~default:\"No header\") ^ \",Cond\", \n",
    "  (Option.value (List.hd @@ List.rev csv_table) ~default:\"No rows\") ^ \",\" ^ cond)\n",
    "  \n",
    "let print_str_list = fun l -> List.iter l print_endline"
   ]
  },
  {
   "cell_type": "code",
   "execution_count": null,
   "metadata": {},
   "outputs": [],
   "source": [
    "let clear_subdirs (directory : string) : unit = ( run (\"rm -rf \" ^ directory ^ \"*/\") Print : string list) |> ignore"
   ]
  },
  {
   "cell_type": "code",
   "execution_count": null,
   "metadata": {},
   "outputs": [],
   "source": [
    "(*  Given KLEE output, returns a string of where the output is located *)\n",
    "let get_output_dir (klee_output : string list) : string = \n",
    "  let output_str = String.concat ~sep:\"\\n\" klee_output in\n",
    "  let r = Str.regexp \"KLEE: output directory is \\\"\\\\(.*\\\\)\\\"\" in\n",
    "  Str.search_forward r output_str 0 |> ignore;\n",
    "  Str.matched_group 1 output_str\n",
    " \n",
    "(*  Given KLEE output, returns a list of replayposition, condition pairs *)\n",
    "let get_branches (klee_output : string list) : (int * string) list =\n",
    "  let output_str = String.concat ~sep:\" \" klee_output in\n",
    "  let r = Str.regexp \"forking on condition: \\\\([^,]+\\\\), line number: [0-9]+, position \\\\([0-9]+\\\\)\" in\n",
    "  \n",
    "  let rec match_regs start =\n",
    "    try\n",
    "    let next_start = Str.search_forward r output_str start in\n",
    "    let c = Str.matched_group 1 output_str in\n",
    "    let p = Str.matched_group 2 output_str in\n",
    "    (int_of_string p, c) :: match_regs (next_start + 1)\n",
    "    with _ -> []\n",
    "  in\n",
    "  match_regs 0"
   ]
  },
  {
   "cell_type": "code",
   "execution_count": null,
   "metadata": {
    "scrolled": true
   },
   "outputs": [],
   "source": [
    "let main () =\n",
    "    let klee_command =\n",
    "        String.concat ~sep:\" \" @@ [executable; flags_to_str output_flags; directory ^ bitcode; \" --sym-arg 10\"]\n",
    "    in\n",
    "    let initial_run = (run klee_command Keep : string list) in\n",
    "    print_str_list initial_run;\n",
    "    let output_dir = get_output_dir initial_run in\n",
    "    let branches = get_branches initial_run in\n",
    "    let run_branch (p, c) : string * string =\n",
    "        let klee_command =\n",
    "        String.concat ~sep:\" \"\n",
    "        @@ [ executable; flags_to_str replay_flags; \"--replace-condition=\" ^ string_of_int p; \n",
    "        \"--replay-path=\\\"\" ^ output_dir ^ \"/test000001.path\\\"\"; directory ^ bitcode; \" --sym-arg 10\" ]\n",
    "        in\n",
    "        print_endline klee_command;\n",
    "        (run klee_command Print : string list) |> ignore;\n",
    "        get_csv_stats directory c \n",
    "    in\n",
    "    (* header strings, value strings *)\n",
    "    let (h_str , v_str) = Caml.List.split @@ List.map [(0, \"baseline\")]::branches run_branch in\n",
    "    print_endline @@ Caml.List.hd h_str;\n",
    "    print_str_list v_str;\n",
    "    clear_subdirs directory;\n",
    "    write_to_log h_str v_str\n",
    "\n",
    "let () = main ()"
   ]
  },
  {
   "cell_type": "code",
   "execution_count": null,
   "metadata": {},
   "outputs": [],
   "source": []
  },
  {
   "cell_type": "code",
   "execution_count": null,
   "metadata": {},
   "outputs": [],
   "source": []
  }
 ],
 "metadata": {
  "kernelspec": {
   "display_name": "OCaml 4.09.0",
   "language": "OCaml",
   "name": "ocaml-jupyter"
  },
  "language_info": {
   "codemirror_mode": "text/x-ocaml",
   "file_extension": ".ml",
   "mimetype": "text/x-ocaml",
   "name": "OCaml",
   "nbconverter_exporter": null,
   "pygments_lexer": "OCaml",
   "version": "4.09.0"
  }
 },
 "nbformat": 4,
 "nbformat_minor": 2
}
