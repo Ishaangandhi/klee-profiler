{
 "cells": [
  {
   "cell_type": "code",
   "execution_count": 1,
   "metadata": {},
   "outputs": [],
   "source": [
    "#thread;;\n",
    "\n",
    "#require \"core\";;\n",
    "#require \"core.syntax\";;\n",
    "#require \"stdio\";;\n",
    "\n",
    "open Printf;;\n",
    "open Stdio;;\n",
    "open Core;;"
   ]
  },
  {
   "cell_type": "code",
   "execution_count": 7,
   "metadata": {},
   "outputs": [
    {
     "data": {
      "text/plain": [
       "val executable : string = \"/home/igandhi/Documents/build/bin/klee\"\n"
      ]
     },
     "execution_count": 7,
     "metadata": {},
     "output_type": "execute_result"
    },
    {
     "data": {
      "text/plain": [
       "val klee_stats : string = \"/home/igandhi/Documents/build/bin/klee-stats\"\n"
      ]
     },
     "execution_count": 7,
     "metadata": {},
     "output_type": "execute_result"
    },
    {
     "data": {
      "text/plain": [
       "val output_flags : string list =\n",
       "  [\"search=random-path\"; \"no-forking\"; \"track-instruction-time\";\n",
       "   \"libc=uclibc\"; \"posix-runtime\"; \"write-paths\"; \"output-conditions\"]\n"
      ]
     },
     "execution_count": 7,
     "metadata": {},
     "output_type": "execute_result"
    },
    {
     "data": {
      "text/plain": [
       "val replay_flags : string list =\n",
       "  [\"search=random-path\"; \"no-forking\"; \"track-instruction-time\";\n",
       "   \"libc=uclibc\"; \"posix-runtime\"]\n"
      ]
     },
     "execution_count": 7,
     "metadata": {},
     "output_type": "execute_result"
    },
    {
     "data": {
      "text/plain": [
       "val stats_flags : string list = [\"print-all\"; \"to-csv\"]\n"
      ]
     },
     "execution_count": 7,
     "metadata": {},
     "output_type": "execute_result"
    },
    {
     "data": {
      "text/plain": [
       "val directory : string = \"../klee/examples/llvm-coreutils/bitcodes/\"\n"
      ]
     },
     "execution_count": 7,
     "metadata": {},
     "output_type": "execute_result"
    },
    {
     "data": {
      "text/plain": [
       "val bitcode : string = \"echo.bc\"\n"
      ]
     },
     "execution_count": 7,
     "metadata": {},
     "output_type": "execute_result"
    },
    {
     "data": {
      "text/plain": [
       "val path_n : int = 1\n"
      ]
     },
     "execution_count": 7,
     "metadata": {},
     "output_type": "execute_result"
    }
   ],
   "source": [
    "let executable = \"/home/igandhi/Documents/build/bin/klee\"\n",
    "\n",
    "let klee_stats = \"/home/igandhi/Documents/build/bin/klee-stats\"\n",
    "\n",
    "let output_flags =\n",
    "  [ \n",
    "  \"search=random-path\"; \"no-forking\"; \"track-instruction-time\"; \n",
    "  \"libc=uclibc\"; \"posix-runtime\"; \"write-paths\"; \"output-conditions\"\n",
    "  ]\n",
    "  \n",
    "let replay_flags =\n",
    "  [ \n",
    "  \"search=random-path\"; \"no-forking\"; \"track-instruction-time\"; \n",
    "  \"libc=uclibc\"; \"posix-runtime\"\n",
    "  ]\n",
    "\n",
    "let stats_flags = [ \"print-all\"; \"to-csv\" ]\n",
    "\n",
    "let directory = \"../klee/examples/llvm-coreutils/bitcodes/\"\n",
    "\n",
    "let bitcode = \"echo.bc\"\n",
    "\n",
    "(* number of paths to explore with klee *)\n",
    "let path_n = 1"
   ]
  },
  {
   "cell_type": "code",
   "execution_count": 3,
   "metadata": {},
   "outputs": [
    {
     "data": {
      "text/plain": [
       "exception FileError of string\n"
      ]
     },
     "execution_count": 3,
     "metadata": {},
     "output_type": "execute_result"
    },
    {
     "data": {
      "text/plain": [
       "type stderrOutput = Print | Ignore | Keep\n"
      ]
     },
     "execution_count": 3,
     "metadata": {},
     "output_type": "execute_result"
    },
    {
     "data": {
      "text/plain": [
       "val flags_to_str : string list -> string = <fun>\n"
      ]
     },
     "execution_count": 3,
     "metadata": {},
     "output_type": "execute_result"
    },
    {
     "data": {
      "text/plain": [
       "val run : string -> stderrOutput -> string list = <fun>\n"
      ]
     },
     "execution_count": 3,
     "metadata": {},
     "output_type": "execute_result"
    },
    {
     "data": {
      "text/plain": [
       "val lowest_unused : unit -> int = <fun>\n"
      ]
     },
     "execution_count": 3,
     "metadata": {},
     "output_type": "execute_result"
    },
    {
     "data": {
      "text/plain": [
       "val write_to_log : string list -> string list -> unit = <fun>\n"
      ]
     },
     "execution_count": 3,
     "metadata": {},
     "output_type": "execute_result"
    },
    {
     "data": {
      "text/plain": [
       "val get_csv_stats : string -> string -> string * string = <fun>\n"
      ]
     },
     "execution_count": 3,
     "metadata": {},
     "output_type": "execute_result"
    },
    {
     "data": {
      "text/plain": [
       "val print_str_list : string list -> unit = <fun>\n"
      ]
     },
     "execution_count": 3,
     "metadata": {},
     "output_type": "execute_result"
    }
   ],
   "source": [
    "exception FileError of string\n",
    "\n",
    "type stderrOutput = \n",
    "  | Print\n",
    "  | Ignore\n",
    "  | Keep\n",
    "\n",
    "let flags_to_str (flags : string list) : string =\n",
    "  String.concat ~sep:\" \" @@ List.map flags (fun x -> \"--\" ^ x) \n",
    "\n",
    "(** run runs the given command, and returns each line of output of standard out*)\n",
    "let run (cmd : string) (suppress : stderrOutput) : string list =\n",
    "  let cmd = match suppress with\n",
    "  | Print -> cmd\n",
    "  | Ignore -> cmd ^ \" 2> /dev/null\"\n",
    "  | Keep -> cmd ^ \" 2>&1\"\n",
    "  in\n",
    "  let inp = Unix.open_process_in @@ cmd in\n",
    "  let r = In_channel.input_lines inp in\n",
    "  In_channel.close inp;\n",
    "  r\n",
    "  \n",
    "(* Outputs are logged as log1.csv, log2.csv... lowest_unused finds the lowest unused log number*)\n",
    "let lowest_unused () : int = \n",
    "    let filenames = run (\"ls logs/\") Print in\n",
    "    let num_to_name n = \"log\" ^ string_of_int n ^ \".csv\" in\n",
    "    let is_unused n = not @@ List.mem filenames (num_to_name n) (String.equal) in\n",
    "    match List.find (List.init 100 Fun.id) is_unused with\n",
    "    | Some unused -> unused\n",
    "    | None -> raise (FileError \"All file numbers used\")\n",
    "\n",
    "let write_to_log (headers : string list) (values : string list) : unit =\n",
    "  let i = lowest_unused () in\n",
    "  let oc = Out_channel.create ~append:true @@ \"logs/log\" ^ string_of_int i ^ \".csv\" in\n",
    "  fprintf oc \"%s\\n\" (Option.value (List.hd headers) ~default:\"No headers\");\n",
    "  List.iter values (fprintf oc \"%s\\n\");\n",
    "  Out_channel.close oc\n",
    "\n",
    "(** get_csv_stats returns the results of \"klee-stats\" as a tuple of (header, value) *)\n",
    "let get_csv_stats (directory : string) (cond : string) : string * string =\n",
    "  let command =\n",
    "    klee_stats ^ \" \" ^ directory ^ \"klee-last \" ^ flags_to_str stats_flags\n",
    "  in\n",
    "  let csv_table = run command Print in\n",
    "  ((Option.value (List.hd csv_table) ~default:\"No header\") ^ \", Cond\", \n",
    "  (Option.value (List.hd @@ List.rev csv_table) ~default:\"No rows\") ^ cond)\n",
    "  \n",
    "let print_str_list = fun l -> List.iter l print_endline"
   ]
  },
  {
   "cell_type": "code",
   "execution_count": 4,
   "metadata": {},
   "outputs": [
    {
     "data": {
      "text/plain": [
       "val clear_subdirs : string -> unit = <fun>\n"
      ]
     },
     "execution_count": 4,
     "metadata": {},
     "output_type": "execute_result"
    }
   ],
   "source": [
    "let clear_subdirs (directory : string) : unit = ( run (\"rm -rf \" ^ directory ^ \"*/\") Print : string list) |> ignore"
   ]
  },
  {
   "cell_type": "code",
   "execution_count": 16,
   "metadata": {},
   "outputs": [
    {
     "data": {
      "text/plain": [
       "val get_output_dir : string list -> string = <fun>\n"
      ]
     },
     "execution_count": 16,
     "metadata": {},
     "output_type": "execute_result"
    },
    {
     "data": {
      "text/plain": [
       "val get_branches : string list -> (int * string) list = <fun>\n"
      ]
     },
     "execution_count": 16,
     "metadata": {},
     "output_type": "execute_result"
    }
   ],
   "source": [
    "(*  Given KLEE output, returns a string of where the output is located *)\n",
    "let get_output_dir (klee_output : string list) : string = \n",
    "  let output_str = String.concat ~sep:\"\\n\" klee_output in\n",
    "  let r = Str.regexp \"KLEE: output directory is \\\"\\\\(.*\\\\)\\\"\" in\n",
    "  Str.search_forward r output_str 0 |> ignore;\n",
    "  Str.matched_group 1 output_str\n",
    " \n",
    "(*  Given KLEE output, returns a list of replayposition, condition pairs *)\n",
    "let get_branches (klee_output : string list) : (int * string) list =\n",
    "  let output_str = String.concat ~sep:\" \" klee_output in\n",
    "  let r = Str.regexp \"forking on condition: \\\\([^,]+\\\\), line number: [0-9]+, position \\\\([0-9]+\\\\)\" in\n",
    "  \n",
    "  let rec match_regs start =\n",
    "    try\n",
    "    let next_start = Str.search_forward r output_str start in\n",
    "    let c = Str.matched_group 1 output_str in\n",
    "    let p = Str.matched_group 2 output_str in\n",
    "    (int_of_string p, c) :: match_regs (next_start + 1)\n",
    "    with _ -> []\n",
    "  in\n",
    "  match_regs 0"
   ]
  },
  {
   "cell_type": "code",
   "execution_count": 38,
   "metadata": {},
   "outputs": [
    {
     "data": {
      "text/plain": [
       "- : string =\n",
       "\"/home/igandhi/Documents/profiler/../klee/examples/llvm-coreutils/bitcodes/klee-out-53\"\n"
      ]
     },
     "execution_count": 38,
     "metadata": {},
     "output_type": "execute_result"
    },
    {
     "data": {
      "text/plain": [
       "- : (int * string) list =\n",
       "[(849, \"(Sle 32       (SExt w32 (Read w8 0 arg00)))\");\n",
       " (851, \"(Sle 32       (SExt w32 (Read w8 1 arg00)))\");\n",
       " (853, \"(Sle 32       (SExt w32 (Read w8 2 arg00)))\");\n",
       " (855, \"(Sle 32       (SExt w32 (Read w8 3 arg00)))\");\n",
       " (857, \"(Sle 32       (SExt w32 (Read w8 4 arg00)))\");\n",
       " (859, \"(Sle 32       (SExt w32 (Read w8 5 arg00)))\");\n",
       " (861, \"(Sle 32       (SExt w32 (Read w8 6 arg00)))\");\n",
       " (863, \"(Sle 32       (SExt w32 (Read w8 7 arg00)))\");\n",
       " (865, \"(Sle 32       (SExt w32 (Read w8 8 arg00)))\");\n",
       " (867, \"(Sle 32       (SExt w32 (Read w8 9 arg00)))\");\n",
       " (12723, \"(Eq 45 (Read w8 0 arg00))\"); (12725, \"(Eq 45 (Read w8 0 arg00))\");\n",
       " (12726, \"(Eq 45 (Read w8 0 arg00))\"); (12728, \"(Eq 45 (Read w8 0 arg00))\");\n",
       " (12731, \"(Eq 45 (Read w8 0 arg00))\");\n",
       " (12734, \"(Eq false      (Eq 0 (Read w8 0 arg00)))\")]\n"
      ]
     },
     "execution_count": 38,
     "metadata": {},
     "output_type": "execute_result"
    }
   ],
   "source": [
    "get_output_dir initial_run;;\n",
    "get_branches initial_run;"
   ]
  },
  {
   "cell_type": "code",
   "execution_count": 21,
   "metadata": {
    "scrolled": true
   },
   "outputs": [
    {
     "data": {
      "text/plain": [
       "val main : unit -> unit = <fun>\n"
      ]
     },
     "execution_count": 21,
     "metadata": {},
     "output_type": "execute_result"
    },
    {
     "name": "stdout",
     "output_type": "stream",
     "text": [
      "KLEE: NOTE: Using POSIX model: /home/igandhi/Documents/build/Debug+Asserts/lib/libkleeRuntimePOSIX.bca\n",
      "KLEE: NOTE: Using klee-uclibc : /home/igandhi/Documents/build/Debug+Asserts/lib/klee-uclibc.bca\n",
      "KLEE: output directory is \"/home/igandhi/Documents/profiler/../klee/examples/llvm-coreutils/bitcodes/klee-out-0\"\n",
      "KLEE: Using STP solver backend\n",
      "KLEE: WARNING: undefined reference to function: __ctype_get_mb_cur_max\n",
      "KLEE: WARNING: undefined reference to function: bindtextdomain\n",
      "KLEE: WARNING: undefined reference to function: gettext\n",
      "KLEE: WARNING: undefined reference to function: textdomain\n",
      "KLEE: WARNING: executable has module level assembly (ignoring)\n",
      "KLEE: WARNING ONCE: calling external: syscall(16, 0, 21505, 94735618576512) at klee/runtime/POSIX/fd.c:1007 10\n",
      "KLEE: WARNING ONCE: Alignment of memory from call \"malloc\" is not modelled. Using alignment of 8.\n",
      "KLEE: WARNING ONCE: skipping fork (fork disabled globally)\n",
      "KLEE: WARNING ONCE: calling __klee_posix_wrapped_main with extra arguments.\n",
      "KLEE: WARNING ONCE: Alignment of memory from call \"calloc\" is not modelled. Using alignment of 8.\n",
      "KLEE: WARNING ONCE: calling external: bindtextdomain(94735617568608, 94735617892192) at [no debug info]\n",
      "KLEE: WARNING ONCE: calling external: textdomain(94735617568608) at [no debug info]\n",
      "KLEE: WARNING ONCE: Alignment of memory from call \"realloc\" is not modelled. Using alignment of 8.\n",
      "\n",
      "KLEE: WARNING ONCE: calling close_stdout with extra arguments.\n",
      "\n",
      "KLEE: done: total instructions = 171128\n",
      "KLEE: done: completed paths = 1\n",
      "KLEE: done: generated tests = 1\n",
      "forking on condition: (Sle 32\n",
      "      (SExt w32 (Read w8 0 arg00))), line number: 50, position 849\n",
      "forking on condition: (Sle 32\n",
      "      (SExt w32 (Read w8 1 arg00))), line number: 50, position 851\n",
      "forking on condition: (Sle 32\n",
      "      (SExt w32 (Read w8 2 arg00))), line number: 50, position 853\n",
      "forking on condition: (Sle 32\n",
      "      (SExt w32 (Read w8 3 arg00))), line number: 50, position 855\n",
      "forking on condition: (Sle 32\n",
      "      (SExt w32 (Read w8 4 arg00))), line number: 50, position 857\n",
      "forking on condition: (Sle 32\n",
      "      (SExt w32 (Read w8 5 arg00))), line number: 50, position 859\n",
      "forking on condition: (Sle 32\n",
      "      (SExt w32 (Read w8 6 arg00))), line number: 50, position 861\n",
      "forking on condition: (Sle 32\n",
      "      (SExt w32 (Read w8 7 arg00))), line number: 50, position 863\n",
      "forking on condition: (Sle 32\n",
      "      (SExt w32 (Read w8 8 arg00))), line number: 50, position 865\n",
      "forking on condition: (Sle 32\n",
      "      (SExt w32 (Read w8 9 arg00))), line number: 50, position 867\n",
      "forking on condition: (Eq 45 (Read w8 0 arg00)), line number: 35, position 12723\n",
      "forking on condition: (Eq 45 (Read w8 0 arg00)), line number: 0, position 12725\n",
      "forking on condition: (Eq 45 (Read w8 0 arg00)), line number: 35, position 12726\n",
      "forking on condition: (Eq 45 (Read w8 0 arg00)), line number: 0, position 12728\n",
      "forking on condition: (Eq 45 (Read w8 0 arg00)), line number: 0, position 12731\n",
      "forking on condition: (Eq false\n",
      "     (Eq 0 (Read w8 0 arg00))), line number: 22, position 12734\n",
      "/home/igandhi/Documents/build/bin/klee --search=random-path --no-forking --track-instruction-time --libc=uclibc --posix-runtime --replace-condition=849 --replay-path=\"/home/igandhi/Documents/profiler/../klee/examples/llvm-coreutils/bitcodes/klee-out-0/test000001.path\" ../klee/examples/llvm-coreutils/bitcodes/echo.bc  --sym-arg 10\n"
     ]
    },
    {
     "name": "stderr",
     "output_type": "stream",
     "text": [
      "KLEE: NOTE: Using POSIX model: /home/igandhi/Documents/build/Debug+Asserts/lib/libkleeRuntimePOSIX.bca\n",
      "KLEE: NOTE: Using klee-uclibc : /home/igandhi/Documents/build/Debug+Asserts/lib/klee-uclibc.bca\n",
      "KLEE: output directory is \"/home/igandhi/Documents/profiler/../klee/examples/llvm-coreutils/bitcodes/klee-out-1\"\n",
      "KLEE: Using STP solver backend\n",
      "KLEE: WARNING: undefined reference to function: __ctype_get_mb_cur_max\n",
      "KLEE: WARNING: undefined reference to function: bindtextdomain\n",
      "KLEE: WARNING: undefined reference to function: gettext\n",
      "KLEE: WARNING: undefined reference to function: textdomain\n",
      "KLEE: WARNING: executable has module level assembly (ignoring)\n",
      "KLEE: WARNING ONCE: calling external: syscall(16, 0, 21505, 94653676540032) at klee/runtime/POSIX/fd.c:1007 10\n",
      "KLEE: WARNING ONCE: Alignment of memory from call \"malloc\" is not modelled. Using alignment of 8.\n",
      "KLEE: WARNING ONCE: calling __klee_posix_wrapped_main with extra arguments.\n",
      "KLEE: WARNING ONCE: Alignment of memory from call \"calloc\" is not modelled. Using alignment of 8.\n",
      "KLEE: WARNING ONCE: calling external: bindtextdomain(94653658393552, 94653675855712) at [no debug info]\n",
      "KLEE: WARNING ONCE: calling external: textdomain(94653658393552) at [no debug info]\n",
      "KLEE: WARNING ONCE: Alignment of memory from call \"realloc\" is not modelled. Using alignment of 8.\n",
      "KLEE: WARNING ONCE: calling close_stdout with extra arguments.\n",
      "\n",
      "KLEE: done: total instructions = 171128\n",
      "KLEE: done: completed paths = 1\n",
      "KLEE: done: generated tests = 1\n"
     ]
    },
    {
     "name": "stdout",
     "output_type": "stream",
     "text": [
      "/home/igandhi/Documents/build/bin/klee --search=random-path --no-forking --track-instruction-time --libc=uclibc --posix-runtime --replace-condition=851 --replay-path=\"/home/igandhi/Documents/profiler/../klee/examples/llvm-coreutils/bitcodes/klee-out-0/test000001.path\" ../klee/examples/llvm-coreutils/bitcodes/echo.bc  --sym-arg 10\n"
     ]
    },
    {
     "name": "stderr",
     "output_type": "stream",
     "text": [
      "KLEE: NOTE: Using POSIX model: /home/igandhi/Documents/build/Debug+Asserts/lib/libkleeRuntimePOSIX.bca\n",
      "KLEE: NOTE: Using klee-uclibc : /home/igandhi/Documents/build/Debug+Asserts/lib/klee-uclibc.bca\n",
      "KLEE: output directory is \"/home/igandhi/Documents/profiler/../klee/examples/llvm-coreutils/bitcodes/klee-out-2\"\n",
      "KLEE: Using STP solver backend\n",
      "KLEE: WARNING: undefined reference to function: __ctype_get_mb_cur_max\n",
      "KLEE: WARNING: undefined reference to function: bindtextdomain\n",
      "KLEE: WARNING: undefined reference to function: gettext\n",
      "KLEE: WARNING: undefined reference to function: textdomain\n",
      "KLEE: WARNING: executable has module level assembly (ignoring)\n",
      "KLEE: WARNING ONCE: calling external: syscall(16, 0, 21505, 94778552889472) at klee/runtime/POSIX/fd.c:1007 10\n",
      "KLEE: WARNING ONCE: Alignment of memory from call \"malloc\" is not modelled. Using alignment of 8.\n",
      "KLEE: WARNING ONCE: calling __klee_posix_wrapped_main with extra arguments.\n",
      "KLEE: WARNING ONCE: Alignment of memory from call \"calloc\" is not modelled. Using alignment of 8.\n",
      "KLEE: WARNING ONCE: calling external: bindtextdomain(94778551880656, 94778552205152) at [no debug info]\n",
      "KLEE: WARNING ONCE: calling external: textdomain(94778551880656) at [no debug info]\n",
      "KLEE: WARNING ONCE: Alignment of memory from call \"realloc\" is not modelled. Using alignment of 8.\n",
      "KLEE: WARNING ONCE: calling close_stdout with extra arguments.\n",
      "\n",
      "KLEE: done: total instructions = 171128\n",
      "KLEE: done: completed paths = 1\n",
      "KLEE: done: generated tests = 1\n"
     ]
    },
    {
     "name": "stdout",
     "output_type": "stream",
     "text": [
      "/home/igandhi/Documents/build/bin/klee --search=random-path --no-forking --track-instruction-time --libc=uclibc --posix-runtime --replace-condition=853 --replay-path=\"/home/igandhi/Documents/profiler/../klee/examples/llvm-coreutils/bitcodes/klee-out-0/test000001.path\" ../klee/examples/llvm-coreutils/bitcodes/echo.bc  --sym-arg 10\n"
     ]
    },
    {
     "name": "stderr",
     "output_type": "stream",
     "text": [
      "KLEE: NOTE: Using POSIX model: /home/igandhi/Documents/build/Debug+Asserts/lib/libkleeRuntimePOSIX.bca\n",
      "KLEE: NOTE: Using klee-uclibc : /home/igandhi/Documents/build/Debug+Asserts/lib/klee-uclibc.bca\n",
      "KLEE: output directory is \"/home/igandhi/Documents/profiler/../klee/examples/llvm-coreutils/bitcodes/klee-out-3\"\n",
      "KLEE: Using STP solver backend\n",
      "KLEE: WARNING: undefined reference to function: __ctype_get_mb_cur_max\n",
      "KLEE: WARNING: undefined reference to function: bindtextdomain\n",
      "KLEE: WARNING: undefined reference to function: gettext\n",
      "KLEE: WARNING: undefined reference to function: textdomain\n",
      "KLEE: WARNING: executable has module level assembly (ignoring)\n",
      "KLEE: WARNING ONCE: calling external: syscall(16, 0, 21505, 93938556047488) at klee/runtime/POSIX/fd.c:1007 10\n",
      "KLEE: WARNING ONCE: Alignment of memory from call \"malloc\" is not modelled. Using alignment of 8.\n",
      "KLEE: WARNING ONCE: calling __klee_posix_wrapped_main with extra arguments.\n",
      "KLEE: WARNING ONCE: Alignment of memory from call \"calloc\" is not modelled. Using alignment of 8.\n",
      "KLEE: WARNING ONCE: calling external: bindtextdomain(93938555038672, 93938555363168) at [no debug info]\n",
      "KLEE: WARNING ONCE: calling external: textdomain(93938555038672) at [no debug info]\n",
      "KLEE: WARNING ONCE: Alignment of memory from call \"realloc\" is not modelled. Using alignment of 8.\n",
      "KLEE: WARNING ONCE: calling close_stdout with extra arguments.\n",
      "\n",
      "KLEE: done: total instructions = 171128\n",
      "KLEE: done: completed paths = 1\n",
      "KLEE: done: generated tests = 1\n"
     ]
    },
    {
     "name": "stdout",
     "output_type": "stream",
     "text": [
      "/home/igandhi/Documents/build/bin/klee --search=random-path --no-forking --track-instruction-time --libc=uclibc --posix-runtime --replace-condition=855 --replay-path=\"/home/igandhi/Documents/profiler/../klee/examples/llvm-coreutils/bitcodes/klee-out-0/test000001.path\" ../klee/examples/llvm-coreutils/bitcodes/echo.bc  --sym-arg 10\n"
     ]
    },
    {
     "name": "stderr",
     "output_type": "stream",
     "text": [
      "KLEE: NOTE: Using POSIX model: /home/igandhi/Documents/build/Debug+Asserts/lib/libkleeRuntimePOSIX.bca\n",
      "KLEE: NOTE: Using klee-uclibc : /home/igandhi/Documents/build/Debug+Asserts/lib/klee-uclibc.bca\n",
      "KLEE: output directory is \"/home/igandhi/Documents/profiler/../klee/examples/llvm-coreutils/bitcodes/klee-out-4\"\n",
      "KLEE: Using STP solver backend\n",
      "KLEE: WARNING: undefined reference to function: __ctype_get_mb_cur_max\n",
      "KLEE: WARNING: undefined reference to function: bindtextdomain\n",
      "KLEE: WARNING: undefined reference to function: gettext\n",
      "KLEE: WARNING: undefined reference to function: textdomain\n",
      "KLEE: WARNING: executable has module level assembly (ignoring)\n",
      "KLEE: WARNING ONCE: calling external: syscall(16, 0, 21505, 94477641625728) at klee/runtime/POSIX/fd.c:1007 10\n",
      "KLEE: WARNING ONCE: Alignment of memory from call \"malloc\" is not modelled. Using alignment of 8.\n",
      "KLEE: WARNING ONCE: calling __klee_posix_wrapped_main with extra arguments.\n",
      "KLEE: WARNING ONCE: Alignment of memory from call \"calloc\" is not modelled. Using alignment of 8.\n",
      "KLEE: WARNING ONCE: calling external: bindtextdomain(94477623479248, 94477640941408) at [no debug info]\n",
      "KLEE: WARNING ONCE: calling external: textdomain(94477623479248) at [no debug info]\n",
      "KLEE: WARNING ONCE: Alignment of memory from call \"realloc\" is not modelled. Using alignment of 8.\n",
      "KLEE: WARNING ONCE: calling close_stdout with extra arguments.\n",
      "\n",
      "KLEE: done: total instructions = 171128\n",
      "KLEE: done: completed paths = 1\n",
      "KLEE: done: generated tests = 1\n"
     ]
    },
    {
     "name": "stdout",
     "output_type": "stream",
     "text": [
      "/home/igandhi/Documents/build/bin/klee --search=random-path --no-forking --track-instruction-time --libc=uclibc --posix-runtime --replace-condition=857 --replay-path=\"/home/igandhi/Documents/profiler/../klee/examples/llvm-coreutils/bitcodes/klee-out-0/test000001.path\" ../klee/examples/llvm-coreutils/bitcodes/echo.bc  --sym-arg 10\n"
     ]
    },
    {
     "name": "stderr",
     "output_type": "stream",
     "text": [
      "KLEE: NOTE: Using POSIX model: /home/igandhi/Documents/build/Debug+Asserts/lib/libkleeRuntimePOSIX.bca\n",
      "KLEE: NOTE: Using klee-uclibc : /home/igandhi/Documents/build/Debug+Asserts/lib/klee-uclibc.bca\n",
      "KLEE: output directory is \"/home/igandhi/Documents/profiler/../klee/examples/llvm-coreutils/bitcodes/klee-out-5\"\n",
      "KLEE: Using STP solver backend\n",
      "KLEE: WARNING: undefined reference to function: __ctype_get_mb_cur_max\n",
      "KLEE: WARNING: undefined reference to function: bindtextdomain\n",
      "KLEE: WARNING: undefined reference to function: gettext\n",
      "KLEE: WARNING: undefined reference to function: textdomain\n",
      "KLEE: WARNING: executable has module level assembly (ignoring)\n",
      "KLEE: WARNING ONCE: calling external: syscall(16, 0, 21505, 94801816957056) at klee/runtime/POSIX/fd.c:1007 10\n",
      "KLEE: WARNING ONCE: Alignment of memory from call \"malloc\" is not modelled. Using alignment of 8.\n",
      "KLEE: WARNING ONCE: calling __klee_posix_wrapped_main with extra arguments.\n",
      "KLEE: WARNING ONCE: Alignment of memory from call \"calloc\" is not modelled. Using alignment of 8.\n",
      "KLEE: WARNING ONCE: calling external: bindtextdomain(94801815948240, 94801816272736) at [no debug info]\n",
      "KLEE: WARNING ONCE: calling external: textdomain(94801815948240) at [no debug info]\n",
      "KLEE: WARNING ONCE: Alignment of memory from call \"realloc\" is not modelled. Using alignment of 8.\n",
      "KLEE: WARNING ONCE: calling close_stdout with extra arguments.\n",
      "\n",
      "KLEE: done: total instructions = 171128\n",
      "KLEE: done: completed paths = 1\n",
      "KLEE: done: generated tests = 1\n"
     ]
    },
    {
     "name": "stdout",
     "output_type": "stream",
     "text": [
      "/home/igandhi/Documents/build/bin/klee --search=random-path --no-forking --track-instruction-time --libc=uclibc --posix-runtime --replace-condition=859 --replay-path=\"/home/igandhi/Documents/profiler/../klee/examples/llvm-coreutils/bitcodes/klee-out-0/test000001.path\" ../klee/examples/llvm-coreutils/bitcodes/echo.bc  --sym-arg 10\n"
     ]
    },
    {
     "name": "stderr",
     "output_type": "stream",
     "text": [
      "KLEE: NOTE: Using POSIX model: /home/igandhi/Documents/build/Debug+Asserts/lib/libkleeRuntimePOSIX.bca\n",
      "KLEE: NOTE: Using klee-uclibc : /home/igandhi/Documents/build/Debug+Asserts/lib/klee-uclibc.bca\n",
      "KLEE: output directory is \"/home/igandhi/Documents/profiler/../klee/examples/llvm-coreutils/bitcodes/klee-out-6\"\n",
      "KLEE: Using STP solver backend\n",
      "KLEE: WARNING: undefined reference to function: __ctype_get_mb_cur_max\n",
      "KLEE: WARNING: undefined reference to function: bindtextdomain\n",
      "KLEE: WARNING: undefined reference to function: gettext\n",
      "KLEE: WARNING: undefined reference to function: textdomain\n",
      "KLEE: WARNING: executable has module level assembly (ignoring)\n",
      "KLEE: WARNING ONCE: calling external: syscall(16, 0, 21505, 93973949321344) at klee/runtime/POSIX/fd.c:1007 10\n",
      "KLEE: WARNING ONCE: Alignment of memory from call \"malloc\" is not modelled. Using alignment of 8.\n",
      "KLEE: WARNING ONCE: calling __klee_posix_wrapped_main with extra arguments.\n",
      "KLEE: WARNING ONCE: Alignment of memory from call \"calloc\" is not modelled. Using alignment of 8.\n",
      "KLEE: WARNING ONCE: calling external: bindtextdomain(93973948312528, 93973948637024) at [no debug info]\n",
      "KLEE: WARNING ONCE: calling external: textdomain(93973948312528) at [no debug info]\n",
      "KLEE: WARNING ONCE: Alignment of memory from call \"realloc\" is not modelled. Using alignment of 8.\n",
      "KLEE: WARNING ONCE: calling close_stdout with extra arguments.\n",
      "\n",
      "KLEE: done: total instructions = 171128\n",
      "KLEE: done: completed paths = 1\n",
      "KLEE: done: generated tests = 1\n"
     ]
    },
    {
     "name": "stdout",
     "output_type": "stream",
     "text": [
      "/home/igandhi/Documents/build/bin/klee --search=random-path --no-forking --track-instruction-time --libc=uclibc --posix-runtime --replace-condition=861 --replay-path=\"/home/igandhi/Documents/profiler/../klee/examples/llvm-coreutils/bitcodes/klee-out-0/test000001.path\" ../klee/examples/llvm-coreutils/bitcodes/echo.bc  --sym-arg 10\n"
     ]
    },
    {
     "name": "stderr",
     "output_type": "stream",
     "text": [
      "KLEE: NOTE: Using POSIX model: /home/igandhi/Documents/build/Debug+Asserts/lib/libkleeRuntimePOSIX.bca\n",
      "KLEE: NOTE: Using klee-uclibc : /home/igandhi/Documents/build/Debug+Asserts/lib/klee-uclibc.bca\n",
      "KLEE: output directory is \"/home/igandhi/Documents/profiler/../klee/examples/llvm-coreutils/bitcodes/klee-out-7\"\n",
      "KLEE: Using STP solver backend\n",
      "KLEE: WARNING: undefined reference to function: __ctype_get_mb_cur_max\n",
      "KLEE: WARNING: undefined reference to function: bindtextdomain\n",
      "KLEE: WARNING: undefined reference to function: gettext\n",
      "KLEE: WARNING: undefined reference to function: textdomain\n",
      "KLEE: WARNING: executable has module level assembly (ignoring)\n",
      "KLEE: WARNING ONCE: calling external: syscall(16, 0, 21505, 94881898688640) at klee/runtime/POSIX/fd.c:1007 10\n",
      "KLEE: WARNING ONCE: Alignment of memory from call \"malloc\" is not modelled. Using alignment of 8.\n",
      "KLEE: WARNING ONCE: calling __klee_posix_wrapped_main with extra arguments.\n",
      "KLEE: WARNING ONCE: Alignment of memory from call \"calloc\" is not modelled. Using alignment of 8.\n",
      "KLEE: WARNING ONCE: calling external: bindtextdomain(94881897664352, 94881898004320) at [no debug info]\n",
      "KLEE: WARNING ONCE: calling external: textdomain(94881897664352) at [no debug info]\n",
      "KLEE: WARNING ONCE: Alignment of memory from call \"realloc\" is not modelled. Using alignment of 8.\n",
      "KLEE: WARNING ONCE: calling close_stdout with extra arguments.\n",
      "\n",
      "KLEE: done: total instructions = 171128\n",
      "KLEE: done: completed paths = 1\n",
      "KLEE: done: generated tests = 1\n"
     ]
    },
    {
     "name": "stdout",
     "output_type": "stream",
     "text": [
      "/home/igandhi/Documents/build/bin/klee --search=random-path --no-forking --track-instruction-time --libc=uclibc --posix-runtime --replace-condition=863 --replay-path=\"/home/igandhi/Documents/profiler/../klee/examples/llvm-coreutils/bitcodes/klee-out-0/test000001.path\" ../klee/examples/llvm-coreutils/bitcodes/echo.bc  --sym-arg 10\n"
     ]
    },
    {
     "name": "stderr",
     "output_type": "stream",
     "text": [
      "KLEE: NOTE: Using POSIX model: /home/igandhi/Documents/build/Debug+Asserts/lib/libkleeRuntimePOSIX.bca\n",
      "KLEE: NOTE: Using klee-uclibc : /home/igandhi/Documents/build/Debug+Asserts/lib/klee-uclibc.bca\n",
      "KLEE: output directory is \"/home/igandhi/Documents/profiler/../klee/examples/llvm-coreutils/bitcodes/klee-out-8\"\n",
      "KLEE: Using STP solver backend\n",
      "KLEE: WARNING: undefined reference to function: __ctype_get_mb_cur_max\n",
      "KLEE: WARNING: undefined reference to function: bindtextdomain\n",
      "KLEE: WARNING: undefined reference to function: gettext\n",
      "KLEE: WARNING: undefined reference to function: textdomain\n",
      "KLEE: WARNING: executable has module level assembly (ignoring)\n",
      "KLEE: WARNING ONCE: calling external: syscall(16, 0, 21505, 94217624694912) at klee/runtime/POSIX/fd.c:1007 10\n",
      "KLEE: WARNING ONCE: Alignment of memory from call \"malloc\" is not modelled. Using alignment of 8.\n",
      "KLEE: WARNING ONCE: calling __klee_posix_wrapped_main with extra arguments.\n",
      "KLEE: WARNING ONCE: Alignment of memory from call \"calloc\" is not modelled. Using alignment of 8.\n",
      "KLEE: WARNING ONCE: calling external: bindtextdomain(94217623686096, 94217624010592) at [no debug info]\n",
      "KLEE: WARNING ONCE: calling external: textdomain(94217623686096) at [no debug info]\n",
      "KLEE: WARNING ONCE: Alignment of memory from call \"realloc\" is not modelled. Using alignment of 8.\n",
      "KLEE: WARNING ONCE: calling close_stdout with extra arguments.\n",
      "\n",
      "KLEE: done: total instructions = 171128\n",
      "KLEE: done: completed paths = 1\n",
      "KLEE: done: generated tests = 1\n"
     ]
    },
    {
     "name": "stdout",
     "output_type": "stream",
     "text": [
      "/home/igandhi/Documents/build/bin/klee --search=random-path --no-forking --track-instruction-time --libc=uclibc --posix-runtime --replace-condition=865 --replay-path=\"/home/igandhi/Documents/profiler/../klee/examples/llvm-coreutils/bitcodes/klee-out-0/test000001.path\" ../klee/examples/llvm-coreutils/bitcodes/echo.bc  --sym-arg 10\n"
     ]
    },
    {
     "name": "stderr",
     "output_type": "stream",
     "text": [
      "KLEE: NOTE: Using POSIX model: /home/igandhi/Documents/build/Debug+Asserts/lib/libkleeRuntimePOSIX.bca\n",
      "KLEE: NOTE: Using klee-uclibc : /home/igandhi/Documents/build/Debug+Asserts/lib/klee-uclibc.bca\n",
      "KLEE: output directory is \"/home/igandhi/Documents/profiler/../klee/examples/llvm-coreutils/bitcodes/klee-out-9\"\n",
      "KLEE: Using STP solver backend\n",
      "KLEE: WARNING: undefined reference to function: __ctype_get_mb_cur_max\n",
      "KLEE: WARNING: undefined reference to function: bindtextdomain\n",
      "KLEE: WARNING: undefined reference to function: gettext\n",
      "KLEE: WARNING: undefined reference to function: textdomain\n",
      "KLEE: WARNING: executable has module level assembly (ignoring)\n",
      "KLEE: WARNING ONCE: calling external: syscall(16, 0, 21505, 93890690396288) at klee/runtime/POSIX/fd.c:1007 10\n",
      "KLEE: WARNING ONCE: Alignment of memory from call \"malloc\" is not modelled. Using alignment of 8.\n",
      "KLEE: WARNING ONCE: calling __klee_posix_wrapped_main with extra arguments.\n",
      "KLEE: WARNING ONCE: Alignment of memory from call \"calloc\" is not modelled. Using alignment of 8.\n",
      "KLEE: WARNING ONCE: calling external: bindtextdomain(93890689387472, 93890689711968) at [no debug info]\n",
      "KLEE: WARNING ONCE: calling external: textdomain(93890689387472) at [no debug info]\n",
      "KLEE: WARNING ONCE: Alignment of memory from call \"realloc\" is not modelled. Using alignment of 8.\n",
      "KLEE: WARNING ONCE: calling close_stdout with extra arguments.\n",
      "\n",
      "KLEE: done: total instructions = 171128\n",
      "KLEE: done: completed paths = 1\n",
      "KLEE: done: generated tests = 1\n"
     ]
    },
    {
     "name": "stdout",
     "output_type": "stream",
     "text": [
      "/home/igandhi/Documents/build/bin/klee --search=random-path --no-forking --track-instruction-time --libc=uclibc --posix-runtime --replace-condition=867 --replay-path=\"/home/igandhi/Documents/profiler/../klee/examples/llvm-coreutils/bitcodes/klee-out-0/test000001.path\" ../klee/examples/llvm-coreutils/bitcodes/echo.bc  --sym-arg 10\n"
     ]
    },
    {
     "name": "stderr",
     "output_type": "stream",
     "text": [
      "KLEE: NOTE: Using POSIX model: /home/igandhi/Documents/build/Debug+Asserts/lib/libkleeRuntimePOSIX.bca\n",
      "KLEE: NOTE: Using klee-uclibc : /home/igandhi/Documents/build/Debug+Asserts/lib/klee-uclibc.bca\n",
      "KLEE: output directory is \"/home/igandhi/Documents/profiler/../klee/examples/llvm-coreutils/bitcodes/klee-out-10\"\n",
      "KLEE: Using STP solver backend\n",
      "KLEE: WARNING: undefined reference to function: __ctype_get_mb_cur_max\n",
      "KLEE: WARNING: undefined reference to function: bindtextdomain\n",
      "KLEE: WARNING: undefined reference to function: gettext\n",
      "KLEE: WARNING: undefined reference to function: textdomain\n",
      "KLEE: WARNING: executable has module level assembly (ignoring)\n",
      "KLEE: WARNING ONCE: calling external: syscall(16, 0, 21505, 94295338619008) at klee/runtime/POSIX/fd.c:1007 10\n",
      "KLEE: WARNING ONCE: Alignment of memory from call \"malloc\" is not modelled. Using alignment of 8.\n",
      "KLEE: WARNING ONCE: calling __klee_posix_wrapped_main with extra arguments.\n",
      "KLEE: WARNING ONCE: Alignment of memory from call \"calloc\" is not modelled. Using alignment of 8.\n",
      "KLEE: WARNING ONCE: calling external: bindtextdomain(94295337610192, 94295337934688) at [no debug info]\n",
      "KLEE: WARNING ONCE: calling external: textdomain(94295337610192) at [no debug info]\n",
      "KLEE: WARNING ONCE: Alignment of memory from call \"realloc\" is not modelled. Using alignment of 8.\n",
      "KLEE: WARNING ONCE: calling close_stdout with extra arguments.\n",
      "\n",
      "KLEE: done: total instructions = 171128\n",
      "KLEE: done: completed paths = 1\n",
      "KLEE: done: generated tests = 1\n"
     ]
    },
    {
     "name": "stdout",
     "output_type": "stream",
     "text": [
      "/home/igandhi/Documents/build/bin/klee --search=random-path --no-forking --track-instruction-time --libc=uclibc --posix-runtime --replace-condition=12723 --replay-path=\"/home/igandhi/Documents/profiler/../klee/examples/llvm-coreutils/bitcodes/klee-out-0/test000001.path\" ../klee/examples/llvm-coreutils/bitcodes/echo.bc  --sym-arg 10\n"
     ]
    },
    {
     "name": "stderr",
     "output_type": "stream",
     "text": [
      "KLEE: NOTE: Using POSIX model: /home/igandhi/Documents/build/Debug+Asserts/lib/libkleeRuntimePOSIX.bca\n",
      "KLEE: NOTE: Using klee-uclibc : /home/igandhi/Documents/build/Debug+Asserts/lib/klee-uclibc.bca\n",
      "KLEE: output directory is \"/home/igandhi/Documents/profiler/../klee/examples/llvm-coreutils/bitcodes/klee-out-11\"\n",
      "KLEE: Using STP solver backend\n",
      "KLEE: WARNING: undefined reference to function: __ctype_get_mb_cur_max\n",
      "KLEE: WARNING: undefined reference to function: bindtextdomain\n",
      "KLEE: WARNING: undefined reference to function: gettext\n",
      "KLEE: WARNING: undefined reference to function: textdomain\n",
      "KLEE: WARNING: executable has module level assembly (ignoring)\n",
      "KLEE: WARNING ONCE: calling external: syscall(16, 0, 21505, 94013731311744) at klee/runtime/POSIX/fd.c:1007 10\n",
      "KLEE: WARNING ONCE: Alignment of memory from call \"malloc\" is not modelled. Using alignment of 8.\n",
      "KLEE: WARNING ONCE: calling __klee_posix_wrapped_main with extra arguments.\n",
      "KLEE: WARNING ONCE: Alignment of memory from call \"calloc\" is not modelled. Using alignment of 8.\n",
      "KLEE: WARNING ONCE: calling external: bindtextdomain(94013730287456, 94013730627424) at [no debug info]\n",
      "KLEE: WARNING ONCE: calling external: textdomain(94013730287456) at [no debug info]\n",
      "KLEE: WARNING ONCE: Alignment of memory from call \"realloc\" is not modelled. Using alignment of 8.\n",
      "KLEE: WARNING ONCE: calling close_stdout with extra arguments.\n",
      "\n",
      "KLEE: done: total instructions = 171128\n",
      "KLEE: done: completed paths = 1\n",
      "KLEE: done: generated tests = 1\n"
     ]
    },
    {
     "name": "stdout",
     "output_type": "stream",
     "text": [
      "/home/igandhi/Documents/build/bin/klee --search=random-path --no-forking --track-instruction-time --libc=uclibc --posix-runtime --replace-condition=12725 --replay-path=\"/home/igandhi/Documents/profiler/../klee/examples/llvm-coreutils/bitcodes/klee-out-0/test000001.path\" ../klee/examples/llvm-coreutils/bitcodes/echo.bc  --sym-arg 10\n"
     ]
    },
    {
     "name": "stderr",
     "output_type": "stream",
     "text": [
      "KLEE: NOTE: Using POSIX model: /home/igandhi/Documents/build/Debug+Asserts/lib/libkleeRuntimePOSIX.bca\n",
      "KLEE: NOTE: Using klee-uclibc : /home/igandhi/Documents/build/Debug+Asserts/lib/klee-uclibc.bca\n",
      "KLEE: output directory is \"/home/igandhi/Documents/profiler/../klee/examples/llvm-coreutils/bitcodes/klee-out-12\"\n",
      "KLEE: Using STP solver backend\n",
      "KLEE: WARNING: undefined reference to function: __ctype_get_mb_cur_max\n",
      "KLEE: WARNING: undefined reference to function: bindtextdomain\n",
      "KLEE: WARNING: undefined reference to function: gettext\n",
      "KLEE: WARNING: undefined reference to function: textdomain\n",
      "KLEE: WARNING: executable has module level assembly (ignoring)\n",
      "KLEE: WARNING ONCE: calling external: syscall(16, 0, 21505, 94770906042496) at klee/runtime/POSIX/fd.c:1007 10\n",
      "KLEE: WARNING ONCE: Alignment of memory from call \"malloc\" is not modelled. Using alignment of 8.\n",
      "KLEE: WARNING ONCE: calling __klee_posix_wrapped_main with extra arguments.\n",
      "KLEE: WARNING ONCE: Alignment of memory from call \"calloc\" is not modelled. Using alignment of 8.\n",
      "KLEE: WARNING ONCE: calling external: bindtextdomain(94770905018352, 94770905358176) at [no debug info]\n",
      "KLEE: WARNING ONCE: calling external: textdomain(94770905018352) at [no debug info]\n",
      "KLEE: WARNING ONCE: Alignment of memory from call \"realloc\" is not modelled. Using alignment of 8.\n",
      "KLEE: WARNING ONCE: calling close_stdout with extra arguments.\n",
      "\n",
      "KLEE: done: total instructions = 171128\n",
      "KLEE: done: completed paths = 1\n",
      "KLEE: done: generated tests = 1\n"
     ]
    },
    {
     "name": "stdout",
     "output_type": "stream",
     "text": [
      "/home/igandhi/Documents/build/bin/klee --search=random-path --no-forking --track-instruction-time --libc=uclibc --posix-runtime --replace-condition=12726 --replay-path=\"/home/igandhi/Documents/profiler/../klee/examples/llvm-coreutils/bitcodes/klee-out-0/test000001.path\" ../klee/examples/llvm-coreutils/bitcodes/echo.bc  --sym-arg 10\n"
     ]
    },
    {
     "name": "stderr",
     "output_type": "stream",
     "text": [
      "KLEE: NOTE: Using POSIX model: /home/igandhi/Documents/build/Debug+Asserts/lib/libkleeRuntimePOSIX.bca\n",
      "KLEE: NOTE: Using klee-uclibc : /home/igandhi/Documents/build/Debug+Asserts/lib/klee-uclibc.bca\n",
      "KLEE: output directory is \"/home/igandhi/Documents/profiler/../klee/examples/llvm-coreutils/bitcodes/klee-out-13\"\n",
      "KLEE: Using STP solver backend\n",
      "KLEE: WARNING: undefined reference to function: __ctype_get_mb_cur_max\n",
      "KLEE: WARNING: undefined reference to function: bindtextdomain\n",
      "KLEE: WARNING: undefined reference to function: gettext\n",
      "KLEE: WARNING: undefined reference to function: textdomain\n",
      "KLEE: WARNING: executable has module level assembly (ignoring)\n",
      "KLEE: WARNING ONCE: calling external: syscall(16, 0, 21505, 94124373364864) at klee/runtime/POSIX/fd.c:1007 10\n",
      "KLEE: WARNING ONCE: Alignment of memory from call \"malloc\" is not modelled. Using alignment of 8.\n",
      "KLEE: WARNING ONCE: calling __klee_posix_wrapped_main with extra arguments.\n",
      "KLEE: WARNING ONCE: Alignment of memory from call \"calloc\" is not modelled. Using alignment of 8.\n",
      "KLEE: WARNING ONCE: calling external: bindtextdomain(94124372356048, 94124372680544) at [no debug info]\n",
      "KLEE: WARNING ONCE: calling external: textdomain(94124372356048) at [no debug info]\n",
      "KLEE: WARNING ONCE: Alignment of memory from call \"realloc\" is not modelled. Using alignment of 8.\n",
      "KLEE: WARNING ONCE: calling close_stdout with extra arguments.\n",
      "\n",
      "KLEE: done: total instructions = 171128\n",
      "KLEE: done: completed paths = 1\n",
      "KLEE: done: generated tests = 1\n"
     ]
    },
    {
     "name": "stdout",
     "output_type": "stream",
     "text": [
      "/home/igandhi/Documents/build/bin/klee --search=random-path --no-forking --track-instruction-time --libc=uclibc --posix-runtime --replace-condition=12728 --replay-path=\"/home/igandhi/Documents/profiler/../klee/examples/llvm-coreutils/bitcodes/klee-out-0/test000001.path\" ../klee/examples/llvm-coreutils/bitcodes/echo.bc  --sym-arg 10\n"
     ]
    },
    {
     "name": "stderr",
     "output_type": "stream",
     "text": [
      "KLEE: NOTE: Using POSIX model: /home/igandhi/Documents/build/Debug+Asserts/lib/libkleeRuntimePOSIX.bca\n",
      "KLEE: NOTE: Using klee-uclibc : /home/igandhi/Documents/build/Debug+Asserts/lib/klee-uclibc.bca\n",
      "KLEE: output directory is \"/home/igandhi/Documents/profiler/../klee/examples/llvm-coreutils/bitcodes/klee-out-14\"\n",
      "KLEE: Using STP solver backend\n",
      "KLEE: WARNING: undefined reference to function: __ctype_get_mb_cur_max\n",
      "KLEE: WARNING: undefined reference to function: bindtextdomain\n",
      "KLEE: WARNING: undefined reference to function: gettext\n",
      "KLEE: WARNING: undefined reference to function: textdomain\n",
      "KLEE: WARNING: executable has module level assembly (ignoring)\n",
      "KLEE: WARNING ONCE: calling external: syscall(16, 0, 21505, 93960133202048) at klee/runtime/POSIX/fd.c:1007 10\n",
      "KLEE: WARNING ONCE: Alignment of memory from call \"malloc\" is not modelled. Using alignment of 8.\n",
      "KLEE: WARNING ONCE: calling __klee_posix_wrapped_main with extra arguments.\n",
      "KLEE: WARNING ONCE: Alignment of memory from call \"calloc\" is not modelled. Using alignment of 8.\n",
      "KLEE: WARNING ONCE: calling external: bindtextdomain(93960132193232, 93960132517728) at [no debug info]\n",
      "KLEE: WARNING ONCE: calling external: textdomain(93960132193232) at [no debug info]\n",
      "KLEE: WARNING ONCE: Alignment of memory from call \"realloc\" is not modelled. Using alignment of 8.\n",
      "KLEE: WARNING ONCE: calling close_stdout with extra arguments.\n",
      "\n",
      "KLEE: done: total instructions = 171128\n",
      "KLEE: done: completed paths = 1\n",
      "KLEE: done: generated tests = 1\n"
     ]
    },
    {
     "name": "stdout",
     "output_type": "stream",
     "text": [
      "/home/igandhi/Documents/build/bin/klee --search=random-path --no-forking --track-instruction-time --libc=uclibc --posix-runtime --replace-condition=12731 --replay-path=\"/home/igandhi/Documents/profiler/../klee/examples/llvm-coreutils/bitcodes/klee-out-0/test000001.path\" ../klee/examples/llvm-coreutils/bitcodes/echo.bc  --sym-arg 10\n"
     ]
    },
    {
     "name": "stderr",
     "output_type": "stream",
     "text": [
      "KLEE: NOTE: Using POSIX model: /home/igandhi/Documents/build/Debug+Asserts/lib/libkleeRuntimePOSIX.bca\n",
      "KLEE: NOTE: Using klee-uclibc : /home/igandhi/Documents/build/Debug+Asserts/lib/klee-uclibc.bca\n",
      "KLEE: output directory is \"/home/igandhi/Documents/profiler/../klee/examples/llvm-coreutils/bitcodes/klee-out-15\"\n",
      "KLEE: Using STP solver backend\n",
      "KLEE: WARNING: undefined reference to function: __ctype_get_mb_cur_max\n",
      "KLEE: WARNING: undefined reference to function: bindtextdomain\n",
      "KLEE: WARNING: undefined reference to function: gettext\n",
      "KLEE: WARNING: undefined reference to function: textdomain\n",
      "KLEE: WARNING: executable has module level assembly (ignoring)\n",
      "KLEE: WARNING ONCE: calling external: syscall(16, 0, 21505, 94771402231936) at klee/runtime/POSIX/fd.c:1007 10\n",
      "KLEE: WARNING ONCE: Alignment of memory from call \"malloc\" is not modelled. Using alignment of 8.\n",
      "KLEE: WARNING ONCE: calling __klee_posix_wrapped_main with extra arguments.\n",
      "KLEE: WARNING ONCE: Alignment of memory from call \"calloc\" is not modelled. Using alignment of 8.\n",
      "KLEE: WARNING ONCE: calling external: bindtextdomain(94771384085456, 94771401547616) at [no debug info]\n",
      "KLEE: WARNING ONCE: calling external: textdomain(94771384085456) at [no debug info]\n",
      "KLEE: WARNING ONCE: Alignment of memory from call \"realloc\" is not modelled. Using alignment of 8.\n",
      "KLEE: WARNING ONCE: calling close_stdout with extra arguments.\n",
      "\n",
      "KLEE: done: total instructions = 171128\n",
      "KLEE: done: completed paths = 1\n",
      "KLEE: done: generated tests = 1\n"
     ]
    },
    {
     "name": "stdout",
     "output_type": "stream",
     "text": [
      "/home/igandhi/Documents/build/bin/klee --search=random-path --no-forking --track-instruction-time --libc=uclibc --posix-runtime --replace-condition=12734 --replay-path=\"/home/igandhi/Documents/profiler/../klee/examples/llvm-coreutils/bitcodes/klee-out-0/test000001.path\" ../klee/examples/llvm-coreutils/bitcodes/echo.bc  --sym-arg 10\n"
     ]
    },
    {
     "name": "stderr",
     "output_type": "stream",
     "text": [
      "KLEE: NOTE: Using POSIX model: /home/igandhi/Documents/build/Debug+Asserts/lib/libkleeRuntimePOSIX.bca\n",
      "KLEE: NOTE: Using klee-uclibc : /home/igandhi/Documents/build/Debug+Asserts/lib/klee-uclibc.bca\n",
      "KLEE: output directory is \"/home/igandhi/Documents/profiler/../klee/examples/llvm-coreutils/bitcodes/klee-out-16\"\n",
      "KLEE: Using STP solver backend\n",
      "KLEE: WARNING: undefined reference to function: __ctype_get_mb_cur_max\n",
      "KLEE: WARNING: undefined reference to function: bindtextdomain\n",
      "KLEE: WARNING: undefined reference to function: gettext\n",
      "KLEE: WARNING: undefined reference to function: textdomain\n",
      "KLEE: WARNING: executable has module level assembly (ignoring)\n",
      "KLEE: WARNING ONCE: calling external: syscall(16, 0, 21505, 94888100877136) at klee/runtime/POSIX/fd.c:1007 10\n",
      "KLEE: WARNING ONCE: Alignment of memory from call \"malloc\" is not modelled. Using alignment of 8.\n",
      "KLEE: WARNING ONCE: calling __klee_posix_wrapped_main with extra arguments.\n",
      "KLEE: WARNING ONCE: Alignment of memory from call \"calloc\" is not modelled. Using alignment of 8.\n",
      "KLEE: WARNING ONCE: calling external: bindtextdomain(94888099852272, 94888100192096) at [no debug info]\n",
      "KLEE: WARNING ONCE: calling external: textdomain(94888099852272) at [no debug info]\n",
      "KLEE: WARNING ONCE: Alignment of memory from call \"realloc\" is not modelled. Using alignment of 8.\n",
      "KLEE: WARNING ONCE: calling close_stdout with extra arguments.\n",
      "\n",
      "KLEE: done: total instructions = 171128\n",
      "KLEE: done: completed paths = 1\n",
      "KLEE: done: generated tests = 1\n"
     ]
    },
    {
     "name": "stdout",
     "output_type": "stream",
     "text": [
      "Instructions,FullBranches,PartialBranches,NumBranches,UserTime,NumStates,MallocUsage,NumQueries,NumQueryConstructs,NumObjects,WallTime,CoveredInstructions,UncoveredInstructions,QueryTime,SolverTime,CexCacheTime,ForkTime,ResolveTime,QueryCexCacheMisses,QueryCexCacheHits,Breaks,Returns,Switchs,IndirectBrs,Invokes,Resumes,Unreachables,CleanupRets,CatchRets,CatchPads,CatchSwitchs,FNegs,Adds,FAdds,Subs,FSubs,Muls,FMuls,UDivs,SDivs,FDivs,URems,SRems,FRems,Ands,Ors,Xors,Allocas,Loads,Stores,AtomicCmpXchgs,AtomicRMWs,Fences,GetElementPtrs,Truncs,ZExts,SExts,FPTruncs,FPExts,FPToUIs,FPToSIs,UIToFPs,SIToFPs,IntToPtrs,PtrToInts,BitCasts,AddrSpaceCasts,ICmps,FCmps,PHIs,Selects,Calls,Shls,LShrs,AShrs,VAArgs,ExtractElements,InsertElements,ShuffleVectors,ExtractValues,InsertValues,LandingPads,CleanupPads, Cond\n",
      "171128,58,186,1406,732708.0,0,45913128,13,103,0,535585.0,3997,19399,161253,162356,161597,0,0,13,-1,23547,1066,1,0,0,0,0,0,0,0,0,0,8210,0,1252,0,79,0,4,0,0,1,0,0,128,16,15,5202,51631,34635,0,0,0,16427,580,5619,2471,0,0,0,0,0,0,2,108,142,0,12527,0,1261,1,6172,25,0,6,0,0,0,0,0,0,0,0(Sle 32       (SExt w32 (Read w8 0 arg00)))\n",
      "171128,58,186,1406,772175.0,0,45908520,13,103,0,582333.0,3997,19399,183449,184587,183897,0,0,13,-1,23547,1066,1,0,0,0,0,0,0,0,0,0,8210,0,1252,0,79,0,4,0,0,1,0,0,128,16,15,5202,51631,34635,0,0,0,16427,580,5619,2471,0,0,0,0,0,0,2,108,142,0,12527,0,1261,1,6172,25,0,6,0,0,0,0,0,0,0,0(Sle 32       (SExt w32 (Read w8 1 arg00)))\n",
      "171128,58,186,1406,810409.0,0,45913128,13,103,0,548183.0,3997,19399,178170,179163,178510,0,0,13,-1,23547,1066,1,0,0,0,0,0,0,0,0,0,8210,0,1252,0,79,0,4,0,0,1,0,0,128,16,15,5202,51631,34635,0,0,0,16427,580,5619,2471,0,0,0,0,0,0,2,108,142,0,12527,0,1261,1,6172,25,0,6,0,0,0,0,0,0,0,0(Sle 32       (SExt w32 (Read w8 2 arg00)))\n",
      "171128,58,186,1406,826597.0,0,45913128,13,103,0,539884.0,3997,19399,162635,163625,162984,0,0,13,-1,23547,1066,1,0,0,0,0,0,0,0,0,0,8210,0,1252,0,79,0,4,0,0,1,0,0,128,16,15,5202,51631,34635,0,0,0,16427,580,5619,2471,0,0,0,0,0,0,2,108,142,0,12527,0,1261,1,6172,25,0,6,0,0,0,0,0,0,0,0(Sle 32       (SExt w32 (Read w8 3 arg00)))\n",
      "171128,58,186,1406,858344.0,0,45908520,13,103,0,635975.0,3997,19399,187580,188586,187929,0,0,13,-1,23547,1066,1,0,0,0,0,0,0,0,0,0,8210,0,1252,0,79,0,4,0,0,1,0,0,128,16,15,5202,51631,34635,0,0,0,16427,580,5619,2471,0,0,0,0,0,0,2,108,142,0,12527,0,1261,1,6172,25,0,6,0,0,0,0,0,0,0,0(Sle 32       (SExt w32 (Read w8 4 arg00)))\n",
      "171128,58,186,1406,810665.0,0,45908520,13,103,0,550947.0,3997,19399,187861,188842,188188,0,0,13,-1,23547,1066,1,0,0,0,0,0,0,0,0,0,8210,0,1252,0,79,0,4,0,0,1,0,0,128,16,15,5202,51631,34635,0,0,0,16427,580,5619,2471,0,0,0,0,0,0,2,108,142,0,12527,0,1261,1,6172,25,0,6,0,0,0,0,0,0,0,0(Sle 32       (SExt w32 (Read w8 5 arg00)))\n",
      "171128,58,186,1406,648386.0,0,45910056,13,103,0,495560.0,3997,19399,189380,190983,189964,0,0,13,-1,23547,1066,1,0,0,0,0,0,0,0,0,0,8210,0,1252,0,79,0,4,0,0,1,0,0,128,16,15,5202,51631,34635,0,0,0,16427,580,5619,2471,0,0,0,0,0,0,2,108,142,0,12527,0,1261,1,6172,25,0,6,0,0,0,0,0,0,0,0(Sle 32       (SExt w32 (Read w8 6 arg00)))\n",
      "171128,58,186,1406,717255.0,0,45908520,13,103,0,581248.0,3997,19399,191527,192540,191874,0,0,13,-1,23547,1066,1,0,0,0,0,0,0,0,0,0,8210,0,1252,0,79,0,4,0,0,1,0,0,128,16,15,5202,51631,34635,0,0,0,16427,580,5619,2471,0,0,0,0,0,0,2,108,142,0,12527,0,1261,1,6172,25,0,6,0,0,0,0,0,0,0,0(Sle 32       (SExt w32 (Read w8 7 arg00)))\n",
      "171128,58,186,1406,819861.0,0,45909096,14,110,0,599021.0,3997,19399,191856,193012,192251,0,0,14,-1,23547,1066,1,0,0,0,0,0,0,0,0,0,8210,0,1252,0,79,0,4,0,0,1,0,0,128,16,15,5202,51631,34635,0,0,0,16427,580,5619,2471,0,0,0,0,0,0,2,108,142,0,12527,0,1261,1,6172,25,0,6,0,0,0,0,0,0,0,0(Sle 32       (SExt w32 (Read w8 8 arg00)))\n",
      "171128,58,186,1406,798654.0,0,45909096,14,110,0,560729.0,3997,19399,186520,187683,186912,0,0,14,-1,23547,1066,1,0,0,0,0,0,0,0,0,0,8210,0,1252,0,79,0,4,0,0,1,0,0,128,16,15,5202,51631,34635,0,0,0,16427,580,5619,2471,0,0,0,0,0,0,2,108,142,0,12527,0,1261,1,6172,25,0,6,0,0,0,0,0,0,0,0(Sle 32       (SExt w32 (Read w8 9 arg00)))\n",
      "171128,58,186,1406,739453.0,0,45910632,14,110,0,545387.0,3997,19399,204215,205352,204614,0,0,14,-1,23547,1066,1,0,0,0,0,0,0,0,0,0,8210,0,1252,0,79,0,4,0,0,1,0,0,128,16,15,5202,51631,34635,0,0,0,16427,580,5619,2471,0,0,0,0,0,0,2,108,142,0,12527,0,1261,1,6172,25,0,6,0,0,0,0,0,0,0,0(Eq 45 (Read w8 0 arg00))\n",
      "171128,58,186,1406,858482.0,0,45913040,13,99,0,561342.0,3997,19399,182403,183475,182768,0,0,13,-1,23547,1066,1,0,0,0,0,0,0,0,0,0,8210,0,1252,0,79,0,4,0,0,1,0,0,128,16,15,5202,51631,34635,0,0,0,16427,580,5619,2471,0,0,0,0,0,0,2,108,142,0,12527,0,1261,1,6172,25,0,6,0,0,0,0,0,0,0,0(Eq 45 (Read w8 0 arg00))\n",
      "171128,58,186,1406,686849.0,0,45909096,14,110,0,500606.0,3997,19399,209064,210158,209441,0,0,14,-1,23547,1066,1,0,0,0,0,0,0,0,0,0,8210,0,1252,0,79,0,4,0,0,1,0,0,128,16,15,5202,51631,34635,0,0,0,16427,580,5619,2471,0,0,0,0,0,0,2,108,142,0,12527,0,1261,1,6172,25,0,6,0,0,0,0,0,0,0,0(Eq 45 (Read w8 0 arg00))\n",
      "171128,58,186,1406,686212.0,0,45913704,14,110,0,515699.0,3997,19399,196536,197562,196900,0,0,14,-1,23547,1066,1,0,0,0,0,0,0,0,0,0,8210,0,1252,0,79,0,4,0,0,1,0,0,128,16,15,5202,51631,34635,0,0,0,16427,580,5619,2471,0,0,0,0,0,0,2,108,142,0,12527,0,1261,1,6172,25,0,6,0,0,0,0,0,0,0,0(Eq 45 (Read w8 0 arg00))\n",
      "171128,58,186,1406,799498.0,0,45913704,14,110,0,485010.0,3997,19399,179899,180964,180264,0,0,14,-1,23547,1066,1,0,0,0,0,0,0,0,0,0,8210,0,1252,0,79,0,4,0,0,1,0,0,128,16,15,5202,51631,34635,0,0,0,16427,580,5619,2471,0,0,0,0,0,0,2,108,142,0,12527,0,1261,1,6172,25,0,6,0,0,0,0,0,0,0,0(Eq 45 (Read w8 0 arg00))\n",
      "171128,58,186,1406,773991.0,0,45912168,14,110,0,560377.0,3997,19399,198937,200096,199333,0,0,14,-1,23547,1066,1,0,0,0,0,0,0,0,0,0,8210,0,1252,0,79,0,4,0,0,1,0,0,128,16,15,5202,51631,34635,0,0,0,16427,580,5619,2471,0,0,0,0,0,0,2,108,142,0,12527,0,1261,1,6172,25,0,6,0,0,0,0,0,0,0,0(Eq false      (Eq 0 (Read w8 0 arg00)))\n"
     ]
    }
   ],
   "source": [
    "let main () =\n",
    "    let klee_command =\n",
    "        String.concat ~sep:\" \" @@ [executable; flags_to_str output_flags; directory ^ bitcode; \" --sym-arg 10\"]\n",
    "    in\n",
    "    let initial_run = (run klee_command Keep : string list) in\n",
    "    let output_dir = get_output_dir initial_run in\n",
    "    let branches = get_branches initial_run in\n",
    "    print_str_list initial_run;\n",
    "    let run_branch (p, c) : string * string =\n",
    "        let klee_command =\n",
    "        String.concat ~sep:\" \"\n",
    "        @@ [ executable; flags_to_str replay_flags; \"--replace-condition=\" ^ string_of_int p; \n",
    "        \"--replay-path=\\\"\" ^ output_dir ^ \"/test000001.path\\\"\"; directory ^ bitcode; \" --sym-arg 10\" ]\n",
    "        in\n",
    "        print_endline klee_command;\n",
    "        (run klee_command Print : string list) |> ignore;\n",
    "        get_csv_stats directory c \n",
    "    in\n",
    "    (* header strings, value strings *)\n",
    "    let (h_str , v_str) = Caml.List.split @@ List.map branches run_branch in\n",
    "    print_endline @@ Caml.List.hd h_str;\n",
    "    print_str_list v_str;\n",
    "    clear_subdirs directory;\n",
    "    write_to_log h_str v_str\n",
    "\n",
    "let () = main ()"
   ]
  },
  {
   "cell_type": "code",
   "execution_count": null,
   "metadata": {},
   "outputs": [],
   "source": []
  }
 ],
 "metadata": {
  "kernelspec": {
   "display_name": "OCaml 4.09.0",
   "language": "OCaml",
   "name": "ocaml-jupyter"
  },
  "language_info": {
   "codemirror_mode": "text/x-ocaml",
   "file_extension": ".ml",
   "mimetype": "text/x-ocaml",
   "name": "OCaml",
   "nbconverter_exporter": null,
   "pygments_lexer": "OCaml",
   "version": "4.09.0"
  }
 },
 "nbformat": 4,
 "nbformat_minor": 2
}
