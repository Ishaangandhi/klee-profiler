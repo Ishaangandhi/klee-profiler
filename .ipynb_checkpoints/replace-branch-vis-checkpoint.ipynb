{
 "cells": [
  {
   "cell_type": "code",
   "execution_count": 2,
   "metadata": {},
   "outputs": [],
   "source": [
    "import pandas as pd\n",
    "import  matplotlib.pyplot as plt\n",
    "import seaborn as sn\n",
    "import scipy"
   ]
  },
  {
   "cell_type": "code",
   "execution_count": 3,
   "metadata": {},
   "outputs": [],
   "source": [
    "runstats_df = pd.read_csv(\"logs/log24.csv\")"
   ]
  },
  {
   "cell_type": "code",
   "execution_count": 6,
   "metadata": {
    "scrolled": true
   },
   "outputs": [
    {
     "data": {
      "text/html": [
       "<div>\n",
       "<style scoped>\n",
       "    .dataframe tbody tr th:only-of-type {\n",
       "        vertical-align: middle;\n",
       "    }\n",
       "\n",
       "    .dataframe tbody tr th {\n",
       "        vertical-align: top;\n",
       "    }\n",
       "\n",
       "    .dataframe thead th {\n",
       "        text-align: right;\n",
       "    }\n",
       "</style>\n",
       "<table border=\"1\" class=\"dataframe\">\n",
       "  <thead>\n",
       "    <tr style=\"text-align: right;\">\n",
       "      <th></th>\n",
       "      <th>WallTime</th>\n",
       "      <th>Cond</th>\n",
       "    </tr>\n",
       "  </thead>\n",
       "  <tbody>\n",
       "    <tr>\n",
       "      <th>0</th>\n",
       "      <td>550893.0</td>\n",
       "      <td>(Sle 32       (SExt w32 (Read w8 0 arg00)))</td>\n",
       "    </tr>\n",
       "    <tr>\n",
       "      <th>1</th>\n",
       "      <td>551883.0</td>\n",
       "      <td>(Sle 32       (SExt w32 (Read w8 1 arg00)))</td>\n",
       "    </tr>\n",
       "    <tr>\n",
       "      <th>2</th>\n",
       "      <td>497456.0</td>\n",
       "      <td>(Sle 32       (SExt w32 (Read w8 2 arg00)))</td>\n",
       "    </tr>\n",
       "    <tr>\n",
       "      <th>3</th>\n",
       "      <td>569708.0</td>\n",
       "      <td>(Sle 32       (SExt w32 (Read w8 3 arg00)))</td>\n",
       "    </tr>\n",
       "    <tr>\n",
       "      <th>4</th>\n",
       "      <td>554339.0</td>\n",
       "      <td>(Sle 32       (SExt w32 (Read w8 4 arg00)))</td>\n",
       "    </tr>\n",
       "    <tr>\n",
       "      <th>5</th>\n",
       "      <td>499017.0</td>\n",
       "      <td>(Sle 32       (SExt w32 (Read w8 5 arg00)))</td>\n",
       "    </tr>\n",
       "    <tr>\n",
       "      <th>6</th>\n",
       "      <td>555285.0</td>\n",
       "      <td>(Sle 32       (SExt w32 (Read w8 6 arg00)))</td>\n",
       "    </tr>\n",
       "    <tr>\n",
       "      <th>7</th>\n",
       "      <td>476171.0</td>\n",
       "      <td>(Sle 32       (SExt w32 (Read w8 7 arg00)))</td>\n",
       "    </tr>\n",
       "    <tr>\n",
       "      <th>8</th>\n",
       "      <td>576959.0</td>\n",
       "      <td>(Sle 32       (SExt w32 (Read w8 8 arg00)))</td>\n",
       "    </tr>\n",
       "    <tr>\n",
       "      <th>9</th>\n",
       "      <td>575913.0</td>\n",
       "      <td>(Sle 32       (SExt w32 (Read w8 9 arg00)))</td>\n",
       "    </tr>\n",
       "    <tr>\n",
       "      <th>10</th>\n",
       "      <td>562490.0</td>\n",
       "      <td>(Eq 45 (Read w8 0 arg00))</td>\n",
       "    </tr>\n",
       "    <tr>\n",
       "      <th>11</th>\n",
       "      <td>544788.0</td>\n",
       "      <td>(Eq 45 (Read w8 0 arg00))</td>\n",
       "    </tr>\n",
       "    <tr>\n",
       "      <th>12</th>\n",
       "      <td>570174.0</td>\n",
       "      <td>(Eq 45 (Read w8 0 arg00))</td>\n",
       "    </tr>\n",
       "    <tr>\n",
       "      <th>13</th>\n",
       "      <td>570905.0</td>\n",
       "      <td>(Eq 45 (Read w8 0 arg00))</td>\n",
       "    </tr>\n",
       "    <tr>\n",
       "      <th>14</th>\n",
       "      <td>557236.0</td>\n",
       "      <td>(Eq 45 (Read w8 0 arg00))</td>\n",
       "    </tr>\n",
       "    <tr>\n",
       "      <th>15</th>\n",
       "      <td>579070.0</td>\n",
       "      <td>(Eq false      (Eq 0 (Read w8 0 arg00)))</td>\n",
       "    </tr>\n",
       "  </tbody>\n",
       "</table>\n",
       "</div>"
      ],
      "text/plain": [
       "    WallTime                                         Cond\n",
       "0   550893.0  (Sle 32       (SExt w32 (Read w8 0 arg00)))\n",
       "1   551883.0  (Sle 32       (SExt w32 (Read w8 1 arg00)))\n",
       "2   497456.0  (Sle 32       (SExt w32 (Read w8 2 arg00)))\n",
       "3   569708.0  (Sle 32       (SExt w32 (Read w8 3 arg00)))\n",
       "4   554339.0  (Sle 32       (SExt w32 (Read w8 4 arg00)))\n",
       "5   499017.0  (Sle 32       (SExt w32 (Read w8 5 arg00)))\n",
       "6   555285.0  (Sle 32       (SExt w32 (Read w8 6 arg00)))\n",
       "7   476171.0  (Sle 32       (SExt w32 (Read w8 7 arg00)))\n",
       "8   576959.0  (Sle 32       (SExt w32 (Read w8 8 arg00)))\n",
       "9   575913.0  (Sle 32       (SExt w32 (Read w8 9 arg00)))\n",
       "10  562490.0                    (Eq 45 (Read w8 0 arg00))\n",
       "11  544788.0                    (Eq 45 (Read w8 0 arg00))\n",
       "12  570174.0                    (Eq 45 (Read w8 0 arg00))\n",
       "13  570905.0                    (Eq 45 (Read w8 0 arg00))\n",
       "14  557236.0                    (Eq 45 (Read w8 0 arg00))\n",
       "15  579070.0     (Eq false      (Eq 0 (Read w8 0 arg00)))"
      ]
     },
     "execution_count": 6,
     "metadata": {},
     "output_type": "execute_result"
    }
   ],
   "source": [
    "runstats_df[['WallTime', 'Cond']]"
   ]
  },
  {
   "cell_type": "code",
   "execution_count": null,
   "metadata": {},
   "outputs": [],
   "source": [
    "runstats_df = pd.read_csv(\"logs/log25.csv\")\n",
    "runstats_df[['WallTime', 'Cond']]"
   ]
  },
  {
   "cell_type": "code",
   "execution_count": null,
   "metadata": {},
   "outputs": [],
   "source": []
  }
 ],
 "metadata": {
  "kernelspec": {
   "display_name": "Python 3",
   "language": "python",
   "name": "python3"
  },
  "language_info": {
   "codemirror_mode": {
    "name": "ipython",
    "version": 3
   },
   "file_extension": ".py",
   "mimetype": "text/x-python",
   "name": "python",
   "nbconvert_exporter": "python",
   "pygments_lexer": "ipython3",
   "version": "3.6.9"
  }
 },
 "nbformat": 4,
 "nbformat_minor": 2
}
