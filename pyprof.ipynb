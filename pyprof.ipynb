{
 "cells": [
  {
   "cell_type": "code",
   "execution_count": 2,
   "metadata": {},
   "outputs": [],
   "source": [
    "executable = 'klee'\n",
    "klee_flags = ['search=random-path', 'no-forking', 'track-instruction-time']\n",
    "directory = '../klee/examples/loop'\n",
    "bitcode = 'loop.bc'\n",
    "# number of paths to explore with klee\n",
    "path_n = 10"
   ]
  },
  {
   "cell_type": "code",
   "execution_count": 5,
   "metadata": {},
   "outputs": [],
   "source": [
    "import subprocess\n",
    "\n",
    "def flags_to_str(flags):\n",
    "    result = ''\n",
    "    for flag in flags:\n",
    "        result += '--' + flag + ' '\n",
    "    return result\n",
    "\n",
    "# run runs the given command, and returns each line of output of standard out\n",
    "def run(cmd, suppress):\n",
    "    if (suppress):\n",
    "        cmd += '2> /dev/null'\n",
    "    out = subprocess.Popen([cmd], \n",
    "           stdout = subprocess.PIPE, \n",
    "           stderr = subprocess.STDOUT)  \n",
    "    stdout, stderr = out.communicate()\n",
    "    return stdout\n"
   ]
  },
  {
   "cell_type": "code",
   "execution_count": null,
   "metadata": {},
   "outputs": [],
   "source": []
  }
 ],
 "metadata": {
  "kernelspec": {
   "display_name": "Python 2",
   "language": "python",
   "name": "python2"
  },
  "language_info": {
   "codemirror_mode": {
    "name": "ipython",
    "version": 2
   },
   "file_extension": ".py",
   "mimetype": "text/x-python",
   "name": "python",
   "nbconvert_exporter": "python",
   "pygments_lexer": "ipython2",
   "version": "2.7.17"
  }
 },
 "nbformat": 4,
 "nbformat_minor": 2
}
