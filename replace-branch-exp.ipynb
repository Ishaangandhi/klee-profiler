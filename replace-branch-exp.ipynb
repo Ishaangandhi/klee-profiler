{
 "cells": [
  {
   "cell_type": "code",
   "execution_count": 7,
   "metadata": {},
   "outputs": [],
   "source": [
    "#thread;;\n",
    "\n",
    "#require \"core\";;\n",
    "#require \"core.syntax\";;\n",
    "#require \"stdio\";;\n",
    "\n",
    "open Printf;;\n",
    "open Stdio;;\n",
    "open Core;;"
   ]
  },
  {
   "cell_type": "code",
   "execution_count": 17,
   "metadata": {},
   "outputs": [
    {
     "data": {
      "text/plain": [
       "val executable : string = \"/home/igandhi/Documents/build/bin/klee\"\n"
      ]
     },
     "execution_count": 17,
     "metadata": {},
     "output_type": "execute_result"
    },
    {
     "data": {
      "text/plain": [
       "val klee_stats : string = \"/home/igandhi/Documents/build/bin/klee-stats\"\n"
      ]
     },
     "execution_count": 17,
     "metadata": {},
     "output_type": "execute_result"
    },
    {
     "data": {
      "text/plain": [
       "val output_flags : string list =\n",
       "  [\"search=random-path\"; \"no-forking\"; \"track-instruction-time\";\n",
       "   \"libc=uclibc\"; \"posix-runtime\"; \"write-paths\"; \"output-conditions\"]\n"
      ]
     },
     "execution_count": 17,
     "metadata": {},
     "output_type": "execute_result"
    },
    {
     "data": {
      "text/plain": [
       "val replay_flags : string list =\n",
       "  [\"search=random-path\"; \"no-forking\"; \"track-instruction-time\";\n",
       "   \"libc=uclibc\"; \"posix-runtime\"]\n"
      ]
     },
     "execution_count": 17,
     "metadata": {},
     "output_type": "execute_result"
    },
    {
     "data": {
      "text/plain": [
       "val stats_flags : string list = [\"print-all\"; \"to-csv\"]\n"
      ]
     },
     "execution_count": 17,
     "metadata": {},
     "output_type": "execute_result"
    },
    {
     "data": {
      "text/plain": [
       "val directory : string = \"../klee/examples/llvm-coreutils/bitcodes/\"\n"
      ]
     },
     "execution_count": 17,
     "metadata": {},
     "output_type": "execute_result"
    },
    {
     "data": {
      "text/plain": [
       "val bitcode : string = \"ls.bc\"\n"
      ]
     },
     "execution_count": 17,
     "metadata": {},
     "output_type": "execute_result"
    },
    {
     "data": {
      "text/plain": [
       "val bitcodes : string list =\n",
       "  [\"ls.bc\"; \"cat.bc\"; \"env.bc\"; \"split.bc\"; \"tee.bc\"]\n"
      ]
     },
     "execution_count": 17,
     "metadata": {},
     "output_type": "execute_result"
    },
    {
     "data": {
      "text/plain": [
       "val path_n : int = 1\n"
      ]
     },
     "execution_count": 17,
     "metadata": {},
     "output_type": "execute_result"
    }
   ],
   "source": [
    "let executable = \"/home/igandhi/Documents/build/bin/klee\"\n",
    "\n",
    "let klee_stats = \"/home/igandhi/Documents/build/bin/klee-stats\"\n",
    "\n",
    "let output_flags =\n",
    "  [ \n",
    "  \"search=random-path\"; \"no-forking\"; \"track-instruction-time\"; \n",
    "  \"libc=uclibc\"; \"posix-runtime\"; \"write-paths\"; \"output-conditions\"\n",
    "  ]\n",
    "  \n",
    "let replay_flags =\n",
    "  [ \n",
    "  \"search=random-path\"; \"no-forking\"; \"track-instruction-time\"; \n",
    "  \"libc=uclibc\"; \"posix-runtime\"\n",
    "  ]\n",
    "\n",
    "let stats_flags = [ \"print-all\"; \"to-csv\" ]\n",
    "\n",
    "let directory = \"../klee/examples/llvm-coreutils/bitcodes/\"\n",
    "\n",
    "let bitcode = \"ls.bc\"\n",
    "\n",
    "let bitcodes = [\"ls.bc\" ; \"cat.bc\" ; \"env.bc\" ; \"split.bc\" ; \"tee.bc\" ]\n",
    "\n",
    "(* number of paths to explore with klee *)\n",
    "let path_n = 1"
   ]
  },
  {
   "cell_type": "code",
   "execution_count": 15,
   "metadata": {},
   "outputs": [
    {
     "data": {
      "text/plain": [
       "exception FileError of string\n"
      ]
     },
     "execution_count": 15,
     "metadata": {},
     "output_type": "execute_result"
    },
    {
     "data": {
      "text/plain": [
       "type stderrOutput = Print | Ignore | Keep\n"
      ]
     },
     "execution_count": 15,
     "metadata": {},
     "output_type": "execute_result"
    },
    {
     "data": {
      "text/plain": [
       "val flags_to_str : string list -> string = <fun>\n"
      ]
     },
     "execution_count": 15,
     "metadata": {},
     "output_type": "execute_result"
    },
    {
     "data": {
      "text/plain": [
       "val run : string -> stderrOutput -> string list = <fun>\n"
      ]
     },
     "execution_count": 15,
     "metadata": {},
     "output_type": "execute_result"
    },
    {
     "data": {
      "text/plain": [
       "val lowest_unused : unit -> int = <fun>\n"
      ]
     },
     "execution_count": 15,
     "metadata": {},
     "output_type": "execute_result"
    },
    {
     "data": {
      "text/plain": [
       "val write_to_log : string list -> string list -> string -> unit = <fun>\n"
      ]
     },
     "execution_count": 15,
     "metadata": {},
     "output_type": "execute_result"
    },
    {
     "data": {
      "text/plain": [
       "val get_csv_stats : string -> string -> string * string = <fun>\n"
      ]
     },
     "execution_count": 15,
     "metadata": {},
     "output_type": "execute_result"
    },
    {
     "data": {
      "text/plain": [
       "val print_str_list : string list -> unit = <fun>\n"
      ]
     },
     "execution_count": 15,
     "metadata": {},
     "output_type": "execute_result"
    }
   ],
   "source": [
    "exception FileError of string\n",
    "\n",
    "type stderrOutput = \n",
    "  | Print\n",
    "  | Ignore\n",
    "  | Keep\n",
    "\n",
    "let flags_to_str (flags : string list) : string =\n",
    "  String.concat ~sep:\" \" @@ List.map flags (fun x -> \"--\" ^ x) \n",
    "\n",
    "(** run runs the given command, and returns each line of output of standard out*)\n",
    "let run (cmd : string) (suppress : stderrOutput) : string list =\n",
    "  let cmd = match suppress with\n",
    "  | Print -> cmd\n",
    "  | Ignore -> cmd ^ \" 2> /dev/null\"\n",
    "  | Keep -> cmd ^ \" 2>&1\"\n",
    "  in\n",
    "  let inp = Unix.open_process_in @@ cmd in\n",
    "  let r = In_channel.input_lines inp in\n",
    "  In_channel.close inp;\n",
    "  r\n",
    "  \n",
    "(* Outputs are logged as log1.csv, log2.csv... lowest_unused finds the lowest unused log number*)\n",
    "let lowest_unused () : int = \n",
    "    let filenames = run (\"ls logs/\") Print in\n",
    "    let num_to_name n = \"log\" ^ string_of_int n ^ \".csv\" in\n",
    "    let is_unused n = not @@ List.mem filenames (num_to_name n) (String.equal) in\n",
    "    match List.find (List.init 100 Fun.id) is_unused with\n",
    "    | Some unused -> unused\n",
    "    | None -> raise (FileError \"All file numbers used\")\n",
    "\n",
    "let write_to_log (headers : string list) (values : string list) (bitcode : string) : unit =\n",
    "  let i = lowest_unused () in\n",
    "  let oc = Out_channel.create ~append:true @@ \"logs/log\" ^ string_of_int i ^ \".csv\" in\n",
    "  fprintf oc \"#%s\\n %s\\n\" bitcode (Option.value (List.hd headers) ~default:\"No headers\");\n",
    "  List.iter values (fprintf oc \"%s\\n\");\n",
    "  Out_channel.close oc\n",
    "\n",
    "(** get_csv_stats returns the results of \"klee-stats\" as a tuple of (header, value) *)\n",
    "let get_csv_stats (directory : string) (cond : string) : string * string =\n",
    "  let command =\n",
    "    klee_stats ^ \" \" ^ directory ^ \"klee-last \" ^ flags_to_str stats_flags\n",
    "  in\n",
    "  let csv_table = run command Print in\n",
    "  ((Option.value (List.hd csv_table) ~default:\"No header\") ^ \",Cond\", \n",
    "  (Option.value (List.hd @@ List.rev csv_table) ~default:\"No rows\") ^ \",\" ^ cond)\n",
    "  \n",
    "let print_str_list = fun l -> List.iter l print_endline"
   ]
  },
  {
   "cell_type": "code",
   "execution_count": 10,
   "metadata": {},
   "outputs": [
    {
     "data": {
      "text/plain": [
       "val clear_subdirs : string -> unit = <fun>\n"
      ]
     },
     "execution_count": 10,
     "metadata": {},
     "output_type": "execute_result"
    }
   ],
   "source": [
    "let clear_subdirs (directory : string) : unit = ( run (\"rm -rf \" ^ directory ^ \"*/\") Print : string list) |> ignore"
   ]
  },
  {
   "cell_type": "code",
   "execution_count": 11,
   "metadata": {},
   "outputs": [
    {
     "data": {
      "text/plain": [
       "val get_output_dir : string list -> string = <fun>\n"
      ]
     },
     "execution_count": 11,
     "metadata": {},
     "output_type": "execute_result"
    },
    {
     "data": {
      "text/plain": [
       "val get_branches : string list -> (int * string) list = <fun>\n"
      ]
     },
     "execution_count": 11,
     "metadata": {},
     "output_type": "execute_result"
    }
   ],
   "source": [
    "(*  Given KLEE output, returns a string of where the output is located *)\n",
    "let get_output_dir (klee_output : string list) : string = \n",
    "  let output_str = String.concat ~sep:\"\\n\" klee_output in\n",
    "  let r = Str.regexp \"KLEE: output directory is \\\"\\\\(.*\\\\)\\\"\" in\n",
    "  Str.search_forward r output_str 0 |> ignore;\n",
    "  Str.matched_group 1 output_str\n",
    " \n",
    "(*  Given KLEE output, returns a list of replayposition, condition pairs *)\n",
    "let get_branches (klee_output : string list) : (int * string) list =\n",
    "  let output_str = String.concat ~sep:\" \" klee_output in\n",
    "  let r = Str.regexp \"forking on condition: \\\\([^,]+\\\\), line number: [0-9]+, position \\\\([0-9]+\\\\)\" in\n",
    "  \n",
    "  let rec match_regs start =\n",
    "    try\n",
    "    let next_start = Str.search_forward r output_str start in\n",
    "    let c = Str.matched_group 1 output_str in\n",
    "    let p = Str.matched_group 2 output_str in\n",
    "    (int_of_string p, c) :: match_regs (next_start + 1)\n",
    "    with _ -> []\n",
    "  in\n",
    "  match_regs 0"
   ]
  },
  {
   "cell_type": "code",
   "execution_count": 18,
   "metadata": {
    "scrolled": true
   },
   "outputs": [
    {
     "data": {
      "text/plain": [
       "val main : string -> unit = <fun>\n"
      ]
     },
     "execution_count": 18,
     "metadata": {},
     "output_type": "execute_result"
    },
    {
     "name": "stdout",
     "output_type": "stream",
     "text": [
      "KLEE: NOTE: Using POSIX model: /home/igandhi/Documents/build/Debug+Asserts/lib/libkleeRuntimePOSIX.bca\n",
      "KLEE: NOTE: Using klee-uclibc : /home/igandhi/Documents/build/Debug+Asserts/lib/klee-uclibc.bca\n",
      "KLEE: output directory is \"/home/igandhi/Documents/profiler/../klee/examples/llvm-coreutils/bitcodes/klee-out-0\"\n",
      "KLEE: Using STP solver backend\n",
      "KLEE: WARNING: undefined reference to function: __ctype_get_mb_cur_max\n",
      "KLEE: WARNING: undefined reference to function: bindtextdomain\n",
      "KLEE: WARNING: undefined reference to function: cap_free\n",
      "KLEE: WARNING: undefined reference to function: cap_get_file\n",
      "KLEE: WARNING: undefined reference to function: cap_to_text\n",
      "KLEE: WARNING: undefined reference to function: dcgettext\n",
      "KLEE: WARNING: undefined reference to function: gettext\n",
      "KLEE: WARNING: undefined reference to function: textdomain\n",
      "KLEE: WARNING: executable has module level assembly (ignoring)\n",
      "KLEE: WARNING ONCE: calling external: syscall(16, 0, 21505, 94630264991824) at klee/runtime/POSIX/fd.c:1007 10\n",
      "KLEE: WARNING ONCE: Alignment of memory from call \"malloc\" is not modelled. Using alignment of 8.\n",
      "KLEE: WARNING ONCE: skipping fork (fork disabled globally)\n",
      "KLEE: WARNING ONCE: calling __klee_posix_wrapped_main with extra arguments.\n",
      "KLEE: WARNING ONCE: Alignment of memory from call \"calloc\" is not modelled. Using alignment of 8.\n",
      "KLEE: WARNING ONCE: calling external: bindtextdomain(94630263834848, 94630264125728) at [no debug info]\n",
      "KLEE: WARNING ONCE: calling external: textdomain(94630263834848) at [no debug info]\n",
      "KLEE: WARNING ONCE: Alignment of memory from call \"realloc\" is not modelled. Using alignment of 8.\n",
      "KLEE: WARNING ONCE: _setjmp: ignoring\n",
      "KLEE: WARNING ONCE: calling external: __ctype_get_mb_cur_max() at [no debug info]\n",
      "logs\n",
      "profiler.ipynb\n",
      "pyprof.ipynb\n",
      "replace-branch-exp.ipynb\n",
      "replace-branch-vis.ipynb\n",
      "vis.ipynb\n",
      "KLEE: WARNING ONCE: calling close_stdout with extra arguments.\n",
      "\n",
      "KLEE: done: total instructions = 1238356\n",
      "KLEE: done: completed paths = 1\n",
      "KLEE: done: generated tests = 1\n",
      "forking on condition: (Sle 32\n",
      "      (SExt w32 (Read w8 0 arg00))), line number: 50, position 845\n",
      "forking on condition: (Sle 32\n",
      "      (SExt w32 (Read w8 1 arg00))), line number: 50, position 847\n",
      "forking on condition: (Sle 32\n",
      "      (SExt w32 (Read w8 2 arg00))), line number: 50, position 849\n",
      "forking on condition: (Sle 32\n",
      "      (SExt w32 (Read w8 3 arg00))), line number: 50, position 851\n",
      "forking on condition: (Sle 32\n",
      "      (SExt w32 (Read w8 4 arg00))), line number: 50, position 853\n",
      "forking on condition: (Sle 32\n",
      "      (SExt w32 (Read w8 5 arg00))), line number: 50, position 855\n",
      "forking on condition: (Sle 32\n",
      "      (SExt w32 (Read w8 6 arg00))), line number: 50, position 857\n",
      "forking on condition: (Sle 32\n",
      "      (SExt w32 (Read w8 7 arg00))), line number: 50, position 859\n",
      "forking on condition: (Sle 32\n",
      "      (SExt w32 (Read w8 8 arg00))), line number: 50, position 861\n",
      "forking on condition: (Sle 32\n",
      "      (SExt w32 (Read w8 9 arg00))), line number: 50, position 863\n",
      "forking on condition: (Eq false\n",
      "     (Eq 45 (Read w8 0 arg00))), line number: 478, position 13178\n",
      "forking on condition: (Eq 0 (Read w8 1 arg00)), line number: 478, position 13179\n",
      "forking on condition: (Eq 45 (Read w8 0 arg00)), line number: 35, position 13181\n",
      "forking on condition: (Eq false\n",
      "     (Eq 0 (Read w8 0 arg00))), line number: 34, position 13182\n",
      "forking on condition: (Eq 45 (Read w8 1 arg00)), line number: 35, position 13183\n",
      "forking on condition: (Eq false\n",
      "     (Eq 0 (Read w8 1 arg00))), line number: 34, position 13184\n",
      "forking on condition: (Eq 0 (Read w8 2 arg00)), line number: 35, position 13185\n",
      "forking on condition: (Eq false\n",
      "     (Eq 0 (Read w8 2 arg00))), line number: 34, position 13186\n",
      "forking on condition: (Eq false\n",
      "     (Eq 0 (Read w8 2 arg00))), line number: 488, position 13187\n",
      "/home/igandhi/Documents/build/bin/klee --search=random-path --no-forking --track-instruction-time --libc=uclibc --posix-runtime --replace-condition=0 --replay-path=\"/home/igandhi/Documents/profiler/../klee/examples/llvm-coreutils/bitcodes/klee-out-0/test000001.path\" ../klee/examples/llvm-coreutils/bitcodes/ls.bc  --sym-arg 10\n"
     ]
    },
    {
     "name": "stderr",
     "output_type": "stream",
     "text": [
      "KLEE: NOTE: Using POSIX model: /home/igandhi/Documents/build/Debug+Asserts/lib/libkleeRuntimePOSIX.bca\n",
      "KLEE: NOTE: Using klee-uclibc : /home/igandhi/Documents/build/Debug+Asserts/lib/klee-uclibc.bca\n",
      "KLEE: output directory is \"/home/igandhi/Documents/profiler/../klee/examples/llvm-coreutils/bitcodes/klee-out-1\"\n",
      "KLEE: Using STP solver backend\n",
      "KLEE: WARNING: undefined reference to function: __ctype_get_mb_cur_max\n",
      "KLEE: WARNING: undefined reference to function: bindtextdomain\n",
      "KLEE: WARNING: undefined reference to function: cap_free\n",
      "KLEE: WARNING: undefined reference to function: cap_get_file\n",
      "KLEE: WARNING: undefined reference to function: cap_to_text\n",
      "KLEE: WARNING: undefined reference to function: dcgettext\n",
      "KLEE: WARNING: undefined reference to function: gettext\n",
      "KLEE: WARNING: undefined reference to function: textdomain\n",
      "KLEE: WARNING: executable has module level assembly (ignoring)\n",
      "KLEE: WARNING ONCE: calling external: syscall(16, 0, 21505, 94371642659136) at klee/runtime/POSIX/fd.c:1007 10\n",
      "KLEE: WARNING ONCE: Alignment of memory from call \"malloc\" is not modelled. Using alignment of 8.\n",
      "KLEE: WARNING ONCE: calling __klee_posix_wrapped_main with extra arguments.\n",
      "KLEE: WARNING ONCE: Alignment of memory from call \"calloc\" is not modelled. Using alignment of 8.\n",
      "KLEE: WARNING ONCE: calling external: bindtextdomain(94371641501920, 94371641809184) at [no debug info]\n",
      "KLEE: WARNING ONCE: calling external: textdomain(94371641501920) at [no debug info]\n",
      "KLEE: WARNING ONCE: Alignment of memory from call \"realloc\" is not modelled. Using alignment of 8.\n",
      "KLEE: WARNING ONCE: _setjmp: ignoring\n",
      "KLEE: WARNING ONCE: calling external: __ctype_get_mb_cur_max() at [no debug info]\n",
      "KLEE: WARNING ONCE: calling close_stdout with extra arguments.\n",
      "\n",
      "KLEE: done: total instructions = 1238356\n",
      "KLEE: done: completed paths = 1\n",
      "KLEE: done: generated tests = 1\n"
     ]
    },
    {
     "name": "stdout",
     "output_type": "stream",
     "text": [
      "/home/igandhi/Documents/build/bin/klee --search=random-path --no-forking --track-instruction-time --libc=uclibc --posix-runtime --replace-condition=845 --replay-path=\"/home/igandhi/Documents/profiler/../klee/examples/llvm-coreutils/bitcodes/klee-out-0/test000001.path\" ../klee/examples/llvm-coreutils/bitcodes/ls.bc  --sym-arg 10\n"
     ]
    },
    {
     "name": "stderr",
     "output_type": "stream",
     "text": [
      "KLEE: NOTE: Using POSIX model: /home/igandhi/Documents/build/Debug+Asserts/lib/libkleeRuntimePOSIX.bca\n",
      "KLEE: NOTE: Using klee-uclibc : /home/igandhi/Documents/build/Debug+Asserts/lib/klee-uclibc.bca\n",
      "KLEE: output directory is \"/home/igandhi/Documents/profiler/../klee/examples/llvm-coreutils/bitcodes/klee-out-2\"\n",
      "KLEE: Using STP solver backend\n",
      "KLEE: WARNING: undefined reference to function: __ctype_get_mb_cur_max\n",
      "KLEE: WARNING: undefined reference to function: bindtextdomain\n",
      "KLEE: WARNING: undefined reference to function: cap_free\n",
      "KLEE: WARNING: undefined reference to function: cap_get_file\n",
      "KLEE: WARNING: undefined reference to function: cap_to_text\n",
      "KLEE: WARNING: undefined reference to function: dcgettext\n",
      "KLEE: WARNING: undefined reference to function: gettext\n",
      "KLEE: WARNING: undefined reference to function: textdomain\n",
      "KLEE: WARNING: executable has module level assembly (ignoring)\n",
      "KLEE: WARNING ONCE: calling external: syscall(16, 0, 21505, 94069375307856) at klee/runtime/POSIX/fd.c:1007 10\n",
      "KLEE: WARNING ONCE: Alignment of memory from call \"malloc\" is not modelled. Using alignment of 8.\n",
      "KLEE: WARNING ONCE: calling __klee_posix_wrapped_main with extra arguments.\n",
      "KLEE: WARNING ONCE: Alignment of memory from call \"calloc\" is not modelled. Using alignment of 8.\n",
      "KLEE: WARNING ONCE: calling external: bindtextdomain(94069374150880, 94069374458144) at [no debug info]\n",
      "KLEE: WARNING ONCE: calling external: textdomain(94069374150880) at [no debug info]\n",
      "KLEE: WARNING ONCE: Alignment of memory from call \"realloc\" is not modelled. Using alignment of 8.\n",
      "KLEE: WARNING ONCE: _setjmp: ignoring\n",
      "KLEE: WARNING ONCE: calling external: __ctype_get_mb_cur_max() at [no debug info]\n",
      "KLEE: WARNING ONCE: calling close_stdout with extra arguments.\n",
      "\n",
      "KLEE: done: total instructions = 1238356\n",
      "KLEE: done: completed paths = 1\n",
      "KLEE: done: generated tests = 1\n"
     ]
    },
    {
     "name": "stdout",
     "output_type": "stream",
     "text": [
      "/home/igandhi/Documents/build/bin/klee --search=random-path --no-forking --track-instruction-time --libc=uclibc --posix-runtime --replace-condition=847 --replay-path=\"/home/igandhi/Documents/profiler/../klee/examples/llvm-coreutils/bitcodes/klee-out-0/test000001.path\" ../klee/examples/llvm-coreutils/bitcodes/ls.bc  --sym-arg 10\n"
     ]
    },
    {
     "name": "stderr",
     "output_type": "stream",
     "text": [
      "KLEE: NOTE: Using POSIX model: /home/igandhi/Documents/build/Debug+Asserts/lib/libkleeRuntimePOSIX.bca\n",
      "KLEE: NOTE: Using klee-uclibc : /home/igandhi/Documents/build/Debug+Asserts/lib/klee-uclibc.bca\n",
      "KLEE: output directory is \"/home/igandhi/Documents/profiler/../klee/examples/llvm-coreutils/bitcodes/klee-out-3\"\n",
      "KLEE: Using STP solver backend\n",
      "KLEE: WARNING: undefined reference to function: __ctype_get_mb_cur_max\n",
      "KLEE: WARNING: undefined reference to function: bindtextdomain\n",
      "KLEE: WARNING: undefined reference to function: cap_free\n",
      "KLEE: WARNING: undefined reference to function: cap_get_file\n",
      "KLEE: WARNING: undefined reference to function: cap_to_text\n",
      "KLEE: WARNING: undefined reference to function: dcgettext\n",
      "KLEE: WARNING: undefined reference to function: gettext\n",
      "KLEE: WARNING: undefined reference to function: textdomain\n",
      "KLEE: WARNING: executable has module level assembly (ignoring)\n",
      "KLEE: WARNING ONCE: calling external: syscall(16, 0, 21505, 93897574674512) at klee/runtime/POSIX/fd.c:1007 10\n",
      "KLEE: WARNING ONCE: Alignment of memory from call \"malloc\" is not modelled. Using alignment of 8.\n",
      "KLEE: WARNING ONCE: calling __klee_posix_wrapped_main with extra arguments.\n",
      "KLEE: WARNING ONCE: Alignment of memory from call \"calloc\" is not modelled. Using alignment of 8.\n",
      "KLEE: WARNING ONCE: calling external: bindtextdomain(93897573517536, 93897573824800) at [no debug info]\n",
      "KLEE: WARNING ONCE: calling external: textdomain(93897573517536) at [no debug info]\n",
      "KLEE: WARNING ONCE: Alignment of memory from call \"realloc\" is not modelled. Using alignment of 8.\n",
      "KLEE: WARNING ONCE: _setjmp: ignoring\n",
      "KLEE: WARNING ONCE: calling external: __ctype_get_mb_cur_max() at [no debug info]\n",
      "KLEE: WARNING ONCE: calling close_stdout with extra arguments.\n",
      "\n",
      "KLEE: done: total instructions = 1238356\n",
      "KLEE: done: completed paths = 1\n",
      "KLEE: done: generated tests = 1\n"
     ]
    },
    {
     "name": "stdout",
     "output_type": "stream",
     "text": [
      "/home/igandhi/Documents/build/bin/klee --search=random-path --no-forking --track-instruction-time --libc=uclibc --posix-runtime --replace-condition=849 --replay-path=\"/home/igandhi/Documents/profiler/../klee/examples/llvm-coreutils/bitcodes/klee-out-0/test000001.path\" ../klee/examples/llvm-coreutils/bitcodes/ls.bc  --sym-arg 10\n"
     ]
    },
    {
     "name": "stderr",
     "output_type": "stream",
     "text": [
      "KLEE: NOTE: Using POSIX model: /home/igandhi/Documents/build/Debug+Asserts/lib/libkleeRuntimePOSIX.bca\n",
      "KLEE: NOTE: Using klee-uclibc : /home/igandhi/Documents/build/Debug+Asserts/lib/klee-uclibc.bca\n",
      "KLEE: output directory is \"/home/igandhi/Documents/profiler/../klee/examples/llvm-coreutils/bitcodes/klee-out-4\"\n",
      "KLEE: Using STP solver backend\n",
      "KLEE: WARNING: undefined reference to function: __ctype_get_mb_cur_max\n",
      "KLEE: WARNING: undefined reference to function: bindtextdomain\n",
      "KLEE: WARNING: undefined reference to function: cap_free\n",
      "KLEE: WARNING: undefined reference to function: cap_get_file\n",
      "KLEE: WARNING: undefined reference to function: cap_to_text\n",
      "KLEE: WARNING: undefined reference to function: dcgettext\n",
      "KLEE: WARNING: undefined reference to function: gettext\n",
      "KLEE: WARNING: undefined reference to function: textdomain\n",
      "KLEE: WARNING: executable has module level assembly (ignoring)\n",
      "KLEE: WARNING ONCE: calling external: syscall(16, 0, 21505, 94735692050800) at klee/runtime/POSIX/fd.c:1007 10\n",
      "KLEE: WARNING ONCE: Alignment of memory from call \"malloc\" is not modelled. Using alignment of 8.\n",
      "KLEE: WARNING ONCE: calling __klee_posix_wrapped_main with extra arguments.\n",
      "KLEE: WARNING ONCE: Alignment of memory from call \"calloc\" is not modelled. Using alignment of 8.\n",
      "KLEE: WARNING ONCE: calling external: bindtextdomain(94735690893536, 94735691200800) at [no debug info]\n",
      "KLEE: WARNING ONCE: calling external: textdomain(94735690893536) at [no debug info]\n",
      "KLEE: WARNING ONCE: Alignment of memory from call \"realloc\" is not modelled. Using alignment of 8.\n",
      "KLEE: WARNING ONCE: _setjmp: ignoring\n",
      "KLEE: WARNING ONCE: calling external: __ctype_get_mb_cur_max() at [no debug info]\n",
      "KLEE: WARNING ONCE: calling close_stdout with extra arguments.\n",
      "\n",
      "KLEE: done: total instructions = 1238356\n",
      "KLEE: done: completed paths = 1\n",
      "KLEE: done: generated tests = 1\n"
     ]
    },
    {
     "name": "stdout",
     "output_type": "stream",
     "text": [
      "/home/igandhi/Documents/build/bin/klee --search=random-path --no-forking --track-instruction-time --libc=uclibc --posix-runtime --replace-condition=851 --replay-path=\"/home/igandhi/Documents/profiler/../klee/examples/llvm-coreutils/bitcodes/klee-out-0/test000001.path\" ../klee/examples/llvm-coreutils/bitcodes/ls.bc  --sym-arg 10\n"
     ]
    },
    {
     "name": "stderr",
     "output_type": "stream",
     "text": [
      "KLEE: NOTE: Using POSIX model: /home/igandhi/Documents/build/Debug+Asserts/lib/libkleeRuntimePOSIX.bca\n",
      "KLEE: NOTE: Using klee-uclibc : /home/igandhi/Documents/build/Debug+Asserts/lib/klee-uclibc.bca\n",
      "KLEE: output directory is \"/home/igandhi/Documents/profiler/../klee/examples/llvm-coreutils/bitcodes/klee-out-5\"\n",
      "KLEE: Using STP solver backend\n",
      "KLEE: WARNING: undefined reference to function: __ctype_get_mb_cur_max\n",
      "KLEE: WARNING: undefined reference to function: bindtextdomain\n",
      "KLEE: WARNING: undefined reference to function: cap_free\n",
      "KLEE: WARNING: undefined reference to function: cap_get_file\n",
      "KLEE: WARNING: undefined reference to function: cap_to_text\n",
      "KLEE: WARNING: undefined reference to function: dcgettext\n",
      "KLEE: WARNING: undefined reference to function: gettext\n",
      "KLEE: WARNING: undefined reference to function: textdomain\n",
      "KLEE: WARNING: executable has module level assembly (ignoring)\n",
      "KLEE: WARNING ONCE: calling external: syscall(16, 0, 21505, 94486169677904) at klee/runtime/POSIX/fd.c:1007 10\n",
      "KLEE: WARNING ONCE: Alignment of memory from call \"malloc\" is not modelled. Using alignment of 8.\n",
      "KLEE: WARNING ONCE: calling __klee_posix_wrapped_main with extra arguments.\n",
      "KLEE: WARNING ONCE: Alignment of memory from call \"calloc\" is not modelled. Using alignment of 8.\n",
      "KLEE: WARNING ONCE: calling external: bindtextdomain(94486168520928, 94486168828192) at [no debug info]\n",
      "KLEE: WARNING ONCE: calling external: textdomain(94486168520928) at [no debug info]\n",
      "KLEE: WARNING ONCE: Alignment of memory from call \"realloc\" is not modelled. Using alignment of 8.\n",
      "KLEE: WARNING ONCE: _setjmp: ignoring\n",
      "KLEE: WARNING ONCE: calling external: __ctype_get_mb_cur_max() at [no debug info]\n",
      "KLEE: WARNING ONCE: calling close_stdout with extra arguments.\n",
      "\n",
      "KLEE: done: total instructions = 1238356\n",
      "KLEE: done: completed paths = 1\n",
      "KLEE: done: generated tests = 1\n"
     ]
    },
    {
     "name": "stdout",
     "output_type": "stream",
     "text": [
      "/home/igandhi/Documents/build/bin/klee --search=random-path --no-forking --track-instruction-time --libc=uclibc --posix-runtime --replace-condition=853 --replay-path=\"/home/igandhi/Documents/profiler/../klee/examples/llvm-coreutils/bitcodes/klee-out-0/test000001.path\" ../klee/examples/llvm-coreutils/bitcodes/ls.bc  --sym-arg 10\n"
     ]
    },
    {
     "name": "stderr",
     "output_type": "stream",
     "text": [
      "KLEE: NOTE: Using POSIX model: /home/igandhi/Documents/build/Debug+Asserts/lib/libkleeRuntimePOSIX.bca\n",
      "KLEE: NOTE: Using klee-uclibc : /home/igandhi/Documents/build/Debug+Asserts/lib/klee-uclibc.bca\n",
      "KLEE: output directory is \"/home/igandhi/Documents/profiler/../klee/examples/llvm-coreutils/bitcodes/klee-out-6\"\n",
      "KLEE: Using STP solver backend\n",
      "KLEE: WARNING: undefined reference to function: __ctype_get_mb_cur_max\n",
      "KLEE: WARNING: undefined reference to function: bindtextdomain\n",
      "KLEE: WARNING: undefined reference to function: cap_free\n",
      "KLEE: WARNING: undefined reference to function: cap_get_file\n",
      "KLEE: WARNING: undefined reference to function: cap_to_text\n",
      "KLEE: WARNING: undefined reference to function: dcgettext\n",
      "KLEE: WARNING: undefined reference to function: gettext\n",
      "KLEE: WARNING: undefined reference to function: textdomain\n",
      "KLEE: WARNING: executable has module level assembly (ignoring)\n",
      "KLEE: WARNING ONCE: calling external: syscall(16, 0, 21505, 94442863677520) at klee/runtime/POSIX/fd.c:1007 10\n",
      "KLEE: WARNING ONCE: Alignment of memory from call \"malloc\" is not modelled. Using alignment of 8.\n",
      "KLEE: WARNING ONCE: calling __klee_posix_wrapped_main with extra arguments.\n",
      "KLEE: WARNING ONCE: Alignment of memory from call \"calloc\" is not modelled. Using alignment of 8.\n",
      "KLEE: WARNING ONCE: calling external: bindtextdomain(94442862520544, 94442862827808) at [no debug info]\n",
      "KLEE: WARNING ONCE: calling external: textdomain(94442862520544) at [no debug info]\n",
      "KLEE: WARNING ONCE: Alignment of memory from call \"realloc\" is not modelled. Using alignment of 8.\n",
      "KLEE: WARNING ONCE: _setjmp: ignoring\n",
      "KLEE: WARNING ONCE: calling external: __ctype_get_mb_cur_max() at [no debug info]\n",
      "KLEE: WARNING ONCE: calling close_stdout with extra arguments.\n",
      "\n",
      "KLEE: done: total instructions = 1238356\n",
      "KLEE: done: completed paths = 1\n",
      "KLEE: done: generated tests = 1\n"
     ]
    },
    {
     "name": "stdout",
     "output_type": "stream",
     "text": [
      "/home/igandhi/Documents/build/bin/klee --search=random-path --no-forking --track-instruction-time --libc=uclibc --posix-runtime --replace-condition=855 --replay-path=\"/home/igandhi/Documents/profiler/../klee/examples/llvm-coreutils/bitcodes/klee-out-0/test000001.path\" ../klee/examples/llvm-coreutils/bitcodes/ls.bc  --sym-arg 10\n"
     ]
    },
    {
     "name": "stderr",
     "output_type": "stream",
     "text": [
      "KLEE: NOTE: Using POSIX model: /home/igandhi/Documents/build/Debug+Asserts/lib/libkleeRuntimePOSIX.bca\n",
      "KLEE: NOTE: Using klee-uclibc : /home/igandhi/Documents/build/Debug+Asserts/lib/klee-uclibc.bca\n",
      "KLEE: output directory is \"/home/igandhi/Documents/profiler/../klee/examples/llvm-coreutils/bitcodes/klee-out-7\"\n",
      "KLEE: Using STP solver backend\n",
      "KLEE: WARNING: undefined reference to function: __ctype_get_mb_cur_max\n",
      "KLEE: WARNING: undefined reference to function: bindtextdomain\n",
      "KLEE: WARNING: undefined reference to function: cap_free\n",
      "KLEE: WARNING: undefined reference to function: cap_get_file\n",
      "KLEE: WARNING: undefined reference to function: cap_to_text\n",
      "KLEE: WARNING: undefined reference to function: dcgettext\n",
      "KLEE: WARNING: undefined reference to function: gettext\n",
      "KLEE: WARNING: undefined reference to function: textdomain\n",
      "KLEE: WARNING: executable has module level assembly (ignoring)\n",
      "KLEE: WARNING ONCE: calling external: syscall(16, 0, 21505, 94560590753872) at klee/runtime/POSIX/fd.c:1007 10\n",
      "KLEE: WARNING ONCE: Alignment of memory from call \"malloc\" is not modelled. Using alignment of 8.\n",
      "KLEE: WARNING ONCE: calling __klee_posix_wrapped_main with extra arguments.\n",
      "KLEE: WARNING ONCE: Alignment of memory from call \"calloc\" is not modelled. Using alignment of 8.\n",
      "KLEE: WARNING ONCE: calling external: bindtextdomain(94560589596896, 94560589904160) at [no debug info]\n",
      "KLEE: WARNING ONCE: calling external: textdomain(94560589596896) at [no debug info]\n",
      "KLEE: WARNING ONCE: Alignment of memory from call \"realloc\" is not modelled. Using alignment of 8.\n",
      "KLEE: WARNING ONCE: _setjmp: ignoring\n",
      "KLEE: WARNING ONCE: calling external: __ctype_get_mb_cur_max() at [no debug info]\n",
      "KLEE: WARNING ONCE: calling close_stdout with extra arguments.\n",
      "\n",
      "KLEE: done: total instructions = 1238356\n",
      "KLEE: done: completed paths = 1\n",
      "KLEE: done: generated tests = 1\n"
     ]
    },
    {
     "name": "stdout",
     "output_type": "stream",
     "text": [
      "/home/igandhi/Documents/build/bin/klee --search=random-path --no-forking --track-instruction-time --libc=uclibc --posix-runtime --replace-condition=857 --replay-path=\"/home/igandhi/Documents/profiler/../klee/examples/llvm-coreutils/bitcodes/klee-out-0/test000001.path\" ../klee/examples/llvm-coreutils/bitcodes/ls.bc  --sym-arg 10\n"
     ]
    },
    {
     "name": "stderr",
     "output_type": "stream",
     "text": [
      "KLEE: NOTE: Using POSIX model: /home/igandhi/Documents/build/Debug+Asserts/lib/libkleeRuntimePOSIX.bca\n",
      "KLEE: NOTE: Using klee-uclibc : /home/igandhi/Documents/build/Debug+Asserts/lib/klee-uclibc.bca\n",
      "KLEE: output directory is \"/home/igandhi/Documents/profiler/../klee/examples/llvm-coreutils/bitcodes/klee-out-8\"\n",
      "KLEE: Using STP solver backend\n",
      "KLEE: WARNING: undefined reference to function: __ctype_get_mb_cur_max\n",
      "KLEE: WARNING: undefined reference to function: bindtextdomain\n",
      "KLEE: WARNING: undefined reference to function: cap_free\n",
      "KLEE: WARNING: undefined reference to function: cap_get_file\n",
      "KLEE: WARNING: undefined reference to function: cap_to_text\n",
      "KLEE: WARNING: undefined reference to function: dcgettext\n",
      "KLEE: WARNING: undefined reference to function: gettext\n",
      "KLEE: WARNING: undefined reference to function: textdomain\n",
      "KLEE: WARNING: executable has module level assembly (ignoring)\n",
      "KLEE: WARNING ONCE: calling external: syscall(16, 0, 21505, 94763105611856) at klee/runtime/POSIX/fd.c:1007 10\n",
      "KLEE: WARNING ONCE: Alignment of memory from call \"malloc\" is not modelled. Using alignment of 8.\n",
      "KLEE: WARNING ONCE: calling __klee_posix_wrapped_main with extra arguments.\n",
      "KLEE: WARNING ONCE: Alignment of memory from call \"calloc\" is not modelled. Using alignment of 8.\n",
      "KLEE: WARNING ONCE: calling external: bindtextdomain(94763104454880, 94763104762144) at [no debug info]\n",
      "KLEE: WARNING ONCE: calling external: textdomain(94763104454880) at [no debug info]\n",
      "KLEE: WARNING ONCE: Alignment of memory from call \"realloc\" is not modelled. Using alignment of 8.\n",
      "KLEE: WARNING ONCE: _setjmp: ignoring\n",
      "KLEE: WARNING ONCE: calling external: __ctype_get_mb_cur_max() at [no debug info]\n",
      "KLEE: WARNING ONCE: calling close_stdout with extra arguments.\n",
      "\n",
      "KLEE: done: total instructions = 1238356\n",
      "KLEE: done: completed paths = 1\n",
      "KLEE: done: generated tests = 1\n"
     ]
    },
    {
     "name": "stdout",
     "output_type": "stream",
     "text": [
      "/home/igandhi/Documents/build/bin/klee --search=random-path --no-forking --track-instruction-time --libc=uclibc --posix-runtime --replace-condition=859 --replay-path=\"/home/igandhi/Documents/profiler/../klee/examples/llvm-coreutils/bitcodes/klee-out-0/test000001.path\" ../klee/examples/llvm-coreutils/bitcodes/ls.bc  --sym-arg 10\n"
     ]
    },
    {
     "name": "stderr",
     "output_type": "stream",
     "text": [
      "KLEE: NOTE: Using POSIX model: /home/igandhi/Documents/build/Debug+Asserts/lib/libkleeRuntimePOSIX.bca\n",
      "KLEE: NOTE: Using klee-uclibc : /home/igandhi/Documents/build/Debug+Asserts/lib/klee-uclibc.bca\n",
      "KLEE: output directory is \"/home/igandhi/Documents/profiler/../klee/examples/llvm-coreutils/bitcodes/klee-out-9\"\n",
      "KLEE: Using STP solver backend\n",
      "KLEE: WARNING: undefined reference to function: __ctype_get_mb_cur_max\n",
      "KLEE: WARNING: undefined reference to function: bindtextdomain\n",
      "KLEE: WARNING: undefined reference to function: cap_free\n",
      "KLEE: WARNING: undefined reference to function: cap_get_file\n",
      "KLEE: WARNING: undefined reference to function: cap_to_text\n",
      "KLEE: WARNING: undefined reference to function: dcgettext\n",
      "KLEE: WARNING: undefined reference to function: gettext\n",
      "KLEE: WARNING: undefined reference to function: textdomain\n",
      "KLEE: WARNING: executable has module level assembly (ignoring)\n",
      "KLEE: WARNING ONCE: calling external: syscall(16, 0, 21505, 94334843785296) at klee/runtime/POSIX/fd.c:1007 10\n",
      "KLEE: WARNING ONCE: Alignment of memory from call \"malloc\" is not modelled. Using alignment of 8.\n",
      "KLEE: WARNING ONCE: calling __klee_posix_wrapped_main with extra arguments.\n",
      "KLEE: WARNING ONCE: Alignment of memory from call \"calloc\" is not modelled. Using alignment of 8.\n",
      "KLEE: WARNING ONCE: calling external: bindtextdomain(94334842628320, 94334842935584) at [no debug info]\n",
      "KLEE: WARNING ONCE: calling external: textdomain(94334842628320) at [no debug info]\n",
      "KLEE: WARNING ONCE: Alignment of memory from call \"realloc\" is not modelled. Using alignment of 8.\n",
      "KLEE: WARNING ONCE: _setjmp: ignoring\n",
      "KLEE: WARNING ONCE: calling external: __ctype_get_mb_cur_max() at [no debug info]\n",
      "KLEE: WARNING ONCE: calling close_stdout with extra arguments.\n",
      "\n",
      "KLEE: done: total instructions = 1238356\n",
      "KLEE: done: completed paths = 1\n",
      "KLEE: done: generated tests = 1\n"
     ]
    },
    {
     "name": "stdout",
     "output_type": "stream",
     "text": [
      "/home/igandhi/Documents/build/bin/klee --search=random-path --no-forking --track-instruction-time --libc=uclibc --posix-runtime --replace-condition=861 --replay-path=\"/home/igandhi/Documents/profiler/../klee/examples/llvm-coreutils/bitcodes/klee-out-0/test000001.path\" ../klee/examples/llvm-coreutils/bitcodes/ls.bc  --sym-arg 10\n"
     ]
    },
    {
     "name": "stderr",
     "output_type": "stream",
     "text": [
      "KLEE: NOTE: Using POSIX model: /home/igandhi/Documents/build/Debug+Asserts/lib/libkleeRuntimePOSIX.bca\n",
      "KLEE: NOTE: Using klee-uclibc : /home/igandhi/Documents/build/Debug+Asserts/lib/klee-uclibc.bca\n",
      "KLEE: output directory is \"/home/igandhi/Documents/profiler/../klee/examples/llvm-coreutils/bitcodes/klee-out-10\"\n",
      "KLEE: Using STP solver backend\n",
      "KLEE: WARNING: undefined reference to function: __ctype_get_mb_cur_max\n",
      "KLEE: WARNING: undefined reference to function: bindtextdomain\n",
      "KLEE: WARNING: undefined reference to function: cap_free\n",
      "KLEE: WARNING: undefined reference to function: cap_get_file\n",
      "KLEE: WARNING: undefined reference to function: cap_to_text\n",
      "KLEE: WARNING: undefined reference to function: dcgettext\n",
      "KLEE: WARNING: undefined reference to function: gettext\n",
      "KLEE: WARNING: undefined reference to function: textdomain\n",
      "KLEE: WARNING: executable has module level assembly (ignoring)\n",
      "KLEE: WARNING ONCE: calling external: syscall(16, 0, 21505, 94629385842768) at klee/runtime/POSIX/fd.c:1007 10\n",
      "KLEE: WARNING ONCE: Alignment of memory from call \"malloc\" is not modelled. Using alignment of 8.\n",
      "KLEE: WARNING ONCE: calling __klee_posix_wrapped_main with extra arguments.\n",
      "KLEE: WARNING ONCE: Alignment of memory from call \"calloc\" is not modelled. Using alignment of 8.\n",
      "KLEE: WARNING ONCE: calling external: bindtextdomain(94629384685792, 94629384993056) at [no debug info]\n",
      "KLEE: WARNING ONCE: calling external: textdomain(94629384685792) at [no debug info]\n",
      "KLEE: WARNING ONCE: Alignment of memory from call \"realloc\" is not modelled. Using alignment of 8.\n",
      "KLEE: WARNING ONCE: _setjmp: ignoring\n",
      "KLEE: WARNING ONCE: calling external: __ctype_get_mb_cur_max() at [no debug info]\n",
      "KLEE: WARNING ONCE: calling close_stdout with extra arguments.\n",
      "\n",
      "KLEE: done: total instructions = 1238356\n",
      "KLEE: done: completed paths = 1\n",
      "KLEE: done: generated tests = 1\n"
     ]
    },
    {
     "name": "stdout",
     "output_type": "stream",
     "text": [
      "/home/igandhi/Documents/build/bin/klee --search=random-path --no-forking --track-instruction-time --libc=uclibc --posix-runtime --replace-condition=863 --replay-path=\"/home/igandhi/Documents/profiler/../klee/examples/llvm-coreutils/bitcodes/klee-out-0/test000001.path\" ../klee/examples/llvm-coreutils/bitcodes/ls.bc  --sym-arg 10\n"
     ]
    },
    {
     "name": "stderr",
     "output_type": "stream",
     "text": [
      "KLEE: NOTE: Using POSIX model: /home/igandhi/Documents/build/Debug+Asserts/lib/libkleeRuntimePOSIX.bca\n",
      "KLEE: NOTE: Using klee-uclibc : /home/igandhi/Documents/build/Debug+Asserts/lib/klee-uclibc.bca\n",
      "KLEE: output directory is \"/home/igandhi/Documents/profiler/../klee/examples/llvm-coreutils/bitcodes/klee-out-11\"\n",
      "KLEE: Using STP solver backend\n",
      "KLEE: WARNING: undefined reference to function: __ctype_get_mb_cur_max\n",
      "KLEE: WARNING: undefined reference to function: bindtextdomain\n",
      "KLEE: WARNING: undefined reference to function: cap_free\n",
      "KLEE: WARNING: undefined reference to function: cap_get_file\n",
      "KLEE: WARNING: undefined reference to function: cap_to_text\n",
      "KLEE: WARNING: undefined reference to function: dcgettext\n",
      "KLEE: WARNING: undefined reference to function: gettext\n",
      "KLEE: WARNING: undefined reference to function: textdomain\n",
      "KLEE: WARNING: executable has module level assembly (ignoring)\n",
      "KLEE: WARNING ONCE: calling external: syscall(16, 0, 21505, 94575894376816) at klee/runtime/POSIX/fd.c:1007 10\n",
      "KLEE: WARNING ONCE: Alignment of memory from call \"malloc\" is not modelled. Using alignment of 8.\n",
      "KLEE: WARNING ONCE: calling __klee_posix_wrapped_main with extra arguments.\n",
      "KLEE: WARNING ONCE: Alignment of memory from call \"calloc\" is not modelled. Using alignment of 8.\n",
      "KLEE: WARNING ONCE: calling external: bindtextdomain(94575893219552, 94575893526816) at [no debug info]\n",
      "KLEE: WARNING ONCE: calling external: textdomain(94575893219552) at [no debug info]\n",
      "KLEE: WARNING ONCE: Alignment of memory from call \"realloc\" is not modelled. Using alignment of 8.\n",
      "KLEE: WARNING ONCE: _setjmp: ignoring\n",
      "KLEE: WARNING ONCE: calling external: __ctype_get_mb_cur_max() at [no debug info]\n",
      "KLEE: WARNING ONCE: calling close_stdout with extra arguments.\n",
      "\n",
      "KLEE: done: total instructions = 1238356\n",
      "KLEE: done: completed paths = 1\n",
      "KLEE: done: generated tests = 1\n"
     ]
    },
    {
     "name": "stdout",
     "output_type": "stream",
     "text": [
      "/home/igandhi/Documents/build/bin/klee --search=random-path --no-forking --track-instruction-time --libc=uclibc --posix-runtime --replace-condition=13178 --replay-path=\"/home/igandhi/Documents/profiler/../klee/examples/llvm-coreutils/bitcodes/klee-out-0/test000001.path\" ../klee/examples/llvm-coreutils/bitcodes/ls.bc  --sym-arg 10\n"
     ]
    },
    {
     "name": "stderr",
     "output_type": "stream",
     "text": [
      "KLEE: NOTE: Using POSIX model: /home/igandhi/Documents/build/Debug+Asserts/lib/libkleeRuntimePOSIX.bca\n",
      "KLEE: NOTE: Using klee-uclibc : /home/igandhi/Documents/build/Debug+Asserts/lib/klee-uclibc.bca\n",
      "KLEE: output directory is \"/home/igandhi/Documents/profiler/../klee/examples/llvm-coreutils/bitcodes/klee-out-12\"\n",
      "KLEE: Using STP solver backend\n",
      "KLEE: WARNING: undefined reference to function: __ctype_get_mb_cur_max\n",
      "KLEE: WARNING: undefined reference to function: bindtextdomain\n",
      "KLEE: WARNING: undefined reference to function: cap_free\n",
      "KLEE: WARNING: undefined reference to function: cap_get_file\n",
      "KLEE: WARNING: undefined reference to function: cap_to_text\n",
      "KLEE: WARNING: undefined reference to function: dcgettext\n",
      "KLEE: WARNING: undefined reference to function: gettext\n",
      "KLEE: WARNING: undefined reference to function: textdomain\n",
      "KLEE: WARNING: executable has module level assembly (ignoring)\n",
      "KLEE: WARNING ONCE: calling external: syscall(16, 0, 21505, 94371317264464) at klee/runtime/POSIX/fd.c:1007 10\n",
      "KLEE: WARNING ONCE: Alignment of memory from call \"malloc\" is not modelled. Using alignment of 8.\n",
      "KLEE: WARNING ONCE: calling __klee_posix_wrapped_main with extra arguments.\n",
      "KLEE: WARNING ONCE: Alignment of memory from call \"calloc\" is not modelled. Using alignment of 8.\n",
      "KLEE: WARNING ONCE: calling external: bindtextdomain(94371316107488, 94371316414752) at [no debug info]\n",
      "KLEE: WARNING ONCE: calling external: textdomain(94371316107488) at [no debug info]\n",
      "KLEE: WARNING ONCE: Alignment of memory from call \"realloc\" is not modelled. Using alignment of 8.\n",
      "KLEE: WARNING ONCE: _setjmp: ignoring\n",
      "KLEE: WARNING ONCE: calling external: __ctype_get_mb_cur_max() at [no debug info]\n",
      "KLEE: WARNING ONCE: calling close_stdout with extra arguments.\n",
      "\n",
      "KLEE: done: total instructions = 1238356\n",
      "KLEE: done: completed paths = 1\n",
      "KLEE: done: generated tests = 1\n"
     ]
    },
    {
     "name": "stdout",
     "output_type": "stream",
     "text": [
      "/home/igandhi/Documents/build/bin/klee --search=random-path --no-forking --track-instruction-time --libc=uclibc --posix-runtime --replace-condition=13179 --replay-path=\"/home/igandhi/Documents/profiler/../klee/examples/llvm-coreutils/bitcodes/klee-out-0/test000001.path\" ../klee/examples/llvm-coreutils/bitcodes/ls.bc  --sym-arg 10\n"
     ]
    },
    {
     "name": "stderr",
     "output_type": "stream",
     "text": [
      "KLEE: NOTE: Using POSIX model: /home/igandhi/Documents/build/Debug+Asserts/lib/libkleeRuntimePOSIX.bca\n",
      "KLEE: NOTE: Using klee-uclibc : /home/igandhi/Documents/build/Debug+Asserts/lib/klee-uclibc.bca\n",
      "KLEE: output directory is \"/home/igandhi/Documents/profiler/../klee/examples/llvm-coreutils/bitcodes/klee-out-13\"\n",
      "KLEE: Using STP solver backend\n",
      "KLEE: WARNING: undefined reference to function: __ctype_get_mb_cur_max\n",
      "KLEE: WARNING: undefined reference to function: bindtextdomain\n",
      "KLEE: WARNING: undefined reference to function: cap_free\n",
      "KLEE: WARNING: undefined reference to function: cap_get_file\n",
      "KLEE: WARNING: undefined reference to function: cap_to_text\n",
      "KLEE: WARNING: undefined reference to function: dcgettext\n",
      "KLEE: WARNING: undefined reference to function: gettext\n",
      "KLEE: WARNING: undefined reference to function: textdomain\n",
      "KLEE: WARNING: executable has module level assembly (ignoring)\n",
      "KLEE: WARNING ONCE: calling external: syscall(16, 0, 21505, 94694076273008) at klee/runtime/POSIX/fd.c:1007 10\n",
      "KLEE: WARNING ONCE: Alignment of memory from call \"malloc\" is not modelled. Using alignment of 8.\n",
      "KLEE: WARNING ONCE: calling __klee_posix_wrapped_main with extra arguments.\n",
      "KLEE: WARNING ONCE: Alignment of memory from call \"calloc\" is not modelled. Using alignment of 8.\n",
      "KLEE: WARNING ONCE: calling external: bindtextdomain(94694075115744, 94694075423008) at [no debug info]\n",
      "KLEE: WARNING ONCE: calling external: textdomain(94694075115744) at [no debug info]\n",
      "KLEE: WARNING ONCE: Alignment of memory from call \"realloc\" is not modelled. Using alignment of 8.\n",
      "KLEE: WARNING ONCE: _setjmp: ignoring\n",
      "KLEE: WARNING ONCE: calling external: __ctype_get_mb_cur_max() at [no debug info]\n",
      "KLEE: WARNING ONCE: calling close_stdout with extra arguments.\n",
      "\n",
      "KLEE: done: total instructions = 1238356\n",
      "KLEE: done: completed paths = 1\n",
      "KLEE: done: generated tests = 1\n"
     ]
    },
    {
     "name": "stdout",
     "output_type": "stream",
     "text": [
      "/home/igandhi/Documents/build/bin/klee --search=random-path --no-forking --track-instruction-time --libc=uclibc --posix-runtime --replace-condition=13181 --replay-path=\"/home/igandhi/Documents/profiler/../klee/examples/llvm-coreutils/bitcodes/klee-out-0/test000001.path\" ../klee/examples/llvm-coreutils/bitcodes/ls.bc  --sym-arg 10\n"
     ]
    },
    {
     "name": "stderr",
     "output_type": "stream",
     "text": [
      "KLEE: NOTE: Using POSIX model: /home/igandhi/Documents/build/Debug+Asserts/lib/libkleeRuntimePOSIX.bca\n",
      "KLEE: NOTE: Using klee-uclibc : /home/igandhi/Documents/build/Debug+Asserts/lib/klee-uclibc.bca\n",
      "KLEE: output directory is \"/home/igandhi/Documents/profiler/../klee/examples/llvm-coreutils/bitcodes/klee-out-14\"\n",
      "KLEE: Using STP solver backend\n",
      "KLEE: WARNING: undefined reference to function: __ctype_get_mb_cur_max\n",
      "KLEE: WARNING: undefined reference to function: bindtextdomain\n",
      "KLEE: WARNING: undefined reference to function: cap_free\n",
      "KLEE: WARNING: undefined reference to function: cap_get_file\n",
      "KLEE: WARNING: undefined reference to function: cap_to_text\n",
      "KLEE: WARNING: undefined reference to function: dcgettext\n",
      "KLEE: WARNING: undefined reference to function: gettext\n",
      "KLEE: WARNING: undefined reference to function: textdomain\n",
      "KLEE: WARNING: executable has module level assembly (ignoring)\n",
      "KLEE: WARNING ONCE: calling external: syscall(16, 0, 21505, 93920580603984) at klee/runtime/POSIX/fd.c:1007 10\n",
      "KLEE: WARNING ONCE: Alignment of memory from call \"malloc\" is not modelled. Using alignment of 8.\n",
      "KLEE: WARNING ONCE: calling __klee_posix_wrapped_main with extra arguments.\n",
      "KLEE: WARNING ONCE: Alignment of memory from call \"calloc\" is not modelled. Using alignment of 8.\n",
      "KLEE: WARNING ONCE: calling external: bindtextdomain(93920579447008, 93920579754272) at [no debug info]\n",
      "KLEE: WARNING ONCE: calling external: textdomain(93920579447008) at [no debug info]\n",
      "KLEE: WARNING ONCE: Alignment of memory from call \"realloc\" is not modelled. Using alignment of 8.\n",
      "KLEE: WARNING ONCE: _setjmp: ignoring\n",
      "KLEE: WARNING ONCE: calling external: __ctype_get_mb_cur_max() at [no debug info]\n",
      "KLEE: WARNING ONCE: calling close_stdout with extra arguments.\n",
      "\n",
      "KLEE: done: total instructions = 1238356\n",
      "KLEE: done: completed paths = 1\n",
      "KLEE: done: generated tests = 1\n"
     ]
    },
    {
     "name": "stdout",
     "output_type": "stream",
     "text": [
      "/home/igandhi/Documents/build/bin/klee --search=random-path --no-forking --track-instruction-time --libc=uclibc --posix-runtime --replace-condition=13182 --replay-path=\"/home/igandhi/Documents/profiler/../klee/examples/llvm-coreutils/bitcodes/klee-out-0/test000001.path\" ../klee/examples/llvm-coreutils/bitcodes/ls.bc  --sym-arg 10\n"
     ]
    },
    {
     "name": "stderr",
     "output_type": "stream",
     "text": [
      "KLEE: NOTE: Using POSIX model: /home/igandhi/Documents/build/Debug+Asserts/lib/libkleeRuntimePOSIX.bca\n",
      "KLEE: NOTE: Using klee-uclibc : /home/igandhi/Documents/build/Debug+Asserts/lib/klee-uclibc.bca\n",
      "KLEE: output directory is \"/home/igandhi/Documents/profiler/../klee/examples/llvm-coreutils/bitcodes/klee-out-15\"\n",
      "KLEE: Using STP solver backend\n",
      "KLEE: WARNING: undefined reference to function: __ctype_get_mb_cur_max\n",
      "KLEE: WARNING: undefined reference to function: bindtextdomain\n",
      "KLEE: WARNING: undefined reference to function: cap_free\n",
      "KLEE: WARNING: undefined reference to function: cap_get_file\n",
      "KLEE: WARNING: undefined reference to function: cap_to_text\n",
      "KLEE: WARNING: undefined reference to function: dcgettext\n",
      "KLEE: WARNING: undefined reference to function: gettext\n",
      "KLEE: WARNING: undefined reference to function: textdomain\n",
      "KLEE: WARNING: executable has module level assembly (ignoring)\n",
      "KLEE: WARNING ONCE: calling external: syscall(16, 0, 21505, 93847913197936) at klee/runtime/POSIX/fd.c:1007 10\n",
      "KLEE: WARNING ONCE: Alignment of memory from call \"malloc\" is not modelled. Using alignment of 8.\n",
      "KLEE: WARNING ONCE: calling __klee_posix_wrapped_main with extra arguments.\n",
      "KLEE: WARNING ONCE: Alignment of memory from call \"calloc\" is not modelled. Using alignment of 8.\n",
      "KLEE: WARNING ONCE: calling external: bindtextdomain(93847912040672, 93847912347936) at [no debug info]\n",
      "KLEE: WARNING ONCE: calling external: textdomain(93847912040672) at [no debug info]\n",
      "KLEE: WARNING ONCE: Alignment of memory from call \"realloc\" is not modelled. Using alignment of 8.\n",
      "KLEE: WARNING ONCE: _setjmp: ignoring\n",
      "KLEE: WARNING ONCE: calling external: __ctype_get_mb_cur_max() at [no debug info]\n",
      "KLEE: WARNING ONCE: calling close_stdout with extra arguments.\n",
      "\n",
      "KLEE: done: total instructions = 1238356\n",
      "KLEE: done: completed paths = 1\n",
      "KLEE: done: generated tests = 1\n"
     ]
    },
    {
     "name": "stdout",
     "output_type": "stream",
     "text": [
      "/home/igandhi/Documents/build/bin/klee --search=random-path --no-forking --track-instruction-time --libc=uclibc --posix-runtime --replace-condition=13183 --replay-path=\"/home/igandhi/Documents/profiler/../klee/examples/llvm-coreutils/bitcodes/klee-out-0/test000001.path\" ../klee/examples/llvm-coreutils/bitcodes/ls.bc  --sym-arg 10\n"
     ]
    },
    {
     "name": "stderr",
     "output_type": "stream",
     "text": [
      "KLEE: NOTE: Using POSIX model: /home/igandhi/Documents/build/Debug+Asserts/lib/libkleeRuntimePOSIX.bca\n",
      "KLEE: NOTE: Using klee-uclibc : /home/igandhi/Documents/build/Debug+Asserts/lib/klee-uclibc.bca\n",
      "KLEE: output directory is \"/home/igandhi/Documents/profiler/../klee/examples/llvm-coreutils/bitcodes/klee-out-16\"\n",
      "KLEE: Using STP solver backend\n",
      "KLEE: WARNING: undefined reference to function: __ctype_get_mb_cur_max\n",
      "KLEE: WARNING: undefined reference to function: bindtextdomain\n",
      "KLEE: WARNING: undefined reference to function: cap_free\n",
      "KLEE: WARNING: undefined reference to function: cap_get_file\n",
      "KLEE: WARNING: undefined reference to function: cap_to_text\n",
      "KLEE: WARNING: undefined reference to function: dcgettext\n",
      "KLEE: WARNING: undefined reference to function: gettext\n",
      "KLEE: WARNING: undefined reference to function: textdomain\n",
      "KLEE: WARNING: executable has module level assembly (ignoring)\n",
      "KLEE: WARNING ONCE: calling external: syscall(16, 0, 21505, 94071712158064) at klee/runtime/POSIX/fd.c:1007 10\n",
      "KLEE: WARNING ONCE: Alignment of memory from call \"malloc\" is not modelled. Using alignment of 8.\n",
      "KLEE: WARNING ONCE: calling __klee_posix_wrapped_main with extra arguments.\n",
      "KLEE: WARNING ONCE: Alignment of memory from call \"calloc\" is not modelled. Using alignment of 8.\n",
      "KLEE: WARNING ONCE: calling external: bindtextdomain(94071711000800, 94071711308064) at [no debug info]\n",
      "KLEE: WARNING ONCE: calling external: textdomain(94071711000800) at [no debug info]\n",
      "KLEE: WARNING ONCE: Alignment of memory from call \"realloc\" is not modelled. Using alignment of 8.\n",
      "KLEE: WARNING ONCE: _setjmp: ignoring\n",
      "KLEE: WARNING ONCE: calling external: __ctype_get_mb_cur_max() at [no debug info]\n",
      "KLEE: WARNING ONCE: calling close_stdout with extra arguments.\n",
      "\n",
      "KLEE: done: total instructions = 1238356\n",
      "KLEE: done: completed paths = 1\n",
      "KLEE: done: generated tests = 1\n"
     ]
    },
    {
     "name": "stdout",
     "output_type": "stream",
     "text": [
      "/home/igandhi/Documents/build/bin/klee --search=random-path --no-forking --track-instruction-time --libc=uclibc --posix-runtime --replace-condition=13184 --replay-path=\"/home/igandhi/Documents/profiler/../klee/examples/llvm-coreutils/bitcodes/klee-out-0/test000001.path\" ../klee/examples/llvm-coreutils/bitcodes/ls.bc  --sym-arg 10\n"
     ]
    },
    {
     "name": "stderr",
     "output_type": "stream",
     "text": [
      "KLEE: NOTE: Using POSIX model: /home/igandhi/Documents/build/Debug+Asserts/lib/libkleeRuntimePOSIX.bca\n",
      "KLEE: NOTE: Using klee-uclibc : /home/igandhi/Documents/build/Debug+Asserts/lib/klee-uclibc.bca\n",
      "KLEE: output directory is \"/home/igandhi/Documents/profiler/../klee/examples/llvm-coreutils/bitcodes/klee-out-17\"\n",
      "KLEE: Using STP solver backend\n",
      "KLEE: WARNING: undefined reference to function: __ctype_get_mb_cur_max\n",
      "KLEE: WARNING: undefined reference to function: bindtextdomain\n",
      "KLEE: WARNING: undefined reference to function: cap_free\n",
      "KLEE: WARNING: undefined reference to function: cap_get_file\n",
      "KLEE: WARNING: undefined reference to function: cap_to_text\n",
      "KLEE: WARNING: undefined reference to function: dcgettext\n",
      "KLEE: WARNING: undefined reference to function: gettext\n",
      "KLEE: WARNING: undefined reference to function: textdomain\n",
      "KLEE: WARNING: executable has module level assembly (ignoring)\n",
      "KLEE: WARNING ONCE: calling external: syscall(16, 0, 21505, 94648281624656) at klee/runtime/POSIX/fd.c:1007 10\n",
      "KLEE: WARNING ONCE: Alignment of memory from call \"malloc\" is not modelled. Using alignment of 8.\n",
      "KLEE: WARNING ONCE: calling __klee_posix_wrapped_main with extra arguments.\n",
      "KLEE: WARNING ONCE: Alignment of memory from call \"calloc\" is not modelled. Using alignment of 8.\n",
      "KLEE: WARNING ONCE: calling external: bindtextdomain(94648280467680, 94648280774944) at [no debug info]\n",
      "KLEE: WARNING ONCE: calling external: textdomain(94648280467680) at [no debug info]\n",
      "KLEE: WARNING ONCE: Alignment of memory from call \"realloc\" is not modelled. Using alignment of 8.\n",
      "KLEE: WARNING ONCE: _setjmp: ignoring\n",
      "KLEE: WARNING ONCE: calling external: __ctype_get_mb_cur_max() at [no debug info]\n",
      "KLEE: WARNING ONCE: calling close_stdout with extra arguments.\n",
      "\n",
      "KLEE: done: total instructions = 1238356\n",
      "KLEE: done: completed paths = 1\n",
      "KLEE: done: generated tests = 1\n"
     ]
    },
    {
     "name": "stdout",
     "output_type": "stream",
     "text": [
      "/home/igandhi/Documents/build/bin/klee --search=random-path --no-forking --track-instruction-time --libc=uclibc --posix-runtime --replace-condition=13185 --replay-path=\"/home/igandhi/Documents/profiler/../klee/examples/llvm-coreutils/bitcodes/klee-out-0/test000001.path\" ../klee/examples/llvm-coreutils/bitcodes/ls.bc  --sym-arg 10\n"
     ]
    },
    {
     "name": "stderr",
     "output_type": "stream",
     "text": [
      "KLEE: NOTE: Using POSIX model: /home/igandhi/Documents/build/Debug+Asserts/lib/libkleeRuntimePOSIX.bca\n",
      "KLEE: NOTE: Using klee-uclibc : /home/igandhi/Documents/build/Debug+Asserts/lib/klee-uclibc.bca\n",
      "KLEE: output directory is \"/home/igandhi/Documents/profiler/../klee/examples/llvm-coreutils/bitcodes/klee-out-18\"\n",
      "KLEE: Using STP solver backend\n",
      "KLEE: WARNING: undefined reference to function: __ctype_get_mb_cur_max\n",
      "KLEE: WARNING: undefined reference to function: bindtextdomain\n",
      "KLEE: WARNING: undefined reference to function: cap_free\n",
      "KLEE: WARNING: undefined reference to function: cap_get_file\n",
      "KLEE: WARNING: undefined reference to function: cap_to_text\n",
      "KLEE: WARNING: undefined reference to function: dcgettext\n",
      "KLEE: WARNING: undefined reference to function: gettext\n",
      "KLEE: WARNING: undefined reference to function: textdomain\n",
      "KLEE: WARNING: executable has module level assembly (ignoring)\n",
      "KLEE: WARNING ONCE: calling external: syscall(16, 0, 21505, 94174076653936) at klee/runtime/POSIX/fd.c:1007 10\n",
      "KLEE: WARNING ONCE: Alignment of memory from call \"malloc\" is not modelled. Using alignment of 8.\n",
      "KLEE: WARNING ONCE: calling __klee_posix_wrapped_main with extra arguments.\n",
      "KLEE: WARNING ONCE: Alignment of memory from call \"calloc\" is not modelled. Using alignment of 8.\n",
      "KLEE: WARNING ONCE: calling external: bindtextdomain(94174075496672, 94174075803936) at [no debug info]\n",
      "KLEE: WARNING ONCE: calling external: textdomain(94174075496672) at [no debug info]\n",
      "KLEE: WARNING ONCE: Alignment of memory from call \"realloc\" is not modelled. Using alignment of 8.\n",
      "KLEE: WARNING ONCE: _setjmp: ignoring\n",
      "KLEE: WARNING ONCE: calling external: __ctype_get_mb_cur_max() at [no debug info]\n",
      "KLEE: WARNING ONCE: calling close_stdout with extra arguments.\n",
      "\n",
      "KLEE: done: total instructions = 1238356\n",
      "KLEE: done: completed paths = 1\n",
      "KLEE: done: generated tests = 1\n"
     ]
    },
    {
     "name": "stdout",
     "output_type": "stream",
     "text": [
      "/home/igandhi/Documents/build/bin/klee --search=random-path --no-forking --track-instruction-time --libc=uclibc --posix-runtime --replace-condition=13186 --replay-path=\"/home/igandhi/Documents/profiler/../klee/examples/llvm-coreutils/bitcodes/klee-out-0/test000001.path\" ../klee/examples/llvm-coreutils/bitcodes/ls.bc  --sym-arg 10\n"
     ]
    },
    {
     "name": "stderr",
     "output_type": "stream",
     "text": [
      "KLEE: NOTE: Using POSIX model: /home/igandhi/Documents/build/Debug+Asserts/lib/libkleeRuntimePOSIX.bca\n",
      "KLEE: NOTE: Using klee-uclibc : /home/igandhi/Documents/build/Debug+Asserts/lib/klee-uclibc.bca\n",
      "KLEE: output directory is \"/home/igandhi/Documents/profiler/../klee/examples/llvm-coreutils/bitcodes/klee-out-19\"\n",
      "KLEE: Using STP solver backend\n",
      "KLEE: WARNING: undefined reference to function: __ctype_get_mb_cur_max\n",
      "KLEE: WARNING: undefined reference to function: bindtextdomain\n",
      "KLEE: WARNING: undefined reference to function: cap_free\n",
      "KLEE: WARNING: undefined reference to function: cap_get_file\n",
      "KLEE: WARNING: undefined reference to function: cap_to_text\n",
      "KLEE: WARNING: undefined reference to function: dcgettext\n",
      "KLEE: WARNING: undefined reference to function: gettext\n",
      "KLEE: WARNING: undefined reference to function: textdomain\n",
      "KLEE: WARNING: executable has module level assembly (ignoring)\n",
      "KLEE: WARNING ONCE: calling external: syscall(16, 0, 21505, 94529111773264) at klee/runtime/POSIX/fd.c:1007 10\n",
      "KLEE: WARNING ONCE: Alignment of memory from call \"malloc\" is not modelled. Using alignment of 8.\n",
      "KLEE: WARNING ONCE: calling __klee_posix_wrapped_main with extra arguments.\n",
      "KLEE: WARNING ONCE: Alignment of memory from call \"calloc\" is not modelled. Using alignment of 8.\n",
      "KLEE: WARNING ONCE: calling external: bindtextdomain(94529110616288, 94529110923552) at [no debug info]\n",
      "KLEE: WARNING ONCE: calling external: textdomain(94529110616288) at [no debug info]\n",
      "KLEE: WARNING ONCE: Alignment of memory from call \"realloc\" is not modelled. Using alignment of 8.\n",
      "KLEE: WARNING ONCE: _setjmp: ignoring\n",
      "KLEE: WARNING ONCE: calling external: __ctype_get_mb_cur_max() at [no debug info]\n",
      "KLEE: WARNING ONCE: calling close_stdout with extra arguments.\n",
      "\n",
      "KLEE: done: total instructions = 1238356\n",
      "KLEE: done: completed paths = 1\n",
      "KLEE: done: generated tests = 1\n"
     ]
    },
    {
     "name": "stdout",
     "output_type": "stream",
     "text": [
      "/home/igandhi/Documents/build/bin/klee --search=random-path --no-forking --track-instruction-time --libc=uclibc --posix-runtime --replace-condition=13187 --replay-path=\"/home/igandhi/Documents/profiler/../klee/examples/llvm-coreutils/bitcodes/klee-out-0/test000001.path\" ../klee/examples/llvm-coreutils/bitcodes/ls.bc  --sym-arg 10\n"
     ]
    },
    {
     "name": "stderr",
     "output_type": "stream",
     "text": [
      "KLEE: NOTE: Using POSIX model: /home/igandhi/Documents/build/Debug+Asserts/lib/libkleeRuntimePOSIX.bca\n",
      "KLEE: NOTE: Using klee-uclibc : /home/igandhi/Documents/build/Debug+Asserts/lib/klee-uclibc.bca\n",
      "KLEE: output directory is \"/home/igandhi/Documents/profiler/../klee/examples/llvm-coreutils/bitcodes/klee-out-20\"\n",
      "KLEE: Using STP solver backend\n",
      "KLEE: WARNING: undefined reference to function: __ctype_get_mb_cur_max\n",
      "KLEE: WARNING: undefined reference to function: bindtextdomain\n",
      "KLEE: WARNING: undefined reference to function: cap_free\n",
      "KLEE: WARNING: undefined reference to function: cap_get_file\n",
      "KLEE: WARNING: undefined reference to function: cap_to_text\n",
      "KLEE: WARNING: undefined reference to function: dcgettext\n",
      "KLEE: WARNING: undefined reference to function: gettext\n",
      "KLEE: WARNING: undefined reference to function: textdomain\n",
      "KLEE: WARNING: executable has module level assembly (ignoring)\n",
      "KLEE: WARNING ONCE: calling external: syscall(16, 0, 21505, 94212237185104) at klee/runtime/POSIX/fd.c:1007 10\n",
      "KLEE: WARNING ONCE: Alignment of memory from call \"malloc\" is not modelled. Using alignment of 8.\n",
      "KLEE: WARNING ONCE: calling __klee_posix_wrapped_main with extra arguments.\n",
      "KLEE: WARNING ONCE: Alignment of memory from call \"calloc\" is not modelled. Using alignment of 8.\n",
      "KLEE: WARNING ONCE: calling external: bindtextdomain(94212236028128, 94212236335392) at [no debug info]\n",
      "KLEE: WARNING ONCE: calling external: textdomain(94212236028128) at [no debug info]\n",
      "KLEE: WARNING ONCE: Alignment of memory from call \"realloc\" is not modelled. Using alignment of 8.\n",
      "KLEE: WARNING ONCE: _setjmp: ignoring\n",
      "KLEE: WARNING ONCE: calling external: __ctype_get_mb_cur_max() at [no debug info]\n",
      "KLEE: WARNING ONCE: calling close_stdout with extra arguments.\n",
      "\n",
      "KLEE: done: total instructions = 1238356\n",
      "KLEE: done: completed paths = 1\n",
      "KLEE: done: generated tests = 1\n"
     ]
    },
    {
     "name": "stdout",
     "output_type": "stream",
     "text": [
      "Instructions,FullBranches,PartialBranches,NumBranches,UserTime,NumStates,MallocUsage,NumQueries,NumQueryConstructs,NumObjects,WallTime,CoveredInstructions,UncoveredInstructions,QueryTime,SolverTime,CexCacheTime,ForkTime,ResolveTime,QueryCexCacheMisses,QueryCexCacheHits,Breaks,Returns,Switchs,IndirectBrs,Invokes,Resumes,Unreachables,CleanupRets,CatchRets,CatchPads,CatchSwitchs,FNegs,Adds,FAdds,Subs,FSubs,Muls,FMuls,UDivs,SDivs,FDivs,URems,SRems,FRems,Ands,Ors,Xors,Allocas,Loads,Stores,AtomicCmpXchgs,AtomicRMWs,Fences,GetElementPtrs,Truncs,ZExts,SExts,FPTruncs,FPExts,FPToUIs,FPToSIs,UIToFPs,SIToFPs,IntToPtrs,PtrToInts,BitCasts,AddrSpaceCasts,ICmps,FCmps,PHIs,Selects,Calls,Shls,LShrs,AShrs,VAArgs,ExtractElements,InsertElements,ShuffleVectors,ExtractValues,InsertValues,LandingPads,CleanupPads,Cond\n",
      "1238356,85,356,3038,1846394.0,0,70029840,18,140,0,1733082.0,7187,40267,230708,232073,231299,0,0,18,-1,184170,2135,102,0,0,0,0,0,0,0,0,0,85591,0,1894,0,143,0,26,0,0,2,0,0,626,35,118,11184,379727,276968,0,0,0,103607,73060,7896,3273,0,0,0,0,0,0,14,262,352,0,93145,0,1753,15,12017,130,1,110,0,0,0,0,0,0,0,0,baseline\n",
      "1238356,85,356,3038,2036486.0,0,70032152,17,126,0,1678928.0,7187,40267,218323,219532,218796,0,0,17,-1,184170,2135,102,0,0,0,0,0,0,0,0,0,85591,0,1894,0,143,0,26,0,0,2,0,0,626,35,118,11184,379727,276968,0,0,0,103607,73060,7896,3273,0,0,0,0,0,0,14,262,352,0,93145,0,1753,15,12017,130,1,110,0,0,0,0,0,0,0,0,(Sle 32       (SExt w32 (Read w8 0 arg00)))\n",
      "1238356,85,356,3038,2228275.0,0,70029264,17,133,0,1881617.0,7187,40267,250070,251298,250549,0,0,17,-1,184170,2135,102,0,0,0,0,0,0,0,0,0,85591,0,1894,0,143,0,26,0,0,2,0,0,626,35,118,11184,379727,276968,0,0,0,103607,73060,7896,3273,0,0,0,0,0,0,14,262,352,0,93145,0,1753,15,12017,130,1,110,0,0,0,0,0,0,0,0,(Sle 32       (SExt w32 (Read w8 1 arg00)))\n",
      "1238356,85,356,3038,2082870.0,0,70029264,17,133,0,1884106.0,7187,40267,249973,251140,250433,0,0,17,-1,184170,2135,102,0,0,0,0,0,0,0,0,0,85591,0,1894,0,143,0,26,0,0,2,0,0,626,35,118,11184,379727,276968,0,0,0,103607,73060,7896,3273,0,0,0,0,0,0,14,262,352,0,93145,0,1753,15,12017,130,1,110,0,0,0,0,0,0,0,0,(Sle 32       (SExt w32 (Read w8 2 arg00)))\n",
      "1238356,85,356,3038,1941892.0,0,70029264,17,133,0,1652996.0,7187,40267,238892,240061,239331,0,0,17,-1,184170,2135,102,0,0,0,0,0,0,0,0,0,85591,0,1894,0,143,0,26,0,0,2,0,0,626,35,118,11184,379727,276968,0,0,0,103607,73060,7896,3273,0,0,0,0,0,0,14,262,352,0,93145,0,1753,15,12017,130,1,110,0,0,0,0,0,0,0,0,(Sle 32       (SExt w32 (Read w8 3 arg00)))\n",
      "1238356,85,356,3038,2074075.0,0,70029264,17,133,0,1893824.0,7187,40267,263398,264728,263912,0,0,17,-1,184170,2135,102,0,0,0,0,0,0,0,0,0,85591,0,1894,0,143,0,26,0,0,2,0,0,626,35,118,11184,379727,276968,0,0,0,103607,73060,7896,3273,0,0,0,0,0,0,14,262,352,0,93145,0,1753,15,12017,130,1,110,0,0,0,0,0,0,0,0,(Sle 32       (SExt w32 (Read w8 4 arg00)))\n",
      "1238356,85,356,3038,2124718.0,0,70029264,17,133,0,1914657.0,7187,40267,254028,255322,254589,0,0,17,-1,184170,2135,102,0,0,0,0,0,0,0,0,0,85591,0,1894,0,143,0,26,0,0,2,0,0,626,35,118,11184,379727,276968,0,0,0,103607,73060,7896,3273,0,0,0,0,0,0,14,262,352,0,93145,0,1753,15,12017,130,1,110,0,0,0,0,0,0,0,0,(Sle 32       (SExt w32 (Read w8 5 arg00)))\n",
      "1238356,85,356,3038,1766457.0,0,70029264,17,133,0,1726561.0,7187,40267,254271,255475,254772,0,0,17,-1,184170,2135,102,0,0,0,0,0,0,0,0,0,85591,0,1894,0,143,0,26,0,0,2,0,0,626,35,118,11184,379727,276968,0,0,0,103607,73060,7896,3273,0,0,0,0,0,0,14,262,352,0,93145,0,1753,15,12017,130,1,110,0,0,0,0,0,0,0,0,(Sle 32       (SExt w32 (Read w8 6 arg00)))\n",
      "1238356,85,356,3038,1989629.0,0,70029264,17,133,0,1791362.0,7187,40267,252257,253488,252772,0,0,17,-1,184170,2135,102,0,0,0,0,0,0,0,0,0,85591,0,1894,0,143,0,26,0,0,2,0,0,626,35,118,11184,379727,276968,0,0,0,103607,73060,7896,3273,0,0,0,0,0,0,14,262,352,0,93145,0,1753,15,12017,130,1,110,0,0,0,0,0,0,0,0,(Sle 32       (SExt w32 (Read w8 7 arg00)))\n",
      "1238356,85,356,3038,1699773.0,0,70029840,18,140,0,1627732.0,7187,40267,254156,255361,254624,0,0,18,-1,184170,2135,102,0,0,0,0,0,0,0,0,0,85591,0,1894,0,143,0,26,0,0,2,0,0,626,35,118,11184,379727,276968,0,0,0,103607,73060,7896,3273,0,0,0,0,0,0,14,262,352,0,93145,0,1753,15,12017,130,1,110,0,0,0,0,0,0,0,0,(Sle 32       (SExt w32 (Read w8 8 arg00)))\n",
      "1238356,85,356,3038,2104123.0,0,70032912,18,140,0,1887557.0,7187,40267,247528,248834,248004,0,0,18,-1,184170,2135,102,0,0,0,0,0,0,0,0,0,85591,0,1894,0,143,0,26,0,0,2,0,0,626,35,118,11184,379727,276968,0,0,0,103607,73060,7896,3273,0,0,0,0,0,0,14,262,352,0,93145,0,1753,15,12017,130,1,110,0,0,0,0,0,0,0,0,(Sle 32       (SExt w32 (Read w8 9 arg00)))\n",
      "1238356,85,356,3038,1835693.0,0,70029840,18,140,0,1624848.0,7187,40267,268657,270007,269173,0,0,18,-1,184170,2135,102,0,0,0,0,0,0,0,0,0,85591,0,1894,0,143,0,26,0,0,2,0,0,626,35,118,11184,379727,276968,0,0,0,103607,73060,7896,3273,0,0,0,0,0,0,14,262,352,0,93145,0,1753,15,12017,130,1,110,0,0,0,0,0,0,0,0,(Eq false      (Eq 45 (Read w8 0 arg00)))\n",
      "1238356,85,356,3038,2001059.0,0,70029840,18,140,0,1855152.0,7187,40267,246174,247502,246676,0,0,18,-1,184170,2135,102,0,0,0,0,0,0,0,0,0,85591,0,1894,0,143,0,26,0,0,2,0,0,626,35,118,11184,379727,276968,0,0,0,103607,73060,7896,3273,0,0,0,0,0,0,14,262,352,0,93145,0,1753,15,12017,130,1,110,0,0,0,0,0,0,0,0,(Eq 0 (Read w8 1 arg00))\n",
      "1238356,85,356,3038,1758337.0,0,70029840,18,140,0,1699302.0,7187,40267,232585,233755,233037,0,0,18,-1,184170,2135,102,0,0,0,0,0,0,0,0,0,85591,0,1894,0,143,0,26,0,0,2,0,0,626,35,118,11184,379727,276968,0,0,0,103607,73060,7896,3273,0,0,0,0,0,0,14,262,352,0,93145,0,1753,15,12017,130,1,110,0,0,0,0,0,0,0,0,(Eq 45 (Read w8 0 arg00))\n",
      "1238356,85,356,3038,1889625.0,0,70029840,18,140,0,1769479.0,7187,40267,278831,280177,279364,0,0,18,-1,184170,2135,102,0,0,0,0,0,0,0,0,0,85591,0,1894,0,143,0,26,0,0,2,0,0,626,35,118,11184,379727,276968,0,0,0,103607,73060,7896,3273,0,0,0,0,0,0,14,262,352,0,93145,0,1753,15,12017,130,1,110,0,0,0,0,0,0,0,0,(Eq false      (Eq 0 (Read w8 0 arg00)))\n",
      "1238356,85,356,3038,2021779.0,0,70031376,18,140,0,1698222.0,7187,40267,235900,237107,236377,0,0,18,-1,184170,2135,102,0,0,0,0,0,0,0,0,0,85591,0,1894,0,143,0,26,0,0,2,0,0,626,35,118,11184,379727,276968,0,0,0,103607,73060,7896,3273,0,0,0,0,0,0,14,262,352,0,93145,0,1753,15,12017,130,1,110,0,0,0,0,0,0,0,0,(Eq 45 (Read w8 1 arg00))\n",
      "1238356,85,356,3038,1805143.0,0,70029840,18,140,0,1625990.0,7187,40267,269447,270691,269920,0,0,18,-1,184170,2135,102,0,0,0,0,0,0,0,0,0,85591,0,1894,0,143,0,26,0,0,2,0,0,626,35,118,11184,379727,276968,0,0,0,103607,73060,7896,3273,0,0,0,0,0,0,14,262,352,0,93145,0,1753,15,12017,130,1,110,0,0,0,0,0,0,0,0,(Eq false      (Eq 0 (Read w8 1 arg00)))\n",
      "1238356,85,356,3038,2087599.0,0,70031376,18,140,0,1795552.0,7187,40267,275285,276663,275867,0,0,18,-1,184170,2135,102,0,0,0,0,0,0,0,0,0,85591,0,1894,0,143,0,26,0,0,2,0,0,626,35,118,11184,379727,276968,0,0,0,103607,73060,7896,3273,0,0,0,0,0,0,14,262,352,0,93145,0,1753,15,12017,130,1,110,0,0,0,0,0,0,0,0,(Eq 0 (Read w8 2 arg00))\n",
      "1238356,85,356,3038,1933187.0,0,70032912,18,140,0,1819319.0,7187,40267,235449,236868,235980,0,0,18,-1,184170,2135,102,0,0,0,0,0,0,0,0,0,85591,0,1894,0,143,0,26,0,0,2,0,0,626,35,118,11184,379727,276968,0,0,0,103607,73060,7896,3273,0,0,0,0,0,0,14,262,352,0,93145,0,1753,15,12017,130,1,110,0,0,0,0,0,0,0,0,(Eq false      (Eq 0 (Read w8 2 arg00)))\n",
      "1238356,85,356,3038,1865239.0,0,70031376,18,140,0,1730353.0,7187,40267,271935,273420,272523,0,0,18,-1,184170,2135,102,0,0,0,0,0,0,0,0,0,85591,0,1894,0,143,0,26,0,0,2,0,0,626,35,118,11184,379727,276968,0,0,0,103607,73060,7896,3273,0,0,0,0,0,0,14,262,352,0,93145,0,1753,15,12017,130,1,110,0,0,0,0,0,0,0,0,(Eq false      (Eq 0 (Read w8 2 arg00)))\n",
      "KLEE: NOTE: Using POSIX model: /home/igandhi/Documents/build/Debug+Asserts/lib/libkleeRuntimePOSIX.bca\n",
      "KLEE: NOTE: Using klee-uclibc : /home/igandhi/Documents/build/Debug+Asserts/lib/klee-uclibc.bca\n",
      "KLEE: output directory is \"/home/igandhi/Documents/profiler/../klee/examples/llvm-coreutils/bitcodes/klee-out-0\"\n",
      "KLEE: Using STP solver backend\n",
      "KLEE: WARNING: undefined reference to function: __ctype_get_mb_cur_max\n",
      "KLEE: WARNING: undefined reference to function: bindtextdomain\n",
      "KLEE: WARNING: undefined reference to function: gettext\n",
      "KLEE: WARNING: undefined reference to function: posix_fadvise\n"
     ]
    },
    {
     "name": "stdout",
     "output_type": "stream",
     "text": [
      "KLEE: WARNING: undefined reference to function: textdomain\n",
      "KLEE: WARNING: executable has module level assembly (ignoring)\n",
      "KLEE: WARNING ONCE: calling external: syscall(16, 0, 21505, 94577137014448) at klee/runtime/POSIX/fd.c:1007 10\n",
      "KLEE: WARNING ONCE: Alignment of memory from call \"malloc\" is not modelled. Using alignment of 8.\n",
      "KLEE: WARNING ONCE: skipping fork (fork disabled globally)\n",
      "KLEE: WARNING ONCE: calling __klee_posix_wrapped_main with extra arguments.\n",
      "KLEE: WARNING ONCE: calling external: getpagesize() at [no debug info]\n",
      "KLEE: WARNING ONCE: Alignment of memory from call \"calloc\" is not modelled. Using alignment of 8.\n",
      "KLEE: WARNING ONCE: calling external: bindtextdomain(94577136256880, 94577136335840) at [no debug info]\n",
      "KLEE: WARNING ONCE: calling external: textdomain(94577136256880) at [no debug info]\n",
      "KLEE: WARNING ONCE: Alignment of memory from call \"realloc\" is not modelled. Using alignment of 8.\n",
      "KLEE: WARNING ONCE: calling external: vprintf(94577136387032, 94577137479488) at libc/stdio/fprintf.c:35 14\n",
      "\n",
      "KLEE: WARNING ONCE: calling close_stdout with extra arguments.\n",
      "\n",
      "KLEE: done: total instructions = 179693\n",
      "KLEE: done: completed paths = 1\n",
      "KLEE: done: generated tests = 1\n",
      "forking on condition: (Sle 32\n",
      "      (SExt w32 (Read w8 0 arg00))), line number: 50, position 847\n",
      "forking on condition: (Sle 32\n",
      "      (SExt w32 (Read w8 1 arg00))), line number: 50, position 849\n",
      "forking on condition: (Sle 32\n",
      "      (SExt w32 (Read w8 2 arg00))), line number: 50, position 851\n",
      "forking on condition: (Sle 32\n",
      "      (SExt w32 (Read w8 3 arg00))), line number: 50, position 853\n",
      "forking on condition: (Sle 32\n",
      "      (SExt w32 (Read w8 4 arg00))), line number: 50, position 855\n",
      "forking on condition: (Sle 32\n",
      "      (SExt w32 (Read w8 5 arg00))), line number: 50, position 857\n",
      "forking on condition: (Sle 32\n",
      "      (SExt w32 (Read w8 6 arg00))), line number: 50, position 859\n",
      "forking on condition: (Sle 32\n",
      "      (SExt w32 (Read w8 7 arg00))), line number: 50, position 861\n",
      "forking on condition: (Sle 32\n",
      "      (SExt w32 (Read w8 8 arg00))), line number: 50, position 863\n",
      "forking on condition: (Sle 32\n",
      "      (SExt w32 (Read w8 9 arg00))), line number: 50, position 865\n",
      "forking on condition: (Eq false\n",
      "     (Eq 45 (Read w8 0 arg00))), line number: 478, position 12732\n",
      "forking on condition: (Eq 45 (Read w8 0 arg00)), line number: 35, position 12753\n",
      "forking on condition: (Eq 45 (Read w8 0 arg00)), line number: 0, position 12755\n",
      "forking on condition: (Eq 47 (Read w8 0 arg00)), line number: 43, position 12792\n",
      "forking on condition: (Eq 0 (Read w8 0 arg00)), line number: 60, position 12793\n",
      "forking on condition: (Eq false\n",
      "     (Eq 0 (Read w8 0 arg00))), line number: 1399, position 12797\n",
      ": No such file or directory\n",
      "/home/igandhi/Documents/build/bin/klee --search=random-path --no-forking --track-instruction-time --libc=uclibc --posix-runtime --replace-condition=0 --replay-path=\"/home/igandhi/Documents/profiler/../klee/examples/llvm-coreutils/bitcodes/klee-out-0/test000001.path\" ../klee/examples/llvm-coreutils/bitcodes/cat.bc  --sym-arg 10\n"
     ]
    },
    {
     "name": "stderr",
     "output_type": "stream",
     "text": [
      "KLEE: NOTE: Using POSIX model: /home/igandhi/Documents/build/Debug+Asserts/lib/libkleeRuntimePOSIX.bca\n",
      "KLEE: NOTE: Using klee-uclibc : /home/igandhi/Documents/build/Debug+Asserts/lib/klee-uclibc.bca\n",
      "KLEE: output directory is \"/home/igandhi/Documents/profiler/../klee/examples/llvm-coreutils/bitcodes/klee-out-1\"\n",
      "KLEE: Using STP solver backend\n",
      "KLEE: WARNING: undefined reference to function: __ctype_get_mb_cur_max\n",
      "KLEE: WARNING: undefined reference to function: bindtextdomain\n",
      "KLEE: WARNING: undefined reference to function: gettext\n",
      "KLEE: WARNING: undefined reference to function: posix_fadvise\n",
      "KLEE: WARNING: undefined reference to function: textdomain\n",
      "KLEE: WARNING: executable has module level assembly (ignoring)\n",
      "KLEE: WARNING ONCE: calling external: syscall(16, 0, 21505, 93861411471792) at klee/runtime/POSIX/fd.c:1007 10\n",
      "KLEE: WARNING ONCE: Alignment of memory from call \"malloc\" is not modelled. Using alignment of 8.\n",
      "KLEE: WARNING ONCE: calling __klee_posix_wrapped_main with extra arguments.\n",
      "KLEE: WARNING ONCE: calling external: getpagesize() at [no debug info]\n",
      "KLEE: WARNING ONCE: Alignment of memory from call \"calloc\" is not modelled. Using alignment of 8.\n",
      "KLEE: WARNING ONCE: calling external: bindtextdomain(93861410637680, 93861410716640) at [no debug info]\n",
      "KLEE: WARNING ONCE: calling external: textdomain(93861410637680) at [no debug info]\n",
      "KLEE: WARNING ONCE: Alignment of memory from call \"realloc\" is not modelled. Using alignment of 8.\n",
      "KLEE: WARNING ONCE: calling external: vprintf(93861410767832, 93861411860288) at libc/stdio/fprintf.c:35 14\n",
      "\n",
      "KLEE: WARNING ONCE: calling close_stdout with extra arguments.\n",
      "\n",
      "KLEE: done: total instructions = 179693\n",
      "KLEE: done: completed paths = 1\n",
      "KLEE: done: generated tests = 1\n"
     ]
    },
    {
     "name": "stdout",
     "output_type": "stream",
     "text": [
      "/home/igandhi/Documents/build/bin/klee --search=random-path --no-forking --track-instruction-time --libc=uclibc --posix-runtime --replace-condition=847 --replay-path=\"/home/igandhi/Documents/profiler/../klee/examples/llvm-coreutils/bitcodes/klee-out-0/test000001.path\" ../klee/examples/llvm-coreutils/bitcodes/cat.bc  --sym-arg 10\n"
     ]
    },
    {
     "name": "stderr",
     "output_type": "stream",
     "text": [
      "KLEE: NOTE: Using POSIX model: /home/igandhi/Documents/build/Debug+Asserts/lib/libkleeRuntimePOSIX.bca\n",
      "KLEE: NOTE: Using klee-uclibc : /home/igandhi/Documents/build/Debug+Asserts/lib/klee-uclibc.bca\n",
      "KLEE: output directory is \"/home/igandhi/Documents/profiler/../klee/examples/llvm-coreutils/bitcodes/klee-out-2\"\n",
      "KLEE: Using STP solver backend\n",
      "KLEE: WARNING: undefined reference to function: __ctype_get_mb_cur_max\n",
      "KLEE: WARNING: undefined reference to function: bindtextdomain\n",
      "KLEE: WARNING: undefined reference to function: gettext\n",
      "KLEE: WARNING: undefined reference to function: posix_fadvise\n",
      "KLEE: WARNING: undefined reference to function: textdomain\n",
      "KLEE: WARNING: executable has module level assembly (ignoring)\n",
      "KLEE: WARNING ONCE: calling external: syscall(16, 0, 21505, 94690637936304) at klee/runtime/POSIX/fd.c:1007 10\n",
      "KLEE: WARNING ONCE: Alignment of memory from call \"malloc\" is not modelled. Using alignment of 8.\n",
      "KLEE: WARNING ONCE: calling __klee_posix_wrapped_main with extra arguments.\n",
      "KLEE: WARNING ONCE: calling external: getpagesize() at [no debug info]\n",
      "KLEE: WARNING ONCE: Alignment of memory from call \"calloc\" is not modelled. Using alignment of 8.\n",
      "KLEE: WARNING ONCE: calling external: bindtextdomain(94690637178736, 94690637257696) at [no debug info]\n",
      "KLEE: WARNING ONCE: calling external: textdomain(94690637178736) at [no debug info]\n",
      "KLEE: WARNING ONCE: Alignment of memory from call \"realloc\" is not modelled. Using alignment of 8.\n",
      "KLEE: WARNING ONCE: calling external: vprintf(94690637308888, 94690638401184) at libc/stdio/fprintf.c:35 14\n",
      "\n",
      "KLEE: WARNING ONCE: calling close_stdout with extra arguments.\n",
      "\n",
      "KLEE: done: total instructions = 179693\n",
      "KLEE: done: completed paths = 1\n",
      "KLEE: done: generated tests = 1\n"
     ]
    },
    {
     "name": "stdout",
     "output_type": "stream",
     "text": [
      "/home/igandhi/Documents/build/bin/klee --search=random-path --no-forking --track-instruction-time --libc=uclibc --posix-runtime --replace-condition=849 --replay-path=\"/home/igandhi/Documents/profiler/../klee/examples/llvm-coreutils/bitcodes/klee-out-0/test000001.path\" ../klee/examples/llvm-coreutils/bitcodes/cat.bc  --sym-arg 10\n"
     ]
    },
    {
     "name": "stderr",
     "output_type": "stream",
     "text": [
      "KLEE: NOTE: Using POSIX model: /home/igandhi/Documents/build/Debug+Asserts/lib/libkleeRuntimePOSIX.bca\n",
      "KLEE: NOTE: Using klee-uclibc : /home/igandhi/Documents/build/Debug+Asserts/lib/klee-uclibc.bca\n",
      "KLEE: output directory is \"/home/igandhi/Documents/profiler/../klee/examples/llvm-coreutils/bitcodes/klee-out-3\"\n",
      "KLEE: Using STP solver backend\n",
      "KLEE: WARNING: undefined reference to function: __ctype_get_mb_cur_max\n",
      "KLEE: WARNING: undefined reference to function: bindtextdomain\n",
      "KLEE: WARNING: undefined reference to function: gettext\n",
      "KLEE: WARNING: undefined reference to function: posix_fadvise\n",
      "KLEE: WARNING: undefined reference to function: textdomain\n",
      "KLEE: WARNING: executable has module level assembly (ignoring)\n",
      "KLEE: WARNING ONCE: calling external: syscall(16, 0, 21505, 93930091230896) at klee/runtime/POSIX/fd.c:1007 10\n",
      "KLEE: WARNING ONCE: Alignment of memory from call \"malloc\" is not modelled. Using alignment of 8.\n",
      "KLEE: WARNING ONCE: calling __klee_posix_wrapped_main with extra arguments.\n",
      "KLEE: WARNING ONCE: calling external: getpagesize() at [no debug info]\n",
      "KLEE: WARNING ONCE: Alignment of memory from call \"calloc\" is not modelled. Using alignment of 8.\n",
      "KLEE: WARNING ONCE: calling external: bindtextdomain(93930090473392, 93930090552288) at [no debug info]\n",
      "KLEE: WARNING ONCE: calling external: textdomain(93930090473392) at [no debug info]\n",
      "KLEE: WARNING ONCE: Alignment of memory from call \"realloc\" is not modelled. Using alignment of 8.\n",
      "KLEE: WARNING ONCE: calling external: vprintf(93930090603480, 93930091695776) at libc/stdio/fprintf.c:35 14\n",
      "\n",
      "KLEE: WARNING ONCE: calling close_stdout with extra arguments.\n",
      "\n",
      "KLEE: done: total instructions = 179693\n",
      "KLEE: done: completed paths = 1\n",
      "KLEE: done: generated tests = 1\n"
     ]
    },
    {
     "name": "stdout",
     "output_type": "stream",
     "text": [
      "/home/igandhi/Documents/build/bin/klee --search=random-path --no-forking --track-instruction-time --libc=uclibc --posix-runtime --replace-condition=851 --replay-path=\"/home/igandhi/Documents/profiler/../klee/examples/llvm-coreutils/bitcodes/klee-out-0/test000001.path\" ../klee/examples/llvm-coreutils/bitcodes/cat.bc  --sym-arg 10\n"
     ]
    },
    {
     "name": "stderr",
     "output_type": "stream",
     "text": [
      "KLEE: NOTE: Using POSIX model: /home/igandhi/Documents/build/Debug+Asserts/lib/libkleeRuntimePOSIX.bca\n",
      "KLEE: NOTE: Using klee-uclibc : /home/igandhi/Documents/build/Debug+Asserts/lib/klee-uclibc.bca\n",
      "KLEE: output directory is \"/home/igandhi/Documents/profiler/../klee/examples/llvm-coreutils/bitcodes/klee-out-4\"\n",
      "KLEE: Using STP solver backend\n",
      "KLEE: WARNING: undefined reference to function: __ctype_get_mb_cur_max\n",
      "KLEE: WARNING: undefined reference to function: bindtextdomain\n",
      "KLEE: WARNING: undefined reference to function: gettext\n",
      "KLEE: WARNING: undefined reference to function: posix_fadvise\n",
      "KLEE: WARNING: undefined reference to function: textdomain\n",
      "KLEE: WARNING: executable has module level assembly (ignoring)\n",
      "KLEE: WARNING ONCE: calling external: syscall(16, 0, 21505, 94468363613872) at klee/runtime/POSIX/fd.c:1007 10\n",
      "KLEE: WARNING ONCE: Alignment of memory from call \"malloc\" is not modelled. Using alignment of 8.\n",
      "KLEE: WARNING ONCE: calling __klee_posix_wrapped_main with extra arguments.\n",
      "KLEE: WARNING ONCE: calling external: getpagesize() at [no debug info]\n",
      "KLEE: WARNING ONCE: Alignment of memory from call \"calloc\" is not modelled. Using alignment of 8.\n",
      "KLEE: WARNING ONCE: calling external: bindtextdomain(94468362856368, 94468362935264) at [no debug info]\n",
      "KLEE: WARNING ONCE: calling external: textdomain(94468362856368) at [no debug info]\n",
      "KLEE: WARNING ONCE: Alignment of memory from call \"realloc\" is not modelled. Using alignment of 8.\n",
      "KLEE: WARNING ONCE: calling external: vprintf(94468362986456, 94468364078688) at libc/stdio/fprintf.c:35 14\n",
      "\n",
      "KLEE: WARNING ONCE: calling close_stdout with extra arguments.\n",
      "\n",
      "KLEE: done: total instructions = 179693\n",
      "KLEE: done: completed paths = 1\n",
      "KLEE: done: generated tests = 1\n"
     ]
    },
    {
     "name": "stdout",
     "output_type": "stream",
     "text": [
      "/home/igandhi/Documents/build/bin/klee --search=random-path --no-forking --track-instruction-time --libc=uclibc --posix-runtime --replace-condition=853 --replay-path=\"/home/igandhi/Documents/profiler/../klee/examples/llvm-coreutils/bitcodes/klee-out-0/test000001.path\" ../klee/examples/llvm-coreutils/bitcodes/cat.bc  --sym-arg 10\n"
     ]
    },
    {
     "name": "stderr",
     "output_type": "stream",
     "text": [
      "KLEE: NOTE: Using POSIX model: /home/igandhi/Documents/build/Debug+Asserts/lib/libkleeRuntimePOSIX.bca\n",
      "KLEE: NOTE: Using klee-uclibc : /home/igandhi/Documents/build/Debug+Asserts/lib/klee-uclibc.bca\n",
      "KLEE: output directory is \"/home/igandhi/Documents/profiler/../klee/examples/llvm-coreutils/bitcodes/klee-out-5\"\n",
      "KLEE: Using STP solver backend\n",
      "KLEE: WARNING: undefined reference to function: __ctype_get_mb_cur_max\n",
      "KLEE: WARNING: undefined reference to function: bindtextdomain\n",
      "KLEE: WARNING: undefined reference to function: gettext\n",
      "KLEE: WARNING: undefined reference to function: posix_fadvise\n",
      "KLEE: WARNING: undefined reference to function: textdomain\n",
      "KLEE: WARNING: executable has module level assembly (ignoring)\n",
      "KLEE: WARNING ONCE: calling external: syscall(16, 0, 21505, 94005197674160) at klee/runtime/POSIX/fd.c:1007 10\n",
      "KLEE: WARNING ONCE: Alignment of memory from call \"malloc\" is not modelled. Using alignment of 8.\n",
      "KLEE: WARNING ONCE: calling __klee_posix_wrapped_main with extra arguments.\n",
      "KLEE: WARNING ONCE: calling external: getpagesize() at [no debug info]\n",
      "KLEE: WARNING ONCE: Alignment of memory from call \"calloc\" is not modelled. Using alignment of 8.\n",
      "KLEE: WARNING ONCE: calling external: bindtextdomain(94005196916528, 94005196995552) at [no debug info]\n",
      "KLEE: WARNING ONCE: calling external: textdomain(94005196916528) at [no debug info]\n",
      "KLEE: WARNING ONCE: Alignment of memory from call \"realloc\" is not modelled. Using alignment of 8.\n",
      "KLEE: WARNING ONCE: calling external: vprintf(94005197046744, 94005198122592) at libc/stdio/fprintf.c:35 14\n",
      "\n",
      "KLEE: WARNING ONCE: calling close_stdout with extra arguments.\n",
      "\n",
      "KLEE: done: total instructions = 179693\n",
      "KLEE: done: completed paths = 1\n",
      "KLEE: done: generated tests = 1\n"
     ]
    },
    {
     "name": "stdout",
     "output_type": "stream",
     "text": [
      "/home/igandhi/Documents/build/bin/klee --search=random-path --no-forking --track-instruction-time --libc=uclibc --posix-runtime --replace-condition=855 --replay-path=\"/home/igandhi/Documents/profiler/../klee/examples/llvm-coreutils/bitcodes/klee-out-0/test000001.path\" ../klee/examples/llvm-coreutils/bitcodes/cat.bc  --sym-arg 10\n"
     ]
    },
    {
     "name": "stderr",
     "output_type": "stream",
     "text": [
      "KLEE: NOTE: Using POSIX model: /home/igandhi/Documents/build/Debug+Asserts/lib/libkleeRuntimePOSIX.bca\n",
      "KLEE: NOTE: Using klee-uclibc : /home/igandhi/Documents/build/Debug+Asserts/lib/klee-uclibc.bca\n",
      "KLEE: output directory is \"/home/igandhi/Documents/profiler/../klee/examples/llvm-coreutils/bitcodes/klee-out-6\"\n",
      "KLEE: Using STP solver backend\n",
      "KLEE: WARNING: undefined reference to function: __ctype_get_mb_cur_max\n",
      "KLEE: WARNING: undefined reference to function: bindtextdomain\n",
      "KLEE: WARNING: undefined reference to function: gettext\n",
      "KLEE: WARNING: undefined reference to function: posix_fadvise\n",
      "KLEE: WARNING: undefined reference to function: textdomain\n",
      "KLEE: WARNING: executable has module level assembly (ignoring)\n",
      "KLEE: WARNING ONCE: calling external: syscall(16, 0, 21505, 94155552741040) at klee/runtime/POSIX/fd.c:1007 10\n",
      "KLEE: WARNING ONCE: Alignment of memory from call \"malloc\" is not modelled. Using alignment of 8.\n",
      "KLEE: WARNING ONCE: calling __klee_posix_wrapped_main with extra arguments.\n",
      "KLEE: WARNING ONCE: calling external: getpagesize() at [no debug info]\n",
      "KLEE: WARNING ONCE: Alignment of memory from call \"calloc\" is not modelled. Using alignment of 8.\n",
      "KLEE: WARNING ONCE: calling external: bindtextdomain(94155551983408, 94155552062432) at [no debug info]\n",
      "KLEE: WARNING ONCE: calling external: textdomain(94155551983408) at [no debug info]\n",
      "KLEE: WARNING ONCE: Alignment of memory from call \"realloc\" is not modelled. Using alignment of 8.\n",
      "KLEE: WARNING ONCE: calling external: vprintf(94155552113624, 94155553189536) at libc/stdio/fprintf.c:35 14\n",
      "\n",
      "KLEE: WARNING ONCE: calling close_stdout with extra arguments.\n",
      "\n",
      "KLEE: done: total instructions = 179693\n",
      "KLEE: done: completed paths = 1\n",
      "KLEE: done: generated tests = 1\n"
     ]
    },
    {
     "name": "stdout",
     "output_type": "stream",
     "text": [
      "/home/igandhi/Documents/build/bin/klee --search=random-path --no-forking --track-instruction-time --libc=uclibc --posix-runtime --replace-condition=857 --replay-path=\"/home/igandhi/Documents/profiler/../klee/examples/llvm-coreutils/bitcodes/klee-out-0/test000001.path\" ../klee/examples/llvm-coreutils/bitcodes/cat.bc  --sym-arg 10\n"
     ]
    },
    {
     "name": "stderr",
     "output_type": "stream",
     "text": [
      "KLEE: NOTE: Using POSIX model: /home/igandhi/Documents/build/Debug+Asserts/lib/libkleeRuntimePOSIX.bca\n",
      "KLEE: NOTE: Using klee-uclibc : /home/igandhi/Documents/build/Debug+Asserts/lib/klee-uclibc.bca\n",
      "KLEE: output directory is \"/home/igandhi/Documents/profiler/../klee/examples/llvm-coreutils/bitcodes/klee-out-7\"\n",
      "KLEE: Using STP solver backend\n",
      "KLEE: WARNING: undefined reference to function: __ctype_get_mb_cur_max\n",
      "KLEE: WARNING: undefined reference to function: bindtextdomain\n",
      "KLEE: WARNING: undefined reference to function: gettext\n",
      "KLEE: WARNING: undefined reference to function: posix_fadvise\n",
      "KLEE: WARNING: undefined reference to function: textdomain\n",
      "KLEE: WARNING: executable has module level assembly (ignoring)\n",
      "KLEE: WARNING ONCE: calling external: syscall(16, 0, 21505, 94205095990960) at klee/runtime/POSIX/fd.c:1007 10\n",
      "KLEE: WARNING ONCE: Alignment of memory from call \"malloc\" is not modelled. Using alignment of 8.\n",
      "KLEE: WARNING ONCE: calling __klee_posix_wrapped_main with extra arguments.\n",
      "KLEE: WARNING ONCE: calling external: getpagesize() at [no debug info]\n",
      "KLEE: WARNING ONCE: Alignment of memory from call \"calloc\" is not modelled. Using alignment of 8.\n",
      "KLEE: WARNING ONCE: calling external: bindtextdomain(94205095233456, 94205095312352) at [no debug info]\n",
      "KLEE: WARNING ONCE: calling external: textdomain(94205095233456) at [no debug info]\n",
      "KLEE: WARNING ONCE: Alignment of memory from call \"realloc\" is not modelled. Using alignment of 8.\n",
      "KLEE: WARNING ONCE: calling external: vprintf(94205095363544, 94205096455776) at libc/stdio/fprintf.c:35 14\n",
      "\n",
      "KLEE: WARNING ONCE: calling close_stdout with extra arguments.\n",
      "\n",
      "KLEE: done: total instructions = 179693\n",
      "KLEE: done: completed paths = 1\n",
      "KLEE: done: generated tests = 1\n"
     ]
    },
    {
     "name": "stdout",
     "output_type": "stream",
     "text": [
      "/home/igandhi/Documents/build/bin/klee --search=random-path --no-forking --track-instruction-time --libc=uclibc --posix-runtime --replace-condition=859 --replay-path=\"/home/igandhi/Documents/profiler/../klee/examples/llvm-coreutils/bitcodes/klee-out-0/test000001.path\" ../klee/examples/llvm-coreutils/bitcodes/cat.bc  --sym-arg 10\n"
     ]
    },
    {
     "name": "stderr",
     "output_type": "stream",
     "text": [
      "KLEE: NOTE: Using POSIX model: /home/igandhi/Documents/build/Debug+Asserts/lib/libkleeRuntimePOSIX.bca\n",
      "KLEE: NOTE: Using klee-uclibc : /home/igandhi/Documents/build/Debug+Asserts/lib/klee-uclibc.bca\n",
      "KLEE: output directory is \"/home/igandhi/Documents/profiler/../klee/examples/llvm-coreutils/bitcodes/klee-out-8\"\n",
      "KLEE: Using STP solver backend\n",
      "KLEE: WARNING: undefined reference to function: __ctype_get_mb_cur_max\n",
      "KLEE: WARNING: undefined reference to function: bindtextdomain\n",
      "KLEE: WARNING: undefined reference to function: gettext\n",
      "KLEE: WARNING: undefined reference to function: posix_fadvise\n",
      "KLEE: WARNING: undefined reference to function: textdomain\n",
      "KLEE: WARNING: executable has module level assembly (ignoring)\n",
      "KLEE: WARNING ONCE: calling external: syscall(16, 0, 21505, 94730370045616) at klee/runtime/POSIX/fd.c:1007 10\n",
      "KLEE: WARNING ONCE: Alignment of memory from call \"malloc\" is not modelled. Using alignment of 8.\n",
      "KLEE: WARNING ONCE: calling __klee_posix_wrapped_main with extra arguments.\n",
      "KLEE: WARNING ONCE: calling external: getpagesize() at [no debug info]\n",
      "KLEE: WARNING ONCE: Alignment of memory from call \"calloc\" is not modelled. Using alignment of 8.\n",
      "KLEE: WARNING ONCE: calling external: bindtextdomain(94730369288016, 94730369367008) at [no debug info]\n",
      "KLEE: WARNING ONCE: calling external: textdomain(94730369288016) at [no debug info]\n",
      "KLEE: WARNING ONCE: Alignment of memory from call \"realloc\" is not modelled. Using alignment of 8.\n",
      "KLEE: WARNING ONCE: calling external: vprintf(94730369418200, 94730370494048) at libc/stdio/fprintf.c:35 14\n",
      "\n",
      "KLEE: WARNING ONCE: calling close_stdout with extra arguments.\n",
      "\n",
      "KLEE: done: total instructions = 179693\n",
      "KLEE: done: completed paths = 1\n",
      "KLEE: done: generated tests = 1\n"
     ]
    },
    {
     "name": "stdout",
     "output_type": "stream",
     "text": [
      "/home/igandhi/Documents/build/bin/klee --search=random-path --no-forking --track-instruction-time --libc=uclibc --posix-runtime --replace-condition=861 --replay-path=\"/home/igandhi/Documents/profiler/../klee/examples/llvm-coreutils/bitcodes/klee-out-0/test000001.path\" ../klee/examples/llvm-coreutils/bitcodes/cat.bc  --sym-arg 10\n"
     ]
    },
    {
     "name": "stderr",
     "output_type": "stream",
     "text": [
      "KLEE: NOTE: Using POSIX model: /home/igandhi/Documents/build/Debug+Asserts/lib/libkleeRuntimePOSIX.bca\n",
      "KLEE: NOTE: Using klee-uclibc : /home/igandhi/Documents/build/Debug+Asserts/lib/klee-uclibc.bca\n",
      "KLEE: output directory is \"/home/igandhi/Documents/profiler/../klee/examples/llvm-coreutils/bitcodes/klee-out-9\"\n",
      "KLEE: Using STP solver backend\n",
      "KLEE: WARNING: undefined reference to function: __ctype_get_mb_cur_max\n",
      "KLEE: WARNING: undefined reference to function: bindtextdomain\n",
      "KLEE: WARNING: undefined reference to function: gettext\n",
      "KLEE: WARNING: undefined reference to function: posix_fadvise\n",
      "KLEE: WARNING: undefined reference to function: textdomain\n",
      "KLEE: WARNING: executable has module level assembly (ignoring)\n",
      "KLEE: WARNING ONCE: calling external: syscall(16, 0, 21505, 94162256106320) at klee/runtime/POSIX/fd.c:1007 10\n",
      "KLEE: WARNING ONCE: Alignment of memory from call \"malloc\" is not modelled. Using alignment of 8.\n",
      "KLEE: WARNING ONCE: calling __klee_posix_wrapped_main with extra arguments.\n",
      "KLEE: WARNING ONCE: calling external: getpagesize() at [no debug info]\n",
      "KLEE: WARNING ONCE: Alignment of memory from call \"calloc\" is not modelled. Using alignment of 8.\n",
      "KLEE: WARNING ONCE: calling external: bindtextdomain(94162255349616, 94162255428576) at [no debug info]\n",
      "KLEE: WARNING ONCE: calling external: textdomain(94162255349616) at [no debug info]\n",
      "KLEE: WARNING ONCE: Alignment of memory from call \"realloc\" is not modelled. Using alignment of 8.\n",
      "KLEE: WARNING ONCE: calling external: vprintf(94162255479768, 94162256572064) at libc/stdio/fprintf.c:35 14\n",
      "\n",
      "KLEE: WARNING ONCE: calling close_stdout with extra arguments.\n",
      "\n",
      "KLEE: done: total instructions = 179693\n",
      "KLEE: done: completed paths = 1\n",
      "KLEE: done: generated tests = 1\n"
     ]
    },
    {
     "name": "stdout",
     "output_type": "stream",
     "text": [
      "/home/igandhi/Documents/build/bin/klee --search=random-path --no-forking --track-instruction-time --libc=uclibc --posix-runtime --replace-condition=863 --replay-path=\"/home/igandhi/Documents/profiler/../klee/examples/llvm-coreutils/bitcodes/klee-out-0/test000001.path\" ../klee/examples/llvm-coreutils/bitcodes/cat.bc  --sym-arg 10\n"
     ]
    },
    {
     "name": "stderr",
     "output_type": "stream",
     "text": [
      "KLEE: NOTE: Using POSIX model: /home/igandhi/Documents/build/Debug+Asserts/lib/libkleeRuntimePOSIX.bca\n",
      "KLEE: NOTE: Using klee-uclibc : /home/igandhi/Documents/build/Debug+Asserts/lib/klee-uclibc.bca\n",
      "KLEE: output directory is \"/home/igandhi/Documents/profiler/../klee/examples/llvm-coreutils/bitcodes/klee-out-10\"\n",
      "KLEE: Using STP solver backend\n",
      "KLEE: WARNING: undefined reference to function: __ctype_get_mb_cur_max\n",
      "KLEE: WARNING: undefined reference to function: bindtextdomain\n",
      "KLEE: WARNING: undefined reference to function: gettext\n",
      "KLEE: WARNING: undefined reference to function: posix_fadvise\n",
      "KLEE: WARNING: undefined reference to function: textdomain\n",
      "KLEE: WARNING: executable has module level assembly (ignoring)\n",
      "KLEE: WARNING ONCE: calling external: syscall(16, 0, 21505, 93886326953648) at klee/runtime/POSIX/fd.c:1007 10\n",
      "KLEE: WARNING ONCE: Alignment of memory from call \"malloc\" is not modelled. Using alignment of 8.\n",
      "KLEE: WARNING ONCE: calling __klee_posix_wrapped_main with extra arguments.\n",
      "KLEE: WARNING ONCE: calling external: getpagesize() at [no debug info]\n",
      "KLEE: WARNING ONCE: Alignment of memory from call \"calloc\" is not modelled. Using alignment of 8.\n",
      "KLEE: WARNING ONCE: calling external: bindtextdomain(93886326196016, 93886326275040) at [no debug info]\n",
      "KLEE: WARNING ONCE: calling external: textdomain(93886326196016) at [no debug info]\n",
      "KLEE: WARNING ONCE: Alignment of memory from call \"realloc\" is not modelled. Using alignment of 8.\n",
      "KLEE: WARNING ONCE: calling external: vprintf(93886326326232, 93886327402304) at libc/stdio/fprintf.c:35 14\n",
      "\n",
      "KLEE: WARNING ONCE: calling close_stdout with extra arguments.\n",
      "\n",
      "KLEE: done: total instructions = 179693\n",
      "KLEE: done: completed paths = 1\n",
      "KLEE: done: generated tests = 1\n"
     ]
    },
    {
     "name": "stdout",
     "output_type": "stream",
     "text": [
      "/home/igandhi/Documents/build/bin/klee --search=random-path --no-forking --track-instruction-time --libc=uclibc --posix-runtime --replace-condition=865 --replay-path=\"/home/igandhi/Documents/profiler/../klee/examples/llvm-coreutils/bitcodes/klee-out-0/test000001.path\" ../klee/examples/llvm-coreutils/bitcodes/cat.bc  --sym-arg 10\n"
     ]
    },
    {
     "name": "stderr",
     "output_type": "stream",
     "text": [
      "KLEE: NOTE: Using POSIX model: /home/igandhi/Documents/build/Debug+Asserts/lib/libkleeRuntimePOSIX.bca\n",
      "KLEE: NOTE: Using klee-uclibc : /home/igandhi/Documents/build/Debug+Asserts/lib/klee-uclibc.bca\n",
      "KLEE: output directory is \"/home/igandhi/Documents/profiler/../klee/examples/llvm-coreutils/bitcodes/klee-out-11\"\n",
      "KLEE: Using STP solver backend\n",
      "KLEE: WARNING: undefined reference to function: __ctype_get_mb_cur_max\n",
      "KLEE: WARNING: undefined reference to function: bindtextdomain\n",
      "KLEE: WARNING: undefined reference to function: gettext\n",
      "KLEE: WARNING: undefined reference to function: posix_fadvise\n",
      "KLEE: WARNING: undefined reference to function: textdomain\n",
      "KLEE: WARNING: executable has module level assembly (ignoring)\n",
      "KLEE: WARNING ONCE: calling external: syscall(16, 0, 21505, 94433887704752) at klee/runtime/POSIX/fd.c:1007 10\n",
      "KLEE: WARNING ONCE: Alignment of memory from call \"malloc\" is not modelled. Using alignment of 8.\n",
      "KLEE: WARNING ONCE: calling __klee_posix_wrapped_main with extra arguments.\n",
      "KLEE: WARNING ONCE: calling external: getpagesize() at [no debug info]\n",
      "KLEE: WARNING ONCE: Alignment of memory from call \"calloc\" is not modelled. Using alignment of 8.\n",
      "KLEE: WARNING ONCE: calling external: bindtextdomain(94433886947184, 94433887026144) at [no debug info]\n",
      "KLEE: WARNING ONCE: calling external: textdomain(94433886947184) at [no debug info]\n",
      "KLEE: WARNING ONCE: Alignment of memory from call \"realloc\" is not modelled. Using alignment of 8.\n",
      "KLEE: WARNING ONCE: calling external: vprintf(94433887077336, 94433888169792) at libc/stdio/fprintf.c:35 14\n",
      "\n",
      "KLEE: WARNING ONCE: calling close_stdout with extra arguments.\n",
      "\n",
      "KLEE: done: total instructions = 179693\n",
      "KLEE: done: completed paths = 1\n",
      "KLEE: done: generated tests = 1\n"
     ]
    },
    {
     "name": "stdout",
     "output_type": "stream",
     "text": [
      "/home/igandhi/Documents/build/bin/klee --search=random-path --no-forking --track-instruction-time --libc=uclibc --posix-runtime --replace-condition=12732 --replay-path=\"/home/igandhi/Documents/profiler/../klee/examples/llvm-coreutils/bitcodes/klee-out-0/test000001.path\" ../klee/examples/llvm-coreutils/bitcodes/cat.bc  --sym-arg 10\n"
     ]
    },
    {
     "name": "stderr",
     "output_type": "stream",
     "text": [
      "KLEE: NOTE: Using POSIX model: /home/igandhi/Documents/build/Debug+Asserts/lib/libkleeRuntimePOSIX.bca\n",
      "KLEE: NOTE: Using klee-uclibc : /home/igandhi/Documents/build/Debug+Asserts/lib/klee-uclibc.bca\n",
      "KLEE: output directory is \"/home/igandhi/Documents/profiler/../klee/examples/llvm-coreutils/bitcodes/klee-out-12\"\n",
      "KLEE: Using STP solver backend\n",
      "KLEE: WARNING: undefined reference to function: __ctype_get_mb_cur_max\n",
      "KLEE: WARNING: undefined reference to function: bindtextdomain\n",
      "KLEE: WARNING: undefined reference to function: gettext\n",
      "KLEE: WARNING: undefined reference to function: posix_fadvise\n",
      "KLEE: WARNING: undefined reference to function: textdomain\n",
      "KLEE: WARNING: executable has module level assembly (ignoring)\n",
      "KLEE: WARNING ONCE: calling external: syscall(16, 0, 21505, 94327691081392) at klee/runtime/POSIX/fd.c:1007 10\n",
      "KLEE: WARNING ONCE: Alignment of memory from call \"malloc\" is not modelled. Using alignment of 8.\n",
      "KLEE: WARNING ONCE: calling __klee_posix_wrapped_main with extra arguments.\n",
      "KLEE: WARNING ONCE: calling external: getpagesize() at [no debug info]\n",
      "KLEE: WARNING ONCE: Alignment of memory from call \"calloc\" is not modelled. Using alignment of 8.\n",
      "KLEE: WARNING ONCE: calling external: bindtextdomain(94327690323760, 94327690402784) at [no debug info]\n",
      "KLEE: WARNING ONCE: calling external: textdomain(94327690323760) at [no debug info]\n",
      "KLEE: WARNING ONCE: Alignment of memory from call \"realloc\" is not modelled. Using alignment of 8.\n",
      "KLEE: WARNING ONCE: calling external: vprintf(94327690453976, 94327691530048) at libc/stdio/fprintf.c:35 14\n",
      "\n",
      "KLEE: WARNING ONCE: calling close_stdout with extra arguments.\n",
      "\n",
      "KLEE: done: total instructions = 179693\n",
      "KLEE: done: completed paths = 1\n",
      "KLEE: done: generated tests = 1\n"
     ]
    },
    {
     "name": "stdout",
     "output_type": "stream",
     "text": [
      "/home/igandhi/Documents/build/bin/klee --search=random-path --no-forking --track-instruction-time --libc=uclibc --posix-runtime --replace-condition=12753 --replay-path=\"/home/igandhi/Documents/profiler/../klee/examples/llvm-coreutils/bitcodes/klee-out-0/test000001.path\" ../klee/examples/llvm-coreutils/bitcodes/cat.bc  --sym-arg 10\n"
     ]
    },
    {
     "name": "stderr",
     "output_type": "stream",
     "text": [
      "KLEE: NOTE: Using POSIX model: /home/igandhi/Documents/build/Debug+Asserts/lib/libkleeRuntimePOSIX.bca\n",
      "KLEE: NOTE: Using klee-uclibc : /home/igandhi/Documents/build/Debug+Asserts/lib/klee-uclibc.bca\n",
      "KLEE: output directory is \"/home/igandhi/Documents/profiler/../klee/examples/llvm-coreutils/bitcodes/klee-out-13\"\n",
      "KLEE: Using STP solver backend\n",
      "KLEE: WARNING: undefined reference to function: __ctype_get_mb_cur_max\n",
      "KLEE: WARNING: undefined reference to function: bindtextdomain\n",
      "KLEE: WARNING: undefined reference to function: gettext\n",
      "KLEE: WARNING: undefined reference to function: posix_fadvise\n",
      "KLEE: WARNING: undefined reference to function: textdomain\n",
      "KLEE: WARNING: executable has module level assembly (ignoring)\n",
      "KLEE: WARNING ONCE: calling external: syscall(16, 0, 21505, 93842507404976) at klee/runtime/POSIX/fd.c:1007 10\n",
      "KLEE: WARNING ONCE: Alignment of memory from call \"malloc\" is not modelled. Using alignment of 8.\n",
      "KLEE: WARNING ONCE: calling __klee_posix_wrapped_main with extra arguments.\n",
      "KLEE: WARNING ONCE: calling external: getpagesize() at [no debug info]\n",
      "KLEE: WARNING ONCE: Alignment of memory from call \"calloc\" is not modelled. Using alignment of 8.\n",
      "KLEE: WARNING ONCE: calling external: bindtextdomain(93842506647408, 93842506726368) at [no debug info]\n",
      "KLEE: WARNING ONCE: calling external: textdomain(93842506647408) at [no debug info]\n",
      "KLEE: WARNING ONCE: Alignment of memory from call \"realloc\" is not modelled. Using alignment of 8.\n",
      "KLEE: WARNING ONCE: calling external: vprintf(93842506777560, 93842507870016) at libc/stdio/fprintf.c:35 14\n",
      "\n",
      "KLEE: WARNING ONCE: calling close_stdout with extra arguments.\n",
      "\n",
      "KLEE: done: total instructions = 179693\n",
      "KLEE: done: completed paths = 1\n",
      "KLEE: done: generated tests = 1\n"
     ]
    },
    {
     "name": "stdout",
     "output_type": "stream",
     "text": [
      "/home/igandhi/Documents/build/bin/klee --search=random-path --no-forking --track-instruction-time --libc=uclibc --posix-runtime --replace-condition=12755 --replay-path=\"/home/igandhi/Documents/profiler/../klee/examples/llvm-coreutils/bitcodes/klee-out-0/test000001.path\" ../klee/examples/llvm-coreutils/bitcodes/cat.bc  --sym-arg 10\n"
     ]
    },
    {
     "name": "stderr",
     "output_type": "stream",
     "text": [
      "KLEE: NOTE: Using POSIX model: /home/igandhi/Documents/build/Debug+Asserts/lib/libkleeRuntimePOSIX.bca\n",
      "KLEE: NOTE: Using klee-uclibc : /home/igandhi/Documents/build/Debug+Asserts/lib/klee-uclibc.bca\n",
      "KLEE: output directory is \"/home/igandhi/Documents/profiler/../klee/examples/llvm-coreutils/bitcodes/klee-out-14\"\n",
      "KLEE: Using STP solver backend\n",
      "KLEE: WARNING: undefined reference to function: __ctype_get_mb_cur_max\n",
      "KLEE: WARNING: undefined reference to function: bindtextdomain\n",
      "KLEE: WARNING: undefined reference to function: gettext\n",
      "KLEE: WARNING: undefined reference to function: posix_fadvise\n",
      "KLEE: WARNING: undefined reference to function: textdomain\n",
      "KLEE: WARNING: executable has module level assembly (ignoring)\n",
      "KLEE: WARNING ONCE: calling external: syscall(16, 0, 21505, 94080887232176) at klee/runtime/POSIX/fd.c:1007 10\n",
      "KLEE: WARNING ONCE: Alignment of memory from call \"malloc\" is not modelled. Using alignment of 8.\n",
      "KLEE: WARNING ONCE: calling __klee_posix_wrapped_main with extra arguments.\n",
      "KLEE: WARNING ONCE: calling external: getpagesize() at [no debug info]\n",
      "KLEE: WARNING ONCE: Alignment of memory from call \"calloc\" is not modelled. Using alignment of 8.\n",
      "KLEE: WARNING ONCE: calling external: bindtextdomain(94080886474608, 94080886553568) at [no debug info]\n",
      "KLEE: WARNING ONCE: calling external: textdomain(94080886474608) at [no debug info]\n",
      "KLEE: WARNING ONCE: Alignment of memory from call \"realloc\" is not modelled. Using alignment of 8.\n",
      "KLEE: WARNING ONCE: calling external: vprintf(94080886604760, 94080887697216) at libc/stdio/fprintf.c:35 14\n",
      "\n",
      "KLEE: WARNING ONCE: calling close_stdout with extra arguments.\n",
      "\n",
      "KLEE: done: total instructions = 179693\n",
      "KLEE: done: completed paths = 1\n",
      "KLEE: done: generated tests = 1\n"
     ]
    },
    {
     "name": "stdout",
     "output_type": "stream",
     "text": [
      "/home/igandhi/Documents/build/bin/klee --search=random-path --no-forking --track-instruction-time --libc=uclibc --posix-runtime --replace-condition=12792 --replay-path=\"/home/igandhi/Documents/profiler/../klee/examples/llvm-coreutils/bitcodes/klee-out-0/test000001.path\" ../klee/examples/llvm-coreutils/bitcodes/cat.bc  --sym-arg 10\n"
     ]
    },
    {
     "name": "stderr",
     "output_type": "stream",
     "text": [
      "KLEE: NOTE: Using POSIX model: /home/igandhi/Documents/build/Debug+Asserts/lib/libkleeRuntimePOSIX.bca\n",
      "KLEE: NOTE: Using klee-uclibc : /home/igandhi/Documents/build/Debug+Asserts/lib/klee-uclibc.bca\n",
      "KLEE: output directory is \"/home/igandhi/Documents/profiler/../klee/examples/llvm-coreutils/bitcodes/klee-out-15\"\n",
      "KLEE: Using STP solver backend\n",
      "KLEE: WARNING: undefined reference to function: __ctype_get_mb_cur_max\n",
      "KLEE: WARNING: undefined reference to function: bindtextdomain\n",
      "KLEE: WARNING: undefined reference to function: gettext\n",
      "KLEE: WARNING: undefined reference to function: posix_fadvise\n",
      "KLEE: WARNING: undefined reference to function: textdomain\n",
      "KLEE: WARNING: executable has module level assembly (ignoring)\n",
      "KLEE: WARNING ONCE: calling external: syscall(16, 0, 21505, 94697198925488) at klee/runtime/POSIX/fd.c:1007 10\n",
      "KLEE: WARNING ONCE: Alignment of memory from call \"malloc\" is not modelled. Using alignment of 8.\n",
      "KLEE: WARNING ONCE: calling __klee_posix_wrapped_main with extra arguments.\n",
      "KLEE: WARNING ONCE: calling external: getpagesize() at [no debug info]\n",
      "KLEE: WARNING ONCE: Alignment of memory from call \"calloc\" is not modelled. Using alignment of 8.\n",
      "KLEE: WARNING ONCE: calling external: bindtextdomain(94697198167856, 94697198246880) at [no debug info]\n",
      "KLEE: WARNING ONCE: calling external: textdomain(94697198167856) at [no debug info]\n",
      "KLEE: WARNING ONCE: Alignment of memory from call \"realloc\" is not modelled. Using alignment of 8.\n",
      "KLEE: WARNING ONCE: calling external: vprintf(94697198298072, 94697199374144) at libc/stdio/fprintf.c:35 14\n",
      "\n",
      "KLEE: WARNING ONCE: calling close_stdout with extra arguments.\n",
      "\n",
      "KLEE: done: total instructions = 179693\n",
      "KLEE: done: completed paths = 1\n",
      "KLEE: done: generated tests = 1\n"
     ]
    },
    {
     "name": "stdout",
     "output_type": "stream",
     "text": [
      "/home/igandhi/Documents/build/bin/klee --search=random-path --no-forking --track-instruction-time --libc=uclibc --posix-runtime --replace-condition=12793 --replay-path=\"/home/igandhi/Documents/profiler/../klee/examples/llvm-coreutils/bitcodes/klee-out-0/test000001.path\" ../klee/examples/llvm-coreutils/bitcodes/cat.bc  --sym-arg 10\n"
     ]
    },
    {
     "name": "stderr",
     "output_type": "stream",
     "text": [
      "KLEE: NOTE: Using POSIX model: /home/igandhi/Documents/build/Debug+Asserts/lib/libkleeRuntimePOSIX.bca\n",
      "KLEE: NOTE: Using klee-uclibc : /home/igandhi/Documents/build/Debug+Asserts/lib/klee-uclibc.bca\n",
      "KLEE: output directory is \"/home/igandhi/Documents/profiler/../klee/examples/llvm-coreutils/bitcodes/klee-out-16\"\n",
      "KLEE: Using STP solver backend\n",
      "KLEE: WARNING: undefined reference to function: __ctype_get_mb_cur_max\n",
      "KLEE: WARNING: undefined reference to function: bindtextdomain\n",
      "KLEE: WARNING: undefined reference to function: gettext\n",
      "KLEE: WARNING: undefined reference to function: posix_fadvise\n",
      "KLEE: WARNING: undefined reference to function: textdomain\n",
      "KLEE: WARNING: executable has module level assembly (ignoring)\n",
      "KLEE: WARNING ONCE: calling external: syscall(16, 0, 21505, 94156993255088) at klee/runtime/POSIX/fd.c:1007 10\n",
      "KLEE: WARNING ONCE: Alignment of memory from call \"malloc\" is not modelled. Using alignment of 8.\n",
      "KLEE: WARNING ONCE: calling __klee_posix_wrapped_main with extra arguments.\n",
      "KLEE: WARNING ONCE: calling external: getpagesize() at [no debug info]\n",
      "KLEE: WARNING ONCE: Alignment of memory from call \"calloc\" is not modelled. Using alignment of 8.\n",
      "KLEE: WARNING ONCE: calling external: bindtextdomain(94156992497488, 94156992576480) at [no debug info]\n",
      "KLEE: WARNING ONCE: calling external: textdomain(94156992497488) at [no debug info]\n",
      "KLEE: WARNING ONCE: Alignment of memory from call \"realloc\" is not modelled. Using alignment of 8.\n",
      "KLEE: WARNING ONCE: calling external: vprintf(94156992627672, 94156993703744) at libc/stdio/fprintf.c:35 14\n",
      "\n",
      "KLEE: WARNING ONCE: calling close_stdout with extra arguments.\n",
      "\n",
      "KLEE: done: total instructions = 179693\n",
      "KLEE: done: completed paths = 1\n",
      "KLEE: done: generated tests = 1\n"
     ]
    },
    {
     "name": "stdout",
     "output_type": "stream",
     "text": [
      "/home/igandhi/Documents/build/bin/klee --search=random-path --no-forking --track-instruction-time --libc=uclibc --posix-runtime --replace-condition=12797 --replay-path=\"/home/igandhi/Documents/profiler/../klee/examples/llvm-coreutils/bitcodes/klee-out-0/test000001.path\" ../klee/examples/llvm-coreutils/bitcodes/cat.bc  --sym-arg 10\n"
     ]
    },
    {
     "name": "stderr",
     "output_type": "stream",
     "text": [
      "KLEE: NOTE: Using POSIX model: /home/igandhi/Documents/build/Debug+Asserts/lib/libkleeRuntimePOSIX.bca\n",
      "KLEE: NOTE: Using klee-uclibc : /home/igandhi/Documents/build/Debug+Asserts/lib/klee-uclibc.bca\n",
      "KLEE: output directory is \"/home/igandhi/Documents/profiler/../klee/examples/llvm-coreutils/bitcodes/klee-out-17\"\n",
      "KLEE: Using STP solver backend\n",
      "KLEE: WARNING: undefined reference to function: __ctype_get_mb_cur_max\n",
      "KLEE: WARNING: undefined reference to function: bindtextdomain\n",
      "KLEE: WARNING: undefined reference to function: gettext\n",
      "KLEE: WARNING: undefined reference to function: posix_fadvise\n",
      "KLEE: WARNING: undefined reference to function: textdomain\n",
      "KLEE: WARNING: executable has module level assembly (ignoring)\n",
      "KLEE: WARNING ONCE: calling external: syscall(16, 0, 21505, 94420611905200) at klee/runtime/POSIX/fd.c:1007 10\n",
      "KLEE: WARNING ONCE: Alignment of memory from call \"malloc\" is not modelled. Using alignment of 8.\n",
      "KLEE: WARNING ONCE: calling __klee_posix_wrapped_main with extra arguments.\n",
      "KLEE: WARNING ONCE: calling external: getpagesize() at [no debug info]\n",
      "KLEE: WARNING ONCE: Alignment of memory from call \"calloc\" is not modelled. Using alignment of 8.\n",
      "KLEE: WARNING ONCE: calling external: bindtextdomain(94420611147696, 94420611226592) at [no debug info]\n",
      "KLEE: WARNING ONCE: calling external: textdomain(94420611147696) at [no debug info]\n",
      "KLEE: WARNING ONCE: Alignment of memory from call \"realloc\" is not modelled. Using alignment of 8.\n",
      "KLEE: WARNING ONCE: calling external: vprintf(94420611277784, 94420612370240) at libc/stdio/fprintf.c:35 14\n",
      "\n",
      "KLEE: WARNING ONCE: calling close_stdout with extra arguments.\n",
      "\n",
      "KLEE: done: total instructions = 179693\n",
      "KLEE: done: completed paths = 1\n",
      "KLEE: done: generated tests = 1\n"
     ]
    },
    {
     "name": "stdout",
     "output_type": "stream",
     "text": [
      "Instructions,FullBranches,PartialBranches,NumBranches,UserTime,NumStates,MallocUsage,NumQueries,NumQueryConstructs,NumObjects,WallTime,CoveredInstructions,UncoveredInstructions,QueryTime,SolverTime,CexCacheTime,ForkTime,ResolveTime,QueryCexCacheMisses,QueryCexCacheHits,Breaks,Returns,Switchs,IndirectBrs,Invokes,Resumes,Unreachables,CleanupRets,CatchRets,CatchPads,CatchSwitchs,FNegs,Adds,FAdds,Subs,FSubs,Muls,FMuls,UDivs,SDivs,FDivs,URems,SRems,FRems,Ands,Ors,Xors,Allocas,Loads,Stores,AtomicCmpXchgs,AtomicRMWs,Fences,GetElementPtrs,Truncs,ZExts,SExts,FPTruncs,FPExts,FPToUIs,FPToSIs,UIToFPs,SIToFPs,IntToPtrs,PtrToInts,BitCasts,AddrSpaceCasts,ICmps,FCmps,PHIs,Selects,Calls,Shls,LShrs,AShrs,VAArgs,ExtractElements,InsertElements,ShuffleVectors,ExtractValues,InsertValues,LandingPads,CleanupPads,Cond\n",
      "179693,79,289,1844,838495.0,0,52107776,15,123,0,607123.0,5774,23829,204515,205712,204904,0,0,15,-1,24932,1105,2,0,0,0,0,0,0,0,0,0,8567,0,1267,0,81,0,4,0,0,1,0,0,159,20,19,5450,54266,36141,0,0,0,17184,871,5630,2694,0,0,0,0,0,0,3,123,161,0,13264,0,1279,4,6431,27,0,8,0,0,0,0,0,0,0,0,baseline\n",
      "179693,79,289,1844,788571.0,0,52107200,14,116,0,532483.0,5774,23829,197693,198816,198061,0,0,14,-1,24932,1105,2,0,0,0,0,0,0,0,0,0,8567,0,1267,0,81,0,4,0,0,1,0,0,159,20,19,5450,54266,36141,0,0,0,17184,871,5630,2694,0,0,0,0,0,0,3,123,161,0,13264,0,1279,4,6431,27,0,8,0,0,0,0,0,0,0,0,(Sle 32       (SExt w32 (Read w8 0 arg00)))\n",
      "179693,79,289,1844,864561.0,0,52110272,14,116,0,609620.0,5774,23829,188970,190154,189386,0,0,14,-1,24932,1105,2,0,0,0,0,0,0,0,0,0,8567,0,1267,0,81,0,4,0,0,1,0,0,159,20,19,5450,54266,36141,0,0,0,17184,871,5630,2694,0,0,0,0,0,0,3,123,161,0,13264,0,1279,4,6431,27,0,8,0,0,0,0,0,0,0,0,(Sle 32       (SExt w32 (Read w8 1 arg00)))\n",
      "179693,79,289,1844,736834.0,0,52110272,14,116,0,539145.0,5774,23829,211996,213082,212402,0,0,14,-1,24932,1105,2,0,0,0,0,0,0,0,0,0,8567,0,1267,0,81,0,4,0,0,1,0,0,159,20,19,5450,54266,36141,0,0,0,17184,871,5630,2694,0,0,0,0,0,0,3,123,161,0,13264,0,1279,4,6431,27,0,8,0,0,0,0,0,0,0,0,(Sle 32       (SExt w32 (Read w8 2 arg00)))\n",
      "179693,79,289,1844,878039.0,0,52107200,14,116,0,612953.0,5774,23829,205857,206936,206236,0,0,14,-1,24932,1105,2,0,0,0,0,0,0,0,0,0,8567,0,1267,0,81,0,4,0,0,1,0,0,159,20,19,5450,54266,36141,0,0,0,17184,871,5630,2694,0,0,0,0,0,0,3,123,161,0,13264,0,1279,4,6431,27,0,8,0,0,0,0,0,0,0,0,(Sle 32       (SExt w32 (Read w8 3 arg00)))\n",
      "179693,79,289,1844,890925.0,0,52110272,14,116,0,590341.0,5774,23829,211029,212094,211413,0,0,14,-1,24932,1105,2,0,0,0,0,0,0,0,0,0,8567,0,1267,0,81,0,4,0,0,1,0,0,159,20,19,5450,54266,36141,0,0,0,17184,871,5630,2694,0,0,0,0,0,0,3,123,161,0,13264,0,1279,4,6431,27,0,8,0,0,0,0,0,0,0,0,(Sle 32       (SExt w32 (Read w8 4 arg00)))\n",
      "179693,79,289,1844,848151.0,0,52111808,14,116,0,583391.0,5774,23829,195531,196610,195938,0,0,14,-1,24932,1105,2,0,0,0,0,0,0,0,0,0,8567,0,1267,0,81,0,4,0,0,1,0,0,159,20,19,5450,54266,36141,0,0,0,17184,871,5630,2694,0,0,0,0,0,0,3,123,161,0,13264,0,1279,4,6431,27,0,8,0,0,0,0,0,0,0,0,(Sle 32       (SExt w32 (Read w8 5 arg00)))\n",
      "179693,79,289,1844,758660.0,0,52110272,14,116,0,616191.0,5774,23829,206756,207815,207126,0,0,14,-1,24932,1105,2,0,0,0,0,0,0,0,0,0,8567,0,1267,0,81,0,4,0,0,1,0,0,159,20,19,5450,54266,36141,0,0,0,17184,871,5630,2694,0,0,0,0,0,0,3,123,161,0,13264,0,1279,4,6431,27,0,8,0,0,0,0,0,0,0,0,(Sle 32       (SExt w32 (Read w8 6 arg00)))\n",
      "179693,79,289,1844,750416.0,0,52107200,14,116,0,674691.0,5774,23829,210708,211910,211117,0,0,14,-1,24932,1105,2,0,0,0,0,0,0,0,0,0,8567,0,1267,0,81,0,4,0,0,1,0,0,159,20,19,5450,54266,36141,0,0,0,17184,871,5630,2694,0,0,0,0,0,0,3,123,161,0,13264,0,1279,4,6431,27,0,8,0,0,0,0,0,0,0,0,(Sle 32       (SExt w32 (Read w8 7 arg00)))\n",
      "179693,79,289,1844,882614.0,0,52107776,15,123,0,619676.0,5774,23829,207410,208716,207912,0,0,15,-1,24932,1105,2,0,0,0,0,0,0,0,0,0,8567,0,1267,0,81,0,4,0,0,1,0,0,159,20,19,5450,54266,36141,0,0,0,17184,871,5630,2694,0,0,0,0,0,0,3,123,161,0,13264,0,1279,4,6431,27,0,8,0,0,0,0,0,0,0,0,(Sle 32       (SExt w32 (Read w8 8 arg00)))\n",
      "179693,79,289,1844,949462.0,0,52107776,15,123,0,624024.0,5774,23829,212502,213826,212931,0,0,15,-1,24932,1105,2,0,0,0,0,0,0,0,0,0,8567,0,1267,0,81,0,4,0,0,1,0,0,159,20,19,5450,54266,36141,0,0,0,17184,871,5630,2694,0,0,0,0,0,0,3,123,161,0,13264,0,1279,4,6431,27,0,8,0,0,0,0,0,0,0,0,(Sle 32       (SExt w32 (Read w8 9 arg00)))\n",
      "179693,79,289,1844,1064402.0,0,52107776,15,123,0,641167.0,5774,23829,227343,228541,227762,0,0,15,-1,24932,1105,2,0,0,0,0,0,0,0,0,0,8567,0,1267,0,81,0,4,0,0,1,0,0,159,20,19,5450,54266,36141,0,0,0,17184,871,5630,2694,0,0,0,0,0,0,3,123,161,0,13264,0,1279,4,6431,27,0,8,0,0,0,0,0,0,0,0,(Eq false      (Eq 45 (Read w8 0 arg00)))\n",
      "179693,79,289,1844,846169.0,0,52107776,15,123,0,646638.0,5774,23829,215473,216580,215876,0,0,15,-1,24932,1105,2,0,0,0,0,0,0,0,0,0,8567,0,1267,0,81,0,4,0,0,1,0,0,159,20,19,5450,54266,36141,0,0,0,17184,871,5630,2694,0,0,0,0,0,0,3,123,161,0,13264,0,1279,4,6431,27,0,8,0,0,0,0,0,0,0,0,(Eq 45 (Read w8 0 arg00))\n",
      "179693,79,289,1844,790243.0,0,52113920,15,123,0,604934.0,5774,23829,210715,211922,211151,0,0,15,-1,24932,1105,2,0,0,0,0,0,0,0,0,0,8567,0,1267,0,81,0,4,0,0,1,0,0,159,20,19,5450,54266,36141,0,0,0,17184,871,5630,2694,0,0,0,0,0,0,3,123,161,0,13264,0,1279,4,6431,27,0,8,0,0,0,0,0,0,0,0,(Eq 45 (Read w8 0 arg00))\n",
      "179693,79,289,1844,955689.0,0,52107776,15,123,0,638221.0,5774,23829,222970,224212,223392,0,0,15,-1,24932,1105,2,0,0,0,0,0,0,0,0,0,8567,0,1267,0,81,0,4,0,0,1,0,0,159,20,19,5450,54266,36141,0,0,0,17184,871,5630,2694,0,0,0,0,0,0,3,123,161,0,13264,0,1279,4,6431,27,0,8,0,0,0,0,0,0,0,0,(Eq 47 (Read w8 0 arg00))\n",
      "179693,79,289,1844,809784.0,0,52107776,15,123,0,638895.0,5774,23829,220861,222155,221319,0,0,15,-1,24932,1105,2,0,0,0,0,0,0,0,0,0,8567,0,1267,0,81,0,4,0,0,1,0,0,159,20,19,5450,54266,36141,0,0,0,17184,871,5630,2694,0,0,0,0,0,0,3,123,161,0,13264,0,1279,4,6431,27,0,8,0,0,0,0,0,0,0,0,(Eq 0 (Read w8 0 arg00))\n",
      "179693,79,289,1844,836285.0,0,52112384,15,123,0,635759.0,5774,23829,218731,219858,219125,0,0,15,-1,24932,1105,2,0,0,0,0,0,0,0,0,0,8567,0,1267,0,81,0,4,0,0,1,0,0,159,20,19,5450,54266,36141,0,0,0,17184,871,5630,2694,0,0,0,0,0,0,3,123,161,0,13264,0,1279,4,6431,27,0,8,0,0,0,0,0,0,0,0,(Eq false      (Eq 0 (Read w8 0 arg00)))\n",
      "KLEE: NOTE: Using POSIX model: /home/igandhi/Documents/build/Debug+Asserts/lib/libkleeRuntimePOSIX.bca\n",
      "KLEE: NOTE: Using klee-uclibc : /home/igandhi/Documents/build/Debug+Asserts/lib/klee-uclibc.bca\n",
      "KLEE: output directory is \"/home/igandhi/Documents/profiler/../klee/examples/llvm-coreutils/bitcodes/klee-out-0\"\n",
      "KLEE: Using STP solver backend\n",
      "KLEE: WARNING: undefined reference to function: __ctype_get_mb_cur_max\n",
      "KLEE: WARNING: undefined reference to function: bindtextdomain\n",
      "KLEE: WARNING: undefined reference to function: gettext\n",
      "KLEE: WARNING: undefined reference to function: textdomain\n",
      "KLEE: WARNING: executable has module level assembly (ignoring)\n",
      "KLEE: WARNING ONCE: calling external: syscall(16, 0, 21505, 94749703239488) at klee/runtime/POSIX/fd.c:1007 10\n",
      "KLEE: WARNING ONCE: Alignment of memory from call \"malloc\" is not modelled. Using alignment of 8.\n",
      "KLEE: WARNING ONCE: skipping fork (fork disabled globally)\n",
      "KLEE: WARNING ONCE: calling __klee_posix_wrapped_main with extra arguments.\n",
      "KLEE: WARNING ONCE: Alignment of memory from call \"calloc\" is not modelled. Using alignment of 8.\n",
      "KLEE: WARNING ONCE: calling external: bindtextdomain(94749702505968, 94749702591936) at [no debug info]\n",
      "KLEE: WARNING ONCE: calling external: textdomain(94749702505968) at [no debug info]\n",
      "KLEE: WARNING ONCE: Alignment of memory from call \"realloc\" is not modelled. Using alignment of 8.\n",
      "forking on condition: (Sle 32\n",
      "      (SExt w32 (Read w8 0 arg00))), line number: 50, position 847\n",
      "forking on condition: (Sle 32\n",
      "      (SExt w32 (Read w8 1 arg00))), line number: 50, position 849\n",
      "forking on condition: (Sle 32\n",
      "      (SExt w32 (Read w8 2 arg00))), line number: 50, position 851\n",
      "forking on condition: (Sle 32\n",
      "      (SExt w32 (Read w8 3 arg00))), line number: 50, position 853\n",
      "forking on condition: (Sle 32\n",
      "      (SExt w32 (Read w8 4 arg00))), line number: 50, position 855\n",
      "forking on condition: (Sle 32\n",
      "      (SExt w32 (Read w8 5 arg00))), line number: 50, position 857\n",
      "forking on condition: (Sle 32\n"
     ]
    },
    {
     "name": "stdout",
     "output_type": "stream",
     "text": [
      "      (SExt w32 (Read w8 6 arg00))), line number: 50, position 859\n",
      "forking on condition: (Sle 32\n",
      "      (SExt w32 (Read w8 7 arg00))), line number: 50, position 861\n",
      "forking on condition: (Sle 32\n",
      "      (SExt w32 (Read w8 8 arg00))), line number: 50, position 863\n",
      "forking on condition: (Sle 32\n",
      "      (SExt w32 (Read w8 9 arg00))), line number: 50, position 865\n",
      "forking on condition: (Eq 45 (Read w8 0 arg00)), line number: 35, position 12730\n",
      "forking on condition: (Eq false\n",
      "     (Eq 45 (Read w8 0 arg00))), line number: 488, position 12732\n",
      "forking on condition: (Eq false\n",
      "     (Eq 45 (Read w8 0 arg00))), line number: 517, position 12734\n",
      "forking on condition: (Eq 45 (Read w8 0 arg00)), line number: 35, position 12738\n",
      "forking on condition: (Eq 45 (Read w8 0 arg00)), line number: 0, position 12740\n",
      "forking on condition: (Eq 45 (Read w8 0 arg00)), line number: 35, position 12895\n",
      "forking on condition: (Eq false\n",
      "     (Eq 45 (Read w8 0 arg00))), line number: 488, position 12897\n",
      "forking on condition: (Eq false\n",
      "     (Eq 45 (Read w8 0 arg00))), line number: 517, position 12899\n",
      "forking on condition: (Eq 45 (Read w8 0 arg00)), line number: 35, position 12903\n",
      "forking on condition: (Eq 45 (Read w8 0 arg00)), line number: 0, position 12905\n",
      "forking on condition: (Eq 61 (Read w8 0 arg00)), line number: 21, position 12907\n",
      "forking on condition: (Eq false\n",
      "     (Eq 0 (Read w8 0 arg00))), line number: 24, position 12908\n",
      "forking on condition: (Eq 61 (Read w8 1 arg00)), line number: 21, position 12909\n",
      "forking on condition: (Eq 61 (Read w8 0 arg00)), line number: 21, position 12911\n",
      "forking on condition: (Eq false\n",
      "     (Eq 0 (Read w8 0 arg00))), line number: 24, position 12912\n",
      "forking on condition: (Eq 61 (Read w8 1 arg00)), line number: 21, position 12913\n",
      "forking on condition: (Eq false\n",
      "     (Eq 0 (Read w8 0 arg00))), line number: 30, position 12916\n",
      "forking on condition: (Eq false\n",
      "     (Eq 0 (Read w8 0 arg00))), line number: 22, position 12922\n",
      "forking on condition: (Eq 77 (Read w8 0 arg00)), line number: 35, position 12928\n",
      "forking on condition: (Eq false\n",
      "     (Eq 77 (Read w8 0 arg00))), line number: 70, position 12930\n",
      "forking on condition: (Eq 83 (Read w8 0 arg00)), line number: 35, position 12933\n",
      "forking on condition: (Eq false\n",
      "     (Eq 83 (Read w8 0 arg00))), line number: 70, position 12935\n",
      "forking on condition: (Eq 85 (Read w8 0 arg00)), line number: 35, position 12938\n",
      "forking on condition: (Eq false\n",
      "     (Eq 85 (Read w8 0 arg00))), line number: 70, position 12940\n",
      "forking on condition: (Eq 83 (Read w8 0 arg00)), line number: 35, position 12943\n",
      "forking on condition: (Eq false\n",
      "     (Eq 83 (Read w8 0 arg00))), line number: 70, position 12945\n",
      "forking on condition: (Eq 72 (Read w8 0 arg00)), line number: 35, position 12948\n",
      "forking on condition: (Eq false\n",
      "     (Eq 72 (Read w8 0 arg00))), line number: 70, position 12950\n",
      "forking on condition: (Eq 67 (Read w8 0 arg00)), line number: 35, position 12953\n",
      "forking on condition: (Eq false\n",
      "     (Eq 67 (Read w8 0 arg00))), line number: 70, position 12955\n",
      "forking on condition: (Eq 83 (Read w8 0 arg00)), line number: 35, position 12958\n",
      "forking on condition: (Eq false\n",
      "     (Eq 83 (Read w8 0 arg00))), line number: 70, position 12960\n",
      "forking on condition: (Eq 79 (Read w8 0 arg00)), line number: 35, position 12963\n",
      "forking on condition: (Eq false\n",
      "     (Eq 79 (Read w8 0 arg00))), line number: 70, position 12965\n",
      "forking on condition: (Eq 68 (Read w8 0 arg00)), line number: 35, position 12968\n",
      "forking on condition: (Eq false\n",
      "     KLEE: WARNING ONCE: calling external: printf(94749702256488, 94749702132800, 10) at [no debug info]\n",
      "KLEE: WARNING ONCE: calling close_stdout with extra arguments.\n",
      "MAIL=/var/mail/igandhi\n",
      "SSH_CLIENT=76.104.10.229 63756 22\n",
      "USER=igandhi\n",
      "SHLVL=2\n",
      "HOME=/home/igandhi\n",
      "CAML_LD_LIBRARY_PATH=/home/igandhi/.opam/4.09.0/lib/stublibs:/home/igandhi/.opam/4.09.0/lib/ocaml/stublibs:/home/igandhi/.opam/4.09.0/lib/ocaml\n",
      "SSH_TTY=/dev/pts/9\n",
      "OCAML_TOPLEVEL_PATH=/home/igandhi/.opam/4.09.0/lib/toplevel\n",
      "DBUS_SESSION_BUS_ADDRESS=unix:path=/run/user/523177/bus\n",
      "LIBVIRT_DEFAULT_URI=qemu:///system\n",
      "LOGNAME=igandhi\n",
      "_=/home/igandhi/.local/bin/jupyter\n",
      "TERM=vt100\n",
      "XDG_SESSION_ID=27707\n",
      "PATH=/home/igandhi/.opam/4.09.0/bin:/usr/local/Cellar/llvm/9.0.1/bin:/usr/local/opt/texinfo/bin:/usr/local/opt/bison/bin:/usr/local/opt/flex/bin:/Applications/CoqIDE_8.10.2.app/Contents/Resources/bin:/usr/local/opt/python/bin:/Users/ishaangandhi/.local/bin:/anaconda3/bin:/Users/ishaangandhi/dist/build/bin:/usr/local/smlnj/bin:/Users/ishaangandhi/.ghcup/env:/Users/ishaangandhi/.ghcup/bin:/usr/local/sbin:/usr/local/bin:/usr/sbin:/usr/bin:/sbin:/bin:/usr/games:/usr/local/games:/snap/bin:/home/igandhi/bin:/home/igandhi/.local/bin:/home/igandhi/Documents/build/bin\n",
      "XDG_RUNTIME_DIR=/run/user/523177\n",
      "S_COLORS=auto\n",
      "LANG=en_US.UTF-8\n",
      "XDG_CONFIG_HOME=/home/igandhi/.config_ubuntu1804\n",
      "OPAMNOENVNOTICE=true\n",
      "GOPATH=/home/igandhi/Documents/Developer/go\n",
      "SHELL=/bin/bash\n",
      "OPAM_SWITCH_PREFIX=/home/igandhi/.opam/4.09.0\n",
      "PWD=/home/igandhi/Documents/profiler\n",
      "XDG_DATA_DIRS=/usr/local/share:/usr/share:/var/lib/snapd/desktop\n",
      "JPY_PARENT_PID=71646\n",
      "SSH_CONNECTION=76.104.10.229 63756 129.132.31.94 22\n",
      "MANPATH=:/home/igandhi/.opam/4.09.0/man\n",
      "GLIBCPP_FORCE_NEW=1\n",
      "GLIBCXX_FORCE_NEW=1\n",
      "\n",
      "\n",
      "KLEE: done: total instructions = 179223\n",
      "KLEE: done: completed paths = 1\n",
      "KLEE: done: generated tests = 1\n",
      "(Eq 68 (Read w8 0 arg00))), line number: 70, position 12970\n",
      "forking on condition: (Eq 76 (Read w8 0 arg00)), line number: 35, position 12973\n",
      "forking on condition: (Eq false\n",
      "     (Eq 76 (Read w8 0 arg00))), line number: 70, position 12975\n",
      "forking on condition: (Eq 76 (Read w8 0 arg00)), line number: 35, position 12978\n",
      "forking on condition: (Eq false\n",
      "     (Eq 76 (Read w8 0 arg00))), line number: 70, position 12980\n",
      "forking on condition: (Eq 95 (Read w8 0 arg00)), line number: 35, position 12983\n",
      "forking on condition: (Eq false\n",
      "     (Eq 95 (Read w8 0 arg00))), line number: 70, position 12985\n",
      "forking on condition: (Eq 84 (Read w8 0 arg00)), line number: 35, position 12988\n",
      "forking on condition: (Eq false\n",
      "     (Eq 84 (Read w8 0 arg00))), line number: 70, position 12990\n",
      "forking on condition: (Eq 88 (Read w8 0 arg00)), line number: 35, position 12993\n",
      "forking on condition: (Eq false\n",
      "     (Eq 88 (Read w8 0 arg00))), line number: 70, position 12995\n",
      "forking on condition: (Eq 80 (Read w8 0 arg00)), line number: 35, position 12998\n",
      "forking on condition: (Eq false\n",
      "     (Eq 80 (Read w8 0 arg00))), line number: 70, position 13000\n",
      "forking on condition: (Eq 88 (Read w8 0 arg00)), line number: 35, position 13003\n",
      "forking on condition: (Eq false\n",
      "     (Eq 88 (Read w8 0 arg00))), line number: 70, position 13005\n",
      "forking on condition: (Eq 83 (Read w8 0 arg00)), line number: 35, position 13008\n",
      "forking on condition: (Eq false\n",
      "     (Eq 83 (Read w8 0 arg00))), line number: 70, position 13010\n",
      "forking on condition: (Eq 76 (Read w8 0 arg00)), line number: 35, position 13013\n",
      "forking on condition: (Eq false\n",
      "     (Eq 76 (Read w8 0 arg00))), line number: 70, position 13015\n",
      "forking on condition: (Eq 88 (Read w8 0 arg00)), line number: 35, position 13018\n",
      "forking on condition: (Eq false\n",
      "     (Eq 88 (Read w8 0 arg00))), line number: 70, position 13020\n",
      "forking on condition: (Eq 79 (Read w8 0 arg00)), line number: 35, position 13023\n",
      "forking on condition: (Eq false\n",
      "     (Eq 79 (Read w8 0 arg00))), line number: 70, position 13025\n",
      "forking on condition: (Eq 71 (Read w8 0 arg00)), line number: 35, position 13028\n",
      "forking on condition: (Eq false\n",
      "     (Eq 71 (Read w8 0 arg00))), line number: 70, position 13030\n",
      "forking on condition: (Eq 83 (Read w8 0 arg00)), line number: 35, position 13033\n",
      "forking on condition: (Eq false\n",
      "     (Eq 83 (Read w8 0 arg00))), line number: 70, position 13035\n",
      "forking on condition: (Eq 79 (Read w8 0 arg00)), line number: 35, position 13038\n",
      "forking on condition: (Eq false\n",
      "     (Eq 79 (Read w8 0 arg00))), line number: 70, position 13040\n",
      "forking on condition: (Eq 80 (Read w8 0 arg00)), line number: 35, position 13043\n",
      "forking on condition: (Eq false\n",
      "     (Eq 80 (Read w8 0 arg00))), line number: 70, position 13045\n",
      "forking on condition: (Eq 88 (Read w8 0 arg00)), line number: 35, position 13048\n",
      "forking on condition: (Eq false\n",
      "     (Eq 88 (Read w8 0 arg00))), line number: 70, position 13050\n"
     ]
    },
    {
     "name": "stdout",
     "output_type": "stream",
     "text": [
      "forking on condition: (Eq 74 (Read w8 0 arg00)), line number: 35, position 13053\n",
      "forking on condition: (Eq false\n",
      "     (Eq 74 (Read w8 0 arg00))), line number: 70, position 13055\n",
      "forking on condition: (Eq 83 (Read w8 0 arg00)), line number: 35, position 13058\n",
      "forking on condition: (Eq false\n",
      "     (Eq 83 (Read w8 0 arg00))), line number: 70, position 13060\n",
      "forking on condition: (Eq 77 (Read w8 0 arg00)), line number: 35, position 13063\n",
      "forking on condition: (Eq false\n",
      "     (Eq 77 (Read w8 0 arg00))), line number: 70, position 13065\n",
      "forking on condition: (Eq 71 (Read w8 0 arg00)), line number: 35, position 13068\n",
      "forking on condition: (Eq false\n",
      "     (Eq 71 (Read w8 0 arg00))), line number: 70, position 13070\n",
      "forking on condition: (Eq 71 (Read w8 0 arg00)), line number: 35, position 13073\n",
      "forking on condition: (Eq false\n",
      "     (Eq 71 (Read w8 0 arg00))), line number: 70, position 13075\n",
      "/home/igandhi/Documents/build/bin/klee --search=random-path --no-forking --track-instruction-time --libc=uclibc --posix-runtime --replace-condition=0 --replay-path=\"/home/igandhi/Documents/profiler/../klee/examples/llvm-coreutils/bitcodes/klee-out-0/test000001.path\" ../klee/examples/llvm-coreutils/bitcodes/env.bc  --sym-arg 10\n"
     ]
    },
    {
     "name": "stderr",
     "output_type": "stream",
     "text": [
      "KLEE: NOTE: Using POSIX model: /home/igandhi/Documents/build/Debug+Asserts/lib/libkleeRuntimePOSIX.bca\n",
      "KLEE: NOTE: Using klee-uclibc : /home/igandhi/Documents/build/Debug+Asserts/lib/klee-uclibc.bca\n",
      "KLEE: output directory is \"/home/igandhi/Documents/profiler/../klee/examples/llvm-coreutils/bitcodes/klee-out-1\"\n",
      "KLEE: Using STP solver backend\n",
      "KLEE: WARNING: undefined reference to function: __ctype_get_mb_cur_max\n",
      "KLEE: WARNING: undefined reference to function: bindtextdomain\n",
      "KLEE: WARNING: undefined reference to function: gettext\n",
      "KLEE: WARNING: undefined reference to function: textdomain\n",
      "KLEE: WARNING: executable has module level assembly (ignoring)\n",
      "KLEE: WARNING ONCE: calling external: syscall(16, 0, 21505, 94439164188288) at klee/runtime/POSIX/fd.c:1007 10\n",
      "KLEE: WARNING ONCE: Alignment of memory from call \"malloc\" is not modelled. Using alignment of 8.\n",
      "KLEE: WARNING ONCE: calling __klee_posix_wrapped_main with extra arguments.\n",
      "KLEE: WARNING ONCE: Alignment of memory from call \"calloc\" is not modelled. Using alignment of 8.\n",
      "KLEE: WARNING ONCE: calling external: bindtextdomain(94439163454976, 94439163540928) at [no debug info]\n",
      "KLEE: WARNING ONCE: calling external: textdomain(94439163454976) at [no debug info]\n",
      "KLEE: WARNING ONCE: Alignment of memory from call \"realloc\" is not modelled. Using alignment of 8.\n",
      "KLEE: WARNING ONCE: calling external: printf(94439163205480, 94439163081792, 10) at [no debug info]\n",
      "KLEE: WARNING ONCE: calling close_stdout with extra arguments.\n",
      "\n",
      "KLEE: done: total instructions = 179223\n",
      "KLEE: done: completed paths = 1\n",
      "KLEE: done: generated tests = 1\n"
     ]
    },
    {
     "name": "stdout",
     "output_type": "stream",
     "text": [
      "/home/igandhi/Documents/build/bin/klee --search=random-path --no-forking --track-instruction-time --libc=uclibc --posix-runtime --replace-condition=847 --replay-path=\"/home/igandhi/Documents/profiler/../klee/examples/llvm-coreutils/bitcodes/klee-out-0/test000001.path\" ../klee/examples/llvm-coreutils/bitcodes/env.bc  --sym-arg 10\n"
     ]
    },
    {
     "name": "stderr",
     "output_type": "stream",
     "text": [
      "KLEE: NOTE: Using POSIX model: /home/igandhi/Documents/build/Debug+Asserts/lib/libkleeRuntimePOSIX.bca\n",
      "KLEE: NOTE: Using klee-uclibc : /home/igandhi/Documents/build/Debug+Asserts/lib/klee-uclibc.bca\n",
      "KLEE: output directory is \"/home/igandhi/Documents/profiler/../klee/examples/llvm-coreutils/bitcodes/klee-out-2\"\n",
      "KLEE: Using STP solver backend\n",
      "KLEE: WARNING: undefined reference to function: __ctype_get_mb_cur_max\n",
      "KLEE: WARNING: undefined reference to function: bindtextdomain\n",
      "KLEE: WARNING: undefined reference to function: gettext\n",
      "KLEE: WARNING: undefined reference to function: textdomain\n",
      "KLEE: WARNING: executable has module level assembly (ignoring)\n",
      "KLEE: WARNING ONCE: calling external: syscall(16, 0, 21505, 94174709997152) at klee/runtime/POSIX/fd.c:1007 10\n",
      "KLEE: WARNING ONCE: Alignment of memory from call \"malloc\" is not modelled. Using alignment of 8.\n",
      "KLEE: WARNING ONCE: calling __klee_posix_wrapped_main with extra arguments.\n",
      "KLEE: WARNING ONCE: Alignment of memory from call \"calloc\" is not modelled. Using alignment of 8.\n",
      "KLEE: WARNING ONCE: calling external: bindtextdomain(94174709261824, 94174709347776) at [no debug info]\n",
      "KLEE: WARNING ONCE: calling external: textdomain(94174709261824) at [no debug info]\n",
      "KLEE: WARNING ONCE: Alignment of memory from call \"realloc\" is not modelled. Using alignment of 8.\n",
      "KLEE: WARNING ONCE: calling external: printf(94174709012328, 94174708888640, 10) at [no debug info]\n",
      "KLEE: WARNING ONCE: calling close_stdout with extra arguments.\n",
      "\n",
      "KLEE: done: total instructions = 179223\n",
      "KLEE: done: completed paths = 1\n",
      "KLEE: done: generated tests = 1\n"
     ]
    },
    {
     "name": "stdout",
     "output_type": "stream",
     "text": [
      "/home/igandhi/Documents/build/bin/klee --search=random-path --no-forking --track-instruction-time --libc=uclibc --posix-runtime --replace-condition=849 --replay-path=\"/home/igandhi/Documents/profiler/../klee/examples/llvm-coreutils/bitcodes/klee-out-0/test000001.path\" ../klee/examples/llvm-coreutils/bitcodes/env.bc  --sym-arg 10\n"
     ]
    },
    {
     "name": "stderr",
     "output_type": "stream",
     "text": [
      "KLEE: NOTE: Using POSIX model: /home/igandhi/Documents/build/Debug+Asserts/lib/libkleeRuntimePOSIX.bca\n",
      "KLEE: NOTE: Using klee-uclibc : /home/igandhi/Documents/build/Debug+Asserts/lib/klee-uclibc.bca\n",
      "KLEE: output directory is \"/home/igandhi/Documents/profiler/../klee/examples/llvm-coreutils/bitcodes/klee-out-3\"\n",
      "KLEE: Using STP solver backend\n",
      "KLEE: WARNING: undefined reference to function: __ctype_get_mb_cur_max\n",
      "KLEE: WARNING: undefined reference to function: bindtextdomain\n",
      "KLEE: WARNING: undefined reference to function: gettext\n",
      "KLEE: WARNING: undefined reference to function: textdomain\n",
      "KLEE: WARNING: executable has module level assembly (ignoring)\n",
      "KLEE: WARNING ONCE: calling external: syscall(16, 0, 21505, 94918589707904) at klee/runtime/POSIX/fd.c:1007 10\n",
      "KLEE: WARNING ONCE: Alignment of memory from call \"malloc\" is not modelled. Using alignment of 8.\n",
      "KLEE: WARNING ONCE: calling __klee_posix_wrapped_main with extra arguments.\n",
      "KLEE: WARNING ONCE: Alignment of memory from call \"calloc\" is not modelled. Using alignment of 8.\n",
      "KLEE: WARNING ONCE: calling external: bindtextdomain(94918588974592, 94918589060544) at [no debug info]\n",
      "KLEE: WARNING ONCE: calling external: textdomain(94918588974592) at [no debug info]\n",
      "KLEE: WARNING ONCE: Alignment of memory from call \"realloc\" is not modelled. Using alignment of 8.\n",
      "KLEE: WARNING ONCE: calling external: printf(94918588725096, 94918588601408, 10) at [no debug info]\n",
      "KLEE: WARNING ONCE: calling close_stdout with extra arguments.\n",
      "\n",
      "KLEE: done: total instructions = 179223\n",
      "KLEE: done: completed paths = 1\n",
      "KLEE: done: generated tests = 1\n"
     ]
    },
    {
     "name": "stdout",
     "output_type": "stream",
     "text": [
      "/home/igandhi/Documents/build/bin/klee --search=random-path --no-forking --track-instruction-time --libc=uclibc --posix-runtime --replace-condition=851 --replay-path=\"/home/igandhi/Documents/profiler/../klee/examples/llvm-coreutils/bitcodes/klee-out-0/test000001.path\" ../klee/examples/llvm-coreutils/bitcodes/env.bc  --sym-arg 10\n"
     ]
    },
    {
     "name": "stderr",
     "output_type": "stream",
     "text": [
      "KLEE: NOTE: Using POSIX model: /home/igandhi/Documents/build/Debug+Asserts/lib/libkleeRuntimePOSIX.bca\n",
      "KLEE: NOTE: Using klee-uclibc : /home/igandhi/Documents/build/Debug+Asserts/lib/klee-uclibc.bca\n",
      "KLEE: output directory is \"/home/igandhi/Documents/profiler/../klee/examples/llvm-coreutils/bitcodes/klee-out-4\"\n",
      "KLEE: Using STP solver backend\n",
      "KLEE: WARNING: undefined reference to function: __ctype_get_mb_cur_max\n",
      "KLEE: WARNING: undefined reference to function: bindtextdomain\n",
      "KLEE: WARNING: undefined reference to function: gettext\n",
      "KLEE: WARNING: undefined reference to function: textdomain\n",
      "KLEE: WARNING: executable has module level assembly (ignoring)\n",
      "KLEE: WARNING ONCE: calling external: syscall(16, 0, 21505, 94374761397856) at klee/runtime/POSIX/fd.c:1007 10\n",
      "KLEE: WARNING ONCE: Alignment of memory from call \"malloc\" is not modelled. Using alignment of 8.\n",
      "KLEE: WARNING ONCE: calling __klee_posix_wrapped_main with extra arguments.\n",
      "KLEE: WARNING ONCE: Alignment of memory from call \"calloc\" is not modelled. Using alignment of 8.\n",
      "KLEE: WARNING ONCE: calling external: bindtextdomain(94374760662528, 94374760748480) at [no debug info]\n",
      "KLEE: WARNING ONCE: calling external: textdomain(94374760662528) at [no debug info]\n",
      "KLEE: WARNING ONCE: Alignment of memory from call \"realloc\" is not modelled. Using alignment of 8.\n",
      "KLEE: WARNING ONCE: calling external: printf(94374760413032, 94374760289344, 10) at [no debug info]\n",
      "KLEE: WARNING ONCE: calling close_stdout with extra arguments.\n",
      "\n",
      "KLEE: done: total instructions = 179223\n",
      "KLEE: done: completed paths = 1\n",
      "KLEE: done: generated tests = 1\n"
     ]
    },
    {
     "name": "stdout",
     "output_type": "stream",
     "text": [
      "/home/igandhi/Documents/build/bin/klee --search=random-path --no-forking --track-instruction-time --libc=uclibc --posix-runtime --replace-condition=853 --replay-path=\"/home/igandhi/Documents/profiler/../klee/examples/llvm-coreutils/bitcodes/klee-out-0/test000001.path\" ../klee/examples/llvm-coreutils/bitcodes/env.bc  --sym-arg 10\n"
     ]
    },
    {
     "name": "stderr",
     "output_type": "stream",
     "text": [
      "KLEE: NOTE: Using POSIX model: /home/igandhi/Documents/build/Debug+Asserts/lib/libkleeRuntimePOSIX.bca\n",
      "KLEE: NOTE: Using klee-uclibc : /home/igandhi/Documents/build/Debug+Asserts/lib/klee-uclibc.bca\n",
      "KLEE: output directory is \"/home/igandhi/Documents/profiler/../klee/examples/llvm-coreutils/bitcodes/klee-out-5\"\n",
      "KLEE: Using STP solver backend\n",
      "KLEE: WARNING: undefined reference to function: __ctype_get_mb_cur_max\n",
      "KLEE: WARNING: undefined reference to function: bindtextdomain\n",
      "KLEE: WARNING: undefined reference to function: gettext\n",
      "KLEE: WARNING: undefined reference to function: textdomain\n",
      "KLEE: WARNING: executable has module level assembly (ignoring)\n",
      "KLEE: WARNING ONCE: calling external: syscall(16, 0, 21505, 94457396158048) at klee/runtime/POSIX/fd.c:1007 10\n",
      "KLEE: WARNING ONCE: Alignment of memory from call \"malloc\" is not modelled. Using alignment of 8.\n",
      "KLEE: WARNING ONCE: calling __klee_posix_wrapped_main with extra arguments.\n",
      "KLEE: WARNING ONCE: Alignment of memory from call \"calloc\" is not modelled. Using alignment of 8.\n",
      "KLEE: WARNING ONCE: calling external: bindtextdomain(94457395422720, 94457395508672) at [no debug info]\n",
      "KLEE: WARNING ONCE: calling external: textdomain(94457395422720) at [no debug info]\n",
      "KLEE: WARNING ONCE: Alignment of memory from call \"realloc\" is not modelled. Using alignment of 8.\n",
      "KLEE: WARNING ONCE: calling external: printf(94457395173224, 94457395049536, 10) at [no debug info]\n",
      "KLEE: WARNING ONCE: calling close_stdout with extra arguments.\n",
      "\n",
      "KLEE: done: total instructions = 179223\n",
      "KLEE: done: completed paths = 1\n",
      "KLEE: done: generated tests = 1\n"
     ]
    },
    {
     "name": "stdout",
     "output_type": "stream",
     "text": [
      "/home/igandhi/Documents/build/bin/klee --search=random-path --no-forking --track-instruction-time --libc=uclibc --posix-runtime --replace-condition=855 --replay-path=\"/home/igandhi/Documents/profiler/../klee/examples/llvm-coreutils/bitcodes/klee-out-0/test000001.path\" ../klee/examples/llvm-coreutils/bitcodes/env.bc  --sym-arg 10\n"
     ]
    },
    {
     "name": "stderr",
     "output_type": "stream",
     "text": [
      "KLEE: NOTE: Using POSIX model: /home/igandhi/Documents/build/Debug+Asserts/lib/libkleeRuntimePOSIX.bca\n",
      "KLEE: NOTE: Using klee-uclibc : /home/igandhi/Documents/build/Debug+Asserts/lib/klee-uclibc.bca\n",
      "KLEE: output directory is \"/home/igandhi/Documents/profiler/../klee/examples/llvm-coreutils/bitcodes/klee-out-6\"\n",
      "KLEE: Using STP solver backend\n",
      "KLEE: WARNING: undefined reference to function: __ctype_get_mb_cur_max\n",
      "KLEE: WARNING: undefined reference to function: bindtextdomain\n",
      "KLEE: WARNING: undefined reference to function: gettext\n",
      "KLEE: WARNING: undefined reference to function: textdomain\n",
      "KLEE: WARNING: executable has module level assembly (ignoring)\n",
      "KLEE: WARNING ONCE: calling external: syscall(16, 0, 21505, 94373496995424) at klee/runtime/POSIX/fd.c:1007 10\n",
      "KLEE: WARNING ONCE: Alignment of memory from call \"malloc\" is not modelled. Using alignment of 8.\n",
      "KLEE: WARNING ONCE: calling __klee_posix_wrapped_main with extra arguments.\n",
      "KLEE: WARNING ONCE: Alignment of memory from call \"calloc\" is not modelled. Using alignment of 8.\n",
      "KLEE: WARNING ONCE: calling external: bindtextdomain(94373496260096, 94373496346048) at [no debug info]\n",
      "KLEE: WARNING ONCE: calling external: textdomain(94373496260096) at [no debug info]\n",
      "KLEE: WARNING ONCE: Alignment of memory from call \"realloc\" is not modelled. Using alignment of 8.\n",
      "KLEE: WARNING ONCE: calling external: printf(94373496010600, 94373495886912, 10) at [no debug info]\n",
      "KLEE: WARNING ONCE: calling close_stdout with extra arguments.\n",
      "\n",
      "KLEE: done: total instructions = 179223\n",
      "KLEE: done: completed paths = 1\n",
      "KLEE: done: generated tests = 1\n"
     ]
    },
    {
     "name": "stdout",
     "output_type": "stream",
     "text": [
      "/home/igandhi/Documents/build/bin/klee --search=random-path --no-forking --track-instruction-time --libc=uclibc --posix-runtime --replace-condition=857 --replay-path=\"/home/igandhi/Documents/profiler/../klee/examples/llvm-coreutils/bitcodes/klee-out-0/test000001.path\" ../klee/examples/llvm-coreutils/bitcodes/env.bc  --sym-arg 10\n"
     ]
    },
    {
     "name": "stderr",
     "output_type": "stream",
     "text": [
      "KLEE: NOTE: Using POSIX model: /home/igandhi/Documents/build/Debug+Asserts/lib/libkleeRuntimePOSIX.bca\n",
      "KLEE: NOTE: Using klee-uclibc : /home/igandhi/Documents/build/Debug+Asserts/lib/klee-uclibc.bca\n",
      "KLEE: output directory is \"/home/igandhi/Documents/profiler/../klee/examples/llvm-coreutils/bitcodes/klee-out-7\"\n",
      "KLEE: Using STP solver backend\n",
      "KLEE: WARNING: undefined reference to function: __ctype_get_mb_cur_max\n",
      "KLEE: WARNING: undefined reference to function: bindtextdomain\n",
      "KLEE: WARNING: undefined reference to function: gettext\n",
      "KLEE: WARNING: undefined reference to function: textdomain\n",
      "KLEE: WARNING: executable has module level assembly (ignoring)\n",
      "KLEE: WARNING ONCE: calling external: syscall(16, 0, 21505, 94082816071296) at klee/runtime/POSIX/fd.c:1007 10\n",
      "KLEE: WARNING ONCE: Alignment of memory from call \"malloc\" is not modelled. Using alignment of 8.\n",
      "KLEE: WARNING ONCE: calling __klee_posix_wrapped_main with extra arguments.\n",
      "KLEE: WARNING ONCE: Alignment of memory from call \"calloc\" is not modelled. Using alignment of 8.\n",
      "KLEE: WARNING ONCE: calling external: bindtextdomain(94082815337984, 94082815423936) at [no debug info]\n",
      "KLEE: WARNING ONCE: calling external: textdomain(94082815337984) at [no debug info]\n",
      "KLEE: WARNING ONCE: Alignment of memory from call \"realloc\" is not modelled. Using alignment of 8.\n",
      "KLEE: WARNING ONCE: calling external: printf(94082815088488, 94082814964800, 10) at [no debug info]\n",
      "KLEE: WARNING ONCE: calling close_stdout with extra arguments.\n",
      "\n",
      "KLEE: done: total instructions = 179223\n",
      "KLEE: done: completed paths = 1\n",
      "KLEE: done: generated tests = 1\n"
     ]
    },
    {
     "name": "stdout",
     "output_type": "stream",
     "text": [
      "/home/igandhi/Documents/build/bin/klee --search=random-path --no-forking --track-instruction-time --libc=uclibc --posix-runtime --replace-condition=859 --replay-path=\"/home/igandhi/Documents/profiler/../klee/examples/llvm-coreutils/bitcodes/klee-out-0/test000001.path\" ../klee/examples/llvm-coreutils/bitcodes/env.bc  --sym-arg 10\n"
     ]
    },
    {
     "name": "stderr",
     "output_type": "stream",
     "text": [
      "KLEE: NOTE: Using POSIX model: /home/igandhi/Documents/build/Debug+Asserts/lib/libkleeRuntimePOSIX.bca\n",
      "KLEE: NOTE: Using klee-uclibc : /home/igandhi/Documents/build/Debug+Asserts/lib/klee-uclibc.bca\n",
      "KLEE: output directory is \"/home/igandhi/Documents/profiler/../klee/examples/llvm-coreutils/bitcodes/klee-out-8\"\n",
      "KLEE: Using STP solver backend\n",
      "KLEE: WARNING: undefined reference to function: __ctype_get_mb_cur_max\n",
      "KLEE: WARNING: undefined reference to function: bindtextdomain\n",
      "KLEE: WARNING: undefined reference to function: gettext\n",
      "KLEE: WARNING: undefined reference to function: textdomain\n",
      "KLEE: WARNING: executable has module level assembly (ignoring)\n",
      "KLEE: WARNING ONCE: calling external: syscall(16, 0, 21505, 94658648997472) at klee/runtime/POSIX/fd.c:1007 10\n",
      "KLEE: WARNING ONCE: Alignment of memory from call \"malloc\" is not modelled. Using alignment of 8.\n",
      "KLEE: WARNING ONCE: calling __klee_posix_wrapped_main with extra arguments.\n",
      "KLEE: WARNING ONCE: Alignment of memory from call \"calloc\" is not modelled. Using alignment of 8.\n",
      "KLEE: WARNING ONCE: calling external: bindtextdomain(94658648262144, 94658648348096) at [no debug info]\n",
      "KLEE: WARNING ONCE: calling external: textdomain(94658648262144) at [no debug info]\n",
      "KLEE: WARNING ONCE: Alignment of memory from call \"realloc\" is not modelled. Using alignment of 8.\n",
      "KLEE: WARNING ONCE: calling external: printf(94658648012648, 94658647888960, 10) at [no debug info]\n",
      "KLEE: WARNING ONCE: calling close_stdout with extra arguments.\n",
      "\n",
      "KLEE: done: total instructions = 179223\n",
      "KLEE: done: completed paths = 1\n",
      "KLEE: done: generated tests = 1\n"
     ]
    },
    {
     "name": "stdout",
     "output_type": "stream",
     "text": [
      "/home/igandhi/Documents/build/bin/klee --search=random-path --no-forking --track-instruction-time --libc=uclibc --posix-runtime --replace-condition=861 --replay-path=\"/home/igandhi/Documents/profiler/../klee/examples/llvm-coreutils/bitcodes/klee-out-0/test000001.path\" ../klee/examples/llvm-coreutils/bitcodes/env.bc  --sym-arg 10\n"
     ]
    },
    {
     "name": "stderr",
     "output_type": "stream",
     "text": [
      "KLEE: NOTE: Using POSIX model: /home/igandhi/Documents/build/Debug+Asserts/lib/libkleeRuntimePOSIX.bca\n",
      "KLEE: NOTE: Using klee-uclibc : /home/igandhi/Documents/build/Debug+Asserts/lib/klee-uclibc.bca\n",
      "KLEE: output directory is \"/home/igandhi/Documents/profiler/../klee/examples/llvm-coreutils/bitcodes/klee-out-9\"\n",
      "KLEE: Using STP solver backend\n",
      "KLEE: WARNING: undefined reference to function: __ctype_get_mb_cur_max\n",
      "KLEE: WARNING: undefined reference to function: bindtextdomain\n",
      "KLEE: WARNING: undefined reference to function: gettext\n",
      "KLEE: WARNING: undefined reference to function: textdomain\n",
      "KLEE: WARNING: executable has module level assembly (ignoring)\n",
      "KLEE: WARNING ONCE: calling external: syscall(16, 0, 21505, 94624410236736) at klee/runtime/POSIX/fd.c:1007 10\n",
      "KLEE: WARNING ONCE: Alignment of memory from call \"malloc\" is not modelled. Using alignment of 8.\n",
      "KLEE: WARNING ONCE: calling __klee_posix_wrapped_main with extra arguments.\n",
      "KLEE: WARNING ONCE: Alignment of memory from call \"calloc\" is not modelled. Using alignment of 8.\n",
      "KLEE: WARNING ONCE: calling external: bindtextdomain(94624409503232, 94624409589184) at [no debug info]\n",
      "KLEE: WARNING ONCE: calling external: textdomain(94624409503232) at [no debug info]\n",
      "KLEE: WARNING ONCE: Alignment of memory from call \"realloc\" is not modelled. Using alignment of 8.\n",
      "KLEE: WARNING ONCE: calling external: printf(94624409253736, 94624409130048, 10) at [no debug info]\n",
      "KLEE: WARNING ONCE: calling close_stdout with extra arguments.\n",
      "\n",
      "KLEE: done: total instructions = 179223\n",
      "KLEE: done: completed paths = 1\n",
      "KLEE: done: generated tests = 1\n"
     ]
    },
    {
     "name": "stdout",
     "output_type": "stream",
     "text": [
      "/home/igandhi/Documents/build/bin/klee --search=random-path --no-forking --track-instruction-time --libc=uclibc --posix-runtime --replace-condition=863 --replay-path=\"/home/igandhi/Documents/profiler/../klee/examples/llvm-coreutils/bitcodes/klee-out-0/test000001.path\" ../klee/examples/llvm-coreutils/bitcodes/env.bc  --sym-arg 10\n"
     ]
    },
    {
     "name": "stderr",
     "output_type": "stream",
     "text": [
      "KLEE: NOTE: Using POSIX model: /home/igandhi/Documents/build/Debug+Asserts/lib/libkleeRuntimePOSIX.bca\n",
      "KLEE: NOTE: Using klee-uclibc : /home/igandhi/Documents/build/Debug+Asserts/lib/klee-uclibc.bca\n",
      "KLEE: output directory is \"/home/igandhi/Documents/profiler/../klee/examples/llvm-coreutils/bitcodes/klee-out-10\"\n",
      "KLEE: Using STP solver backend\n",
      "KLEE: WARNING: undefined reference to function: __ctype_get_mb_cur_max\n",
      "KLEE: WARNING: undefined reference to function: bindtextdomain\n",
      "KLEE: WARNING: undefined reference to function: gettext\n",
      "KLEE: WARNING: undefined reference to function: textdomain\n",
      "KLEE: WARNING: executable has module level assembly (ignoring)\n",
      "KLEE: WARNING ONCE: calling external: syscall(16, 0, 21505, 93854119640672) at klee/runtime/POSIX/fd.c:1007 10\n",
      "KLEE: WARNING ONCE: Alignment of memory from call \"malloc\" is not modelled. Using alignment of 8.\n",
      "KLEE: WARNING ONCE: calling __klee_posix_wrapped_main with extra arguments.\n",
      "KLEE: WARNING ONCE: Alignment of memory from call \"calloc\" is not modelled. Using alignment of 8.\n",
      "KLEE: WARNING ONCE: calling external: bindtextdomain(93854118905344, 93854118991296) at [no debug info]\n",
      "KLEE: WARNING ONCE: calling external: textdomain(93854118905344) at [no debug info]\n",
      "KLEE: WARNING ONCE: Alignment of memory from call \"realloc\" is not modelled. Using alignment of 8.\n",
      "KLEE: WARNING ONCE: calling external: printf(93854118655848, 93854118532160, 10) at [no debug info]\n",
      "KLEE: WARNING ONCE: calling close_stdout with extra arguments.\n",
      "\n",
      "KLEE: done: total instructions = 179223\n",
      "KLEE: done: completed paths = 1\n",
      "KLEE: done: generated tests = 1\n"
     ]
    },
    {
     "name": "stdout",
     "output_type": "stream",
     "text": [
      "/home/igandhi/Documents/build/bin/klee --search=random-path --no-forking --track-instruction-time --libc=uclibc --posix-runtime --replace-condition=865 --replay-path=\"/home/igandhi/Documents/profiler/../klee/examples/llvm-coreutils/bitcodes/klee-out-0/test000001.path\" ../klee/examples/llvm-coreutils/bitcodes/env.bc  --sym-arg 10\n"
     ]
    },
    {
     "name": "stderr",
     "output_type": "stream",
     "text": [
      "KLEE: NOTE: Using POSIX model: /home/igandhi/Documents/build/Debug+Asserts/lib/libkleeRuntimePOSIX.bca\n",
      "KLEE: NOTE: Using klee-uclibc : /home/igandhi/Documents/build/Debug+Asserts/lib/klee-uclibc.bca\n",
      "KLEE: output directory is \"/home/igandhi/Documents/profiler/../klee/examples/llvm-coreutils/bitcodes/klee-out-11\"\n",
      "KLEE: Using STP solver backend\n",
      "KLEE: WARNING: undefined reference to function: __ctype_get_mb_cur_max\n",
      "KLEE: WARNING: undefined reference to function: bindtextdomain\n",
      "KLEE: WARNING: undefined reference to function: gettext\n",
      "KLEE: WARNING: undefined reference to function: textdomain\n",
      "KLEE: WARNING: executable has module level assembly (ignoring)\n",
      "KLEE: WARNING ONCE: calling external: syscall(16, 0, 21505, 94447963067072) at klee/runtime/POSIX/fd.c:1007 10\n",
      "KLEE: WARNING ONCE: Alignment of memory from call \"malloc\" is not modelled. Using alignment of 8.\n",
      "KLEE: WARNING ONCE: calling __klee_posix_wrapped_main with extra arguments.\n",
      "KLEE: WARNING ONCE: Alignment of memory from call \"calloc\" is not modelled. Using alignment of 8.\n",
      "KLEE: WARNING ONCE: calling external: bindtextdomain(94447962334704, 94447962420672) at [no debug info]\n",
      "KLEE: WARNING ONCE: calling external: textdomain(94447962334704) at [no debug info]\n",
      "KLEE: WARNING ONCE: Alignment of memory from call \"realloc\" is not modelled. Using alignment of 8.\n",
      "KLEE: WARNING ONCE: calling external: printf(94447962085224, 94447961961536, 10) at [no debug info]\n",
      "KLEE: WARNING ONCE: calling close_stdout with extra arguments.\n",
      "\n",
      "KLEE: done: total instructions = 179223\n",
      "KLEE: done: completed paths = 1\n",
      "KLEE: done: generated tests = 1\n"
     ]
    },
    {
     "name": "stdout",
     "output_type": "stream",
     "text": [
      "/home/igandhi/Documents/build/bin/klee --search=random-path --no-forking --track-instruction-time --libc=uclibc --posix-runtime --replace-condition=12730 --replay-path=\"/home/igandhi/Documents/profiler/../klee/examples/llvm-coreutils/bitcodes/klee-out-0/test000001.path\" ../klee/examples/llvm-coreutils/bitcodes/env.bc  --sym-arg 10\n"
     ]
    },
    {
     "name": "stderr",
     "output_type": "stream",
     "text": [
      "KLEE: NOTE: Using POSIX model: /home/igandhi/Documents/build/Debug+Asserts/lib/libkleeRuntimePOSIX.bca\n",
      "KLEE: NOTE: Using klee-uclibc : /home/igandhi/Documents/build/Debug+Asserts/lib/klee-uclibc.bca\n",
      "KLEE: output directory is \"/home/igandhi/Documents/profiler/../klee/examples/llvm-coreutils/bitcodes/klee-out-12\"\n",
      "KLEE: Using STP solver backend\n",
      "KLEE: WARNING: undefined reference to function: __ctype_get_mb_cur_max\n",
      "KLEE: WARNING: undefined reference to function: bindtextdomain\n",
      "KLEE: WARNING: undefined reference to function: gettext\n",
      "KLEE: WARNING: undefined reference to function: textdomain\n",
      "KLEE: WARNING: executable has module level assembly (ignoring)\n",
      "KLEE: WARNING ONCE: calling external: syscall(16, 0, 21505, 94577090409152) at klee/runtime/POSIX/fd.c:1007 10\n",
      "KLEE: WARNING ONCE: Alignment of memory from call \"malloc\" is not modelled. Using alignment of 8.\n",
      "KLEE: WARNING ONCE: calling __klee_posix_wrapped_main with extra arguments.\n",
      "KLEE: WARNING ONCE: Alignment of memory from call \"calloc\" is not modelled. Using alignment of 8.\n",
      "KLEE: WARNING ONCE: calling external: bindtextdomain(94577089676784, 94577089762752) at [no debug info]\n",
      "KLEE: WARNING ONCE: calling external: textdomain(94577089676784) at [no debug info]\n",
      "KLEE: WARNING ONCE: Alignment of memory from call \"realloc\" is not modelled. Using alignment of 8.\n",
      "KLEE: WARNING ONCE: calling external: printf(94577089427304, 94577089303616, 10) at [no debug info]\n",
      "KLEE: WARNING ONCE: calling close_stdout with extra arguments.\n",
      "\n",
      "KLEE: done: total instructions = 179223\n",
      "KLEE: done: completed paths = 1\n",
      "KLEE: done: generated tests = 1\n"
     ]
    },
    {
     "name": "stdout",
     "output_type": "stream",
     "text": [
      "/home/igandhi/Documents/build/bin/klee --search=random-path --no-forking --track-instruction-time --libc=uclibc --posix-runtime --replace-condition=12732 --replay-path=\"/home/igandhi/Documents/profiler/../klee/examples/llvm-coreutils/bitcodes/klee-out-0/test000001.path\" ../klee/examples/llvm-coreutils/bitcodes/env.bc  --sym-arg 10\n"
     ]
    },
    {
     "name": "stderr",
     "output_type": "stream",
     "text": [
      "KLEE: NOTE: Using POSIX model: /home/igandhi/Documents/build/Debug+Asserts/lib/libkleeRuntimePOSIX.bca\n",
      "KLEE: NOTE: Using klee-uclibc : /home/igandhi/Documents/build/Debug+Asserts/lib/klee-uclibc.bca\n",
      "KLEE: output directory is \"/home/igandhi/Documents/profiler/../klee/examples/llvm-coreutils/bitcodes/klee-out-13\"\n",
      "KLEE: Using STP solver backend\n",
      "KLEE: WARNING: undefined reference to function: __ctype_get_mb_cur_max\n",
      "KLEE: WARNING: undefined reference to function: bindtextdomain\n",
      "KLEE: WARNING: undefined reference to function: gettext\n",
      "KLEE: WARNING: undefined reference to function: textdomain\n",
      "KLEE: WARNING: executable has module level assembly (ignoring)\n",
      "KLEE: WARNING ONCE: calling external: syscall(16, 0, 21505, 94112918060640) at klee/runtime/POSIX/fd.c:1007 10\n",
      "KLEE: WARNING ONCE: Alignment of memory from call \"malloc\" is not modelled. Using alignment of 8.\n",
      "KLEE: WARNING ONCE: calling __klee_posix_wrapped_main with extra arguments.\n",
      "KLEE: WARNING ONCE: Alignment of memory from call \"calloc\" is not modelled. Using alignment of 8.\n",
      "KLEE: WARNING ONCE: calling external: bindtextdomain(94112917325312, 94112917411264) at [no debug info]\n",
      "KLEE: WARNING ONCE: calling external: textdomain(94112917325312) at [no debug info]\n",
      "KLEE: WARNING ONCE: Alignment of memory from call \"realloc\" is not modelled. Using alignment of 8.\n",
      "KLEE: WARNING ONCE: calling external: printf(94112917075816, 94112916952128, 10) at [no debug info]\n",
      "KLEE: WARNING ONCE: calling close_stdout with extra arguments.\n",
      "\n",
      "KLEE: done: total instructions = 179223\n",
      "KLEE: done: completed paths = 1\n",
      "KLEE: done: generated tests = 1\n"
     ]
    },
    {
     "name": "stdout",
     "output_type": "stream",
     "text": [
      "/home/igandhi/Documents/build/bin/klee --search=random-path --no-forking --track-instruction-time --libc=uclibc --posix-runtime --replace-condition=12734 --replay-path=\"/home/igandhi/Documents/profiler/../klee/examples/llvm-coreutils/bitcodes/klee-out-0/test000001.path\" ../klee/examples/llvm-coreutils/bitcodes/env.bc  --sym-arg 10\n"
     ]
    },
    {
     "name": "stderr",
     "output_type": "stream",
     "text": [
      "KLEE: NOTE: Using POSIX model: /home/igandhi/Documents/build/Debug+Asserts/lib/libkleeRuntimePOSIX.bca\n",
      "KLEE: NOTE: Using klee-uclibc : /home/igandhi/Documents/build/Debug+Asserts/lib/klee-uclibc.bca\n",
      "KLEE: output directory is \"/home/igandhi/Documents/profiler/../klee/examples/llvm-coreutils/bitcodes/klee-out-14\"\n",
      "KLEE: Using STP solver backend\n",
      "KLEE: WARNING: undefined reference to function: __ctype_get_mb_cur_max\n",
      "KLEE: WARNING: undefined reference to function: bindtextdomain\n",
      "KLEE: WARNING: undefined reference to function: gettext\n",
      "KLEE: WARNING: undefined reference to function: textdomain\n",
      "KLEE: WARNING: executable has module level assembly (ignoring)\n",
      "KLEE: WARNING ONCE: calling external: syscall(16, 0, 21505, 94106610996864) at klee/runtime/POSIX/fd.c:1007 10\n",
      "KLEE: WARNING ONCE: Alignment of memory from call \"malloc\" is not modelled. Using alignment of 8.\n",
      "KLEE: WARNING ONCE: calling __klee_posix_wrapped_main with extra arguments.\n",
      "KLEE: WARNING ONCE: Alignment of memory from call \"calloc\" is not modelled. Using alignment of 8.\n",
      "KLEE: WARNING ONCE: calling external: bindtextdomain(94106610263552, 94106610349504) at [no debug info]\n",
      "KLEE: WARNING ONCE: calling external: textdomain(94106610263552) at [no debug info]\n",
      "KLEE: WARNING ONCE: Alignment of memory from call \"realloc\" is not modelled. Using alignment of 8.\n",
      "KLEE: WARNING ONCE: calling external: printf(94106610014056, 94106609890368, 10) at [no debug info]\n",
      "KLEE: WARNING ONCE: calling close_stdout with extra arguments.\n",
      "\n",
      "KLEE: done: total instructions = 179223\n",
      "KLEE: done: completed paths = 1\n",
      "KLEE: done: generated tests = 1\n"
     ]
    },
    {
     "name": "stdout",
     "output_type": "stream",
     "text": [
      "/home/igandhi/Documents/build/bin/klee --search=random-path --no-forking --track-instruction-time --libc=uclibc --posix-runtime --replace-condition=12738 --replay-path=\"/home/igandhi/Documents/profiler/../klee/examples/llvm-coreutils/bitcodes/klee-out-0/test000001.path\" ../klee/examples/llvm-coreutils/bitcodes/env.bc  --sym-arg 10\n"
     ]
    },
    {
     "name": "stderr",
     "output_type": "stream",
     "text": [
      "KLEE: NOTE: Using POSIX model: /home/igandhi/Documents/build/Debug+Asserts/lib/libkleeRuntimePOSIX.bca\n",
      "KLEE: NOTE: Using klee-uclibc : /home/igandhi/Documents/build/Debug+Asserts/lib/klee-uclibc.bca\n",
      "KLEE: output directory is \"/home/igandhi/Documents/profiler/../klee/examples/llvm-coreutils/bitcodes/klee-out-15\"\n",
      "KLEE: Using STP solver backend\n",
      "KLEE: WARNING: undefined reference to function: __ctype_get_mb_cur_max\n",
      "KLEE: WARNING: undefined reference to function: bindtextdomain\n",
      "KLEE: WARNING: undefined reference to function: gettext\n",
      "KLEE: WARNING: undefined reference to function: textdomain\n",
      "KLEE: WARNING: executable has module level assembly (ignoring)\n",
      "KLEE: WARNING ONCE: calling external: syscall(16, 0, 21505, 94767403865728) at klee/runtime/POSIX/fd.c:1007 10\n",
      "KLEE: WARNING ONCE: Alignment of memory from call \"malloc\" is not modelled. Using alignment of 8.\n",
      "KLEE: WARNING ONCE: calling __klee_posix_wrapped_main with extra arguments.\n",
      "KLEE: WARNING ONCE: Alignment of memory from call \"calloc\" is not modelled. Using alignment of 8.\n",
      "KLEE: WARNING ONCE: calling external: bindtextdomain(94767403132416, 94767403218368) at [no debug info]\n",
      "KLEE: WARNING ONCE: calling external: textdomain(94767403132416) at [no debug info]\n",
      "KLEE: WARNING ONCE: Alignment of memory from call \"realloc\" is not modelled. Using alignment of 8.\n",
      "KLEE: WARNING ONCE: calling external: printf(94767402882920, 94767402759232, 10) at [no debug info]\n",
      "KLEE: WARNING ONCE: calling close_stdout with extra arguments.\n",
      "\n",
      "KLEE: done: total instructions = 179223\n",
      "KLEE: done: completed paths = 1\n",
      "KLEE: done: generated tests = 1\n"
     ]
    },
    {
     "name": "stdout",
     "output_type": "stream",
     "text": [
      "/home/igandhi/Documents/build/bin/klee --search=random-path --no-forking --track-instruction-time --libc=uclibc --posix-runtime --replace-condition=12740 --replay-path=\"/home/igandhi/Documents/profiler/../klee/examples/llvm-coreutils/bitcodes/klee-out-0/test000001.path\" ../klee/examples/llvm-coreutils/bitcodes/env.bc  --sym-arg 10\n"
     ]
    },
    {
     "name": "stderr",
     "output_type": "stream",
     "text": [
      "KLEE: NOTE: Using POSIX model: /home/igandhi/Documents/build/Debug+Asserts/lib/libkleeRuntimePOSIX.bca\n",
      "KLEE: NOTE: Using klee-uclibc : /home/igandhi/Documents/build/Debug+Asserts/lib/klee-uclibc.bca\n",
      "KLEE: output directory is \"/home/igandhi/Documents/profiler/../klee/examples/llvm-coreutils/bitcodes/klee-out-16\"\n",
      "KLEE: Using STP solver backend\n",
      "KLEE: WARNING: undefined reference to function: __ctype_get_mb_cur_max\n",
      "KLEE: WARNING: undefined reference to function: bindtextdomain\n",
      "KLEE: WARNING: undefined reference to function: gettext\n",
      "KLEE: WARNING: undefined reference to function: textdomain\n",
      "KLEE: WARNING: executable has module level assembly (ignoring)\n",
      "KLEE: WARNING ONCE: calling external: syscall(16, 0, 21505, 94045590787712) at klee/runtime/POSIX/fd.c:1007 10\n",
      "KLEE: WARNING ONCE: Alignment of memory from call \"malloc\" is not modelled. Using alignment of 8.\n",
      "KLEE: WARNING ONCE: calling __klee_posix_wrapped_main with extra arguments.\n",
      "KLEE: WARNING ONCE: Alignment of memory from call \"calloc\" is not modelled. Using alignment of 8.\n",
      "KLEE: WARNING ONCE: calling external: bindtextdomain(94045590054400, 94045590140352) at [no debug info]\n",
      "KLEE: WARNING ONCE: calling external: textdomain(94045590054400) at [no debug info]\n",
      "KLEE: WARNING ONCE: Alignment of memory from call \"realloc\" is not modelled. Using alignment of 8.\n",
      "KLEE: WARNING ONCE: calling external: printf(94045589804904, 94045589681216, 10) at [no debug info]\n",
      "KLEE: WARNING ONCE: calling close_stdout with extra arguments.\n",
      "\n",
      "KLEE: done: total instructions = 179223\n",
      "KLEE: done: completed paths = 1\n",
      "KLEE: done: generated tests = 1\n"
     ]
    },
    {
     "name": "stdout",
     "output_type": "stream",
     "text": [
      "/home/igandhi/Documents/build/bin/klee --search=random-path --no-forking --track-instruction-time --libc=uclibc --posix-runtime --replace-condition=12895 --replay-path=\"/home/igandhi/Documents/profiler/../klee/examples/llvm-coreutils/bitcodes/klee-out-0/test000001.path\" ../klee/examples/llvm-coreutils/bitcodes/env.bc  --sym-arg 10\n"
     ]
    },
    {
     "name": "stderr",
     "output_type": "stream",
     "text": [
      "KLEE: NOTE: Using POSIX model: /home/igandhi/Documents/build/Debug+Asserts/lib/libkleeRuntimePOSIX.bca\n",
      "KLEE: NOTE: Using klee-uclibc : /home/igandhi/Documents/build/Debug+Asserts/lib/klee-uclibc.bca\n",
      "KLEE: output directory is \"/home/igandhi/Documents/profiler/../klee/examples/llvm-coreutils/bitcodes/klee-out-17\"\n",
      "KLEE: Using STP solver backend\n",
      "KLEE: WARNING: undefined reference to function: __ctype_get_mb_cur_max\n",
      "KLEE: WARNING: undefined reference to function: bindtextdomain\n",
      "KLEE: WARNING: undefined reference to function: gettext\n",
      "KLEE: WARNING: undefined reference to function: textdomain\n",
      "KLEE: WARNING: executable has module level assembly (ignoring)\n",
      "KLEE: WARNING ONCE: calling external: syscall(16, 0, 21505, 94608555425376) at klee/runtime/POSIX/fd.c:1007 10\n",
      "KLEE: WARNING ONCE: Alignment of memory from call \"malloc\" is not modelled. Using alignment of 8.\n",
      "KLEE: WARNING ONCE: calling __klee_posix_wrapped_main with extra arguments.\n",
      "KLEE: WARNING ONCE: Alignment of memory from call \"calloc\" is not modelled. Using alignment of 8.\n",
      "KLEE: WARNING ONCE: calling external: bindtextdomain(94608554690048, 94608554776000) at [no debug info]\n",
      "KLEE: WARNING ONCE: calling external: textdomain(94608554690048) at [no debug info]\n",
      "KLEE: WARNING ONCE: Alignment of memory from call \"realloc\" is not modelled. Using alignment of 8.\n",
      "KLEE: WARNING ONCE: calling external: printf(94608554440552, 94608554316864, 10) at [no debug info]\n",
      "KLEE: WARNING ONCE: calling close_stdout with extra arguments.\n",
      "\n",
      "KLEE: done: total instructions = 179223\n",
      "KLEE: done: completed paths = 1\n",
      "KLEE: done: generated tests = 1\n"
     ]
    },
    {
     "name": "stdout",
     "output_type": "stream",
     "text": [
      "/home/igandhi/Documents/build/bin/klee --search=random-path --no-forking --track-instruction-time --libc=uclibc --posix-runtime --replace-condition=12897 --replay-path=\"/home/igandhi/Documents/profiler/../klee/examples/llvm-coreutils/bitcodes/klee-out-0/test000001.path\" ../klee/examples/llvm-coreutils/bitcodes/env.bc  --sym-arg 10\n"
     ]
    },
    {
     "name": "stderr",
     "output_type": "stream",
     "text": [
      "KLEE: NOTE: Using POSIX model: /home/igandhi/Documents/build/Debug+Asserts/lib/libkleeRuntimePOSIX.bca\n",
      "KLEE: NOTE: Using klee-uclibc : /home/igandhi/Documents/build/Debug+Asserts/lib/klee-uclibc.bca\n",
      "KLEE: output directory is \"/home/igandhi/Documents/profiler/../klee/examples/llvm-coreutils/bitcodes/klee-out-18\"\n",
      "KLEE: Using STP solver backend\n",
      "KLEE: WARNING: undefined reference to function: __ctype_get_mb_cur_max\n",
      "KLEE: WARNING: undefined reference to function: bindtextdomain\n",
      "KLEE: WARNING: undefined reference to function: gettext\n",
      "KLEE: WARNING: undefined reference to function: textdomain\n",
      "KLEE: WARNING: executable has module level assembly (ignoring)\n",
      "KLEE: WARNING ONCE: calling external: syscall(16, 0, 21505, 93895190820480) at klee/runtime/POSIX/fd.c:1007 10\n",
      "KLEE: WARNING ONCE: Alignment of memory from call \"malloc\" is not modelled. Using alignment of 8.\n",
      "KLEE: WARNING ONCE: calling __klee_posix_wrapped_main with extra arguments.\n",
      "KLEE: WARNING ONCE: Alignment of memory from call \"calloc\" is not modelled. Using alignment of 8.\n",
      "KLEE: WARNING ONCE: calling external: bindtextdomain(93895190087168, 93895190173120) at [no debug info]\n",
      "KLEE: WARNING ONCE: calling external: textdomain(93895190087168) at [no debug info]\n",
      "KLEE: WARNING ONCE: Alignment of memory from call \"realloc\" is not modelled. Using alignment of 8.\n",
      "KLEE: WARNING ONCE: calling external: printf(93895189837672, 93895189713984, 10) at [no debug info]\n",
      "KLEE: WARNING ONCE: calling close_stdout with extra arguments.\n",
      "\n",
      "KLEE: done: total instructions = 179223\n",
      "KLEE: done: completed paths = 1\n",
      "KLEE: done: generated tests = 1\n"
     ]
    },
    {
     "name": "stdout",
     "output_type": "stream",
     "text": [
      "/home/igandhi/Documents/build/bin/klee --search=random-path --no-forking --track-instruction-time --libc=uclibc --posix-runtime --replace-condition=12899 --replay-path=\"/home/igandhi/Documents/profiler/../klee/examples/llvm-coreutils/bitcodes/klee-out-0/test000001.path\" ../klee/examples/llvm-coreutils/bitcodes/env.bc  --sym-arg 10\n"
     ]
    },
    {
     "name": "stderr",
     "output_type": "stream",
     "text": [
      "KLEE: NOTE: Using POSIX model: /home/igandhi/Documents/build/Debug+Asserts/lib/libkleeRuntimePOSIX.bca\n",
      "KLEE: NOTE: Using klee-uclibc : /home/igandhi/Documents/build/Debug+Asserts/lib/klee-uclibc.bca\n",
      "KLEE: output directory is \"/home/igandhi/Documents/profiler/../klee/examples/llvm-coreutils/bitcodes/klee-out-19\"\n",
      "KLEE: Using STP solver backend\n",
      "KLEE: WARNING: undefined reference to function: __ctype_get_mb_cur_max\n",
      "KLEE: WARNING: undefined reference to function: bindtextdomain\n",
      "KLEE: WARNING: undefined reference to function: gettext\n",
      "KLEE: WARNING: undefined reference to function: textdomain\n",
      "KLEE: WARNING: executable has module level assembly (ignoring)\n",
      "KLEE: WARNING ONCE: calling external: syscall(16, 0, 21505, 94720099964544) at klee/runtime/POSIX/fd.c:1007 10\n",
      "KLEE: WARNING ONCE: Alignment of memory from call \"malloc\" is not modelled. Using alignment of 8.\n",
      "KLEE: WARNING ONCE: calling __klee_posix_wrapped_main with extra arguments.\n",
      "KLEE: WARNING ONCE: Alignment of memory from call \"calloc\" is not modelled. Using alignment of 8.\n",
      "KLEE: WARNING ONCE: calling external: bindtextdomain(94720099231232, 94720099317184) at [no debug info]\n",
      "KLEE: WARNING ONCE: calling external: textdomain(94720099231232) at [no debug info]\n",
      "KLEE: WARNING ONCE: Alignment of memory from call \"realloc\" is not modelled. Using alignment of 8.\n",
      "KLEE: WARNING ONCE: calling external: printf(94720098981736, 94720098858048, 10) at [no debug info]\n",
      "KLEE: WARNING ONCE: calling close_stdout with extra arguments.\n",
      "\n",
      "KLEE: done: total instructions = 179223\n",
      "KLEE: done: completed paths = 1\n",
      "KLEE: done: generated tests = 1\n"
     ]
    },
    {
     "name": "stdout",
     "output_type": "stream",
     "text": [
      "/home/igandhi/Documents/build/bin/klee --search=random-path --no-forking --track-instruction-time --libc=uclibc --posix-runtime --replace-condition=12903 --replay-path=\"/home/igandhi/Documents/profiler/../klee/examples/llvm-coreutils/bitcodes/klee-out-0/test000001.path\" ../klee/examples/llvm-coreutils/bitcodes/env.bc  --sym-arg 10\n"
     ]
    },
    {
     "name": "stderr",
     "output_type": "stream",
     "text": [
      "KLEE: NOTE: Using POSIX model: /home/igandhi/Documents/build/Debug+Asserts/lib/libkleeRuntimePOSIX.bca\n",
      "KLEE: NOTE: Using klee-uclibc : /home/igandhi/Documents/build/Debug+Asserts/lib/klee-uclibc.bca\n",
      "KLEE: output directory is \"/home/igandhi/Documents/profiler/../klee/examples/llvm-coreutils/bitcodes/klee-out-20\"\n",
      "KLEE: Using STP solver backend\n",
      "KLEE: WARNING: undefined reference to function: __ctype_get_mb_cur_max\n",
      "KLEE: WARNING: undefined reference to function: bindtextdomain\n",
      "KLEE: WARNING: undefined reference to function: gettext\n",
      "KLEE: WARNING: undefined reference to function: textdomain\n",
      "KLEE: WARNING: executable has module level assembly (ignoring)\n",
      "KLEE: WARNING ONCE: calling external: syscall(16, 0, 21505, 94552863481440) at klee/runtime/POSIX/fd.c:1007 10\n",
      "KLEE: WARNING ONCE: Alignment of memory from call \"malloc\" is not modelled. Using alignment of 8.\n",
      "KLEE: WARNING ONCE: calling __klee_posix_wrapped_main with extra arguments.\n",
      "KLEE: WARNING ONCE: Alignment of memory from call \"calloc\" is not modelled. Using alignment of 8.\n",
      "KLEE: WARNING ONCE: calling external: bindtextdomain(94552862746112, 94552862832064) at [no debug info]\n",
      "KLEE: WARNING ONCE: calling external: textdomain(94552862746112) at [no debug info]\n",
      "KLEE: WARNING ONCE: Alignment of memory from call \"realloc\" is not modelled. Using alignment of 8.\n",
      "KLEE: WARNING ONCE: calling external: printf(94552862496616, 94552862372928, 10) at [no debug info]\n",
      "KLEE: WARNING ONCE: calling close_stdout with extra arguments.\n",
      "\n",
      "KLEE: done: total instructions = 179223\n",
      "KLEE: done: completed paths = 1\n",
      "KLEE: done: generated tests = 1\n"
     ]
    },
    {
     "name": "stdout",
     "output_type": "stream",
     "text": [
      "/home/igandhi/Documents/build/bin/klee --search=random-path --no-forking --track-instruction-time --libc=uclibc --posix-runtime --replace-condition=12905 --replay-path=\"/home/igandhi/Documents/profiler/../klee/examples/llvm-coreutils/bitcodes/klee-out-0/test000001.path\" ../klee/examples/llvm-coreutils/bitcodes/env.bc  --sym-arg 10\n"
     ]
    },
    {
     "name": "stderr",
     "output_type": "stream",
     "text": [
      "KLEE: NOTE: Using POSIX model: /home/igandhi/Documents/build/Debug+Asserts/lib/libkleeRuntimePOSIX.bca\n",
      "KLEE: NOTE: Using klee-uclibc : /home/igandhi/Documents/build/Debug+Asserts/lib/klee-uclibc.bca\n",
      "KLEE: output directory is \"/home/igandhi/Documents/profiler/../klee/examples/llvm-coreutils/bitcodes/klee-out-21\"\n",
      "KLEE: Using STP solver backend\n",
      "KLEE: WARNING: undefined reference to function: __ctype_get_mb_cur_max\n",
      "KLEE: WARNING: undefined reference to function: bindtextdomain\n",
      "KLEE: WARNING: undefined reference to function: gettext\n",
      "KLEE: WARNING: undefined reference to function: textdomain\n",
      "KLEE: WARNING: executable has module level assembly (ignoring)\n",
      "KLEE: WARNING ONCE: calling external: syscall(16, 0, 21505, 93948450600576) at klee/runtime/POSIX/fd.c:1007 10\n",
      "KLEE: WARNING ONCE: Alignment of memory from call \"malloc\" is not modelled. Using alignment of 8.\n",
      "KLEE: WARNING ONCE: calling __klee_posix_wrapped_main with extra arguments.\n",
      "KLEE: WARNING ONCE: Alignment of memory from call \"calloc\" is not modelled. Using alignment of 8.\n",
      "KLEE: WARNING ONCE: calling external: bindtextdomain(93948449867264, 93948449953216) at [no debug info]\n",
      "KLEE: WARNING ONCE: calling external: textdomain(93948449867264) at [no debug info]\n",
      "KLEE: WARNING ONCE: Alignment of memory from call \"realloc\" is not modelled. Using alignment of 8.\n",
      "KLEE: WARNING ONCE: calling external: printf(93948449617768, 93948449494080, 10) at [no debug info]\n",
      "KLEE: WARNING ONCE: calling close_stdout with extra arguments.\n",
      "\n",
      "KLEE: done: total instructions = 179223\n",
      "KLEE: done: completed paths = 1\n",
      "KLEE: done: generated tests = 1\n"
     ]
    },
    {
     "name": "stdout",
     "output_type": "stream",
     "text": [
      "/home/igandhi/Documents/build/bin/klee --search=random-path --no-forking --track-instruction-time --libc=uclibc --posix-runtime --replace-condition=12907 --replay-path=\"/home/igandhi/Documents/profiler/../klee/examples/llvm-coreutils/bitcodes/klee-out-0/test000001.path\" ../klee/examples/llvm-coreutils/bitcodes/env.bc  --sym-arg 10\n"
     ]
    },
    {
     "name": "stderr",
     "output_type": "stream",
     "text": [
      "KLEE: NOTE: Using POSIX model: /home/igandhi/Documents/build/Debug+Asserts/lib/libkleeRuntimePOSIX.bca\n",
      "KLEE: NOTE: Using klee-uclibc : /home/igandhi/Documents/build/Debug+Asserts/lib/klee-uclibc.bca\n",
      "KLEE: output directory is \"/home/igandhi/Documents/profiler/../klee/examples/llvm-coreutils/bitcodes/klee-out-22\"\n",
      "KLEE: Using STP solver backend\n",
      "KLEE: WARNING: undefined reference to function: __ctype_get_mb_cur_max\n",
      "KLEE: WARNING: undefined reference to function: bindtextdomain\n",
      "KLEE: WARNING: undefined reference to function: gettext\n",
      "KLEE: WARNING: undefined reference to function: textdomain\n",
      "KLEE: WARNING: executable has module level assembly (ignoring)\n",
      "KLEE: WARNING ONCE: calling external: syscall(16, 0, 21505, 94055788598912) at klee/runtime/POSIX/fd.c:1007 10\n",
      "KLEE: WARNING ONCE: Alignment of memory from call \"malloc\" is not modelled. Using alignment of 8.\n",
      "KLEE: WARNING ONCE: calling __klee_posix_wrapped_main with extra arguments.\n",
      "KLEE: WARNING ONCE: Alignment of memory from call \"calloc\" is not modelled. Using alignment of 8.\n",
      "KLEE: WARNING ONCE: calling external: bindtextdomain(94055787865600, 94055787951552) at [no debug info]\n",
      "KLEE: WARNING ONCE: calling external: textdomain(94055787865600) at [no debug info]\n",
      "KLEE: WARNING ONCE: Alignment of memory from call \"realloc\" is not modelled. Using alignment of 8.\n",
      "KLEE: WARNING ONCE: calling external: printf(94055787616104, 94055787492416, 10) at [no debug info]\n",
      "KLEE: WARNING ONCE: calling close_stdout with extra arguments.\n",
      "\n",
      "KLEE: done: total instructions = 179223\n",
      "KLEE: done: completed paths = 1\n",
      "KLEE: done: generated tests = 1\n"
     ]
    },
    {
     "name": "stdout",
     "output_type": "stream",
     "text": [
      "/home/igandhi/Documents/build/bin/klee --search=random-path --no-forking --track-instruction-time --libc=uclibc --posix-runtime --replace-condition=12908 --replay-path=\"/home/igandhi/Documents/profiler/../klee/examples/llvm-coreutils/bitcodes/klee-out-0/test000001.path\" ../klee/examples/llvm-coreutils/bitcodes/env.bc  --sym-arg 10\n"
     ]
    },
    {
     "name": "stderr",
     "output_type": "stream",
     "text": [
      "KLEE: NOTE: Using POSIX model: /home/igandhi/Documents/build/Debug+Asserts/lib/libkleeRuntimePOSIX.bca\n",
      "KLEE: NOTE: Using klee-uclibc : /home/igandhi/Documents/build/Debug+Asserts/lib/klee-uclibc.bca\n",
      "KLEE: output directory is \"/home/igandhi/Documents/profiler/../klee/examples/llvm-coreutils/bitcodes/klee-out-23\"\n",
      "KLEE: Using STP solver backend\n",
      "KLEE: WARNING: undefined reference to function: __ctype_get_mb_cur_max\n",
      "KLEE: WARNING: undefined reference to function: bindtextdomain\n",
      "KLEE: WARNING: undefined reference to function: gettext\n",
      "KLEE: WARNING: undefined reference to function: textdomain\n",
      "KLEE: WARNING: executable has module level assembly (ignoring)\n",
      "KLEE: WARNING ONCE: calling external: syscall(16, 0, 21505, 94715042086496) at klee/runtime/POSIX/fd.c:1007 10\n",
      "KLEE: WARNING ONCE: Alignment of memory from call \"malloc\" is not modelled. Using alignment of 8.\n",
      "KLEE: WARNING ONCE: calling __klee_posix_wrapped_main with extra arguments.\n",
      "KLEE: WARNING ONCE: Alignment of memory from call \"calloc\" is not modelled. Using alignment of 8.\n",
      "KLEE: WARNING ONCE: calling external: bindtextdomain(94715041351168, 94715041437120) at [no debug info]\n",
      "KLEE: WARNING ONCE: calling external: textdomain(94715041351168) at [no debug info]\n",
      "KLEE: WARNING ONCE: Alignment of memory from call \"realloc\" is not modelled. Using alignment of 8.\n",
      "KLEE: WARNING ONCE: calling external: printf(94715041101672, 94715040977984, 10) at [no debug info]\n",
      "KLEE: WARNING ONCE: calling close_stdout with extra arguments.\n",
      "\n",
      "KLEE: done: total instructions = 179223\n",
      "KLEE: done: completed paths = 1\n",
      "KLEE: done: generated tests = 1\n"
     ]
    },
    {
     "name": "stdout",
     "output_type": "stream",
     "text": [
      "/home/igandhi/Documents/build/bin/klee --search=random-path --no-forking --track-instruction-time --libc=uclibc --posix-runtime --replace-condition=12909 --replay-path=\"/home/igandhi/Documents/profiler/../klee/examples/llvm-coreutils/bitcodes/klee-out-0/test000001.path\" ../klee/examples/llvm-coreutils/bitcodes/env.bc  --sym-arg 10\n"
     ]
    },
    {
     "name": "stderr",
     "output_type": "stream",
     "text": [
      "KLEE: NOTE: Using POSIX model: /home/igandhi/Documents/build/Debug+Asserts/lib/libkleeRuntimePOSIX.bca\n",
      "KLEE: NOTE: Using klee-uclibc : /home/igandhi/Documents/build/Debug+Asserts/lib/klee-uclibc.bca\n",
      "KLEE: output directory is \"/home/igandhi/Documents/profiler/../klee/examples/llvm-coreutils/bitcodes/klee-out-24\"\n",
      "KLEE: Using STP solver backend\n",
      "KLEE: WARNING: undefined reference to function: __ctype_get_mb_cur_max\n",
      "KLEE: WARNING: undefined reference to function: bindtextdomain\n",
      "KLEE: WARNING: undefined reference to function: gettext\n",
      "KLEE: WARNING: undefined reference to function: textdomain\n",
      "KLEE: WARNING: executable has module level assembly (ignoring)\n",
      "KLEE: WARNING ONCE: calling external: syscall(16, 0, 21505, 94794751128256) at klee/runtime/POSIX/fd.c:1007 10\n",
      "KLEE: WARNING ONCE: Alignment of memory from call \"malloc\" is not modelled. Using alignment of 8.\n",
      "KLEE: WARNING ONCE: calling __klee_posix_wrapped_main with extra arguments.\n",
      "KLEE: WARNING ONCE: Alignment of memory from call \"calloc\" is not modelled. Using alignment of 8.\n",
      "KLEE: WARNING ONCE: calling external: bindtextdomain(94794750395888, 94794750481856) at [no debug info]\n",
      "KLEE: WARNING ONCE: calling external: textdomain(94794750395888) at [no debug info]\n",
      "KLEE: WARNING ONCE: Alignment of memory from call \"realloc\" is not modelled. Using alignment of 8.\n",
      "KLEE: WARNING ONCE: calling external: printf(94794750146408, 94794750022720, 10) at [no debug info]\n",
      "KLEE: WARNING ONCE: calling close_stdout with extra arguments.\n",
      "\n",
      "KLEE: done: total instructions = 179223\n",
      "KLEE: done: completed paths = 1\n",
      "KLEE: done: generated tests = 1\n"
     ]
    },
    {
     "name": "stdout",
     "output_type": "stream",
     "text": [
      "/home/igandhi/Documents/build/bin/klee --search=random-path --no-forking --track-instruction-time --libc=uclibc --posix-runtime --replace-condition=12911 --replay-path=\"/home/igandhi/Documents/profiler/../klee/examples/llvm-coreutils/bitcodes/klee-out-0/test000001.path\" ../klee/examples/llvm-coreutils/bitcodes/env.bc  --sym-arg 10\n"
     ]
    },
    {
     "name": "stderr",
     "output_type": "stream",
     "text": [
      "KLEE: NOTE: Using POSIX model: /home/igandhi/Documents/build/Debug+Asserts/lib/libkleeRuntimePOSIX.bca\n",
      "KLEE: NOTE: Using klee-uclibc : /home/igandhi/Documents/build/Debug+Asserts/lib/klee-uclibc.bca\n",
      "KLEE: output directory is \"/home/igandhi/Documents/profiler/../klee/examples/llvm-coreutils/bitcodes/klee-out-25\"\n",
      "KLEE: Using STP solver backend\n",
      "KLEE: WARNING: undefined reference to function: __ctype_get_mb_cur_max\n",
      "KLEE: WARNING: undefined reference to function: bindtextdomain\n",
      "KLEE: WARNING: undefined reference to function: gettext\n",
      "KLEE: WARNING: undefined reference to function: textdomain\n",
      "KLEE: WARNING: executable has module level assembly (ignoring)\n",
      "KLEE: WARNING ONCE: calling external: syscall(16, 0, 21505, 94730854766208) at klee/runtime/POSIX/fd.c:1007 10\n",
      "KLEE: WARNING ONCE: Alignment of memory from call \"malloc\" is not modelled. Using alignment of 8.\n",
      "KLEE: WARNING ONCE: calling __klee_posix_wrapped_main with extra arguments.\n",
      "KLEE: WARNING ONCE: Alignment of memory from call \"calloc\" is not modelled. Using alignment of 8.\n",
      "KLEE: WARNING ONCE: calling external: bindtextdomain(94730854032896, 94730854118848) at [no debug info]\n",
      "KLEE: WARNING ONCE: calling external: textdomain(94730854032896) at [no debug info]\n",
      "KLEE: WARNING ONCE: Alignment of memory from call \"realloc\" is not modelled. Using alignment of 8.\n",
      "KLEE: WARNING ONCE: calling external: printf(94730853783400, 94730853659712, 10) at [no debug info]\n",
      "KLEE: WARNING ONCE: calling close_stdout with extra arguments.\n",
      "\n",
      "KLEE: done: total instructions = 179223\n",
      "KLEE: done: completed paths = 1\n",
      "KLEE: done: generated tests = 1\n"
     ]
    },
    {
     "name": "stdout",
     "output_type": "stream",
     "text": [
      "/home/igandhi/Documents/build/bin/klee --search=random-path --no-forking --track-instruction-time --libc=uclibc --posix-runtime --replace-condition=12912 --replay-path=\"/home/igandhi/Documents/profiler/../klee/examples/llvm-coreutils/bitcodes/klee-out-0/test000001.path\" ../klee/examples/llvm-coreutils/bitcodes/env.bc  --sym-arg 10\n"
     ]
    },
    {
     "name": "stderr",
     "output_type": "stream",
     "text": [
      "KLEE: NOTE: Using POSIX model: /home/igandhi/Documents/build/Debug+Asserts/lib/libkleeRuntimePOSIX.bca\n",
      "KLEE: NOTE: Using klee-uclibc : /home/igandhi/Documents/build/Debug+Asserts/lib/klee-uclibc.bca\n",
      "KLEE: output directory is \"/home/igandhi/Documents/profiler/../klee/examples/llvm-coreutils/bitcodes/klee-out-26\"\n",
      "KLEE: Using STP solver backend\n",
      "KLEE: WARNING: undefined reference to function: __ctype_get_mb_cur_max\n",
      "KLEE: WARNING: undefined reference to function: bindtextdomain\n",
      "KLEE: WARNING: undefined reference to function: gettext\n",
      "KLEE: WARNING: undefined reference to function: textdomain\n",
      "KLEE: WARNING: executable has module level assembly (ignoring)\n",
      "KLEE: WARNING ONCE: calling external: syscall(16, 0, 21505, 94156526498496) at klee/runtime/POSIX/fd.c:1007 10\n",
      "KLEE: WARNING ONCE: Alignment of memory from call \"malloc\" is not modelled. Using alignment of 8.\n",
      "KLEE: WARNING ONCE: calling __klee_posix_wrapped_main with extra arguments.\n",
      "KLEE: WARNING ONCE: Alignment of memory from call \"calloc\" is not modelled. Using alignment of 8.\n",
      "KLEE: WARNING ONCE: calling external: bindtextdomain(94156525766128, 94156525852096) at [no debug info]\n",
      "KLEE: WARNING ONCE: calling external: textdomain(94156525766128) at [no debug info]\n",
      "KLEE: WARNING ONCE: Alignment of memory from call \"realloc\" is not modelled. Using alignment of 8.\n",
      "KLEE: WARNING ONCE: calling external: printf(94156525516648, 94156525392960, 10) at [no debug info]\n",
      "KLEE: WARNING ONCE: calling close_stdout with extra arguments.\n",
      "\n",
      "KLEE: done: total instructions = 179223\n",
      "KLEE: done: completed paths = 1\n",
      "KLEE: done: generated tests = 1\n"
     ]
    },
    {
     "name": "stdout",
     "output_type": "stream",
     "text": [
      "/home/igandhi/Documents/build/bin/klee --search=random-path --no-forking --track-instruction-time --libc=uclibc --posix-runtime --replace-condition=12913 --replay-path=\"/home/igandhi/Documents/profiler/../klee/examples/llvm-coreutils/bitcodes/klee-out-0/test000001.path\" ../klee/examples/llvm-coreutils/bitcodes/env.bc  --sym-arg 10\n"
     ]
    },
    {
     "name": "stderr",
     "output_type": "stream",
     "text": [
      "KLEE: NOTE: Using POSIX model: /home/igandhi/Documents/build/Debug+Asserts/lib/libkleeRuntimePOSIX.bca\n",
      "KLEE: NOTE: Using klee-uclibc : /home/igandhi/Documents/build/Debug+Asserts/lib/klee-uclibc.bca\n",
      "KLEE: output directory is \"/home/igandhi/Documents/profiler/../klee/examples/llvm-coreutils/bitcodes/klee-out-27\"\n",
      "KLEE: Using STP solver backend\n",
      "KLEE: WARNING: undefined reference to function: __ctype_get_mb_cur_max\n",
      "KLEE: WARNING: undefined reference to function: bindtextdomain\n",
      "KLEE: WARNING: undefined reference to function: gettext\n",
      "KLEE: WARNING: undefined reference to function: textdomain\n",
      "KLEE: WARNING: executable has module level assembly (ignoring)\n",
      "KLEE: WARNING ONCE: calling external: syscall(16, 0, 21505, 94055228102464) at klee/runtime/POSIX/fd.c:1007 10\n",
      "KLEE: WARNING ONCE: Alignment of memory from call \"malloc\" is not modelled. Using alignment of 8.\n",
      "KLEE: WARNING ONCE: calling __klee_posix_wrapped_main with extra arguments.\n",
      "KLEE: WARNING ONCE: Alignment of memory from call \"calloc\" is not modelled. Using alignment of 8.\n",
      "KLEE: WARNING ONCE: calling external: bindtextdomain(94055227368944, 94055227454912) at [no debug info]\n",
      "KLEE: WARNING ONCE: calling external: textdomain(94055227368944) at [no debug info]\n",
      "KLEE: WARNING ONCE: Alignment of memory from call \"realloc\" is not modelled. Using alignment of 8.\n",
      "KLEE: WARNING ONCE: calling external: printf(94055227119464, 94055226995776, 10) at [no debug info]\n",
      "KLEE: WARNING ONCE: calling close_stdout with extra arguments.\n",
      "\n",
      "KLEE: done: total instructions = 179223\n",
      "KLEE: done: completed paths = 1\n",
      "KLEE: done: generated tests = 1\n"
     ]
    },
    {
     "name": "stdout",
     "output_type": "stream",
     "text": [
      "/home/igandhi/Documents/build/bin/klee --search=random-path --no-forking --track-instruction-time --libc=uclibc --posix-runtime --replace-condition=12916 --replay-path=\"/home/igandhi/Documents/profiler/../klee/examples/llvm-coreutils/bitcodes/klee-out-0/test000001.path\" ../klee/examples/llvm-coreutils/bitcodes/env.bc  --sym-arg 10\n"
     ]
    },
    {
     "name": "stderr",
     "output_type": "stream",
     "text": [
      "KLEE: NOTE: Using POSIX model: /home/igandhi/Documents/build/Debug+Asserts/lib/libkleeRuntimePOSIX.bca\n",
      "KLEE: NOTE: Using klee-uclibc : /home/igandhi/Documents/build/Debug+Asserts/lib/klee-uclibc.bca\n",
      "KLEE: output directory is \"/home/igandhi/Documents/profiler/../klee/examples/llvm-coreutils/bitcodes/klee-out-28\"\n",
      "KLEE: Using STP solver backend\n",
      "KLEE: WARNING: undefined reference to function: __ctype_get_mb_cur_max\n",
      "KLEE: WARNING: undefined reference to function: bindtextdomain\n",
      "KLEE: WARNING: undefined reference to function: gettext\n",
      "KLEE: WARNING: undefined reference to function: textdomain\n",
      "KLEE: WARNING: executable has module level assembly (ignoring)\n",
      "KLEE: WARNING ONCE: calling external: syscall(16, 0, 21505, 94764057173600) at klee/runtime/POSIX/fd.c:1007 10\n",
      "KLEE: WARNING ONCE: Alignment of memory from call \"malloc\" is not modelled. Using alignment of 8.\n",
      "KLEE: WARNING ONCE: calling __klee_posix_wrapped_main with extra arguments.\n",
      "KLEE: WARNING ONCE: Alignment of memory from call \"calloc\" is not modelled. Using alignment of 8.\n",
      "KLEE: WARNING ONCE: calling external: bindtextdomain(94764056438272, 94764056524224) at [no debug info]\n",
      "KLEE: WARNING ONCE: calling external: textdomain(94764056438272) at [no debug info]\n",
      "KLEE: WARNING ONCE: Alignment of memory from call \"realloc\" is not modelled. Using alignment of 8.\n",
      "KLEE: WARNING ONCE: calling external: printf(94764056188776, 94764056065088, 10) at [no debug info]\n",
      "KLEE: WARNING ONCE: calling close_stdout with extra arguments.\n",
      "\n",
      "KLEE: done: total instructions = 179223\n",
      "KLEE: done: completed paths = 1\n",
      "KLEE: done: generated tests = 1\n"
     ]
    },
    {
     "name": "stdout",
     "output_type": "stream",
     "text": [
      "/home/igandhi/Documents/build/bin/klee --search=random-path --no-forking --track-instruction-time --libc=uclibc --posix-runtime --replace-condition=12922 --replay-path=\"/home/igandhi/Documents/profiler/../klee/examples/llvm-coreutils/bitcodes/klee-out-0/test000001.path\" ../klee/examples/llvm-coreutils/bitcodes/env.bc  --sym-arg 10\n"
     ]
    },
    {
     "name": "stderr",
     "output_type": "stream",
     "text": [
      "KLEE: NOTE: Using POSIX model: /home/igandhi/Documents/build/Debug+Asserts/lib/libkleeRuntimePOSIX.bca\n",
      "KLEE: NOTE: Using klee-uclibc : /home/igandhi/Documents/build/Debug+Asserts/lib/klee-uclibc.bca\n",
      "KLEE: output directory is \"/home/igandhi/Documents/profiler/../klee/examples/llvm-coreutils/bitcodes/klee-out-29\"\n",
      "KLEE: Using STP solver backend\n",
      "KLEE: WARNING: undefined reference to function: __ctype_get_mb_cur_max\n",
      "KLEE: WARNING: undefined reference to function: bindtextdomain\n",
      "KLEE: WARNING: undefined reference to function: gettext\n",
      "KLEE: WARNING: undefined reference to function: textdomain\n",
      "KLEE: WARNING: executable has module level assembly (ignoring)\n",
      "KLEE: WARNING ONCE: calling external: syscall(16, 0, 21505, 94573202142848) at klee/runtime/POSIX/fd.c:1007 10\n",
      "KLEE: WARNING ONCE: Alignment of memory from call \"malloc\" is not modelled. Using alignment of 8.\n",
      "KLEE: WARNING ONCE: calling __klee_posix_wrapped_main with extra arguments.\n",
      "KLEE: WARNING ONCE: Alignment of memory from call \"calloc\" is not modelled. Using alignment of 8.\n",
      "KLEE: WARNING ONCE: calling external: bindtextdomain(94573201409536, 94573201495488) at [no debug info]\n",
      "KLEE: WARNING ONCE: calling external: textdomain(94573201409536) at [no debug info]\n",
      "KLEE: WARNING ONCE: Alignment of memory from call \"realloc\" is not modelled. Using alignment of 8.\n",
      "KLEE: WARNING ONCE: calling external: printf(94573201160040, 94573201036352, 10) at [no debug info]\n",
      "KLEE: WARNING ONCE: calling close_stdout with extra arguments.\n",
      "\n",
      "KLEE: done: total instructions = 179223\n",
      "KLEE: done: completed paths = 1\n",
      "KLEE: done: generated tests = 1\n"
     ]
    },
    {
     "name": "stdout",
     "output_type": "stream",
     "text": [
      "/home/igandhi/Documents/build/bin/klee --search=random-path --no-forking --track-instruction-time --libc=uclibc --posix-runtime --replace-condition=12928 --replay-path=\"/home/igandhi/Documents/profiler/../klee/examples/llvm-coreutils/bitcodes/klee-out-0/test000001.path\" ../klee/examples/llvm-coreutils/bitcodes/env.bc  --sym-arg 10\n"
     ]
    },
    {
     "name": "stderr",
     "output_type": "stream",
     "text": [
      "KLEE: NOTE: Using POSIX model: /home/igandhi/Documents/build/Debug+Asserts/lib/libkleeRuntimePOSIX.bca\n",
      "KLEE: NOTE: Using klee-uclibc : /home/igandhi/Documents/build/Debug+Asserts/lib/klee-uclibc.bca\n",
      "KLEE: output directory is \"/home/igandhi/Documents/profiler/../klee/examples/llvm-coreutils/bitcodes/klee-out-30\"\n",
      "KLEE: Using STP solver backend\n",
      "KLEE: WARNING: undefined reference to function: __ctype_get_mb_cur_max\n",
      "KLEE: WARNING: undefined reference to function: bindtextdomain\n",
      "KLEE: WARNING: undefined reference to function: gettext\n",
      "KLEE: WARNING: undefined reference to function: textdomain\n",
      "KLEE: WARNING: executable has module level assembly (ignoring)\n",
      "KLEE: WARNING ONCE: calling external: syscall(16, 0, 21505, 94389274253120) at klee/runtime/POSIX/fd.c:1007 10\n",
      "KLEE: WARNING ONCE: Alignment of memory from call \"malloc\" is not modelled. Using alignment of 8.\n",
      "KLEE: WARNING ONCE: calling __klee_posix_wrapped_main with extra arguments.\n",
      "KLEE: WARNING ONCE: Alignment of memory from call \"calloc\" is not modelled. Using alignment of 8.\n",
      "KLEE: WARNING ONCE: calling external: bindtextdomain(94389273519600, 94389273605568) at [no debug info]\n",
      "KLEE: WARNING ONCE: calling external: textdomain(94389273519600) at [no debug info]\n",
      "KLEE: WARNING ONCE: Alignment of memory from call \"realloc\" is not modelled. Using alignment of 8.\n",
      "KLEE: WARNING ONCE: calling external: printf(94389273270120, 94389273146432, 10) at [no debug info]\n",
      "KLEE: WARNING ONCE: calling close_stdout with extra arguments.\n",
      "\n",
      "KLEE: done: total instructions = 179223\n",
      "KLEE: done: completed paths = 1\n",
      "KLEE: done: generated tests = 1\n"
     ]
    },
    {
     "name": "stdout",
     "output_type": "stream",
     "text": [
      "/home/igandhi/Documents/build/bin/klee --search=random-path --no-forking --track-instruction-time --libc=uclibc --posix-runtime --replace-condition=12930 --replay-path=\"/home/igandhi/Documents/profiler/../klee/examples/llvm-coreutils/bitcodes/klee-out-0/test000001.path\" ../klee/examples/llvm-coreutils/bitcodes/env.bc  --sym-arg 10\n"
     ]
    },
    {
     "name": "stderr",
     "output_type": "stream",
     "text": [
      "KLEE: NOTE: Using POSIX model: /home/igandhi/Documents/build/Debug+Asserts/lib/libkleeRuntimePOSIX.bca\n",
      "KLEE: NOTE: Using klee-uclibc : /home/igandhi/Documents/build/Debug+Asserts/lib/klee-uclibc.bca\n",
      "KLEE: output directory is \"/home/igandhi/Documents/profiler/../klee/examples/llvm-coreutils/bitcodes/klee-out-31\"\n",
      "KLEE: Using STP solver backend\n",
      "KLEE: WARNING: undefined reference to function: __ctype_get_mb_cur_max\n",
      "KLEE: WARNING: undefined reference to function: bindtextdomain\n",
      "KLEE: WARNING: undefined reference to function: gettext\n",
      "KLEE: WARNING: undefined reference to function: textdomain\n",
      "KLEE: WARNING: executable has module level assembly (ignoring)\n",
      "KLEE: WARNING ONCE: calling external: syscall(16, 0, 21505, 94609355202144) at klee/runtime/POSIX/fd.c:1007 10\n",
      "KLEE: WARNING ONCE: Alignment of memory from call \"malloc\" is not modelled. Using alignment of 8.\n",
      "KLEE: WARNING ONCE: calling __klee_posix_wrapped_main with extra arguments.\n",
      "KLEE: WARNING ONCE: Alignment of memory from call \"calloc\" is not modelled. Using alignment of 8.\n",
      "KLEE: WARNING ONCE: calling external: bindtextdomain(94609354466816, 94609354552768) at [no debug info]\n",
      "KLEE: WARNING ONCE: calling external: textdomain(94609354466816) at [no debug info]\n",
      "KLEE: WARNING ONCE: Alignment of memory from call \"realloc\" is not modelled. Using alignment of 8.\n",
      "KLEE: WARNING ONCE: calling external: printf(94609354217320, 94609354093632, 10) at [no debug info]\n",
      "KLEE: WARNING ONCE: calling close_stdout with extra arguments.\n",
      "\n",
      "KLEE: done: total instructions = 179223\n",
      "KLEE: done: completed paths = 1\n",
      "KLEE: done: generated tests = 1\n"
     ]
    },
    {
     "name": "stdout",
     "output_type": "stream",
     "text": [
      "/home/igandhi/Documents/build/bin/klee --search=random-path --no-forking --track-instruction-time --libc=uclibc --posix-runtime --replace-condition=12933 --replay-path=\"/home/igandhi/Documents/profiler/../klee/examples/llvm-coreutils/bitcodes/klee-out-0/test000001.path\" ../klee/examples/llvm-coreutils/bitcodes/env.bc  --sym-arg 10\n"
     ]
    },
    {
     "name": "stderr",
     "output_type": "stream",
     "text": [
      "KLEE: NOTE: Using POSIX model: /home/igandhi/Documents/build/Debug+Asserts/lib/libkleeRuntimePOSIX.bca\n",
      "KLEE: NOTE: Using klee-uclibc : /home/igandhi/Documents/build/Debug+Asserts/lib/klee-uclibc.bca\n",
      "KLEE: output directory is \"/home/igandhi/Documents/profiler/../klee/examples/llvm-coreutils/bitcodes/klee-out-32\"\n",
      "KLEE: Using STP solver backend\n",
      "KLEE: WARNING: undefined reference to function: __ctype_get_mb_cur_max\n",
      "KLEE: WARNING: undefined reference to function: bindtextdomain\n",
      "KLEE: WARNING: undefined reference to function: gettext\n",
      "KLEE: WARNING: undefined reference to function: textdomain\n",
      "KLEE: WARNING: executable has module level assembly (ignoring)\n",
      "KLEE: WARNING ONCE: calling external: syscall(16, 0, 21505, 94252989644384) at klee/runtime/POSIX/fd.c:1007 10\n",
      "KLEE: WARNING ONCE: Alignment of memory from call \"malloc\" is not modelled. Using alignment of 8.\n",
      "KLEE: WARNING ONCE: calling __klee_posix_wrapped_main with extra arguments.\n",
      "KLEE: WARNING ONCE: Alignment of memory from call \"calloc\" is not modelled. Using alignment of 8.\n",
      "KLEE: WARNING ONCE: calling external: bindtextdomain(94252988909056, 94252988995008) at [no debug info]\n",
      "KLEE: WARNING ONCE: calling external: textdomain(94252988909056) at [no debug info]\n",
      "KLEE: WARNING ONCE: Alignment of memory from call \"realloc\" is not modelled. Using alignment of 8.\n",
      "KLEE: WARNING ONCE: calling external: printf(94252988659560, 94252988535872, 10) at [no debug info]\n",
      "KLEE: WARNING ONCE: calling close_stdout with extra arguments.\n",
      "\n",
      "KLEE: done: total instructions = 179223\n",
      "KLEE: done: completed paths = 1\n",
      "KLEE: done: generated tests = 1\n"
     ]
    },
    {
     "name": "stdout",
     "output_type": "stream",
     "text": [
      "/home/igandhi/Documents/build/bin/klee --search=random-path --no-forking --track-instruction-time --libc=uclibc --posix-runtime --replace-condition=12935 --replay-path=\"/home/igandhi/Documents/profiler/../klee/examples/llvm-coreutils/bitcodes/klee-out-0/test000001.path\" ../klee/examples/llvm-coreutils/bitcodes/env.bc  --sym-arg 10\n"
     ]
    },
    {
     "name": "stderr",
     "output_type": "stream",
     "text": [
      "KLEE: NOTE: Using POSIX model: /home/igandhi/Documents/build/Debug+Asserts/lib/libkleeRuntimePOSIX.bca\n",
      "KLEE: NOTE: Using klee-uclibc : /home/igandhi/Documents/build/Debug+Asserts/lib/klee-uclibc.bca\n",
      "KLEE: output directory is \"/home/igandhi/Documents/profiler/../klee/examples/llvm-coreutils/bitcodes/klee-out-33\"\n",
      "KLEE: Using STP solver backend\n",
      "KLEE: WARNING: undefined reference to function: __ctype_get_mb_cur_max\n",
      "KLEE: WARNING: undefined reference to function: bindtextdomain\n",
      "KLEE: WARNING: undefined reference to function: gettext\n",
      "KLEE: WARNING: undefined reference to function: textdomain\n",
      "KLEE: WARNING: executable has module level assembly (ignoring)\n",
      "KLEE: WARNING ONCE: calling external: syscall(16, 0, 21505, 94046449407616) at klee/runtime/POSIX/fd.c:1007 10\n",
      "KLEE: WARNING ONCE: Alignment of memory from call \"malloc\" is not modelled. Using alignment of 8.\n",
      "KLEE: WARNING ONCE: calling __klee_posix_wrapped_main with extra arguments.\n",
      "KLEE: WARNING ONCE: Alignment of memory from call \"calloc\" is not modelled. Using alignment of 8.\n",
      "KLEE: WARNING ONCE: calling external: bindtextdomain(94046448674304, 94046448760256) at [no debug info]\n",
      "KLEE: WARNING ONCE: calling external: textdomain(94046448674304) at [no debug info]\n",
      "KLEE: WARNING ONCE: Alignment of memory from call \"realloc\" is not modelled. Using alignment of 8.\n",
      "KLEE: WARNING ONCE: calling external: printf(94046448424808, 94046448301120, 10) at [no debug info]\n",
      "KLEE: WARNING ONCE: calling close_stdout with extra arguments.\n",
      "\n",
      "KLEE: done: total instructions = 179223\n",
      "KLEE: done: completed paths = 1\n",
      "KLEE: done: generated tests = 1\n"
     ]
    },
    {
     "name": "stdout",
     "output_type": "stream",
     "text": [
      "/home/igandhi/Documents/build/bin/klee --search=random-path --no-forking --track-instruction-time --libc=uclibc --posix-runtime --replace-condition=12938 --replay-path=\"/home/igandhi/Documents/profiler/../klee/examples/llvm-coreutils/bitcodes/klee-out-0/test000001.path\" ../klee/examples/llvm-coreutils/bitcodes/env.bc  --sym-arg 10\n"
     ]
    },
    {
     "name": "stderr",
     "output_type": "stream",
     "text": [
      "KLEE: NOTE: Using POSIX model: /home/igandhi/Documents/build/Debug+Asserts/lib/libkleeRuntimePOSIX.bca\n",
      "KLEE: NOTE: Using klee-uclibc : /home/igandhi/Documents/build/Debug+Asserts/lib/klee-uclibc.bca\n",
      "KLEE: output directory is \"/home/igandhi/Documents/profiler/../klee/examples/llvm-coreutils/bitcodes/klee-out-34\"\n",
      "KLEE: Using STP solver backend\n",
      "KLEE: WARNING: undefined reference to function: __ctype_get_mb_cur_max\n",
      "KLEE: WARNING: undefined reference to function: bindtextdomain\n",
      "KLEE: WARNING: undefined reference to function: gettext\n",
      "KLEE: WARNING: undefined reference to function: textdomain\n",
      "KLEE: WARNING: executable has module level assembly (ignoring)\n",
      "KLEE: WARNING ONCE: calling external: syscall(16, 0, 21505, 94156134610560) at klee/runtime/POSIX/fd.c:1007 10\n",
      "KLEE: WARNING ONCE: Alignment of memory from call \"malloc\" is not modelled. Using alignment of 8.\n",
      "KLEE: WARNING ONCE: calling __klee_posix_wrapped_main with extra arguments.\n",
      "KLEE: WARNING ONCE: Alignment of memory from call \"calloc\" is not modelled. Using alignment of 8.\n",
      "KLEE: WARNING ONCE: calling external: bindtextdomain(94156133877248, 94156133963200) at [no debug info]\n",
      "KLEE: WARNING ONCE: calling external: textdomain(94156133877248) at [no debug info]\n",
      "KLEE: WARNING ONCE: Alignment of memory from call \"realloc\" is not modelled. Using alignment of 8.\n",
      "KLEE: WARNING ONCE: calling external: printf(94156133627752, 94156133504064, 10) at [no debug info]\n",
      "KLEE: WARNING ONCE: calling close_stdout with extra arguments.\n",
      "\n",
      "KLEE: done: total instructions = 179223\n",
      "KLEE: done: completed paths = 1\n",
      "KLEE: done: generated tests = 1\n"
     ]
    },
    {
     "name": "stdout",
     "output_type": "stream",
     "text": [
      "/home/igandhi/Documents/build/bin/klee --search=random-path --no-forking --track-instruction-time --libc=uclibc --posix-runtime --replace-condition=12940 --replay-path=\"/home/igandhi/Documents/profiler/../klee/examples/llvm-coreutils/bitcodes/klee-out-0/test000001.path\" ../klee/examples/llvm-coreutils/bitcodes/env.bc  --sym-arg 10\n"
     ]
    },
    {
     "name": "stderr",
     "output_type": "stream",
     "text": [
      "KLEE: NOTE: Using POSIX model: /home/igandhi/Documents/build/Debug+Asserts/lib/libkleeRuntimePOSIX.bca\n",
      "KLEE: NOTE: Using klee-uclibc : /home/igandhi/Documents/build/Debug+Asserts/lib/klee-uclibc.bca\n",
      "KLEE: output directory is \"/home/igandhi/Documents/profiler/../klee/examples/llvm-coreutils/bitcodes/klee-out-35\"\n",
      "KLEE: Using STP solver backend\n",
      "KLEE: WARNING: undefined reference to function: __ctype_get_mb_cur_max\n",
      "KLEE: WARNING: undefined reference to function: bindtextdomain\n",
      "KLEE: WARNING: undefined reference to function: gettext\n",
      "KLEE: WARNING: undefined reference to function: textdomain\n",
      "KLEE: WARNING: executable has module level assembly (ignoring)\n",
      "KLEE: WARNING ONCE: calling external: syscall(16, 0, 21505, 94668404072032) at klee/runtime/POSIX/fd.c:1007 10\n",
      "KLEE: WARNING ONCE: Alignment of memory from call \"malloc\" is not modelled. Using alignment of 8.\n",
      "KLEE: WARNING ONCE: calling __klee_posix_wrapped_main with extra arguments.\n",
      "KLEE: WARNING ONCE: Alignment of memory from call \"calloc\" is not modelled. Using alignment of 8.\n",
      "KLEE: WARNING ONCE: calling external: bindtextdomain(94668403336704, 94668403422656) at [no debug info]\n",
      "KLEE: WARNING ONCE: calling external: textdomain(94668403336704) at [no debug info]\n",
      "KLEE: WARNING ONCE: Alignment of memory from call \"realloc\" is not modelled. Using alignment of 8.\n",
      "KLEE: WARNING ONCE: calling external: printf(94668403087208, 94668402963520, 10) at [no debug info]\n",
      "KLEE: WARNING ONCE: calling close_stdout with extra arguments.\n",
      "\n",
      "KLEE: done: total instructions = 179223\n",
      "KLEE: done: completed paths = 1\n",
      "KLEE: done: generated tests = 1\n"
     ]
    },
    {
     "name": "stdout",
     "output_type": "stream",
     "text": [
      "/home/igandhi/Documents/build/bin/klee --search=random-path --no-forking --track-instruction-time --libc=uclibc --posix-runtime --replace-condition=12943 --replay-path=\"/home/igandhi/Documents/profiler/../klee/examples/llvm-coreutils/bitcodes/klee-out-0/test000001.path\" ../klee/examples/llvm-coreutils/bitcodes/env.bc  --sym-arg 10\n"
     ]
    },
    {
     "name": "stderr",
     "output_type": "stream",
     "text": [
      "KLEE: NOTE: Using POSIX model: /home/igandhi/Documents/build/Debug+Asserts/lib/libkleeRuntimePOSIX.bca\n",
      "KLEE: NOTE: Using klee-uclibc : /home/igandhi/Documents/build/Debug+Asserts/lib/klee-uclibc.bca\n",
      "KLEE: output directory is \"/home/igandhi/Documents/profiler/../klee/examples/llvm-coreutils/bitcodes/klee-out-36\"\n",
      "KLEE: Using STP solver backend\n",
      "KLEE: WARNING: undefined reference to function: __ctype_get_mb_cur_max\n",
      "KLEE: WARNING: undefined reference to function: bindtextdomain\n",
      "KLEE: WARNING: undefined reference to function: gettext\n",
      "KLEE: WARNING: undefined reference to function: textdomain\n",
      "KLEE: WARNING: executable has module level assembly (ignoring)\n",
      "KLEE: WARNING ONCE: calling external: syscall(16, 0, 21505, 94380739106432) at klee/runtime/POSIX/fd.c:1007 10\n",
      "KLEE: WARNING ONCE: Alignment of memory from call \"malloc\" is not modelled. Using alignment of 8.\n",
      "KLEE: WARNING ONCE: calling __klee_posix_wrapped_main with extra arguments.\n",
      "KLEE: WARNING ONCE: Alignment of memory from call \"calloc\" is not modelled. Using alignment of 8.\n",
      "KLEE: WARNING ONCE: calling external: bindtextdomain(94380738373120, 94380738459072) at [no debug info]\n",
      "KLEE: WARNING ONCE: calling external: textdomain(94380738373120) at [no debug info]\n",
      "KLEE: WARNING ONCE: Alignment of memory from call \"realloc\" is not modelled. Using alignment of 8.\n",
      "KLEE: WARNING ONCE: calling external: printf(94380738123624, 94380737999936, 10) at [no debug info]\n",
      "KLEE: WARNING ONCE: calling close_stdout with extra arguments.\n",
      "\n",
      "KLEE: done: total instructions = 179223\n",
      "KLEE: done: completed paths = 1\n",
      "KLEE: done: generated tests = 1\n"
     ]
    },
    {
     "name": "stdout",
     "output_type": "stream",
     "text": [
      "/home/igandhi/Documents/build/bin/klee --search=random-path --no-forking --track-instruction-time --libc=uclibc --posix-runtime --replace-condition=12945 --replay-path=\"/home/igandhi/Documents/profiler/../klee/examples/llvm-coreutils/bitcodes/klee-out-0/test000001.path\" ../klee/examples/llvm-coreutils/bitcodes/env.bc  --sym-arg 10\n"
     ]
    },
    {
     "name": "stderr",
     "output_type": "stream",
     "text": [
      "KLEE: NOTE: Using POSIX model: /home/igandhi/Documents/build/Debug+Asserts/lib/libkleeRuntimePOSIX.bca\n",
      "KLEE: NOTE: Using klee-uclibc : /home/igandhi/Documents/build/Debug+Asserts/lib/klee-uclibc.bca\n",
      "KLEE: output directory is \"/home/igandhi/Documents/profiler/../klee/examples/llvm-coreutils/bitcodes/klee-out-37\"\n",
      "KLEE: Using STP solver backend\n",
      "KLEE: WARNING: undefined reference to function: __ctype_get_mb_cur_max\n",
      "KLEE: WARNING: undefined reference to function: bindtextdomain\n",
      "KLEE: WARNING: undefined reference to function: gettext\n",
      "KLEE: WARNING: undefined reference to function: textdomain\n",
      "KLEE: WARNING: executable has module level assembly (ignoring)\n",
      "KLEE: WARNING ONCE: calling external: syscall(16, 0, 21505, 93972609996416) at klee/runtime/POSIX/fd.c:1007 10\n",
      "KLEE: WARNING ONCE: Alignment of memory from call \"malloc\" is not modelled. Using alignment of 8.\n",
      "KLEE: WARNING ONCE: calling __klee_posix_wrapped_main with extra arguments.\n",
      "KLEE: WARNING ONCE: Alignment of memory from call \"calloc\" is not modelled. Using alignment of 8.\n",
      "KLEE: WARNING ONCE: calling external: bindtextdomain(93972609263104, 93972609349056) at [no debug info]\n",
      "KLEE: WARNING ONCE: calling external: textdomain(93972609263104) at [no debug info]\n",
      "KLEE: WARNING ONCE: Alignment of memory from call \"realloc\" is not modelled. Using alignment of 8.\n",
      "KLEE: WARNING ONCE: calling external: printf(93972609013608, 93972608889920, 10) at [no debug info]\n",
      "KLEE: WARNING ONCE: calling close_stdout with extra arguments.\n",
      "\n",
      "KLEE: done: total instructions = 179223\n",
      "KLEE: done: completed paths = 1\n",
      "KLEE: done: generated tests = 1\n"
     ]
    },
    {
     "name": "stdout",
     "output_type": "stream",
     "text": [
      "/home/igandhi/Documents/build/bin/klee --search=random-path --no-forking --track-instruction-time --libc=uclibc --posix-runtime --replace-condition=12948 --replay-path=\"/home/igandhi/Documents/profiler/../klee/examples/llvm-coreutils/bitcodes/klee-out-0/test000001.path\" ../klee/examples/llvm-coreutils/bitcodes/env.bc  --sym-arg 10\n"
     ]
    },
    {
     "name": "stderr",
     "output_type": "stream",
     "text": [
      "KLEE: NOTE: Using POSIX model: /home/igandhi/Documents/build/Debug+Asserts/lib/libkleeRuntimePOSIX.bca\n",
      "KLEE: NOTE: Using klee-uclibc : /home/igandhi/Documents/build/Debug+Asserts/lib/klee-uclibc.bca\n",
      "KLEE: output directory is \"/home/igandhi/Documents/profiler/../klee/examples/llvm-coreutils/bitcodes/klee-out-38\"\n",
      "KLEE: Using STP solver backend\n",
      "KLEE: WARNING: undefined reference to function: __ctype_get_mb_cur_max\n",
      "KLEE: WARNING: undefined reference to function: bindtextdomain\n",
      "KLEE: WARNING: undefined reference to function: gettext\n",
      "KLEE: WARNING: undefined reference to function: textdomain\n",
      "KLEE: WARNING: executable has module level assembly (ignoring)\n",
      "KLEE: WARNING ONCE: calling external: syscall(16, 0, 21505, 94686826624640) at klee/runtime/POSIX/fd.c:1007 10\n",
      "KLEE: WARNING ONCE: Alignment of memory from call \"malloc\" is not modelled. Using alignment of 8.\n",
      "KLEE: WARNING ONCE: calling __klee_posix_wrapped_main with extra arguments.\n",
      "KLEE: WARNING ONCE: Alignment of memory from call \"calloc\" is not modelled. Using alignment of 8.\n",
      "KLEE: WARNING ONCE: calling external: bindtextdomain(94686825891328, 94686825977280) at [no debug info]\n",
      "KLEE: WARNING ONCE: calling external: textdomain(94686825891328) at [no debug info]\n",
      "KLEE: WARNING ONCE: Alignment of memory from call \"realloc\" is not modelled. Using alignment of 8.\n",
      "KLEE: WARNING ONCE: calling external: printf(94686825641832, 94686825518144, 10) at [no debug info]\n",
      "KLEE: WARNING ONCE: calling close_stdout with extra arguments.\n",
      "\n",
      "KLEE: done: total instructions = 179223\n",
      "KLEE: done: completed paths = 1\n",
      "KLEE: done: generated tests = 1\n"
     ]
    },
    {
     "name": "stdout",
     "output_type": "stream",
     "text": [
      "/home/igandhi/Documents/build/bin/klee --search=random-path --no-forking --track-instruction-time --libc=uclibc --posix-runtime --replace-condition=12950 --replay-path=\"/home/igandhi/Documents/profiler/../klee/examples/llvm-coreutils/bitcodes/klee-out-0/test000001.path\" ../klee/examples/llvm-coreutils/bitcodes/env.bc  --sym-arg 10\n"
     ]
    },
    {
     "name": "stderr",
     "output_type": "stream",
     "text": [
      "KLEE: NOTE: Using POSIX model: /home/igandhi/Documents/build/Debug+Asserts/lib/libkleeRuntimePOSIX.bca\n",
      "KLEE: NOTE: Using klee-uclibc : /home/igandhi/Documents/build/Debug+Asserts/lib/klee-uclibc.bca\n",
      "KLEE: output directory is \"/home/igandhi/Documents/profiler/../klee/examples/llvm-coreutils/bitcodes/klee-out-39\"\n",
      "KLEE: Using STP solver backend\n",
      "KLEE: WARNING: undefined reference to function: __ctype_get_mb_cur_max\n",
      "KLEE: WARNING: undefined reference to function: bindtextdomain\n",
      "KLEE: WARNING: undefined reference to function: gettext\n",
      "KLEE: WARNING: undefined reference to function: textdomain\n",
      "KLEE: WARNING: executable has module level assembly (ignoring)\n",
      "KLEE: WARNING ONCE: calling external: syscall(16, 0, 21505, 94363997542016) at klee/runtime/POSIX/fd.c:1007 10\n",
      "KLEE: WARNING ONCE: Alignment of memory from call \"malloc\" is not modelled. Using alignment of 8.\n",
      "KLEE: WARNING ONCE: calling __klee_posix_wrapped_main with extra arguments.\n",
      "KLEE: WARNING ONCE: Alignment of memory from call \"calloc\" is not modelled. Using alignment of 8.\n",
      "KLEE: WARNING ONCE: calling external: bindtextdomain(94363996808704, 94363996894656) at [no debug info]\n",
      "KLEE: WARNING ONCE: calling external: textdomain(94363996808704) at [no debug info]\n",
      "KLEE: WARNING ONCE: Alignment of memory from call \"realloc\" is not modelled. Using alignment of 8.\n",
      "KLEE: WARNING ONCE: calling external: printf(94363996559208, 94363996435520, 10) at [no debug info]\n",
      "KLEE: WARNING ONCE: calling close_stdout with extra arguments.\n",
      "\n",
      "KLEE: done: total instructions = 179223\n",
      "KLEE: done: completed paths = 1\n",
      "KLEE: done: generated tests = 1\n"
     ]
    },
    {
     "name": "stdout",
     "output_type": "stream",
     "text": [
      "/home/igandhi/Documents/build/bin/klee --search=random-path --no-forking --track-instruction-time --libc=uclibc --posix-runtime --replace-condition=12953 --replay-path=\"/home/igandhi/Documents/profiler/../klee/examples/llvm-coreutils/bitcodes/klee-out-0/test000001.path\" ../klee/examples/llvm-coreutils/bitcodes/env.bc  --sym-arg 10\n"
     ]
    },
    {
     "name": "stderr",
     "output_type": "stream",
     "text": [
      "KLEE: NOTE: Using POSIX model: /home/igandhi/Documents/build/Debug+Asserts/lib/libkleeRuntimePOSIX.bca\n",
      "KLEE: NOTE: Using klee-uclibc : /home/igandhi/Documents/build/Debug+Asserts/lib/klee-uclibc.bca\n",
      "KLEE: output directory is \"/home/igandhi/Documents/profiler/../klee/examples/llvm-coreutils/bitcodes/klee-out-40\"\n",
      "KLEE: Using STP solver backend\n",
      "KLEE: WARNING: undefined reference to function: __ctype_get_mb_cur_max\n",
      "KLEE: WARNING: undefined reference to function: bindtextdomain\n",
      "KLEE: WARNING: undefined reference to function: gettext\n",
      "KLEE: WARNING: undefined reference to function: textdomain\n",
      "KLEE: WARNING: executable has module level assembly (ignoring)\n",
      "KLEE: WARNING ONCE: calling external: syscall(16, 0, 21505, 94760734193280) at klee/runtime/POSIX/fd.c:1007 10\n",
      "KLEE: WARNING ONCE: Alignment of memory from call \"malloc\" is not modelled. Using alignment of 8.\n",
      "KLEE: WARNING ONCE: calling __klee_posix_wrapped_main with extra arguments.\n",
      "KLEE: WARNING ONCE: Alignment of memory from call \"calloc\" is not modelled. Using alignment of 8.\n",
      "KLEE: WARNING ONCE: calling external: bindtextdomain(94760733459968, 94760733545920) at [no debug info]\n",
      "KLEE: WARNING ONCE: calling external: textdomain(94760733459968) at [no debug info]\n",
      "KLEE: WARNING ONCE: Alignment of memory from call \"realloc\" is not modelled. Using alignment of 8.\n",
      "KLEE: WARNING ONCE: calling external: printf(94760733210472, 94760733086784, 10) at [no debug info]\n",
      "KLEE: WARNING ONCE: calling close_stdout with extra arguments.\n",
      "\n",
      "KLEE: done: total instructions = 179223\n",
      "KLEE: done: completed paths = 1\n",
      "KLEE: done: generated tests = 1\n"
     ]
    },
    {
     "name": "stdout",
     "output_type": "stream",
     "text": [
      "/home/igandhi/Documents/build/bin/klee --search=random-path --no-forking --track-instruction-time --libc=uclibc --posix-runtime --replace-condition=12955 --replay-path=\"/home/igandhi/Documents/profiler/../klee/examples/llvm-coreutils/bitcodes/klee-out-0/test000001.path\" ../klee/examples/llvm-coreutils/bitcodes/env.bc  --sym-arg 10\n"
     ]
    },
    {
     "name": "stderr",
     "output_type": "stream",
     "text": [
      "KLEE: NOTE: Using POSIX model: /home/igandhi/Documents/build/Debug+Asserts/lib/libkleeRuntimePOSIX.bca\n",
      "KLEE: NOTE: Using klee-uclibc : /home/igandhi/Documents/build/Debug+Asserts/lib/klee-uclibc.bca\n",
      "KLEE: output directory is \"/home/igandhi/Documents/profiler/../klee/examples/llvm-coreutils/bitcodes/klee-out-41\"\n",
      "KLEE: Using STP solver backend\n",
      "KLEE: WARNING: undefined reference to function: __ctype_get_mb_cur_max\n",
      "KLEE: WARNING: undefined reference to function: bindtextdomain\n",
      "KLEE: WARNING: undefined reference to function: gettext\n",
      "KLEE: WARNING: undefined reference to function: textdomain\n",
      "KLEE: WARNING: executable has module level assembly (ignoring)\n",
      "KLEE: WARNING ONCE: calling external: syscall(16, 0, 21505, 93974810833600) at klee/runtime/POSIX/fd.c:1007 10\n",
      "KLEE: WARNING ONCE: Alignment of memory from call \"malloc\" is not modelled. Using alignment of 8.\n",
      "KLEE: WARNING ONCE: calling __klee_posix_wrapped_main with extra arguments.\n",
      "KLEE: WARNING ONCE: Alignment of memory from call \"calloc\" is not modelled. Using alignment of 8.\n",
      "KLEE: WARNING ONCE: calling external: bindtextdomain(93974810101232, 93974810187200) at [no debug info]\n",
      "KLEE: WARNING ONCE: calling external: textdomain(93974810101232) at [no debug info]\n",
      "KLEE: WARNING ONCE: Alignment of memory from call \"realloc\" is not modelled. Using alignment of 8.\n",
      "KLEE: WARNING ONCE: calling external: printf(93974809851752, 93974809728064, 10) at [no debug info]\n",
      "KLEE: WARNING ONCE: calling close_stdout with extra arguments.\n",
      "\n",
      "KLEE: done: total instructions = 179223\n",
      "KLEE: done: completed paths = 1\n",
      "KLEE: done: generated tests = 1\n"
     ]
    },
    {
     "name": "stdout",
     "output_type": "stream",
     "text": [
      "/home/igandhi/Documents/build/bin/klee --search=random-path --no-forking --track-instruction-time --libc=uclibc --posix-runtime --replace-condition=12958 --replay-path=\"/home/igandhi/Documents/profiler/../klee/examples/llvm-coreutils/bitcodes/klee-out-0/test000001.path\" ../klee/examples/llvm-coreutils/bitcodes/env.bc  --sym-arg 10\n"
     ]
    },
    {
     "name": "stderr",
     "output_type": "stream",
     "text": [
      "KLEE: NOTE: Using POSIX model: /home/igandhi/Documents/build/Debug+Asserts/lib/libkleeRuntimePOSIX.bca\n",
      "KLEE: NOTE: Using klee-uclibc : /home/igandhi/Documents/build/Debug+Asserts/lib/klee-uclibc.bca\n",
      "KLEE: output directory is \"/home/igandhi/Documents/profiler/../klee/examples/llvm-coreutils/bitcodes/klee-out-42\"\n",
      "KLEE: Using STP solver backend\n",
      "KLEE: WARNING: undefined reference to function: __ctype_get_mb_cur_max\n",
      "KLEE: WARNING: undefined reference to function: bindtextdomain\n",
      "KLEE: WARNING: undefined reference to function: gettext\n",
      "KLEE: WARNING: undefined reference to function: textdomain\n",
      "KLEE: WARNING: executable has module level assembly (ignoring)\n",
      "KLEE: WARNING ONCE: calling external: syscall(16, 0, 21505, 94546564986496) at klee/runtime/POSIX/fd.c:1007 10\n",
      "KLEE: WARNING ONCE: Alignment of memory from call \"malloc\" is not modelled. Using alignment of 8.\n",
      "KLEE: WARNING ONCE: calling __klee_posix_wrapped_main with extra arguments.\n",
      "KLEE: WARNING ONCE: Alignment of memory from call \"calloc\" is not modelled. Using alignment of 8.\n",
      "KLEE: WARNING ONCE: calling external: bindtextdomain(94546564253184, 94546564339136) at [no debug info]\n",
      "KLEE: WARNING ONCE: calling external: textdomain(94546564253184) at [no debug info]\n",
      "KLEE: WARNING ONCE: Alignment of memory from call \"realloc\" is not modelled. Using alignment of 8.\n",
      "KLEE: WARNING ONCE: calling external: printf(94546564003688, 94546563880000, 10) at [no debug info]\n",
      "KLEE: WARNING ONCE: calling close_stdout with extra arguments.\n",
      "\n",
      "KLEE: done: total instructions = 179223\n",
      "KLEE: done: completed paths = 1\n",
      "KLEE: done: generated tests = 1\n"
     ]
    },
    {
     "name": "stdout",
     "output_type": "stream",
     "text": [
      "/home/igandhi/Documents/build/bin/klee --search=random-path --no-forking --track-instruction-time --libc=uclibc --posix-runtime --replace-condition=12960 --replay-path=\"/home/igandhi/Documents/profiler/../klee/examples/llvm-coreutils/bitcodes/klee-out-0/test000001.path\" ../klee/examples/llvm-coreutils/bitcodes/env.bc  --sym-arg 10\n"
     ]
    },
    {
     "name": "stderr",
     "output_type": "stream",
     "text": [
      "KLEE: NOTE: Using POSIX model: /home/igandhi/Documents/build/Debug+Asserts/lib/libkleeRuntimePOSIX.bca\n",
      "KLEE: NOTE: Using klee-uclibc : /home/igandhi/Documents/build/Debug+Asserts/lib/klee-uclibc.bca\n",
      "KLEE: output directory is \"/home/igandhi/Documents/profiler/../klee/examples/llvm-coreutils/bitcodes/klee-out-43\"\n",
      "KLEE: Using STP solver backend\n",
      "KLEE: WARNING: undefined reference to function: __ctype_get_mb_cur_max\n",
      "KLEE: WARNING: undefined reference to function: bindtextdomain\n",
      "KLEE: WARNING: undefined reference to function: gettext\n",
      "KLEE: WARNING: undefined reference to function: textdomain\n",
      "KLEE: WARNING: executable has module level assembly (ignoring)\n",
      "KLEE: WARNING ONCE: calling external: syscall(16, 0, 21505, 94152464168576) at klee/runtime/POSIX/fd.c:1007 10\n",
      "KLEE: WARNING ONCE: Alignment of memory from call \"malloc\" is not modelled. Using alignment of 8.\n",
      "KLEE: WARNING ONCE: calling __klee_posix_wrapped_main with extra arguments.\n",
      "KLEE: WARNING ONCE: Alignment of memory from call \"calloc\" is not modelled. Using alignment of 8.\n",
      "KLEE: WARNING ONCE: calling external: bindtextdomain(94152463435264, 94152463521216) at [no debug info]\n",
      "KLEE: WARNING ONCE: calling external: textdomain(94152463435264) at [no debug info]\n",
      "KLEE: WARNING ONCE: Alignment of memory from call \"realloc\" is not modelled. Using alignment of 8.\n",
      "KLEE: WARNING ONCE: calling external: printf(94152463185768, 94152463062080, 10) at [no debug info]\n",
      "KLEE: WARNING ONCE: calling close_stdout with extra arguments.\n",
      "\n",
      "KLEE: done: total instructions = 179223\n",
      "KLEE: done: completed paths = 1\n",
      "KLEE: done: generated tests = 1\n"
     ]
    },
    {
     "name": "stdout",
     "output_type": "stream",
     "text": [
      "/home/igandhi/Documents/build/bin/klee --search=random-path --no-forking --track-instruction-time --libc=uclibc --posix-runtime --replace-condition=12963 --replay-path=\"/home/igandhi/Documents/profiler/../klee/examples/llvm-coreutils/bitcodes/klee-out-0/test000001.path\" ../klee/examples/llvm-coreutils/bitcodes/env.bc  --sym-arg 10\n"
     ]
    },
    {
     "name": "stderr",
     "output_type": "stream",
     "text": [
      "KLEE: NOTE: Using POSIX model: /home/igandhi/Documents/build/Debug+Asserts/lib/libkleeRuntimePOSIX.bca\n",
      "KLEE: NOTE: Using klee-uclibc : /home/igandhi/Documents/build/Debug+Asserts/lib/klee-uclibc.bca\n",
      "KLEE: output directory is \"/home/igandhi/Documents/profiler/../klee/examples/llvm-coreutils/bitcodes/klee-out-44\"\n",
      "KLEE: Using STP solver backend\n",
      "KLEE: WARNING: undefined reference to function: __ctype_get_mb_cur_max\n",
      "KLEE: WARNING: undefined reference to function: bindtextdomain\n",
      "KLEE: WARNING: undefined reference to function: gettext\n",
      "KLEE: WARNING: undefined reference to function: textdomain\n",
      "KLEE: WARNING: executable has module level assembly (ignoring)\n",
      "KLEE: WARNING ONCE: calling external: syscall(16, 0, 21505, 94046319572608) at klee/runtime/POSIX/fd.c:1007 10\n",
      "KLEE: WARNING ONCE: Alignment of memory from call \"malloc\" is not modelled. Using alignment of 8.\n",
      "KLEE: WARNING ONCE: calling __klee_posix_wrapped_main with extra arguments.\n",
      "KLEE: WARNING ONCE: Alignment of memory from call \"calloc\" is not modelled. Using alignment of 8.\n",
      "KLEE: WARNING ONCE: calling external: bindtextdomain(94046318839296, 94046318925248) at [no debug info]\n",
      "KLEE: WARNING ONCE: calling external: textdomain(94046318839296) at [no debug info]\n",
      "KLEE: WARNING ONCE: Alignment of memory from call \"realloc\" is not modelled. Using alignment of 8.\n",
      "KLEE: WARNING ONCE: calling external: printf(94046318589800, 94046318466112, 10) at [no debug info]\n",
      "KLEE: WARNING ONCE: calling close_stdout with extra arguments.\n",
      "\n",
      "KLEE: done: total instructions = 179223\n",
      "KLEE: done: completed paths = 1\n",
      "KLEE: done: generated tests = 1\n"
     ]
    },
    {
     "name": "stdout",
     "output_type": "stream",
     "text": [
      "/home/igandhi/Documents/build/bin/klee --search=random-path --no-forking --track-instruction-time --libc=uclibc --posix-runtime --replace-condition=12965 --replay-path=\"/home/igandhi/Documents/profiler/../klee/examples/llvm-coreutils/bitcodes/klee-out-0/test000001.path\" ../klee/examples/llvm-coreutils/bitcodes/env.bc  --sym-arg 10\n"
     ]
    },
    {
     "name": "stderr",
     "output_type": "stream",
     "text": [
      "KLEE: NOTE: Using POSIX model: /home/igandhi/Documents/build/Debug+Asserts/lib/libkleeRuntimePOSIX.bca\n",
      "KLEE: NOTE: Using klee-uclibc : /home/igandhi/Documents/build/Debug+Asserts/lib/klee-uclibc.bca\n",
      "KLEE: output directory is \"/home/igandhi/Documents/profiler/../klee/examples/llvm-coreutils/bitcodes/klee-out-45\"\n",
      "KLEE: Using STP solver backend\n",
      "KLEE: WARNING: undefined reference to function: __ctype_get_mb_cur_max\n",
      "KLEE: WARNING: undefined reference to function: bindtextdomain\n",
      "KLEE: WARNING: undefined reference to function: gettext\n",
      "KLEE: WARNING: undefined reference to function: textdomain\n",
      "KLEE: WARNING: executable has module level assembly (ignoring)\n",
      "KLEE: WARNING ONCE: calling external: syscall(16, 0, 21505, 94821627117152) at klee/runtime/POSIX/fd.c:1007 10\n",
      "KLEE: WARNING ONCE: Alignment of memory from call \"malloc\" is not modelled. Using alignment of 8.\n",
      "KLEE: WARNING ONCE: calling __klee_posix_wrapped_main with extra arguments.\n",
      "KLEE: WARNING ONCE: Alignment of memory from call \"calloc\" is not modelled. Using alignment of 8.\n",
      "KLEE: WARNING ONCE: calling external: bindtextdomain(94821626381824, 94821626467776) at [no debug info]\n",
      "KLEE: WARNING ONCE: calling external: textdomain(94821626381824) at [no debug info]\n",
      "KLEE: WARNING ONCE: Alignment of memory from call \"realloc\" is not modelled. Using alignment of 8.\n",
      "KLEE: WARNING ONCE: calling external: printf(94821626132328, 94821626008640, 10) at [no debug info]\n",
      "KLEE: WARNING ONCE: calling close_stdout with extra arguments.\n",
      "\n",
      "KLEE: done: total instructions = 179223\n",
      "KLEE: done: completed paths = 1\n",
      "KLEE: done: generated tests = 1\n"
     ]
    },
    {
     "name": "stdout",
     "output_type": "stream",
     "text": [
      "/home/igandhi/Documents/build/bin/klee --search=random-path --no-forking --track-instruction-time --libc=uclibc --posix-runtime --replace-condition=12968 --replay-path=\"/home/igandhi/Documents/profiler/../klee/examples/llvm-coreutils/bitcodes/klee-out-0/test000001.path\" ../klee/examples/llvm-coreutils/bitcodes/env.bc  --sym-arg 10\n"
     ]
    },
    {
     "name": "stderr",
     "output_type": "stream",
     "text": [
      "KLEE: NOTE: Using POSIX model: /home/igandhi/Documents/build/Debug+Asserts/lib/libkleeRuntimePOSIX.bca\n",
      "KLEE: NOTE: Using klee-uclibc : /home/igandhi/Documents/build/Debug+Asserts/lib/klee-uclibc.bca\n",
      "KLEE: output directory is \"/home/igandhi/Documents/profiler/../klee/examples/llvm-coreutils/bitcodes/klee-out-46\"\n",
      "KLEE: Using STP solver backend\n",
      "KLEE: WARNING: undefined reference to function: __ctype_get_mb_cur_max\n",
      "KLEE: WARNING: undefined reference to function: bindtextdomain\n",
      "KLEE: WARNING: undefined reference to function: gettext\n",
      "KLEE: WARNING: undefined reference to function: textdomain\n",
      "KLEE: WARNING: executable has module level assembly (ignoring)\n",
      "KLEE: WARNING ONCE: calling external: syscall(16, 0, 21505, 94143458228032) at klee/runtime/POSIX/fd.c:1007 10\n",
      "KLEE: WARNING ONCE: Alignment of memory from call \"malloc\" is not modelled. Using alignment of 8.\n",
      "KLEE: WARNING ONCE: calling __klee_posix_wrapped_main with extra arguments.\n",
      "KLEE: WARNING ONCE: Alignment of memory from call \"calloc\" is not modelled. Using alignment of 8.\n",
      "KLEE: WARNING ONCE: calling external: bindtextdomain(94143457494512, 94143457580480) at [no debug info]\n",
      "KLEE: WARNING ONCE: calling external: textdomain(94143457494512) at [no debug info]\n",
      "KLEE: WARNING ONCE: Alignment of memory from call \"realloc\" is not modelled. Using alignment of 8.\n",
      "KLEE: WARNING ONCE: calling external: printf(94143457245032, 94143457121344, 10) at [no debug info]\n",
      "KLEE: WARNING ONCE: calling close_stdout with extra arguments.\n",
      "\n",
      "KLEE: done: total instructions = 179223\n",
      "KLEE: done: completed paths = 1\n",
      "KLEE: done: generated tests = 1\n"
     ]
    },
    {
     "name": "stdout",
     "output_type": "stream",
     "text": [
      "/home/igandhi/Documents/build/bin/klee --search=random-path --no-forking --track-instruction-time --libc=uclibc --posix-runtime --replace-condition=12973 --replay-path=\"/home/igandhi/Documents/profiler/../klee/examples/llvm-coreutils/bitcodes/klee-out-0/test000001.path\" ../klee/examples/llvm-coreutils/bitcodes/env.bc  --sym-arg 10\n"
     ]
    },
    {
     "name": "stderr",
     "output_type": "stream",
     "text": [
      "KLEE: NOTE: Using POSIX model: /home/igandhi/Documents/build/Debug+Asserts/lib/libkleeRuntimePOSIX.bca\n",
      "KLEE: NOTE: Using klee-uclibc : /home/igandhi/Documents/build/Debug+Asserts/lib/klee-uclibc.bca\n",
      "KLEE: output directory is \"/home/igandhi/Documents/profiler/../klee/examples/llvm-coreutils/bitcodes/klee-out-47\"\n",
      "KLEE: Using STP solver backend\n",
      "KLEE: WARNING: undefined reference to function: __ctype_get_mb_cur_max\n",
      "KLEE: WARNING: undefined reference to function: bindtextdomain\n",
      "KLEE: WARNING: undefined reference to function: gettext\n",
      "KLEE: WARNING: undefined reference to function: textdomain\n",
      "KLEE: WARNING: executable has module level assembly (ignoring)\n",
      "KLEE: WARNING ONCE: calling external: syscall(16, 0, 21505, 94748661937792) at klee/runtime/POSIX/fd.c:1007 10\n",
      "KLEE: WARNING ONCE: Alignment of memory from call \"malloc\" is not modelled. Using alignment of 8.\n",
      "KLEE: WARNING ONCE: calling __klee_posix_wrapped_main with extra arguments.\n",
      "KLEE: WARNING ONCE: Alignment of memory from call \"calloc\" is not modelled. Using alignment of 8.\n",
      "KLEE: WARNING ONCE: calling external: bindtextdomain(94748661204480, 94748661290432) at [no debug info]\n",
      "KLEE: WARNING ONCE: calling external: textdomain(94748661204480) at [no debug info]\n",
      "KLEE: WARNING ONCE: Alignment of memory from call \"realloc\" is not modelled. Using alignment of 8.\n",
      "KLEE: WARNING ONCE: calling external: printf(94748660954984, 94748660831296, 10) at [no debug info]\n",
      "KLEE: WARNING ONCE: calling close_stdout with extra arguments.\n",
      "\n",
      "KLEE: done: total instructions = 179223\n",
      "KLEE: done: completed paths = 1\n",
      "KLEE: done: generated tests = 1\n"
     ]
    },
    {
     "name": "stdout",
     "output_type": "stream",
     "text": [
      "/home/igandhi/Documents/build/bin/klee --search=random-path --no-forking --track-instruction-time --libc=uclibc --posix-runtime --replace-condition=12975 --replay-path=\"/home/igandhi/Documents/profiler/../klee/examples/llvm-coreutils/bitcodes/klee-out-0/test000001.path\" ../klee/examples/llvm-coreutils/bitcodes/env.bc  --sym-arg 10\n"
     ]
    },
    {
     "name": "stderr",
     "output_type": "stream",
     "text": [
      "KLEE: NOTE: Using POSIX model: /home/igandhi/Documents/build/Debug+Asserts/lib/libkleeRuntimePOSIX.bca\n",
      "KLEE: NOTE: Using klee-uclibc : /home/igandhi/Documents/build/Debug+Asserts/lib/klee-uclibc.bca\n",
      "KLEE: output directory is \"/home/igandhi/Documents/profiler/../klee/examples/llvm-coreutils/bitcodes/klee-out-48\"\n",
      "KLEE: Using STP solver backend\n",
      "KLEE: WARNING: undefined reference to function: __ctype_get_mb_cur_max\n",
      "KLEE: WARNING: undefined reference to function: bindtextdomain\n",
      "KLEE: WARNING: undefined reference to function: gettext\n",
      "KLEE: WARNING: undefined reference to function: textdomain\n",
      "KLEE: WARNING: executable has module level assembly (ignoring)\n",
      "KLEE: WARNING ONCE: calling external: syscall(16, 0, 21505, 94426515175040) at klee/runtime/POSIX/fd.c:1007 10\n",
      "KLEE: WARNING ONCE: Alignment of memory from call \"malloc\" is not modelled. Using alignment of 8.\n",
      "KLEE: WARNING ONCE: calling __klee_posix_wrapped_main with extra arguments.\n",
      "KLEE: WARNING ONCE: Alignment of memory from call \"calloc\" is not modelled. Using alignment of 8.\n",
      "KLEE: WARNING ONCE: calling external: bindtextdomain(94426514441728, 94426514527680) at [no debug info]\n",
      "KLEE: WARNING ONCE: calling external: textdomain(94426514441728) at [no debug info]\n",
      "KLEE: WARNING ONCE: Alignment of memory from call \"realloc\" is not modelled. Using alignment of 8.\n",
      "KLEE: WARNING ONCE: calling external: printf(94426514192232, 94426514068544, 10) at [no debug info]\n",
      "KLEE: WARNING ONCE: calling close_stdout with extra arguments.\n",
      "\n",
      "KLEE: done: total instructions = 179223\n",
      "KLEE: done: completed paths = 1\n",
      "KLEE: done: generated tests = 1\n"
     ]
    },
    {
     "name": "stdout",
     "output_type": "stream",
     "text": [
      "/home/igandhi/Documents/build/bin/klee --search=random-path --no-forking --track-instruction-time --libc=uclibc --posix-runtime --replace-condition=12978 --replay-path=\"/home/igandhi/Documents/profiler/../klee/examples/llvm-coreutils/bitcodes/klee-out-0/test000001.path\" ../klee/examples/llvm-coreutils/bitcodes/env.bc  --sym-arg 10\n"
     ]
    },
    {
     "name": "stderr",
     "output_type": "stream",
     "text": [
      "KLEE: NOTE: Using POSIX model: /home/igandhi/Documents/build/Debug+Asserts/lib/libkleeRuntimePOSIX.bca\n",
      "KLEE: NOTE: Using klee-uclibc : /home/igandhi/Documents/build/Debug+Asserts/lib/klee-uclibc.bca\n",
      "KLEE: output directory is \"/home/igandhi/Documents/profiler/../klee/examples/llvm-coreutils/bitcodes/klee-out-49\"\n",
      "KLEE: Using STP solver backend\n",
      "KLEE: WARNING: undefined reference to function: __ctype_get_mb_cur_max\n",
      "KLEE: WARNING: undefined reference to function: bindtextdomain\n",
      "KLEE: WARNING: undefined reference to function: gettext\n",
      "KLEE: WARNING: undefined reference to function: textdomain\n",
      "KLEE: WARNING: executable has module level assembly (ignoring)\n",
      "KLEE: WARNING ONCE: calling external: syscall(16, 0, 21505, 93889992744544) at klee/runtime/POSIX/fd.c:1007 10\n",
      "KLEE: WARNING ONCE: Alignment of memory from call \"malloc\" is not modelled. Using alignment of 8.\n",
      "KLEE: WARNING ONCE: calling __klee_posix_wrapped_main with extra arguments.\n",
      "KLEE: WARNING ONCE: Alignment of memory from call \"calloc\" is not modelled. Using alignment of 8.\n",
      "KLEE: WARNING ONCE: calling external: bindtextdomain(93889992009216, 93889992095168) at [no debug info]\n",
      "KLEE: WARNING ONCE: calling external: textdomain(93889992009216) at [no debug info]\n",
      "KLEE: WARNING ONCE: Alignment of memory from call \"realloc\" is not modelled. Using alignment of 8.\n",
      "KLEE: WARNING ONCE: calling external: printf(93889991759720, 93889991636032, 10) at [no debug info]\n",
      "KLEE: WARNING ONCE: calling close_stdout with extra arguments.\n",
      "\n",
      "KLEE: done: total instructions = 179223\n",
      "KLEE: done: completed paths = 1\n",
      "KLEE: done: generated tests = 1\n"
     ]
    },
    {
     "name": "stdout",
     "output_type": "stream",
     "text": [
      "/home/igandhi/Documents/build/bin/klee --search=random-path --no-forking --track-instruction-time --libc=uclibc --posix-runtime --replace-condition=12980 --replay-path=\"/home/igandhi/Documents/profiler/../klee/examples/llvm-coreutils/bitcodes/klee-out-0/test000001.path\" ../klee/examples/llvm-coreutils/bitcodes/env.bc  --sym-arg 10\n"
     ]
    },
    {
     "name": "stderr",
     "output_type": "stream",
     "text": [
      "KLEE: NOTE: Using POSIX model: /home/igandhi/Documents/build/Debug+Asserts/lib/libkleeRuntimePOSIX.bca\n",
      "KLEE: NOTE: Using klee-uclibc : /home/igandhi/Documents/build/Debug+Asserts/lib/klee-uclibc.bca\n",
      "KLEE: output directory is \"/home/igandhi/Documents/profiler/../klee/examples/llvm-coreutils/bitcodes/klee-out-50\"\n",
      "KLEE: Using STP solver backend\n",
      "KLEE: WARNING: undefined reference to function: __ctype_get_mb_cur_max\n",
      "KLEE: WARNING: undefined reference to function: bindtextdomain\n",
      "KLEE: WARNING: undefined reference to function: gettext\n",
      "KLEE: WARNING: undefined reference to function: textdomain\n",
      "KLEE: WARNING: executable has module level assembly (ignoring)\n",
      "KLEE: WARNING ONCE: calling external: syscall(16, 0, 21505, 94168125242976) at klee/runtime/POSIX/fd.c:1007 10\n",
      "KLEE: WARNING ONCE: Alignment of memory from call \"malloc\" is not modelled. Using alignment of 8.\n",
      "KLEE: WARNING ONCE: calling __klee_posix_wrapped_main with extra arguments.\n",
      "KLEE: WARNING ONCE: Alignment of memory from call \"calloc\" is not modelled. Using alignment of 8.\n",
      "KLEE: WARNING ONCE: calling external: bindtextdomain(94168124507648, 94168124593600) at [no debug info]\n",
      "KLEE: WARNING ONCE: calling external: textdomain(94168124507648) at [no debug info]\n",
      "KLEE: WARNING ONCE: Alignment of memory from call \"realloc\" is not modelled. Using alignment of 8.\n",
      "KLEE: WARNING ONCE: calling external: printf(94168124258152, 94168124134464, 10) at [no debug info]\n",
      "KLEE: WARNING ONCE: calling close_stdout with extra arguments.\n",
      "\n",
      "KLEE: done: total instructions = 179223\n",
      "KLEE: done: completed paths = 1\n",
      "KLEE: done: generated tests = 1\n"
     ]
    },
    {
     "name": "stdout",
     "output_type": "stream",
     "text": [
      "/home/igandhi/Documents/build/bin/klee --search=random-path --no-forking --track-instruction-time --libc=uclibc --posix-runtime --replace-condition=12983 --replay-path=\"/home/igandhi/Documents/profiler/../klee/examples/llvm-coreutils/bitcodes/klee-out-0/test000001.path\" ../klee/examples/llvm-coreutils/bitcodes/env.bc  --sym-arg 10\n"
     ]
    },
    {
     "name": "stderr",
     "output_type": "stream",
     "text": [
      "KLEE: NOTE: Using POSIX model: /home/igandhi/Documents/build/Debug+Asserts/lib/libkleeRuntimePOSIX.bca\n",
      "KLEE: NOTE: Using klee-uclibc : /home/igandhi/Documents/build/Debug+Asserts/lib/klee-uclibc.bca\n",
      "KLEE: output directory is \"/home/igandhi/Documents/profiler/../klee/examples/llvm-coreutils/bitcodes/klee-out-51\"\n",
      "KLEE: Using STP solver backend\n",
      "KLEE: WARNING: undefined reference to function: __ctype_get_mb_cur_max\n",
      "KLEE: WARNING: undefined reference to function: bindtextdomain\n",
      "KLEE: WARNING: undefined reference to function: gettext\n",
      "KLEE: WARNING: undefined reference to function: textdomain\n",
      "KLEE: WARNING: executable has module level assembly (ignoring)\n",
      "KLEE: WARNING ONCE: calling external: syscall(16, 0, 21505, 94319761120864) at klee/runtime/POSIX/fd.c:1007 10\n",
      "KLEE: WARNING ONCE: Alignment of memory from call \"malloc\" is not modelled. Using alignment of 8.\n",
      "KLEE: WARNING ONCE: calling __klee_posix_wrapped_main with extra arguments.\n",
      "KLEE: WARNING ONCE: Alignment of memory from call \"calloc\" is not modelled. Using alignment of 8.\n",
      "KLEE: WARNING ONCE: calling external: bindtextdomain(94319760385536, 94319760471488) at [no debug info]\n",
      "KLEE: WARNING ONCE: calling external: textdomain(94319760385536) at [no debug info]\n",
      "KLEE: WARNING ONCE: Alignment of memory from call \"realloc\" is not modelled. Using alignment of 8.\n",
      "KLEE: WARNING ONCE: calling external: printf(94319760136040, 94319760012352, 10) at [no debug info]\n",
      "KLEE: WARNING ONCE: calling close_stdout with extra arguments.\n",
      "\n",
      "KLEE: done: total instructions = 179223\n",
      "KLEE: done: completed paths = 1\n",
      "KLEE: done: generated tests = 1\n"
     ]
    },
    {
     "name": "stdout",
     "output_type": "stream",
     "text": [
      "/home/igandhi/Documents/build/bin/klee --search=random-path --no-forking --track-instruction-time --libc=uclibc --posix-runtime --replace-condition=12985 --replay-path=\"/home/igandhi/Documents/profiler/../klee/examples/llvm-coreutils/bitcodes/klee-out-0/test000001.path\" ../klee/examples/llvm-coreutils/bitcodes/env.bc  --sym-arg 10\n"
     ]
    },
    {
     "name": "stderr",
     "output_type": "stream",
     "text": [
      "KLEE: NOTE: Using POSIX model: /home/igandhi/Documents/build/Debug+Asserts/lib/libkleeRuntimePOSIX.bca\n",
      "KLEE: NOTE: Using klee-uclibc : /home/igandhi/Documents/build/Debug+Asserts/lib/klee-uclibc.bca\n",
      "KLEE: output directory is \"/home/igandhi/Documents/profiler/../klee/examples/llvm-coreutils/bitcodes/klee-out-52\"\n",
      "KLEE: Using STP solver backend\n",
      "KLEE: WARNING: undefined reference to function: __ctype_get_mb_cur_max\n",
      "KLEE: WARNING: undefined reference to function: bindtextdomain\n",
      "KLEE: WARNING: undefined reference to function: gettext\n",
      "KLEE: WARNING: undefined reference to function: textdomain\n",
      "KLEE: WARNING: executable has module level assembly (ignoring)\n",
      "KLEE: WARNING ONCE: calling external: syscall(16, 0, 21505, 94148920514176) at klee/runtime/POSIX/fd.c:1007 10\n",
      "KLEE: WARNING ONCE: Alignment of memory from call \"malloc\" is not modelled. Using alignment of 8.\n",
      "KLEE: WARNING ONCE: calling __klee_posix_wrapped_main with extra arguments.\n",
      "KLEE: WARNING ONCE: Alignment of memory from call \"calloc\" is not modelled. Using alignment of 8.\n",
      "KLEE: WARNING ONCE: calling external: bindtextdomain(94148919780864, 94148919866816) at [no debug info]\n",
      "KLEE: WARNING ONCE: calling external: textdomain(94148919780864) at [no debug info]\n",
      "KLEE: WARNING ONCE: Alignment of memory from call \"realloc\" is not modelled. Using alignment of 8.\n",
      "KLEE: WARNING ONCE: calling external: printf(94148919531368, 94148919407680, 10) at [no debug info]\n",
      "KLEE: WARNING ONCE: calling close_stdout with extra arguments.\n",
      "\n",
      "KLEE: done: total instructions = 179223\n",
      "KLEE: done: completed paths = 1\n",
      "KLEE: done: generated tests = 1\n"
     ]
    },
    {
     "name": "stdout",
     "output_type": "stream",
     "text": [
      "/home/igandhi/Documents/build/bin/klee --search=random-path --no-forking --track-instruction-time --libc=uclibc --posix-runtime --replace-condition=12988 --replay-path=\"/home/igandhi/Documents/profiler/../klee/examples/llvm-coreutils/bitcodes/klee-out-0/test000001.path\" ../klee/examples/llvm-coreutils/bitcodes/env.bc  --sym-arg 10\n"
     ]
    },
    {
     "name": "stderr",
     "output_type": "stream",
     "text": [
      "KLEE: NOTE: Using POSIX model: /home/igandhi/Documents/build/Debug+Asserts/lib/libkleeRuntimePOSIX.bca\n",
      "KLEE: NOTE: Using klee-uclibc : /home/igandhi/Documents/build/Debug+Asserts/lib/klee-uclibc.bca\n",
      "KLEE: output directory is \"/home/igandhi/Documents/profiler/../klee/examples/llvm-coreutils/bitcodes/klee-out-53\"\n",
      "KLEE: Using STP solver backend\n",
      "KLEE: WARNING: undefined reference to function: __ctype_get_mb_cur_max\n",
      "KLEE: WARNING: undefined reference to function: bindtextdomain\n",
      "KLEE: WARNING: undefined reference to function: gettext\n",
      "KLEE: WARNING: undefined reference to function: textdomain\n",
      "KLEE: WARNING: executable has module level assembly (ignoring)\n",
      "KLEE: WARNING ONCE: calling external: syscall(16, 0, 21505, 94508827440768) at klee/runtime/POSIX/fd.c:1007 10\n",
      "KLEE: WARNING ONCE: Alignment of memory from call \"malloc\" is not modelled. Using alignment of 8.\n",
      "KLEE: WARNING ONCE: calling __klee_posix_wrapped_main with extra arguments.\n",
      "KLEE: WARNING ONCE: Alignment of memory from call \"calloc\" is not modelled. Using alignment of 8.\n",
      "KLEE: WARNING ONCE: calling external: bindtextdomain(94508826707456, 94508826793408) at [no debug info]\n",
      "KLEE: WARNING ONCE: calling external: textdomain(94508826707456) at [no debug info]\n",
      "KLEE: WARNING ONCE: Alignment of memory from call \"realloc\" is not modelled. Using alignment of 8.\n",
      "KLEE: WARNING ONCE: calling external: printf(94508826457960, 94508826334272, 10) at [no debug info]\n",
      "KLEE: WARNING ONCE: calling close_stdout with extra arguments.\n",
      "\n",
      "KLEE: done: total instructions = 179223\n",
      "KLEE: done: completed paths = 1\n",
      "KLEE: done: generated tests = 1\n"
     ]
    },
    {
     "name": "stdout",
     "output_type": "stream",
     "text": [
      "/home/igandhi/Documents/build/bin/klee --search=random-path --no-forking --track-instruction-time --libc=uclibc --posix-runtime --replace-condition=12990 --replay-path=\"/home/igandhi/Documents/profiler/../klee/examples/llvm-coreutils/bitcodes/klee-out-0/test000001.path\" ../klee/examples/llvm-coreutils/bitcodes/env.bc  --sym-arg 10\n"
     ]
    },
    {
     "name": "stderr",
     "output_type": "stream",
     "text": [
      "KLEE: NOTE: Using POSIX model: /home/igandhi/Documents/build/Debug+Asserts/lib/libkleeRuntimePOSIX.bca\n",
      "KLEE: NOTE: Using klee-uclibc : /home/igandhi/Documents/build/Debug+Asserts/lib/klee-uclibc.bca\n",
      "KLEE: output directory is \"/home/igandhi/Documents/profiler/../klee/examples/llvm-coreutils/bitcodes/klee-out-54\"\n",
      "KLEE: Using STP solver backend\n",
      "KLEE: WARNING: undefined reference to function: __ctype_get_mb_cur_max\n",
      "KLEE: WARNING: undefined reference to function: bindtextdomain\n",
      "KLEE: WARNING: undefined reference to function: gettext\n",
      "KLEE: WARNING: undefined reference to function: textdomain\n",
      "KLEE: WARNING: executable has module level assembly (ignoring)\n",
      "KLEE: WARNING ONCE: calling external: syscall(16, 0, 21505, 94602241102528) at klee/runtime/POSIX/fd.c:1007 10\n",
      "KLEE: WARNING ONCE: Alignment of memory from call \"malloc\" is not modelled. Using alignment of 8.\n",
      "KLEE: WARNING ONCE: calling __klee_posix_wrapped_main with extra arguments.\n",
      "KLEE: WARNING ONCE: Alignment of memory from call \"calloc\" is not modelled. Using alignment of 8.\n",
      "KLEE: WARNING ONCE: calling external: bindtextdomain(94602240370160, 94602240456128) at [no debug info]\n",
      "KLEE: WARNING ONCE: calling external: textdomain(94602240370160) at [no debug info]\n",
      "KLEE: WARNING ONCE: Alignment of memory from call \"realloc\" is not modelled. Using alignment of 8.\n",
      "KLEE: WARNING ONCE: calling external: printf(94602240120680, 94602239996992, 10) at [no debug info]\n",
      "KLEE: WARNING ONCE: calling close_stdout with extra arguments.\n",
      "\n",
      "KLEE: done: total instructions = 179223\n",
      "KLEE: done: completed paths = 1\n",
      "KLEE: done: generated tests = 1\n"
     ]
    },
    {
     "name": "stdout",
     "output_type": "stream",
     "text": [
      "/home/igandhi/Documents/build/bin/klee --search=random-path --no-forking --track-instruction-time --libc=uclibc --posix-runtime --replace-condition=12993 --replay-path=\"/home/igandhi/Documents/profiler/../klee/examples/llvm-coreutils/bitcodes/klee-out-0/test000001.path\" ../klee/examples/llvm-coreutils/bitcodes/env.bc  --sym-arg 10\n"
     ]
    },
    {
     "name": "stderr",
     "output_type": "stream",
     "text": [
      "KLEE: NOTE: Using POSIX model: /home/igandhi/Documents/build/Debug+Asserts/lib/libkleeRuntimePOSIX.bca\n",
      "KLEE: NOTE: Using klee-uclibc : /home/igandhi/Documents/build/Debug+Asserts/lib/klee-uclibc.bca\n",
      "KLEE: output directory is \"/home/igandhi/Documents/profiler/../klee/examples/llvm-coreutils/bitcodes/klee-out-55\"\n",
      "KLEE: Using STP solver backend\n",
      "KLEE: WARNING: undefined reference to function: __ctype_get_mb_cur_max\n",
      "KLEE: WARNING: undefined reference to function: bindtextdomain\n",
      "KLEE: WARNING: undefined reference to function: gettext\n",
      "KLEE: WARNING: undefined reference to function: textdomain\n",
      "KLEE: WARNING: executable has module level assembly (ignoring)\n",
      "KLEE: WARNING ONCE: calling external: syscall(16, 0, 21505, 94213450440288) at klee/runtime/POSIX/fd.c:1007 10\n",
      "KLEE: WARNING ONCE: Alignment of memory from call \"malloc\" is not modelled. Using alignment of 8.\n",
      "KLEE: WARNING ONCE: calling __klee_posix_wrapped_main with extra arguments.\n",
      "KLEE: WARNING ONCE: Alignment of memory from call \"calloc\" is not modelled. Using alignment of 8.\n",
      "KLEE: WARNING ONCE: calling external: bindtextdomain(94213449704960, 94213449790912) at [no debug info]\n",
      "KLEE: WARNING ONCE: calling external: textdomain(94213449704960) at [no debug info]\n",
      "KLEE: WARNING ONCE: Alignment of memory from call \"realloc\" is not modelled. Using alignment of 8.\n",
      "KLEE: WARNING ONCE: calling external: printf(94213449455464, 94213449331776, 10) at [no debug info]\n",
      "KLEE: WARNING ONCE: calling close_stdout with extra arguments.\n",
      "\n",
      "KLEE: done: total instructions = 179223\n",
      "KLEE: done: completed paths = 1\n",
      "KLEE: done: generated tests = 1\n"
     ]
    },
    {
     "name": "stdout",
     "output_type": "stream",
     "text": [
      "/home/igandhi/Documents/build/bin/klee --search=random-path --no-forking --track-instruction-time --libc=uclibc --posix-runtime --replace-condition=12995 --replay-path=\"/home/igandhi/Documents/profiler/../klee/examples/llvm-coreutils/bitcodes/klee-out-0/test000001.path\" ../klee/examples/llvm-coreutils/bitcodes/env.bc  --sym-arg 10\n"
     ]
    },
    {
     "name": "stderr",
     "output_type": "stream",
     "text": [
      "KLEE: NOTE: Using POSIX model: /home/igandhi/Documents/build/Debug+Asserts/lib/libkleeRuntimePOSIX.bca\n",
      "KLEE: NOTE: Using klee-uclibc : /home/igandhi/Documents/build/Debug+Asserts/lib/klee-uclibc.bca\n",
      "KLEE: output directory is \"/home/igandhi/Documents/profiler/../klee/examples/llvm-coreutils/bitcodes/klee-out-56\"\n",
      "KLEE: Using STP solver backend\n",
      "KLEE: WARNING: undefined reference to function: __ctype_get_mb_cur_max\n",
      "KLEE: WARNING: undefined reference to function: bindtextdomain\n",
      "KLEE: WARNING: undefined reference to function: gettext\n",
      "KLEE: WARNING: undefined reference to function: textdomain\n",
      "KLEE: WARNING: executable has module level assembly (ignoring)\n",
      "KLEE: WARNING ONCE: calling external: syscall(16, 0, 21505, 94791318951552) at klee/runtime/POSIX/fd.c:1007 10\n",
      "KLEE: WARNING ONCE: Alignment of memory from call \"malloc\" is not modelled. Using alignment of 8.\n",
      "KLEE: WARNING ONCE: calling __klee_posix_wrapped_main with extra arguments.\n",
      "KLEE: WARNING ONCE: Alignment of memory from call \"calloc\" is not modelled. Using alignment of 8.\n",
      "KLEE: WARNING ONCE: calling external: bindtextdomain(94791318218240, 94791318304192) at [no debug info]\n",
      "KLEE: WARNING ONCE: calling external: textdomain(94791318218240) at [no debug info]\n",
      "KLEE: WARNING ONCE: Alignment of memory from call \"realloc\" is not modelled. Using alignment of 8.\n",
      "KLEE: WARNING ONCE: calling external: printf(94791317968744, 94791317845056, 10) at [no debug info]\n",
      "KLEE: WARNING ONCE: calling close_stdout with extra arguments.\n",
      "\n",
      "KLEE: done: total instructions = 179223\n",
      "KLEE: done: completed paths = 1\n",
      "KLEE: done: generated tests = 1\n"
     ]
    },
    {
     "name": "stdout",
     "output_type": "stream",
     "text": [
      "/home/igandhi/Documents/build/bin/klee --search=random-path --no-forking --track-instruction-time --libc=uclibc --posix-runtime --replace-condition=12998 --replay-path=\"/home/igandhi/Documents/profiler/../klee/examples/llvm-coreutils/bitcodes/klee-out-0/test000001.path\" ../klee/examples/llvm-coreutils/bitcodes/env.bc  --sym-arg 10\n"
     ]
    },
    {
     "name": "stderr",
     "output_type": "stream",
     "text": [
      "KLEE: NOTE: Using POSIX model: /home/igandhi/Documents/build/Debug+Asserts/lib/libkleeRuntimePOSIX.bca\n",
      "KLEE: NOTE: Using klee-uclibc : /home/igandhi/Documents/build/Debug+Asserts/lib/klee-uclibc.bca\n",
      "KLEE: output directory is \"/home/igandhi/Documents/profiler/../klee/examples/llvm-coreutils/bitcodes/klee-out-57\"\n",
      "KLEE: Using STP solver backend\n",
      "KLEE: WARNING: undefined reference to function: __ctype_get_mb_cur_max\n",
      "KLEE: WARNING: undefined reference to function: bindtextdomain\n",
      "KLEE: WARNING: undefined reference to function: gettext\n",
      "KLEE: WARNING: undefined reference to function: textdomain\n",
      "KLEE: WARNING: executable has module level assembly (ignoring)\n",
      "KLEE: WARNING ONCE: calling external: syscall(16, 0, 21505, 93977266591360) at klee/runtime/POSIX/fd.c:1007 10\n",
      "KLEE: WARNING ONCE: Alignment of memory from call \"malloc\" is not modelled. Using alignment of 8.\n",
      "KLEE: WARNING ONCE: calling __klee_posix_wrapped_main with extra arguments.\n",
      "KLEE: WARNING ONCE: Alignment of memory from call \"calloc\" is not modelled. Using alignment of 8.\n",
      "KLEE: WARNING ONCE: calling external: bindtextdomain(93977265858048, 93977265944000) at [no debug info]\n",
      "KLEE: WARNING ONCE: calling external: textdomain(93977265858048) at [no debug info]\n",
      "KLEE: WARNING ONCE: Alignment of memory from call \"realloc\" is not modelled. Using alignment of 8.\n",
      "KLEE: WARNING ONCE: calling external: printf(93977265608552, 93977265484864, 10) at [no debug info]\n",
      "KLEE: WARNING ONCE: calling close_stdout with extra arguments.\n",
      "\n",
      "KLEE: done: total instructions = 179223\n",
      "KLEE: done: completed paths = 1\n",
      "KLEE: done: generated tests = 1\n"
     ]
    },
    {
     "name": "stdout",
     "output_type": "stream",
     "text": [
      "/home/igandhi/Documents/build/bin/klee --search=random-path --no-forking --track-instruction-time --libc=uclibc --posix-runtime --replace-condition=13000 --replay-path=\"/home/igandhi/Documents/profiler/../klee/examples/llvm-coreutils/bitcodes/klee-out-0/test000001.path\" ../klee/examples/llvm-coreutils/bitcodes/env.bc  --sym-arg 10\n"
     ]
    },
    {
     "name": "stderr",
     "output_type": "stream",
     "text": [
      "KLEE: NOTE: Using POSIX model: /home/igandhi/Documents/build/Debug+Asserts/lib/libkleeRuntimePOSIX.bca\n",
      "KLEE: NOTE: Using klee-uclibc : /home/igandhi/Documents/build/Debug+Asserts/lib/klee-uclibc.bca\n",
      "KLEE: output directory is \"/home/igandhi/Documents/profiler/../klee/examples/llvm-coreutils/bitcodes/klee-out-58\"\n",
      "KLEE: Using STP solver backend\n",
      "KLEE: WARNING: undefined reference to function: __ctype_get_mb_cur_max\n",
      "KLEE: WARNING: undefined reference to function: bindtextdomain\n",
      "KLEE: WARNING: undefined reference to function: gettext\n",
      "KLEE: WARNING: undefined reference to function: textdomain\n",
      "KLEE: WARNING: executable has module level assembly (ignoring)\n",
      "KLEE: WARNING ONCE: calling external: syscall(16, 0, 21505, 94839836350080) at klee/runtime/POSIX/fd.c:1007 10\n",
      "KLEE: WARNING ONCE: Alignment of memory from call \"malloc\" is not modelled. Using alignment of 8.\n",
      "KLEE: WARNING ONCE: calling __klee_posix_wrapped_main with extra arguments.\n",
      "KLEE: WARNING ONCE: Alignment of memory from call \"calloc\" is not modelled. Using alignment of 8.\n",
      "KLEE: WARNING ONCE: calling external: bindtextdomain(94839835616768, 94839835702720) at [no debug info]\n",
      "KLEE: WARNING ONCE: calling external: textdomain(94839835616768) at [no debug info]\n",
      "KLEE: WARNING ONCE: Alignment of memory from call \"realloc\" is not modelled. Using alignment of 8.\n",
      "KLEE: WARNING ONCE: calling external: printf(94839835367272, 94839835243584, 10) at [no debug info]\n",
      "KLEE: WARNING ONCE: calling close_stdout with extra arguments.\n",
      "\n",
      "KLEE: done: total instructions = 179223\n",
      "KLEE: done: completed paths = 1\n",
      "KLEE: done: generated tests = 1\n"
     ]
    },
    {
     "name": "stdout",
     "output_type": "stream",
     "text": [
      "/home/igandhi/Documents/build/bin/klee --search=random-path --no-forking --track-instruction-time --libc=uclibc --posix-runtime --replace-condition=13003 --replay-path=\"/home/igandhi/Documents/profiler/../klee/examples/llvm-coreutils/bitcodes/klee-out-0/test000001.path\" ../klee/examples/llvm-coreutils/bitcodes/env.bc  --sym-arg 10\n"
     ]
    },
    {
     "name": "stderr",
     "output_type": "stream",
     "text": [
      "KLEE: NOTE: Using POSIX model: /home/igandhi/Documents/build/Debug+Asserts/lib/libkleeRuntimePOSIX.bca\n",
      "KLEE: NOTE: Using klee-uclibc : /home/igandhi/Documents/build/Debug+Asserts/lib/klee-uclibc.bca\n",
      "KLEE: output directory is \"/home/igandhi/Documents/profiler/../klee/examples/llvm-coreutils/bitcodes/klee-out-59\"\n",
      "KLEE: Using STP solver backend\n",
      "KLEE: WARNING: undefined reference to function: __ctype_get_mb_cur_max\n",
      "KLEE: WARNING: undefined reference to function: bindtextdomain\n",
      "KLEE: WARNING: undefined reference to function: gettext\n",
      "KLEE: WARNING: undefined reference to function: textdomain\n",
      "KLEE: WARNING: executable has module level assembly (ignoring)\n",
      "KLEE: WARNING ONCE: calling external: syscall(16, 0, 21505, 94189262724704) at klee/runtime/POSIX/fd.c:1007 10\n",
      "KLEE: WARNING ONCE: Alignment of memory from call \"malloc\" is not modelled. Using alignment of 8.\n",
      "KLEE: WARNING ONCE: calling __klee_posix_wrapped_main with extra arguments.\n",
      "KLEE: WARNING ONCE: Alignment of memory from call \"calloc\" is not modelled. Using alignment of 8.\n",
      "KLEE: WARNING ONCE: calling external: bindtextdomain(94189261989376, 94189262075328) at [no debug info]\n",
      "KLEE: WARNING ONCE: calling external: textdomain(94189261989376) at [no debug info]\n",
      "KLEE: WARNING ONCE: Alignment of memory from call \"realloc\" is not modelled. Using alignment of 8.\n",
      "KLEE: WARNING ONCE: calling external: printf(94189261739880, 94189261616192, 10) at [no debug info]\n",
      "KLEE: WARNING ONCE: calling close_stdout with extra arguments.\n",
      "\n",
      "KLEE: done: total instructions = 179223\n",
      "KLEE: done: completed paths = 1\n",
      "KLEE: done: generated tests = 1\n"
     ]
    },
    {
     "name": "stdout",
     "output_type": "stream",
     "text": [
      "/home/igandhi/Documents/build/bin/klee --search=random-path --no-forking --track-instruction-time --libc=uclibc --posix-runtime --replace-condition=13005 --replay-path=\"/home/igandhi/Documents/profiler/../klee/examples/llvm-coreutils/bitcodes/klee-out-0/test000001.path\" ../klee/examples/llvm-coreutils/bitcodes/env.bc  --sym-arg 10\n"
     ]
    },
    {
     "name": "stderr",
     "output_type": "stream",
     "text": [
      "KLEE: NOTE: Using POSIX model: /home/igandhi/Documents/build/Debug+Asserts/lib/libkleeRuntimePOSIX.bca\n",
      "KLEE: NOTE: Using klee-uclibc : /home/igandhi/Documents/build/Debug+Asserts/lib/klee-uclibc.bca\n",
      "KLEE: output directory is \"/home/igandhi/Documents/profiler/../klee/examples/llvm-coreutils/bitcodes/klee-out-60\"\n",
      "KLEE: Using STP solver backend\n",
      "KLEE: WARNING: undefined reference to function: __ctype_get_mb_cur_max\n",
      "KLEE: WARNING: undefined reference to function: bindtextdomain\n",
      "KLEE: WARNING: undefined reference to function: gettext\n",
      "KLEE: WARNING: undefined reference to function: textdomain\n",
      "KLEE: WARNING: executable has module level assembly (ignoring)\n",
      "KLEE: WARNING ONCE: calling external: syscall(16, 0, 21505, 94633109853824) at klee/runtime/POSIX/fd.c:1007 10\n",
      "KLEE: WARNING ONCE: Alignment of memory from call \"malloc\" is not modelled. Using alignment of 8.\n",
      "KLEE: WARNING ONCE: calling __klee_posix_wrapped_main with extra arguments.\n",
      "KLEE: WARNING ONCE: Alignment of memory from call \"calloc\" is not modelled. Using alignment of 8.\n",
      "KLEE: WARNING ONCE: calling external: bindtextdomain(94633109120512, 94633109206464) at [no debug info]\n",
      "KLEE: WARNING ONCE: calling external: textdomain(94633109120512) at [no debug info]\n",
      "KLEE: WARNING ONCE: Alignment of memory from call \"realloc\" is not modelled. Using alignment of 8.\n",
      "KLEE: WARNING ONCE: calling external: printf(94633108871016, 94633108747328, 10) at [no debug info]\n",
      "KLEE: WARNING ONCE: calling close_stdout with extra arguments.\n",
      "\n",
      "KLEE: done: total instructions = 179223\n",
      "KLEE: done: completed paths = 1\n",
      "KLEE: done: generated tests = 1\n"
     ]
    },
    {
     "name": "stdout",
     "output_type": "stream",
     "text": [
      "/home/igandhi/Documents/build/bin/klee --search=random-path --no-forking --track-instruction-time --libc=uclibc --posix-runtime --replace-condition=13008 --replay-path=\"/home/igandhi/Documents/profiler/../klee/examples/llvm-coreutils/bitcodes/klee-out-0/test000001.path\" ../klee/examples/llvm-coreutils/bitcodes/env.bc  --sym-arg 10\n"
     ]
    },
    {
     "name": "stderr",
     "output_type": "stream",
     "text": [
      "KLEE: NOTE: Using POSIX model: /home/igandhi/Documents/build/Debug+Asserts/lib/libkleeRuntimePOSIX.bca\n",
      "KLEE: NOTE: Using klee-uclibc : /home/igandhi/Documents/build/Debug+Asserts/lib/klee-uclibc.bca\n",
      "KLEE: output directory is \"/home/igandhi/Documents/profiler/../klee/examples/llvm-coreutils/bitcodes/klee-out-61\"\n",
      "KLEE: Using STP solver backend\n",
      "KLEE: WARNING: undefined reference to function: __ctype_get_mb_cur_max\n",
      "KLEE: WARNING: undefined reference to function: bindtextdomain\n",
      "KLEE: WARNING: undefined reference to function: gettext\n",
      "KLEE: WARNING: undefined reference to function: textdomain\n",
      "KLEE: WARNING: executable has module level assembly (ignoring)\n",
      "KLEE: WARNING ONCE: calling external: syscall(16, 0, 21505, 94262899873408) at klee/runtime/POSIX/fd.c:1007 10\n",
      "KLEE: WARNING ONCE: Alignment of memory from call \"malloc\" is not modelled. Using alignment of 8.\n",
      "KLEE: WARNING ONCE: calling __klee_posix_wrapped_main with extra arguments.\n",
      "KLEE: WARNING ONCE: Alignment of memory from call \"calloc\" is not modelled. Using alignment of 8.\n",
      "KLEE: WARNING ONCE: calling external: bindtextdomain(94262899140096, 94262899226048) at [no debug info]\n",
      "KLEE: WARNING ONCE: calling external: textdomain(94262899140096) at [no debug info]\n",
      "KLEE: WARNING ONCE: Alignment of memory from call \"realloc\" is not modelled. Using alignment of 8.\n",
      "KLEE: WARNING ONCE: calling external: printf(94262898890600, 94262898766912, 10) at [no debug info]\n",
      "KLEE: WARNING ONCE: calling close_stdout with extra arguments.\n",
      "\n",
      "KLEE: done: total instructions = 179223\n",
      "KLEE: done: completed paths = 1\n",
      "KLEE: done: generated tests = 1\n"
     ]
    },
    {
     "name": "stdout",
     "output_type": "stream",
     "text": [
      "/home/igandhi/Documents/build/bin/klee --search=random-path --no-forking --track-instruction-time --libc=uclibc --posix-runtime --replace-condition=13010 --replay-path=\"/home/igandhi/Documents/profiler/../klee/examples/llvm-coreutils/bitcodes/klee-out-0/test000001.path\" ../klee/examples/llvm-coreutils/bitcodes/env.bc  --sym-arg 10\n"
     ]
    },
    {
     "name": "stderr",
     "output_type": "stream",
     "text": [
      "KLEE: NOTE: Using POSIX model: /home/igandhi/Documents/build/Debug+Asserts/lib/libkleeRuntimePOSIX.bca\n",
      "KLEE: NOTE: Using klee-uclibc : /home/igandhi/Documents/build/Debug+Asserts/lib/klee-uclibc.bca\n",
      "KLEE: output directory is \"/home/igandhi/Documents/profiler/../klee/examples/llvm-coreutils/bitcodes/klee-out-62\"\n",
      "KLEE: Using STP solver backend\n",
      "KLEE: WARNING: undefined reference to function: __ctype_get_mb_cur_max\n",
      "KLEE: WARNING: undefined reference to function: bindtextdomain\n",
      "KLEE: WARNING: undefined reference to function: gettext\n",
      "KLEE: WARNING: undefined reference to function: textdomain\n",
      "KLEE: WARNING: executable has module level assembly (ignoring)\n",
      "KLEE: WARNING ONCE: calling external: syscall(16, 0, 21505, 94062525126272) at klee/runtime/POSIX/fd.c:1007 10\n",
      "KLEE: WARNING ONCE: Alignment of memory from call \"malloc\" is not modelled. Using alignment of 8.\n",
      "KLEE: WARNING ONCE: calling __klee_posix_wrapped_main with extra arguments.\n",
      "KLEE: WARNING ONCE: Alignment of memory from call \"calloc\" is not modelled. Using alignment of 8.\n",
      "KLEE: WARNING ONCE: calling external: bindtextdomain(94062524392960, 94062524478912) at [no debug info]\n",
      "KLEE: WARNING ONCE: calling external: textdomain(94062524392960) at [no debug info]\n",
      "KLEE: WARNING ONCE: Alignment of memory from call \"realloc\" is not modelled. Using alignment of 8.\n",
      "KLEE: WARNING ONCE: calling external: printf(94062524143464, 94062524019776, 10) at [no debug info]\n",
      "KLEE: WARNING ONCE: calling close_stdout with extra arguments.\n",
      "\n",
      "KLEE: done: total instructions = 179223\n",
      "KLEE: done: completed paths = 1\n",
      "KLEE: done: generated tests = 1\n"
     ]
    },
    {
     "name": "stdout",
     "output_type": "stream",
     "text": [
      "/home/igandhi/Documents/build/bin/klee --search=random-path --no-forking --track-instruction-time --libc=uclibc --posix-runtime --replace-condition=13013 --replay-path=\"/home/igandhi/Documents/profiler/../klee/examples/llvm-coreutils/bitcodes/klee-out-0/test000001.path\" ../klee/examples/llvm-coreutils/bitcodes/env.bc  --sym-arg 10\n"
     ]
    },
    {
     "name": "stderr",
     "output_type": "stream",
     "text": [
      "KLEE: NOTE: Using POSIX model: /home/igandhi/Documents/build/Debug+Asserts/lib/libkleeRuntimePOSIX.bca\n",
      "KLEE: NOTE: Using klee-uclibc : /home/igandhi/Documents/build/Debug+Asserts/lib/klee-uclibc.bca\n",
      "KLEE: output directory is \"/home/igandhi/Documents/profiler/../klee/examples/llvm-coreutils/bitcodes/klee-out-63\"\n",
      "KLEE: Using STP solver backend\n",
      "KLEE: WARNING: undefined reference to function: __ctype_get_mb_cur_max\n",
      "KLEE: WARNING: undefined reference to function: bindtextdomain\n",
      "KLEE: WARNING: undefined reference to function: gettext\n",
      "KLEE: WARNING: undefined reference to function: textdomain\n",
      "KLEE: WARNING: executable has module level assembly (ignoring)\n",
      "KLEE: WARNING ONCE: calling external: syscall(16, 0, 21505, 94596997478016) at klee/runtime/POSIX/fd.c:1007 10\n",
      "KLEE: WARNING ONCE: Alignment of memory from call \"malloc\" is not modelled. Using alignment of 8.\n",
      "KLEE: WARNING ONCE: calling __klee_posix_wrapped_main with extra arguments.\n",
      "KLEE: WARNING ONCE: Alignment of memory from call \"calloc\" is not modelled. Using alignment of 8.\n",
      "KLEE: WARNING ONCE: calling external: bindtextdomain(94596996744704, 94596996830656) at [no debug info]\n",
      "KLEE: WARNING ONCE: calling external: textdomain(94596996744704) at [no debug info]\n",
      "KLEE: WARNING ONCE: Alignment of memory from call \"realloc\" is not modelled. Using alignment of 8.\n",
      "KLEE: WARNING ONCE: calling external: printf(94596996495208, 94596996371520, 10) at [no debug info]\n",
      "KLEE: WARNING ONCE: calling close_stdout with extra arguments.\n",
      "\n",
      "KLEE: done: total instructions = 179223\n",
      "KLEE: done: completed paths = 1\n",
      "KLEE: done: generated tests = 1\n"
     ]
    },
    {
     "name": "stdout",
     "output_type": "stream",
     "text": [
      "/home/igandhi/Documents/build/bin/klee --search=random-path --no-forking --track-instruction-time --libc=uclibc --posix-runtime --replace-condition=13015 --replay-path=\"/home/igandhi/Documents/profiler/../klee/examples/llvm-coreutils/bitcodes/klee-out-0/test000001.path\" ../klee/examples/llvm-coreutils/bitcodes/env.bc  --sym-arg 10\n"
     ]
    },
    {
     "name": "stderr",
     "output_type": "stream",
     "text": [
      "KLEE: NOTE: Using POSIX model: /home/igandhi/Documents/build/Debug+Asserts/lib/libkleeRuntimePOSIX.bca\n",
      "KLEE: NOTE: Using klee-uclibc : /home/igandhi/Documents/build/Debug+Asserts/lib/klee-uclibc.bca\n",
      "KLEE: output directory is \"/home/igandhi/Documents/profiler/../klee/examples/llvm-coreutils/bitcodes/klee-out-64\"\n",
      "KLEE: Using STP solver backend\n",
      "KLEE: WARNING: undefined reference to function: __ctype_get_mb_cur_max\n",
      "KLEE: WARNING: undefined reference to function: bindtextdomain\n",
      "KLEE: WARNING: undefined reference to function: gettext\n",
      "KLEE: WARNING: undefined reference to function: textdomain\n",
      "KLEE: WARNING: executable has module level assembly (ignoring)\n",
      "KLEE: WARNING ONCE: calling external: syscall(16, 0, 21505, 94010118544992) at klee/runtime/POSIX/fd.c:1007 10\n",
      "KLEE: WARNING ONCE: Alignment of memory from call \"malloc\" is not modelled. Using alignment of 8.\n",
      "KLEE: WARNING ONCE: calling __klee_posix_wrapped_main with extra arguments.\n",
      "KLEE: WARNING ONCE: Alignment of memory from call \"calloc\" is not modelled. Using alignment of 8.\n",
      "KLEE: WARNING ONCE: calling external: bindtextdomain(94010117809664, 94010117895616) at [no debug info]\n",
      "KLEE: WARNING ONCE: calling external: textdomain(94010117809664) at [no debug info]\n",
      "KLEE: WARNING ONCE: Alignment of memory from call \"realloc\" is not modelled. Using alignment of 8.\n",
      "KLEE: WARNING ONCE: calling external: printf(94010117560168, 94010117436480, 10) at [no debug info]\n",
      "KLEE: WARNING ONCE: calling close_stdout with extra arguments.\n",
      "\n",
      "KLEE: done: total instructions = 179223\n",
      "KLEE: done: completed paths = 1\n",
      "KLEE: done: generated tests = 1\n"
     ]
    },
    {
     "name": "stdout",
     "output_type": "stream",
     "text": [
      "/home/igandhi/Documents/build/bin/klee --search=random-path --no-forking --track-instruction-time --libc=uclibc --posix-runtime --replace-condition=13018 --replay-path=\"/home/igandhi/Documents/profiler/../klee/examples/llvm-coreutils/bitcodes/klee-out-0/test000001.path\" ../klee/examples/llvm-coreutils/bitcodes/env.bc  --sym-arg 10\n"
     ]
    },
    {
     "name": "stderr",
     "output_type": "stream",
     "text": [
      "KLEE: NOTE: Using POSIX model: /home/igandhi/Documents/build/Debug+Asserts/lib/libkleeRuntimePOSIX.bca\n",
      "KLEE: NOTE: Using klee-uclibc : /home/igandhi/Documents/build/Debug+Asserts/lib/klee-uclibc.bca\n",
      "KLEE: output directory is \"/home/igandhi/Documents/profiler/../klee/examples/llvm-coreutils/bitcodes/klee-out-65\"\n",
      "KLEE: Using STP solver backend\n",
      "KLEE: WARNING: undefined reference to function: __ctype_get_mb_cur_max\n",
      "KLEE: WARNING: undefined reference to function: bindtextdomain\n",
      "KLEE: WARNING: undefined reference to function: gettext\n",
      "KLEE: WARNING: undefined reference to function: textdomain\n",
      "KLEE: WARNING: executable has module level assembly (ignoring)\n",
      "KLEE: WARNING ONCE: calling external: syscall(16, 0, 21505, 94879350505056) at klee/runtime/POSIX/fd.c:1007 10\n",
      "KLEE: WARNING ONCE: Alignment of memory from call \"malloc\" is not modelled. Using alignment of 8.\n",
      "KLEE: WARNING ONCE: calling __klee_posix_wrapped_main with extra arguments.\n",
      "KLEE: WARNING ONCE: Alignment of memory from call \"calloc\" is not modelled. Using alignment of 8.\n",
      "KLEE: WARNING ONCE: calling external: bindtextdomain(94879349769728, 94879349855680) at [no debug info]\n",
      "KLEE: WARNING ONCE: calling external: textdomain(94879349769728) at [no debug info]\n",
      "KLEE: WARNING ONCE: Alignment of memory from call \"realloc\" is not modelled. Using alignment of 8.\n",
      "KLEE: WARNING ONCE: calling external: printf(94879349520232, 94879349396544, 10) at [no debug info]\n",
      "KLEE: WARNING ONCE: calling close_stdout with extra arguments.\n",
      "\n",
      "KLEE: done: total instructions = 179223\n",
      "KLEE: done: completed paths = 1\n",
      "KLEE: done: generated tests = 1\n"
     ]
    },
    {
     "name": "stdout",
     "output_type": "stream",
     "text": [
      "/home/igandhi/Documents/build/bin/klee --search=random-path --no-forking --track-instruction-time --libc=uclibc --posix-runtime --replace-condition=13020 --replay-path=\"/home/igandhi/Documents/profiler/../klee/examples/llvm-coreutils/bitcodes/klee-out-0/test000001.path\" ../klee/examples/llvm-coreutils/bitcodes/env.bc  --sym-arg 10\n"
     ]
    },
    {
     "name": "stderr",
     "output_type": "stream",
     "text": [
      "KLEE: NOTE: Using POSIX model: /home/igandhi/Documents/build/Debug+Asserts/lib/libkleeRuntimePOSIX.bca\n",
      "KLEE: NOTE: Using klee-uclibc : /home/igandhi/Documents/build/Debug+Asserts/lib/klee-uclibc.bca\n",
      "KLEE: output directory is \"/home/igandhi/Documents/profiler/../klee/examples/llvm-coreutils/bitcodes/klee-out-66\"\n",
      "KLEE: Using STP solver backend\n",
      "KLEE: WARNING: undefined reference to function: __ctype_get_mb_cur_max\n",
      "KLEE: WARNING: undefined reference to function: bindtextdomain\n",
      "KLEE: WARNING: undefined reference to function: gettext\n",
      "KLEE: WARNING: undefined reference to function: textdomain\n",
      "KLEE: WARNING: executable has module level assembly (ignoring)\n",
      "KLEE: WARNING ONCE: calling external: syscall(16, 0, 21505, 94810582241984) at klee/runtime/POSIX/fd.c:1007 10\n",
      "KLEE: WARNING ONCE: Alignment of memory from call \"malloc\" is not modelled. Using alignment of 8.\n",
      "KLEE: WARNING ONCE: calling __klee_posix_wrapped_main with extra arguments.\n",
      "KLEE: WARNING ONCE: Alignment of memory from call \"calloc\" is not modelled. Using alignment of 8.\n",
      "KLEE: WARNING ONCE: calling external: bindtextdomain(94810581509616, 94810581595584) at [no debug info]\n",
      "KLEE: WARNING ONCE: calling external: textdomain(94810581509616) at [no debug info]\n",
      "KLEE: WARNING ONCE: Alignment of memory from call \"realloc\" is not modelled. Using alignment of 8.\n",
      "KLEE: WARNING ONCE: calling external: printf(94810581260136, 94810581136448, 10) at [no debug info]\n",
      "KLEE: WARNING ONCE: calling close_stdout with extra arguments.\n",
      "\n",
      "KLEE: done: total instructions = 179223\n",
      "KLEE: done: completed paths = 1\n",
      "KLEE: done: generated tests = 1\n"
     ]
    },
    {
     "name": "stdout",
     "output_type": "stream",
     "text": [
      "/home/igandhi/Documents/build/bin/klee --search=random-path --no-forking --track-instruction-time --libc=uclibc --posix-runtime --replace-condition=13023 --replay-path=\"/home/igandhi/Documents/profiler/../klee/examples/llvm-coreutils/bitcodes/klee-out-0/test000001.path\" ../klee/examples/llvm-coreutils/bitcodes/env.bc  --sym-arg 10\n"
     ]
    },
    {
     "name": "stderr",
     "output_type": "stream",
     "text": [
      "KLEE: NOTE: Using POSIX model: /home/igandhi/Documents/build/Debug+Asserts/lib/libkleeRuntimePOSIX.bca\n",
      "KLEE: NOTE: Using klee-uclibc : /home/igandhi/Documents/build/Debug+Asserts/lib/klee-uclibc.bca\n",
      "KLEE: output directory is \"/home/igandhi/Documents/profiler/../klee/examples/llvm-coreutils/bitcodes/klee-out-67\"\n",
      "KLEE: Using STP solver backend\n",
      "KLEE: WARNING: undefined reference to function: __ctype_get_mb_cur_max\n",
      "KLEE: WARNING: undefined reference to function: bindtextdomain\n",
      "KLEE: WARNING: undefined reference to function: gettext\n",
      "KLEE: WARNING: undefined reference to function: textdomain\n",
      "KLEE: WARNING: executable has module level assembly (ignoring)\n",
      "KLEE: WARNING ONCE: calling external: syscall(16, 0, 21505, 94389472753280) at klee/runtime/POSIX/fd.c:1007 10\n",
      "KLEE: WARNING ONCE: Alignment of memory from call \"malloc\" is not modelled. Using alignment of 8.\n",
      "KLEE: WARNING ONCE: calling __klee_posix_wrapped_main with extra arguments.\n",
      "KLEE: WARNING ONCE: Alignment of memory from call \"calloc\" is not modelled. Using alignment of 8.\n",
      "KLEE: WARNING ONCE: calling external: bindtextdomain(94389472019968, 94389472105920) at [no debug info]\n",
      "KLEE: WARNING ONCE: calling external: textdomain(94389472019968) at [no debug info]\n",
      "KLEE: WARNING ONCE: Alignment of memory from call \"realloc\" is not modelled. Using alignment of 8.\n",
      "KLEE: WARNING ONCE: calling external: printf(94389471770472, 94389471646784, 10) at [no debug info]\n",
      "KLEE: WARNING ONCE: calling close_stdout with extra arguments.\n",
      "\n",
      "KLEE: done: total instructions = 179223\n",
      "KLEE: done: completed paths = 1\n",
      "KLEE: done: generated tests = 1\n"
     ]
    },
    {
     "name": "stdout",
     "output_type": "stream",
     "text": [
      "/home/igandhi/Documents/build/bin/klee --search=random-path --no-forking --track-instruction-time --libc=uclibc --posix-runtime --replace-condition=13025 --replay-path=\"/home/igandhi/Documents/profiler/../klee/examples/llvm-coreutils/bitcodes/klee-out-0/test000001.path\" ../klee/examples/llvm-coreutils/bitcodes/env.bc  --sym-arg 10\n"
     ]
    },
    {
     "name": "stderr",
     "output_type": "stream",
     "text": [
      "KLEE: NOTE: Using POSIX model: /home/igandhi/Documents/build/Debug+Asserts/lib/libkleeRuntimePOSIX.bca\n",
      "KLEE: NOTE: Using klee-uclibc : /home/igandhi/Documents/build/Debug+Asserts/lib/klee-uclibc.bca\n",
      "KLEE: output directory is \"/home/igandhi/Documents/profiler/../klee/examples/llvm-coreutils/bitcodes/klee-out-68\"\n",
      "KLEE: Using STP solver backend\n",
      "KLEE: WARNING: undefined reference to function: __ctype_get_mb_cur_max\n",
      "KLEE: WARNING: undefined reference to function: bindtextdomain\n",
      "KLEE: WARNING: undefined reference to function: gettext\n",
      "KLEE: WARNING: undefined reference to function: textdomain\n",
      "KLEE: WARNING: executable has module level assembly (ignoring)\n",
      "KLEE: WARNING ONCE: calling external: syscall(16, 0, 21505, 94844919747264) at klee/runtime/POSIX/fd.c:1007 10\n",
      "KLEE: WARNING ONCE: Alignment of memory from call \"malloc\" is not modelled. Using alignment of 8.\n",
      "KLEE: WARNING ONCE: calling __klee_posix_wrapped_main with extra arguments.\n",
      "KLEE: WARNING ONCE: Alignment of memory from call \"calloc\" is not modelled. Using alignment of 8.\n",
      "KLEE: WARNING ONCE: calling external: bindtextdomain(94844919014896, 94844919100864) at [no debug info]\n",
      "KLEE: WARNING ONCE: calling external: textdomain(94844919014896) at [no debug info]\n",
      "KLEE: WARNING ONCE: Alignment of memory from call \"realloc\" is not modelled. Using alignment of 8.\n",
      "KLEE: WARNING ONCE: calling external: printf(94844918765416, 94844918641728, 10) at [no debug info]\n",
      "KLEE: WARNING ONCE: calling close_stdout with extra arguments.\n",
      "\n",
      "KLEE: done: total instructions = 179223\n",
      "KLEE: done: completed paths = 1\n",
      "KLEE: done: generated tests = 1\n"
     ]
    },
    {
     "name": "stdout",
     "output_type": "stream",
     "text": [
      "/home/igandhi/Documents/build/bin/klee --search=random-path --no-forking --track-instruction-time --libc=uclibc --posix-runtime --replace-condition=13028 --replay-path=\"/home/igandhi/Documents/profiler/../klee/examples/llvm-coreutils/bitcodes/klee-out-0/test000001.path\" ../klee/examples/llvm-coreutils/bitcodes/env.bc  --sym-arg 10\n"
     ]
    },
    {
     "name": "stderr",
     "output_type": "stream",
     "text": [
      "KLEE: NOTE: Using POSIX model: /home/igandhi/Documents/build/Debug+Asserts/lib/libkleeRuntimePOSIX.bca\n",
      "KLEE: NOTE: Using klee-uclibc : /home/igandhi/Documents/build/Debug+Asserts/lib/klee-uclibc.bca\n",
      "KLEE: output directory is \"/home/igandhi/Documents/profiler/../klee/examples/llvm-coreutils/bitcodes/klee-out-69\"\n",
      "KLEE: Using STP solver backend\n",
      "KLEE: WARNING: undefined reference to function: __ctype_get_mb_cur_max\n",
      "KLEE: WARNING: undefined reference to function: bindtextdomain\n",
      "KLEE: WARNING: undefined reference to function: gettext\n",
      "KLEE: WARNING: undefined reference to function: textdomain\n",
      "KLEE: WARNING: executable has module level assembly (ignoring)\n",
      "KLEE: WARNING ONCE: calling external: syscall(16, 0, 21505, 93836362970944) at klee/runtime/POSIX/fd.c:1007 10\n",
      "KLEE: WARNING ONCE: Alignment of memory from call \"malloc\" is not modelled. Using alignment of 8.\n",
      "KLEE: WARNING ONCE: calling __klee_posix_wrapped_main with extra arguments.\n",
      "KLEE: WARNING ONCE: Alignment of memory from call \"calloc\" is not modelled. Using alignment of 8.\n",
      "KLEE: WARNING ONCE: calling external: bindtextdomain(93836362237424, 93836362323392) at [no debug info]\n",
      "KLEE: WARNING ONCE: calling external: textdomain(93836362237424) at [no debug info]\n",
      "KLEE: WARNING ONCE: Alignment of memory from call \"realloc\" is not modelled. Using alignment of 8.\n",
      "KLEE: WARNING ONCE: calling external: printf(93836361987944, 93836361864256, 10) at [no debug info]\n",
      "KLEE: WARNING ONCE: calling close_stdout with extra arguments.\n",
      "\n",
      "KLEE: done: total instructions = 179223\n",
      "KLEE: done: completed paths = 1\n",
      "KLEE: done: generated tests = 1\n"
     ]
    },
    {
     "name": "stdout",
     "output_type": "stream",
     "text": [
      "/home/igandhi/Documents/build/bin/klee --search=random-path --no-forking --track-instruction-time --libc=uclibc --posix-runtime --replace-condition=13030 --replay-path=\"/home/igandhi/Documents/profiler/../klee/examples/llvm-coreutils/bitcodes/klee-out-0/test000001.path\" ../klee/examples/llvm-coreutils/bitcodes/env.bc  --sym-arg 10\n"
     ]
    },
    {
     "name": "stderr",
     "output_type": "stream",
     "text": [
      "KLEE: NOTE: Using POSIX model: /home/igandhi/Documents/build/Debug+Asserts/lib/libkleeRuntimePOSIX.bca\n",
      "KLEE: NOTE: Using klee-uclibc : /home/igandhi/Documents/build/Debug+Asserts/lib/klee-uclibc.bca\n",
      "KLEE: output directory is \"/home/igandhi/Documents/profiler/../klee/examples/llvm-coreutils/bitcodes/klee-out-70\"\n",
      "KLEE: Using STP solver backend\n",
      "KLEE: WARNING: undefined reference to function: __ctype_get_mb_cur_max\n",
      "KLEE: WARNING: undefined reference to function: bindtextdomain\n",
      "KLEE: WARNING: undefined reference to function: gettext\n",
      "KLEE: WARNING: undefined reference to function: textdomain\n",
      "KLEE: WARNING: executable has module level assembly (ignoring)\n",
      "KLEE: WARNING ONCE: calling external: syscall(16, 0, 21505, 94151094351488) at klee/runtime/POSIX/fd.c:1007 10\n",
      "KLEE: WARNING ONCE: Alignment of memory from call \"malloc\" is not modelled. Using alignment of 8.\n",
      "KLEE: WARNING ONCE: calling __klee_posix_wrapped_main with extra arguments.\n",
      "KLEE: WARNING ONCE: Alignment of memory from call \"calloc\" is not modelled. Using alignment of 8.\n",
      "KLEE: WARNING ONCE: calling external: bindtextdomain(94151093618176, 94151093704128) at [no debug info]\n",
      "KLEE: WARNING ONCE: calling external: textdomain(94151093618176) at [no debug info]\n",
      "KLEE: WARNING ONCE: Alignment of memory from call \"realloc\" is not modelled. Using alignment of 8.\n",
      "KLEE: WARNING ONCE: calling external: printf(94151093368680, 94151093244992, 10) at [no debug info]\n",
      "KLEE: WARNING ONCE: calling close_stdout with extra arguments.\n",
      "\n",
      "KLEE: done: total instructions = 179223\n",
      "KLEE: done: completed paths = 1\n",
      "KLEE: done: generated tests = 1\n"
     ]
    },
    {
     "name": "stdout",
     "output_type": "stream",
     "text": [
      "/home/igandhi/Documents/build/bin/klee --search=random-path --no-forking --track-instruction-time --libc=uclibc --posix-runtime --replace-condition=13033 --replay-path=\"/home/igandhi/Documents/profiler/../klee/examples/llvm-coreutils/bitcodes/klee-out-0/test000001.path\" ../klee/examples/llvm-coreutils/bitcodes/env.bc  --sym-arg 10\n"
     ]
    },
    {
     "name": "stderr",
     "output_type": "stream",
     "text": [
      "KLEE: NOTE: Using POSIX model: /home/igandhi/Documents/build/Debug+Asserts/lib/libkleeRuntimePOSIX.bca\n",
      "KLEE: NOTE: Using klee-uclibc : /home/igandhi/Documents/build/Debug+Asserts/lib/klee-uclibc.bca\n",
      "KLEE: output directory is \"/home/igandhi/Documents/profiler/../klee/examples/llvm-coreutils/bitcodes/klee-out-71\"\n",
      "KLEE: Using STP solver backend\n",
      "KLEE: WARNING: undefined reference to function: __ctype_get_mb_cur_max\n",
      "KLEE: WARNING: undefined reference to function: bindtextdomain\n",
      "KLEE: WARNING: undefined reference to function: gettext\n",
      "KLEE: WARNING: undefined reference to function: textdomain\n",
      "KLEE: WARNING: executable has module level assembly (ignoring)\n",
      "KLEE: WARNING ONCE: calling external: syscall(16, 0, 21505, 94919580030592) at klee/runtime/POSIX/fd.c:1007 10\n",
      "KLEE: WARNING ONCE: Alignment of memory from call \"malloc\" is not modelled. Using alignment of 8.\n",
      "KLEE: WARNING ONCE: calling __klee_posix_wrapped_main with extra arguments.\n",
      "KLEE: WARNING ONCE: Alignment of memory from call \"calloc\" is not modelled. Using alignment of 8.\n",
      "KLEE: WARNING ONCE: calling external: bindtextdomain(94919579297280, 94919579383232) at [no debug info]\n",
      "KLEE: WARNING ONCE: calling external: textdomain(94919579297280) at [no debug info]\n",
      "KLEE: WARNING ONCE: Alignment of memory from call \"realloc\" is not modelled. Using alignment of 8.\n",
      "KLEE: WARNING ONCE: calling external: printf(94919579047784, 94919578924096, 10) at [no debug info]\n",
      "KLEE: WARNING ONCE: calling close_stdout with extra arguments.\n",
      "\n",
      "KLEE: done: total instructions = 179223\n",
      "KLEE: done: completed paths = 1\n",
      "KLEE: done: generated tests = 1\n"
     ]
    },
    {
     "name": "stdout",
     "output_type": "stream",
     "text": [
      "/home/igandhi/Documents/build/bin/klee --search=random-path --no-forking --track-instruction-time --libc=uclibc --posix-runtime --replace-condition=13035 --replay-path=\"/home/igandhi/Documents/profiler/../klee/examples/llvm-coreutils/bitcodes/klee-out-0/test000001.path\" ../klee/examples/llvm-coreutils/bitcodes/env.bc  --sym-arg 10\n"
     ]
    },
    {
     "name": "stderr",
     "output_type": "stream",
     "text": [
      "KLEE: NOTE: Using POSIX model: /home/igandhi/Documents/build/Debug+Asserts/lib/libkleeRuntimePOSIX.bca\n",
      "KLEE: NOTE: Using klee-uclibc : /home/igandhi/Documents/build/Debug+Asserts/lib/klee-uclibc.bca\n",
      "KLEE: output directory is \"/home/igandhi/Documents/profiler/../klee/examples/llvm-coreutils/bitcodes/klee-out-72\"\n",
      "KLEE: Using STP solver backend\n",
      "KLEE: WARNING: undefined reference to function: __ctype_get_mb_cur_max\n",
      "KLEE: WARNING: undefined reference to function: bindtextdomain\n",
      "KLEE: WARNING: undefined reference to function: gettext\n",
      "KLEE: WARNING: undefined reference to function: textdomain\n",
      "KLEE: WARNING: executable has module level assembly (ignoring)\n",
      "KLEE: WARNING ONCE: calling external: syscall(16, 0, 21505, 93837257137760) at klee/runtime/POSIX/fd.c:1007 10\n",
      "KLEE: WARNING ONCE: Alignment of memory from call \"malloc\" is not modelled. Using alignment of 8.\n",
      "KLEE: WARNING ONCE: calling __klee_posix_wrapped_main with extra arguments.\n",
      "KLEE: WARNING ONCE: Alignment of memory from call \"calloc\" is not modelled. Using alignment of 8.\n",
      "KLEE: WARNING ONCE: calling external: bindtextdomain(93837256402432, 93837256488384) at [no debug info]\n",
      "KLEE: WARNING ONCE: calling external: textdomain(93837256402432) at [no debug info]\n",
      "KLEE: WARNING ONCE: Alignment of memory from call \"realloc\" is not modelled. Using alignment of 8.\n",
      "KLEE: WARNING ONCE: calling external: printf(93837256152936, 93837256029248, 10) at [no debug info]\n",
      "KLEE: WARNING ONCE: calling close_stdout with extra arguments.\n",
      "\n",
      "KLEE: done: total instructions = 179223\n",
      "KLEE: done: completed paths = 1\n",
      "KLEE: done: generated tests = 1\n"
     ]
    },
    {
     "name": "stdout",
     "output_type": "stream",
     "text": [
      "/home/igandhi/Documents/build/bin/klee --search=random-path --no-forking --track-instruction-time --libc=uclibc --posix-runtime --replace-condition=13038 --replay-path=\"/home/igandhi/Documents/profiler/../klee/examples/llvm-coreutils/bitcodes/klee-out-0/test000001.path\" ../klee/examples/llvm-coreutils/bitcodes/env.bc  --sym-arg 10\n"
     ]
    },
    {
     "name": "stderr",
     "output_type": "stream",
     "text": [
      "KLEE: NOTE: Using POSIX model: /home/igandhi/Documents/build/Debug+Asserts/lib/libkleeRuntimePOSIX.bca\n",
      "KLEE: NOTE: Using klee-uclibc : /home/igandhi/Documents/build/Debug+Asserts/lib/klee-uclibc.bca\n",
      "KLEE: output directory is \"/home/igandhi/Documents/profiler/../klee/examples/llvm-coreutils/bitcodes/klee-out-73\"\n",
      "KLEE: Using STP solver backend\n",
      "KLEE: WARNING: undefined reference to function: __ctype_get_mb_cur_max\n",
      "KLEE: WARNING: undefined reference to function: bindtextdomain\n",
      "KLEE: WARNING: undefined reference to function: gettext\n",
      "KLEE: WARNING: undefined reference to function: textdomain\n",
      "KLEE: WARNING: executable has module level assembly (ignoring)\n",
      "KLEE: WARNING ONCE: calling external: syscall(16, 0, 21505, 94864311367296) at klee/runtime/POSIX/fd.c:1007 10\n",
      "KLEE: WARNING ONCE: Alignment of memory from call \"malloc\" is not modelled. Using alignment of 8.\n",
      "KLEE: WARNING ONCE: calling __klee_posix_wrapped_main with extra arguments.\n",
      "KLEE: WARNING ONCE: Alignment of memory from call \"calloc\" is not modelled. Using alignment of 8.\n",
      "KLEE: WARNING ONCE: calling external: bindtextdomain(94864310633984, 94864310719936) at [no debug info]\n",
      "KLEE: WARNING ONCE: calling external: textdomain(94864310633984) at [no debug info]\n",
      "KLEE: WARNING ONCE: Alignment of memory from call \"realloc\" is not modelled. Using alignment of 8.\n",
      "KLEE: WARNING ONCE: calling external: printf(94864310384488, 94864310260800, 10) at [no debug info]\n",
      "KLEE: WARNING ONCE: calling close_stdout with extra arguments.\n",
      "\n",
      "KLEE: done: total instructions = 179223\n",
      "KLEE: done: completed paths = 1\n",
      "KLEE: done: generated tests = 1\n"
     ]
    },
    {
     "name": "stdout",
     "output_type": "stream",
     "text": [
      "/home/igandhi/Documents/build/bin/klee --search=random-path --no-forking --track-instruction-time --libc=uclibc --posix-runtime --replace-condition=13040 --replay-path=\"/home/igandhi/Documents/profiler/../klee/examples/llvm-coreutils/bitcodes/klee-out-0/test000001.path\" ../klee/examples/llvm-coreutils/bitcodes/env.bc  --sym-arg 10\n"
     ]
    },
    {
     "name": "stderr",
     "output_type": "stream",
     "text": [
      "KLEE: NOTE: Using POSIX model: /home/igandhi/Documents/build/Debug+Asserts/lib/libkleeRuntimePOSIX.bca\n",
      "KLEE: NOTE: Using klee-uclibc : /home/igandhi/Documents/build/Debug+Asserts/lib/klee-uclibc.bca\n",
      "KLEE: output directory is \"/home/igandhi/Documents/profiler/../klee/examples/llvm-coreutils/bitcodes/klee-out-74\"\n",
      "KLEE: Using STP solver backend\n",
      "KLEE: WARNING: undefined reference to function: __ctype_get_mb_cur_max\n",
      "KLEE: WARNING: undefined reference to function: bindtextdomain\n",
      "KLEE: WARNING: undefined reference to function: gettext\n",
      "KLEE: WARNING: undefined reference to function: textdomain\n",
      "KLEE: WARNING: executable has module level assembly (ignoring)\n",
      "KLEE: WARNING ONCE: calling external: syscall(16, 0, 21505, 93924052407936) at klee/runtime/POSIX/fd.c:1007 10\n",
      "KLEE: WARNING ONCE: Alignment of memory from call \"malloc\" is not modelled. Using alignment of 8.\n",
      "KLEE: WARNING ONCE: calling __klee_posix_wrapped_main with extra arguments.\n",
      "KLEE: WARNING ONCE: Alignment of memory from call \"calloc\" is not modelled. Using alignment of 8.\n",
      "KLEE: WARNING ONCE: calling external: bindtextdomain(93924051674624, 93924051760576) at [no debug info]\n",
      "KLEE: WARNING ONCE: calling external: textdomain(93924051674624) at [no debug info]\n",
      "KLEE: WARNING ONCE: Alignment of memory from call \"realloc\" is not modelled. Using alignment of 8.\n",
      "KLEE: WARNING ONCE: calling external: printf(93924051425128, 93924051301440, 10) at [no debug info]\n",
      "KLEE: WARNING ONCE: calling close_stdout with extra arguments.\n",
      "\n",
      "KLEE: done: total instructions = 179223\n",
      "KLEE: done: completed paths = 1\n",
      "KLEE: done: generated tests = 1\n"
     ]
    },
    {
     "name": "stdout",
     "output_type": "stream",
     "text": [
      "/home/igandhi/Documents/build/bin/klee --search=random-path --no-forking --track-instruction-time --libc=uclibc --posix-runtime --replace-condition=13043 --replay-path=\"/home/igandhi/Documents/profiler/../klee/examples/llvm-coreutils/bitcodes/klee-out-0/test000001.path\" ../klee/examples/llvm-coreutils/bitcodes/env.bc  --sym-arg 10\n"
     ]
    },
    {
     "name": "stderr",
     "output_type": "stream",
     "text": [
      "KLEE: NOTE: Using POSIX model: /home/igandhi/Documents/build/Debug+Asserts/lib/libkleeRuntimePOSIX.bca\n",
      "KLEE: NOTE: Using klee-uclibc : /home/igandhi/Documents/build/Debug+Asserts/lib/klee-uclibc.bca\n",
      "KLEE: output directory is \"/home/igandhi/Documents/profiler/../klee/examples/llvm-coreutils/bitcodes/klee-out-75\"\n",
      "KLEE: Using STP solver backend\n",
      "KLEE: WARNING: undefined reference to function: __ctype_get_mb_cur_max\n",
      "KLEE: WARNING: undefined reference to function: bindtextdomain\n",
      "KLEE: WARNING: undefined reference to function: gettext\n",
      "KLEE: WARNING: undefined reference to function: textdomain\n",
      "KLEE: WARNING: executable has module level assembly (ignoring)\n",
      "KLEE: WARNING ONCE: calling external: syscall(16, 0, 21505, 93945382329952) at klee/runtime/POSIX/fd.c:1007 10\n",
      "KLEE: WARNING ONCE: Alignment of memory from call \"malloc\" is not modelled. Using alignment of 8.\n",
      "KLEE: WARNING ONCE: calling __klee_posix_wrapped_main with extra arguments.\n",
      "KLEE: WARNING ONCE: Alignment of memory from call \"calloc\" is not modelled. Using alignment of 8.\n",
      "KLEE: WARNING ONCE: calling external: bindtextdomain(93945381594624, 93945381680576) at [no debug info]\n",
      "KLEE: WARNING ONCE: calling external: textdomain(93945381594624) at [no debug info]\n",
      "KLEE: WARNING ONCE: Alignment of memory from call \"realloc\" is not modelled. Using alignment of 8.\n",
      "KLEE: WARNING ONCE: calling external: printf(93945381345128, 93945381221440, 10) at [no debug info]\n",
      "KLEE: WARNING ONCE: calling close_stdout with extra arguments.\n",
      "\n",
      "KLEE: done: total instructions = 179223\n",
      "KLEE: done: completed paths = 1\n",
      "KLEE: done: generated tests = 1\n"
     ]
    },
    {
     "name": "stdout",
     "output_type": "stream",
     "text": [
      "/home/igandhi/Documents/build/bin/klee --search=random-path --no-forking --track-instruction-time --libc=uclibc --posix-runtime --replace-condition=13045 --replay-path=\"/home/igandhi/Documents/profiler/../klee/examples/llvm-coreutils/bitcodes/klee-out-0/test000001.path\" ../klee/examples/llvm-coreutils/bitcodes/env.bc  --sym-arg 10\n"
     ]
    },
    {
     "name": "stderr",
     "output_type": "stream",
     "text": [
      "KLEE: NOTE: Using POSIX model: /home/igandhi/Documents/build/Debug+Asserts/lib/libkleeRuntimePOSIX.bca\n",
      "KLEE: NOTE: Using klee-uclibc : /home/igandhi/Documents/build/Debug+Asserts/lib/klee-uclibc.bca\n",
      "KLEE: output directory is \"/home/igandhi/Documents/profiler/../klee/examples/llvm-coreutils/bitcodes/klee-out-76\"\n",
      "KLEE: Using STP solver backend\n",
      "KLEE: WARNING: undefined reference to function: __ctype_get_mb_cur_max\n",
      "KLEE: WARNING: undefined reference to function: bindtextdomain\n",
      "KLEE: WARNING: undefined reference to function: gettext\n",
      "KLEE: WARNING: undefined reference to function: textdomain\n",
      "KLEE: WARNING: executable has module level assembly (ignoring)\n",
      "KLEE: WARNING ONCE: calling external: syscall(16, 0, 21505, 94324591072896) at klee/runtime/POSIX/fd.c:1007 10\n",
      "KLEE: WARNING ONCE: Alignment of memory from call \"malloc\" is not modelled. Using alignment of 8.\n",
      "KLEE: WARNING ONCE: calling __klee_posix_wrapped_main with extra arguments.\n",
      "KLEE: WARNING ONCE: Alignment of memory from call \"calloc\" is not modelled. Using alignment of 8.\n",
      "KLEE: WARNING ONCE: calling external: bindtextdomain(94324590339584, 94324590425536) at [no debug info]\n",
      "KLEE: WARNING ONCE: calling external: textdomain(94324590339584) at [no debug info]\n",
      "KLEE: WARNING ONCE: Alignment of memory from call \"realloc\" is not modelled. Using alignment of 8.\n",
      "KLEE: WARNING ONCE: calling external: printf(94324590090088, 94324589966400, 10) at [no debug info]\n",
      "KLEE: WARNING ONCE: calling close_stdout with extra arguments.\n",
      "\n",
      "KLEE: done: total instructions = 179223\n",
      "KLEE: done: completed paths = 1\n",
      "KLEE: done: generated tests = 1\n"
     ]
    },
    {
     "name": "stdout",
     "output_type": "stream",
     "text": [
      "/home/igandhi/Documents/build/bin/klee --search=random-path --no-forking --track-instruction-time --libc=uclibc --posix-runtime --replace-condition=13048 --replay-path=\"/home/igandhi/Documents/profiler/../klee/examples/llvm-coreutils/bitcodes/klee-out-0/test000001.path\" ../klee/examples/llvm-coreutils/bitcodes/env.bc  --sym-arg 10\n"
     ]
    },
    {
     "name": "stderr",
     "output_type": "stream",
     "text": [
      "KLEE: NOTE: Using POSIX model: /home/igandhi/Documents/build/Debug+Asserts/lib/libkleeRuntimePOSIX.bca\n",
      "KLEE: NOTE: Using klee-uclibc : /home/igandhi/Documents/build/Debug+Asserts/lib/klee-uclibc.bca\n",
      "KLEE: output directory is \"/home/igandhi/Documents/profiler/../klee/examples/llvm-coreutils/bitcodes/klee-out-77\"\n",
      "KLEE: Using STP solver backend\n",
      "KLEE: WARNING: undefined reference to function: __ctype_get_mb_cur_max\n",
      "KLEE: WARNING: undefined reference to function: bindtextdomain\n",
      "KLEE: WARNING: undefined reference to function: gettext\n",
      "KLEE: WARNING: undefined reference to function: textdomain\n",
      "KLEE: WARNING: executable has module level assembly (ignoring)\n",
      "KLEE: WARNING ONCE: calling external: syscall(16, 0, 21505, 94318910338688) at klee/runtime/POSIX/fd.c:1007 10\n",
      "KLEE: WARNING ONCE: Alignment of memory from call \"malloc\" is not modelled. Using alignment of 8.\n",
      "KLEE: WARNING ONCE: calling __klee_posix_wrapped_main with extra arguments.\n",
      "KLEE: WARNING ONCE: Alignment of memory from call \"calloc\" is not modelled. Using alignment of 8.\n",
      "KLEE: WARNING ONCE: calling external: bindtextdomain(94318909605376, 94318909691328) at [no debug info]\n",
      "KLEE: WARNING ONCE: calling external: textdomain(94318909605376) at [no debug info]\n",
      "KLEE: WARNING ONCE: Alignment of memory from call \"realloc\" is not modelled. Using alignment of 8.\n",
      "KLEE: WARNING ONCE: calling external: printf(94318909355880, 94318909232192, 10) at [no debug info]\n",
      "KLEE: WARNING ONCE: calling close_stdout with extra arguments.\n",
      "\n",
      "KLEE: done: total instructions = 179223\n",
      "KLEE: done: completed paths = 1\n",
      "KLEE: done: generated tests = 1\n"
     ]
    },
    {
     "name": "stdout",
     "output_type": "stream",
     "text": [
      "/home/igandhi/Documents/build/bin/klee --search=random-path --no-forking --track-instruction-time --libc=uclibc --posix-runtime --replace-condition=13050 --replay-path=\"/home/igandhi/Documents/profiler/../klee/examples/llvm-coreutils/bitcodes/klee-out-0/test000001.path\" ../klee/examples/llvm-coreutils/bitcodes/env.bc  --sym-arg 10\n"
     ]
    },
    {
     "name": "stderr",
     "output_type": "stream",
     "text": [
      "KLEE: NOTE: Using POSIX model: /home/igandhi/Documents/build/Debug+Asserts/lib/libkleeRuntimePOSIX.bca\n",
      "KLEE: NOTE: Using klee-uclibc : /home/igandhi/Documents/build/Debug+Asserts/lib/klee-uclibc.bca\n",
      "KLEE: output directory is \"/home/igandhi/Documents/profiler/../klee/examples/llvm-coreutils/bitcodes/klee-out-78\"\n",
      "KLEE: Using STP solver backend\n",
      "KLEE: WARNING: undefined reference to function: __ctype_get_mb_cur_max\n",
      "KLEE: WARNING: undefined reference to function: bindtextdomain\n",
      "KLEE: WARNING: undefined reference to function: gettext\n",
      "KLEE: WARNING: undefined reference to function: textdomain\n",
      "KLEE: WARNING: executable has module level assembly (ignoring)\n",
      "KLEE: WARNING ONCE: calling external: syscall(16, 0, 21505, 94439865302624) at klee/runtime/POSIX/fd.c:1007 10\n",
      "KLEE: WARNING ONCE: Alignment of memory from call \"malloc\" is not modelled. Using alignment of 8.\n",
      "KLEE: WARNING ONCE: calling __klee_posix_wrapped_main with extra arguments.\n",
      "KLEE: WARNING ONCE: Alignment of memory from call \"calloc\" is not modelled. Using alignment of 8.\n",
      "KLEE: WARNING ONCE: calling external: bindtextdomain(94439864567296, 94439864653248) at [no debug info]\n",
      "KLEE: WARNING ONCE: calling external: textdomain(94439864567296) at [no debug info]\n",
      "KLEE: WARNING ONCE: Alignment of memory from call \"realloc\" is not modelled. Using alignment of 8.\n",
      "KLEE: WARNING ONCE: calling external: printf(94439864317800, 94439864194112, 10) at [no debug info]\n",
      "KLEE: WARNING ONCE: calling close_stdout with extra arguments.\n",
      "\n",
      "KLEE: done: total instructions = 179223\n",
      "KLEE: done: completed paths = 1\n",
      "KLEE: done: generated tests = 1\n"
     ]
    },
    {
     "name": "stdout",
     "output_type": "stream",
     "text": [
      "/home/igandhi/Documents/build/bin/klee --search=random-path --no-forking --track-instruction-time --libc=uclibc --posix-runtime --replace-condition=13053 --replay-path=\"/home/igandhi/Documents/profiler/../klee/examples/llvm-coreutils/bitcodes/klee-out-0/test000001.path\" ../klee/examples/llvm-coreutils/bitcodes/env.bc  --sym-arg 10\n"
     ]
    },
    {
     "name": "stderr",
     "output_type": "stream",
     "text": [
      "KLEE: NOTE: Using POSIX model: /home/igandhi/Documents/build/Debug+Asserts/lib/libkleeRuntimePOSIX.bca\n",
      "KLEE: NOTE: Using klee-uclibc : /home/igandhi/Documents/build/Debug+Asserts/lib/klee-uclibc.bca\n",
      "KLEE: output directory is \"/home/igandhi/Documents/profiler/../klee/examples/llvm-coreutils/bitcodes/klee-out-79\"\n",
      "KLEE: Using STP solver backend\n",
      "KLEE: WARNING: undefined reference to function: __ctype_get_mb_cur_max\n",
      "KLEE: WARNING: undefined reference to function: bindtextdomain\n",
      "KLEE: WARNING: undefined reference to function: gettext\n",
      "KLEE: WARNING: undefined reference to function: textdomain\n",
      "KLEE: WARNING: executable has module level assembly (ignoring)\n",
      "KLEE: WARNING ONCE: calling external: syscall(16, 0, 21505, 94521102827104) at klee/runtime/POSIX/fd.c:1007 10\n",
      "KLEE: WARNING ONCE: Alignment of memory from call \"malloc\" is not modelled. Using alignment of 8.\n",
      "KLEE: WARNING ONCE: calling __klee_posix_wrapped_main with extra arguments.\n",
      "KLEE: WARNING ONCE: Alignment of memory from call \"calloc\" is not modelled. Using alignment of 8.\n",
      "KLEE: WARNING ONCE: calling external: bindtextdomain(94521102091776, 94521102177728) at [no debug info]\n",
      "KLEE: WARNING ONCE: calling external: textdomain(94521102091776) at [no debug info]\n",
      "KLEE: WARNING ONCE: Alignment of memory from call \"realloc\" is not modelled. Using alignment of 8.\n",
      "KLEE: WARNING ONCE: calling external: printf(94521101842280, 94521101718592, 10) at [no debug info]\n",
      "KLEE: WARNING ONCE: calling close_stdout with extra arguments.\n",
      "\n",
      "KLEE: done: total instructions = 179223\n",
      "KLEE: done: completed paths = 1\n",
      "KLEE: done: generated tests = 1\n"
     ]
    },
    {
     "name": "stdout",
     "output_type": "stream",
     "text": [
      "/home/igandhi/Documents/build/bin/klee --search=random-path --no-forking --track-instruction-time --libc=uclibc --posix-runtime --replace-condition=13055 --replay-path=\"/home/igandhi/Documents/profiler/../klee/examples/llvm-coreutils/bitcodes/klee-out-0/test000001.path\" ../klee/examples/llvm-coreutils/bitcodes/env.bc  --sym-arg 10\n"
     ]
    },
    {
     "name": "stderr",
     "output_type": "stream",
     "text": [
      "KLEE: NOTE: Using POSIX model: /home/igandhi/Documents/build/Debug+Asserts/lib/libkleeRuntimePOSIX.bca\n",
      "KLEE: NOTE: Using klee-uclibc : /home/igandhi/Documents/build/Debug+Asserts/lib/klee-uclibc.bca\n",
      "KLEE: output directory is \"/home/igandhi/Documents/profiler/../klee/examples/llvm-coreutils/bitcodes/klee-out-80\"\n",
      "KLEE: Using STP solver backend\n",
      "KLEE: WARNING: undefined reference to function: __ctype_get_mb_cur_max\n",
      "KLEE: WARNING: undefined reference to function: bindtextdomain\n",
      "KLEE: WARNING: undefined reference to function: gettext\n",
      "KLEE: WARNING: undefined reference to function: textdomain\n",
      "KLEE: WARNING: executable has module level assembly (ignoring)\n",
      "KLEE: WARNING ONCE: calling external: syscall(16, 0, 21505, 94332801095296) at klee/runtime/POSIX/fd.c:1007 10\n",
      "KLEE: WARNING ONCE: Alignment of memory from call \"malloc\" is not modelled. Using alignment of 8.\n",
      "KLEE: WARNING ONCE: calling __klee_posix_wrapped_main with extra arguments.\n",
      "KLEE: WARNING ONCE: Alignment of memory from call \"calloc\" is not modelled. Using alignment of 8.\n",
      "KLEE: WARNING ONCE: calling external: bindtextdomain(94332800361984, 94332800447936) at [no debug info]\n",
      "KLEE: WARNING ONCE: calling external: textdomain(94332800361984) at [no debug info]\n",
      "KLEE: WARNING ONCE: Alignment of memory from call \"realloc\" is not modelled. Using alignment of 8.\n",
      "KLEE: WARNING ONCE: calling external: printf(94332800112488, 94332799988800, 10) at [no debug info]\n",
      "KLEE: WARNING ONCE: calling close_stdout with extra arguments.\n",
      "\n",
      "KLEE: done: total instructions = 179223\n",
      "KLEE: done: completed paths = 1\n",
      "KLEE: done: generated tests = 1\n"
     ]
    },
    {
     "name": "stdout",
     "output_type": "stream",
     "text": [
      "/home/igandhi/Documents/build/bin/klee --search=random-path --no-forking --track-instruction-time --libc=uclibc --posix-runtime --replace-condition=13058 --replay-path=\"/home/igandhi/Documents/profiler/../klee/examples/llvm-coreutils/bitcodes/klee-out-0/test000001.path\" ../klee/examples/llvm-coreutils/bitcodes/env.bc  --sym-arg 10\n"
     ]
    },
    {
     "name": "stderr",
     "output_type": "stream",
     "text": [
      "KLEE: NOTE: Using POSIX model: /home/igandhi/Documents/build/Debug+Asserts/lib/libkleeRuntimePOSIX.bca\n",
      "KLEE: NOTE: Using klee-uclibc : /home/igandhi/Documents/build/Debug+Asserts/lib/klee-uclibc.bca\n",
      "KLEE: output directory is \"/home/igandhi/Documents/profiler/../klee/examples/llvm-coreutils/bitcodes/klee-out-81\"\n",
      "KLEE: Using STP solver backend\n",
      "KLEE: WARNING: undefined reference to function: __ctype_get_mb_cur_max\n",
      "KLEE: WARNING: undefined reference to function: bindtextdomain\n",
      "KLEE: WARNING: undefined reference to function: gettext\n",
      "KLEE: WARNING: undefined reference to function: textdomain\n",
      "KLEE: WARNING: executable has module level assembly (ignoring)\n",
      "KLEE: WARNING ONCE: calling external: syscall(16, 0, 21505, 94533432407680) at klee/runtime/POSIX/fd.c:1007 10\n",
      "KLEE: WARNING ONCE: Alignment of memory from call \"malloc\" is not modelled. Using alignment of 8.\n",
      "KLEE: WARNING ONCE: calling __klee_posix_wrapped_main with extra arguments.\n",
      "KLEE: WARNING ONCE: Alignment of memory from call \"calloc\" is not modelled. Using alignment of 8.\n",
      "KLEE: WARNING ONCE: calling external: bindtextdomain(94533431674368, 94533431760320) at [no debug info]\n",
      "KLEE: WARNING ONCE: calling external: textdomain(94533431674368) at [no debug info]\n",
      "KLEE: WARNING ONCE: Alignment of memory from call \"realloc\" is not modelled. Using alignment of 8.\n",
      "KLEE: WARNING ONCE: calling external: printf(94533431424872, 94533431301184, 10) at [no debug info]\n",
      "KLEE: WARNING ONCE: calling close_stdout with extra arguments.\n",
      "\n",
      "KLEE: done: total instructions = 179223\n",
      "KLEE: done: completed paths = 1\n",
      "KLEE: done: generated tests = 1\n"
     ]
    },
    {
     "name": "stdout",
     "output_type": "stream",
     "text": [
      "/home/igandhi/Documents/build/bin/klee --search=random-path --no-forking --track-instruction-time --libc=uclibc --posix-runtime --replace-condition=13060 --replay-path=\"/home/igandhi/Documents/profiler/../klee/examples/llvm-coreutils/bitcodes/klee-out-0/test000001.path\" ../klee/examples/llvm-coreutils/bitcodes/env.bc  --sym-arg 10\n"
     ]
    },
    {
     "name": "stderr",
     "output_type": "stream",
     "text": [
      "KLEE: NOTE: Using POSIX model: /home/igandhi/Documents/build/Debug+Asserts/lib/libkleeRuntimePOSIX.bca\n",
      "KLEE: NOTE: Using klee-uclibc : /home/igandhi/Documents/build/Debug+Asserts/lib/klee-uclibc.bca\n",
      "KLEE: output directory is \"/home/igandhi/Documents/profiler/../klee/examples/llvm-coreutils/bitcodes/klee-out-82\"\n",
      "KLEE: Using STP solver backend\n",
      "KLEE: WARNING: undefined reference to function: __ctype_get_mb_cur_max\n",
      "KLEE: WARNING: undefined reference to function: bindtextdomain\n",
      "KLEE: WARNING: undefined reference to function: gettext\n",
      "KLEE: WARNING: undefined reference to function: textdomain\n",
      "KLEE: WARNING: executable has module level assembly (ignoring)\n",
      "KLEE: WARNING ONCE: calling external: syscall(16, 0, 21505, 94328222831296) at klee/runtime/POSIX/fd.c:1007 10\n",
      "KLEE: WARNING ONCE: Alignment of memory from call \"malloc\" is not modelled. Using alignment of 8.\n",
      "KLEE: WARNING ONCE: calling __klee_posix_wrapped_main with extra arguments.\n",
      "KLEE: WARNING ONCE: Alignment of memory from call \"calloc\" is not modelled. Using alignment of 8.\n",
      "KLEE: WARNING ONCE: calling external: bindtextdomain(94328222098928, 94328222184896) at [no debug info]\n",
      "KLEE: WARNING ONCE: calling external: textdomain(94328222098928) at [no debug info]\n",
      "KLEE: WARNING ONCE: Alignment of memory from call \"realloc\" is not modelled. Using alignment of 8.\n",
      "KLEE: WARNING ONCE: calling external: printf(94328221849448, 94328221725760, 10) at [no debug info]\n",
      "KLEE: WARNING ONCE: calling close_stdout with extra arguments.\n",
      "\n",
      "KLEE: done: total instructions = 179223\n",
      "KLEE: done: completed paths = 1\n",
      "KLEE: done: generated tests = 1\n"
     ]
    },
    {
     "name": "stdout",
     "output_type": "stream",
     "text": [
      "/home/igandhi/Documents/build/bin/klee --search=random-path --no-forking --track-instruction-time --libc=uclibc --posix-runtime --replace-condition=13063 --replay-path=\"/home/igandhi/Documents/profiler/../klee/examples/llvm-coreutils/bitcodes/klee-out-0/test000001.path\" ../klee/examples/llvm-coreutils/bitcodes/env.bc  --sym-arg 10\n"
     ]
    },
    {
     "name": "stderr",
     "output_type": "stream",
     "text": [
      "KLEE: NOTE: Using POSIX model: /home/igandhi/Documents/build/Debug+Asserts/lib/libkleeRuntimePOSIX.bca\n",
      "KLEE: NOTE: Using klee-uclibc : /home/igandhi/Documents/build/Debug+Asserts/lib/klee-uclibc.bca\n",
      "KLEE: output directory is \"/home/igandhi/Documents/profiler/../klee/examples/llvm-coreutils/bitcodes/klee-out-83\"\n",
      "KLEE: Using STP solver backend\n",
      "KLEE: WARNING: undefined reference to function: __ctype_get_mb_cur_max\n",
      "KLEE: WARNING: undefined reference to function: bindtextdomain\n",
      "KLEE: WARNING: undefined reference to function: gettext\n",
      "KLEE: WARNING: undefined reference to function: textdomain\n",
      "KLEE: WARNING: executable has module level assembly (ignoring)\n",
      "KLEE: WARNING ONCE: calling external: syscall(16, 0, 21505, 94574485500608) at klee/runtime/POSIX/fd.c:1007 10\n",
      "KLEE: WARNING ONCE: Alignment of memory from call \"malloc\" is not modelled. Using alignment of 8.\n",
      "KLEE: WARNING ONCE: calling __klee_posix_wrapped_main with extra arguments.\n",
      "KLEE: WARNING ONCE: Alignment of memory from call \"calloc\" is not modelled. Using alignment of 8.\n",
      "KLEE: WARNING ONCE: calling external: bindtextdomain(94574484768240, 94574484854208) at [no debug info]\n",
      "KLEE: WARNING ONCE: calling external: textdomain(94574484768240) at [no debug info]\n",
      "KLEE: WARNING ONCE: Alignment of memory from call \"realloc\" is not modelled. Using alignment of 8.\n",
      "KLEE: WARNING ONCE: calling external: printf(94574484518760, 94574484395072, 10) at [no debug info]\n",
      "KLEE: WARNING ONCE: calling close_stdout with extra arguments.\n",
      "\n",
      "KLEE: done: total instructions = 179223\n",
      "KLEE: done: completed paths = 1\n",
      "KLEE: done: generated tests = 1\n"
     ]
    },
    {
     "name": "stdout",
     "output_type": "stream",
     "text": [
      "/home/igandhi/Documents/build/bin/klee --search=random-path --no-forking --track-instruction-time --libc=uclibc --posix-runtime --replace-condition=13065 --replay-path=\"/home/igandhi/Documents/profiler/../klee/examples/llvm-coreutils/bitcodes/klee-out-0/test000001.path\" ../klee/examples/llvm-coreutils/bitcodes/env.bc  --sym-arg 10\n"
     ]
    },
    {
     "name": "stderr",
     "output_type": "stream",
     "text": [
      "KLEE: NOTE: Using POSIX model: /home/igandhi/Documents/build/Debug+Asserts/lib/libkleeRuntimePOSIX.bca\n",
      "KLEE: NOTE: Using klee-uclibc : /home/igandhi/Documents/build/Debug+Asserts/lib/klee-uclibc.bca\n",
      "KLEE: output directory is \"/home/igandhi/Documents/profiler/../klee/examples/llvm-coreutils/bitcodes/klee-out-84\"\n",
      "KLEE: Using STP solver backend\n",
      "KLEE: WARNING: undefined reference to function: __ctype_get_mb_cur_max\n",
      "KLEE: WARNING: undefined reference to function: bindtextdomain\n",
      "KLEE: WARNING: undefined reference to function: gettext\n",
      "KLEE: WARNING: undefined reference to function: textdomain\n",
      "KLEE: WARNING: executable has module level assembly (ignoring)\n",
      "KLEE: WARNING ONCE: calling external: syscall(16, 0, 21505, 94124821102176) at klee/runtime/POSIX/fd.c:1007 10\n",
      "KLEE: WARNING ONCE: Alignment of memory from call \"malloc\" is not modelled. Using alignment of 8.\n",
      "KLEE: WARNING ONCE: calling __klee_posix_wrapped_main with extra arguments.\n",
      "KLEE: WARNING ONCE: Alignment of memory from call \"calloc\" is not modelled. Using alignment of 8.\n",
      "KLEE: WARNING ONCE: calling external: bindtextdomain(94124820366848, 94124820452800) at [no debug info]\n",
      "KLEE: WARNING ONCE: calling external: textdomain(94124820366848) at [no debug info]\n",
      "KLEE: WARNING ONCE: Alignment of memory from call \"realloc\" is not modelled. Using alignment of 8.\n",
      "KLEE: WARNING ONCE: calling external: printf(94124820117352, 94124819993664, 10) at [no debug info]\n",
      "KLEE: WARNING ONCE: calling close_stdout with extra arguments.\n",
      "\n",
      "KLEE: done: total instructions = 179223\n",
      "KLEE: done: completed paths = 1\n",
      "KLEE: done: generated tests = 1\n"
     ]
    },
    {
     "name": "stdout",
     "output_type": "stream",
     "text": [
      "/home/igandhi/Documents/build/bin/klee --search=random-path --no-forking --track-instruction-time --libc=uclibc --posix-runtime --replace-condition=13068 --replay-path=\"/home/igandhi/Documents/profiler/../klee/examples/llvm-coreutils/bitcodes/klee-out-0/test000001.path\" ../klee/examples/llvm-coreutils/bitcodes/env.bc  --sym-arg 10\n"
     ]
    },
    {
     "name": "stderr",
     "output_type": "stream",
     "text": [
      "KLEE: NOTE: Using POSIX model: /home/igandhi/Documents/build/Debug+Asserts/lib/libkleeRuntimePOSIX.bca\n",
      "KLEE: NOTE: Using klee-uclibc : /home/igandhi/Documents/build/Debug+Asserts/lib/klee-uclibc.bca\n",
      "KLEE: output directory is \"/home/igandhi/Documents/profiler/../klee/examples/llvm-coreutils/bitcodes/klee-out-85\"\n",
      "KLEE: Using STP solver backend\n",
      "KLEE: WARNING: undefined reference to function: __ctype_get_mb_cur_max\n",
      "KLEE: WARNING: undefined reference to function: bindtextdomain\n",
      "KLEE: WARNING: undefined reference to function: gettext\n",
      "KLEE: WARNING: undefined reference to function: textdomain\n",
      "KLEE: WARNING: executable has module level assembly (ignoring)\n",
      "KLEE: WARNING ONCE: calling external: syscall(16, 0, 21505, 94009080518272) at klee/runtime/POSIX/fd.c:1007 10\n",
      "KLEE: WARNING ONCE: Alignment of memory from call \"malloc\" is not modelled. Using alignment of 8.\n",
      "KLEE: WARNING ONCE: calling __klee_posix_wrapped_main with extra arguments.\n",
      "KLEE: WARNING ONCE: Alignment of memory from call \"calloc\" is not modelled. Using alignment of 8.\n",
      "KLEE: WARNING ONCE: calling external: bindtextdomain(94009079784960, 94009079870912) at [no debug info]\n",
      "KLEE: WARNING ONCE: calling external: textdomain(94009079784960) at [no debug info]\n",
      "KLEE: WARNING ONCE: Alignment of memory from call \"realloc\" is not modelled. Using alignment of 8.\n",
      "KLEE: WARNING ONCE: calling external: printf(94009079535464, 94009079411776, 10) at [no debug info]\n",
      "KLEE: WARNING ONCE: calling close_stdout with extra arguments.\n",
      "\n",
      "KLEE: done: total instructions = 179223\n",
      "KLEE: done: completed paths = 1\n",
      "KLEE: done: generated tests = 1\n"
     ]
    },
    {
     "name": "stdout",
     "output_type": "stream",
     "text": [
      "/home/igandhi/Documents/build/bin/klee --search=random-path --no-forking --track-instruction-time --libc=uclibc --posix-runtime --replace-condition=13070 --replay-path=\"/home/igandhi/Documents/profiler/../klee/examples/llvm-coreutils/bitcodes/klee-out-0/test000001.path\" ../klee/examples/llvm-coreutils/bitcodes/env.bc  --sym-arg 10\n"
     ]
    },
    {
     "name": "stderr",
     "output_type": "stream",
     "text": [
      "KLEE: NOTE: Using POSIX model: /home/igandhi/Documents/build/Debug+Asserts/lib/libkleeRuntimePOSIX.bca\n",
      "KLEE: NOTE: Using klee-uclibc : /home/igandhi/Documents/build/Debug+Asserts/lib/klee-uclibc.bca\n",
      "KLEE: output directory is \"/home/igandhi/Documents/profiler/../klee/examples/llvm-coreutils/bitcodes/klee-out-86\"\n",
      "KLEE: Using STP solver backend\n",
      "KLEE: WARNING: undefined reference to function: __ctype_get_mb_cur_max\n",
      "KLEE: WARNING: undefined reference to function: bindtextdomain\n",
      "KLEE: WARNING: undefined reference to function: gettext\n",
      "KLEE: WARNING: undefined reference to function: textdomain\n",
      "KLEE: WARNING: executable has module level assembly (ignoring)\n",
      "KLEE: WARNING ONCE: calling external: syscall(16, 0, 21505, 93871330713184) at klee/runtime/POSIX/fd.c:1007 10\n",
      "KLEE: WARNING ONCE: Alignment of memory from call \"malloc\" is not modelled. Using alignment of 8.\n",
      "KLEE: WARNING ONCE: calling __klee_posix_wrapped_main with extra arguments.\n",
      "KLEE: WARNING ONCE: Alignment of memory from call \"calloc\" is not modelled. Using alignment of 8.\n",
      "KLEE: WARNING ONCE: calling external: bindtextdomain(93871329977856, 93871330063808) at [no debug info]\n",
      "KLEE: WARNING ONCE: calling external: textdomain(93871329977856) at [no debug info]\n",
      "KLEE: WARNING ONCE: Alignment of memory from call \"realloc\" is not modelled. Using alignment of 8.\n",
      "KLEE: ERROR: libc/stdlib/setenv.c:81: memory error: invalid pointer: realloc\n",
      "KLEE: NOTE: now ignoring this error at this location\n",
      "\n",
      "KLEE: done: total instructions = 173756\n",
      "KLEE: done: completed paths = 1\n",
      "KLEE: done: generated tests = 1\n"
     ]
    },
    {
     "name": "stdout",
     "output_type": "stream",
     "text": [
      "/home/igandhi/Documents/build/bin/klee --search=random-path --no-forking --track-instruction-time --libc=uclibc --posix-runtime --replace-condition=13073 --replay-path=\"/home/igandhi/Documents/profiler/../klee/examples/llvm-coreutils/bitcodes/klee-out-0/test000001.path\" ../klee/examples/llvm-coreutils/bitcodes/env.bc  --sym-arg 10\n"
     ]
    },
    {
     "name": "stderr",
     "output_type": "stream",
     "text": [
      "KLEE: NOTE: Using POSIX model: /home/igandhi/Documents/build/Debug+Asserts/lib/libkleeRuntimePOSIX.bca\n",
      "KLEE: NOTE: Using klee-uclibc : /home/igandhi/Documents/build/Debug+Asserts/lib/klee-uclibc.bca\n",
      "KLEE: output directory is \"/home/igandhi/Documents/profiler/../klee/examples/llvm-coreutils/bitcodes/klee-out-87\"\n",
      "KLEE: Using STP solver backend\n",
      "KLEE: WARNING: undefined reference to function: __ctype_get_mb_cur_max\n",
      "KLEE: WARNING: undefined reference to function: bindtextdomain\n",
      "KLEE: WARNING: undefined reference to function: gettext\n",
      "KLEE: WARNING: undefined reference to function: textdomain\n",
      "KLEE: WARNING: executable has module level assembly (ignoring)\n",
      "KLEE: WARNING ONCE: calling external: syscall(16, 0, 21505, 94671965298272) at klee/runtime/POSIX/fd.c:1007 10\n",
      "KLEE: WARNING ONCE: Alignment of memory from call \"malloc\" is not modelled. Using alignment of 8.\n",
      "KLEE: WARNING ONCE: calling __klee_posix_wrapped_main with extra arguments.\n",
      "KLEE: WARNING ONCE: Alignment of memory from call \"calloc\" is not modelled. Using alignment of 8.\n",
      "KLEE: WARNING ONCE: calling external: bindtextdomain(94671964562944, 94671964648896) at [no debug info]\n",
      "KLEE: WARNING ONCE: calling external: textdomain(94671964562944) at [no debug info]\n",
      "KLEE: WARNING ONCE: Alignment of memory from call \"realloc\" is not modelled. Using alignment of 8.\n",
      "KLEE: WARNING ONCE: calling external: printf(94671964313448, 94671964189760, 10) at [no debug info]\n",
      "KLEE: WARNING ONCE: calling close_stdout with extra arguments.\n",
      "\n",
      "KLEE: done: total instructions = 179223\n",
      "KLEE: done: completed paths = 1\n",
      "KLEE: done: generated tests = 1\n"
     ]
    },
    {
     "name": "stdout",
     "output_type": "stream",
     "text": [
      "/home/igandhi/Documents/build/bin/klee --search=random-path --no-forking --track-instruction-time --libc=uclibc --posix-runtime --replace-condition=13075 --replay-path=\"/home/igandhi/Documents/profiler/../klee/examples/llvm-coreutils/bitcodes/klee-out-0/test000001.path\" ../klee/examples/llvm-coreutils/bitcodes/env.bc  --sym-arg 10\n"
     ]
    },
    {
     "name": "stderr",
     "output_type": "stream",
     "text": [
      "KLEE: NOTE: Using POSIX model: /home/igandhi/Documents/build/Debug+Asserts/lib/libkleeRuntimePOSIX.bca\n",
      "KLEE: NOTE: Using klee-uclibc : /home/igandhi/Documents/build/Debug+Asserts/lib/klee-uclibc.bca\n",
      "KLEE: output directory is \"/home/igandhi/Documents/profiler/../klee/examples/llvm-coreutils/bitcodes/klee-out-88\"\n",
      "KLEE: Using STP solver backend\n",
      "KLEE: WARNING: undefined reference to function: __ctype_get_mb_cur_max\n",
      "KLEE: WARNING: undefined reference to function: bindtextdomain\n",
      "KLEE: WARNING: undefined reference to function: gettext\n",
      "KLEE: WARNING: undefined reference to function: textdomain\n",
      "KLEE: WARNING: executable has module level assembly (ignoring)\n",
      "KLEE: WARNING ONCE: calling external: syscall(16, 0, 21505, 94451760264832) at klee/runtime/POSIX/fd.c:1007 10\n",
      "KLEE: WARNING ONCE: Alignment of memory from call \"malloc\" is not modelled. Using alignment of 8.\n",
      "KLEE: WARNING ONCE: calling __klee_posix_wrapped_main with extra arguments.\n",
      "KLEE: WARNING ONCE: Alignment of memory from call \"calloc\" is not modelled. Using alignment of 8.\n",
      "KLEE: WARNING ONCE: calling external: bindtextdomain(94451759531520, 94451759617472) at [no debug info]\n",
      "KLEE: WARNING ONCE: calling external: textdomain(94451759531520) at [no debug info]\n",
      "KLEE: WARNING ONCE: Alignment of memory from call \"realloc\" is not modelled. Using alignment of 8.\n",
      "KLEE: WARNING ONCE: calling external: printf(94451759282024, 94451759158336, 10) at [no debug info]\n",
      "KLEE: WARNING ONCE: calling close_stdout with extra arguments.\n",
      "\n",
      "KLEE: done: total instructions = 179223\n",
      "KLEE: done: completed paths = 1\n",
      "KLEE: done: generated tests = 1\n"
     ]
    },
    {
     "name": "stdout",
     "output_type": "stream",
     "text": [
      "Instructions,FullBranches,PartialBranches,NumBranches,UserTime,NumStates,MallocUsage,NumQueries,NumQueryConstructs,NumObjects,WallTime,CoveredInstructions,UncoveredInstructions,QueryTime,SolverTime,CexCacheTime,ForkTime,ResolveTime,QueryCexCacheMisses,QueryCexCacheHits,Breaks,Returns,Switchs,IndirectBrs,Invokes,Resumes,Unreachables,CleanupRets,CatchRets,CatchPads,CatchSwitchs,FNegs,Adds,FAdds,Subs,FSubs,Muls,FMuls,UDivs,SDivs,FDivs,URems,SRems,FRems,Ands,Ors,Xors,Allocas,Loads,Stores,AtomicCmpXchgs,AtomicRMWs,Fences,GetElementPtrs,Truncs,ZExts,SExts,FPTruncs,FPExts,FPToUIs,FPToSIs,UIToFPs,SIToFPs,IntToPtrs,PtrToInts,BitCasts,AddrSpaceCasts,ICmps,FCmps,PHIs,Selects,Calls,Shls,LShrs,AShrs,VAArgs,ExtractElements,InsertElements,ShuffleVectors,ExtractValues,InsertValues,LandingPads,CleanupPads,Cond\n",
      "179223,62,184,1515,694629.0,0,47506024,31,405,0,654574.0,4108,21126,289907,294216,290860,0,0,31,-1,24670,1136,1,0,0,0,0,0,0,0,0,0,8545,0,1314,0,81,0,4,0,0,1,0,0,117,14,19,5578,54049,36348,0,0,0,17141,604,5735,2515,0,0,0,0,0,0,1,105,146,0,13082,0,1324,32,6630,25,0,6,0,0,0,0,0,0,0,0,baseline\n",
      "179223,62,184,1515,683234.0,0,47505448,30,398,0,643743.0,4108,21126,283019,287246,283927,0,0,30,-1,24670,1136,1,0,0,0,0,0,0,0,0,0,8545,0,1314,0,81,0,4,0,0,1,0,0,117,14,19,5578,54049,36348,0,0,0,17141,604,5735,2515,0,0,0,0,0,0,1,105,146,0,13082,0,1324,32,6630,25,0,6,0,0,0,0,0,0,0,0,(Sle 32       (SExt w32 (Read w8 0 arg00)))\n",
      "179223,62,184,1515,839540.0,0,47505448,30,398,0,675593.0,4108,21126,273502,277594,274436,0,0,30,-1,24670,1136,1,0,0,0,0,0,0,0,0,0,8545,0,1314,0,81,0,4,0,0,1,0,0,117,14,19,5578,54049,36348,0,0,0,17141,604,5735,2515,0,0,0,0,0,0,1,105,146,0,13082,0,1324,32,6630,25,0,6,0,0,0,0,0,0,0,0,(Sle 32       (SExt w32 (Read w8 1 arg00)))\n",
      "179223,62,184,1515,712915.0,0,47505448,30,398,0,556384.0,4108,21126,248309,252316,249151,0,0,30,-1,24670,1136,1,0,0,0,0,0,0,0,0,0,8545,0,1314,0,81,0,4,0,0,1,0,0,117,14,19,5578,54049,36348,0,0,0,17141,604,5735,2515,0,0,0,0,0,0,1,105,146,0,13082,0,1324,32,6630,25,0,6,0,0,0,0,0,0,0,0,(Sle 32       (SExt w32 (Read w8 2 arg00)))\n",
      "179223,62,184,1515,1140642.0,0,47505448,30,398,0,654071.0,4108,21126,260223,264530,261125,0,0,30,-1,24670,1136,1,0,0,0,0,0,0,0,0,0,8545,0,1314,0,81,0,4,0,0,1,0,0,117,14,19,5578,54049,36348,0,0,0,17141,604,5735,2515,0,0,0,0,0,0,1,105,146,0,13082,0,1324,32,6630,25,0,6,0,0,0,0,0,0,0,0,(Sle 32       (SExt w32 (Read w8 3 arg00)))\n",
      "179223,62,184,1515,636836.0,0,47503912,30,398,0,628242.0,4108,21126,313020,317212,313908,0,0,30,-1,24670,1136,1,0,0,0,0,0,0,0,0,0,8545,0,1314,0,81,0,4,0,0,1,0,0,117,14,19,5578,54049,36348,0,0,0,17141,604,5735,2515,0,0,0,0,0,0,1,105,146,0,13082,0,1324,32,6630,25,0,6,0,0,0,0,0,0,0,0,(Sle 32       (SExt w32 (Read w8 4 arg00)))\n",
      "179223,62,184,1515,673800.0,0,47505448,30,398,0,3326699.0,4108,21126,294094,298397,295006,0,0,30,-1,24670,1136,1,0,0,0,0,0,0,0,0,0,8545,0,1314,0,81,0,4,0,0,1,0,0,117,14,19,5578,54049,36348,0,0,0,17141,604,5735,2515,0,0,0,0,0,0,1,105,146,0,13082,0,1324,32,6630,25,0,6,0,0,0,0,0,0,0,0,(Sle 32       (SExt w32 (Read w8 5 arg00)))\n",
      "179223,62,184,1515,976383.0,0,47505448,30,398,0,657439.0,4108,21126,266760,270883,267682,0,0,30,-1,24670,1136,1,0,0,0,0,0,0,0,0,0,8545,0,1314,0,81,0,4,0,0,1,0,0,117,14,19,5578,54049,36348,0,0,0,17141,604,5735,2515,0,0,0,0,0,0,1,105,146,0,13082,0,1324,32,6630,25,0,6,0,0,0,0,0,0,0,0,(Sle 32       (SExt w32 (Read w8 6 arg00)))\n",
      "179223,62,184,1515,966183.0,0,47505448,30,398,0,658490.0,4108,21126,258221,262545,259141,0,0,30,-1,24670,1136,1,0,0,0,0,0,0,0,0,0,8545,0,1314,0,81,0,4,0,0,1,0,0,117,14,19,5578,54049,36348,0,0,0,17141,604,5735,2515,0,0,0,0,0,0,1,105,146,0,13082,0,1324,32,6630,25,0,6,0,0,0,0,0,0,0,0,(Sle 32       (SExt w32 (Read w8 7 arg00)))\n",
      "179223,62,184,1515,732984.0,0,47506024,31,405,0,603386.0,4108,21126,286866,291074,287728,0,0,31,-1,24670,1136,1,0,0,0,0,0,0,0,0,0,8545,0,1314,0,81,0,4,0,0,1,0,0,117,14,19,5578,54049,36348,0,0,0,17141,604,5735,2515,0,0,0,0,0,0,1,105,146,0,13082,0,1324,32,6630,25,0,6,0,0,0,0,0,0,0,0,(Sle 32       (SExt w32 (Read w8 8 arg00)))\n",
      "179223,62,184,1515,850496.0,0,47504488,31,405,0,715509.0,4108,21126,312369,316835,313265,0,0,31,-1,24670,1136,1,0,0,0,0,0,0,0,0,0,8545,0,1314,0,81,0,4,0,0,1,0,0,117,14,19,5578,54049,36348,0,0,0,17141,604,5735,2515,0,0,0,0,0,0,1,105,146,0,13082,0,1324,32,6630,25,0,6,0,0,0,0,0,0,0,0,(Sle 32       (SExt w32 (Read w8 9 arg00)))\n",
      "179223,62,184,1515,666775.0,0,47504488,31,405,0,580191.0,4108,21126,256437,260594,257304,0,0,31,-1,24670,1136,1,0,0,0,0,0,0,0,0,0,8545,0,1314,0,81,0,4,0,0,1,0,0,117,14,19,5578,54049,36348,0,0,0,17141,604,5735,2515,0,0,0,0,0,0,1,105,146,0,13082,0,1324,32,6630,25,0,6,0,0,0,0,0,0,0,0,(Eq 45 (Read w8 0 arg00))\n",
      "179223,62,184,1515,822824.0,0,47506024,31,405,0,662165.0,4108,21126,293906,297879,294733,0,0,31,-1,24670,1136,1,0,0,0,0,0,0,0,0,0,8545,0,1314,0,81,0,4,0,0,1,0,0,117,14,19,5578,54049,36348,0,0,0,17141,604,5735,2515,0,0,0,0,0,0,1,105,146,0,13082,0,1324,32,6630,25,0,6,0,0,0,0,0,0,0,0,(Eq false      (Eq 45 (Read w8 0 arg00)))\n",
      "179223,62,184,1515,818910.0,0,47506024,31,405,0,666723.0,4108,21126,274360,278555,275265,0,0,31,-1,24670,1136,1,0,0,0,0,0,0,0,0,0,8545,0,1314,0,81,0,4,0,0,1,0,0,117,14,19,5578,54049,36348,0,0,0,17141,604,5735,2515,0,0,0,0,0,0,1,105,146,0,13082,0,1324,32,6630,25,0,6,0,0,0,0,0,0,0,0,(Eq false      (Eq 45 (Read w8 0 arg00)))\n",
      "179223,62,184,1515,813758.0,0,47506024,31,405,0,695365.0,4108,21126,308161,312433,309024,0,0,31,-1,24670,1136,1,0,0,0,0,0,0,0,0,0,8545,0,1314,0,81,0,4,0,0,1,0,0,117,14,19,5578,54049,36348,0,0,0,17141,604,5735,2515,0,0,0,0,0,0,1,105,146,0,13082,0,1324,32,6630,25,0,6,0,0,0,0,0,0,0,0,(Eq 45 (Read w8 0 arg00))\n",
      "179223,62,184,1515,794061.0,0,47506024,31,405,0,646449.0,4108,21126,314930,319249,315884,0,0,31,-1,24670,1136,1,0,0,0,0,0,0,0,0,0,8545,0,1314,0,81,0,4,0,0,1,0,0,117,14,19,5578,54049,36348,0,0,0,17141,604,5735,2515,0,0,0,0,0,0,1,105,146,0,13082,0,1324,32,6630,25,0,6,0,0,0,0,0,0,0,0,(Eq 45 (Read w8 0 arg00))\n",
      "179223,62,184,1515,790656.0,0,47506024,31,405,0,654272.0,4108,21126,261697,266120,262659,0,0,31,-1,24670,1136,1,0,0,0,0,0,0,0,0,0,8545,0,1314,0,81,0,4,0,0,1,0,0,117,14,19,5578,54049,36348,0,0,0,17141,604,5735,2515,0,0,0,0,0,0,1,105,146,0,13082,0,1324,32,6630,25,0,6,0,0,0,0,0,0,0,0,(Eq 45 (Read w8 0 arg00))\n",
      "179223,62,184,1515,772163.0,0,47506024,31,405,0,678807.0,4108,21126,278622,282866,279580,0,0,31,-1,24670,1136,1,0,0,0,0,0,0,0,0,0,8545,0,1314,0,81,0,4,0,0,1,0,0,117,14,19,5578,54049,36348,0,0,0,17141,604,5735,2515,0,0,0,0,0,0,1,105,146,0,13082,0,1324,32,6630,25,0,6,0,0,0,0,0,0,0,0,(Eq false      (Eq 45 (Read w8 0 arg00)))\n",
      "179223,62,184,1515,845614.0,0,47505800,31,405,0,722866.0,4108,21126,325773,330028,326656,0,0,31,-1,24670,1136,1,0,0,0,0,0,0,0,0,0,8545,0,1314,0,81,0,4,0,0,1,0,0,117,14,19,5578,54049,36348,0,0,0,17141,604,5735,2515,0,0,0,0,0,0,1,105,146,0,13082,0,1324,32,6630,25,0,6,0,0,0,0,0,0,0,0,(Eq false      (Eq 45 (Read w8 0 arg00)))\n",
      "179223,62,184,1515,765925.0,0,47506024,31,405,0,527478.0,4108,21126,231393,235602,232292,0,0,31,-1,24670,1136,1,0,0,0,0,0,0,0,0,0,8545,0,1314,0,81,0,4,0,0,1,0,0,117,14,19,5578,54049,36348,0,0,0,17141,604,5735,2515,0,0,0,0,0,0,1,105,146,0,13082,0,1324,32,6630,25,0,6,0,0,0,0,0,0,0,0,(Eq 45 (Read w8 0 arg00))\n",
      "179223,62,184,1515,840446.0,0,47506024,31,405,0,721553.0,4108,21126,316720,321006,317626,0,0,31,-1,24670,1136,1,0,0,0,0,0,0,0,0,0,8545,0,1314,0,81,0,4,0,0,1,0,0,117,14,19,5578,54049,36348,0,0,0,17141,604,5735,2515,0,0,0,0,0,0,1,105,146,0,13082,0,1324,32,6630,25,0,6,0,0,0,0,0,0,0,0,(Eq 45 (Read w8 0 arg00))\n",
      "179223,62,184,1515,906482.0,0,47506024,31,405,0,709568.0,4108,21126,303957,308403,304881,0,0,31,-1,24670,1136,1,0,0,0,0,0,0,0,0,0,8545,0,1314,0,81,0,4,0,0,1,0,0,117,14,19,5578,54049,36348,0,0,0,17141,604,5735,2515,0,0,0,0,0,0,1,105,146,0,13082,0,1324,32,6630,25,0,6,0,0,0,0,0,0,0,0,(Eq 61 (Read w8 0 arg00))\n",
      "179223,62,184,1515,1674215.0,0,47506024,31,405,0,647024.0,4108,21126,268870,273386,269825,0,0,31,-1,24670,1136,1,0,0,0,0,0,0,0,0,0,8545,0,1314,0,81,0,4,0,0,1,0,0,117,14,19,5578,54049,36348,0,0,0,17141,604,5735,2515,0,0,0,0,0,0,1,105,146,0,13082,0,1324,32,6630,25,0,6,0,0,0,0,0,0,0,0,(Eq false      (Eq 0 (Read w8 0 arg00)))\n",
      "179223,62,184,1515,774770.0,0,47504488,31,405,0,663245.0,4108,21126,277699,282164,278616,0,0,31,-1,24670,1136,1,0,0,0,0,0,0,0,0,0,8545,0,1314,0,81,0,4,0,0,1,0,0,117,14,19,5578,54049,36348,0,0,0,17141,604,5735,2515,0,0,0,0,0,0,1,105,146,0,13082,0,1324,32,6630,25,0,6,0,0,0,0,0,0,0,0,(Eq 61 (Read w8 1 arg00))\n"
     ]
    },
    {
     "name": "stdout",
     "output_type": "stream",
     "text": [
      "179223,62,184,1515,895696.0,0,47506024,31,405,0,634045.0,4108,21126,303221,307531,304184,0,0,31,-1,24670,1136,1,0,0,0,0,0,0,0,0,0,8545,0,1314,0,81,0,4,0,0,1,0,0,117,14,19,5578,54049,36348,0,0,0,17141,604,5735,2515,0,0,0,0,0,0,1,105,146,0,13082,0,1324,32,6630,25,0,6,0,0,0,0,0,0,0,0,(Eq 61 (Read w8 0 arg00))\n",
      "179223,62,184,1515,787618.0,0,47504488,31,405,0,700552.0,4108,21126,291612,295867,292539,0,0,31,-1,24670,1136,1,0,0,0,0,0,0,0,0,0,8545,0,1314,0,81,0,4,0,0,1,0,0,117,14,19,5578,54049,36348,0,0,0,17141,604,5735,2515,0,0,0,0,0,0,1,105,146,0,13082,0,1324,32,6630,25,0,6,0,0,0,0,0,0,0,0,(Eq false      (Eq 0 (Read w8 0 arg00)))\n",
      "179223,62,184,1515,883266.0,0,47504488,31,405,0,705086.0,4108,21126,303159,307395,304069,0,0,31,-1,24670,1136,1,0,0,0,0,0,0,0,0,0,8545,0,1314,0,81,0,4,0,0,1,0,0,117,14,19,5578,54049,36348,0,0,0,17141,604,5735,2515,0,0,0,0,0,0,1,105,146,0,13082,0,1324,32,6630,25,0,6,0,0,0,0,0,0,0,0,(Eq 61 (Read w8 1 arg00))\n",
      "179223,62,184,1515,874166.0,0,47506024,31,405,0,677929.0,4108,21126,294678,299332,295721,0,0,31,-1,24670,1136,1,0,0,0,0,0,0,0,0,0,8545,0,1314,0,81,0,4,0,0,1,0,0,117,14,19,5578,54049,36348,0,0,0,17141,604,5735,2515,0,0,0,0,0,0,1,105,146,0,13082,0,1324,32,6630,25,0,6,0,0,0,0,0,0,0,0,(Eq false      (Eq 0 (Read w8 0 arg00)))\n",
      "179223,62,184,1515,759886.0,0,47506024,31,405,0,672830.0,4108,21126,299132,303413,300012,0,0,31,-1,24670,1136,1,0,0,0,0,0,0,0,0,0,8545,0,1314,0,81,0,4,0,0,1,0,0,117,14,19,5578,54049,36348,0,0,0,17141,604,5735,2515,0,0,0,0,0,0,1,105,146,0,13082,0,1324,32,6630,25,0,6,0,0,0,0,0,0,0,0,(Eq false      (Eq 0 (Read w8 0 arg00)))\n",
      "179223,62,184,1515,769119.0,0,47504488,31,405,0,606077.0,4108,21126,273317,277660,274231,0,0,31,-1,24670,1136,1,0,0,0,0,0,0,0,0,0,8545,0,1314,0,81,0,4,0,0,1,0,0,117,14,19,5578,54049,36348,0,0,0,17141,604,5735,2515,0,0,0,0,0,0,1,105,146,0,13082,0,1324,32,6630,25,0,6,0,0,0,0,0,0,0,0,(Eq 77 (Read w8 0 arg00))\n",
      "179223,62,184,1515,802872.0,0,47506024,31,405,0,727886.0,4108,21126,309835,315857,311188,0,0,31,-1,24670,1136,1,0,0,0,0,0,0,0,0,0,8545,0,1314,0,81,0,4,0,0,1,0,0,117,14,19,5578,54049,36348,0,0,0,17141,604,5735,2515,0,0,0,0,0,0,1,105,146,0,13082,0,1324,32,6630,25,0,6,0,0,0,0,0,0,0,0,(Eq false      (Eq 77 (Read w8 0 arg00)))\n",
      "179223,62,184,1515,918898.0,0,47506024,31,405,0,740442.0,4108,21126,294556,298936,295554,0,0,31,-1,24670,1136,1,0,0,0,0,0,0,0,0,0,8545,0,1314,0,81,0,4,0,0,1,0,0,117,14,19,5578,54049,36348,0,0,0,17141,604,5735,2515,0,0,0,0,0,0,1,105,146,0,13082,0,1324,32,6630,25,0,6,0,0,0,0,0,0,0,0,(Eq 83 (Read w8 0 arg00))\n",
      "179223,62,184,1515,717678.0,0,47506024,31,405,0,650842.0,4108,21126,260688,264792,261574,0,0,31,-1,24670,1136,1,0,0,0,0,0,0,0,0,0,8545,0,1314,0,81,0,4,0,0,1,0,0,117,14,19,5578,54049,36348,0,0,0,17141,604,5735,2515,0,0,0,0,0,0,1,105,146,0,13082,0,1324,32,6630,25,0,6,0,0,0,0,0,0,0,0,(Eq false      (Eq 83 (Read w8 0 arg00)))\n",
      "179223,62,184,1515,748603.0,0,47506024,31,405,0,650020.0,4108,21126,284529,288843,285424,0,0,31,-1,24670,1136,1,0,0,0,0,0,0,0,0,0,8545,0,1314,0,81,0,4,0,0,1,0,0,117,14,19,5578,54049,36348,0,0,0,17141,604,5735,2515,0,0,0,0,0,0,1,105,146,0,13082,0,1324,32,6630,25,0,6,0,0,0,0,0,0,0,0,(Eq 85 (Read w8 0 arg00))\n",
      "179223,62,184,1515,789979.0,0,47506024,31,405,0,677760.0,4108,21126,279851,284313,280848,0,0,31,-1,24670,1136,1,0,0,0,0,0,0,0,0,0,8545,0,1314,0,81,0,4,0,0,1,0,0,117,14,19,5578,54049,36348,0,0,0,17141,604,5735,2515,0,0,0,0,0,0,1,105,146,0,13082,0,1324,32,6630,25,0,6,0,0,0,0,0,0,0,0,(Eq false      (Eq 85 (Read w8 0 arg00)))\n",
      "179223,62,184,1515,1029927.0,0,47506024,31,405,0,722364.0,4108,21126,318733,323398,319717,0,0,31,-1,24670,1136,1,0,0,0,0,0,0,0,0,0,8545,0,1314,0,81,0,4,0,0,1,0,0,117,14,19,5578,54049,36348,0,0,0,17141,604,5735,2515,0,0,0,0,0,0,1,105,146,0,13082,0,1324,32,6630,25,0,6,0,0,0,0,0,0,0,0,(Eq 83 (Read w8 0 arg00))\n",
      "179223,62,184,1515,847027.0,0,47506024,31,405,0,742308.0,4108,21126,331408,335858,332335,0,0,31,-1,24670,1136,1,0,0,0,0,0,0,0,0,0,8545,0,1314,0,81,0,4,0,0,1,0,0,117,14,19,5578,54049,36348,0,0,0,17141,604,5735,2515,0,0,0,0,0,0,1,105,146,0,13082,0,1324,32,6630,25,0,6,0,0,0,0,0,0,0,0,(Eq false      (Eq 83 (Read w8 0 arg00)))\n",
      "179223,62,184,1515,831917.0,0,47506024,31,405,0,704683.0,4108,21126,302336,306567,303240,0,0,31,-1,24670,1136,1,0,0,0,0,0,0,0,0,0,8545,0,1314,0,81,0,4,0,0,1,0,0,117,14,19,5578,54049,36348,0,0,0,17141,604,5735,2515,0,0,0,0,0,0,1,105,146,0,13082,0,1324,32,6630,25,0,6,0,0,0,0,0,0,0,0,(Eq 72 (Read w8 0 arg00))\n",
      "179223,62,184,1515,736902.0,0,47506024,31,405,0,653918.0,4108,21126,273774,278186,274696,0,0,31,-1,24670,1136,1,0,0,0,0,0,0,0,0,0,8545,0,1314,0,81,0,4,0,0,1,0,0,117,14,19,5578,54049,36348,0,0,0,17141,604,5735,2515,0,0,0,0,0,0,1,105,146,0,13082,0,1324,32,6630,25,0,6,0,0,0,0,0,0,0,0,(Eq false      (Eq 72 (Read w8 0 arg00)))\n",
      "179223,62,184,1515,855736.0,0,47506024,31,405,0,638003.0,4108,21126,255105,259492,256009,0,0,31,-1,24670,1136,1,0,0,0,0,0,0,0,0,0,8545,0,1314,0,81,0,4,0,0,1,0,0,117,14,19,5578,54049,36348,0,0,0,17141,604,5735,2515,0,0,0,0,0,0,1,105,146,0,13082,0,1324,32,6630,25,0,6,0,0,0,0,0,0,0,0,(Eq 67 (Read w8 0 arg00))\n",
      "179223,62,184,1515,703140.0,0,47504488,31,405,0,624084.0,4108,21126,285159,289317,286033,0,0,31,-1,24670,1136,1,0,0,0,0,0,0,0,0,0,8545,0,1314,0,81,0,4,0,0,1,0,0,117,14,19,5578,54049,36348,0,0,0,17141,604,5735,2515,0,0,0,0,0,0,1,105,146,0,13082,0,1324,32,6630,25,0,6,0,0,0,0,0,0,0,0,(Eq false      (Eq 67 (Read w8 0 arg00)))\n",
      "179223,62,184,1515,789770.0,0,47504488,31,405,0,649927.0,4108,21126,274790,279224,275740,0,0,31,-1,24670,1136,1,0,0,0,0,0,0,0,0,0,8545,0,1314,0,81,0,4,0,0,1,0,0,117,14,19,5578,54049,36348,0,0,0,17141,604,5735,2515,0,0,0,0,0,0,1,105,146,0,13082,0,1324,32,6630,25,0,6,0,0,0,0,0,0,0,0,(Eq 83 (Read w8 0 arg00))\n",
      "179223,62,184,1515,888115.0,0,47506024,31,405,0,664343.0,4108,21126,324672,329008,325590,0,0,31,-1,24670,1136,1,0,0,0,0,0,0,0,0,0,8545,0,1314,0,81,0,4,0,0,1,0,0,117,14,19,5578,54049,36348,0,0,0,17141,604,5735,2515,0,0,0,0,0,0,1,105,146,0,13082,0,1324,32,6630,25,0,6,0,0,0,0,0,0,0,0,(Eq false      (Eq 83 (Read w8 0 arg00)))\n",
      "179223,62,184,1515,833767.0,0,47506024,31,405,0,602165.0,4108,21126,261021,265232,261932,0,0,31,-1,24670,1136,1,0,0,0,0,0,0,0,0,0,8545,0,1314,0,81,0,4,0,0,1,0,0,117,14,19,5578,54049,36348,0,0,0,17141,604,5735,2515,0,0,0,0,0,0,1,105,146,0,13082,0,1324,32,6630,25,0,6,0,0,0,0,0,0,0,0,(Eq 79 (Read w8 0 arg00))\n",
      "179223,62,184,1515,788618.0,0,47506024,31,405,0,692091.0,4108,21126,271735,276037,272672,0,0,31,-1,24670,1136,1,0,0,0,0,0,0,0,0,0,8545,0,1314,0,81,0,4,0,0,1,0,0,117,14,19,5578,54049,36348,0,0,0,17141,604,5735,2515,0,0,0,0,0,0,1,105,146,0,13082,0,1324,32,6630,25,0,6,0,0,0,0,0,0,0,0,(Eq false      (Eq 79 (Read w8 0 arg00)))\n",
      "179223,62,184,1515,709837.0,0,47504488,31,405,0,664350.0,4108,21126,292652,297031,293582,0,0,31,-1,24670,1136,1,0,0,0,0,0,0,0,0,0,8545,0,1314,0,81,0,4,0,0,1,0,0,117,14,19,5578,54049,36348,0,0,0,17141,604,5735,2515,0,0,0,0,0,0,1,105,146,0,13082,0,1324,32,6630,25,0,6,0,0,0,0,0,0,0,0,(Eq 68 (Read w8 0 arg00))\n",
      "179223,62,184,1515,920307.0,0,47506024,31,405,0,779451.0,4108,21126,330204,334623,331163,0,0,31,-1,24670,1136,1,0,0,0,0,0,0,0,0,0,8545,0,1314,0,81,0,4,0,0,1,0,0,117,14,19,5578,54049,36348,0,0,0,17141,604,5735,2515,0,0,0,0,0,0,1,105,146,0,13082,0,1324,32,6630,25,0,6,0,0,0,0,0,0,0,0,(Eq 76 (Read w8 0 arg00))\n",
      "179223,62,184,1515,881571.0,0,47506024,31,405,0,691917.0,4108,21126,310761,314709,311659,0,0,31,-1,24670,1136,1,0,0,0,0,0,0,0,0,0,8545,0,1314,0,81,0,4,0,0,1,0,0,117,14,19,5578,54049,36348,0,0,0,17141,604,5735,2515,0,0,0,0,0,0,1,105,146,0,13082,0,1324,32,6630,25,0,6,0,0,0,0,0,0,0,0,(Eq false      (Eq 76 (Read w8 0 arg00)))\n",
      "179223,62,184,1515,861237.0,0,47506024,31,405,0,684264.0,4108,21126,313679,317876,314593,0,0,31,-1,24670,1136,1,0,0,0,0,0,0,0,0,0,8545,0,1314,0,81,0,4,0,0,1,0,0,117,14,19,5578,54049,36348,0,0,0,17141,604,5735,2515,0,0,0,0,0,0,1,105,146,0,13082,0,1324,32,6630,25,0,6,0,0,0,0,0,0,0,0,(Eq 76 (Read w8 0 arg00))\n",
      "179223,62,184,1515,995623.0,0,47506024,31,405,0,675576.0,4108,21126,289396,293929,290384,0,0,31,-1,24670,1136,1,0,0,0,0,0,0,0,0,0,8545,0,1314,0,81,0,4,0,0,1,0,0,117,14,19,5578,54049,36348,0,0,0,17141,604,5735,2515,0,0,0,0,0,0,1,105,146,0,13082,0,1324,32,6630,25,0,6,0,0,0,0,0,0,0,0,(Eq false      (Eq 76 (Read w8 0 arg00)))\n"
     ]
    },
    {
     "name": "stdout",
     "output_type": "stream",
     "text": [
      "179223,62,184,1515,663356.0,0,47506024,31,405,0,645815.0,4108,21126,281545,285578,282417,0,0,31,-1,24670,1136,1,0,0,0,0,0,0,0,0,0,8545,0,1314,0,81,0,4,0,0,1,0,0,117,14,19,5578,54049,36348,0,0,0,17141,604,5735,2515,0,0,0,0,0,0,1,105,146,0,13082,0,1324,32,6630,25,0,6,0,0,0,0,0,0,0,0,(Eq 95 (Read w8 0 arg00))\n",
      "179223,62,184,1515,675207.0,0,47506024,31,405,0,574665.0,4108,21126,257503,261246,258295,0,0,31,-1,24670,1136,1,0,0,0,0,0,0,0,0,0,8545,0,1314,0,81,0,4,0,0,1,0,0,117,14,19,5578,54049,36348,0,0,0,17141,604,5735,2515,0,0,0,0,0,0,1,105,146,0,13082,0,1324,32,6630,25,0,6,0,0,0,0,0,0,0,0,(Eq false      (Eq 95 (Read w8 0 arg00)))\n",
      "179223,62,184,1515,810768.0,0,47506024,31,405,0,572328.0,4108,21126,267329,271391,268188,0,0,31,-1,24670,1136,1,0,0,0,0,0,0,0,0,0,8545,0,1314,0,81,0,4,0,0,1,0,0,117,14,19,5578,54049,36348,0,0,0,17141,604,5735,2515,0,0,0,0,0,0,1,105,146,0,13082,0,1324,32,6630,25,0,6,0,0,0,0,0,0,0,0,(Eq 84 (Read w8 0 arg00))\n",
      "179223,62,184,1515,755922.0,0,47504488,31,405,0,658579.0,4108,21126,268856,273622,269793,0,0,31,-1,24670,1136,1,0,0,0,0,0,0,0,0,0,8545,0,1314,0,81,0,4,0,0,1,0,0,117,14,19,5578,54049,36348,0,0,0,17141,604,5735,2515,0,0,0,0,0,0,1,105,146,0,13082,0,1324,32,6630,25,0,6,0,0,0,0,0,0,0,0,(Eq false      (Eq 84 (Read w8 0 arg00)))\n",
      "179223,62,184,1515,803197.0,0,47506024,31,405,0,683840.0,4108,21126,293489,297950,294459,0,0,31,-1,24670,1136,1,0,0,0,0,0,0,0,0,0,8545,0,1314,0,81,0,4,0,0,1,0,0,117,14,19,5578,54049,36348,0,0,0,17141,604,5735,2515,0,0,0,0,0,0,1,105,146,0,13082,0,1324,32,6630,25,0,6,0,0,0,0,0,0,0,0,(Eq 88 (Read w8 0 arg00))\n",
      "179223,62,184,1515,869237.0,0,47506024,31,405,0,642256.0,4108,21126,246780,250988,247649,0,0,31,-1,24670,1136,1,0,0,0,0,0,0,0,0,0,8545,0,1314,0,81,0,4,0,0,1,0,0,117,14,19,5578,54049,36348,0,0,0,17141,604,5735,2515,0,0,0,0,0,0,1,105,146,0,13082,0,1324,32,6630,25,0,6,0,0,0,0,0,0,0,0,(Eq false      (Eq 88 (Read w8 0 arg00)))\n",
      "179223,62,184,1515,868036.0,0,47506024,31,405,0,670740.0,4108,21126,269768,274238,270711,0,0,31,-1,24670,1136,1,0,0,0,0,0,0,0,0,0,8545,0,1314,0,81,0,4,0,0,1,0,0,117,14,19,5578,54049,36348,0,0,0,17141,604,5735,2515,0,0,0,0,0,0,1,105,146,0,13082,0,1324,32,6630,25,0,6,0,0,0,0,0,0,0,0,(Eq 80 (Read w8 0 arg00))\n",
      "179223,62,184,1515,826213.0,0,47506024,31,405,0,607679.0,4108,21126,260475,264933,261433,0,0,31,-1,24670,1136,1,0,0,0,0,0,0,0,0,0,8545,0,1314,0,81,0,4,0,0,1,0,0,117,14,19,5578,54049,36348,0,0,0,17141,604,5735,2515,0,0,0,0,0,0,1,105,146,0,13082,0,1324,32,6630,25,0,6,0,0,0,0,0,0,0,0,(Eq false      (Eq 80 (Read w8 0 arg00)))\n",
      "179223,62,184,1515,766749.0,0,47506024,31,405,0,578950.0,4108,21126,255096,259374,256023,0,0,31,-1,24670,1136,1,0,0,0,0,0,0,0,0,0,8545,0,1314,0,81,0,4,0,0,1,0,0,117,14,19,5578,54049,36348,0,0,0,17141,604,5735,2515,0,0,0,0,0,0,1,105,146,0,13082,0,1324,32,6630,25,0,6,0,0,0,0,0,0,0,0,(Eq 88 (Read w8 0 arg00))\n",
      "179223,62,184,1515,837360.0,0,47506024,31,405,0,680965.0,4108,21126,289562,293647,290423,0,0,31,-1,24670,1136,1,0,0,0,0,0,0,0,0,0,8545,0,1314,0,81,0,4,0,0,1,0,0,117,14,19,5578,54049,36348,0,0,0,17141,604,5735,2515,0,0,0,0,0,0,1,105,146,0,13082,0,1324,32,6630,25,0,6,0,0,0,0,0,0,0,0,(Eq false      (Eq 88 (Read w8 0 arg00)))\n",
      "179223,62,184,1515,883277.0,0,47506024,31,405,0,711676.0,4108,21126,313033,317581,314103,0,0,31,-1,24670,1136,1,0,0,0,0,0,0,0,0,0,8545,0,1314,0,81,0,4,0,0,1,0,0,117,14,19,5578,54049,36348,0,0,0,17141,604,5735,2515,0,0,0,0,0,0,1,105,146,0,13082,0,1324,32,6630,25,0,6,0,0,0,0,0,0,0,0,(Eq 83 (Read w8 0 arg00))\n",
      "179223,62,184,1515,801513.0,0,47506024,31,405,0,694167.0,4108,21126,304797,309058,305726,0,0,31,-1,24670,1136,1,0,0,0,0,0,0,0,0,0,8545,0,1314,0,81,0,4,0,0,1,0,0,117,14,19,5578,54049,36348,0,0,0,17141,604,5735,2515,0,0,0,0,0,0,1,105,146,0,13082,0,1324,32,6630,25,0,6,0,0,0,0,0,0,0,0,(Eq false      (Eq 83 (Read w8 0 arg00)))\n",
      "179223,62,184,1515,885507.0,0,47506024,31,405,0,759492.0,4108,21126,341615,345834,342456,0,0,31,-1,24670,1136,1,0,0,0,0,0,0,0,0,0,8545,0,1314,0,81,0,4,0,0,1,0,0,117,14,19,5578,54049,36348,0,0,0,17141,604,5735,2515,0,0,0,0,0,0,1,105,146,0,13082,0,1324,32,6630,25,0,6,0,0,0,0,0,0,0,0,(Eq 76 (Read w8 0 arg00))\n",
      "179223,62,184,1515,764469.0,0,47506024,31,405,0,665188.0,4108,21126,315777,320129,316675,0,0,31,-1,24670,1136,1,0,0,0,0,0,0,0,0,0,8545,0,1314,0,81,0,4,0,0,1,0,0,117,14,19,5578,54049,36348,0,0,0,17141,604,5735,2515,0,0,0,0,0,0,1,105,146,0,13082,0,1324,32,6630,25,0,6,0,0,0,0,0,0,0,0,(Eq false      (Eq 76 (Read w8 0 arg00)))\n",
      "179223,62,184,1515,938857.0,0,47506024,31,405,0,640944.0,4108,21126,260145,264648,261147,0,0,31,-1,24670,1136,1,0,0,0,0,0,0,0,0,0,8545,0,1314,0,81,0,4,0,0,1,0,0,117,14,19,5578,54049,36348,0,0,0,17141,604,5735,2515,0,0,0,0,0,0,1,105,146,0,13082,0,1324,32,6630,25,0,6,0,0,0,0,0,0,0,0,(Eq 88 (Read w8 0 arg00))\n",
      "179223,62,184,1515,860717.0,0,47504488,31,405,0,846053.0,4108,21126,335928,340357,336843,0,0,31,-1,24670,1136,1,0,0,0,0,0,0,0,0,0,8545,0,1314,0,81,0,4,0,0,1,0,0,117,14,19,5578,54049,36348,0,0,0,17141,604,5735,2515,0,0,0,0,0,0,1,105,146,0,13082,0,1324,32,6630,25,0,6,0,0,0,0,0,0,0,0,(Eq false      (Eq 88 (Read w8 0 arg00)))\n",
      "179223,62,184,1515,843659.0,0,47506024,31,405,0,733192.0,4108,21126,315118,322137,316627,0,0,31,-1,24670,1136,1,0,0,0,0,0,0,0,0,0,8545,0,1314,0,81,0,4,0,0,1,0,0,117,14,19,5578,54049,36348,0,0,0,17141,604,5735,2515,0,0,0,0,0,0,1,105,146,0,13082,0,1324,32,6630,25,0,6,0,0,0,0,0,0,0,0,(Eq 79 (Read w8 0 arg00))\n",
      "179223,62,184,1515,889671.0,0,47504488,31,405,0,650208.0,4108,21126,295117,299431,296020,0,0,31,-1,24670,1136,1,0,0,0,0,0,0,0,0,0,8545,0,1314,0,81,0,4,0,0,1,0,0,117,14,19,5578,54049,36348,0,0,0,17141,604,5735,2515,0,0,0,0,0,0,1,105,146,0,13082,0,1324,32,6630,25,0,6,0,0,0,0,0,0,0,0,(Eq false      (Eq 79 (Read w8 0 arg00)))\n",
      "179223,62,184,1515,725297.0,0,47504488,31,405,0,658302.0,4108,21126,279679,283624,280545,0,0,31,-1,24670,1136,1,0,0,0,0,0,0,0,0,0,8545,0,1314,0,81,0,4,0,0,1,0,0,117,14,19,5578,54049,36348,0,0,0,17141,604,5735,2515,0,0,0,0,0,0,1,105,146,0,13082,0,1324,32,6630,25,0,6,0,0,0,0,0,0,0,0,(Eq 71 (Read w8 0 arg00))\n",
      "179223,62,184,1515,815163.0,0,47506024,31,405,0,689894.0,4108,21126,291208,295721,292160,0,0,31,-1,24670,1136,1,0,0,0,0,0,0,0,0,0,8545,0,1314,0,81,0,4,0,0,1,0,0,117,14,19,5578,54049,36348,0,0,0,17141,604,5735,2515,0,0,0,0,0,0,1,105,146,0,13082,0,1324,32,6630,25,0,6,0,0,0,0,0,0,0,0,(Eq false      (Eq 71 (Read w8 0 arg00)))\n",
      "179223,62,184,1515,596804.0,0,47506024,31,405,0,579883.0,4108,21126,260106,264331,260979,0,0,31,-1,24670,1136,1,0,0,0,0,0,0,0,0,0,8545,0,1314,0,81,0,4,0,0,1,0,0,117,14,19,5578,54049,36348,0,0,0,17141,604,5735,2515,0,0,0,0,0,0,1,105,146,0,13082,0,1324,32,6630,25,0,6,0,0,0,0,0,0,0,0,(Eq 83 (Read w8 0 arg00))\n",
      "179223,62,184,1515,805384.0,0,47506024,31,405,0,687781.0,4108,21126,274657,279099,275535,0,0,31,-1,24670,1136,1,0,0,0,0,0,0,0,0,0,8545,0,1314,0,81,0,4,0,0,1,0,0,117,14,19,5578,54049,36348,0,0,0,17141,604,5735,2515,0,0,0,0,0,0,1,105,146,0,13082,0,1324,32,6630,25,0,6,0,0,0,0,0,0,0,0,(Eq false      (Eq 83 (Read w8 0 arg00)))\n",
      "179223,62,184,1515,900002.0,0,47506024,31,405,0,718474.0,4108,21126,316139,320543,317074,0,0,31,-1,24670,1136,1,0,0,0,0,0,0,0,0,0,8545,0,1314,0,81,0,4,0,0,1,0,0,117,14,19,5578,54049,36348,0,0,0,17141,604,5735,2515,0,0,0,0,0,0,1,105,146,0,13082,0,1324,32,6630,25,0,6,0,0,0,0,0,0,0,0,(Eq 79 (Read w8 0 arg00))\n",
      "179223,62,184,1515,860727.0,0,47506024,31,405,0,740145.0,4108,21126,330743,335003,331706,0,0,31,-1,24670,1136,1,0,0,0,0,0,0,0,0,0,8545,0,1314,0,81,0,4,0,0,1,0,0,117,14,19,5578,54049,36348,0,0,0,17141,604,5735,2515,0,0,0,0,0,0,1,105,146,0,13082,0,1324,32,6630,25,0,6,0,0,0,0,0,0,0,0,(Eq false      (Eq 79 (Read w8 0 arg00)))\n",
      "179223,62,184,1515,716248.0,0,47506024,31,405,0,672821.0,4108,21126,313453,317712,314399,0,0,31,-1,24670,1136,1,0,0,0,0,0,0,0,0,0,8545,0,1314,0,81,0,4,0,0,1,0,0,117,14,19,5578,54049,36348,0,0,0,17141,604,5735,2515,0,0,0,0,0,0,1,105,146,0,13082,0,1324,32,6630,25,0,6,0,0,0,0,0,0,0,0,(Eq 80 (Read w8 0 arg00))\n",
      "179223,62,184,1515,926241.0,0,47506024,31,405,0,729987.0,4108,21126,321727,326227,322717,0,0,31,-1,24670,1136,1,0,0,0,0,0,0,0,0,0,8545,0,1314,0,81,0,4,0,0,1,0,0,117,14,19,5578,54049,36348,0,0,0,17141,604,5735,2515,0,0,0,0,0,0,1,105,146,0,13082,0,1324,32,6630,25,0,6,0,0,0,0,0,0,0,0,(Eq false      (Eq 80 (Read w8 0 arg00)))\n"
     ]
    },
    {
     "name": "stdout",
     "output_type": "stream",
     "text": [
      "179223,62,184,1515,689094.0,0,47506024,31,405,0,696154.0,4108,21126,324424,328893,325439,0,0,31,-1,24670,1136,1,0,0,0,0,0,0,0,0,0,8545,0,1314,0,81,0,4,0,0,1,0,0,117,14,19,5578,54049,36348,0,0,0,17141,604,5735,2515,0,0,0,0,0,0,1,105,146,0,13082,0,1324,32,6630,25,0,6,0,0,0,0,0,0,0,0,(Eq 88 (Read w8 0 arg00))\n",
      "179223,62,184,1515,849754.0,0,47506024,31,405,0,648718.0,4108,21126,275124,279594,276035,0,0,31,-1,24670,1136,1,0,0,0,0,0,0,0,0,0,8545,0,1314,0,81,0,4,0,0,1,0,0,117,14,19,5578,54049,36348,0,0,0,17141,604,5735,2515,0,0,0,0,0,0,1,105,146,0,13082,0,1324,32,6630,25,0,6,0,0,0,0,0,0,0,0,(Eq false      (Eq 88 (Read w8 0 arg00)))\n",
      "179223,62,184,1515,875853.0,0,47506024,31,405,0,591265.0,4108,21126,265798,270248,266784,0,0,31,-1,24670,1136,1,0,0,0,0,0,0,0,0,0,8545,0,1314,0,81,0,4,0,0,1,0,0,117,14,19,5578,54049,36348,0,0,0,17141,604,5735,2515,0,0,0,0,0,0,1,105,146,0,13082,0,1324,32,6630,25,0,6,0,0,0,0,0,0,0,0,(Eq 74 (Read w8 0 arg00))\n",
      "179223,62,184,1515,783393.0,0,47506024,31,405,0,710723.0,4108,21126,325969,330392,326903,0,0,31,-1,24670,1136,1,0,0,0,0,0,0,0,0,0,8545,0,1314,0,81,0,4,0,0,1,0,0,117,14,19,5578,54049,36348,0,0,0,17141,604,5735,2515,0,0,0,0,0,0,1,105,146,0,13082,0,1324,32,6630,25,0,6,0,0,0,0,0,0,0,0,(Eq false      (Eq 74 (Read w8 0 arg00)))\n",
      "179223,62,184,1515,846749.0,0,47506024,31,405,0,719195.0,4108,21126,326934,331082,327859,0,0,31,-1,24670,1136,1,0,0,0,0,0,0,0,0,0,8545,0,1314,0,81,0,4,0,0,1,0,0,117,14,19,5578,54049,36348,0,0,0,17141,604,5735,2515,0,0,0,0,0,0,1,105,146,0,13082,0,1324,32,6630,25,0,6,0,0,0,0,0,0,0,0,(Eq 83 (Read w8 0 arg00))\n",
      "179223,62,184,1515,804473.0,0,47504488,31,405,0,705271.0,4108,21126,326224,330704,327195,0,0,31,-1,24670,1136,1,0,0,0,0,0,0,0,0,0,8545,0,1314,0,81,0,4,0,0,1,0,0,117,14,19,5578,54049,36348,0,0,0,17141,604,5735,2515,0,0,0,0,0,0,1,105,146,0,13082,0,1324,32,6630,25,0,6,0,0,0,0,0,0,0,0,(Eq false      (Eq 83 (Read w8 0 arg00)))\n",
      "179223,62,184,1515,836221.0,0,47504488,31,405,0,644586.0,4108,21126,262961,267414,263883,0,0,31,-1,24670,1136,1,0,0,0,0,0,0,0,0,0,8545,0,1314,0,81,0,4,0,0,1,0,0,117,14,19,5578,54049,36348,0,0,0,17141,604,5735,2515,0,0,0,0,0,0,1,105,146,0,13082,0,1324,32,6630,25,0,6,0,0,0,0,0,0,0,0,(Eq 77 (Read w8 0 arg00))\n",
      "179223,62,184,1515,691346.0,0,47506024,31,405,0,552464.0,4108,21126,253873,258175,254804,0,0,31,-1,24670,1136,1,0,0,0,0,0,0,0,0,0,8545,0,1314,0,81,0,4,0,0,1,0,0,117,14,19,5578,54049,36348,0,0,0,17141,604,5735,2515,0,0,0,0,0,0,1,105,146,0,13082,0,1324,32,6630,25,0,6,0,0,0,0,0,0,0,0,(Eq false      (Eq 77 (Read w8 0 arg00)))\n",
      "179223,62,184,1515,866633.0,0,47506024,31,405,0,651862.0,4108,21126,286248,290548,287144,0,0,31,-1,24670,1136,1,0,0,0,0,0,0,0,0,0,8545,0,1314,0,81,0,4,0,0,1,0,0,117,14,19,5578,54049,36348,0,0,0,17141,604,5735,2515,0,0,0,0,0,0,1,105,146,0,13082,0,1324,32,6630,25,0,6,0,0,0,0,0,0,0,0,(Eq 71 (Read w8 0 arg00))\n",
      "173756,58,149,1515,911684.0,0,47440344,31,405,0,729820.0,3666,21568,336036,340480,336973,0,0,31,-1,23911,1103,0,0,0,0,0,0,0,0,0,0,8252,0,1314,0,80,0,4,0,0,1,0,0,94,12,19,5498,52290,35108,0,0,0,16532,517,5708,2512,0,0,0,0,0,0,1,105,137,0,12689,0,1322,1,6515,25,0,6,0,0,0,0,0,0,0,0,(Eq false      (Eq 71 (Read w8 0 arg00)))\n",
      "179223,62,184,1515,754692.0,0,47506024,31,405,0,660213.0,4108,21126,292237,296415,293122,0,0,31,-1,24670,1136,1,0,0,0,0,0,0,0,0,0,8545,0,1314,0,81,0,4,0,0,1,0,0,117,14,19,5578,54049,36348,0,0,0,17141,604,5735,2515,0,0,0,0,0,0,1,105,146,0,13082,0,1324,32,6630,25,0,6,0,0,0,0,0,0,0,0,(Eq 71 (Read w8 0 arg00))\n",
      "179223,62,184,1515,762678.0,0,47506024,31,405,0,661797.0,4108,21126,297728,302094,298570,0,0,31,-1,24670,1136,1,0,0,0,0,0,0,0,0,0,8545,0,1314,0,81,0,4,0,0,1,0,0,117,14,19,5578,54049,36348,0,0,0,17141,604,5735,2515,0,0,0,0,0,0,1,105,146,0,13082,0,1324,32,6630,25,0,6,0,0,0,0,0,0,0,0,(Eq false      (Eq 71 (Read w8 0 arg00)))\n",
      "KLEE: NOTE: Using POSIX model: /home/igandhi/Documents/build/Debug+Asserts/lib/libkleeRuntimePOSIX.bca\n",
      "KLEE: NOTE: Using klee-uclibc : /home/igandhi/Documents/build/Debug+Asserts/lib/klee-uclibc.bca\n",
      "KLEE: output directory is \"/home/igandhi/Documents/profiler/../klee/examples/llvm-coreutils/bitcodes/klee-out-0\"\n",
      "KLEE: Using STP solver backend\n",
      "KLEE: WARNING: undefined reference to function: __ctype_get_mb_cur_max\n",
      "KLEE: WARNING: undefined reference to function: bindtextdomain\n",
      "KLEE: WARNING: undefined reference to function: gettext\n",
      "KLEE: WARNING: undefined reference to function: textdomain\n",
      "KLEE: WARNING: executable has module level assembly (ignoring)\n",
      "KLEE: WARNING ONCE: calling external: syscall(16, 0, 21505, 94702412061152) at klee/runtime/POSIX/fd.c:1007 10\n",
      "KLEE: WARNING ONCE: Alignment of memory from call \"malloc\" is not modelled. Using alignment of 8.\n",
      "KLEE: WARNING ONCE: skipping fork (fork disabled globally)\n",
      "KLEE: WARNING ONCE: calling __klee_posix_wrapped_main with extra arguments.\n",
      "KLEE: WARNING ONCE: calling external: getpagesize() at [no debug info]\n",
      "KLEE: WARNING ONCE: Alignment of memory from call \"calloc\" is not modelled. Using alignment of 8.\n",
      "KLEE: WARNING ONCE: calling external: bindtextdomain(94702411513696, 94702411936480) at [no debug info]\n",
      "KLEE: WARNING ONCE: calling external: textdomain(94702411513696) at [no debug info]\n",
      "KLEE: WARNING ONCE: Alignment of memory from call \"realloc\" is not modelled. Using alignment of 8.\n",
      "forking on condition: (Sle 32\n",
      "      (SExt w32 (Read w8 0 arg00))), line number: 50, position 851\n",
      "forking on condition: (Sle 32\n",
      "      (SExt w32 (Read w8 1 arg00))), line number: 50, position 853\n",
      "forking on condition: (Sle 32\n",
      "      (SExt w32 (Read w8 2 arg00))), line number: 50, position 855\n",
      "forking on condition: (Sle 32\n",
      "      (SExt w32 (Read w8 3 arg00))), line number: 50, position 857\n",
      "forking on condition: (Sle 32\n",
      "      (SExt w32 (Read w8 4 arg00))), line number: 50, position 859\n",
      "forking on condition: (Sle 32\n",
      "      (SExt w32 (Read w8 5 arg00))), line number: 50, position 861\n",
      "forking on condition: (Sle 32\n",
      "      (SExt w32 (Read w8 6 arg00))), line number: 50, position 863\n",
      "forking on condition: (Sle 32\n",
      "      (SExt w32 (Read w8 7 arg00))), line number: 50, position 865\n",
      "forking on condition: (Sle 32\n",
      "      (SExt w32 (Read w8 8 arg00))), line number: 50, position 867\n",
      "forking on condition: (Sle 32\n",
      "      (SExt w32 (Read w8 9 arg00))), line number: 50, position 869\n",
      "forking on condition: (Eq false\n",
      "     (Eq 45 (Read w8 0 arg00))), line number: 478, position 12740\n",
      "forking on condition: (Eq 0 (Read w8 1 arg00)), line number: 478, position 12741\n",
      "forking on condition: (Eq 45 (Read w8 0 arg00)), line number: 35, position 12743\n",
      "forking on condition: (Eq false\n",
      "     (Eq 0 (Read w8 0 arg00))), line number: 34, position 12744\n",
      "forking on condition: (Eq 45 (Read w8 1 arg00)), line number: 35, position 12745\n",
      "forking on condition: (Eq false\n",
      "     (Eq 45 (Read w8 1 arg00))), line number: 488, position 12747\n",
      "forking on condition: (Eq false\n",
      "     (Eq 45 (Read w8 0 arg00))), line number: 517, position 12749\n",
      "forking on condition: (Eq 0 (Read w8 1 arg00)), line number: 517, position 12750\n",
      "forking on condition: (Eq 45 (Read w8 1 arg00)), line number: 549, position 12753\n",
      "forking on condition: (Eq 48\n",
      "     (Extract w8 0 (SExt w32 (Read w8 (Extract w32 0 (Add w64 1\n",
      "                                                              (SExt w64 (ZExt w32 (Eq 45 (Read w8 1 arg00))))))\n",
      "                                      [10=0] @ arg00)))), line number: 21, position 12755\n",
      "forking on condition: (Eq 49\n",
      "     (Extract w8 0 (SExt w32 (Read w8 (Extract w32 0 (Add w64 1\n",
      "                                                              (SExt w64 (ZExt w32 (Eq 45 (Read w8 1 arg00))))))\n",
      "                                      [10=0] @ arg00)))), line number: 21, position 12757\n",
      "forking on condition: (Eq 50\n",
      "     (Extract w8 0 (SExt w32 (Read w8 (Extract w32 0 (Add w64 1\n",
      "                                                              (SExt w64 (ZExt w32 (Eq 45 (Read w8 1 arg00))))))\n",
      "                                      [10=0] @ arg00)))), line number: 21, position 12759\n",
      "forking on condition: (Eq 0\n",
      "     (Read w8 (Extract w32 0 (Add w64 2\n",
      "                                      (SExt w64 (ZExt w32 (Eq 45 (Read w8 1 arg00))))))\n",
      "              [10=0] @ arg00)), line number: 815, position 12760\n",
      "forking on condition: (Eq 58\n",
      "     (Read w8 (Extract w32 0 (Add w64 1\n",
      "                                      (SExt w64 (ZExt w32 (Eq 45 (Read w8 1 arg00))))))\n"
     ]
    },
    {
     "name": "stdout",
     "output_type": "stream",
     "text": [
      "              [10=0] @ arg00)), line number: 818, position 12762\n",
      "forking on condition: (Eq 255\n",
      "     (Read w8 (Extract w32 0 (Add w64 1\n",
      "                                      (SExt w64 (ZExt w32 (Eq 45 (Read w8 1 arg00))))))\n",
      "              [10=0] @ arg00)), line number: 0, position 12764\n",
      "forking on condition: (Ult (SExt w64 (Add w32 4294967248\n",
      "                         (SExt w32 (Read w8 (Extract w32 0 (Add w64 1\n",
      "                                                                    (SExt w64 (ZExt w32 (Eq 45 (Read w8 1 arg00))))))\n",
      "                                            [10=0] @ arg00))))\n",
      "      0), line number: 0, position 12769\n",
      "forking on condition: (Eq 0\n",
      "     (Read w8 (Extract w32 0 (Add w64 2\n",
      "                                      (SExt w64 (ZExt w32 (Eq 45 (Read w8 1 arg00))))))\n",
      "              [10=0] @ arg00)), line number: 453, position 12776\n",
      "forking on condition: (Eq 45 (Read w8 1 arg00)), line number: 549, position 12778\n",
      "forking on condition: (Eq 48\n",
      "     (Extract w8 0 (SExt w32 (Read w8 (Extract w32 0 (Add w64 2\n",
      "                                                              (SExt w64 (ZExt w32 (Eq 45 (Read w8 1 arg00))))))\n",
      "                                      [10=0] @ arg00)))), line number: 21, position 12780\n",
      "forking on condition: (Eq 49\n",
      "     (Extract w8 0 (SExt w32 (Read w8 (Extract w32 0 (Add w64 2\n",
      "                                                              (SExt w64 (ZExt w32 (Eq 45 (Read w8 1 arg00))))))\n",
      "                                      [10=0] @ arg00)))), line number: 21, position 12782\n",
      "forking on condition: (Eq 50\n",
      "     (Extract w8 0 (SExt w32 (Read w8 (Extract w32 0 (Add w64 2\n",
      "                                                              (SExt w64 (ZExt w32 (Eq 45 (Read w8 1 arg00))))))\n",
      "                                      [10=0] @ arg00)))), line number: 21, position 12784\n",
      "forking on condition: (Eq 51\n",
      "     (Extract w8 0 (SExt w32 (Read w8 (Extract w32 0 (Add w64 2\n",
      "                                                              (SExt w64 (ZExt w32 (Eq 45 (Read w8 1 arg00))))))\n",
      "                                      [10=0] @ arg00)))), line number: 21, position 12786\n",
      "forking on condition: (Eq 52\n",
      "     (Extract w8 0 (SExt w32 (Read w8 (Extract w32 0 (Add w64 2\n",
      "                                                              (SExt w64 (ZExt w32 (Eq 45 (Read w8 1 arg00))))))\n",
      "                                      [10=0] @ arg00)))), line number: 21, position 12788\n",
      "forking on condition: (Eq 53\n",
      "     (Extract w8 0 (SExt w32 (Read w8 (Extract w32 0 (Add w64 2\n",
      "                                                              (SExt w64 (ZExt w32 (Eq 45 (Read w8 1 arg00))))))\n",
      "                                      [10=0] @ arg00)))), line number: 21, position 12790\n",
      "forking on condition: (Eq 54\n",
      "     (Extract w8 0 (SExt w32 (Read w8 (Extract w32 0 (Add w64 2\n",
      "                                                              (SExt w64 (ZExt w32 (Eq 45 (Read w8 1 arg00))))))\n",
      "                                      [10=0] @ arg00)))), line number: 21, position 12792\n",
      "forking on condition: (Eq 55\n",
      "     (Extract w8 0 (SExt w32 (Read w8 (Extract w32 0 (Add w64 2\n",
      "                                                              (SExt w64 (ZExt w32 (Eq 45 (Read w8 1 arg00))))))\n",
      "                                      [10=0] @ arg00)))), line number: 21, position 12794\n",
      "forking on condition: (Eq 56\n",
      "     (Extract w8 0 (SExt w32 (Read w8 (Extract w32 0 (Add w64 2\n",
      "                                                              (SExt w64 (ZExt w32 (Eq 45 (Read w8 1 arg00))))))\n",
      "                                      [10=0] @ arg00)))), line number: 21, position 12796\n",
      "forking on condition: (Eq 57\n",
      "     (Extract w8 0 (SExt w32 (Read w8 (Extract w32 0 (Add w64 2\n",
      "                                                              (SExt w64 (ZExt w32 (Eq 45 (Read w8 1 arg00))))))\n",
      "                                      [10=0] @ arg00)))), line number: 21, position 12798\n",
      "forking on condition: (Eq 67\n",
      "     (Extract w8 0 (SExt w32 (Read w8 (Extract w32 0 (Add w64 2\n",
      "                                                              (SExt w64 (ZExt w32 (Eq 45 (Read w8 1 arg00))))))\n",
      "                                      [10=0] @ arg00)))), line number: 21, position 12800\n",
      "forking on condition: (Eq 58\n",
      "     (Extract w8 0 (SExt w32 (Read w8 (Extract w32 0 (Add w64 2\n",
      "                                                              (SExt w64 (ZExt w32 (Eq 45 (Read w8 1 arg00))))))\n",
      "                                      [10=0] @ arg00)))), line number: 21, position 12802\n",
      "forking on condition: (Eq 97\n",
      "     (Extract w8 0 (SExt w32 (Read w8 (Extract w32 0 (Add w64 2\n",
      "                                                              (SExt w64 (ZExt w32 (Eq 45 (Read w8 1 arg00))))))\n",
      "                                      [10=0] @ arg00)))), line number: 21, position 12804\n",
      "forking on condition: (Eq 58\n",
      "     (Extract w8 0 (SExt w32 (Read w8 (Extract w32 0 (Add w64 2\n",
      "                                                              (SExt w64 (ZExt w32 (Eq 45 (Read w8 1 arg00))))))\n",
      "                                      [10=0] @ arg00)))), line number: 21, position 12806\n",
      "forking on condition: (Eq 98\n",
      "     (Extract w8 0 (SExt w32 (Read w8 (Extract w32 0 (Add w64 2\n",
      "  KLEE: WARNING ONCE: calling external: vprintf(94702412588832, 94702412749280) at libc/stdio/fprintf.c:35 14\n",
      "KLEE: WARNING ONCE: calling external: gettext(94702412047632) at [no debug info]\n",
      "KLEE: WARNING ONCE: calling close_stdout with extra arguments.\n",
      "../klee/examples/llvm-coreutils/bitcodes/split.bc: invalid option -- \u0000\n",
      "Try '../klee/examples/llvm-coreutils/bitcodes/split.bc --help' for more information.\n",
      "\n",
      "KLEE: done: total instructions = 171835\n",
      "KLEE: done: completed paths = 1\n",
      "KLEE: done: generated tests = 1\n",
      "                                                            (SExt w64 (ZExt w32 (Eq 45 (Read w8 1 arg00))))))\n",
      "                                      [10=0] @ arg00)))), line number: 21, position 12808\n",
      "forking on condition: (Eq 58\n",
      "     (Extract w8 0 (SExt w32 (Read w8 (Extract w32 0 (Add w64 2\n",
      "                                                              (SExt w64 (ZExt w32 (Eq 45 (Read w8 1 arg00))))))\n",
      "                                      [10=0] @ arg00)))), line number: 21, position 12810\n",
      "forking on condition: (Eq 100\n",
      "     (Extract w8 0 (SExt w32 (Read w8 (Extract w32 0 (Add w64 2\n",
      "                                                              (SExt w64 (ZExt w32 (Eq 45 (Read w8 1 arg00))))))\n",
      "                                      [10=0] @ arg00)))), line number: 21, position 12812\n",
      "forking on condition: (Eq 101\n",
      "     (Extract w8 0 (SExt w32 (Read w8 (Extract w32 0 (Add w64 2\n",
      "                                                              (SExt w64 (ZExt w32 (Eq 45 (Read w8 1 arg00))))))\n",
      "                                      [10=0] @ arg00)))), line number: 21, position 12814\n",
      "forking on condition: (Eq 108\n",
      "     (Extract w8 0 (SExt w32 (Read w8 (Extract w32 0 (Add w64 2\n",
      "                                                              (SExt w64 (ZExt w32 (Eq 45 (Read w8 1 arg00))))))\n",
      "                                      [10=0] @ arg00)))), line number: 21, position 12816\n",
      "forking on condition: (Eq 58\n",
      "     (Extract w8 0 (SExt w32 (Read w8 (Extract w32 0 (Add w64 2\n",
      "                                                              (SExt w64 (ZExt w32 (Eq 45 (Read w8 1 arg00))))))\n",
      "                                      [10=0] @ arg00)))), line number: 21, position 12818\n",
      "forking on condition: (Eq 110\n",
      "     (Extract w8 0 (SExt w32 (Read w8 (Extract w32 0 (Add w64 2\n",
      "                                                              (SExt w64 (ZExt w32 (Eq 45 (Read w8 1 arg00))))))\n",
      "                                      [10=0] @ arg00)))), line number: 21, position 12820\n",
      "forking on condition: (Eq 58\n",
      "     (Extract w8 0 (SExt w32 (Read w8 (Extract w32 0 (Add w64 2\n",
      "                                                              (SExt w64 (ZExt w32 (Eq 45 (Read w8 1 arg00))))))\n",
      "                                      [10=0] @ arg00)))), line number: 21, position 12822\n",
      "forking on condition: (Eq 117\n",
      "     (Extract w8 0 (SExt w32 (Read w8 (Extract w32 0 (Add w64 2\n",
      "                                                              (SExt w64 (ZExt w32 (Eq 45 (Read w8 1 arg00))))))\n",
      "                                      [10=0] @ arg00)))), line number: 21, position 12824\n"
     ]
    },
    {
     "name": "stdout",
     "output_type": "stream",
     "text": [
      "forking on condition: (Eq 0\n",
      "     (Extract w8 0 (SExt w32 (Read w8 (Extract w32 0 (Add w64 2\n",
      "                                                              (SExt w64 (ZExt w32 (Eq 45 (Read w8 1 arg00))))))\n",
      "                                      [10=0] @ arg00)))), line number: 21, position 12826\n",
      "forking on condition: (Eq 0\n",
      "     (Read w8 (Extract w32 0 (Add w64 3\n",
      "                                      (SExt w64 (ZExt w32 (Eq 45 (Read w8 1 arg00))))))\n",
      "              [10=0] @ arg00)), line number: 815, position 12828\n",
      "/home/igandhi/Documents/build/bin/klee --search=random-path --no-forking --track-instruction-time --libc=uclibc --posix-runtime --replace-condition=0 --replay-path=\"/home/igandhi/Documents/profiler/../klee/examples/llvm-coreutils/bitcodes/klee-out-0/test000001.path\" ../klee/examples/llvm-coreutils/bitcodes/split.bc  --sym-arg 10\n"
     ]
    },
    {
     "name": "stderr",
     "output_type": "stream",
     "text": [
      "KLEE: NOTE: Using POSIX model: /home/igandhi/Documents/build/Debug+Asserts/lib/libkleeRuntimePOSIX.bca\n",
      "KLEE: NOTE: Using klee-uclibc : /home/igandhi/Documents/build/Debug+Asserts/lib/klee-uclibc.bca\n",
      "KLEE: output directory is \"/home/igandhi/Documents/profiler/../klee/examples/llvm-coreutils/bitcodes/klee-out-1\"\n",
      "KLEE: Using STP solver backend\n",
      "KLEE: WARNING: undefined reference to function: __ctype_get_mb_cur_max\n",
      "KLEE: WARNING: undefined reference to function: bindtextdomain\n",
      "KLEE: WARNING: undefined reference to function: gettext\n",
      "KLEE: WARNING: undefined reference to function: textdomain\n",
      "KLEE: WARNING: executable has module level assembly (ignoring)\n",
      "KLEE: WARNING ONCE: calling external: syscall(16, 0, 21505, 94683506059664) at klee/runtime/POSIX/fd.c:1007 10\n",
      "KLEE: WARNING ONCE: Alignment of memory from call \"malloc\" is not modelled. Using alignment of 8.\n",
      "KLEE: WARNING ONCE: calling __klee_posix_wrapped_main with extra arguments.\n",
      "KLEE: WARNING ONCE: calling external: getpagesize() at [no debug info]\n",
      "KLEE: WARNING ONCE: Alignment of memory from call \"calloc\" is not modelled. Using alignment of 8.\n",
      "KLEE: WARNING ONCE: calling external: bindtextdomain(94683505516384, 94683505939168) at [no debug info]\n",
      "KLEE: WARNING ONCE: calling external: textdomain(94683505516384) at [no debug info]\n",
      "KLEE: WARNING ONCE: Alignment of memory from call \"realloc\" is not modelled. Using alignment of 8.\n",
      "KLEE: WARNING ONCE: calling external: vprintf(94683506591520, 94683506751968) at libc/stdio/fprintf.c:35 14\n",
      "KLEE: WARNING ONCE: calling external: gettext(94683506050320) at [no debug info]\n",
      "KLEE: WARNING ONCE: calling close_stdout with extra arguments.\n",
      "\n",
      "KLEE: done: total instructions = 171835\n",
      "KLEE: done: completed paths = 1\n",
      "KLEE: done: generated tests = 1\n"
     ]
    },
    {
     "name": "stdout",
     "output_type": "stream",
     "text": [
      "/home/igandhi/Documents/build/bin/klee --search=random-path --no-forking --track-instruction-time --libc=uclibc --posix-runtime --replace-condition=851 --replay-path=\"/home/igandhi/Documents/profiler/../klee/examples/llvm-coreutils/bitcodes/klee-out-0/test000001.path\" ../klee/examples/llvm-coreutils/bitcodes/split.bc  --sym-arg 10\n"
     ]
    },
    {
     "name": "stderr",
     "output_type": "stream",
     "text": [
      "KLEE: NOTE: Using POSIX model: /home/igandhi/Documents/build/Debug+Asserts/lib/libkleeRuntimePOSIX.bca\n",
      "KLEE: NOTE: Using klee-uclibc : /home/igandhi/Documents/build/Debug+Asserts/lib/klee-uclibc.bca\n",
      "KLEE: output directory is \"/home/igandhi/Documents/profiler/../klee/examples/llvm-coreutils/bitcodes/klee-out-2\"\n",
      "KLEE: Using STP solver backend\n",
      "KLEE: WARNING: undefined reference to function: __ctype_get_mb_cur_max\n",
      "KLEE: WARNING: undefined reference to function: bindtextdomain\n",
      "KLEE: WARNING: undefined reference to function: gettext\n",
      "KLEE: WARNING: undefined reference to function: textdomain\n",
      "KLEE: WARNING: executable has module level assembly (ignoring)\n",
      "KLEE: WARNING ONCE: calling external: syscall(16, 0, 21505, 94210023743632) at klee/runtime/POSIX/fd.c:1007 10\n",
      "KLEE: WARNING ONCE: Alignment of memory from call \"malloc\" is not modelled. Using alignment of 8.\n",
      "KLEE: WARNING ONCE: calling __klee_posix_wrapped_main with extra arguments.\n",
      "KLEE: WARNING ONCE: calling external: getpagesize() at [no debug info]\n",
      "KLEE: WARNING ONCE: Alignment of memory from call \"calloc\" is not modelled. Using alignment of 8.\n",
      "KLEE: WARNING ONCE: calling external: bindtextdomain(94210022661984, 94210023084768) at [no debug info]\n",
      "KLEE: WARNING ONCE: calling external: textdomain(94210022661984) at [no debug info]\n",
      "KLEE: WARNING ONCE: Alignment of memory from call \"realloc\" is not modelled. Using alignment of 8.\n",
      "KLEE: WARNING ONCE: calling external: vprintf(94210023737120, 94210024531008) at libc/stdio/fprintf.c:35 14\n",
      "KLEE: WARNING ONCE: calling external: gettext(94210023195920) at [no debug info]\n",
      "KLEE: WARNING ONCE: calling close_stdout with extra arguments.\n",
      "\n",
      "KLEE: done: total instructions = 171835\n",
      "KLEE: done: completed paths = 1\n",
      "KLEE: done: generated tests = 1\n"
     ]
    },
    {
     "name": "stdout",
     "output_type": "stream",
     "text": [
      "/home/igandhi/Documents/build/bin/klee --search=random-path --no-forking --track-instruction-time --libc=uclibc --posix-runtime --replace-condition=853 --replay-path=\"/home/igandhi/Documents/profiler/../klee/examples/llvm-coreutils/bitcodes/klee-out-0/test000001.path\" ../klee/examples/llvm-coreutils/bitcodes/split.bc  --sym-arg 10\n"
     ]
    },
    {
     "name": "stderr",
     "output_type": "stream",
     "text": [
      "KLEE: NOTE: Using POSIX model: /home/igandhi/Documents/build/Debug+Asserts/lib/libkleeRuntimePOSIX.bca\n",
      "KLEE: NOTE: Using klee-uclibc : /home/igandhi/Documents/build/Debug+Asserts/lib/klee-uclibc.bca\n",
      "KLEE: output directory is \"/home/igandhi/Documents/profiler/../klee/examples/llvm-coreutils/bitcodes/klee-out-3\"\n",
      "KLEE: Using STP solver backend\n",
      "KLEE: WARNING: undefined reference to function: __ctype_get_mb_cur_max\n",
      "KLEE: WARNING: undefined reference to function: bindtextdomain\n",
      "KLEE: WARNING: undefined reference to function: gettext\n",
      "KLEE: WARNING: undefined reference to function: textdomain\n",
      "KLEE: WARNING: executable has module level assembly (ignoring)\n",
      "KLEE: WARNING ONCE: calling external: syscall(16, 0, 21505, 94231173579040) at klee/runtime/POSIX/fd.c:1007 10\n",
      "KLEE: WARNING ONCE: Alignment of memory from call \"malloc\" is not modelled. Using alignment of 8.\n",
      "KLEE: WARNING ONCE: calling __klee_posix_wrapped_main with extra arguments.\n",
      "KLEE: WARNING ONCE: calling external: getpagesize() at [no debug info]\n",
      "KLEE: WARNING ONCE: Alignment of memory from call \"calloc\" is not modelled. Using alignment of 8.\n",
      "KLEE: WARNING ONCE: calling external: bindtextdomain(94231172374368, 94231172797152) at [no debug info]\n",
      "KLEE: WARNING ONCE: calling external: textdomain(94231172374368) at [no debug info]\n",
      "KLEE: WARNING ONCE: Alignment of memory from call \"realloc\" is not modelled. Using alignment of 8.\n",
      "KLEE: WARNING ONCE: calling external: vprintf(94231173449504, 94231173608384) at libc/stdio/fprintf.c:35 14\n",
      "KLEE: WARNING ONCE: calling external: gettext(94231172908304) at [no debug info]\n",
      "KLEE: WARNING ONCE: calling close_stdout with extra arguments.\n",
      "\n",
      "KLEE: done: total instructions = 171835\n",
      "KLEE: done: completed paths = 1\n",
      "KLEE: done: generated tests = 1\n"
     ]
    },
    {
     "name": "stdout",
     "output_type": "stream",
     "text": [
      "/home/igandhi/Documents/build/bin/klee --search=random-path --no-forking --track-instruction-time --libc=uclibc --posix-runtime --replace-condition=855 --replay-path=\"/home/igandhi/Documents/profiler/../klee/examples/llvm-coreutils/bitcodes/klee-out-0/test000001.path\" ../klee/examples/llvm-coreutils/bitcodes/split.bc  --sym-arg 10\n"
     ]
    },
    {
     "name": "stderr",
     "output_type": "stream",
     "text": [
      "KLEE: NOTE: Using POSIX model: /home/igandhi/Documents/build/Debug+Asserts/lib/libkleeRuntimePOSIX.bca\n",
      "KLEE: NOTE: Using klee-uclibc : /home/igandhi/Documents/build/Debug+Asserts/lib/klee-uclibc.bca\n",
      "KLEE: output directory is \"/home/igandhi/Documents/profiler/../klee/examples/llvm-coreutils/bitcodes/klee-out-4\"\n",
      "KLEE: Using STP solver backend\n",
      "KLEE: WARNING: undefined reference to function: __ctype_get_mb_cur_max\n",
      "KLEE: WARNING: undefined reference to function: bindtextdomain\n",
      "KLEE: WARNING: undefined reference to function: gettext\n",
      "KLEE: WARNING: undefined reference to function: textdomain\n",
      "KLEE: WARNING: executable has module level assembly (ignoring)\n",
      "KLEE: WARNING ONCE: calling external: syscall(16, 0, 21505, 94337163178352) at klee/runtime/POSIX/fd.c:1007 10\n",
      "KLEE: WARNING ONCE: Alignment of memory from call \"malloc\" is not modelled. Using alignment of 8.\n",
      "KLEE: WARNING ONCE: calling __klee_posix_wrapped_main with extra arguments.\n",
      "KLEE: WARNING ONCE: calling external: getpagesize() at [no debug info]\n",
      "KLEE: WARNING ONCE: Alignment of memory from call \"calloc\" is not modelled. Using alignment of 8.\n",
      "KLEE: WARNING ONCE: calling external: bindtextdomain(94337162633056, 94337163055840) at [no debug info]\n",
      "KLEE: WARNING ONCE: calling external: textdomain(94337162633056) at [no debug info]\n",
      "KLEE: WARNING ONCE: Alignment of memory from call \"realloc\" is not modelled. Using alignment of 8.\n",
      "KLEE: WARNING ONCE: calling external: vprintf(94337163708192, 94337164019264) at libc/stdio/fprintf.c:35 14\n",
      "KLEE: WARNING ONCE: calling external: gettext(94337163167040) at [no debug info]\n",
      "KLEE: WARNING ONCE: calling close_stdout with extra arguments.\n",
      "\n",
      "KLEE: done: total instructions = 171835\n",
      "KLEE: done: completed paths = 1\n",
      "KLEE: done: generated tests = 1\n"
     ]
    },
    {
     "name": "stdout",
     "output_type": "stream",
     "text": [
      "/home/igandhi/Documents/build/bin/klee --search=random-path --no-forking --track-instruction-time --libc=uclibc --posix-runtime --replace-condition=857 --replay-path=\"/home/igandhi/Documents/profiler/../klee/examples/llvm-coreutils/bitcodes/klee-out-0/test000001.path\" ../klee/examples/llvm-coreutils/bitcodes/split.bc  --sym-arg 10\n"
     ]
    },
    {
     "name": "stderr",
     "output_type": "stream",
     "text": [
      "KLEE: NOTE: Using POSIX model: /home/igandhi/Documents/build/Debug+Asserts/lib/libkleeRuntimePOSIX.bca\n",
      "KLEE: NOTE: Using klee-uclibc : /home/igandhi/Documents/build/Debug+Asserts/lib/klee-uclibc.bca\n",
      "KLEE: output directory is \"/home/igandhi/Documents/profiler/../klee/examples/llvm-coreutils/bitcodes/klee-out-5\"\n",
      "KLEE: Using STP solver backend\n",
      "KLEE: WARNING: undefined reference to function: __ctype_get_mb_cur_max\n",
      "KLEE: WARNING: undefined reference to function: bindtextdomain\n",
      "KLEE: WARNING: undefined reference to function: gettext\n",
      "KLEE: WARNING: undefined reference to function: textdomain\n",
      "KLEE: WARNING: executable has module level assembly (ignoring)\n",
      "KLEE: WARNING ONCE: calling external: syscall(16, 0, 21505, 94840818050272) at klee/runtime/POSIX/fd.c:1007 10\n",
      "KLEE: WARNING ONCE: Alignment of memory from call \"malloc\" is not modelled. Using alignment of 8.\n",
      "KLEE: WARNING ONCE: calling __klee_posix_wrapped_main with extra arguments.\n",
      "KLEE: WARNING ONCE: calling external: getpagesize() at [no debug info]\n",
      "KLEE: WARNING ONCE: Alignment of memory from call \"calloc\" is not modelled. Using alignment of 8.\n",
      "KLEE: WARNING ONCE: calling external: bindtextdomain(94840817508192, 94840817930976) at [no debug info]\n",
      "KLEE: WARNING ONCE: calling external: textdomain(94840817508192) at [no debug info]\n",
      "KLEE: WARNING ONCE: Alignment of memory from call \"realloc\" is not modelled. Using alignment of 8.\n",
      "KLEE: WARNING ONCE: calling external: vprintf(94840818583328, 94840818894400) at libc/stdio/fprintf.c:35 14\n",
      "KLEE: WARNING ONCE: calling external: gettext(94840818042128) at [no debug info]\n",
      "KLEE: WARNING ONCE: calling close_stdout with extra arguments.\n",
      "\n",
      "KLEE: done: total instructions = 171835\n",
      "KLEE: done: completed paths = 1\n",
      "KLEE: done: generated tests = 1\n"
     ]
    },
    {
     "name": "stdout",
     "output_type": "stream",
     "text": [
      "/home/igandhi/Documents/build/bin/klee --search=random-path --no-forking --track-instruction-time --libc=uclibc --posix-runtime --replace-condition=859 --replay-path=\"/home/igandhi/Documents/profiler/../klee/examples/llvm-coreutils/bitcodes/klee-out-0/test000001.path\" ../klee/examples/llvm-coreutils/bitcodes/split.bc  --sym-arg 10\n"
     ]
    },
    {
     "name": "stderr",
     "output_type": "stream",
     "text": [
      "KLEE: NOTE: Using POSIX model: /home/igandhi/Documents/build/Debug+Asserts/lib/libkleeRuntimePOSIX.bca\n",
      "KLEE: NOTE: Using klee-uclibc : /home/igandhi/Documents/build/Debug+Asserts/lib/klee-uclibc.bca\n",
      "KLEE: output directory is \"/home/igandhi/Documents/profiler/../klee/examples/llvm-coreutils/bitcodes/klee-out-6\"\n",
      "KLEE: Using STP solver backend\n",
      "KLEE: WARNING: undefined reference to function: __ctype_get_mb_cur_max\n",
      "KLEE: WARNING: undefined reference to function: bindtextdomain\n",
      "KLEE: WARNING: undefined reference to function: gettext\n",
      "KLEE: WARNING: undefined reference to function: textdomain\n",
      "KLEE: WARNING: executable has module level assembly (ignoring)\n",
      "KLEE: WARNING ONCE: calling external: syscall(16, 0, 21505, 94009205932320) at klee/runtime/POSIX/fd.c:1007 10\n",
      "KLEE: WARNING ONCE: Alignment of memory from call \"malloc\" is not modelled. Using alignment of 8.\n",
      "KLEE: WARNING ONCE: calling __klee_posix_wrapped_main with extra arguments.\n",
      "KLEE: WARNING ONCE: calling external: getpagesize() at [no debug info]\n",
      "KLEE: WARNING ONCE: Alignment of memory from call \"calloc\" is not modelled. Using alignment of 8.\n",
      "KLEE: WARNING ONCE: calling external: bindtextdomain(94009204727648, 94009205150432) at [no debug info]\n",
      "KLEE: WARNING ONCE: calling external: textdomain(94009204727648) at [no debug info]\n",
      "KLEE: WARNING ONCE: Alignment of memory from call \"realloc\" is not modelled. Using alignment of 8.\n",
      "KLEE: WARNING ONCE: calling external: vprintf(94009205802784, 94009206112480) at libc/stdio/fprintf.c:35 14\n",
      "KLEE: WARNING ONCE: calling external: gettext(94009205261584) at [no debug info]\n",
      "KLEE: WARNING ONCE: calling close_stdout with extra arguments.\n",
      "\n",
      "KLEE: done: total instructions = 171835\n",
      "KLEE: done: completed paths = 1\n",
      "KLEE: done: generated tests = 1\n"
     ]
    },
    {
     "name": "stdout",
     "output_type": "stream",
     "text": [
      "/home/igandhi/Documents/build/bin/klee --search=random-path --no-forking --track-instruction-time --libc=uclibc --posix-runtime --replace-condition=861 --replay-path=\"/home/igandhi/Documents/profiler/../klee/examples/llvm-coreutils/bitcodes/klee-out-0/test000001.path\" ../klee/examples/llvm-coreutils/bitcodes/split.bc  --sym-arg 10\n"
     ]
    },
    {
     "name": "stderr",
     "output_type": "stream",
     "text": [
      "KLEE: NOTE: Using POSIX model: /home/igandhi/Documents/build/Debug+Asserts/lib/libkleeRuntimePOSIX.bca\n",
      "KLEE: NOTE: Using klee-uclibc : /home/igandhi/Documents/build/Debug+Asserts/lib/klee-uclibc.bca\n",
      "KLEE: output directory is \"/home/igandhi/Documents/profiler/../klee/examples/llvm-coreutils/bitcodes/klee-out-7\"\n",
      "KLEE: Using STP solver backend\n",
      "KLEE: WARNING: undefined reference to function: __ctype_get_mb_cur_max\n",
      "KLEE: WARNING: undefined reference to function: bindtextdomain\n",
      "KLEE: WARNING: undefined reference to function: gettext\n",
      "KLEE: WARNING: undefined reference to function: textdomain\n",
      "KLEE: WARNING: executable has module level assembly (ignoring)\n",
      "KLEE: WARNING ONCE: calling external: syscall(16, 0, 21505, 93825747730720) at klee/runtime/POSIX/fd.c:1007 10\n",
      "KLEE: WARNING ONCE: Alignment of memory from call \"malloc\" is not modelled. Using alignment of 8.\n",
      "KLEE: WARNING ONCE: calling __klee_posix_wrapped_main with extra arguments.\n",
      "KLEE: WARNING ONCE: calling external: getpagesize() at [no debug info]\n",
      "KLEE: WARNING ONCE: Alignment of memory from call \"calloc\" is not modelled. Using alignment of 8.\n",
      "KLEE: WARNING ONCE: calling external: bindtextdomain(93825746526048, 93825746948832) at [no debug info]\n",
      "KLEE: WARNING ONCE: calling external: textdomain(93825746526048) at [no debug info]\n",
      "KLEE: WARNING ONCE: Alignment of memory from call \"realloc\" is not modelled. Using alignment of 8.\n",
      "KLEE: WARNING ONCE: calling external: vprintf(93825747601184, 93825747910976) at libc/stdio/fprintf.c:35 14\n",
      "KLEE: WARNING ONCE: calling external: gettext(93825747059984) at [no debug info]\n",
      "KLEE: WARNING ONCE: calling close_stdout with extra arguments.\n",
      "\n",
      "KLEE: done: total instructions = 171835\n",
      "KLEE: done: completed paths = 1\n",
      "KLEE: done: generated tests = 1\n"
     ]
    },
    {
     "name": "stdout",
     "output_type": "stream",
     "text": [
      "/home/igandhi/Documents/build/bin/klee --search=random-path --no-forking --track-instruction-time --libc=uclibc --posix-runtime --replace-condition=863 --replay-path=\"/home/igandhi/Documents/profiler/../klee/examples/llvm-coreutils/bitcodes/klee-out-0/test000001.path\" ../klee/examples/llvm-coreutils/bitcodes/split.bc  --sym-arg 10\n"
     ]
    },
    {
     "name": "stderr",
     "output_type": "stream",
     "text": [
      "KLEE: NOTE: Using POSIX model: /home/igandhi/Documents/build/Debug+Asserts/lib/libkleeRuntimePOSIX.bca\n",
      "KLEE: NOTE: Using klee-uclibc : /home/igandhi/Documents/build/Debug+Asserts/lib/klee-uclibc.bca\n",
      "KLEE: output directory is \"/home/igandhi/Documents/profiler/../klee/examples/llvm-coreutils/bitcodes/klee-out-8\"\n",
      "KLEE: Using STP solver backend\n",
      "KLEE: WARNING: undefined reference to function: __ctype_get_mb_cur_max\n",
      "KLEE: WARNING: undefined reference to function: bindtextdomain\n",
      "KLEE: WARNING: undefined reference to function: gettext\n",
      "KLEE: WARNING: undefined reference to function: textdomain\n",
      "KLEE: WARNING: executable has module level assembly (ignoring)\n",
      "KLEE: WARNING ONCE: calling external: syscall(16, 0, 21505, 93895281467680) at klee/runtime/POSIX/fd.c:1007 10\n",
      "KLEE: WARNING ONCE: Alignment of memory from call \"malloc\" is not modelled. Using alignment of 8.\n",
      "KLEE: WARNING ONCE: calling __klee_posix_wrapped_main with extra arguments.\n",
      "KLEE: WARNING ONCE: calling external: getpagesize() at [no debug info]\n",
      "KLEE: WARNING ONCE: Alignment of memory from call \"calloc\" is not modelled. Using alignment of 8.\n",
      "KLEE: WARNING ONCE: calling external: bindtextdomain(93895280263008, 93895280685792) at [no debug info]\n",
      "KLEE: WARNING ONCE: calling external: textdomain(93895280263008) at [no debug info]\n",
      "KLEE: WARNING ONCE: Alignment of memory from call \"realloc\" is not modelled. Using alignment of 8.\n",
      "KLEE: WARNING ONCE: calling external: vprintf(93895281338144, 93895281498208) at libc/stdio/fprintf.c:35 14\n",
      "KLEE: WARNING ONCE: calling external: gettext(93895280796944) at [no debug info]\n",
      "KLEE: WARNING ONCE: calling close_stdout with extra arguments.\n",
      "\n",
      "KLEE: done: total instructions = 171835\n",
      "KLEE: done: completed paths = 1\n",
      "KLEE: done: generated tests = 1\n"
     ]
    },
    {
     "name": "stdout",
     "output_type": "stream",
     "text": [
      "/home/igandhi/Documents/build/bin/klee --search=random-path --no-forking --track-instruction-time --libc=uclibc --posix-runtime --replace-condition=865 --replay-path=\"/home/igandhi/Documents/profiler/../klee/examples/llvm-coreutils/bitcodes/klee-out-0/test000001.path\" ../klee/examples/llvm-coreutils/bitcodes/split.bc  --sym-arg 10\n"
     ]
    },
    {
     "name": "stderr",
     "output_type": "stream",
     "text": [
      "KLEE: NOTE: Using POSIX model: /home/igandhi/Documents/build/Debug+Asserts/lib/libkleeRuntimePOSIX.bca\n",
      "KLEE: NOTE: Using klee-uclibc : /home/igandhi/Documents/build/Debug+Asserts/lib/klee-uclibc.bca\n",
      "KLEE: output directory is \"/home/igandhi/Documents/profiler/../klee/examples/llvm-coreutils/bitcodes/klee-out-9\"\n",
      "KLEE: Using STP solver backend\n",
      "KLEE: WARNING: undefined reference to function: __ctype_get_mb_cur_max\n",
      "KLEE: WARNING: undefined reference to function: bindtextdomain\n",
      "KLEE: WARNING: undefined reference to function: gettext\n",
      "KLEE: WARNING: undefined reference to function: textdomain\n",
      "KLEE: WARNING: executable has module level assembly (ignoring)\n",
      "KLEE: WARNING ONCE: calling external: syscall(16, 0, 21505, 94431819571488) at klee/runtime/POSIX/fd.c:1007 10\n",
      "KLEE: WARNING ONCE: Alignment of memory from call \"malloc\" is not modelled. Using alignment of 8.\n",
      "KLEE: WARNING ONCE: calling __klee_posix_wrapped_main with extra arguments.\n",
      "KLEE: WARNING ONCE: calling external: getpagesize() at [no debug info]\n",
      "KLEE: WARNING ONCE: Alignment of memory from call \"calloc\" is not modelled. Using alignment of 8.\n",
      "KLEE: WARNING ONCE: calling external: bindtextdomain(94431794257760, 94431818789600) at [no debug info]\n",
      "KLEE: WARNING ONCE: calling external: textdomain(94431794257760) at [no debug info]\n",
      "KLEE: WARNING ONCE: Alignment of memory from call \"realloc\" is not modelled. Using alignment of 8.\n",
      "KLEE: WARNING ONCE: calling external: vprintf(94431819441952, 94431819602016) at libc/stdio/fprintf.c:35 14\n",
      "KLEE: WARNING ONCE: calling external: gettext(94431818900752) at [no debug info]\n",
      "KLEE: WARNING ONCE: calling close_stdout with extra arguments.\n",
      "\n",
      "KLEE: done: total instructions = 171835\n",
      "KLEE: done: completed paths = 1\n",
      "KLEE: done: generated tests = 1\n"
     ]
    },
    {
     "name": "stdout",
     "output_type": "stream",
     "text": [
      "/home/igandhi/Documents/build/bin/klee --search=random-path --no-forking --track-instruction-time --libc=uclibc --posix-runtime --replace-condition=867 --replay-path=\"/home/igandhi/Documents/profiler/../klee/examples/llvm-coreutils/bitcodes/klee-out-0/test000001.path\" ../klee/examples/llvm-coreutils/bitcodes/split.bc  --sym-arg 10\n"
     ]
    },
    {
     "name": "stderr",
     "output_type": "stream",
     "text": [
      "KLEE: NOTE: Using POSIX model: /home/igandhi/Documents/build/Debug+Asserts/lib/libkleeRuntimePOSIX.bca\n",
      "KLEE: NOTE: Using klee-uclibc : /home/igandhi/Documents/build/Debug+Asserts/lib/klee-uclibc.bca\n",
      "KLEE: output directory is \"/home/igandhi/Documents/profiler/../klee/examples/llvm-coreutils/bitcodes/klee-out-10\"\n",
      "KLEE: Using STP solver backend\n",
      "KLEE: WARNING: undefined reference to function: __ctype_get_mb_cur_max\n",
      "KLEE: WARNING: undefined reference to function: bindtextdomain\n",
      "KLEE: WARNING: undefined reference to function: gettext\n",
      "KLEE: WARNING: undefined reference to function: textdomain\n",
      "KLEE: WARNING: executable has module level assembly (ignoring)\n",
      "KLEE: WARNING ONCE: calling external: syscall(16, 0, 21505, 94278898701376) at klee/runtime/POSIX/fd.c:1007 10\n",
      "KLEE: WARNING ONCE: Alignment of memory from call \"malloc\" is not modelled. Using alignment of 8.\n",
      "KLEE: WARNING ONCE: calling __klee_posix_wrapped_main with extra arguments.\n",
      "KLEE: WARNING ONCE: calling external: getpagesize() at [no debug info]\n",
      "KLEE: WARNING ONCE: Alignment of memory from call \"calloc\" is not modelled. Using alignment of 8.\n",
      "KLEE: WARNING ONCE: calling external: bindtextdomain(94278898196320, 94278898619104) at [no debug info]\n",
      "KLEE: WARNING ONCE: calling external: textdomain(94278898196320) at [no debug info]\n",
      "KLEE: WARNING ONCE: Alignment of memory from call \"realloc\" is not modelled. Using alignment of 8.\n",
      "KLEE: WARNING ONCE: calling external: vprintf(94278899271456, 94278899431904) at libc/stdio/fprintf.c:35 14\n",
      "KLEE: WARNING ONCE: calling external: gettext(94278898730256) at [no debug info]\n",
      "KLEE: WARNING ONCE: calling close_stdout with extra arguments.\n",
      "\n",
      "KLEE: done: total instructions = 171835\n",
      "KLEE: done: completed paths = 1\n",
      "KLEE: done: generated tests = 1\n"
     ]
    },
    {
     "name": "stdout",
     "output_type": "stream",
     "text": [
      "/home/igandhi/Documents/build/bin/klee --search=random-path --no-forking --track-instruction-time --libc=uclibc --posix-runtime --replace-condition=869 --replay-path=\"/home/igandhi/Documents/profiler/../klee/examples/llvm-coreutils/bitcodes/klee-out-0/test000001.path\" ../klee/examples/llvm-coreutils/bitcodes/split.bc  --sym-arg 10\n"
     ]
    },
    {
     "name": "stderr",
     "output_type": "stream",
     "text": [
      "KLEE: NOTE: Using POSIX model: /home/igandhi/Documents/build/Debug+Asserts/lib/libkleeRuntimePOSIX.bca\n",
      "KLEE: NOTE: Using klee-uclibc : /home/igandhi/Documents/build/Debug+Asserts/lib/klee-uclibc.bca\n",
      "KLEE: output directory is \"/home/igandhi/Documents/profiler/../klee/examples/llvm-coreutils/bitcodes/klee-out-11\"\n",
      "KLEE: Using STP solver backend\n",
      "KLEE: WARNING: undefined reference to function: __ctype_get_mb_cur_max\n",
      "KLEE: WARNING: undefined reference to function: bindtextdomain\n",
      "KLEE: WARNING: undefined reference to function: gettext\n",
      "KLEE: WARNING: undefined reference to function: textdomain\n",
      "KLEE: WARNING: executable has module level assembly (ignoring)\n",
      "KLEE: WARNING ONCE: calling external: syscall(16, 0, 21505, 94042826064160) at klee/runtime/POSIX/fd.c:1007 10\n",
      "KLEE: WARNING ONCE: Alignment of memory from call \"malloc\" is not modelled. Using alignment of 8.\n",
      "KLEE: WARNING ONCE: calling __klee_posix_wrapped_main with extra arguments.\n",
      "KLEE: WARNING ONCE: calling external: getpagesize() at [no debug info]\n",
      "KLEE: WARNING ONCE: Alignment of memory from call \"calloc\" is not modelled. Using alignment of 8.\n",
      "KLEE: WARNING ONCE: calling external: bindtextdomain(94042824859488, 94042825282272) at [no debug info]\n",
      "KLEE: WARNING ONCE: calling external: textdomain(94042824859488) at [no debug info]\n",
      "KLEE: WARNING ONCE: Alignment of memory from call \"realloc\" is not modelled. Using alignment of 8.\n",
      "KLEE: WARNING ONCE: calling external: vprintf(94042825934624, 94042826095072) at libc/stdio/fprintf.c:35 14\n",
      "KLEE: WARNING ONCE: calling external: gettext(94042825393424) at [no debug info]\n",
      "KLEE: WARNING ONCE: calling close_stdout with extra arguments.\n",
      "\n",
      "KLEE: done: total instructions = 171835\n",
      "KLEE: done: completed paths = 1\n",
      "KLEE: done: generated tests = 1\n"
     ]
    },
    {
     "name": "stdout",
     "output_type": "stream",
     "text": [
      "/home/igandhi/Documents/build/bin/klee --search=random-path --no-forking --track-instruction-time --libc=uclibc --posix-runtime --replace-condition=12740 --replay-path=\"/home/igandhi/Documents/profiler/../klee/examples/llvm-coreutils/bitcodes/klee-out-0/test000001.path\" ../klee/examples/llvm-coreutils/bitcodes/split.bc  --sym-arg 10\n"
     ]
    },
    {
     "name": "stderr",
     "output_type": "stream",
     "text": [
      "KLEE: NOTE: Using POSIX model: /home/igandhi/Documents/build/Debug+Asserts/lib/libkleeRuntimePOSIX.bca\n",
      "KLEE: NOTE: Using klee-uclibc : /home/igandhi/Documents/build/Debug+Asserts/lib/klee-uclibc.bca\n",
      "KLEE: output directory is \"/home/igandhi/Documents/profiler/../klee/examples/llvm-coreutils/bitcodes/klee-out-12\"\n",
      "KLEE: Using STP solver backend\n",
      "KLEE: WARNING: undefined reference to function: __ctype_get_mb_cur_max\n",
      "KLEE: WARNING: undefined reference to function: bindtextdomain\n",
      "KLEE: WARNING: undefined reference to function: gettext\n",
      "KLEE: WARNING: undefined reference to function: textdomain\n",
      "KLEE: WARNING: executable has module level assembly (ignoring)\n",
      "KLEE: WARNING ONCE: calling external: syscall(16, 0, 21505, 94500217529664) at klee/runtime/POSIX/fd.c:1007 10\n",
      "KLEE: WARNING ONCE: Alignment of memory from call \"malloc\" is not modelled. Using alignment of 8.\n",
      "KLEE: WARNING ONCE: calling __klee_posix_wrapped_main with extra arguments.\n",
      "KLEE: WARNING ONCE: calling external: getpagesize() at [no debug info]\n",
      "KLEE: WARNING ONCE: Alignment of memory from call \"calloc\" is not modelled. Using alignment of 8.\n",
      "KLEE: WARNING ONCE: calling external: bindtextdomain(94500217028448, 94500217451232) at [no debug info]\n",
      "KLEE: WARNING ONCE: calling external: textdomain(94500217028448) at [no debug info]\n",
      "KLEE: WARNING ONCE: Alignment of memory from call \"realloc\" is not modelled. Using alignment of 8.\n",
      "KLEE: WARNING ONCE: calling external: vprintf(94500218103584, 94500218264032) at libc/stdio/fprintf.c:35 14\n",
      "KLEE: WARNING ONCE: calling external: gettext(94500217562384) at [no debug info]\n",
      "KLEE: WARNING ONCE: calling close_stdout with extra arguments.\n",
      "\n",
      "KLEE: done: total instructions = 171835\n",
      "KLEE: done: completed paths = 1\n",
      "KLEE: done: generated tests = 1\n"
     ]
    },
    {
     "name": "stdout",
     "output_type": "stream",
     "text": [
      "/home/igandhi/Documents/build/bin/klee --search=random-path --no-forking --track-instruction-time --libc=uclibc --posix-runtime --replace-condition=12741 --replay-path=\"/home/igandhi/Documents/profiler/../klee/examples/llvm-coreutils/bitcodes/klee-out-0/test000001.path\" ../klee/examples/llvm-coreutils/bitcodes/split.bc  --sym-arg 10\n"
     ]
    },
    {
     "name": "stderr",
     "output_type": "stream",
     "text": [
      "KLEE: NOTE: Using POSIX model: /home/igandhi/Documents/build/Debug+Asserts/lib/libkleeRuntimePOSIX.bca\n",
      "KLEE: NOTE: Using klee-uclibc : /home/igandhi/Documents/build/Debug+Asserts/lib/klee-uclibc.bca\n",
      "KLEE: output directory is \"/home/igandhi/Documents/profiler/../klee/examples/llvm-coreutils/bitcodes/klee-out-13\"\n",
      "KLEE: Using STP solver backend\n",
      "KLEE: WARNING: undefined reference to function: __ctype_get_mb_cur_max\n",
      "KLEE: WARNING: undefined reference to function: bindtextdomain\n",
      "KLEE: WARNING: undefined reference to function: gettext\n",
      "KLEE: WARNING: undefined reference to function: textdomain\n",
      "KLEE: WARNING: executable has module level assembly (ignoring)\n",
      "KLEE: WARNING ONCE: calling external: syscall(16, 0, 21505, 94512258684112) at klee/runtime/POSIX/fd.c:1007 10\n",
      "KLEE: WARNING ONCE: Alignment of memory from call \"malloc\" is not modelled. Using alignment of 8.\n",
      "KLEE: WARNING ONCE: calling __klee_posix_wrapped_main with extra arguments.\n",
      "KLEE: WARNING ONCE: calling external: getpagesize() at [no debug info]\n",
      "KLEE: WARNING ONCE: Alignment of memory from call \"calloc\" is not modelled. Using alignment of 8.\n",
      "KLEE: WARNING ONCE: calling external: bindtextdomain(94512258146144, 94512258568928) at [no debug info]\n",
      "KLEE: WARNING ONCE: calling external: textdomain(94512258146144) at [no debug info]\n",
      "KLEE: WARNING ONCE: Alignment of memory from call \"realloc\" is not modelled. Using alignment of 8.\n",
      "KLEE: WARNING ONCE: calling external: vprintf(94512259221280, 94512259381888) at libc/stdio/fprintf.c:35 14\n",
      "KLEE: WARNING ONCE: calling external: gettext(94512258680080) at [no debug info]\n",
      "KLEE: WARNING ONCE: calling close_stdout with extra arguments.\n",
      "\n",
      "KLEE: done: total instructions = 171835\n",
      "KLEE: done: completed paths = 1\n",
      "KLEE: done: generated tests = 1\n"
     ]
    },
    {
     "name": "stdout",
     "output_type": "stream",
     "text": [
      "/home/igandhi/Documents/build/bin/klee --search=random-path --no-forking --track-instruction-time --libc=uclibc --posix-runtime --replace-condition=12743 --replay-path=\"/home/igandhi/Documents/profiler/../klee/examples/llvm-coreutils/bitcodes/klee-out-0/test000001.path\" ../klee/examples/llvm-coreutils/bitcodes/split.bc  --sym-arg 10\n"
     ]
    },
    {
     "name": "stderr",
     "output_type": "stream",
     "text": [
      "KLEE: NOTE: Using POSIX model: /home/igandhi/Documents/build/Debug+Asserts/lib/libkleeRuntimePOSIX.bca\n",
      "KLEE: NOTE: Using klee-uclibc : /home/igandhi/Documents/build/Debug+Asserts/lib/klee-uclibc.bca\n",
      "KLEE: output directory is \"/home/igandhi/Documents/profiler/../klee/examples/llvm-coreutils/bitcodes/klee-out-14\"\n",
      "KLEE: Using STP solver backend\n",
      "KLEE: WARNING: undefined reference to function: __ctype_get_mb_cur_max\n",
      "KLEE: WARNING: undefined reference to function: bindtextdomain\n",
      "KLEE: WARNING: undefined reference to function: gettext\n",
      "KLEE: WARNING: undefined reference to function: textdomain\n",
      "KLEE: WARNING: executable has module level assembly (ignoring)\n",
      "KLEE: WARNING ONCE: calling external: syscall(16, 0, 21505, 94164572652768) at klee/runtime/POSIX/fd.c:1007 10\n",
      "KLEE: WARNING ONCE: Alignment of memory from call \"malloc\" is not modelled. Using alignment of 8.\n",
      "KLEE: WARNING ONCE: calling __klee_posix_wrapped_main with extra arguments.\n",
      "KLEE: WARNING ONCE: calling external: getpagesize() at [no debug info]\n",
      "KLEE: WARNING ONCE: Alignment of memory from call \"calloc\" is not modelled. Using alignment of 8.\n",
      "KLEE: WARNING ONCE: calling external: bindtextdomain(94164572110688, 94164572533472) at [no debug info]\n",
      "KLEE: WARNING ONCE: calling external: textdomain(94164572110688) at [no debug info]\n",
      "KLEE: WARNING ONCE: Alignment of memory from call \"realloc\" is not modelled. Using alignment of 8.\n",
      "KLEE: WARNING ONCE: calling external: vprintf(94164573185824, 94164573346272) at libc/stdio/fprintf.c:35 14\n",
      "KLEE: WARNING ONCE: calling external: gettext(94164572644624) at [no debug info]\n",
      "KLEE: WARNING ONCE: calling close_stdout with extra arguments.\n",
      "\n",
      "KLEE: done: total instructions = 171835\n",
      "KLEE: done: completed paths = 1\n",
      "KLEE: done: generated tests = 1\n"
     ]
    },
    {
     "name": "stdout",
     "output_type": "stream",
     "text": [
      "/home/igandhi/Documents/build/bin/klee --search=random-path --no-forking --track-instruction-time --libc=uclibc --posix-runtime --replace-condition=12744 --replay-path=\"/home/igandhi/Documents/profiler/../klee/examples/llvm-coreutils/bitcodes/klee-out-0/test000001.path\" ../klee/examples/llvm-coreutils/bitcodes/split.bc  --sym-arg 10\n"
     ]
    },
    {
     "name": "stderr",
     "output_type": "stream",
     "text": [
      "KLEE: NOTE: Using POSIX model: /home/igandhi/Documents/build/Debug+Asserts/lib/libkleeRuntimePOSIX.bca\n",
      "KLEE: NOTE: Using klee-uclibc : /home/igandhi/Documents/build/Debug+Asserts/lib/klee-uclibc.bca\n",
      "KLEE: output directory is \"/home/igandhi/Documents/profiler/../klee/examples/llvm-coreutils/bitcodes/klee-out-15\"\n",
      "KLEE: Using STP solver backend\n",
      "KLEE: WARNING: undefined reference to function: __ctype_get_mb_cur_max\n",
      "KLEE: WARNING: undefined reference to function: bindtextdomain\n",
      "KLEE: WARNING: undefined reference to function: gettext\n",
      "KLEE: WARNING: undefined reference to function: textdomain\n",
      "KLEE: WARNING: executable has module level assembly (ignoring)\n",
      "KLEE: WARNING ONCE: calling external: syscall(16, 0, 21505, 94324868247104) at klee/runtime/POSIX/fd.c:1007 10\n",
      "KLEE: WARNING ONCE: Alignment of memory from call \"malloc\" is not modelled. Using alignment of 8.\n",
      "KLEE: WARNING ONCE: calling __klee_posix_wrapped_main with extra arguments.\n",
      "KLEE: WARNING ONCE: calling external: getpagesize() at [no debug info]\n",
      "KLEE: WARNING ONCE: Alignment of memory from call \"calloc\" is not modelled. Using alignment of 8.\n",
      "KLEE: WARNING ONCE: calling external: bindtextdomain(94324867735392, 94324868158176) at [no debug info]\n",
      "KLEE: WARNING ONCE: calling external: textdomain(94324867735392) at [no debug info]\n",
      "KLEE: WARNING ONCE: Alignment of memory from call \"realloc\" is not modelled. Using alignment of 8.\n",
      "KLEE: WARNING ONCE: calling external: vprintf(94324868810528, 94324868970976) at libc/stdio/fprintf.c:35 14\n",
      "KLEE: WARNING ONCE: calling external: gettext(94324868269328) at [no debug info]\n",
      "KLEE: WARNING ONCE: calling close_stdout with extra arguments.\n",
      "\n",
      "KLEE: done: total instructions = 171835\n",
      "KLEE: done: completed paths = 1\n",
      "KLEE: done: generated tests = 1\n"
     ]
    },
    {
     "name": "stdout",
     "output_type": "stream",
     "text": [
      "/home/igandhi/Documents/build/bin/klee --search=random-path --no-forking --track-instruction-time --libc=uclibc --posix-runtime --replace-condition=12745 --replay-path=\"/home/igandhi/Documents/profiler/../klee/examples/llvm-coreutils/bitcodes/klee-out-0/test000001.path\" ../klee/examples/llvm-coreutils/bitcodes/split.bc  --sym-arg 10\n"
     ]
    },
    {
     "name": "stderr",
     "output_type": "stream",
     "text": [
      "KLEE: NOTE: Using POSIX model: /home/igandhi/Documents/build/Debug+Asserts/lib/libkleeRuntimePOSIX.bca\n",
      "KLEE: NOTE: Using klee-uclibc : /home/igandhi/Documents/build/Debug+Asserts/lib/klee-uclibc.bca\n",
      "KLEE: output directory is \"/home/igandhi/Documents/profiler/../klee/examples/llvm-coreutils/bitcodes/klee-out-16\"\n",
      "KLEE: Using STP solver backend\n",
      "KLEE: WARNING: undefined reference to function: __ctype_get_mb_cur_max\n",
      "KLEE: WARNING: undefined reference to function: bindtextdomain\n",
      "KLEE: WARNING: undefined reference to function: gettext\n",
      "KLEE: WARNING: undefined reference to function: textdomain\n",
      "KLEE: WARNING: executable has module level assembly (ignoring)\n",
      "KLEE: WARNING ONCE: calling external: syscall(16, 0, 21505, 94534112032672) at klee/runtime/POSIX/fd.c:1007 10\n",
      "KLEE: WARNING ONCE: Alignment of memory from call \"malloc\" is not modelled. Using alignment of 8.\n",
      "KLEE: WARNING ONCE: calling __klee_posix_wrapped_main with extra arguments.\n",
      "KLEE: WARNING ONCE: calling external: getpagesize() at [no debug info]\n",
      "KLEE: WARNING ONCE: Alignment of memory from call \"calloc\" is not modelled. Using alignment of 8.\n",
      "KLEE: WARNING ONCE: calling external: bindtextdomain(94534111518560, 94534111941344) at [no debug info]\n",
      "KLEE: WARNING ONCE: calling external: textdomain(94534111518560) at [no debug info]\n",
      "KLEE: WARNING ONCE: Alignment of memory from call \"realloc\" is not modelled. Using alignment of 8.\n",
      "KLEE: WARNING ONCE: calling external: vprintf(94534112593696, 94534112754144) at libc/stdio/fprintf.c:35 14\n",
      "KLEE: WARNING ONCE: calling external: gettext(94534112052496) at [no debug info]\n",
      "KLEE: WARNING ONCE: calling close_stdout with extra arguments.\n",
      "\n",
      "KLEE: done: total instructions = 171835\n",
      "KLEE: done: completed paths = 1\n",
      "KLEE: done: generated tests = 1\n"
     ]
    },
    {
     "name": "stdout",
     "output_type": "stream",
     "text": [
      "/home/igandhi/Documents/build/bin/klee --search=random-path --no-forking --track-instruction-time --libc=uclibc --posix-runtime --replace-condition=12747 --replay-path=\"/home/igandhi/Documents/profiler/../klee/examples/llvm-coreutils/bitcodes/klee-out-0/test000001.path\" ../klee/examples/llvm-coreutils/bitcodes/split.bc  --sym-arg 10\n"
     ]
    },
    {
     "name": "stderr",
     "output_type": "stream",
     "text": [
      "KLEE: NOTE: Using POSIX model: /home/igandhi/Documents/build/Debug+Asserts/lib/libkleeRuntimePOSIX.bca\n",
      "KLEE: NOTE: Using klee-uclibc : /home/igandhi/Documents/build/Debug+Asserts/lib/klee-uclibc.bca\n",
      "KLEE: output directory is \"/home/igandhi/Documents/profiler/../klee/examples/llvm-coreutils/bitcodes/klee-out-17\"\n",
      "KLEE: Using STP solver backend\n",
      "KLEE: WARNING: undefined reference to function: __ctype_get_mb_cur_max\n",
      "KLEE: WARNING: undefined reference to function: bindtextdomain\n",
      "KLEE: WARNING: undefined reference to function: gettext\n",
      "KLEE: WARNING: undefined reference to function: textdomain\n",
      "KLEE: WARNING: executable has module level assembly (ignoring)\n",
      "KLEE: WARNING ONCE: calling external: syscall(16, 0, 21505, 94502107908736) at klee/runtime/POSIX/fd.c:1007 10\n",
      "KLEE: WARNING ONCE: Alignment of memory from call \"malloc\" is not modelled. Using alignment of 8.\n",
      "KLEE: WARNING ONCE: calling __klee_posix_wrapped_main with extra arguments.\n",
      "KLEE: WARNING ONCE: calling external: getpagesize() at [no debug info]\n",
      "KLEE: WARNING ONCE: Alignment of memory from call \"calloc\" is not modelled. Using alignment of 8.\n",
      "KLEE: WARNING ONCE: calling external: bindtextdomain(94502107463520, 94502107886304) at [no debug info]\n",
      "KLEE: WARNING ONCE: calling external: textdomain(94502107463520) at [no debug info]\n",
      "KLEE: WARNING ONCE: Alignment of memory from call \"realloc\" is not modelled. Using alignment of 8.\n",
      "KLEE: WARNING ONCE: calling external: vprintf(94502108538656, 94502108699104) at libc/stdio/fprintf.c:35 14\n",
      "KLEE: WARNING ONCE: calling external: gettext(94502107997456) at [no debug info]\n",
      "KLEE: WARNING ONCE: calling close_stdout with extra arguments.\n",
      "\n",
      "KLEE: done: total instructions = 171835\n",
      "KLEE: done: completed paths = 1\n",
      "KLEE: done: generated tests = 1\n"
     ]
    },
    {
     "name": "stdout",
     "output_type": "stream",
     "text": [
      "/home/igandhi/Documents/build/bin/klee --search=random-path --no-forking --track-instruction-time --libc=uclibc --posix-runtime --replace-condition=12749 --replay-path=\"/home/igandhi/Documents/profiler/../klee/examples/llvm-coreutils/bitcodes/klee-out-0/test000001.path\" ../klee/examples/llvm-coreutils/bitcodes/split.bc  --sym-arg 10\n"
     ]
    },
    {
     "name": "stderr",
     "output_type": "stream",
     "text": [
      "KLEE: NOTE: Using POSIX model: /home/igandhi/Documents/build/Debug+Asserts/lib/libkleeRuntimePOSIX.bca\n",
      "KLEE: NOTE: Using klee-uclibc : /home/igandhi/Documents/build/Debug+Asserts/lib/klee-uclibc.bca\n",
      "KLEE: output directory is \"/home/igandhi/Documents/profiler/../klee/examples/llvm-coreutils/bitcodes/klee-out-18\"\n",
      "KLEE: Using STP solver backend\n",
      "KLEE: WARNING: undefined reference to function: __ctype_get_mb_cur_max\n",
      "KLEE: WARNING: undefined reference to function: bindtextdomain\n",
      "KLEE: WARNING: undefined reference to function: gettext\n",
      "KLEE: WARNING: undefined reference to function: textdomain\n",
      "KLEE: WARNING: executable has module level assembly (ignoring)\n",
      "KLEE: WARNING ONCE: calling external: syscall(16, 0, 21505, 94645543027696) at klee/runtime/POSIX/fd.c:1007 10\n",
      "KLEE: WARNING ONCE: Alignment of memory from call \"malloc\" is not modelled. Using alignment of 8.\n",
      "KLEE: WARNING ONCE: calling __klee_posix_wrapped_main with extra arguments.\n",
      "KLEE: WARNING ONCE: calling external: getpagesize() at [no debug info]\n",
      "KLEE: WARNING ONCE: Alignment of memory from call \"calloc\" is not modelled. Using alignment of 8.\n",
      "KLEE: WARNING ONCE: calling external: bindtextdomain(94645541945184, 94645542367968) at [no debug info]\n",
      "KLEE: WARNING ONCE: calling external: textdomain(94645541945184) at [no debug info]\n",
      "KLEE: WARNING ONCE: Alignment of memory from call \"realloc\" is not modelled. Using alignment of 8.\n",
      "KLEE: WARNING ONCE: calling external: vprintf(94645543020320, 94645543180768) at libc/stdio/fprintf.c:35 14\n",
      "KLEE: WARNING ONCE: calling external: gettext(94645542479120) at [no debug info]\n",
      "KLEE: WARNING ONCE: calling close_stdout with extra arguments.\n",
      "\n",
      "KLEE: done: total instructions = 171835\n",
      "KLEE: done: completed paths = 1\n",
      "KLEE: done: generated tests = 1\n"
     ]
    },
    {
     "name": "stdout",
     "output_type": "stream",
     "text": [
      "/home/igandhi/Documents/build/bin/klee --search=random-path --no-forking --track-instruction-time --libc=uclibc --posix-runtime --replace-condition=12750 --replay-path=\"/home/igandhi/Documents/profiler/../klee/examples/llvm-coreutils/bitcodes/klee-out-0/test000001.path\" ../klee/examples/llvm-coreutils/bitcodes/split.bc  --sym-arg 10\n"
     ]
    },
    {
     "name": "stderr",
     "output_type": "stream",
     "text": [
      "KLEE: NOTE: Using POSIX model: /home/igandhi/Documents/build/Debug+Asserts/lib/libkleeRuntimePOSIX.bca\n",
      "KLEE: NOTE: Using klee-uclibc : /home/igandhi/Documents/build/Debug+Asserts/lib/klee-uclibc.bca\n",
      "KLEE: output directory is \"/home/igandhi/Documents/profiler/../klee/examples/llvm-coreutils/bitcodes/klee-out-19\"\n",
      "KLEE: Using STP solver backend\n",
      "KLEE: WARNING: undefined reference to function: __ctype_get_mb_cur_max\n",
      "KLEE: WARNING: undefined reference to function: bindtextdomain\n",
      "KLEE: WARNING: undefined reference to function: gettext\n",
      "KLEE: WARNING: undefined reference to function: textdomain\n",
      "KLEE: WARNING: executable has module level assembly (ignoring)\n",
      "KLEE: WARNING ONCE: calling external: syscall(16, 0, 21505, 94746754501392) at klee/runtime/POSIX/fd.c:1007 10\n",
      "KLEE: WARNING ONCE: Alignment of memory from call \"malloc\" is not modelled. Using alignment of 8.\n",
      "KLEE: WARNING ONCE: calling __klee_posix_wrapped_main with extra arguments.\n",
      "KLEE: WARNING ONCE: calling external: getpagesize() at [no debug info]\n",
      "KLEE: WARNING ONCE: Alignment of memory from call \"calloc\" is not modelled. Using alignment of 8.\n",
      "KLEE: WARNING ONCE: calling external: bindtextdomain(94746753957728, 94746754380512) at [no debug info]\n",
      "KLEE: WARNING ONCE: calling external: textdomain(94746753957728) at [no debug info]\n",
      "KLEE: WARNING ONCE: Alignment of memory from call \"realloc\" is not modelled. Using alignment of 8.\n",
      "klee: /home/igandhi/Documents/klee/lib/Core/Executor.cpp:1010: klee::Executor::StatePair klee::Executor::fork(klee::ExecutionState&, klee::ref<klee::Expr>, bool): Assertion `!branch && \"hit invalid branch in replay path mode\"' failed.\n",
      "/usr/lib/llvm-8/lib/libLLVM-8.so.1(_ZN4llvm3sys15PrintStackTraceERNS_11raw_ostreamE+0x1f)[0x7efe8e8a94bf]\n",
      "/usr/lib/llvm-8/lib/libLLVM-8.so.1(_ZN4llvm3sys17RunSignalHandlersEv+0x22)[0x7efe8e8a78e2]\n",
      "/usr/lib/llvm-8/lib/libLLVM-8.so.1(+0x9728c8)[0x7efe8e8a98c8]\n",
      "/lib/x86_64-linux-gnu/libc.so.6(+0x3ef20)[0x7efe8d45df20]\n",
      "/lib/x86_64-linux-gnu/libc.so.6(gsignal+0xc7)[0x7efe8d45de97]\n",
      "/lib/x86_64-linux-gnu/libc.so.6(abort+0x141)[0x7efe8d45f801]\n",
      "/lib/x86_64-linux-gnu/libc.so.6(+0x3039a)[0x7efe8d44f39a]\n",
      "/lib/x86_64-linux-gnu/libc.so.6(+0x30412)[0x7efe8d44f412]\n",
      "/home/igandhi/Documents/build/bin/klee(_ZN4klee8Executor4forkERNS_14ExecutionStateENS_3refINS_4ExprEEEb+0x1e0a)[0x562bef99b0ea]\n",
      "/home/igandhi/Documents/build/bin/klee(_ZN4klee8Executor18executeInstructionERNS_14ExecutionStateEPNS_12KInstructionE+0x3c73)[0x562bef9a2cc3]\n",
      "/home/igandhi/Documents/build/bin/klee(_ZN4klee8Executor3runERNS_14ExecutionStateE+0x71d)[0x562bef9a783d]\n",
      "/home/igandhi/Documents/build/bin/klee(_ZN4klee8Executor17runFunctionAsMainEPN4llvm8FunctionEiPPcS5_+0x6b7)[0x562bef9a8127]\n",
      "/home/igandhi/Documents/build/bin/klee(main+0x30f4)[0x562bef977744]\n",
      "/lib/x86_64-linux-gnu/libc.so.6(__libc_start_main+0xe7)[0x7efe8d440b97]\n",
      "/home/igandhi/Documents/build/bin/klee(_start+0x2a)[0x562bef9852aa]\n",
      "Aborted\n"
     ]
    },
    {
     "name": "stdout",
     "output_type": "stream",
     "text": [
      "/home/igandhi/Documents/build/bin/klee --search=random-path --no-forking --track-instruction-time --libc=uclibc --posix-runtime --replace-condition=12753 --replay-path=\"/home/igandhi/Documents/profiler/../klee/examples/llvm-coreutils/bitcodes/klee-out-0/test000001.path\" ../klee/examples/llvm-coreutils/bitcodes/split.bc  --sym-arg 10\n"
     ]
    },
    {
     "name": "stderr",
     "output_type": "stream",
     "text": [
      "KLEE: NOTE: Using POSIX model: /home/igandhi/Documents/build/Debug+Asserts/lib/libkleeRuntimePOSIX.bca\n",
      "KLEE: NOTE: Using klee-uclibc : /home/igandhi/Documents/build/Debug+Asserts/lib/klee-uclibc.bca\n",
      "KLEE: output directory is \"/home/igandhi/Documents/profiler/../klee/examples/llvm-coreutils/bitcodes/klee-out-20\"\n",
      "KLEE: Using STP solver backend\n",
      "KLEE: WARNING: undefined reference to function: __ctype_get_mb_cur_max\n",
      "KLEE: WARNING: undefined reference to function: bindtextdomain\n",
      "KLEE: WARNING: undefined reference to function: gettext\n",
      "KLEE: WARNING: undefined reference to function: textdomain\n",
      "KLEE: WARNING: executable has module level assembly (ignoring)\n",
      "KLEE: WARNING ONCE: calling external: syscall(16, 0, 21505, 94078671070432) at klee/runtime/POSIX/fd.c:1007 10\n",
      "KLEE: WARNING ONCE: Alignment of memory from call \"malloc\" is not modelled. Using alignment of 8.\n",
      "KLEE: WARNING ONCE: calling __klee_posix_wrapped_main with extra arguments.\n",
      "KLEE: WARNING ONCE: calling external: getpagesize() at [no debug info]\n",
      "KLEE: WARNING ONCE: Alignment of memory from call \"calloc\" is not modelled. Using alignment of 8.\n",
      "KLEE: WARNING ONCE: calling external: bindtextdomain(94078670528352, 94078670951136) at [no debug info]\n",
      "KLEE: WARNING ONCE: calling external: textdomain(94078670528352) at [no debug info]\n",
      "KLEE: WARNING ONCE: Alignment of memory from call \"realloc\" is not modelled. Using alignment of 8.\n",
      "KLEE: WARNING ONCE: calling external: vprintf(94078671603488, 94078671764096) at libc/stdio/fprintf.c:35 14\n",
      "KLEE: WARNING ONCE: calling external: gettext(94078671062288) at [no debug info]\n",
      "KLEE: WARNING ONCE: calling close_stdout with extra arguments.\n",
      "\n",
      "KLEE: done: total instructions = 171835\n",
      "KLEE: done: completed paths = 1\n",
      "KLEE: done: generated tests = 1\n"
     ]
    },
    {
     "name": "stdout",
     "output_type": "stream",
     "text": [
      "/home/igandhi/Documents/build/bin/klee --search=random-path --no-forking --track-instruction-time --libc=uclibc --posix-runtime --replace-condition=12755 --replay-path=\"/home/igandhi/Documents/profiler/../klee/examples/llvm-coreutils/bitcodes/klee-out-0/test000001.path\" ../klee/examples/llvm-coreutils/bitcodes/split.bc  --sym-arg 10\n"
     ]
    },
    {
     "name": "stderr",
     "output_type": "stream",
     "text": [
      "KLEE: NOTE: Using POSIX model: /home/igandhi/Documents/build/Debug+Asserts/lib/libkleeRuntimePOSIX.bca\n",
      "KLEE: NOTE: Using klee-uclibc : /home/igandhi/Documents/build/Debug+Asserts/lib/klee-uclibc.bca\n",
      "KLEE: output directory is \"/home/igandhi/Documents/profiler/../klee/examples/llvm-coreutils/bitcodes/klee-out-21\"\n",
      "KLEE: Using STP solver backend\n",
      "KLEE: WARNING: undefined reference to function: __ctype_get_mb_cur_max\n",
      "KLEE: WARNING: undefined reference to function: bindtextdomain\n",
      "KLEE: WARNING: undefined reference to function: gettext\n",
      "KLEE: WARNING: undefined reference to function: textdomain\n",
      "KLEE: WARNING: executable has module level assembly (ignoring)\n",
      "KLEE: WARNING ONCE: calling external: syscall(16, 0, 21505, 94533941338400) at klee/runtime/POSIX/fd.c:1007 10\n",
      "KLEE: WARNING ONCE: Alignment of memory from call \"malloc\" is not modelled. Using alignment of 8.\n",
      "KLEE: WARNING ONCE: calling __klee_posix_wrapped_main with extra arguments.\n",
      "KLEE: WARNING ONCE: calling external: getpagesize() at [no debug info]\n",
      "KLEE: WARNING ONCE: Alignment of memory from call \"calloc\" is not modelled. Using alignment of 8.\n",
      "KLEE: WARNING ONCE: calling external: bindtextdomain(94533940133728, 94533940556512) at [no debug info]\n",
      "KLEE: WARNING ONCE: calling external: textdomain(94533940133728) at [no debug info]\n",
      "KLEE: WARNING ONCE: Alignment of memory from call \"realloc\" is not modelled. Using alignment of 8.\n",
      "KLEE: WARNING ONCE: calling external: vprintf(94533941208864, 94533941370208) at libc/stdio/fprintf.c:35 14\n",
      "KLEE: WARNING ONCE: calling external: gettext(94533940667664) at [no debug info]\n",
      "KLEE: WARNING ONCE: calling close_stdout with extra arguments.\n",
      "\n",
      "KLEE: done: total instructions = 171835\n",
      "KLEE: done: completed paths = 1\n",
      "KLEE: done: generated tests = 1\n"
     ]
    },
    {
     "name": "stdout",
     "output_type": "stream",
     "text": [
      "/home/igandhi/Documents/build/bin/klee --search=random-path --no-forking --track-instruction-time --libc=uclibc --posix-runtime --replace-condition=12757 --replay-path=\"/home/igandhi/Documents/profiler/../klee/examples/llvm-coreutils/bitcodes/klee-out-0/test000001.path\" ../klee/examples/llvm-coreutils/bitcodes/split.bc  --sym-arg 10\n"
     ]
    },
    {
     "name": "stderr",
     "output_type": "stream",
     "text": [
      "KLEE: NOTE: Using POSIX model: /home/igandhi/Documents/build/Debug+Asserts/lib/libkleeRuntimePOSIX.bca\n",
      "KLEE: NOTE: Using klee-uclibc : /home/igandhi/Documents/build/Debug+Asserts/lib/klee-uclibc.bca\n",
      "KLEE: output directory is \"/home/igandhi/Documents/profiler/../klee/examples/llvm-coreutils/bitcodes/klee-out-22\"\n",
      "KLEE: Using STP solver backend\n",
      "KLEE: WARNING: undefined reference to function: __ctype_get_mb_cur_max\n",
      "KLEE: WARNING: undefined reference to function: bindtextdomain\n",
      "KLEE: WARNING: undefined reference to function: gettext\n",
      "KLEE: WARNING: undefined reference to function: textdomain\n",
      "KLEE: WARNING: executable has module level assembly (ignoring)\n",
      "KLEE: WARNING ONCE: calling external: syscall(16, 0, 21505, 93948973899920) at klee/runtime/POSIX/fd.c:1007 10\n",
      "KLEE: WARNING ONCE: Alignment of memory from call \"malloc\" is not modelled. Using alignment of 8.\n",
      "KLEE: WARNING ONCE: calling __klee_posix_wrapped_main with extra arguments.\n",
      "KLEE: WARNING ONCE: calling external: getpagesize() at [no debug info]\n",
      "KLEE: WARNING ONCE: Alignment of memory from call \"calloc\" is not modelled. Using alignment of 8.\n",
      "KLEE: WARNING ONCE: calling external: bindtextdomain(93948972818272, 93948973241056) at [no debug info]\n",
      "KLEE: WARNING ONCE: calling external: textdomain(93948972818272) at [no debug info]\n",
      "KLEE: WARNING ONCE: Alignment of memory from call \"realloc\" is not modelled. Using alignment of 8.\n",
      "KLEE: WARNING ONCE: calling external: vprintf(93948973893408, 93948974053856) at libc/stdio/fprintf.c:35 14\n",
      "KLEE: WARNING ONCE: calling external: gettext(93948973352208) at [no debug info]\n",
      "KLEE: WARNING ONCE: calling close_stdout with extra arguments.\n",
      "\n",
      "KLEE: done: total instructions = 171835\n",
      "KLEE: done: completed paths = 1\n",
      "KLEE: done: generated tests = 1\n"
     ]
    },
    {
     "name": "stdout",
     "output_type": "stream",
     "text": [
      "/home/igandhi/Documents/build/bin/klee --search=random-path --no-forking --track-instruction-time --libc=uclibc --posix-runtime --replace-condition=12759 --replay-path=\"/home/igandhi/Documents/profiler/../klee/examples/llvm-coreutils/bitcodes/klee-out-0/test000001.path\" ../klee/examples/llvm-coreutils/bitcodes/split.bc  --sym-arg 10\n"
     ]
    },
    {
     "name": "stderr",
     "output_type": "stream",
     "text": [
      "KLEE: NOTE: Using POSIX model: /home/igandhi/Documents/build/Debug+Asserts/lib/libkleeRuntimePOSIX.bca\n",
      "KLEE: NOTE: Using klee-uclibc : /home/igandhi/Documents/build/Debug+Asserts/lib/klee-uclibc.bca\n",
      "KLEE: output directory is \"/home/igandhi/Documents/profiler/../klee/examples/llvm-coreutils/bitcodes/klee-out-23\"\n",
      "KLEE: Using STP solver backend\n",
      "KLEE: WARNING: undefined reference to function: __ctype_get_mb_cur_max\n",
      "KLEE: WARNING: undefined reference to function: bindtextdomain\n",
      "KLEE: WARNING: undefined reference to function: gettext\n",
      "KLEE: WARNING: undefined reference to function: textdomain\n",
      "KLEE: WARNING: executable has module level assembly (ignoring)\n",
      "KLEE: WARNING ONCE: calling external: syscall(16, 0, 21505, 94791954913760) at klee/runtime/POSIX/fd.c:1007 10\n",
      "KLEE: WARNING ONCE: Alignment of memory from call \"malloc\" is not modelled. Using alignment of 8.\n",
      "KLEE: WARNING ONCE: calling __klee_posix_wrapped_main with extra arguments.\n",
      "KLEE: WARNING ONCE: calling external: getpagesize() at [no debug info]\n",
      "KLEE: WARNING ONCE: Alignment of memory from call \"calloc\" is not modelled. Using alignment of 8.\n",
      "KLEE: WARNING ONCE: calling external: bindtextdomain(94791930265440, 94791954797280) at [no debug info]\n",
      "KLEE: WARNING ONCE: calling external: textdomain(94791930265440) at [no debug info]\n",
      "KLEE: WARNING ONCE: Alignment of memory from call \"realloc\" is not modelled. Using alignment of 8.\n",
      "KLEE: WARNING ONCE: calling external: vprintf(94791955449632, 94791955610080) at libc/stdio/fprintf.c:35 14\n",
      "KLEE: WARNING ONCE: calling external: gettext(94791954908432) at [no debug info]\n",
      "KLEE: WARNING ONCE: calling close_stdout with extra arguments.\n",
      "\n",
      "KLEE: done: total instructions = 171835\n",
      "KLEE: done: completed paths = 1\n",
      "KLEE: done: generated tests = 1\n"
     ]
    },
    {
     "name": "stdout",
     "output_type": "stream",
     "text": [
      "/home/igandhi/Documents/build/bin/klee --search=random-path --no-forking --track-instruction-time --libc=uclibc --posix-runtime --replace-condition=12760 --replay-path=\"/home/igandhi/Documents/profiler/../klee/examples/llvm-coreutils/bitcodes/klee-out-0/test000001.path\" ../klee/examples/llvm-coreutils/bitcodes/split.bc  --sym-arg 10\n"
     ]
    },
    {
     "name": "stderr",
     "output_type": "stream",
     "text": [
      "KLEE: NOTE: Using POSIX model: /home/igandhi/Documents/build/Debug+Asserts/lib/libkleeRuntimePOSIX.bca\n",
      "KLEE: NOTE: Using klee-uclibc : /home/igandhi/Documents/build/Debug+Asserts/lib/klee-uclibc.bca\n",
      "KLEE: output directory is \"/home/igandhi/Documents/profiler/../klee/examples/llvm-coreutils/bitcodes/klee-out-24\"\n",
      "KLEE: Using STP solver backend\n",
      "KLEE: WARNING: undefined reference to function: __ctype_get_mb_cur_max\n",
      "KLEE: WARNING: undefined reference to function: bindtextdomain\n",
      "KLEE: WARNING: undefined reference to function: gettext\n",
      "KLEE: WARNING: undefined reference to function: textdomain\n",
      "KLEE: WARNING: executable has module level assembly (ignoring)\n",
      "KLEE: WARNING ONCE: calling external: syscall(16, 0, 21505, 94584531452192) at klee/runtime/POSIX/fd.c:1007 10\n",
      "KLEE: WARNING ONCE: Alignment of memory from call \"malloc\" is not modelled. Using alignment of 8.\n",
      "KLEE: WARNING ONCE: calling __klee_posix_wrapped_main with extra arguments.\n",
      "KLEE: WARNING ONCE: calling external: getpagesize() at [no debug info]\n",
      "KLEE: WARNING ONCE: Alignment of memory from call \"calloc\" is not modelled. Using alignment of 8.\n",
      "KLEE: WARNING ONCE: calling external: bindtextdomain(94584530247520, 94584530670304) at [no debug info]\n",
      "KLEE: WARNING ONCE: calling external: textdomain(94584530247520) at [no debug info]\n",
      "KLEE: WARNING ONCE: Alignment of memory from call \"realloc\" is not modelled. Using alignment of 8.\n",
      "KLEE: WARNING ONCE: calling external: vprintf(94584531322656, 94584531483168) at libc/stdio/fprintf.c:35 14\n",
      "KLEE: WARNING ONCE: calling external: gettext(94584530781456) at [no debug info]\n",
      "KLEE: WARNING ONCE: calling close_stdout with extra arguments.\n",
      "\n",
      "KLEE: done: total instructions = 171835\n",
      "KLEE: done: completed paths = 1\n",
      "KLEE: done: generated tests = 1\n"
     ]
    },
    {
     "name": "stdout",
     "output_type": "stream",
     "text": [
      "/home/igandhi/Documents/build/bin/klee --search=random-path --no-forking --track-instruction-time --libc=uclibc --posix-runtime --replace-condition=12762 --replay-path=\"/home/igandhi/Documents/profiler/../klee/examples/llvm-coreutils/bitcodes/klee-out-0/test000001.path\" ../klee/examples/llvm-coreutils/bitcodes/split.bc  --sym-arg 10\n"
     ]
    },
    {
     "name": "stderr",
     "output_type": "stream",
     "text": [
      "KLEE: NOTE: Using POSIX model: /home/igandhi/Documents/build/Debug+Asserts/lib/libkleeRuntimePOSIX.bca\n",
      "KLEE: NOTE: Using klee-uclibc : /home/igandhi/Documents/build/Debug+Asserts/lib/klee-uclibc.bca\n",
      "KLEE: output directory is \"/home/igandhi/Documents/profiler/../klee/examples/llvm-coreutils/bitcodes/klee-out-25\"\n",
      "KLEE: Using STP solver backend\n",
      "KLEE: WARNING: undefined reference to function: __ctype_get_mb_cur_max\n",
      "KLEE: WARNING: undefined reference to function: bindtextdomain\n",
      "KLEE: WARNING: undefined reference to function: gettext\n",
      "KLEE: WARNING: undefined reference to function: textdomain\n",
      "KLEE: WARNING: executable has module level assembly (ignoring)\n",
      "KLEE: WARNING ONCE: calling external: syscall(16, 0, 21505, 94473369870624) at klee/runtime/POSIX/fd.c:1007 10\n",
      "KLEE: WARNING ONCE: Alignment of memory from call \"malloc\" is not modelled. Using alignment of 8.\n",
      "KLEE: WARNING ONCE: calling __klee_posix_wrapped_main with extra arguments.\n",
      "KLEE: WARNING ONCE: calling external: getpagesize() at [no debug info]\n",
      "KLEE: WARNING ONCE: Alignment of memory from call \"calloc\" is not modelled. Using alignment of 8.\n",
      "KLEE: WARNING ONCE: calling external: bindtextdomain(94473368665952, 94473369088736) at [no debug info]\n",
      "KLEE: WARNING ONCE: calling external: textdomain(94473368665952) at [no debug info]\n",
      "KLEE: WARNING ONCE: Alignment of memory from call \"realloc\" is not modelled. Using alignment of 8.\n",
      "KLEE: WARNING ONCE: calling external: vprintf(94473369741088, 94473369901536) at libc/stdio/fprintf.c:35 14\n",
      "KLEE: WARNING ONCE: calling external: gettext(94473369199888) at [no debug info]\n",
      "KLEE: WARNING ONCE: calling close_stdout with extra arguments.\n",
      "\n",
      "KLEE: done: total instructions = 171835\n",
      "KLEE: done: completed paths = 1\n",
      "KLEE: done: generated tests = 1\n"
     ]
    },
    {
     "name": "stdout",
     "output_type": "stream",
     "text": [
      "/home/igandhi/Documents/build/bin/klee --search=random-path --no-forking --track-instruction-time --libc=uclibc --posix-runtime --replace-condition=12764 --replay-path=\"/home/igandhi/Documents/profiler/../klee/examples/llvm-coreutils/bitcodes/klee-out-0/test000001.path\" ../klee/examples/llvm-coreutils/bitcodes/split.bc  --sym-arg 10\n"
     ]
    },
    {
     "name": "stderr",
     "output_type": "stream",
     "text": [
      "KLEE: NOTE: Using POSIX model: /home/igandhi/Documents/build/Debug+Asserts/lib/libkleeRuntimePOSIX.bca\n",
      "KLEE: NOTE: Using klee-uclibc : /home/igandhi/Documents/build/Debug+Asserts/lib/klee-uclibc.bca\n",
      "KLEE: output directory is \"/home/igandhi/Documents/profiler/../klee/examples/llvm-coreutils/bitcodes/klee-out-26\"\n",
      "KLEE: Using STP solver backend\n",
      "KLEE: WARNING: undefined reference to function: __ctype_get_mb_cur_max\n",
      "KLEE: WARNING: undefined reference to function: bindtextdomain\n",
      "KLEE: WARNING: undefined reference to function: gettext\n",
      "KLEE: WARNING: undefined reference to function: textdomain\n",
      "KLEE: WARNING: executable has module level assembly (ignoring)\n",
      "KLEE: WARNING ONCE: calling external: syscall(16, 0, 21505, 94222198858016) at klee/runtime/POSIX/fd.c:1007 10\n",
      "KLEE: WARNING ONCE: Alignment of memory from call \"malloc\" is not modelled. Using alignment of 8.\n",
      "KLEE: WARNING ONCE: calling __klee_posix_wrapped_main with extra arguments.\n",
      "KLEE: WARNING ONCE: calling external: getpagesize() at [no debug info]\n",
      "KLEE: WARNING ONCE: Alignment of memory from call \"calloc\" is not modelled. Using alignment of 8.\n",
      "KLEE: WARNING ONCE: calling external: bindtextdomain(94222197653344, 94222198076128) at [no debug info]\n",
      "KLEE: WARNING ONCE: calling external: textdomain(94222197653344) at [no debug info]\n",
      "KLEE: WARNING ONCE: Alignment of memory from call \"realloc\" is not modelled. Using alignment of 8.\n",
      "KLEE: WARNING ONCE: calling external: vprintf(94222198728480, 94222198888928) at libc/stdio/fprintf.c:35 14\n",
      "KLEE: WARNING ONCE: calling external: gettext(94222198187280) at [no debug info]\n",
      "KLEE: WARNING ONCE: calling close_stdout with extra arguments.\n",
      "\n",
      "KLEE: done: total instructions = 171835\n",
      "KLEE: done: completed paths = 1\n",
      "KLEE: done: generated tests = 1\n"
     ]
    },
    {
     "name": "stdout",
     "output_type": "stream",
     "text": [
      "/home/igandhi/Documents/build/bin/klee --search=random-path --no-forking --track-instruction-time --libc=uclibc --posix-runtime --replace-condition=12769 --replay-path=\"/home/igandhi/Documents/profiler/../klee/examples/llvm-coreutils/bitcodes/klee-out-0/test000001.path\" ../klee/examples/llvm-coreutils/bitcodes/split.bc  --sym-arg 10\n"
     ]
    },
    {
     "name": "stderr",
     "output_type": "stream",
     "text": [
      "KLEE: NOTE: Using POSIX model: /home/igandhi/Documents/build/Debug+Asserts/lib/libkleeRuntimePOSIX.bca\n",
      "KLEE: NOTE: Using klee-uclibc : /home/igandhi/Documents/build/Debug+Asserts/lib/klee-uclibc.bca\n",
      "KLEE: output directory is \"/home/igandhi/Documents/profiler/../klee/examples/llvm-coreutils/bitcodes/klee-out-27\"\n",
      "KLEE: Using STP solver backend\n",
      "KLEE: WARNING: undefined reference to function: __ctype_get_mb_cur_max\n",
      "KLEE: WARNING: undefined reference to function: bindtextdomain\n",
      "KLEE: WARNING: undefined reference to function: gettext\n",
      "KLEE: WARNING: undefined reference to function: textdomain\n",
      "KLEE: WARNING: executable has module level assembly (ignoring)\n",
      "KLEE: WARNING ONCE: calling external: syscall(16, 0, 21505, 94867682135712) at klee/runtime/POSIX/fd.c:1007 10\n",
      "KLEE: WARNING ONCE: Alignment of memory from call \"malloc\" is not modelled. Using alignment of 8.\n",
      "KLEE: WARNING ONCE: calling __klee_posix_wrapped_main with extra arguments.\n",
      "KLEE: WARNING ONCE: calling external: getpagesize() at [no debug info]\n",
      "KLEE: WARNING ONCE: Alignment of memory from call \"calloc\" is not modelled. Using alignment of 8.\n",
      "KLEE: WARNING ONCE: calling external: bindtextdomain(94867681623904, 94867682046688) at [no debug info]\n",
      "KLEE: WARNING ONCE: calling external: textdomain(94867681623904) at [no debug info]\n",
      "KLEE: WARNING ONCE: Alignment of memory from call \"realloc\" is not modelled. Using alignment of 8.\n",
      "KLEE: WARNING ONCE: calling external: vprintf(94867682699040, 94867682859488) at libc/stdio/fprintf.c:35 14\n",
      "KLEE: WARNING ONCE: calling external: gettext(94867682157840) at [no debug info]\n",
      "KLEE: WARNING ONCE: calling close_stdout with extra arguments.\n",
      "\n",
      "KLEE: done: total instructions = 171835\n",
      "KLEE: done: completed paths = 1\n",
      "KLEE: done: generated tests = 1\n"
     ]
    },
    {
     "name": "stdout",
     "output_type": "stream",
     "text": [
      "/home/igandhi/Documents/build/bin/klee --search=random-path --no-forking --track-instruction-time --libc=uclibc --posix-runtime --replace-condition=12776 --replay-path=\"/home/igandhi/Documents/profiler/../klee/examples/llvm-coreutils/bitcodes/klee-out-0/test000001.path\" ../klee/examples/llvm-coreutils/bitcodes/split.bc  --sym-arg 10\n"
     ]
    },
    {
     "name": "stderr",
     "output_type": "stream",
     "text": [
      "KLEE: NOTE: Using POSIX model: /home/igandhi/Documents/build/Debug+Asserts/lib/libkleeRuntimePOSIX.bca\n",
      "KLEE: NOTE: Using klee-uclibc : /home/igandhi/Documents/build/Debug+Asserts/lib/klee-uclibc.bca\n",
      "KLEE: output directory is \"/home/igandhi/Documents/profiler/../klee/examples/llvm-coreutils/bitcodes/klee-out-28\"\n",
      "KLEE: Using STP solver backend\n",
      "KLEE: WARNING: undefined reference to function: __ctype_get_mb_cur_max\n",
      "KLEE: WARNING: undefined reference to function: bindtextdomain\n",
      "KLEE: WARNING: undefined reference to function: gettext\n",
      "KLEE: WARNING: undefined reference to function: textdomain\n",
      "KLEE: WARNING: executable has module level assembly (ignoring)\n",
      "KLEE: WARNING ONCE: calling external: syscall(16, 0, 21505, 94251914275216) at klee/runtime/POSIX/fd.c:1007 10\n",
      "KLEE: WARNING ONCE: Alignment of memory from call \"malloc\" is not modelled. Using alignment of 8.\n",
      "KLEE: WARNING ONCE: calling __klee_posix_wrapped_main with extra arguments.\n",
      "KLEE: WARNING ONCE: calling external: getpagesize() at [no debug info]\n",
      "KLEE: WARNING ONCE: Alignment of memory from call \"calloc\" is not modelled. Using alignment of 8.\n",
      "KLEE: WARNING ONCE: calling external: bindtextdomain(94251913731936, 94251914154720) at [no debug info]\n",
      "KLEE: WARNING ONCE: calling external: textdomain(94251913731936) at [no debug info]\n",
      "KLEE: WARNING ONCE: Alignment of memory from call \"realloc\" is not modelled. Using alignment of 8.\n",
      "KLEE: WARNING ONCE: calling external: vprintf(94251914807072, 94251914967520) at libc/stdio/fprintf.c:35 14\n",
      "KLEE: WARNING ONCE: calling external: gettext(94251914265872) at [no debug info]\n",
      "KLEE: WARNING ONCE: calling close_stdout with extra arguments.\n",
      "\n",
      "KLEE: done: total instructions = 171835\n",
      "KLEE: done: completed paths = 1\n",
      "KLEE: done: generated tests = 1\n"
     ]
    },
    {
     "name": "stdout",
     "output_type": "stream",
     "text": [
      "/home/igandhi/Documents/build/bin/klee --search=random-path --no-forking --track-instruction-time --libc=uclibc --posix-runtime --replace-condition=12778 --replay-path=\"/home/igandhi/Documents/profiler/../klee/examples/llvm-coreutils/bitcodes/klee-out-0/test000001.path\" ../klee/examples/llvm-coreutils/bitcodes/split.bc  --sym-arg 10\n"
     ]
    },
    {
     "name": "stderr",
     "output_type": "stream",
     "text": [
      "KLEE: NOTE: Using POSIX model: /home/igandhi/Documents/build/Debug+Asserts/lib/libkleeRuntimePOSIX.bca\n",
      "KLEE: NOTE: Using klee-uclibc : /home/igandhi/Documents/build/Debug+Asserts/lib/klee-uclibc.bca\n",
      "KLEE: output directory is \"/home/igandhi/Documents/profiler/../klee/examples/llvm-coreutils/bitcodes/klee-out-29\"\n",
      "KLEE: Using STP solver backend\n",
      "KLEE: WARNING: undefined reference to function: __ctype_get_mb_cur_max\n",
      "KLEE: WARNING: undefined reference to function: bindtextdomain\n",
      "KLEE: WARNING: undefined reference to function: gettext\n",
      "KLEE: WARNING: undefined reference to function: textdomain\n",
      "KLEE: WARNING: executable has module level assembly (ignoring)\n",
      "KLEE: WARNING ONCE: calling external: syscall(16, 0, 21505, 94503445176608) at klee/runtime/POSIX/fd.c:1007 10\n",
      "KLEE: WARNING ONCE: Alignment of memory from call \"malloc\" is not modelled. Using alignment of 8.\n",
      "KLEE: WARNING ONCE: calling __klee_posix_wrapped_main with extra arguments.\n",
      "KLEE: WARNING ONCE: calling external: getpagesize() at [no debug info]\n",
      "KLEE: WARNING ONCE: Alignment of memory from call \"calloc\" is not modelled. Using alignment of 8.\n",
      "KLEE: WARNING ONCE: calling external: bindtextdomain(94503443971936, 94503444394720) at [no debug info]\n",
      "KLEE: WARNING ONCE: calling external: textdomain(94503443971936) at [no debug info]\n",
      "KLEE: WARNING ONCE: Alignment of memory from call \"realloc\" is not modelled. Using alignment of 8.\n",
      "KLEE: WARNING ONCE: calling external: vprintf(94503445047072, 94503445207520) at libc/stdio/fprintf.c:35 14\n",
      "KLEE: WARNING ONCE: calling external: gettext(94503444505872) at [no debug info]\n",
      "KLEE: WARNING ONCE: calling close_stdout with extra arguments.\n",
      "\n",
      "KLEE: done: total instructions = 171835\n",
      "KLEE: done: completed paths = 1\n",
      "KLEE: done: generated tests = 1\n"
     ]
    },
    {
     "name": "stdout",
     "output_type": "stream",
     "text": [
      "/home/igandhi/Documents/build/bin/klee --search=random-path --no-forking --track-instruction-time --libc=uclibc --posix-runtime --replace-condition=12780 --replay-path=\"/home/igandhi/Documents/profiler/../klee/examples/llvm-coreutils/bitcodes/klee-out-0/test000001.path\" ../klee/examples/llvm-coreutils/bitcodes/split.bc  --sym-arg 10\n"
     ]
    },
    {
     "name": "stderr",
     "output_type": "stream",
     "text": [
      "KLEE: NOTE: Using POSIX model: /home/igandhi/Documents/build/Debug+Asserts/lib/libkleeRuntimePOSIX.bca\n",
      "KLEE: NOTE: Using klee-uclibc : /home/igandhi/Documents/build/Debug+Asserts/lib/klee-uclibc.bca\n",
      "KLEE: output directory is \"/home/igandhi/Documents/profiler/../klee/examples/llvm-coreutils/bitcodes/klee-out-30\"\n",
      "KLEE: Using STP solver backend\n",
      "KLEE: WARNING: undefined reference to function: __ctype_get_mb_cur_max\n",
      "KLEE: WARNING: undefined reference to function: bindtextdomain\n",
      "KLEE: WARNING: undefined reference to function: gettext\n",
      "KLEE: WARNING: undefined reference to function: textdomain\n",
      "KLEE: WARNING: executable has module level assembly (ignoring)\n",
      "KLEE: WARNING ONCE: calling external: syscall(16, 0, 21505, 94795850866976) at klee/runtime/POSIX/fd.c:1007 10\n",
      "KLEE: WARNING ONCE: Alignment of memory from call \"malloc\" is not modelled. Using alignment of 8.\n",
      "KLEE: WARNING ONCE: calling __klee_posix_wrapped_main with extra arguments.\n",
      "KLEE: WARNING ONCE: calling external: getpagesize() at [no debug info]\n",
      "KLEE: WARNING ONCE: Alignment of memory from call \"calloc\" is not modelled. Using alignment of 8.\n",
      "KLEE: WARNING ONCE: calling external: bindtextdomain(94795849662304, 94795850085088) at [no debug info]\n",
      "KLEE: WARNING ONCE: calling external: textdomain(94795849662304) at [no debug info]\n",
      "KLEE: WARNING ONCE: Alignment of memory from call \"realloc\" is not modelled. Using alignment of 8.\n",
      "KLEE: WARNING ONCE: calling external: vprintf(94795850737440, 94795850897888) at libc/stdio/fprintf.c:35 14\n",
      "KLEE: WARNING ONCE: calling external: gettext(94795850196240) at [no debug info]\n",
      "KLEE: WARNING ONCE: calling close_stdout with extra arguments.\n",
      "\n",
      "KLEE: done: total instructions = 171835\n",
      "KLEE: done: completed paths = 1\n",
      "KLEE: done: generated tests = 1\n"
     ]
    },
    {
     "name": "stdout",
     "output_type": "stream",
     "text": [
      "/home/igandhi/Documents/build/bin/klee --search=random-path --no-forking --track-instruction-time --libc=uclibc --posix-runtime --replace-condition=12782 --replay-path=\"/home/igandhi/Documents/profiler/../klee/examples/llvm-coreutils/bitcodes/klee-out-0/test000001.path\" ../klee/examples/llvm-coreutils/bitcodes/split.bc  --sym-arg 10\n"
     ]
    },
    {
     "name": "stderr",
     "output_type": "stream",
     "text": [
      "KLEE: NOTE: Using POSIX model: /home/igandhi/Documents/build/Debug+Asserts/lib/libkleeRuntimePOSIX.bca\n",
      "KLEE: NOTE: Using klee-uclibc : /home/igandhi/Documents/build/Debug+Asserts/lib/klee-uclibc.bca\n",
      "KLEE: output directory is \"/home/igandhi/Documents/profiler/../klee/examples/llvm-coreutils/bitcodes/klee-out-31\"\n",
      "KLEE: Using STP solver backend\n",
      "KLEE: WARNING: undefined reference to function: __ctype_get_mb_cur_max\n",
      "KLEE: WARNING: undefined reference to function: bindtextdomain\n",
      "KLEE: WARNING: undefined reference to function: gettext\n",
      "KLEE: WARNING: undefined reference to function: textdomain\n",
      "KLEE: WARNING: executable has module level assembly (ignoring)\n",
      "KLEE: WARNING ONCE: calling external: syscall(16, 0, 21505, 93967524915072) at klee/runtime/POSIX/fd.c:1007 10\n",
      "KLEE: WARNING ONCE: Alignment of memory from call \"malloc\" is not modelled. Using alignment of 8.\n",
      "KLEE: WARNING ONCE: calling __klee_posix_wrapped_main with extra arguments.\n",
      "KLEE: WARNING ONCE: calling external: getpagesize() at [no debug info]\n",
      "KLEE: WARNING ONCE: Alignment of memory from call \"calloc\" is not modelled. Using alignment of 8.\n",
      "KLEE: WARNING ONCE: calling external: bindtextdomain(93967523831648, 93967524254432) at [no debug info]\n",
      "KLEE: WARNING ONCE: calling external: textdomain(93967523831648) at [no debug info]\n",
      "KLEE: WARNING ONCE: Alignment of memory from call \"realloc\" is not modelled. Using alignment of 8.\n",
      "KLEE: WARNING ONCE: calling external: vprintf(93967524906784, 93967525067232) at libc/stdio/fprintf.c:35 14\n",
      "KLEE: WARNING ONCE: calling external: gettext(93967524365584) at [no debug info]\n",
      "KLEE: WARNING ONCE: calling close_stdout with extra arguments.\n",
      "\n",
      "KLEE: done: total instructions = 171835\n",
      "KLEE: done: completed paths = 1\n",
      "KLEE: done: generated tests = 1\n"
     ]
    },
    {
     "name": "stdout",
     "output_type": "stream",
     "text": [
      "/home/igandhi/Documents/build/bin/klee --search=random-path --no-forking --track-instruction-time --libc=uclibc --posix-runtime --replace-condition=12784 --replay-path=\"/home/igandhi/Documents/profiler/../klee/examples/llvm-coreutils/bitcodes/klee-out-0/test000001.path\" ../klee/examples/llvm-coreutils/bitcodes/split.bc  --sym-arg 10\n"
     ]
    },
    {
     "name": "stderr",
     "output_type": "stream",
     "text": [
      "KLEE: NOTE: Using POSIX model: /home/igandhi/Documents/build/Debug+Asserts/lib/libkleeRuntimePOSIX.bca\n",
      "KLEE: NOTE: Using klee-uclibc : /home/igandhi/Documents/build/Debug+Asserts/lib/klee-uclibc.bca\n",
      "KLEE: output directory is \"/home/igandhi/Documents/profiler/../klee/examples/llvm-coreutils/bitcodes/klee-out-32\"\n",
      "KLEE: Using STP solver backend\n",
      "KLEE: WARNING: undefined reference to function: __ctype_get_mb_cur_max\n",
      "KLEE: WARNING: undefined reference to function: bindtextdomain\n",
      "KLEE: WARNING: undefined reference to function: gettext\n",
      "KLEE: WARNING: undefined reference to function: textdomain\n",
      "KLEE: WARNING: executable has module level assembly (ignoring)\n",
      "KLEE: WARNING ONCE: calling external: syscall(16, 0, 21505, 94535445356832) at klee/runtime/POSIX/fd.c:1007 10\n",
      "KLEE: WARNING ONCE: Alignment of memory from call \"malloc\" is not modelled. Using alignment of 8.\n",
      "KLEE: WARNING ONCE: calling __klee_posix_wrapped_main with extra arguments.\n",
      "KLEE: WARNING ONCE: calling external: getpagesize() at [no debug info]\n",
      "KLEE: WARNING ONCE: Alignment of memory from call \"calloc\" is not modelled. Using alignment of 8.\n",
      "KLEE: WARNING ONCE: calling external: bindtextdomain(94535444152160, 94535444574944) at [no debug info]\n",
      "KLEE: WARNING ONCE: calling external: textdomain(94535444152160) at [no debug info]\n",
      "KLEE: WARNING ONCE: Alignment of memory from call \"realloc\" is not modelled. Using alignment of 8.\n",
      "KLEE: WARNING ONCE: calling external: vprintf(94535445227296, 94535445387744) at libc/stdio/fprintf.c:35 14\n",
      "KLEE: WARNING ONCE: calling external: gettext(94535444686096) at [no debug info]\n",
      "KLEE: WARNING ONCE: calling close_stdout with extra arguments.\n",
      "\n",
      "KLEE: done: total instructions = 171835\n",
      "KLEE: done: completed paths = 1\n",
      "KLEE: done: generated tests = 1\n"
     ]
    },
    {
     "name": "stdout",
     "output_type": "stream",
     "text": [
      "/home/igandhi/Documents/build/bin/klee --search=random-path --no-forking --track-instruction-time --libc=uclibc --posix-runtime --replace-condition=12786 --replay-path=\"/home/igandhi/Documents/profiler/../klee/examples/llvm-coreutils/bitcodes/klee-out-0/test000001.path\" ../klee/examples/llvm-coreutils/bitcodes/split.bc  --sym-arg 10\n"
     ]
    },
    {
     "name": "stderr",
     "output_type": "stream",
     "text": [
      "KLEE: NOTE: Using POSIX model: /home/igandhi/Documents/build/Debug+Asserts/lib/libkleeRuntimePOSIX.bca\n",
      "KLEE: NOTE: Using klee-uclibc : /home/igandhi/Documents/build/Debug+Asserts/lib/klee-uclibc.bca\n",
      "KLEE: output directory is \"/home/igandhi/Documents/profiler/../klee/examples/llvm-coreutils/bitcodes/klee-out-33\"\n",
      "KLEE: Using STP solver backend\n",
      "KLEE: WARNING: undefined reference to function: __ctype_get_mb_cur_max\n",
      "KLEE: WARNING: undefined reference to function: bindtextdomain\n",
      "KLEE: WARNING: undefined reference to function: gettext\n",
      "KLEE: WARNING: undefined reference to function: textdomain\n",
      "KLEE: WARNING: executable has module level assembly (ignoring)\n",
      "KLEE: WARNING ONCE: calling external: syscall(16, 0, 21505, 94826275832096) at klee/runtime/POSIX/fd.c:1007 10\n",
      "KLEE: WARNING ONCE: Alignment of memory from call \"malloc\" is not modelled. Using alignment of 8.\n",
      "KLEE: WARNING ONCE: calling __klee_posix_wrapped_main with extra arguments.\n",
      "KLEE: WARNING ONCE: calling external: getpagesize() at [no debug info]\n",
      "KLEE: WARNING ONCE: Alignment of memory from call \"calloc\" is not modelled. Using alignment of 8.\n",
      "KLEE: WARNING ONCE: calling external: bindtextdomain(94826274627424, 94826275050208) at [no debug info]\n",
      "KLEE: WARNING ONCE: calling external: textdomain(94826274627424) at [no debug info]\n",
      "KLEE: WARNING ONCE: Alignment of memory from call \"realloc\" is not modelled. Using alignment of 8.\n",
      "KLEE: WARNING ONCE: calling external: vprintf(94826275702560, 94826275863008) at libc/stdio/fprintf.c:35 14\n",
      "KLEE: WARNING ONCE: calling external: gettext(94826275161360) at [no debug info]\n",
      "KLEE: WARNING ONCE: calling close_stdout with extra arguments.\n",
      "\n",
      "KLEE: done: total instructions = 171835\n",
      "KLEE: done: completed paths = 1\n",
      "KLEE: done: generated tests = 1\n"
     ]
    },
    {
     "name": "stdout",
     "output_type": "stream",
     "text": [
      "/home/igandhi/Documents/build/bin/klee --search=random-path --no-forking --track-instruction-time --libc=uclibc --posix-runtime --replace-condition=12788 --replay-path=\"/home/igandhi/Documents/profiler/../klee/examples/llvm-coreutils/bitcodes/klee-out-0/test000001.path\" ../klee/examples/llvm-coreutils/bitcodes/split.bc  --sym-arg 10\n"
     ]
    },
    {
     "name": "stderr",
     "output_type": "stream",
     "text": [
      "KLEE: NOTE: Using POSIX model: /home/igandhi/Documents/build/Debug+Asserts/lib/libkleeRuntimePOSIX.bca\n",
      "KLEE: NOTE: Using klee-uclibc : /home/igandhi/Documents/build/Debug+Asserts/lib/klee-uclibc.bca\n",
      "KLEE: output directory is \"/home/igandhi/Documents/profiler/../klee/examples/llvm-coreutils/bitcodes/klee-out-34\"\n",
      "KLEE: Using STP solver backend\n",
      "KLEE: WARNING: undefined reference to function: __ctype_get_mb_cur_max\n",
      "KLEE: WARNING: undefined reference to function: bindtextdomain\n",
      "KLEE: WARNING: undefined reference to function: gettext\n",
      "KLEE: WARNING: undefined reference to function: textdomain\n",
      "KLEE: WARNING: executable has module level assembly (ignoring)\n",
      "KLEE: WARNING ONCE: calling external: syscall(16, 0, 21505, 94445919224096) at klee/runtime/POSIX/fd.c:1007 10\n",
      "KLEE: WARNING ONCE: Alignment of memory from call \"malloc\" is not modelled. Using alignment of 8.\n",
      "KLEE: WARNING ONCE: calling __klee_posix_wrapped_main with extra arguments.\n",
      "KLEE: WARNING ONCE: calling external: getpagesize() at [no debug info]\n",
      "KLEE: WARNING ONCE: Alignment of memory from call \"calloc\" is not modelled. Using alignment of 8.\n",
      "KLEE: WARNING ONCE: calling external: bindtextdomain(94445918019424, 94445918442208) at [no debug info]\n",
      "KLEE: WARNING ONCE: calling external: textdomain(94445918019424) at [no debug info]\n",
      "KLEE: WARNING ONCE: Alignment of memory from call \"realloc\" is not modelled. Using alignment of 8.\n",
      "KLEE: WARNING ONCE: calling external: vprintf(94445919094560, 94445919255008) at libc/stdio/fprintf.c:35 14\n",
      "KLEE: WARNING ONCE: calling external: gettext(94445918553360) at [no debug info]\n",
      "KLEE: WARNING ONCE: calling close_stdout with extra arguments.\n",
      "\n",
      "KLEE: done: total instructions = 171835\n",
      "KLEE: done: completed paths = 1\n",
      "KLEE: done: generated tests = 1\n"
     ]
    },
    {
     "name": "stdout",
     "output_type": "stream",
     "text": [
      "/home/igandhi/Documents/build/bin/klee --search=random-path --no-forking --track-instruction-time --libc=uclibc --posix-runtime --replace-condition=12790 --replay-path=\"/home/igandhi/Documents/profiler/../klee/examples/llvm-coreutils/bitcodes/klee-out-0/test000001.path\" ../klee/examples/llvm-coreutils/bitcodes/split.bc  --sym-arg 10\n"
     ]
    },
    {
     "name": "stderr",
     "output_type": "stream",
     "text": [
      "KLEE: NOTE: Using POSIX model: /home/igandhi/Documents/build/Debug+Asserts/lib/libkleeRuntimePOSIX.bca\n",
      "KLEE: NOTE: Using klee-uclibc : /home/igandhi/Documents/build/Debug+Asserts/lib/klee-uclibc.bca\n",
      "KLEE: output directory is \"/home/igandhi/Documents/profiler/../klee/examples/llvm-coreutils/bitcodes/klee-out-35\"\n",
      "KLEE: Using STP solver backend\n",
      "KLEE: WARNING: undefined reference to function: __ctype_get_mb_cur_max\n",
      "KLEE: WARNING: undefined reference to function: bindtextdomain\n",
      "KLEE: WARNING: undefined reference to function: gettext\n",
      "KLEE: WARNING: undefined reference to function: textdomain\n",
      "KLEE: WARNING: executable has module level assembly (ignoring)\n",
      "KLEE: WARNING ONCE: calling external: syscall(16, 0, 21505, 93997705167136) at klee/runtime/POSIX/fd.c:1007 10\n",
      "KLEE: WARNING ONCE: Alignment of memory from call \"malloc\" is not modelled. Using alignment of 8.\n",
      "KLEE: WARNING ONCE: calling __klee_posix_wrapped_main with extra arguments.\n",
      "KLEE: WARNING ONCE: calling external: getpagesize() at [no debug info]\n",
      "KLEE: WARNING ONCE: Alignment of memory from call \"calloc\" is not modelled. Using alignment of 8.\n",
      "KLEE: WARNING ONCE: calling external: bindtextdomain(93997703962464, 93997704385248) at [no debug info]\n",
      "KLEE: WARNING ONCE: calling external: textdomain(93997703962464) at [no debug info]\n",
      "KLEE: WARNING ONCE: Alignment of memory from call \"realloc\" is not modelled. Using alignment of 8.\n",
      "KLEE: WARNING ONCE: calling external: vprintf(93997705037600, 93997705198048) at libc/stdio/fprintf.c:35 14\n",
      "KLEE: WARNING ONCE: calling external: gettext(93997704496448) at [no debug info]\n",
      "KLEE: WARNING ONCE: calling close_stdout with extra arguments.\n",
      "\n",
      "KLEE: done: total instructions = 171835\n",
      "KLEE: done: completed paths = 1\n",
      "KLEE: done: generated tests = 1\n"
     ]
    },
    {
     "name": "stdout",
     "output_type": "stream",
     "text": [
      "/home/igandhi/Documents/build/bin/klee --search=random-path --no-forking --track-instruction-time --libc=uclibc --posix-runtime --replace-condition=12792 --replay-path=\"/home/igandhi/Documents/profiler/../klee/examples/llvm-coreutils/bitcodes/klee-out-0/test000001.path\" ../klee/examples/llvm-coreutils/bitcodes/split.bc  --sym-arg 10\n"
     ]
    },
    {
     "name": "stderr",
     "output_type": "stream",
     "text": [
      "KLEE: NOTE: Using POSIX model: /home/igandhi/Documents/build/Debug+Asserts/lib/libkleeRuntimePOSIX.bca\n",
      "KLEE: NOTE: Using klee-uclibc : /home/igandhi/Documents/build/Debug+Asserts/lib/klee-uclibc.bca\n",
      "KLEE: output directory is \"/home/igandhi/Documents/profiler/../klee/examples/llvm-coreutils/bitcodes/klee-out-36\"\n",
      "KLEE: Using STP solver backend\n",
      "KLEE: WARNING: undefined reference to function: __ctype_get_mb_cur_max\n",
      "KLEE: WARNING: undefined reference to function: bindtextdomain\n",
      "KLEE: WARNING: undefined reference to function: gettext\n",
      "KLEE: WARNING: undefined reference to function: textdomain\n",
      "KLEE: WARNING: executable has module level assembly (ignoring)\n",
      "KLEE: WARNING ONCE: calling external: syscall(16, 0, 21505, 94201220202784) at klee/runtime/POSIX/fd.c:1007 10\n",
      "KLEE: WARNING ONCE: Alignment of memory from call \"malloc\" is not modelled. Using alignment of 8.\n",
      "KLEE: WARNING ONCE: calling __klee_posix_wrapped_main with extra arguments.\n",
      "KLEE: WARNING ONCE: calling external: getpagesize() at [no debug info]\n",
      "KLEE: WARNING ONCE: Alignment of memory from call \"calloc\" is not modelled. Using alignment of 8.\n",
      "KLEE: WARNING ONCE: calling external: bindtextdomain(94201218998112, 94201219420896) at [no debug info]\n",
      "KLEE: WARNING ONCE: calling external: textdomain(94201218998112) at [no debug info]\n",
      "KLEE: WARNING ONCE: Alignment of memory from call \"realloc\" is not modelled. Using alignment of 8.\n",
      "KLEE: WARNING ONCE: calling external: vprintf(94201220073248, 94201220233696) at libc/stdio/fprintf.c:35 14\n",
      "KLEE: WARNING ONCE: calling external: gettext(94201219532096) at [no debug info]\n",
      "KLEE: WARNING ONCE: calling close_stdout with extra arguments.\n",
      "\n",
      "KLEE: done: total instructions = 171835\n",
      "KLEE: done: completed paths = 1\n",
      "KLEE: done: generated tests = 1\n"
     ]
    },
    {
     "name": "stdout",
     "output_type": "stream",
     "text": [
      "/home/igandhi/Documents/build/bin/klee --search=random-path --no-forking --track-instruction-time --libc=uclibc --posix-runtime --replace-condition=12794 --replay-path=\"/home/igandhi/Documents/profiler/../klee/examples/llvm-coreutils/bitcodes/klee-out-0/test000001.path\" ../klee/examples/llvm-coreutils/bitcodes/split.bc  --sym-arg 10\n"
     ]
    },
    {
     "name": "stderr",
     "output_type": "stream",
     "text": [
      "KLEE: NOTE: Using POSIX model: /home/igandhi/Documents/build/Debug+Asserts/lib/libkleeRuntimePOSIX.bca\n",
      "KLEE: NOTE: Using klee-uclibc : /home/igandhi/Documents/build/Debug+Asserts/lib/klee-uclibc.bca\n",
      "KLEE: output directory is \"/home/igandhi/Documents/profiler/../klee/examples/llvm-coreutils/bitcodes/klee-out-37\"\n",
      "KLEE: Using STP solver backend\n",
      "KLEE: WARNING: undefined reference to function: __ctype_get_mb_cur_max\n",
      "KLEE: WARNING: undefined reference to function: bindtextdomain\n",
      "KLEE: WARNING: undefined reference to function: gettext\n",
      "KLEE: WARNING: undefined reference to function: textdomain\n",
      "KLEE: WARNING: executable has module level assembly (ignoring)\n",
      "KLEE: WARNING ONCE: calling external: syscall(16, 0, 21505, 94395636818208) at klee/runtime/POSIX/fd.c:1007 10\n",
      "KLEE: WARNING ONCE: Alignment of memory from call \"malloc\" is not modelled. Using alignment of 8.\n",
      "KLEE: WARNING ONCE: calling __klee_posix_wrapped_main with extra arguments.\n",
      "KLEE: WARNING ONCE: calling external: getpagesize() at [no debug info]\n",
      "KLEE: WARNING ONCE: Alignment of memory from call \"calloc\" is not modelled. Using alignment of 8.\n",
      "KLEE: WARNING ONCE: calling external: bindtextdomain(94395635613536, 94395636036320) at [no debug info]\n",
      "KLEE: WARNING ONCE: calling external: textdomain(94395635613536) at [no debug info]\n",
      "KLEE: WARNING ONCE: Alignment of memory from call \"realloc\" is not modelled. Using alignment of 8.\n",
      "KLEE: WARNING ONCE: calling external: vprintf(94395636688672, 94395636849120) at libc/stdio/fprintf.c:35 14\n",
      "KLEE: WARNING ONCE: calling external: gettext(94395636147472) at [no debug info]\n",
      "KLEE: WARNING ONCE: calling close_stdout with extra arguments.\n",
      "\n",
      "KLEE: done: total instructions = 171835\n",
      "KLEE: done: completed paths = 1\n",
      "KLEE: done: generated tests = 1\n"
     ]
    },
    {
     "name": "stdout",
     "output_type": "stream",
     "text": [
      "/home/igandhi/Documents/build/bin/klee --search=random-path --no-forking --track-instruction-time --libc=uclibc --posix-runtime --replace-condition=12796 --replay-path=\"/home/igandhi/Documents/profiler/../klee/examples/llvm-coreutils/bitcodes/klee-out-0/test000001.path\" ../klee/examples/llvm-coreutils/bitcodes/split.bc  --sym-arg 10\n"
     ]
    },
    {
     "name": "stderr",
     "output_type": "stream",
     "text": [
      "KLEE: NOTE: Using POSIX model: /home/igandhi/Documents/build/Debug+Asserts/lib/libkleeRuntimePOSIX.bca\n",
      "KLEE: NOTE: Using klee-uclibc : /home/igandhi/Documents/build/Debug+Asserts/lib/klee-uclibc.bca\n",
      "KLEE: output directory is \"/home/igandhi/Documents/profiler/../klee/examples/llvm-coreutils/bitcodes/klee-out-38\"\n",
      "KLEE: Using STP solver backend\n",
      "KLEE: WARNING: undefined reference to function: __ctype_get_mb_cur_max\n",
      "KLEE: WARNING: undefined reference to function: bindtextdomain\n",
      "KLEE: WARNING: undefined reference to function: gettext\n",
      "KLEE: WARNING: undefined reference to function: textdomain\n",
      "KLEE: WARNING: executable has module level assembly (ignoring)\n",
      "KLEE: WARNING ONCE: calling external: syscall(16, 0, 21505, 94238071904736) at klee/runtime/POSIX/fd.c:1007 10\n",
      "KLEE: WARNING ONCE: Alignment of memory from call \"malloc\" is not modelled. Using alignment of 8.\n",
      "KLEE: WARNING ONCE: calling __klee_posix_wrapped_main with extra arguments.\n",
      "KLEE: WARNING ONCE: calling external: getpagesize() at [no debug info]\n",
      "KLEE: WARNING ONCE: Alignment of memory from call \"calloc\" is not modelled. Using alignment of 8.\n",
      "KLEE: WARNING ONCE: calling external: bindtextdomain(94238047256416, 94238071788256) at [no debug info]\n",
      "KLEE: WARNING ONCE: calling external: textdomain(94238047256416) at [no debug info]\n",
      "KLEE: WARNING ONCE: Alignment of memory from call \"realloc\" is not modelled. Using alignment of 8.\n",
      "KLEE: WARNING ONCE: calling external: vprintf(94238072440608, 94238072601056) at libc/stdio/fprintf.c:35 14\n",
      "KLEE: WARNING ONCE: calling external: gettext(94238071899408) at [no debug info]\n",
      "KLEE: WARNING ONCE: calling close_stdout with extra arguments.\n",
      "\n",
      "KLEE: done: total instructions = 171835\n",
      "KLEE: done: completed paths = 1\n",
      "KLEE: done: generated tests = 1\n"
     ]
    },
    {
     "name": "stdout",
     "output_type": "stream",
     "text": [
      "/home/igandhi/Documents/build/bin/klee --search=random-path --no-forking --track-instruction-time --libc=uclibc --posix-runtime --replace-condition=12798 --replay-path=\"/home/igandhi/Documents/profiler/../klee/examples/llvm-coreutils/bitcodes/klee-out-0/test000001.path\" ../klee/examples/llvm-coreutils/bitcodes/split.bc  --sym-arg 10\n"
     ]
    },
    {
     "name": "stderr",
     "output_type": "stream",
     "text": [
      "KLEE: NOTE: Using POSIX model: /home/igandhi/Documents/build/Debug+Asserts/lib/libkleeRuntimePOSIX.bca\n",
      "KLEE: NOTE: Using klee-uclibc : /home/igandhi/Documents/build/Debug+Asserts/lib/klee-uclibc.bca\n",
      "KLEE: output directory is \"/home/igandhi/Documents/profiler/../klee/examples/llvm-coreutils/bitcodes/klee-out-39\"\n",
      "KLEE: Using STP solver backend\n",
      "KLEE: WARNING: undefined reference to function: __ctype_get_mb_cur_max\n",
      "KLEE: WARNING: undefined reference to function: bindtextdomain\n",
      "KLEE: WARNING: undefined reference to function: gettext\n",
      "KLEE: WARNING: undefined reference to function: textdomain\n",
      "KLEE: WARNING: executable has module level assembly (ignoring)\n",
      "KLEE: WARNING ONCE: calling external: syscall(16, 0, 21505, 94849231339952) at klee/runtime/POSIX/fd.c:1007 10\n",
      "KLEE: WARNING ONCE: Alignment of memory from call \"malloc\" is not modelled. Using alignment of 8.\n",
      "KLEE: WARNING ONCE: calling __klee_posix_wrapped_main with extra arguments.\n",
      "KLEE: WARNING ONCE: calling external: getpagesize() at [no debug info]\n",
      "KLEE: WARNING ONCE: Alignment of memory from call \"calloc\" is not modelled. Using alignment of 8.\n",
      "KLEE: WARNING ONCE: calling external: bindtextdomain(94849230806880, 94849231229664) at [no debug info]\n",
      "KLEE: WARNING ONCE: calling external: textdomain(94849230806880) at [no debug info]\n",
      "KLEE: WARNING ONCE: Alignment of memory from call \"realloc\" is not modelled. Using alignment of 8.\n",
      "KLEE: WARNING ONCE: calling external: vprintf(94849231882016, 94849232042464) at libc/stdio/fprintf.c:35 14\n",
      "KLEE: WARNING ONCE: calling external: gettext(94849231340816) at [no debug info]\n",
      "KLEE: WARNING ONCE: calling close_stdout with extra arguments.\n",
      "\n",
      "KLEE: done: total instructions = 171835\n",
      "KLEE: done: completed paths = 1\n",
      "KLEE: done: generated tests = 1\n"
     ]
    },
    {
     "name": "stdout",
     "output_type": "stream",
     "text": [
      "/home/igandhi/Documents/build/bin/klee --search=random-path --no-forking --track-instruction-time --libc=uclibc --posix-runtime --replace-condition=12800 --replay-path=\"/home/igandhi/Documents/profiler/../klee/examples/llvm-coreutils/bitcodes/klee-out-0/test000001.path\" ../klee/examples/llvm-coreutils/bitcodes/split.bc  --sym-arg 10\n"
     ]
    },
    {
     "name": "stderr",
     "output_type": "stream",
     "text": [
      "KLEE: NOTE: Using POSIX model: /home/igandhi/Documents/build/Debug+Asserts/lib/libkleeRuntimePOSIX.bca\n",
      "KLEE: NOTE: Using klee-uclibc : /home/igandhi/Documents/build/Debug+Asserts/lib/klee-uclibc.bca\n",
      "KLEE: output directory is \"/home/igandhi/Documents/profiler/../klee/examples/llvm-coreutils/bitcodes/klee-out-40\"\n",
      "KLEE: Using STP solver backend\n",
      "KLEE: WARNING: undefined reference to function: __ctype_get_mb_cur_max\n",
      "KLEE: WARNING: undefined reference to function: bindtextdomain\n",
      "KLEE: WARNING: undefined reference to function: gettext\n",
      "KLEE: WARNING: undefined reference to function: textdomain\n",
      "KLEE: WARNING: executable has module level assembly (ignoring)\n",
      "KLEE: WARNING ONCE: calling external: syscall(16, 0, 21505, 93907162063136) at klee/runtime/POSIX/fd.c:1007 10\n",
      "KLEE: WARNING ONCE: Alignment of memory from call \"malloc\" is not modelled. Using alignment of 8.\n",
      "KLEE: WARNING ONCE: calling __klee_posix_wrapped_main with extra arguments.\n",
      "KLEE: WARNING ONCE: calling external: getpagesize() at [no debug info]\n",
      "KLEE: WARNING ONCE: Alignment of memory from call \"calloc\" is not modelled. Using alignment of 8.\n",
      "KLEE: WARNING ONCE: calling external: bindtextdomain(93907160858464, 93907161281248) at [no debug info]\n",
      "KLEE: WARNING ONCE: calling external: textdomain(93907160858464) at [no debug info]\n",
      "KLEE: WARNING ONCE: Alignment of memory from call \"realloc\" is not modelled. Using alignment of 8.\n",
      "KLEE: WARNING ONCE: calling external: vprintf(93907161933600, 93907162094048) at libc/stdio/fprintf.c:35 14\n",
      "KLEE: WARNING ONCE: calling external: gettext(93907161392400) at [no debug info]\n",
      "KLEE: WARNING ONCE: calling close_stdout with extra arguments.\n",
      "\n",
      "KLEE: done: total instructions = 171835\n",
      "KLEE: done: completed paths = 1\n",
      "KLEE: done: generated tests = 1\n"
     ]
    },
    {
     "name": "stdout",
     "output_type": "stream",
     "text": [
      "/home/igandhi/Documents/build/bin/klee --search=random-path --no-forking --track-instruction-time --libc=uclibc --posix-runtime --replace-condition=12802 --replay-path=\"/home/igandhi/Documents/profiler/../klee/examples/llvm-coreutils/bitcodes/klee-out-0/test000001.path\" ../klee/examples/llvm-coreutils/bitcodes/split.bc  --sym-arg 10\n"
     ]
    },
    {
     "name": "stderr",
     "output_type": "stream",
     "text": [
      "KLEE: NOTE: Using POSIX model: /home/igandhi/Documents/build/Debug+Asserts/lib/libkleeRuntimePOSIX.bca\n",
      "KLEE: NOTE: Using klee-uclibc : /home/igandhi/Documents/build/Debug+Asserts/lib/klee-uclibc.bca\n",
      "KLEE: output directory is \"/home/igandhi/Documents/profiler/../klee/examples/llvm-coreutils/bitcodes/klee-out-41\"\n",
      "KLEE: Using STP solver backend\n",
      "KLEE: WARNING: undefined reference to function: __ctype_get_mb_cur_max\n",
      "KLEE: WARNING: undefined reference to function: bindtextdomain\n",
      "KLEE: WARNING: undefined reference to function: gettext\n",
      "KLEE: WARNING: undefined reference to function: textdomain\n",
      "KLEE: WARNING: executable has module level assembly (ignoring)\n",
      "KLEE: WARNING ONCE: calling external: syscall(16, 0, 21505, 93987717636384) at klee/runtime/POSIX/fd.c:1007 10\n",
      "KLEE: WARNING ONCE: Alignment of memory from call \"malloc\" is not modelled. Using alignment of 8.\n",
      "KLEE: WARNING ONCE: calling __klee_posix_wrapped_main with extra arguments.\n",
      "KLEE: WARNING ONCE: calling external: getpagesize() at [no debug info]\n",
      "KLEE: WARNING ONCE: Alignment of memory from call \"calloc\" is not modelled. Using alignment of 8.\n",
      "KLEE: WARNING ONCE: calling external: bindtextdomain(93987716431712, 93987716854496) at [no debug info]\n",
      "KLEE: WARNING ONCE: calling external: textdomain(93987716431712) at [no debug info]\n",
      "KLEE: WARNING ONCE: Alignment of memory from call \"realloc\" is not modelled. Using alignment of 8.\n",
      "KLEE: WARNING ONCE: calling external: vprintf(93987717506848, 93987717667296) at libc/stdio/fprintf.c:35 14\n",
      "KLEE: WARNING ONCE: calling external: gettext(93987716965648) at [no debug info]\n",
      "KLEE: WARNING ONCE: calling close_stdout with extra arguments.\n",
      "\n",
      "KLEE: done: total instructions = 171835\n",
      "KLEE: done: completed paths = 1\n",
      "KLEE: done: generated tests = 1\n"
     ]
    },
    {
     "name": "stdout",
     "output_type": "stream",
     "text": [
      "/home/igandhi/Documents/build/bin/klee --search=random-path --no-forking --track-instruction-time --libc=uclibc --posix-runtime --replace-condition=12804 --replay-path=\"/home/igandhi/Documents/profiler/../klee/examples/llvm-coreutils/bitcodes/klee-out-0/test000001.path\" ../klee/examples/llvm-coreutils/bitcodes/split.bc  --sym-arg 10\n"
     ]
    },
    {
     "name": "stderr",
     "output_type": "stream",
     "text": [
      "KLEE: NOTE: Using POSIX model: /home/igandhi/Documents/build/Debug+Asserts/lib/libkleeRuntimePOSIX.bca\n",
      "KLEE: NOTE: Using klee-uclibc : /home/igandhi/Documents/build/Debug+Asserts/lib/klee-uclibc.bca\n",
      "KLEE: output directory is \"/home/igandhi/Documents/profiler/../klee/examples/llvm-coreutils/bitcodes/klee-out-42\"\n",
      "KLEE: Using STP solver backend\n",
      "KLEE: WARNING: undefined reference to function: __ctype_get_mb_cur_max\n",
      "KLEE: WARNING: undefined reference to function: bindtextdomain\n",
      "KLEE: WARNING: undefined reference to function: gettext\n",
      "KLEE: WARNING: undefined reference to function: textdomain\n",
      "KLEE: WARNING: executable has module level assembly (ignoring)\n",
      "KLEE: WARNING ONCE: calling external: syscall(16, 0, 21505, 94427472822560) at klee/runtime/POSIX/fd.c:1007 10\n",
      "KLEE: WARNING ONCE: Alignment of memory from call \"malloc\" is not modelled. Using alignment of 8.\n",
      "KLEE: WARNING ONCE: calling __klee_posix_wrapped_main with extra arguments.\n",
      "KLEE: WARNING ONCE: calling external: getpagesize() at [no debug info]\n",
      "KLEE: WARNING ONCE: Alignment of memory from call \"calloc\" is not modelled. Using alignment of 8.\n",
      "KLEE: WARNING ONCE: calling external: bindtextdomain(94427471617888, 94427472040672) at [no debug info]\n",
      "KLEE: WARNING ONCE: calling external: textdomain(94427471617888) at [no debug info]\n",
      "KLEE: WARNING ONCE: Alignment of memory from call \"realloc\" is not modelled. Using alignment of 8.\n",
      "KLEE: WARNING ONCE: calling external: vprintf(94427472693024, 94427472853472) at libc/stdio/fprintf.c:35 14\n",
      "KLEE: WARNING ONCE: calling external: gettext(94427472151824) at [no debug info]\n",
      "KLEE: WARNING ONCE: calling close_stdout with extra arguments.\n",
      "\n",
      "KLEE: done: total instructions = 171835\n",
      "KLEE: done: completed paths = 1\n",
      "KLEE: done: generated tests = 1\n"
     ]
    },
    {
     "name": "stdout",
     "output_type": "stream",
     "text": [
      "/home/igandhi/Documents/build/bin/klee --search=random-path --no-forking --track-instruction-time --libc=uclibc --posix-runtime --replace-condition=12806 --replay-path=\"/home/igandhi/Documents/profiler/../klee/examples/llvm-coreutils/bitcodes/klee-out-0/test000001.path\" ../klee/examples/llvm-coreutils/bitcodes/split.bc  --sym-arg 10\n"
     ]
    },
    {
     "name": "stderr",
     "output_type": "stream",
     "text": [
      "KLEE: NOTE: Using POSIX model: /home/igandhi/Documents/build/Debug+Asserts/lib/libkleeRuntimePOSIX.bca\n",
      "KLEE: NOTE: Using klee-uclibc : /home/igandhi/Documents/build/Debug+Asserts/lib/klee-uclibc.bca\n",
      "KLEE: output directory is \"/home/igandhi/Documents/profiler/../klee/examples/llvm-coreutils/bitcodes/klee-out-43\"\n",
      "KLEE: Using STP solver backend\n",
      "KLEE: WARNING: undefined reference to function: __ctype_get_mb_cur_max\n",
      "KLEE: WARNING: undefined reference to function: bindtextdomain\n",
      "KLEE: WARNING: undefined reference to function: gettext\n",
      "KLEE: WARNING: undefined reference to function: textdomain\n",
      "KLEE: WARNING: executable has module level assembly (ignoring)\n",
      "KLEE: WARNING ONCE: calling external: syscall(16, 0, 21505, 94716274450064) at klee/runtime/POSIX/fd.c:1007 10\n",
      "KLEE: WARNING ONCE: Alignment of memory from call \"malloc\" is not modelled. Using alignment of 8.\n",
      "KLEE: WARNING ONCE: calling __klee_posix_wrapped_main with extra arguments.\n",
      "KLEE: WARNING ONCE: calling external: getpagesize() at [no debug info]\n",
      "KLEE: WARNING ONCE: Alignment of memory from call \"calloc\" is not modelled. Using alignment of 8.\n",
      "KLEE: WARNING ONCE: calling external: bindtextdomain(94716273942368, 94716274365152) at [no debug info]\n",
      "KLEE: WARNING ONCE: calling external: textdomain(94716273942368) at [no debug info]\n",
      "KLEE: WARNING ONCE: Alignment of memory from call \"realloc\" is not modelled. Using alignment of 8.\n",
      "KLEE: WARNING ONCE: calling external: vprintf(94716275017504, 94716275177952) at libc/stdio/fprintf.c:35 14\n",
      "KLEE: WARNING ONCE: calling external: gettext(94716274476304) at [no debug info]\n",
      "KLEE: WARNING ONCE: calling close_stdout with extra arguments.\n",
      "\n",
      "KLEE: done: total instructions = 171835\n",
      "KLEE: done: completed paths = 1\n",
      "KLEE: done: generated tests = 1\n"
     ]
    },
    {
     "name": "stdout",
     "output_type": "stream",
     "text": [
      "/home/igandhi/Documents/build/bin/klee --search=random-path --no-forking --track-instruction-time --libc=uclibc --posix-runtime --replace-condition=12810 --replay-path=\"/home/igandhi/Documents/profiler/../klee/examples/llvm-coreutils/bitcodes/klee-out-0/test000001.path\" ../klee/examples/llvm-coreutils/bitcodes/split.bc  --sym-arg 10\n"
     ]
    },
    {
     "name": "stderr",
     "output_type": "stream",
     "text": [
      "KLEE: NOTE: Using POSIX model: /home/igandhi/Documents/build/Debug+Asserts/lib/libkleeRuntimePOSIX.bca\n",
      "KLEE: NOTE: Using klee-uclibc : /home/igandhi/Documents/build/Debug+Asserts/lib/klee-uclibc.bca\n",
      "KLEE: output directory is \"/home/igandhi/Documents/profiler/../klee/examples/llvm-coreutils/bitcodes/klee-out-44\"\n",
      "KLEE: Using STP solver backend\n",
      "KLEE: WARNING: undefined reference to function: __ctype_get_mb_cur_max\n",
      "KLEE: WARNING: undefined reference to function: bindtextdomain\n",
      "KLEE: WARNING: undefined reference to function: gettext\n",
      "KLEE: WARNING: undefined reference to function: textdomain\n",
      "KLEE: WARNING: executable has module level assembly (ignoring)\n",
      "KLEE: WARNING ONCE: calling external: syscall(16, 0, 21505, 94858331963632) at klee/runtime/POSIX/fd.c:1007 10\n",
      "KLEE: WARNING ONCE: Alignment of memory from call \"malloc\" is not modelled. Using alignment of 8.\n",
      "KLEE: WARNING ONCE: calling __klee_posix_wrapped_main with extra arguments.\n",
      "KLEE: WARNING ONCE: calling external: getpagesize() at [no debug info]\n",
      "KLEE: WARNING ONCE: Alignment of memory from call \"calloc\" is not modelled. Using alignment of 8.\n",
      "KLEE: WARNING ONCE: calling external: bindtextdomain(94858331430752, 94858331853536) at [no debug info]\n",
      "KLEE: WARNING ONCE: calling external: textdomain(94858331430752) at [no debug info]\n",
      "KLEE: WARNING ONCE: Alignment of memory from call \"realloc\" is not modelled. Using alignment of 8.\n",
      "KLEE: WARNING ONCE: calling external: vprintf(94858332505888, 94858332666336) at libc/stdio/fprintf.c:35 14\n",
      "KLEE: WARNING ONCE: calling external: gettext(94858331964688) at [no debug info]\n",
      "KLEE: WARNING ONCE: calling close_stdout with extra arguments.\n",
      "\n",
      "KLEE: done: total instructions = 171835\n",
      "KLEE: done: completed paths = 1\n",
      "KLEE: done: generated tests = 1\n"
     ]
    },
    {
     "name": "stdout",
     "output_type": "stream",
     "text": [
      "/home/igandhi/Documents/build/bin/klee --search=random-path --no-forking --track-instruction-time --libc=uclibc --posix-runtime --replace-condition=12812 --replay-path=\"/home/igandhi/Documents/profiler/../klee/examples/llvm-coreutils/bitcodes/klee-out-0/test000001.path\" ../klee/examples/llvm-coreutils/bitcodes/split.bc  --sym-arg 10\n"
     ]
    },
    {
     "name": "stderr",
     "output_type": "stream",
     "text": [
      "KLEE: NOTE: Using POSIX model: /home/igandhi/Documents/build/Debug+Asserts/lib/libkleeRuntimePOSIX.bca\n",
      "KLEE: NOTE: Using klee-uclibc : /home/igandhi/Documents/build/Debug+Asserts/lib/klee-uclibc.bca\n",
      "KLEE: output directory is \"/home/igandhi/Documents/profiler/../klee/examples/llvm-coreutils/bitcodes/klee-out-45\"\n",
      "KLEE: Using STP solver backend\n",
      "KLEE: WARNING: undefined reference to function: __ctype_get_mb_cur_max\n",
      "KLEE: WARNING: undefined reference to function: bindtextdomain\n",
      "KLEE: WARNING: undefined reference to function: gettext\n",
      "KLEE: WARNING: undefined reference to function: textdomain\n",
      "KLEE: WARNING: executable has module level assembly (ignoring)\n",
      "KLEE: WARNING ONCE: calling external: syscall(16, 0, 21505, 93910068199712) at klee/runtime/POSIX/fd.c:1007 10\n",
      "KLEE: WARNING ONCE: Alignment of memory from call \"malloc\" is not modelled. Using alignment of 8.\n",
      "KLEE: WARNING ONCE: calling __klee_posix_wrapped_main with extra arguments.\n",
      "KLEE: WARNING ONCE: calling external: getpagesize() at [no debug info]\n",
      "KLEE: WARNING ONCE: Alignment of memory from call \"calloc\" is not modelled. Using alignment of 8.\n",
      "KLEE: WARNING ONCE: calling external: bindtextdomain(93910066995040, 93910067417824) at [no debug info]\n",
      "KLEE: WARNING ONCE: calling external: textdomain(93910066995040) at [no debug info]\n",
      "KLEE: WARNING ONCE: Alignment of memory from call \"realloc\" is not modelled. Using alignment of 8.\n",
      "KLEE: WARNING ONCE: calling external: vprintf(93910068070176, 93910068230624) at libc/stdio/fprintf.c:35 14\n",
      "KLEE: WARNING ONCE: calling external: gettext(93910067528976) at [no debug info]\n",
      "KLEE: WARNING ONCE: calling close_stdout with extra arguments.\n",
      "\n",
      "KLEE: done: total instructions = 171835\n",
      "KLEE: done: completed paths = 1\n",
      "KLEE: done: generated tests = 1\n"
     ]
    },
    {
     "name": "stdout",
     "output_type": "stream",
     "text": [
      "/home/igandhi/Documents/build/bin/klee --search=random-path --no-forking --track-instruction-time --libc=uclibc --posix-runtime --replace-condition=12814 --replay-path=\"/home/igandhi/Documents/profiler/../klee/examples/llvm-coreutils/bitcodes/klee-out-0/test000001.path\" ../klee/examples/llvm-coreutils/bitcodes/split.bc  --sym-arg 10\n"
     ]
    },
    {
     "name": "stderr",
     "output_type": "stream",
     "text": [
      "KLEE: NOTE: Using POSIX model: /home/igandhi/Documents/build/Debug+Asserts/lib/libkleeRuntimePOSIX.bca\n",
      "KLEE: NOTE: Using klee-uclibc : /home/igandhi/Documents/build/Debug+Asserts/lib/klee-uclibc.bca\n",
      "KLEE: output directory is \"/home/igandhi/Documents/profiler/../klee/examples/llvm-coreutils/bitcodes/klee-out-46\"\n",
      "KLEE: Using STP solver backend\n",
      "KLEE: WARNING: undefined reference to function: __ctype_get_mb_cur_max\n",
      "KLEE: WARNING: undefined reference to function: bindtextdomain\n",
      "KLEE: WARNING: undefined reference to function: gettext\n",
      "KLEE: WARNING: undefined reference to function: textdomain\n",
      "KLEE: WARNING: executable has module level assembly (ignoring)\n",
      "KLEE: WARNING ONCE: calling external: syscall(16, 0, 21505, 94304838540464) at klee/runtime/POSIX/fd.c:1007 10\n",
      "KLEE: WARNING ONCE: Alignment of memory from call \"malloc\" is not modelled. Using alignment of 8.\n",
      "KLEE: WARNING ONCE: calling __klee_posix_wrapped_main with extra arguments.\n",
      "KLEE: WARNING ONCE: calling external: getpagesize() at [no debug info]\n",
      "KLEE: WARNING ONCE: Alignment of memory from call \"calloc\" is not modelled. Using alignment of 8.\n",
      "KLEE: WARNING ONCE: calling external: bindtextdomain(94304838025056, 94304838447840) at [no debug info]\n",
      "KLEE: WARNING ONCE: calling external: textdomain(94304838025056) at [no debug info]\n",
      "KLEE: WARNING ONCE: Alignment of memory from call \"realloc\" is not modelled. Using alignment of 8.\n",
      "KLEE: WARNING ONCE: calling external: vprintf(94304839100192, 94304839260640) at libc/stdio/fprintf.c:35 14\n",
      "KLEE: WARNING ONCE: calling external: gettext(94304838558992) at [no debug info]\n",
      "KLEE: WARNING ONCE: calling close_stdout with extra arguments.\n",
      "\n",
      "KLEE: done: total instructions = 171835\n",
      "KLEE: done: completed paths = 1\n",
      "KLEE: done: generated tests = 1\n"
     ]
    },
    {
     "name": "stdout",
     "output_type": "stream",
     "text": [
      "/home/igandhi/Documents/build/bin/klee --search=random-path --no-forking --track-instruction-time --libc=uclibc --posix-runtime --replace-condition=12816 --replay-path=\"/home/igandhi/Documents/profiler/../klee/examples/llvm-coreutils/bitcodes/klee-out-0/test000001.path\" ../klee/examples/llvm-coreutils/bitcodes/split.bc  --sym-arg 10\n"
     ]
    },
    {
     "name": "stderr",
     "output_type": "stream",
     "text": [
      "KLEE: NOTE: Using POSIX model: /home/igandhi/Documents/build/Debug+Asserts/lib/libkleeRuntimePOSIX.bca\n",
      "KLEE: NOTE: Using klee-uclibc : /home/igandhi/Documents/build/Debug+Asserts/lib/klee-uclibc.bca\n",
      "KLEE: output directory is \"/home/igandhi/Documents/profiler/../klee/examples/llvm-coreutils/bitcodes/klee-out-47\"\n",
      "KLEE: Using STP solver backend\n",
      "KLEE: WARNING: undefined reference to function: __ctype_get_mb_cur_max\n",
      "KLEE: WARNING: undefined reference to function: bindtextdomain\n",
      "KLEE: WARNING: undefined reference to function: gettext\n",
      "KLEE: WARNING: undefined reference to function: textdomain\n",
      "KLEE: WARNING: executable has module level assembly (ignoring)\n",
      "KLEE: WARNING ONCE: calling external: syscall(16, 0, 21505, 94372649877792) at klee/runtime/POSIX/fd.c:1007 10\n",
      "KLEE: WARNING ONCE: Alignment of memory from call \"malloc\" is not modelled. Using alignment of 8.\n",
      "KLEE: WARNING ONCE: calling __klee_posix_wrapped_main with extra arguments.\n",
      "KLEE: WARNING ONCE: calling external: getpagesize() at [no debug info]\n",
      "KLEE: WARNING ONCE: Alignment of memory from call \"calloc\" is not modelled. Using alignment of 8.\n",
      "KLEE: WARNING ONCE: calling external: bindtextdomain(94372648673120, 94372649095904) at [no debug info]\n",
      "KLEE: WARNING ONCE: calling external: textdomain(94372648673120) at [no debug info]\n",
      "KLEE: WARNING ONCE: Alignment of memory from call \"realloc\" is not modelled. Using alignment of 8.\n",
      "KLEE: WARNING ONCE: calling external: vprintf(94372649748256, 94372649908704) at libc/stdio/fprintf.c:35 14\n",
      "KLEE: WARNING ONCE: calling external: gettext(94372649207056) at [no debug info]\n",
      "KLEE: WARNING ONCE: calling close_stdout with extra arguments.\n",
      "\n",
      "KLEE: done: total instructions = 171835\n",
      "KLEE: done: completed paths = 1\n",
      "KLEE: done: generated tests = 1\n"
     ]
    },
    {
     "name": "stdout",
     "output_type": "stream",
     "text": [
      "/home/igandhi/Documents/build/bin/klee --search=random-path --no-forking --track-instruction-time --libc=uclibc --posix-runtime --replace-condition=12818 --replay-path=\"/home/igandhi/Documents/profiler/../klee/examples/llvm-coreutils/bitcodes/klee-out-0/test000001.path\" ../klee/examples/llvm-coreutils/bitcodes/split.bc  --sym-arg 10\n"
     ]
    },
    {
     "name": "stderr",
     "output_type": "stream",
     "text": [
      "KLEE: NOTE: Using POSIX model: /home/igandhi/Documents/build/Debug+Asserts/lib/libkleeRuntimePOSIX.bca\n",
      "KLEE: NOTE: Using klee-uclibc : /home/igandhi/Documents/build/Debug+Asserts/lib/klee-uclibc.bca\n",
      "KLEE: output directory is \"/home/igandhi/Documents/profiler/../klee/examples/llvm-coreutils/bitcodes/klee-out-48\"\n",
      "KLEE: Using STP solver backend\n",
      "KLEE: WARNING: undefined reference to function: __ctype_get_mb_cur_max\n",
      "KLEE: WARNING: undefined reference to function: bindtextdomain\n",
      "KLEE: WARNING: undefined reference to function: gettext\n",
      "KLEE: WARNING: undefined reference to function: textdomain\n",
      "KLEE: WARNING: executable has module level assembly (ignoring)\n",
      "KLEE: WARNING ONCE: calling external: syscall(16, 0, 21505, 94550884221216) at klee/runtime/POSIX/fd.c:1007 10\n",
      "KLEE: WARNING ONCE: Alignment of memory from call \"malloc\" is not modelled. Using alignment of 8.\n",
      "KLEE: WARNING ONCE: calling __klee_posix_wrapped_main with extra arguments.\n",
      "KLEE: WARNING ONCE: calling external: getpagesize() at [no debug info]\n",
      "KLEE: WARNING ONCE: Alignment of memory from call \"calloc\" is not modelled. Using alignment of 8.\n",
      "KLEE: WARNING ONCE: calling external: bindtextdomain(94550883016544, 94550883439328) at [no debug info]\n",
      "KLEE: WARNING ONCE: calling external: textdomain(94550883016544) at [no debug info]\n",
      "KLEE: WARNING ONCE: Alignment of memory from call \"realloc\" is not modelled. Using alignment of 8.\n",
      "KLEE: WARNING ONCE: calling external: vprintf(94550884091680, 94550884252128) at libc/stdio/fprintf.c:35 14\n",
      "KLEE: WARNING ONCE: calling external: gettext(94550883550480) at [no debug info]\n",
      "KLEE: WARNING ONCE: calling close_stdout with extra arguments.\n",
      "\n",
      "KLEE: done: total instructions = 171835\n",
      "KLEE: done: completed paths = 1\n",
      "KLEE: done: generated tests = 1\n"
     ]
    },
    {
     "name": "stdout",
     "output_type": "stream",
     "text": [
      "/home/igandhi/Documents/build/bin/klee --search=random-path --no-forking --track-instruction-time --libc=uclibc --posix-runtime --replace-condition=12820 --replay-path=\"/home/igandhi/Documents/profiler/../klee/examples/llvm-coreutils/bitcodes/klee-out-0/test000001.path\" ../klee/examples/llvm-coreutils/bitcodes/split.bc  --sym-arg 10\n"
     ]
    },
    {
     "name": "stderr",
     "output_type": "stream",
     "text": [
      "KLEE: NOTE: Using POSIX model: /home/igandhi/Documents/build/Debug+Asserts/lib/libkleeRuntimePOSIX.bca\n",
      "KLEE: NOTE: Using klee-uclibc : /home/igandhi/Documents/build/Debug+Asserts/lib/klee-uclibc.bca\n",
      "KLEE: output directory is \"/home/igandhi/Documents/profiler/../klee/examples/llvm-coreutils/bitcodes/klee-out-49\"\n",
      "KLEE: Using STP solver backend\n",
      "KLEE: WARNING: undefined reference to function: __ctype_get_mb_cur_max\n",
      "KLEE: WARNING: undefined reference to function: bindtextdomain\n",
      "KLEE: WARNING: undefined reference to function: gettext\n",
      "KLEE: WARNING: undefined reference to function: textdomain\n",
      "KLEE: WARNING: executable has module level assembly (ignoring)\n",
      "KLEE: WARNING ONCE: calling external: syscall(16, 0, 21505, 94331830060016) at klee/runtime/POSIX/fd.c:1007 10\n",
      "KLEE: WARNING ONCE: Alignment of memory from call \"malloc\" is not modelled. Using alignment of 8.\n",
      "KLEE: WARNING ONCE: calling __klee_posix_wrapped_main with extra arguments.\n",
      "KLEE: WARNING ONCE: calling external: getpagesize() at [no debug info]\n",
      "KLEE: WARNING ONCE: Alignment of memory from call \"calloc\" is not modelled. Using alignment of 8.\n",
      "KLEE: WARNING ONCE: calling external: bindtextdomain(94331828977504, 94331829400288) at [no debug info]\n",
      "KLEE: WARNING ONCE: calling external: textdomain(94331828977504) at [no debug info]\n",
      "KLEE: WARNING ONCE: Alignment of memory from call \"realloc\" is not modelled. Using alignment of 8.\n",
      "KLEE: WARNING ONCE: calling external: vprintf(94331830052640, 94331830213088) at libc/stdio/fprintf.c:35 14\n",
      "KLEE: WARNING ONCE: calling external: gettext(94331829511440) at [no debug info]\n",
      "KLEE: WARNING ONCE: calling close_stdout with extra arguments.\n",
      "\n",
      "KLEE: done: total instructions = 171835\n",
      "KLEE: done: completed paths = 1\n",
      "KLEE: done: generated tests = 1\n"
     ]
    },
    {
     "name": "stdout",
     "output_type": "stream",
     "text": [
      "/home/igandhi/Documents/build/bin/klee --search=random-path --no-forking --track-instruction-time --libc=uclibc --posix-runtime --replace-condition=12822 --replay-path=\"/home/igandhi/Documents/profiler/../klee/examples/llvm-coreutils/bitcodes/klee-out-0/test000001.path\" ../klee/examples/llvm-coreutils/bitcodes/split.bc  --sym-arg 10\n"
     ]
    },
    {
     "name": "stderr",
     "output_type": "stream",
     "text": [
      "KLEE: NOTE: Using POSIX model: /home/igandhi/Documents/build/Debug+Asserts/lib/libkleeRuntimePOSIX.bca\n",
      "KLEE: NOTE: Using klee-uclibc : /home/igandhi/Documents/build/Debug+Asserts/lib/klee-uclibc.bca\n",
      "KLEE: output directory is \"/home/igandhi/Documents/profiler/../klee/examples/llvm-coreutils/bitcodes/klee-out-50\"\n",
      "KLEE: Using STP solver backend\n",
      "KLEE: WARNING: undefined reference to function: __ctype_get_mb_cur_max\n",
      "KLEE: WARNING: undefined reference to function: bindtextdomain\n",
      "KLEE: WARNING: undefined reference to function: gettext\n",
      "KLEE: WARNING: undefined reference to function: textdomain\n",
      "KLEE: WARNING: executable has module level assembly (ignoring)\n",
      "KLEE: WARNING ONCE: calling external: syscall(16, 0, 21505, 94186970046752) at klee/runtime/POSIX/fd.c:1007 10\n",
      "KLEE: WARNING ONCE: Alignment of memory from call \"malloc\" is not modelled. Using alignment of 8.\n",
      "KLEE: WARNING ONCE: calling __klee_posix_wrapped_main with extra arguments.\n",
      "KLEE: WARNING ONCE: calling external: getpagesize() at [no debug info]\n",
      "KLEE: WARNING ONCE: Alignment of memory from call \"calloc\" is not modelled. Using alignment of 8.\n",
      "KLEE: WARNING ONCE: calling external: bindtextdomain(94186968842080, 94186969264864) at [no debug info]\n",
      "KLEE: WARNING ONCE: calling external: textdomain(94186968842080) at [no debug info]\n",
      "KLEE: WARNING ONCE: Alignment of memory from call \"realloc\" is not modelled. Using alignment of 8.\n",
      "KLEE: WARNING ONCE: calling external: vprintf(94186969917216, 94186970077664) at libc/stdio/fprintf.c:35 14\n",
      "KLEE: WARNING ONCE: calling external: gettext(94186969376016) at [no debug info]\n",
      "KLEE: WARNING ONCE: calling close_stdout with extra arguments.\n",
      "\n",
      "KLEE: done: total instructions = 171835\n",
      "KLEE: done: completed paths = 1\n",
      "KLEE: done: generated tests = 1\n"
     ]
    },
    {
     "name": "stdout",
     "output_type": "stream",
     "text": [
      "/home/igandhi/Documents/build/bin/klee --search=random-path --no-forking --track-instruction-time --libc=uclibc --posix-runtime --replace-condition=12824 --replay-path=\"/home/igandhi/Documents/profiler/../klee/examples/llvm-coreutils/bitcodes/klee-out-0/test000001.path\" ../klee/examples/llvm-coreutils/bitcodes/split.bc  --sym-arg 10\n"
     ]
    },
    {
     "name": "stderr",
     "output_type": "stream",
     "text": [
      "KLEE: NOTE: Using POSIX model: /home/igandhi/Documents/build/Debug+Asserts/lib/libkleeRuntimePOSIX.bca\n",
      "KLEE: NOTE: Using klee-uclibc : /home/igandhi/Documents/build/Debug+Asserts/lib/klee-uclibc.bca\n",
      "KLEE: output directory is \"/home/igandhi/Documents/profiler/../klee/examples/llvm-coreutils/bitcodes/klee-out-51\"\n",
      "KLEE: Using STP solver backend\n",
      "KLEE: WARNING: undefined reference to function: __ctype_get_mb_cur_max\n",
      "KLEE: WARNING: undefined reference to function: bindtextdomain\n",
      "KLEE: WARNING: undefined reference to function: gettext\n",
      "KLEE: WARNING: undefined reference to function: textdomain\n",
      "KLEE: WARNING: executable has module level assembly (ignoring)\n",
      "KLEE: WARNING ONCE: calling external: syscall(16, 0, 21505, 94914179260704) at klee/runtime/POSIX/fd.c:1007 10\n",
      "KLEE: WARNING ONCE: Alignment of memory from call \"malloc\" is not modelled. Using alignment of 8.\n",
      "KLEE: WARNING ONCE: calling __klee_posix_wrapped_main with extra arguments.\n",
      "KLEE: WARNING ONCE: calling external: getpagesize() at [no debug info]\n",
      "KLEE: WARNING ONCE: Alignment of memory from call \"calloc\" is not modelled. Using alignment of 8.\n",
      "KLEE: WARNING ONCE: calling external: bindtextdomain(94914178056032, 94914178478816) at [no debug info]\n",
      "KLEE: WARNING ONCE: calling external: textdomain(94914178056032) at [no debug info]\n",
      "KLEE: WARNING ONCE: Alignment of memory from call \"realloc\" is not modelled. Using alignment of 8.\n",
      "KLEE: WARNING ONCE: calling external: vprintf(94914179131168, 94914179291616) at libc/stdio/fprintf.c:35 14\n",
      "KLEE: WARNING ONCE: calling external: gettext(94914178589968) at [no debug info]\n",
      "KLEE: WARNING ONCE: calling close_stdout with extra arguments.\n",
      "\n",
      "KLEE: done: total instructions = 171835\n",
      "KLEE: done: completed paths = 1\n",
      "KLEE: done: generated tests = 1\n"
     ]
    },
    {
     "name": "stdout",
     "output_type": "stream",
     "text": [
      "/home/igandhi/Documents/build/bin/klee --search=random-path --no-forking --track-instruction-time --libc=uclibc --posix-runtime --replace-condition=12826 --replay-path=\"/home/igandhi/Documents/profiler/../klee/examples/llvm-coreutils/bitcodes/klee-out-0/test000001.path\" ../klee/examples/llvm-coreutils/bitcodes/split.bc  --sym-arg 10\n"
     ]
    },
    {
     "name": "stderr",
     "output_type": "stream",
     "text": [
      "KLEE: NOTE: Using POSIX model: /home/igandhi/Documents/build/Debug+Asserts/lib/libkleeRuntimePOSIX.bca\n",
      "KLEE: NOTE: Using klee-uclibc : /home/igandhi/Documents/build/Debug+Asserts/lib/klee-uclibc.bca\n",
      "KLEE: output directory is \"/home/igandhi/Documents/profiler/../klee/examples/llvm-coreutils/bitcodes/klee-out-52\"\n",
      "KLEE: Using STP solver backend\n",
      "KLEE: WARNING: undefined reference to function: __ctype_get_mb_cur_max\n",
      "KLEE: WARNING: undefined reference to function: bindtextdomain\n",
      "KLEE: WARNING: undefined reference to function: gettext\n",
      "KLEE: WARNING: undefined reference to function: textdomain\n",
      "KLEE: WARNING: executable has module level assembly (ignoring)\n",
      "KLEE: WARNING ONCE: calling external: syscall(16, 0, 21505, 94202989895968) at klee/runtime/POSIX/fd.c:1007 10\n",
      "KLEE: WARNING ONCE: Alignment of memory from call \"malloc\" is not modelled. Using alignment of 8.\n",
      "KLEE: WARNING ONCE: calling __klee_posix_wrapped_main with extra arguments.\n",
      "KLEE: WARNING ONCE: calling external: getpagesize() at [no debug info]\n",
      "KLEE: WARNING ONCE: Alignment of memory from call \"calloc\" is not modelled. Using alignment of 8.\n",
      "KLEE: WARNING ONCE: calling external: bindtextdomain(94202988691296, 94202989114080) at [no debug info]\n",
      "KLEE: WARNING ONCE: calling external: textdomain(94202988691296) at [no debug info]\n",
      "KLEE: WARNING ONCE: Alignment of memory from call \"realloc\" is not modelled. Using alignment of 8.\n",
      "KLEE: WARNING ONCE: calling external: vprintf(94202989766432, 94202989926880) at libc/stdio/fprintf.c:35 14\n",
      "KLEE: WARNING ONCE: calling external: gettext(94202989225232) at [no debug info]\n",
      "KLEE: WARNING ONCE: calling close_stdout with extra arguments.\n",
      "\n",
      "KLEE: done: total instructions = 171835\n",
      "KLEE: done: completed paths = 1\n",
      "KLEE: done: generated tests = 1\n"
     ]
    },
    {
     "name": "stdout",
     "output_type": "stream",
     "text": [
      "/home/igandhi/Documents/build/bin/klee --search=random-path --no-forking --track-instruction-time --libc=uclibc --posix-runtime --replace-condition=12828 --replay-path=\"/home/igandhi/Documents/profiler/../klee/examples/llvm-coreutils/bitcodes/klee-out-0/test000001.path\" ../klee/examples/llvm-coreutils/bitcodes/split.bc  --sym-arg 10\n"
     ]
    },
    {
     "name": "stderr",
     "output_type": "stream",
     "text": [
      "KLEE: NOTE: Using POSIX model: /home/igandhi/Documents/build/Debug+Asserts/lib/libkleeRuntimePOSIX.bca\n",
      "KLEE: NOTE: Using klee-uclibc : /home/igandhi/Documents/build/Debug+Asserts/lib/klee-uclibc.bca\n",
      "KLEE: output directory is \"/home/igandhi/Documents/profiler/../klee/examples/llvm-coreutils/bitcodes/klee-out-53\"\n",
      "KLEE: Using STP solver backend\n",
      "KLEE: WARNING: undefined reference to function: __ctype_get_mb_cur_max\n",
      "KLEE: WARNING: undefined reference to function: bindtextdomain\n",
      "KLEE: WARNING: undefined reference to function: gettext\n",
      "KLEE: WARNING: undefined reference to function: textdomain\n",
      "KLEE: WARNING: executable has module level assembly (ignoring)\n",
      "KLEE: WARNING ONCE: calling external: syscall(16, 0, 21505, 94308905030288) at klee/runtime/POSIX/fd.c:1007 10\n",
      "KLEE: WARNING ONCE: Alignment of memory from call \"malloc\" is not modelled. Using alignment of 8.\n",
      "KLEE: WARNING ONCE: calling __klee_posix_wrapped_main with extra arguments.\n",
      "KLEE: WARNING ONCE: calling external: getpagesize() at [no debug info]\n",
      "KLEE: WARNING ONCE: Alignment of memory from call \"calloc\" is not modelled. Using alignment of 8.\n",
      "KLEE: WARNING ONCE: calling external: bindtextdomain(94308904517472, 94308904940256) at [no debug info]\n",
      "KLEE: WARNING ONCE: calling external: textdomain(94308904517472) at [no debug info]\n",
      "KLEE: WARNING ONCE: Alignment of memory from call \"realloc\" is not modelled. Using alignment of 8.\n",
      "KLEE: WARNING ONCE: calling external: vprintf(94308905592608, 94308905753056) at libc/stdio/fprintf.c:35 14\n",
      "KLEE: WARNING ONCE: calling external: gettext(94308905051408) at [no debug info]\n",
      "KLEE: WARNING ONCE: calling close_stdout with extra arguments.\n",
      "\n",
      "KLEE: done: total instructions = 171835\n",
      "KLEE: done: completed paths = 1\n",
      "KLEE: done: generated tests = 1\n"
     ]
    },
    {
     "name": "stdout",
     "output_type": "stream",
     "text": [
      "Instructions,FullBranches,PartialBranches,NumBranches,UserTime,NumStates,MallocUsage,NumQueries,NumQueryConstructs,NumObjects,WallTime,CoveredInstructions,UncoveredInstructions,QueryTime,SolverTime,CexCacheTime,ForkTime,ResolveTime,QueryCexCacheMisses,QueryCexCacheHits,Breaks,Returns,Switchs,IndirectBrs,Invokes,Resumes,Unreachables,CleanupRets,CatchRets,CatchPads,CatchSwitchs,FNegs,Adds,FAdds,Subs,FSubs,Muls,FMuls,UDivs,SDivs,FDivs,URems,SRems,FRems,Ands,Ors,Xors,Allocas,Loads,Stores,AtomicCmpXchgs,AtomicRMWs,Fences,GetElementPtrs,Truncs,ZExts,SExts,FPTruncs,FPExts,FPToUIs,FPToSIs,UIToFPs,SIToFPs,IntToPtrs,PtrToInts,BitCasts,AddrSpaceCasts,ICmps,FCmps,PHIs,Selects,Calls,Shls,LShrs,AShrs,VAArgs,ExtractElements,InsertElements,ShuffleVectors,ExtractValues,InsertValues,LandingPads,CleanupPads,Cond\n",
      "171835,58,189,2080,786439.0,0,55382120,46,759,0,697478.0,4106,28844,377386,383135,379176,0,65,46,-1,23650,1067,3,0,0,0,0,0,0,0,0,0,8209,0,1248,0,81,0,4,0,0,1,0,0,118,14,17,5247,51863,34709,0,0,0,16499,598,5608,2559,0,0,0,0,0,0,1,97,146,0,12603,0,1261,3,6198,25,0,6,0,0,0,0,0,0,0,0,baseline\n",
      "171835,58,189,2080,842411.0,0,55408968,45,2125,0,741848.0,4106,28844,392026,398908,395217,0,71,45,-1,23650,1067,3,0,0,0,0,0,0,0,0,0,8209,0,1248,0,81,0,4,0,0,1,0,0,118,14,17,5247,51863,34709,0,0,0,16499,598,5608,2559,0,0,0,0,0,0,1,97,146,0,12603,0,1261,3,6198,25,0,6,0,0,0,0,0,0,0,0,(Sle 32       (SExt w32 (Read w8 0 arg00)))\n",
      "171835,58,189,2080,956670.0,0,55378608,45,745,0,846844.0,4106,28844,409310,415285,411125,0,62,45,-1,23650,1067,3,0,0,0,0,0,0,0,0,0,8209,0,1248,0,81,0,4,0,0,1,0,0,118,14,17,5247,51863,34709,0,0,0,16499,598,5608,2559,0,0,0,0,0,0,1,97,146,0,12603,0,1261,3,6198,25,0,6,0,0,0,0,0,0,0,0,(Sle 32       (SExt w32 (Read w8 1 arg00)))\n",
      "171835,58,189,2080,840731.0,0,55378472,45,752,0,842894.0,4106,28844,366057,371624,367740,0,64,45,-1,23650,1067,3,0,0,0,0,0,0,0,0,0,8209,0,1248,0,81,0,4,0,0,1,0,0,118,14,17,5247,51863,34709,0,0,0,16499,598,5608,2559,0,0,0,0,0,0,1,97,146,0,12603,0,1261,3,6198,25,0,6,0,0,0,0,0,0,0,0,(Sle 32       (SExt w32 (Read w8 2 arg00)))\n",
      "171835,58,189,2080,1008512.0,0,55381544,45,752,0,821411.0,4106,28844,418438,424021,420120,0,63,45,-1,23650,1067,3,0,0,0,0,0,0,0,0,0,8209,0,1248,0,81,0,4,0,0,1,0,0,118,14,17,5247,51863,34709,0,0,0,16499,598,5608,2559,0,0,0,0,0,0,1,97,146,0,12603,0,1261,3,6198,25,0,6,0,0,0,0,0,0,0,0,(Sle 32       (SExt w32 (Read w8 3 arg00)))\n",
      "171835,58,189,2080,845210.0,0,55381544,45,752,0,683992.0,4106,28844,372914,378186,374476,0,63,45,-1,23650,1067,3,0,0,0,0,0,0,0,0,0,8209,0,1248,0,81,0,4,0,0,1,0,0,118,14,17,5247,51863,34709,0,0,0,16499,598,5608,2559,0,0,0,0,0,0,1,97,146,0,12603,0,1261,3,6198,25,0,6,0,0,0,0,0,0,0,0,(Sle 32       (SExt w32 (Read w8 4 arg00)))\n",
      "171835,58,189,2080,929703.0,0,55378472,45,752,0,786304.0,4106,28844,384414,389578,385970,0,62,45,-1,23650,1067,3,0,0,0,0,0,0,0,0,0,8209,0,1248,0,81,0,4,0,0,1,0,0,118,14,17,5247,51863,34709,0,0,0,16499,598,5608,2559,0,0,0,0,0,0,1,97,146,0,12603,0,1261,3,6198,25,0,6,0,0,0,0,0,0,0,0,(Sle 32       (SExt w32 (Read w8 5 arg00)))\n",
      "171835,58,189,2080,990260.0,0,55381544,45,752,0,838632.0,4106,28844,409484,414533,411032,0,64,45,-1,23650,1067,3,0,0,0,0,0,0,0,0,0,8209,0,1248,0,81,0,4,0,0,1,0,0,118,14,17,5247,51863,34709,0,0,0,16499,598,5608,2559,0,0,0,0,0,0,1,97,146,0,12603,0,1261,3,6198,25,0,6,0,0,0,0,0,0,0,0,(Sle 32       (SExt w32 (Read w8 6 arg00)))\n",
      "171835,58,189,2080,928059.0,0,55378472,45,752,0,708085.0,4106,28844,340214,345533,341820,0,61,45,-1,23650,1067,3,0,0,0,0,0,0,0,0,0,8209,0,1248,0,81,0,4,0,0,1,0,0,118,14,17,5247,51863,34709,0,0,0,16499,598,5608,2559,0,0,0,0,0,0,1,97,146,0,12603,0,1261,3,6198,25,0,6,0,0,0,0,0,0,0,0,(Sle 32       (SExt w32 (Read w8 7 arg00)))\n",
      "171835,58,189,2080,971759.0,0,55382120,46,759,0,816266.0,4106,28844,421858,427387,423557,0,64,46,-1,23650,1067,3,0,0,0,0,0,0,0,0,0,8209,0,1248,0,81,0,4,0,0,1,0,0,118,14,17,5247,51863,34709,0,0,0,16499,598,5608,2559,0,0,0,0,0,0,1,97,146,0,12603,0,1261,3,6198,25,0,6,0,0,0,0,0,0,0,0,(Sle 32       (SExt w32 (Read w8 8 arg00)))\n",
      "171835,58,189,2080,806619.0,0,55382120,46,759,0,709954.0,4106,28844,373271,378506,374846,0,65,46,-1,23650,1067,3,0,0,0,0,0,0,0,0,0,8209,0,1248,0,81,0,4,0,0,1,0,0,118,14,17,5247,51863,34709,0,0,0,16499,598,5608,2559,0,0,0,0,0,0,1,97,146,0,12603,0,1261,3,6198,25,0,6,0,0,0,0,0,0,0,0,(Sle 32       (SExt w32 (Read w8 9 arg00)))\n",
      "171835,58,189,2080,937736.0,0,55382120,46,759,0,793197.0,4106,28844,418996,424648,420584,0,62,46,-1,23650,1067,3,0,0,0,0,0,0,0,0,0,8209,0,1248,0,81,0,4,0,0,1,0,0,118,14,17,5247,51863,34709,0,0,0,16499,598,5608,2559,0,0,0,0,0,0,1,97,146,0,12603,0,1261,3,6198,25,0,6,0,0,0,0,0,0,0,0,(Eq false      (Eq 45 (Read w8 0 arg00)))\n",
      "171835,58,189,2080,776752.0,0,55378824,46,759,0,821731.0,4106,28844,419870,425316,421452,0,65,46,-1,23650,1067,3,0,0,0,0,0,0,0,0,0,8209,0,1248,0,81,0,4,0,0,1,0,0,118,14,17,5247,51863,34709,0,0,0,16499,598,5608,2559,0,0,0,0,0,0,1,97,146,0,12603,0,1261,3,6198,25,0,6,0,0,0,0,0,0,0,0,(Eq 0 (Read w8 1 arg00))\n",
      "171835,58,189,2080,889929.0,0,55379048,46,759,0,780684.0,4106,28844,383982,389595,385648,0,66,46,-1,23650,1067,3,0,0,0,0,0,0,0,0,0,8209,0,1248,0,81,0,4,0,0,1,0,0,118,14,17,5247,51863,34709,0,0,0,16499,598,5608,2559,0,0,0,0,0,0,1,97,146,0,12603,0,1261,3,6198,25,0,6,0,0,0,0,0,0,0,0,(Eq 45 (Read w8 0 arg00))\n",
      "171835,58,189,2080,855392.0,0,55379048,46,759,0,752577.0,4106,28844,402159,407449,403730,0,62,46,-1,23650,1067,3,0,0,0,0,0,0,0,0,0,8209,0,1248,0,81,0,4,0,0,1,0,0,118,14,17,5247,51863,34709,0,0,0,16499,598,5608,2559,0,0,0,0,0,0,1,97,146,0,12603,0,1261,3,6198,25,0,6,0,0,0,0,0,0,0,0,(Eq false      (Eq 0 (Read w8 0 arg00)))\n",
      "171835,58,189,2080,1018097.0,0,55382120,46,759,0,829124.0,4106,28844,433464,439019,435083,0,64,46,-1,23650,1067,3,0,0,0,0,0,0,0,0,0,8209,0,1248,0,81,0,4,0,0,1,0,0,118,14,17,5247,51863,34709,0,0,0,16499,598,5608,2559,0,0,0,0,0,0,1,97,146,0,12603,0,1261,3,6198,25,0,6,0,0,0,0,0,0,0,0,(Eq 45 (Read w8 1 arg00))\n",
      "171835,58,189,2080,965733.0,0,55379048,46,759,0,804697.0,4106,28844,401263,406624,402857,0,65,46,-1,23650,1067,3,0,0,0,0,0,0,0,0,0,8209,0,1248,0,81,0,4,0,0,1,0,0,118,14,17,5247,51863,34709,0,0,0,16499,598,5608,2559,0,0,0,0,0,0,1,97,146,0,12603,0,1261,3,6198,25,0,6,0,0,0,0,0,0,0,0,(Eq false      (Eq 45 (Read w8 1 arg00)))\n",
      "171835,58,189,2080,962451.0,0,55382120,46,759,0,821740.0,4106,28844,414255,419996,415919,0,64,46,-1,23650,1067,3,0,0,0,0,0,0,0,0,0,8209,0,1248,0,81,0,4,0,0,1,0,0,118,14,17,5247,51863,34709,0,0,0,16499,598,5608,2559,0,0,0,0,0,0,1,97,146,0,12603,0,1261,3,6198,25,0,6,0,0,0,0,0,0,0,0,(Eq false      (Eq 45 (Read w8 0 arg00)))\n",
      "0,0,0,2080,674482.0,0,54672952,0,0,0,78315.0,0,32950,0,0,0,0,0,0,-1,0,0,0,0,0,0,0,0,0,0,0,0,0,0,0,0,0,0,0,0,0,0,0,0,0,0,0,0,0,0,0,0,0,0,0,0,0,0,0,0,0,0,0,0,0,0,0,0,0,0,0,0,0,0,0,0,0,0,0,0,0,0,0,(Eq 0 (Read w8 1 arg00))\n",
      "171835,58,189,2080,920266.0,0,55381512,45,736,0,703238.0,4106,28844,348512,353996,350135,0,64,45,-1,23650,1067,3,0,0,0,0,0,0,0,0,0,8209,0,1248,0,81,0,4,0,0,1,0,0,118,14,17,5247,51863,34709,0,0,0,16499,598,5608,2559,0,0,0,0,0,0,1,97,146,0,12603,0,1261,3,6198,25,0,6,0,0,0,0,0,0,0,0,(Eq 45 (Read w8 1 arg00))\n",
      "171835,58,189,2080,1032018.0,0,55378440,45,736,0,782403.0,4106,28844,385768,390940,387284,0,64,45,-1,23650,1067,3,0,0,0,0,0,0,0,0,0,8209,0,1248,0,81,0,4,0,0,1,0,0,118,14,17,5247,51863,34709,0,0,0,16499,598,5608,2559,0,0,0,0,0,0,1,97,146,0,12603,0,1261,3,6198,25,0,6,0,0,0,0,0,0,0,0,(Eq 48      (Extract w8 0 (SExt w32 (Read w8 (Extract w32 0 (Add w64 1                                                               (SExt w64 (ZExt w32 (Eq 45 (Read w8 1 arg00))))))                                       [10=0] @ arg00))))\n",
      "171835,58,189,2080,791558.0,0,55379048,46,759,0,803943.0,4106,28844,419367,424794,420959,0,69,46,-1,23650,1067,3,0,0,0,0,0,0,0,0,0,8209,0,1248,0,81,0,4,0,0,1,0,0,118,14,17,5247,51863,34709,0,0,0,16499,598,5608,2559,0,0,0,0,0,0,1,97,146,0,12603,0,1261,3,6198,25,0,6,0,0,0,0,0,0,0,0,(Eq 49      (Extract w8 0 (SExt w32 (Read w8 (Extract w32 0 (Add w64 1                                                               (SExt w64 (ZExt w32 (Eq 45 (Read w8 1 arg00))))))                                       [10=0] @ arg00))))\n",
      "171835,58,189,2080,861213.0,0,55382120,46,759,0,731826.0,4106,28844,368225,373615,369795,0,64,46,-1,23650,1067,3,0,0,0,0,0,0,0,0,0,8209,0,1248,0,81,0,4,0,0,1,0,0,118,14,17,5247,51863,34709,0,0,0,16499,598,5608,2559,0,0,0,0,0,0,1,97,146,0,12603,0,1261,3,6198,25,0,6,0,0,0,0,0,0,0,0,(Eq 50      (Extract w8 0 (SExt w32 (Read w8 (Extract w32 0 (Add w64 1                                                               (SExt w64 (ZExt w32 (Eq 45 (Read w8 1 arg00))))))                                       [10=0] @ arg00))))\n"
     ]
    },
    {
     "name": "stdout",
     "output_type": "stream",
     "text": [
      "171835,58,189,2080,857015.0,0,55381544,45,732,0,732819.0,4106,28844,378644,383929,380225,0,61,45,-1,23650,1067,3,0,0,0,0,0,0,0,0,0,8209,0,1248,0,81,0,4,0,0,1,0,0,118,14,17,5247,51863,34709,0,0,0,16499,598,5608,2559,0,0,0,0,0,0,1,97,146,0,12603,0,1261,3,6198,25,0,6,0,0,0,0,0,0,0,0,(Eq 0      (Read w8 (Extract w32 0 (Add w64 2                                       (SExt w64 (ZExt w32 (Eq 45 (Read w8 1 arg00))))))               [10=0] @ arg00))\n",
      "171835,58,189,2080,957723.0,0,55379048,46,759,0,809247.0,4106,28844,407817,413308,409414,0,66,46,-1,23650,1067,3,0,0,0,0,0,0,0,0,0,8209,0,1248,0,81,0,4,0,0,1,0,0,118,14,17,5247,51863,34709,0,0,0,16499,598,5608,2559,0,0,0,0,0,0,1,97,146,0,12603,0,1261,3,6198,25,0,6,0,0,0,0,0,0,0,0,(Eq 58      (Read w8 (Extract w32 0 (Add w64 1                                       (SExt w64 (ZExt w32 (Eq 45 (Read w8 1 arg00))))))               [10=0] @ arg00))\n",
      "171835,58,189,2080,1016680.0,0,55379048,46,759,0,823704.0,4106,28844,443068,449504,444940,0,65,46,-1,23650,1067,3,0,0,0,0,0,0,0,0,0,8209,0,1248,0,81,0,4,0,0,1,0,0,118,14,17,5247,51863,34709,0,0,0,16499,598,5608,2559,0,0,0,0,0,0,1,97,146,0,12603,0,1261,3,6198,25,0,6,0,0,0,0,0,0,0,0,(Eq 255      (Read w8 (Extract w32 0 (Add w64 1                                       (SExt w64 (ZExt w32 (Eq 45 (Read w8 1 arg00))))))               [10=0] @ arg00))\n",
      "171835,58,189,2080,898344.0,0,55379048,46,759,0,815206.0,4106,28844,408749,414219,410401,0,63,46,-1,23650,1067,3,0,0,0,0,0,0,0,0,0,8209,0,1248,0,81,0,4,0,0,1,0,0,118,14,17,5247,51863,34709,0,0,0,16499,598,5608,2559,0,0,0,0,0,0,1,97,146,0,12603,0,1261,3,6198,25,0,6,0,0,0,0,0,0,0,0,(Ult (SExt w64 (Add w32 4294967248                          (SExt w32 (Read w8 (Extract w32 0 (Add w64 1                                                                     (SExt w64 (ZExt w32 (Eq 45 (Read w8 1 arg00))))))                                             [10=0] @ arg00))))       0)\n",
      "171835,58,189,2080,844923.0,0,55382120,46,759,0,776259.0,4106,28844,423538,428966,425101,0,67,46,-1,23650,1067,3,0,0,0,0,0,0,0,0,0,8209,0,1248,0,81,0,4,0,0,1,0,0,118,14,17,5247,51863,34709,0,0,0,16499,598,5608,2559,0,0,0,0,0,0,1,97,146,0,12603,0,1261,3,6198,25,0,6,0,0,0,0,0,0,0,0,(Eq 0      (Read w8 (Extract w32 0 (Add w64 2                                       (SExt w64 (ZExt w32 (Eq 45 (Read w8 1 arg00))))))               [10=0] @ arg00))\n",
      "171835,58,189,2080,696404.0,0,55382120,46,759,0,712312.0,4106,28844,409361,414632,410952,0,56,46,-1,23650,1067,3,0,0,0,0,0,0,0,0,0,8209,0,1248,0,81,0,4,0,0,1,0,0,118,14,17,5247,51863,34709,0,0,0,16499,598,5608,2559,0,0,0,0,0,0,1,97,146,0,12603,0,1261,3,6198,25,0,6,0,0,0,0,0,0,0,0,(Eq 45 (Read w8 1 arg00))\n",
      "171835,58,189,2080,893918.0,0,55379048,46,759,0,3977158.0,4106,28844,405994,411350,407581,0,56,46,-1,23650,1067,3,0,0,0,0,0,0,0,0,0,8209,0,1248,0,81,0,4,0,0,1,0,0,118,14,17,5247,51863,34709,0,0,0,16499,598,5608,2559,0,0,0,0,0,0,1,97,146,0,12603,0,1261,3,6198,25,0,6,0,0,0,0,0,0,0,0,(Eq 48      (Extract w8 0 (SExt w32 (Read w8 (Extract w32 0 (Add w64 2                                                               (SExt w64 (ZExt w32 (Eq 45 (Read w8 1 arg00))))))                                       [10=0] @ arg00))))\n",
      "171835,58,189,2080,870544.0,0,55379048,46,759,0,773933.0,4106,28844,445067,450707,446698,0,68,46,-1,23650,1067,3,0,0,0,0,0,0,0,0,0,8209,0,1248,0,81,0,4,0,0,1,0,0,118,14,17,5247,51863,34709,0,0,0,16499,598,5608,2559,0,0,0,0,0,0,1,97,146,0,12603,0,1261,3,6198,25,0,6,0,0,0,0,0,0,0,0,(Eq 49      (Extract w8 0 (SExt w32 (Read w8 (Extract w32 0 (Add w64 2                                                               (SExt w64 (ZExt w32 (Eq 45 (Read w8 1 arg00))))))                                       [10=0] @ arg00))))\n",
      "171835,58,189,2080,768724.0,0,55379048,46,759,0,760621.0,4106,28844,439595,445134,441147,0,81,46,-1,23650,1067,3,0,0,0,0,0,0,0,0,0,8209,0,1248,0,81,0,4,0,0,1,0,0,118,14,17,5247,51863,34709,0,0,0,16499,598,5608,2559,0,0,0,0,0,0,1,97,146,0,12603,0,1261,3,6198,25,0,6,0,0,0,0,0,0,0,0,(Eq 50      (Extract w8 0 (SExt w32 (Read w8 (Extract w32 0 (Add w64 2                                                               (SExt w64 (ZExt w32 (Eq 45 (Read w8 1 arg00))))))                                       [10=0] @ arg00))))\n",
      "171835,58,189,2080,798876.0,0,55379048,46,759,0,752563.0,4106,28844,404825,410252,406477,0,62,46,-1,23650,1067,3,0,0,0,0,0,0,0,0,0,8209,0,1248,0,81,0,4,0,0,1,0,0,118,14,17,5247,51863,34709,0,0,0,16499,598,5608,2559,0,0,0,0,0,0,1,97,146,0,12603,0,1261,3,6198,25,0,6,0,0,0,0,0,0,0,0,(Eq 51      (Extract w8 0 (SExt w32 (Read w8 (Extract w32 0 (Add w64 2                                                               (SExt w64 (ZExt w32 (Eq 45 (Read w8 1 arg00))))))                                       [10=0] @ arg00))))\n",
      "171835,58,189,2080,960232.0,0,55382120,46,759,0,763960.0,4106,28844,406078,411684,407671,0,73,46,-1,23650,1067,3,0,0,0,0,0,0,0,0,0,8209,0,1248,0,81,0,4,0,0,1,0,0,118,14,17,5247,51863,34709,0,0,0,16499,598,5608,2559,0,0,0,0,0,0,1,97,146,0,12603,0,1261,3,6198,25,0,6,0,0,0,0,0,0,0,0,(Eq 52      (Extract w8 0 (SExt w32 (Read w8 (Extract w32 0 (Add w64 2                                                               (SExt w64 (ZExt w32 (Eq 45 (Read w8 1 arg00))))))                                       [10=0] @ arg00))))\n",
      "171835,58,189,2080,919775.0,0,55379048,46,759,0,758469.0,4106,28844,415237,420831,416888,0,65,46,-1,23650,1067,3,0,0,0,0,0,0,0,0,0,8209,0,1248,0,81,0,4,0,0,1,0,0,118,14,17,5247,51863,34709,0,0,0,16499,598,5608,2559,0,0,0,0,0,0,1,97,146,0,12603,0,1261,3,6198,25,0,6,0,0,0,0,0,0,0,0,(Eq 53      (Extract w8 0 (SExt w32 (Read w8 (Extract w32 0 (Add w64 2                                                               (SExt w64 (ZExt w32 (Eq 45 (Read w8 1 arg00))))))                                       [10=0] @ arg00))))\n",
      "171835,58,189,2080,788673.0,0,55379048,46,759,0,800595.0,4106,28844,416436,421943,418023,0,68,46,-1,23650,1067,3,0,0,0,0,0,0,0,0,0,8209,0,1248,0,81,0,4,0,0,1,0,0,118,14,17,5247,51863,34709,0,0,0,16499,598,5608,2559,0,0,0,0,0,0,1,97,146,0,12603,0,1261,3,6198,25,0,6,0,0,0,0,0,0,0,0,(Eq 54      (Extract w8 0 (SExt w32 (Read w8 (Extract w32 0 (Add w64 2                                                               (SExt w64 (ZExt w32 (Eq 45 (Read w8 1 arg00))))))                                       [10=0] @ arg00))))\n",
      "171835,58,189,2080,823293.0,0,55382120,46,759,0,769094.0,4106,28844,401644,407019,403187,0,65,46,-1,23650,1067,3,0,0,0,0,0,0,0,0,0,8209,0,1248,0,81,0,4,0,0,1,0,0,118,14,17,5247,51863,34709,0,0,0,16499,598,5608,2559,0,0,0,0,0,0,1,97,146,0,12603,0,1261,3,6198,25,0,6,0,0,0,0,0,0,0,0,(Eq 55      (Extract w8 0 (SExt w32 (Read w8 (Extract w32 0 (Add w64 2                                                               (SExt w64 (ZExt w32 (Eq 45 (Read w8 1 arg00))))))                                       [10=0] @ arg00))))\n",
      "171835,58,189,2080,890332.0,0,55382120,46,759,0,754685.0,4106,28844,350396,355554,351887,0,61,46,-1,23650,1067,3,0,0,0,0,0,0,0,0,0,8209,0,1248,0,81,0,4,0,0,1,0,0,118,14,17,5247,51863,34709,0,0,0,16499,598,5608,2559,0,0,0,0,0,0,1,97,146,0,12603,0,1261,3,6198,25,0,6,0,0,0,0,0,0,0,0,(Eq 56      (Extract w8 0 (SExt w32 (Read w8 (Extract w32 0 (Add w64 2                                                               (SExt w64 (ZExt w32 (Eq 45 (Read w8 1 arg00))))))                                       [10=0] @ arg00))))\n",
      "171835,58,189,2080,1054705.0,0,55382120,46,759,0,770286.0,4106,28844,374358,379960,376031,0,69,46,-1,23650,1067,3,0,0,0,0,0,0,0,0,0,8209,0,1248,0,81,0,4,0,0,1,0,0,118,14,17,5247,51863,34709,0,0,0,16499,598,5608,2559,0,0,0,0,0,0,1,97,146,0,12603,0,1261,3,6198,25,0,6,0,0,0,0,0,0,0,0,(Eq 57      (Extract w8 0 (SExt w32 (Read w8 (Extract w32 0 (Add w64 2                                                               (SExt w64 (ZExt w32 (Eq 45 (Read w8 1 arg00))))))                                       [10=0] @ arg00))))\n",
      "171835,58,189,2080,877004.0,0,55379048,46,759,0,792952.0,4106,28844,425627,431068,427287,0,62,46,-1,23650,1067,3,0,0,0,0,0,0,0,0,0,8209,0,1248,0,81,0,4,0,0,1,0,0,118,14,17,5247,51863,34709,0,0,0,16499,598,5608,2559,0,0,0,0,0,0,1,97,146,0,12603,0,1261,3,6198,25,0,6,0,0,0,0,0,0,0,0,(Eq 67      (Extract w8 0 (SExt w32 (Read w8 (Extract w32 0 (Add w64 2                                                               (SExt w64 (ZExt w32 (Eq 45 (Read w8 1 arg00))))))                                       [10=0] @ arg00))))\n"
     ]
    },
    {
     "name": "stdout",
     "output_type": "stream",
     "text": [
      "171835,58,189,2080,862145.0,0,55382120,46,759,0,743005.0,4106,28844,381825,387119,383340,0,67,46,-1,23650,1067,3,0,0,0,0,0,0,0,0,0,8209,0,1248,0,81,0,4,0,0,1,0,0,118,14,17,5247,51863,34709,0,0,0,16499,598,5608,2559,0,0,0,0,0,0,1,97,146,0,12603,0,1261,3,6198,25,0,6,0,0,0,0,0,0,0,0,(Eq 58      (Extract w8 0 (SExt w32 (Read w8 (Extract w32 0 (Add w64 2                                                               (SExt w64 (ZExt w32 (Eq 45 (Read w8 1 arg00))))))                                       [10=0] @ arg00))))\n",
      "171835,58,189,2080,1024751.0,0,55379048,46,759,0,784624.0,4106,28844,354340,359954,356027,0,67,46,-1,23650,1067,3,0,0,0,0,0,0,0,0,0,8209,0,1248,0,81,0,4,0,0,1,0,0,118,14,17,5247,51863,34709,0,0,0,16499,598,5608,2559,0,0,0,0,0,0,1,97,146,0,12603,0,1261,3,6198,25,0,6,0,0,0,0,0,0,0,0,(Eq 97      (Extract w8 0 (SExt w32 (Read w8 (Extract w32 0 (Add w64 2                                                               (SExt w64 (ZExt w32 (Eq 45 (Read w8 1 arg00))))))                                       [10=0] @ arg00))))\n",
      "171835,58,189,2080,777437.0,0,55382120,46,759,0,824984.0,4106,28844,457664,463392,459398,0,66,46,-1,23650,1067,3,0,0,0,0,0,0,0,0,0,8209,0,1248,0,81,0,4,0,0,1,0,0,118,14,17,5247,51863,34709,0,0,0,16499,598,5608,2559,0,0,0,0,0,0,1,97,146,0,12603,0,1261,3,6198,25,0,6,0,0,0,0,0,0,0,0,(Eq 58      (Extract w8 0 (SExt w32 (Read w8 (Extract w32 0 (Add w64 2                                                               (SExt w64 (ZExt w32 (Eq 45 (Read w8 1 arg00))))))                                       [10=0] @ arg00))))\n",
      "171835,58,189,2080,873543.0,0,55379048,46,759,0,763704.0,4106,28844,382950,388072,384460,0,58,46,-1,23650,1067,3,0,0,0,0,0,0,0,0,0,8209,0,1248,0,81,0,4,0,0,1,0,0,118,14,17,5247,51863,34709,0,0,0,16499,598,5608,2559,0,0,0,0,0,0,1,97,146,0,12603,0,1261,3,6198,25,0,6,0,0,0,0,0,0,0,0,(Eq 58      (Extract w8 0 (SExt w32 (Read w8 (Extract w32 0 (Add w64 2                                                               (SExt w64 (ZExt w32 (Eq 45 (Read w8 1 arg00))))))                                       [10=0] @ arg00))))\n",
      "171835,58,189,2080,853367.0,0,55379048,46,759,0,752092.0,4106,28844,377810,383442,379442,0,71,46,-1,23650,1067,3,0,0,0,0,0,0,0,0,0,8209,0,1248,0,81,0,4,0,0,1,0,0,118,14,17,5247,51863,34709,0,0,0,16499,598,5608,2559,0,0,0,0,0,0,1,97,146,0,12603,0,1261,3,6198,25,0,6,0,0,0,0,0,0,0,0,(Eq 100      (Extract w8 0 (SExt w32 (Read w8 (Extract w32 0 (Add w64 2                                                               (SExt w64 (ZExt w32 (Eq 45 (Read w8 1 arg00))))))                                       [10=0] @ arg00))))\n",
      "171835,58,189,2080,871633.0,0,55382120,46,759,0,851986.0,4106,28844,468847,474529,470494,0,70,46,-1,23650,1067,3,0,0,0,0,0,0,0,0,0,8209,0,1248,0,81,0,4,0,0,1,0,0,118,14,17,5247,51863,34709,0,0,0,16499,598,5608,2559,0,0,0,0,0,0,1,97,146,0,12603,0,1261,3,6198,25,0,6,0,0,0,0,0,0,0,0,(Eq 101      (Extract w8 0 (SExt w32 (Read w8 (Extract w32 0 (Add w64 2                                                               (SExt w64 (ZExt w32 (Eq 45 (Read w8 1 arg00))))))                                       [10=0] @ arg00))))\n",
      "171835,58,189,2080,817818.0,0,55382120,46,759,0,679698.0,4106,28844,370108,376383,371914,0,67,46,-1,23650,1067,3,0,0,0,0,0,0,0,0,0,8209,0,1248,0,81,0,4,0,0,1,0,0,118,14,17,5247,51863,34709,0,0,0,16499,598,5608,2559,0,0,0,0,0,0,1,97,146,0,12603,0,1261,3,6198,25,0,6,0,0,0,0,0,0,0,0,(Eq 108      (Extract w8 0 (SExt w32 (Read w8 (Extract w32 0 (Add w64 2                                                               (SExt w64 (ZExt w32 (Eq 45 (Read w8 1 arg00))))))                                       [10=0] @ arg00))))\n",
      "171835,58,189,2080,757584.0,0,55382120,46,759,0,756190.0,4106,28844,431804,437338,433342,0,61,46,-1,23650,1067,3,0,0,0,0,0,0,0,0,0,8209,0,1248,0,81,0,4,0,0,1,0,0,118,14,17,5247,51863,34709,0,0,0,16499,598,5608,2559,0,0,0,0,0,0,1,97,146,0,12603,0,1261,3,6198,25,0,6,0,0,0,0,0,0,0,0,(Eq 58      (Extract w8 0 (SExt w32 (Read w8 (Extract w32 0 (Add w64 2                                                               (SExt w64 (ZExt w32 (Eq 45 (Read w8 1 arg00))))))                                       [10=0] @ arg00))))\n",
      "171835,58,189,2080,867140.0,0,55382120,46,759,0,722988.0,4106,28844,340973,346649,342707,0,67,46,-1,23650,1067,3,0,0,0,0,0,0,0,0,0,8209,0,1248,0,81,0,4,0,0,1,0,0,118,14,17,5247,51863,34709,0,0,0,16499,598,5608,2559,0,0,0,0,0,0,1,97,146,0,12603,0,1261,3,6198,25,0,6,0,0,0,0,0,0,0,0,(Eq 110      (Extract w8 0 (SExt w32 (Read w8 (Extract w32 0 (Add w64 2                                                               (SExt w64 (ZExt w32 (Eq 45 (Read w8 1 arg00))))))                                       [10=0] @ arg00))))\n",
      "171835,58,189,2080,886441.0,0,55379048,46,759,0,774695.0,4106,28844,410494,415823,412054,0,76,46,-1,23650,1067,3,0,0,0,0,0,0,0,0,0,8209,0,1248,0,81,0,4,0,0,1,0,0,118,14,17,5247,51863,34709,0,0,0,16499,598,5608,2559,0,0,0,0,0,0,1,97,146,0,12603,0,1261,3,6198,25,0,6,0,0,0,0,0,0,0,0,(Eq 58      (Extract w8 0 (SExt w32 (Read w8 (Extract w32 0 (Add w64 2                                                               (SExt w64 (ZExt w32 (Eq 45 (Read w8 1 arg00))))))                                       [10=0] @ arg00))))\n",
      "171835,58,189,2080,803719.0,0,55382120,46,759,0,714008.0,4106,28844,374065,379873,375712,0,71,46,-1,23650,1067,3,0,0,0,0,0,0,0,0,0,8209,0,1248,0,81,0,4,0,0,1,0,0,118,14,17,5247,51863,34709,0,0,0,16499,598,5608,2559,0,0,0,0,0,0,1,97,146,0,12603,0,1261,3,6198,25,0,6,0,0,0,0,0,0,0,0,(Eq 117      (Extract w8 0 (SExt w32 (Read w8 (Extract w32 0 (Add w64 2                                                               (SExt w64 (ZExt w32 (Eq 45 (Read w8 1 arg00))))))                                       [10=0] @ arg00))))\n",
      "171835,58,189,2080,886010.0,0,55382120,46,759,0,737794.0,4106,28844,373392,378512,374897,0,63,46,-1,23650,1067,3,0,0,0,0,0,0,0,0,0,8209,0,1248,0,81,0,4,0,0,1,0,0,118,14,17,5247,51863,34709,0,0,0,16499,598,5608,2559,0,0,0,0,0,0,1,97,146,0,12603,0,1261,3,6198,25,0,6,0,0,0,0,0,0,0,0,(Eq 0      (Extract w8 0 (SExt w32 (Read w8 (Extract w32 0 (Add w64 2                                                               (SExt w64 (ZExt w32 (Eq 45 (Read w8 1 arg00))))))                                       [10=0] @ arg00))))\n",
      "171835,58,189,2080,1016654.0,0,55382120,46,759,0,836735.0,4106,28844,429995,435806,431917,0,57,46,-1,23650,1067,3,0,0,0,0,0,0,0,0,0,8209,0,1248,0,81,0,4,0,0,1,0,0,118,14,17,5247,51863,34709,0,0,0,16499,598,5608,2559,0,0,0,0,0,0,1,97,146,0,12603,0,1261,3,6198,25,0,6,0,0,0,0,0,0,0,0,(Eq 0      (Read w8 (Extract w32 0 (Add w64 3                                       (SExt w64 (ZExt w32 (Eq 45 (Read w8 1 arg00))))))               [10=0] @ arg00))\n",
      "KLEE: NOTE: Using POSIX model: /home/igandhi/Documents/build/Debug+Asserts/lib/libkleeRuntimePOSIX.bca\n",
      "KLEE: NOTE: Using klee-uclibc : /home/igandhi/Documents/build/Debug+Asserts/lib/klee-uclibc.bca\n",
      "KLEE: output directory is \"/home/igandhi/Documents/profiler/../klee/examples/llvm-coreutils/bitcodes/klee-out-0\"\n",
      "KLEE: Using STP solver backend\n",
      "KLEE: WARNING: undefined reference to function: __ctype_get_mb_cur_max\n",
      "KLEE: WARNING: undefined reference to function: bindtextdomain\n",
      "KLEE: WARNING: undefined reference to function: gettext\n",
      "KLEE: WARNING: undefined reference to function: posix_fadvise\n",
      "KLEE: WARNING: undefined reference to function: textdomain\n",
      "KLEE: WARNING: executable has module level assembly (ignoring)\n",
      "KLEE: WARNING ONCE: calling external: syscall(16, 0, 21505, 94600567722208) at klee/runtime/POSIX/fd.c:1007 10\n",
      "KLEE: WARNING ONCE: Alignment of memory from call \"malloc\" is not modelled. Using alignment of 8.\n",
      "KLEE: WARNING ONCE: skipping fork (fork disabled globally)\n",
      "KLEE: WARNING ONCE: calling __klee_posix_wrapped_main with extra arguments.\n",
      "KLEE: WARNING ONCE: Alignment of memory from call \"calloc\" is not modelled. Using alignment of 8.\n",
      "KLEE: WARNING ONCE: calling external: bindtextdomain(94600566924800, 94600567039936) at [no debug info]\n",
      "KLEE: WARNING ONCE: calling external: textdomain(94600566924800) at [no debug info]\n",
      "KLEE: WARNING ONCE: Alignment of memory from call \"realloc\" is not modelled. Using alignment of 8.\n",
      "forking on condition: (Sle 32\n",
      "      (SExt w32 (Read w8 0 arg00))), line number: 50, position 847\n"
     ]
    },
    {
     "name": "stdout",
     "output_type": "stream",
     "text": [
      "forking on condition: (Sle 32\n",
      "      (SExt w32 (Read w8 1 arg00))), line number: 50, position 849\n",
      "forking on condition: (Sle 32\n",
      "      (SExt w32 (Read w8 2 arg00))), line number: 50, position 851\n",
      "forking on condition: (Sle 32\n",
      "      (SExt w32 (Read w8 3 arg00))), line number: 50, position 853\n",
      "forking on condition: (Sle 32\n",
      "      (SExt w32 (Read w8 4 arg00))), line number: 50, position 855\n",
      "forking on condition: (Sle 32\n",
      "      (SExt w32 (Read w8 5 arg00))), line number: 50, position 857\n",
      "forking on condition: (Sle 32\n",
      "      (SExt w32 (Read w8 6 arg00))), line number: 50, position 859\n",
      "forking on condition: (Sle 32\n",
      "      (SExt w32 (Read w8 7 arg00))), line number: 50, position 861\n",
      "forking on condition: (Sle 32\n",
      "      (SExt w32 (Read w8 8 arg00))), line number: 50, position 863\n",
      "forking on condition: (Sle 32\n",
      "      (SExt w32 (Read w8 9 arg00))), line number: 50, position 865\n",
      "forking on condition: (Eq false\n",
      "     (Eq 45 (Read w8 0 arg00))), line number: 478, position 12732\n",
      "forking on condition: (Eq 0 (Read w8 1 arg00)), line number: 478, position 12733\n",
      "forking on condition: (Eq 45 (Read w8 0 arg00)), line number: 35, position 12735\n",
      "forking on condition: (Eq false\n",
      "     (Eq 0 (Read w8 0 arg00))), line number: 34, position 12736\n",
      "forking on condition: (Eq 45 (Read w8 1 arg00)), line number: 35, position 12737\n",
      "forking on condition: (Eq false\n",
      "     (Eq 45 (Read w8 1 arg00))), line number: 488, position 12739\n",
      "forking on condition: (Eq false\n",
      "     (Eq 45 (Read w8 0 arg00))), line number: 517, position 12741\n",
      "forking on condition: (Eq 0 (Read w8 1 arg00)), line number: 517, position 12742\n",
      "forking on condition: (Eq 45 (Read w8 1 arg00)), line number: 549, position 12745\n",
      "forking on condition: (Eq 97\n",
      "     (Extract w8 0 (SExt w32 (Read w8 (Extract w32 0 (Add w64 1\n",
      "                                                              (SExt w64 (ZExt w32 (Eq 45 (Read w8 1 arg00))))))\n",
      "                                      [10=0] @ arg00)))), line number: 21, position 12747\n",
      "forking on condition: (Eq 0\n",
      "     (Read w8 (Extract w32 0 (Add w64 2\n",
      "                                      (SExt w64 (ZExt w32 (Eq 45 (Read w8 1 arg00))))))\n",
      "              [10=0] @ arg00)), line number: 815, position 12748\n",
      "forking on condition: (Eq 58\n",
      "     (Read w8 (Extract w32 0 (Add w64 1\n",
      "                                      (SExt w64 (ZExt w32 (Eq 45 (Read w8 1 arg00))))))\n",
      "              [10=0] @ arg00)), line number: 818, position 12750\n",
      "forking on condition: (Eq false\n",
      "     (Eq 255\n",
      "         (Read w8 (Extract w32 0 (Add w64 1\n",
      "                                          (SExt w64 (ZExt w32 (Eq 45 (Read w8 1 arg00))))))\n",
      "                  [10=0] @ arg00))), line number: 0, position 12752\n",
      "forking on condition: (Eq 0\n",
      "     (Read w8 (Extract w32 0 (Add w64 2\n",
      "                                      (SExt w64 (ZExt w32 (Eq 45 (Read w8 1 arg00))))))\n",
      "              [10=0] @ arg00)), line number: 453, position 12758\n",
      "forking on condition: (Eq 45 (Read w8 1 arg00)), line number: 549, position 12760\n",
      "forking on condition: (Eq 97\n",
      "     (Extract w8 0 (SExt w32 (Read w8 (Extract w32 0 (Add w64 2\n",
      "                                                              (SExt w64 (ZExt w32 (Eq 45 (Read w8 1 arg00))))))\n",
      "                                      [10=0] @ arg00)))), line number: 21, position 12762\n",
      "forking on condition: (Eq 0\n",
      "     (Read w8 (Extract w32 0 (Add w64 3\n",
      "                                      (SExt w64 (ZExt w32 (Eq 45 (Read w8 1 arg00))))))\n",
      "              [10=0] @ arg00)), line number: 815, position 12763\n",
      "forking on condition: (Eq 58\n",
      "     (Read w8 (Extract w32 0 (Add w64 2\n",
      "                                      (SExt w64 (ZExt w32 (Eq 45 (Read w8 1 arg00))))))\n",
      "              [10=0] @ arg00)), line number: 818, position 12765\n",
      "forking on condition: (Eq false\n",
      "     (Eq 255\n",
      "         (Read w8 (Extract w32 0 (Add w64 2\n",
      "                                          (SExt w64 (ZExt w32 (Eq 45 (Read w8 1 arg00))))))\n",
      "                  [10=0] @ arg00))), line number: 0, position 12767\n",
      "forking on condition: (Eq 0\n",
      "     (Read w8 (Extract w3KLEE: WARNING ONCE: calling external: posix_fadvise(0, 0, 0, 2) at [no debug info]\n",
      "KLEE: WARNING ONCE: calling external: gettext(94600566924640) at [no debug info]\n",
      "KLEE: WARNING ONCE: calling close_stdout with extra arguments.\n",
      "\n",
      "KLEE: done: total instructions = 172249\n",
      "KLEE: done: completed paths = 1\n",
      "KLEE: done: generated tests = 1\n",
      "2 0 (Add w64 3\n",
      "                                      (SExt w64 (ZExt w32 (Eq 45 (Read w8 1 arg00))))))\n",
      "              [10=0] @ arg00)), line number: 453, position 12773\n",
      "/home/igandhi/Documents/build/bin/klee --search=random-path --no-forking --track-instruction-time --libc=uclibc --posix-runtime --replace-condition=0 --replay-path=\"/home/igandhi/Documents/profiler/../klee/examples/llvm-coreutils/bitcodes/klee-out-0/test000001.path\" ../klee/examples/llvm-coreutils/bitcodes/tee.bc  --sym-arg 10\n"
     ]
    },
    {
     "name": "stderr",
     "output_type": "stream",
     "text": [
      "KLEE: NOTE: Using POSIX model: /home/igandhi/Documents/build/Debug+Asserts/lib/libkleeRuntimePOSIX.bca\n",
      "KLEE: NOTE: Using klee-uclibc : /home/igandhi/Documents/build/Debug+Asserts/lib/klee-uclibc.bca\n",
      "KLEE: output directory is \"/home/igandhi/Documents/profiler/../klee/examples/llvm-coreutils/bitcodes/klee-out-1\"\n",
      "KLEE: Using STP solver backend\n",
      "KLEE: WARNING: undefined reference to function: __ctype_get_mb_cur_max\n",
      "KLEE: WARNING: undefined reference to function: bindtextdomain\n",
      "KLEE: WARNING: undefined reference to function: gettext\n",
      "KLEE: WARNING: undefined reference to function: posix_fadvise\n",
      "KLEE: WARNING: undefined reference to function: textdomain\n",
      "KLEE: WARNING: executable has module level assembly (ignoring)\n",
      "KLEE: WARNING ONCE: calling external: syscall(16, 0, 21505, 94334098217824) at klee/runtime/POSIX/fd.c:1007 10\n",
      "KLEE: WARNING ONCE: Alignment of memory from call \"malloc\" is not modelled. Using alignment of 8.\n",
      "KLEE: WARNING ONCE: calling __klee_posix_wrapped_main with extra arguments.\n",
      "KLEE: WARNING ONCE: Alignment of memory from call \"calloc\" is not modelled. Using alignment of 8.\n",
      "KLEE: WARNING ONCE: calling external: bindtextdomain(94334097483280, 94334097598400) at [no debug info]\n",
      "KLEE: WARNING ONCE: calling external: textdomain(94334097483280) at [no debug info]\n",
      "KLEE: WARNING ONCE: Alignment of memory from call \"realloc\" is not modelled. Using alignment of 8.\n",
      "KLEE: WARNING ONCE: calling external: posix_fadvise(0, 0, 0, 2) at [no debug info]\n",
      "KLEE: WARNING ONCE: calling external: gettext(94334097483120) at [no debug info]\n",
      "KLEE: WARNING ONCE: calling close_stdout with extra arguments.\n",
      "\n",
      "KLEE: done: total instructions = 172249\n",
      "KLEE: done: completed paths = 1\n",
      "KLEE: done: generated tests = 1\n"
     ]
    },
    {
     "name": "stdout",
     "output_type": "stream",
     "text": [
      "/home/igandhi/Documents/build/bin/klee --search=random-path --no-forking --track-instruction-time --libc=uclibc --posix-runtime --replace-condition=847 --replay-path=\"/home/igandhi/Documents/profiler/../klee/examples/llvm-coreutils/bitcodes/klee-out-0/test000001.path\" ../klee/examples/llvm-coreutils/bitcodes/tee.bc  --sym-arg 10\n"
     ]
    },
    {
     "name": "stderr",
     "output_type": "stream",
     "text": [
      "KLEE: NOTE: Using POSIX model: /home/igandhi/Documents/build/Debug+Asserts/lib/libkleeRuntimePOSIX.bca\n",
      "KLEE: NOTE: Using klee-uclibc : /home/igandhi/Documents/build/Debug+Asserts/lib/klee-uclibc.bca\n",
      "KLEE: output directory is \"/home/igandhi/Documents/profiler/../klee/examples/llvm-coreutils/bitcodes/klee-out-2\"\n",
      "KLEE: Using STP solver backend\n",
      "KLEE: WARNING: undefined reference to function: __ctype_get_mb_cur_max\n",
      "KLEE: WARNING: undefined reference to function: bindtextdomain\n",
      "KLEE: WARNING: undefined reference to function: gettext\n",
      "KLEE: WARNING: undefined reference to function: posix_fadvise\n",
      "KLEE: WARNING: undefined reference to function: textdomain\n",
      "KLEE: WARNING: executable has module level assembly (ignoring)\n",
      "KLEE: WARNING ONCE: calling external: syscall(16, 0, 21505, 94784419377376) at klee/runtime/POSIX/fd.c:1007 10\n",
      "KLEE: WARNING ONCE: Alignment of memory from call \"malloc\" is not modelled. Using alignment of 8.\n",
      "KLEE: WARNING ONCE: calling __klee_posix_wrapped_main with extra arguments.\n",
      "KLEE: WARNING ONCE: Alignment of memory from call \"calloc\" is not modelled. Using alignment of 8.\n",
      "KLEE: WARNING ONCE: calling external: bindtextdomain(94784418579968, 94784418695104) at [no debug info]\n",
      "KLEE: WARNING ONCE: calling external: textdomain(94784418579968) at [no debug info]\n",
      "KLEE: WARNING ONCE: Alignment of memory from call \"realloc\" is not modelled. Using alignment of 8.\n",
      "KLEE: WARNING ONCE: calling external: posix_fadvise(0, 0, 0, 2) at [no debug info]\n",
      "KLEE: WARNING ONCE: calling external: gettext(94784418579808) at [no debug info]\n",
      "KLEE: WARNING ONCE: calling close_stdout with extra arguments.\n",
      "\n",
      "KLEE: done: total instructions = 172249\n",
      "KLEE: done: completed paths = 1\n",
      "KLEE: done: generated tests = 1\n"
     ]
    },
    {
     "name": "stdout",
     "output_type": "stream",
     "text": [
      "/home/igandhi/Documents/build/bin/klee --search=random-path --no-forking --track-instruction-time --libc=uclibc --posix-runtime --replace-condition=849 --replay-path=\"/home/igandhi/Documents/profiler/../klee/examples/llvm-coreutils/bitcodes/klee-out-0/test000001.path\" ../klee/examples/llvm-coreutils/bitcodes/tee.bc  --sym-arg 10\n"
     ]
    },
    {
     "name": "stderr",
     "output_type": "stream",
     "text": [
      "KLEE: NOTE: Using POSIX model: /home/igandhi/Documents/build/Debug+Asserts/lib/libkleeRuntimePOSIX.bca\n",
      "KLEE: NOTE: Using klee-uclibc : /home/igandhi/Documents/build/Debug+Asserts/lib/klee-uclibc.bca\n",
      "KLEE: output directory is \"/home/igandhi/Documents/profiler/../klee/examples/llvm-coreutils/bitcodes/klee-out-3\"\n",
      "KLEE: Using STP solver backend\n",
      "KLEE: WARNING: undefined reference to function: __ctype_get_mb_cur_max\n",
      "KLEE: WARNING: undefined reference to function: bindtextdomain\n",
      "KLEE: WARNING: undefined reference to function: gettext\n",
      "KLEE: WARNING: undefined reference to function: posix_fadvise\n",
      "KLEE: WARNING: undefined reference to function: textdomain\n",
      "KLEE: WARNING: executable has module level assembly (ignoring)\n",
      "KLEE: WARNING ONCE: calling external: syscall(16, 0, 21505, 94238566488928) at klee/runtime/POSIX/fd.c:1007 10\n",
      "KLEE: WARNING ONCE: Alignment of memory from call \"malloc\" is not modelled. Using alignment of 8.\n",
      "KLEE: WARNING ONCE: calling __klee_posix_wrapped_main with extra arguments.\n",
      "KLEE: WARNING ONCE: Alignment of memory from call \"calloc\" is not modelled. Using alignment of 8.\n",
      "KLEE: WARNING ONCE: calling external: bindtextdomain(94238565754384, 94238565869504) at [no debug info]\n",
      "KLEE: WARNING ONCE: calling external: textdomain(94238565754384) at [no debug info]\n",
      "KLEE: WARNING ONCE: Alignment of memory from call \"realloc\" is not modelled. Using alignment of 8.\n",
      "KLEE: WARNING ONCE: calling external: posix_fadvise(0, 0, 0, 2) at [no debug info]\n",
      "KLEE: WARNING ONCE: calling external: gettext(94238565754224) at [no debug info]\n",
      "KLEE: WARNING ONCE: calling close_stdout with extra arguments.\n",
      "\n",
      "KLEE: done: total instructions = 172249\n",
      "KLEE: done: completed paths = 1\n",
      "KLEE: done: generated tests = 1\n"
     ]
    },
    {
     "name": "stdout",
     "output_type": "stream",
     "text": [
      "/home/igandhi/Documents/build/bin/klee --search=random-path --no-forking --track-instruction-time --libc=uclibc --posix-runtime --replace-condition=851 --replay-path=\"/home/igandhi/Documents/profiler/../klee/examples/llvm-coreutils/bitcodes/klee-out-0/test000001.path\" ../klee/examples/llvm-coreutils/bitcodes/tee.bc  --sym-arg 10\n"
     ]
    },
    {
     "name": "stderr",
     "output_type": "stream",
     "text": [
      "KLEE: NOTE: Using POSIX model: /home/igandhi/Documents/build/Debug+Asserts/lib/libkleeRuntimePOSIX.bca\n",
      "KLEE: NOTE: Using klee-uclibc : /home/igandhi/Documents/build/Debug+Asserts/lib/klee-uclibc.bca\n",
      "KLEE: output directory is \"/home/igandhi/Documents/profiler/../klee/examples/llvm-coreutils/bitcodes/klee-out-4\"\n",
      "KLEE: Using STP solver backend\n",
      "KLEE: WARNING: undefined reference to function: __ctype_get_mb_cur_max\n",
      "KLEE: WARNING: undefined reference to function: bindtextdomain\n",
      "KLEE: WARNING: undefined reference to function: gettext\n",
      "KLEE: WARNING: undefined reference to function: posix_fadvise\n",
      "KLEE: WARNING: undefined reference to function: textdomain\n",
      "KLEE: WARNING: executable has module level assembly (ignoring)\n",
      "KLEE: WARNING ONCE: calling external: syscall(16, 0, 21505, 94423389720800) at klee/runtime/POSIX/fd.c:1007 10\n",
      "KLEE: WARNING ONCE: Alignment of memory from call \"malloc\" is not modelled. Using alignment of 8.\n",
      "KLEE: WARNING ONCE: calling __klee_posix_wrapped_main with extra arguments.\n",
      "KLEE: WARNING ONCE: Alignment of memory from call \"calloc\" is not modelled. Using alignment of 8.\n",
      "KLEE: WARNING ONCE: calling external: bindtextdomain(94423388907024, 94423389022144) at [no debug info]\n",
      "KLEE: WARNING ONCE: calling external: textdomain(94423388907024) at [no debug info]\n",
      "KLEE: WARNING ONCE: Alignment of memory from call \"realloc\" is not modelled. Using alignment of 8.\n",
      "KLEE: WARNING ONCE: calling external: posix_fadvise(0, 0, 0, 2) at [no debug info]\n",
      "KLEE: WARNING ONCE: calling external: gettext(94423388906864) at [no debug info]\n",
      "KLEE: WARNING ONCE: calling close_stdout with extra arguments.\n",
      "\n",
      "KLEE: done: total instructions = 172249\n",
      "KLEE: done: completed paths = 1\n",
      "KLEE: done: generated tests = 1\n"
     ]
    },
    {
     "name": "stdout",
     "output_type": "stream",
     "text": [
      "/home/igandhi/Documents/build/bin/klee --search=random-path --no-forking --track-instruction-time --libc=uclibc --posix-runtime --replace-condition=853 --replay-path=\"/home/igandhi/Documents/profiler/../klee/examples/llvm-coreutils/bitcodes/klee-out-0/test000001.path\" ../klee/examples/llvm-coreutils/bitcodes/tee.bc  --sym-arg 10\n"
     ]
    },
    {
     "name": "stderr",
     "output_type": "stream",
     "text": [
      "KLEE: NOTE: Using POSIX model: /home/igandhi/Documents/build/Debug+Asserts/lib/libkleeRuntimePOSIX.bca\n",
      "KLEE: NOTE: Using klee-uclibc : /home/igandhi/Documents/build/Debug+Asserts/lib/klee-uclibc.bca\n",
      "KLEE: output directory is \"/home/igandhi/Documents/profiler/../klee/examples/llvm-coreutils/bitcodes/klee-out-5\"\n",
      "KLEE: Using STP solver backend\n",
      "KLEE: WARNING: undefined reference to function: __ctype_get_mb_cur_max\n",
      "KLEE: WARNING: undefined reference to function: bindtextdomain\n",
      "KLEE: WARNING: undefined reference to function: gettext\n",
      "KLEE: WARNING: undefined reference to function: posix_fadvise\n",
      "KLEE: WARNING: undefined reference to function: textdomain\n",
      "KLEE: WARNING: executable has module level assembly (ignoring)\n",
      "KLEE: WARNING ONCE: calling external: syscall(16, 0, 21505, 93828780011744) at klee/runtime/POSIX/fd.c:1007 10\n",
      "KLEE: WARNING ONCE: Alignment of memory from call \"malloc\" is not modelled. Using alignment of 8.\n",
      "KLEE: WARNING ONCE: calling __klee_posix_wrapped_main with extra arguments.\n",
      "KLEE: WARNING ONCE: Alignment of memory from call \"calloc\" is not modelled. Using alignment of 8.\n",
      "KLEE: WARNING ONCE: calling external: bindtextdomain(93828779214336, 93828779329472) at [no debug info]\n",
      "KLEE: WARNING ONCE: calling external: textdomain(93828779214336) at [no debug info]\n",
      "KLEE: WARNING ONCE: Alignment of memory from call \"realloc\" is not modelled. Using alignment of 8.\n",
      "KLEE: WARNING ONCE: calling external: posix_fadvise(0, 0, 0, 2) at [no debug info]\n",
      "KLEE: WARNING ONCE: calling external: gettext(93828779214176) at [no debug info]\n",
      "KLEE: WARNING ONCE: calling close_stdout with extra arguments.\n",
      "\n",
      "KLEE: done: total instructions = 172249\n",
      "KLEE: done: completed paths = 1\n",
      "KLEE: done: generated tests = 1\n"
     ]
    },
    {
     "name": "stdout",
     "output_type": "stream",
     "text": [
      "/home/igandhi/Documents/build/bin/klee --search=random-path --no-forking --track-instruction-time --libc=uclibc --posix-runtime --replace-condition=855 --replay-path=\"/home/igandhi/Documents/profiler/../klee/examples/llvm-coreutils/bitcodes/klee-out-0/test000001.path\" ../klee/examples/llvm-coreutils/bitcodes/tee.bc  --sym-arg 10\n"
     ]
    },
    {
     "name": "stderr",
     "output_type": "stream",
     "text": [
      "KLEE: NOTE: Using POSIX model: /home/igandhi/Documents/build/Debug+Asserts/lib/libkleeRuntimePOSIX.bca\n",
      "KLEE: NOTE: Using klee-uclibc : /home/igandhi/Documents/build/Debug+Asserts/lib/klee-uclibc.bca\n",
      "KLEE: output directory is \"/home/igandhi/Documents/profiler/../klee/examples/llvm-coreutils/bitcodes/klee-out-6\"\n",
      "KLEE: Using STP solver backend\n",
      "KLEE: WARNING: undefined reference to function: __ctype_get_mb_cur_max\n",
      "KLEE: WARNING: undefined reference to function: bindtextdomain\n",
      "KLEE: WARNING: undefined reference to function: gettext\n",
      "KLEE: WARNING: undefined reference to function: posix_fadvise\n",
      "KLEE: WARNING: undefined reference to function: textdomain\n",
      "KLEE: WARNING: executable has module level assembly (ignoring)\n",
      "KLEE: WARNING ONCE: calling external: syscall(16, 0, 21505, 94135616322400) at klee/runtime/POSIX/fd.c:1007 10\n",
      "KLEE: WARNING ONCE: Alignment of memory from call \"malloc\" is not modelled. Using alignment of 8.\n",
      "KLEE: WARNING ONCE: calling __klee_posix_wrapped_main with extra arguments.\n",
      "KLEE: WARNING ONCE: Alignment of memory from call \"calloc\" is not modelled. Using alignment of 8.\n",
      "KLEE: WARNING ONCE: calling external: bindtextdomain(94135615587840, 94135615702976) at [no debug info]\n",
      "KLEE: WARNING ONCE: calling external: textdomain(94135615587840) at [no debug info]\n",
      "KLEE: WARNING ONCE: Alignment of memory from call \"realloc\" is not modelled. Using alignment of 8.\n",
      "KLEE: WARNING ONCE: calling external: posix_fadvise(0, 0, 0, 2) at [no debug info]\n",
      "KLEE: WARNING ONCE: calling external: gettext(94135615587680) at [no debug info]\n",
      "KLEE: WARNING ONCE: calling close_stdout with extra arguments.\n",
      "\n",
      "KLEE: done: total instructions = 172249\n",
      "KLEE: done: completed paths = 1\n",
      "KLEE: done: generated tests = 1\n"
     ]
    },
    {
     "name": "stdout",
     "output_type": "stream",
     "text": [
      "/home/igandhi/Documents/build/bin/klee --search=random-path --no-forking --track-instruction-time --libc=uclibc --posix-runtime --replace-condition=857 --replay-path=\"/home/igandhi/Documents/profiler/../klee/examples/llvm-coreutils/bitcodes/klee-out-0/test000001.path\" ../klee/examples/llvm-coreutils/bitcodes/tee.bc  --sym-arg 10\n"
     ]
    },
    {
     "name": "stderr",
     "output_type": "stream",
     "text": [
      "KLEE: NOTE: Using POSIX model: /home/igandhi/Documents/build/Debug+Asserts/lib/libkleeRuntimePOSIX.bca\n",
      "KLEE: NOTE: Using klee-uclibc : /home/igandhi/Documents/build/Debug+Asserts/lib/klee-uclibc.bca\n",
      "KLEE: output directory is \"/home/igandhi/Documents/profiler/../klee/examples/llvm-coreutils/bitcodes/klee-out-7\"\n",
      "KLEE: Using STP solver backend\n",
      "KLEE: WARNING: undefined reference to function: __ctype_get_mb_cur_max\n",
      "KLEE: WARNING: undefined reference to function: bindtextdomain\n",
      "KLEE: WARNING: undefined reference to function: gettext\n",
      "KLEE: WARNING: undefined reference to function: posix_fadvise\n",
      "KLEE: WARNING: undefined reference to function: textdomain\n",
      "KLEE: WARNING: executable has module level assembly (ignoring)\n",
      "KLEE: WARNING ONCE: calling external: syscall(16, 0, 21505, 94292400070528) at klee/runtime/POSIX/fd.c:1007 10\n",
      "KLEE: WARNING ONCE: Alignment of memory from call \"malloc\" is not modelled. Using alignment of 8.\n",
      "KLEE: WARNING ONCE: calling __klee_posix_wrapped_main with extra arguments.\n",
      "KLEE: WARNING ONCE: Alignment of memory from call \"calloc\" is not modelled. Using alignment of 8.\n",
      "KLEE: WARNING ONCE: calling external: bindtextdomain(94292399334928, 94292399450048) at [no debug info]\n",
      "KLEE: WARNING ONCE: calling external: textdomain(94292399334928) at [no debug info]\n",
      "KLEE: WARNING ONCE: Alignment of memory from call \"realloc\" is not modelled. Using alignment of 8.\n",
      "KLEE: WARNING ONCE: calling external: posix_fadvise(0, 0, 0, 2) at [no debug info]\n",
      "KLEE: WARNING ONCE: calling external: gettext(94292399334768) at [no debug info]\n",
      "KLEE: WARNING ONCE: calling close_stdout with extra arguments.\n",
      "\n",
      "KLEE: done: total instructions = 172249\n",
      "KLEE: done: completed paths = 1\n",
      "KLEE: done: generated tests = 1\n"
     ]
    },
    {
     "name": "stdout",
     "output_type": "stream",
     "text": [
      "/home/igandhi/Documents/build/bin/klee --search=random-path --no-forking --track-instruction-time --libc=uclibc --posix-runtime --replace-condition=859 --replay-path=\"/home/igandhi/Documents/profiler/../klee/examples/llvm-coreutils/bitcodes/klee-out-0/test000001.path\" ../klee/examples/llvm-coreutils/bitcodes/tee.bc  --sym-arg 10\n"
     ]
    },
    {
     "name": "stderr",
     "output_type": "stream",
     "text": [
      "KLEE: NOTE: Using POSIX model: /home/igandhi/Documents/build/Debug+Asserts/lib/libkleeRuntimePOSIX.bca\n",
      "KLEE: NOTE: Using klee-uclibc : /home/igandhi/Documents/build/Debug+Asserts/lib/klee-uclibc.bca\n",
      "KLEE: output directory is \"/home/igandhi/Documents/profiler/../klee/examples/llvm-coreutils/bitcodes/klee-out-8\"\n",
      "KLEE: Using STP solver backend\n",
      "KLEE: WARNING: undefined reference to function: __ctype_get_mb_cur_max\n",
      "KLEE: WARNING: undefined reference to function: bindtextdomain\n",
      "KLEE: WARNING: undefined reference to function: gettext\n",
      "KLEE: WARNING: undefined reference to function: posix_fadvise\n",
      "KLEE: WARNING: undefined reference to function: textdomain\n",
      "KLEE: WARNING: executable has module level assembly (ignoring)\n",
      "KLEE: WARNING ONCE: calling external: syscall(16, 0, 21505, 94342763237600) at klee/runtime/POSIX/fd.c:1007 10\n",
      "KLEE: WARNING ONCE: Alignment of memory from call \"malloc\" is not modelled. Using alignment of 8.\n",
      "KLEE: WARNING ONCE: calling __klee_posix_wrapped_main with extra arguments.\n",
      "KLEE: WARNING ONCE: Alignment of memory from call \"calloc\" is not modelled. Using alignment of 8.\n",
      "KLEE: WARNING ONCE: calling external: bindtextdomain(94342762423824, 94342762538944) at [no debug info]\n",
      "KLEE: WARNING ONCE: calling external: textdomain(94342762423824) at [no debug info]\n",
      "KLEE: WARNING ONCE: Alignment of memory from call \"realloc\" is not modelled. Using alignment of 8.\n",
      "KLEE: WARNING ONCE: calling external: posix_fadvise(0, 0, 0, 2) at [no debug info]\n",
      "KLEE: WARNING ONCE: calling external: gettext(94342762423664) at [no debug info]\n",
      "KLEE: WARNING ONCE: calling close_stdout with extra arguments.\n",
      "\n",
      "KLEE: done: total instructions = 172249\n",
      "KLEE: done: completed paths = 1\n",
      "KLEE: done: generated tests = 1\n"
     ]
    },
    {
     "name": "stdout",
     "output_type": "stream",
     "text": [
      "/home/igandhi/Documents/build/bin/klee --search=random-path --no-forking --track-instruction-time --libc=uclibc --posix-runtime --replace-condition=861 --replay-path=\"/home/igandhi/Documents/profiler/../klee/examples/llvm-coreutils/bitcodes/klee-out-0/test000001.path\" ../klee/examples/llvm-coreutils/bitcodes/tee.bc  --sym-arg 10\n"
     ]
    },
    {
     "name": "stderr",
     "output_type": "stream",
     "text": [
      "KLEE: NOTE: Using POSIX model: /home/igandhi/Documents/build/Debug+Asserts/lib/libkleeRuntimePOSIX.bca\n",
      "KLEE: NOTE: Using klee-uclibc : /home/igandhi/Documents/build/Debug+Asserts/lib/klee-uclibc.bca\n",
      "KLEE: output directory is \"/home/igandhi/Documents/profiler/../klee/examples/llvm-coreutils/bitcodes/klee-out-9\"\n",
      "KLEE: Using STP solver backend\n",
      "KLEE: WARNING: undefined reference to function: __ctype_get_mb_cur_max\n",
      "KLEE: WARNING: undefined reference to function: bindtextdomain\n",
      "KLEE: WARNING: undefined reference to function: gettext\n",
      "KLEE: WARNING: undefined reference to function: posix_fadvise\n",
      "KLEE: WARNING: undefined reference to function: textdomain\n",
      "KLEE: WARNING: executable has module level assembly (ignoring)\n",
      "KLEE: WARNING ONCE: calling external: syscall(16, 0, 21505, 93949640400240) at klee/runtime/POSIX/fd.c:1007 10\n",
      "KLEE: WARNING ONCE: Alignment of memory from call \"malloc\" is not modelled. Using alignment of 8.\n",
      "KLEE: WARNING ONCE: calling __klee_posix_wrapped_main with extra arguments.\n",
      "KLEE: WARNING ONCE: Alignment of memory from call \"calloc\" is not modelled. Using alignment of 8.\n",
      "KLEE: WARNING ONCE: calling external: bindtextdomain(93949639665168, 93949639780288) at [no debug info]\n",
      "KLEE: WARNING ONCE: calling external: textdomain(93949639665168) at [no debug info]\n",
      "KLEE: WARNING ONCE: Alignment of memory from call \"realloc\" is not modelled. Using alignment of 8.\n",
      "KLEE: WARNING ONCE: calling external: posix_fadvise(0, 0, 0, 2) at [no debug info]\n",
      "KLEE: WARNING ONCE: calling external: gettext(93949639665008) at [no debug info]\n",
      "KLEE: WARNING ONCE: calling close_stdout with extra arguments.\n",
      "\n",
      "KLEE: done: total instructions = 172249\n",
      "KLEE: done: completed paths = 1\n",
      "KLEE: done: generated tests = 1\n"
     ]
    },
    {
     "name": "stdout",
     "output_type": "stream",
     "text": [
      "/home/igandhi/Documents/build/bin/klee --search=random-path --no-forking --track-instruction-time --libc=uclibc --posix-runtime --replace-condition=863 --replay-path=\"/home/igandhi/Documents/profiler/../klee/examples/llvm-coreutils/bitcodes/klee-out-0/test000001.path\" ../klee/examples/llvm-coreutils/bitcodes/tee.bc  --sym-arg 10\n"
     ]
    },
    {
     "name": "stderr",
     "output_type": "stream",
     "text": [
      "KLEE: NOTE: Using POSIX model: /home/igandhi/Documents/build/Debug+Asserts/lib/libkleeRuntimePOSIX.bca\n",
      "KLEE: NOTE: Using klee-uclibc : /home/igandhi/Documents/build/Debug+Asserts/lib/klee-uclibc.bca\n",
      "KLEE: output directory is \"/home/igandhi/Documents/profiler/../klee/examples/llvm-coreutils/bitcodes/klee-out-10\"\n",
      "KLEE: Using STP solver backend\n",
      "KLEE: WARNING: undefined reference to function: __ctype_get_mb_cur_max\n",
      "KLEE: WARNING: undefined reference to function: bindtextdomain\n",
      "KLEE: WARNING: undefined reference to function: gettext\n",
      "KLEE: WARNING: undefined reference to function: posix_fadvise\n",
      "KLEE: WARNING: undefined reference to function: textdomain\n",
      "KLEE: WARNING: executable has module level assembly (ignoring)\n",
      "KLEE: WARNING ONCE: calling external: syscall(16, 0, 21505, 94713893789040) at klee/runtime/POSIX/fd.c:1007 10\n",
      "KLEE: WARNING ONCE: Alignment of memory from call \"malloc\" is not modelled. Using alignment of 8.\n",
      "KLEE: WARNING ONCE: calling __klee_posix_wrapped_main with extra arguments.\n",
      "KLEE: WARNING ONCE: Alignment of memory from call \"calloc\" is not modelled. Using alignment of 8.\n",
      "KLEE: WARNING ONCE: calling external: bindtextdomain(94713893053952, 94713893169088) at [no debug info]\n",
      "KLEE: WARNING ONCE: calling external: textdomain(94713893053952) at [no debug info]\n",
      "KLEE: WARNING ONCE: Alignment of memory from call \"realloc\" is not modelled. Using alignment of 8.\n",
      "KLEE: WARNING ONCE: calling external: posix_fadvise(0, 0, 0, 2) at [no debug info]\n",
      "KLEE: WARNING ONCE: calling external: gettext(94713893053792) at [no debug info]\n",
      "KLEE: WARNING ONCE: calling close_stdout with extra arguments.\n",
      "\n",
      "KLEE: done: total instructions = 172249\n",
      "KLEE: done: completed paths = 1\n",
      "KLEE: done: generated tests = 1\n"
     ]
    },
    {
     "name": "stdout",
     "output_type": "stream",
     "text": [
      "/home/igandhi/Documents/build/bin/klee --search=random-path --no-forking --track-instruction-time --libc=uclibc --posix-runtime --replace-condition=865 --replay-path=\"/home/igandhi/Documents/profiler/../klee/examples/llvm-coreutils/bitcodes/klee-out-0/test000001.path\" ../klee/examples/llvm-coreutils/bitcodes/tee.bc  --sym-arg 10\n"
     ]
    },
    {
     "name": "stderr",
     "output_type": "stream",
     "text": [
      "KLEE: NOTE: Using POSIX model: /home/igandhi/Documents/build/Debug+Asserts/lib/libkleeRuntimePOSIX.bca\n",
      "KLEE: NOTE: Using klee-uclibc : /home/igandhi/Documents/build/Debug+Asserts/lib/klee-uclibc.bca\n",
      "KLEE: output directory is \"/home/igandhi/Documents/profiler/../klee/examples/llvm-coreutils/bitcodes/klee-out-11\"\n",
      "KLEE: Using STP solver backend\n",
      "KLEE: WARNING: undefined reference to function: __ctype_get_mb_cur_max\n",
      "KLEE: WARNING: undefined reference to function: bindtextdomain\n",
      "KLEE: WARNING: undefined reference to function: gettext\n",
      "KLEE: WARNING: undefined reference to function: posix_fadvise\n",
      "KLEE: WARNING: undefined reference to function: textdomain\n",
      "KLEE: WARNING: executable has module level assembly (ignoring)\n",
      "KLEE: WARNING ONCE: calling external: syscall(16, 0, 21505, 94006926310960) at klee/runtime/POSIX/fd.c:1007 10\n",
      "KLEE: WARNING ONCE: Alignment of memory from call \"malloc\" is not modelled. Using alignment of 8.\n",
      "KLEE: WARNING ONCE: calling __klee_posix_wrapped_main with extra arguments.\n",
      "KLEE: WARNING ONCE: Alignment of memory from call \"calloc\" is not modelled. Using alignment of 8.\n",
      "KLEE: WARNING ONCE: calling external: bindtextdomain(94006925575680, 94006925690816) at [no debug info]\n",
      "KLEE: WARNING ONCE: calling external: textdomain(94006925575680) at [no debug info]\n",
      "KLEE: WARNING ONCE: Alignment of memory from call \"realloc\" is not modelled. Using alignment of 8.\n",
      "KLEE: WARNING ONCE: calling external: posix_fadvise(0, 0, 0, 2) at [no debug info]\n",
      "KLEE: WARNING ONCE: calling external: gettext(94006925575520) at [no debug info]\n",
      "KLEE: WARNING ONCE: calling close_stdout with extra arguments.\n",
      "\n",
      "KLEE: done: total instructions = 172249\n",
      "KLEE: done: completed paths = 1\n",
      "KLEE: done: generated tests = 1\n"
     ]
    },
    {
     "name": "stdout",
     "output_type": "stream",
     "text": [
      "/home/igandhi/Documents/build/bin/klee --search=random-path --no-forking --track-instruction-time --libc=uclibc --posix-runtime --replace-condition=12732 --replay-path=\"/home/igandhi/Documents/profiler/../klee/examples/llvm-coreutils/bitcodes/klee-out-0/test000001.path\" ../klee/examples/llvm-coreutils/bitcodes/tee.bc  --sym-arg 10\n"
     ]
    },
    {
     "name": "stderr",
     "output_type": "stream",
     "text": [
      "KLEE: NOTE: Using POSIX model: /home/igandhi/Documents/build/Debug+Asserts/lib/libkleeRuntimePOSIX.bca\n",
      "KLEE: NOTE: Using klee-uclibc : /home/igandhi/Documents/build/Debug+Asserts/lib/klee-uclibc.bca\n",
      "KLEE: output directory is \"/home/igandhi/Documents/profiler/../klee/examples/llvm-coreutils/bitcodes/klee-out-12\"\n",
      "KLEE: Using STP solver backend\n",
      "KLEE: WARNING: undefined reference to function: __ctype_get_mb_cur_max\n",
      "KLEE: WARNING: undefined reference to function: bindtextdomain\n",
      "KLEE: WARNING: undefined reference to function: gettext\n",
      "KLEE: WARNING: undefined reference to function: posix_fadvise\n",
      "KLEE: WARNING: undefined reference to function: textdomain\n",
      "KLEE: WARNING: executable has module level assembly (ignoring)\n",
      "KLEE: WARNING ONCE: calling external: syscall(16, 0, 21505, 94610177613168) at klee/runtime/POSIX/fd.c:1007 10\n",
      "KLEE: WARNING ONCE: Alignment of memory from call \"malloc\" is not modelled. Using alignment of 8.\n",
      "KLEE: WARNING ONCE: calling __klee_posix_wrapped_main with extra arguments.\n",
      "KLEE: WARNING ONCE: Alignment of memory from call \"calloc\" is not modelled. Using alignment of 8.\n",
      "KLEE: WARNING ONCE: calling external: bindtextdomain(94610176878096, 94610176993216) at [no debug info]\n",
      "KLEE: WARNING ONCE: calling external: textdomain(94610176878096) at [no debug info]\n",
      "KLEE: WARNING ONCE: Alignment of memory from call \"realloc\" is not modelled. Using alignment of 8.\n",
      "KLEE: WARNING ONCE: calling external: posix_fadvise(0, 0, 0, 2) at [no debug info]\n",
      "KLEE: WARNING ONCE: calling external: gettext(94610176877936) at [no debug info]\n",
      "KLEE: WARNING ONCE: calling close_stdout with extra arguments.\n",
      "\n",
      "KLEE: done: total instructions = 172249\n",
      "KLEE: done: completed paths = 1\n",
      "KLEE: done: generated tests = 1\n"
     ]
    },
    {
     "name": "stdout",
     "output_type": "stream",
     "text": [
      "/home/igandhi/Documents/build/bin/klee --search=random-path --no-forking --track-instruction-time --libc=uclibc --posix-runtime --replace-condition=12733 --replay-path=\"/home/igandhi/Documents/profiler/../klee/examples/llvm-coreutils/bitcodes/klee-out-0/test000001.path\" ../klee/examples/llvm-coreutils/bitcodes/tee.bc  --sym-arg 10\n"
     ]
    },
    {
     "name": "stderr",
     "output_type": "stream",
     "text": [
      "KLEE: NOTE: Using POSIX model: /home/igandhi/Documents/build/Debug+Asserts/lib/libkleeRuntimePOSIX.bca\n",
      "KLEE: NOTE: Using klee-uclibc : /home/igandhi/Documents/build/Debug+Asserts/lib/klee-uclibc.bca\n",
      "KLEE: output directory is \"/home/igandhi/Documents/profiler/../klee/examples/llvm-coreutils/bitcodes/klee-out-13\"\n",
      "KLEE: Using STP solver backend\n",
      "KLEE: WARNING: undefined reference to function: __ctype_get_mb_cur_max\n",
      "KLEE: WARNING: undefined reference to function: bindtextdomain\n",
      "KLEE: WARNING: undefined reference to function: gettext\n",
      "KLEE: WARNING: undefined reference to function: posix_fadvise\n",
      "KLEE: WARNING: undefined reference to function: textdomain\n",
      "KLEE: WARNING: executable has module level assembly (ignoring)\n",
      "KLEE: WARNING ONCE: calling external: syscall(16, 0, 21505, 94091754741296) at klee/runtime/POSIX/fd.c:1007 10\n",
      "KLEE: WARNING ONCE: Alignment of memory from call \"malloc\" is not modelled. Using alignment of 8.\n",
      "KLEE: WARNING ONCE: calling __klee_posix_wrapped_main with extra arguments.\n",
      "KLEE: WARNING ONCE: Alignment of memory from call \"calloc\" is not modelled. Using alignment of 8.\n",
      "KLEE: WARNING ONCE: calling external: bindtextdomain(94091754006208, 94091754121152) at [no debug info]\n",
      "KLEE: WARNING ONCE: calling external: textdomain(94091754006208) at [no debug info]\n",
      "KLEE: WARNING ONCE: Alignment of memory from call \"realloc\" is not modelled. Using alignment of 8.\n",
      "KLEE: WARNING ONCE: calling external: posix_fadvise(0, 0, 0, 2) at [no debug info]\n",
      "KLEE: WARNING ONCE: calling external: gettext(94091754006048) at [no debug info]\n",
      "KLEE: WARNING ONCE: calling close_stdout with extra arguments.\n",
      "\n",
      "KLEE: done: total instructions = 172249\n",
      "KLEE: done: completed paths = 1\n",
      "KLEE: done: generated tests = 1\n"
     ]
    },
    {
     "name": "stdout",
     "output_type": "stream",
     "text": [
      "/home/igandhi/Documents/build/bin/klee --search=random-path --no-forking --track-instruction-time --libc=uclibc --posix-runtime --replace-condition=12735 --replay-path=\"/home/igandhi/Documents/profiler/../klee/examples/llvm-coreutils/bitcodes/klee-out-0/test000001.path\" ../klee/examples/llvm-coreutils/bitcodes/tee.bc  --sym-arg 10\n"
     ]
    },
    {
     "name": "stderr",
     "output_type": "stream",
     "text": [
      "KLEE: NOTE: Using POSIX model: /home/igandhi/Documents/build/Debug+Asserts/lib/libkleeRuntimePOSIX.bca\n",
      "KLEE: NOTE: Using klee-uclibc : /home/igandhi/Documents/build/Debug+Asserts/lib/klee-uclibc.bca\n",
      "KLEE: output directory is \"/home/igandhi/Documents/profiler/../klee/examples/llvm-coreutils/bitcodes/klee-out-14\"\n",
      "KLEE: Using STP solver backend\n",
      "KLEE: WARNING: undefined reference to function: __ctype_get_mb_cur_max\n",
      "KLEE: WARNING: undefined reference to function: bindtextdomain\n",
      "KLEE: WARNING: undefined reference to function: gettext\n",
      "KLEE: WARNING: undefined reference to function: posix_fadvise\n",
      "KLEE: WARNING: undefined reference to function: textdomain\n",
      "KLEE: WARNING: executable has module level assembly (ignoring)\n",
      "KLEE: WARNING ONCE: calling external: syscall(16, 0, 21505, 94154928930160) at klee/runtime/POSIX/fd.c:1007 10\n",
      "KLEE: WARNING ONCE: Alignment of memory from call \"malloc\" is not modelled. Using alignment of 8.\n",
      "KLEE: WARNING ONCE: calling __klee_posix_wrapped_main with extra arguments.\n",
      "KLEE: WARNING ONCE: Alignment of memory from call \"calloc\" is not modelled. Using alignment of 8.\n",
      "KLEE: WARNING ONCE: calling external: bindtextdomain(94154928195088, 94154928310208) at [no debug info]\n",
      "KLEE: WARNING ONCE: calling external: textdomain(94154928195088) at [no debug info]\n",
      "KLEE: WARNING ONCE: Alignment of memory from call \"realloc\" is not modelled. Using alignment of 8.\n",
      "KLEE: WARNING ONCE: calling external: posix_fadvise(0, 0, 0, 2) at [no debug info]\n",
      "KLEE: WARNING ONCE: calling external: gettext(94154928194928) at [no debug info]\n",
      "KLEE: WARNING ONCE: calling close_stdout with extra arguments.\n",
      "\n",
      "KLEE: done: total instructions = 172249\n",
      "KLEE: done: completed paths = 1\n",
      "KLEE: done: generated tests = 1\n"
     ]
    },
    {
     "name": "stdout",
     "output_type": "stream",
     "text": [
      "/home/igandhi/Documents/build/bin/klee --search=random-path --no-forking --track-instruction-time --libc=uclibc --posix-runtime --replace-condition=12736 --replay-path=\"/home/igandhi/Documents/profiler/../klee/examples/llvm-coreutils/bitcodes/klee-out-0/test000001.path\" ../klee/examples/llvm-coreutils/bitcodes/tee.bc  --sym-arg 10\n"
     ]
    },
    {
     "name": "stderr",
     "output_type": "stream",
     "text": [
      "KLEE: NOTE: Using POSIX model: /home/igandhi/Documents/build/Debug+Asserts/lib/libkleeRuntimePOSIX.bca\n",
      "KLEE: NOTE: Using klee-uclibc : /home/igandhi/Documents/build/Debug+Asserts/lib/klee-uclibc.bca\n",
      "KLEE: output directory is \"/home/igandhi/Documents/profiler/../klee/examples/llvm-coreutils/bitcodes/klee-out-15\"\n",
      "KLEE: Using STP solver backend\n",
      "KLEE: WARNING: undefined reference to function: __ctype_get_mb_cur_max\n",
      "KLEE: WARNING: undefined reference to function: bindtextdomain\n",
      "KLEE: WARNING: undefined reference to function: gettext\n",
      "KLEE: WARNING: undefined reference to function: posix_fadvise\n",
      "KLEE: WARNING: undefined reference to function: textdomain\n",
      "KLEE: WARNING: executable has module level assembly (ignoring)\n",
      "KLEE: WARNING ONCE: calling external: syscall(16, 0, 21505, 94722046016352) at klee/runtime/POSIX/fd.c:1007 10\n",
      "KLEE: WARNING ONCE: Alignment of memory from call \"malloc\" is not modelled. Using alignment of 8.\n",
      "KLEE: WARNING ONCE: calling __klee_posix_wrapped_main with extra arguments.\n",
      "KLEE: WARNING ONCE: Alignment of memory from call \"calloc\" is not modelled. Using alignment of 8.\n",
      "KLEE: WARNING ONCE: calling external: bindtextdomain(94722045281744, 94722045396928) at [no debug info]\n",
      "KLEE: WARNING ONCE: calling external: textdomain(94722045281744) at [no debug info]\n",
      "KLEE: WARNING ONCE: Alignment of memory from call \"realloc\" is not modelled. Using alignment of 8.\n",
      "KLEE: WARNING ONCE: calling external: posix_fadvise(0, 0, 0, 2) at [no debug info]\n",
      "KLEE: WARNING ONCE: calling external: gettext(94722045281584) at [no debug info]\n",
      "KLEE: WARNING ONCE: calling close_stdout with extra arguments.\n",
      "\n",
      "KLEE: done: total instructions = 172249\n",
      "KLEE: done: completed paths = 1\n",
      "KLEE: done: generated tests = 1\n"
     ]
    },
    {
     "name": "stdout",
     "output_type": "stream",
     "text": [
      "/home/igandhi/Documents/build/bin/klee --search=random-path --no-forking --track-instruction-time --libc=uclibc --posix-runtime --replace-condition=12737 --replay-path=\"/home/igandhi/Documents/profiler/../klee/examples/llvm-coreutils/bitcodes/klee-out-0/test000001.path\" ../klee/examples/llvm-coreutils/bitcodes/tee.bc  --sym-arg 10\n"
     ]
    },
    {
     "name": "stderr",
     "output_type": "stream",
     "text": [
      "KLEE: NOTE: Using POSIX model: /home/igandhi/Documents/build/Debug+Asserts/lib/libkleeRuntimePOSIX.bca\n",
      "KLEE: NOTE: Using klee-uclibc : /home/igandhi/Documents/build/Debug+Asserts/lib/klee-uclibc.bca\n",
      "KLEE: output directory is \"/home/igandhi/Documents/profiler/../klee/examples/llvm-coreutils/bitcodes/klee-out-16\"\n",
      "KLEE: Using STP solver backend\n",
      "KLEE: WARNING: undefined reference to function: __ctype_get_mb_cur_max\n",
      "KLEE: WARNING: undefined reference to function: bindtextdomain\n",
      "KLEE: WARNING: undefined reference to function: gettext\n",
      "KLEE: WARNING: undefined reference to function: posix_fadvise\n",
      "KLEE: WARNING: undefined reference to function: textdomain\n",
      "KLEE: WARNING: executable has module level assembly (ignoring)\n",
      "KLEE: WARNING ONCE: calling external: syscall(16, 0, 21505, 94891951029088) at klee/runtime/POSIX/fd.c:1007 10\n",
      "KLEE: WARNING ONCE: Alignment of memory from call \"malloc\" is not modelled. Using alignment of 8.\n",
      "KLEE: WARNING ONCE: calling __klee_posix_wrapped_main with extra arguments.\n",
      "KLEE: WARNING ONCE: Alignment of memory from call \"calloc\" is not modelled. Using alignment of 8.\n",
      "KLEE: WARNING ONCE: calling external: bindtextdomain(94891950294528, 94891950409664) at [no debug info]\n",
      "KLEE: WARNING ONCE: calling external: textdomain(94891950294528) at [no debug info]\n",
      "KLEE: WARNING ONCE: Alignment of memory from call \"realloc\" is not modelled. Using alignment of 8.\n",
      "KLEE: WARNING ONCE: calling external: posix_fadvise(0, 0, 0, 2) at [no debug info]\n",
      "KLEE: WARNING ONCE: calling external: gettext(94891950294368) at [no debug info]\n",
      "KLEE: WARNING ONCE: calling close_stdout with extra arguments.\n",
      "\n",
      "KLEE: done: total instructions = 172249\n",
      "KLEE: done: completed paths = 1\n",
      "KLEE: done: generated tests = 1\n"
     ]
    },
    {
     "name": "stdout",
     "output_type": "stream",
     "text": [
      "/home/igandhi/Documents/build/bin/klee --search=random-path --no-forking --track-instruction-time --libc=uclibc --posix-runtime --replace-condition=12739 --replay-path=\"/home/igandhi/Documents/profiler/../klee/examples/llvm-coreutils/bitcodes/klee-out-0/test000001.path\" ../klee/examples/llvm-coreutils/bitcodes/tee.bc  --sym-arg 10\n"
     ]
    },
    {
     "name": "stderr",
     "output_type": "stream",
     "text": [
      "KLEE: NOTE: Using POSIX model: /home/igandhi/Documents/build/Debug+Asserts/lib/libkleeRuntimePOSIX.bca\n",
      "KLEE: NOTE: Using klee-uclibc : /home/igandhi/Documents/build/Debug+Asserts/lib/klee-uclibc.bca\n",
      "KLEE: output directory is \"/home/igandhi/Documents/profiler/../klee/examples/llvm-coreutils/bitcodes/klee-out-17\"\n",
      "KLEE: Using STP solver backend\n",
      "KLEE: WARNING: undefined reference to function: __ctype_get_mb_cur_max\n",
      "KLEE: WARNING: undefined reference to function: bindtextdomain\n",
      "KLEE: WARNING: undefined reference to function: gettext\n",
      "KLEE: WARNING: undefined reference to function: posix_fadvise\n",
      "KLEE: WARNING: undefined reference to function: textdomain\n",
      "KLEE: WARNING: executable has module level assembly (ignoring)\n",
      "KLEE: WARNING ONCE: calling external: syscall(16, 0, 21505, 94573384036576) at klee/runtime/POSIX/fd.c:1007 10\n",
      "KLEE: WARNING ONCE: Alignment of memory from call \"malloc\" is not modelled. Using alignment of 8.\n",
      "KLEE: WARNING ONCE: calling __klee_posix_wrapped_main with extra arguments.\n",
      "KLEE: WARNING ONCE: Alignment of memory from call \"calloc\" is not modelled. Using alignment of 8.\n",
      "KLEE: WARNING ONCE: calling external: bindtextdomain(94573383222976, 94573383337920) at [no debug info]\n",
      "KLEE: WARNING ONCE: calling external: textdomain(94573383222976) at [no debug info]\n",
      "KLEE: WARNING ONCE: Alignment of memory from call \"realloc\" is not modelled. Using alignment of 8.\n",
      "KLEE: WARNING ONCE: calling external: posix_fadvise(0, 0, 0, 2) at [no debug info]\n",
      "KLEE: WARNING ONCE: calling external: gettext(94573383222816) at [no debug info]\n",
      "KLEE: WARNING ONCE: calling close_stdout with extra arguments.\n",
      "\n",
      "KLEE: done: total instructions = 172249\n",
      "KLEE: done: completed paths = 1\n",
      "KLEE: done: generated tests = 1\n"
     ]
    },
    {
     "name": "stdout",
     "output_type": "stream",
     "text": [
      "/home/igandhi/Documents/build/bin/klee --search=random-path --no-forking --track-instruction-time --libc=uclibc --posix-runtime --replace-condition=12741 --replay-path=\"/home/igandhi/Documents/profiler/../klee/examples/llvm-coreutils/bitcodes/klee-out-0/test000001.path\" ../klee/examples/llvm-coreutils/bitcodes/tee.bc  --sym-arg 10\n"
     ]
    },
    {
     "name": "stderr",
     "output_type": "stream",
     "text": [
      "KLEE: NOTE: Using POSIX model: /home/igandhi/Documents/build/Debug+Asserts/lib/libkleeRuntimePOSIX.bca\n",
      "KLEE: NOTE: Using klee-uclibc : /home/igandhi/Documents/build/Debug+Asserts/lib/klee-uclibc.bca\n",
      "KLEE: output directory is \"/home/igandhi/Documents/profiler/../klee/examples/llvm-coreutils/bitcodes/klee-out-18\"\n",
      "KLEE: Using STP solver backend\n",
      "KLEE: WARNING: undefined reference to function: __ctype_get_mb_cur_max\n",
      "KLEE: WARNING: undefined reference to function: bindtextdomain\n",
      "KLEE: WARNING: undefined reference to function: gettext\n",
      "KLEE: WARNING: undefined reference to function: posix_fadvise\n",
      "KLEE: WARNING: undefined reference to function: textdomain\n",
      "KLEE: WARNING: executable has module level assembly (ignoring)\n",
      "KLEE: WARNING ONCE: calling external: syscall(16, 0, 21505, 93896015445360) at klee/runtime/POSIX/fd.c:1007 10\n",
      "KLEE: WARNING ONCE: Alignment of memory from call \"malloc\" is not modelled. Using alignment of 8.\n",
      "KLEE: WARNING ONCE: calling __klee_posix_wrapped_main with extra arguments.\n",
      "KLEE: WARNING ONCE: Alignment of memory from call \"calloc\" is not modelled. Using alignment of 8.\n",
      "KLEE: WARNING ONCE: calling external: bindtextdomain(93896014710272, 93896014825408) at [no debug info]\n",
      "KLEE: WARNING ONCE: calling external: textdomain(93896014710272) at [no debug info]\n",
      "KLEE: WARNING ONCE: Alignment of memory from call \"realloc\" is not modelled. Using alignment of 8.\n",
      "KLEE: WARNING ONCE: calling external: posix_fadvise(0, 0, 0, 2) at [no debug info]\n",
      "KLEE: WARNING ONCE: calling external: gettext(93896014710112) at [no debug info]\n",
      "KLEE: WARNING ONCE: calling close_stdout with extra arguments.\n",
      "\n",
      "KLEE: done: total instructions = 172249\n",
      "KLEE: done: completed paths = 1\n",
      "KLEE: done: generated tests = 1\n"
     ]
    },
    {
     "name": "stdout",
     "output_type": "stream",
     "text": [
      "/home/igandhi/Documents/build/bin/klee --search=random-path --no-forking --track-instruction-time --libc=uclibc --posix-runtime --replace-condition=12742 --replay-path=\"/home/igandhi/Documents/profiler/../klee/examples/llvm-coreutils/bitcodes/klee-out-0/test000001.path\" ../klee/examples/llvm-coreutils/bitcodes/tee.bc  --sym-arg 10\n"
     ]
    },
    {
     "name": "stderr",
     "output_type": "stream",
     "text": [
      "KLEE: NOTE: Using POSIX model: /home/igandhi/Documents/build/Debug+Asserts/lib/libkleeRuntimePOSIX.bca\n",
      "KLEE: NOTE: Using klee-uclibc : /home/igandhi/Documents/build/Debug+Asserts/lib/klee-uclibc.bca\n",
      "KLEE: output directory is \"/home/igandhi/Documents/profiler/../klee/examples/llvm-coreutils/bitcodes/klee-out-19\"\n",
      "KLEE: Using STP solver backend\n",
      "KLEE: WARNING: undefined reference to function: __ctype_get_mb_cur_max\n",
      "KLEE: WARNING: undefined reference to function: bindtextdomain\n",
      "KLEE: WARNING: undefined reference to function: gettext\n",
      "KLEE: WARNING: undefined reference to function: posix_fadvise\n",
      "KLEE: WARNING: undefined reference to function: textdomain\n",
      "KLEE: WARNING: executable has module level assembly (ignoring)\n",
      "KLEE: WARNING ONCE: calling external: syscall(16, 0, 21505, 94799121292656) at klee/runtime/POSIX/fd.c:1007 10\n",
      "KLEE: WARNING ONCE: Alignment of memory from call \"malloc\" is not modelled. Using alignment of 8.\n",
      "KLEE: WARNING ONCE: calling __klee_posix_wrapped_main with extra arguments.\n",
      "KLEE: WARNING ONCE: Alignment of memory from call \"calloc\" is not modelled. Using alignment of 8.\n",
      "KLEE: WARNING ONCE: calling external: bindtextdomain(94799120557568, 94799120672704) at [no debug info]\n",
      "KLEE: WARNING ONCE: calling external: textdomain(94799120557568) at [no debug info]\n",
      "KLEE: WARNING ONCE: Alignment of memory from call \"realloc\" is not modelled. Using alignment of 8.\n",
      "KLEE: WARNING ONCE: calling external: posix_fadvise(0, 0, 0, 2) at [no debug info]\n",
      "KLEE: WARNING ONCE: calling external: gettext(94799120557408) at [no debug info]\n",
      "KLEE: WARNING ONCE: calling close_stdout with extra arguments.\n",
      "\n",
      "KLEE: done: total instructions = 172249\n",
      "KLEE: done: completed paths = 1\n",
      "KLEE: done: generated tests = 1\n"
     ]
    },
    {
     "name": "stdout",
     "output_type": "stream",
     "text": [
      "/home/igandhi/Documents/build/bin/klee --search=random-path --no-forking --track-instruction-time --libc=uclibc --posix-runtime --replace-condition=12745 --replay-path=\"/home/igandhi/Documents/profiler/../klee/examples/llvm-coreutils/bitcodes/klee-out-0/test000001.path\" ../klee/examples/llvm-coreutils/bitcodes/tee.bc  --sym-arg 10\n"
     ]
    },
    {
     "name": "stderr",
     "output_type": "stream",
     "text": [
      "KLEE: NOTE: Using POSIX model: /home/igandhi/Documents/build/Debug+Asserts/lib/libkleeRuntimePOSIX.bca\n",
      "KLEE: NOTE: Using klee-uclibc : /home/igandhi/Documents/build/Debug+Asserts/lib/klee-uclibc.bca\n",
      "KLEE: output directory is \"/home/igandhi/Documents/profiler/../klee/examples/llvm-coreutils/bitcodes/klee-out-20\"\n",
      "KLEE: Using STP solver backend\n",
      "KLEE: WARNING: undefined reference to function: __ctype_get_mb_cur_max\n",
      "KLEE: WARNING: undefined reference to function: bindtextdomain\n",
      "KLEE: WARNING: undefined reference to function: gettext\n",
      "KLEE: WARNING: undefined reference to function: posix_fadvise\n",
      "KLEE: WARNING: undefined reference to function: textdomain\n",
      "KLEE: WARNING: executable has module level assembly (ignoring)\n",
      "KLEE: WARNING ONCE: calling external: syscall(16, 0, 21505, 94802592660224) at klee/runtime/POSIX/fd.c:1007 10\n",
      "KLEE: WARNING ONCE: Alignment of memory from call \"malloc\" is not modelled. Using alignment of 8.\n",
      "KLEE: WARNING ONCE: calling __klee_posix_wrapped_main with extra arguments.\n",
      "KLEE: WARNING ONCE: Alignment of memory from call \"calloc\" is not modelled. Using alignment of 8.\n",
      "KLEE: WARNING ONCE: calling external: bindtextdomain(94802591925760, 94802592040896) at [no debug info]\n",
      "KLEE: WARNING ONCE: calling external: textdomain(94802591925760) at [no debug info]\n",
      "KLEE: WARNING ONCE: Alignment of memory from call \"realloc\" is not modelled. Using alignment of 8.\n",
      "KLEE: WARNING ONCE: calling external: posix_fadvise(0, 0, 0, 2) at [no debug info]\n",
      "KLEE: WARNING ONCE: calling external: gettext(94802591925600) at [no debug info]\n",
      "KLEE: WARNING ONCE: calling close_stdout with extra arguments.\n",
      "\n",
      "KLEE: done: total instructions = 172249\n",
      "KLEE: done: completed paths = 1\n",
      "KLEE: done: generated tests = 1\n"
     ]
    },
    {
     "name": "stdout",
     "output_type": "stream",
     "text": [
      "/home/igandhi/Documents/build/bin/klee --search=random-path --no-forking --track-instruction-time --libc=uclibc --posix-runtime --replace-condition=12747 --replay-path=\"/home/igandhi/Documents/profiler/../klee/examples/llvm-coreutils/bitcodes/klee-out-0/test000001.path\" ../klee/examples/llvm-coreutils/bitcodes/tee.bc  --sym-arg 10\n"
     ]
    },
    {
     "name": "stderr",
     "output_type": "stream",
     "text": [
      "KLEE: NOTE: Using POSIX model: /home/igandhi/Documents/build/Debug+Asserts/lib/libkleeRuntimePOSIX.bca\n",
      "KLEE: NOTE: Using klee-uclibc : /home/igandhi/Documents/build/Debug+Asserts/lib/klee-uclibc.bca\n",
      "KLEE: output directory is \"/home/igandhi/Documents/profiler/../klee/examples/llvm-coreutils/bitcodes/klee-out-21\"\n",
      "KLEE: Using STP solver backend\n",
      "KLEE: WARNING: undefined reference to function: __ctype_get_mb_cur_max\n",
      "KLEE: WARNING: undefined reference to function: bindtextdomain\n",
      "KLEE: WARNING: undefined reference to function: gettext\n",
      "KLEE: WARNING: undefined reference to function: posix_fadvise\n",
      "KLEE: WARNING: undefined reference to function: textdomain\n",
      "KLEE: WARNING: executable has module level assembly (ignoring)\n",
      "KLEE: WARNING ONCE: calling external: syscall(16, 0, 21505, 94357909085552) at klee/runtime/POSIX/fd.c:1007 10\n",
      "KLEE: WARNING ONCE: Alignment of memory from call \"malloc\" is not modelled. Using alignment of 8.\n",
      "KLEE: WARNING ONCE: calling __klee_posix_wrapped_main with extra arguments.\n",
      "KLEE: WARNING ONCE: Alignment of memory from call \"calloc\" is not modelled. Using alignment of 8.\n",
      "KLEE: WARNING ONCE: calling external: bindtextdomain(94357908350464, 94357908465600) at [no debug info]\n",
      "KLEE: WARNING ONCE: calling external: textdomain(94357908350464) at [no debug info]\n",
      "KLEE: WARNING ONCE: Alignment of memory from call \"realloc\" is not modelled. Using alignment of 8.\n",
      "KLEE: WARNING ONCE: calling external: posix_fadvise(0, 0, 0, 2) at [no debug info]\n",
      "KLEE: WARNING ONCE: calling external: gettext(94357908350304) at [no debug info]\n",
      "KLEE: WARNING ONCE: calling close_stdout with extra arguments.\n",
      "\n",
      "KLEE: done: total instructions = 172249\n",
      "KLEE: done: completed paths = 1\n",
      "KLEE: done: generated tests = 1\n"
     ]
    },
    {
     "name": "stdout",
     "output_type": "stream",
     "text": [
      "/home/igandhi/Documents/build/bin/klee --search=random-path --no-forking --track-instruction-time --libc=uclibc --posix-runtime --replace-condition=12748 --replay-path=\"/home/igandhi/Documents/profiler/../klee/examples/llvm-coreutils/bitcodes/klee-out-0/test000001.path\" ../klee/examples/llvm-coreutils/bitcodes/tee.bc  --sym-arg 10\n"
     ]
    },
    {
     "name": "stderr",
     "output_type": "stream",
     "text": [
      "KLEE: NOTE: Using POSIX model: /home/igandhi/Documents/build/Debug+Asserts/lib/libkleeRuntimePOSIX.bca\n",
      "KLEE: NOTE: Using klee-uclibc : /home/igandhi/Documents/build/Debug+Asserts/lib/klee-uclibc.bca\n",
      "KLEE: output directory is \"/home/igandhi/Documents/profiler/../klee/examples/llvm-coreutils/bitcodes/klee-out-22\"\n",
      "KLEE: Using STP solver backend\n",
      "KLEE: WARNING: undefined reference to function: __ctype_get_mb_cur_max\n",
      "KLEE: WARNING: undefined reference to function: bindtextdomain\n",
      "KLEE: WARNING: undefined reference to function: gettext\n",
      "KLEE: WARNING: undefined reference to function: posix_fadvise\n",
      "KLEE: WARNING: undefined reference to function: textdomain\n",
      "KLEE: WARNING: executable has module level assembly (ignoring)\n",
      "KLEE: WARNING ONCE: calling external: syscall(16, 0, 21505, 93947502637280) at klee/runtime/POSIX/fd.c:1007 10\n",
      "KLEE: WARNING ONCE: Alignment of memory from call \"malloc\" is not modelled. Using alignment of 8.\n",
      "KLEE: WARNING ONCE: calling __klee_posix_wrapped_main with extra arguments.\n",
      "KLEE: WARNING ONCE: Alignment of memory from call \"calloc\" is not modelled. Using alignment of 8.\n",
      "KLEE: WARNING ONCE: calling external: bindtextdomain(93947501839872, 93947501955008) at [no debug info]\n",
      "KLEE: WARNING ONCE: calling external: textdomain(93947501839872) at [no debug info]\n",
      "KLEE: WARNING ONCE: Alignment of memory from call \"realloc\" is not modelled. Using alignment of 8.\n",
      "KLEE: WARNING ONCE: calling external: posix_fadvise(0, 0, 0, 2) at [no debug info]\n",
      "KLEE: WARNING ONCE: calling external: gettext(93947501839712) at [no debug info]\n",
      "KLEE: WARNING ONCE: calling close_stdout with extra arguments.\n",
      "\n",
      "KLEE: done: total instructions = 172249\n",
      "KLEE: done: completed paths = 1\n",
      "KLEE: done: generated tests = 1\n"
     ]
    },
    {
     "name": "stdout",
     "output_type": "stream",
     "text": [
      "/home/igandhi/Documents/build/bin/klee --search=random-path --no-forking --track-instruction-time --libc=uclibc --posix-runtime --replace-condition=12750 --replay-path=\"/home/igandhi/Documents/profiler/../klee/examples/llvm-coreutils/bitcodes/klee-out-0/test000001.path\" ../klee/examples/llvm-coreutils/bitcodes/tee.bc  --sym-arg 10\n"
     ]
    },
    {
     "name": "stderr",
     "output_type": "stream",
     "text": [
      "KLEE: NOTE: Using POSIX model: /home/igandhi/Documents/build/Debug+Asserts/lib/libkleeRuntimePOSIX.bca\n",
      "KLEE: NOTE: Using klee-uclibc : /home/igandhi/Documents/build/Debug+Asserts/lib/klee-uclibc.bca\n",
      "KLEE: output directory is \"/home/igandhi/Documents/profiler/../klee/examples/llvm-coreutils/bitcodes/klee-out-23\"\n",
      "KLEE: Using STP solver backend\n",
      "KLEE: WARNING: undefined reference to function: __ctype_get_mb_cur_max\n",
      "KLEE: WARNING: undefined reference to function: bindtextdomain\n",
      "KLEE: WARNING: undefined reference to function: gettext\n",
      "KLEE: WARNING: undefined reference to function: posix_fadvise\n",
      "KLEE: WARNING: undefined reference to function: textdomain\n",
      "KLEE: WARNING: executable has module level assembly (ignoring)\n",
      "KLEE: WARNING ONCE: calling external: syscall(16, 0, 21505, 93980670161120) at klee/runtime/POSIX/fd.c:1007 10\n",
      "KLEE: WARNING ONCE: Alignment of memory from call \"malloc\" is not modelled. Using alignment of 8.\n",
      "KLEE: WARNING ONCE: calling __klee_posix_wrapped_main with extra arguments.\n",
      "KLEE: WARNING ONCE: Alignment of memory from call \"calloc\" is not modelled. Using alignment of 8.\n",
      "KLEE: WARNING ONCE: calling external: bindtextdomain(93980669363712, 93980669478848) at [no debug info]\n",
      "KLEE: WARNING ONCE: calling external: textdomain(93980669363712) at [no debug info]\n",
      "KLEE: WARNING ONCE: Alignment of memory from call \"realloc\" is not modelled. Using alignment of 8.\n",
      "KLEE: WARNING ONCE: calling external: posix_fadvise(0, 0, 0, 2) at [no debug info]\n",
      "KLEE: WARNING ONCE: calling external: gettext(93980669363552) at [no debug info]\n",
      "KLEE: WARNING ONCE: calling close_stdout with extra arguments.\n",
      "\n",
      "KLEE: done: total instructions = 172249\n",
      "KLEE: done: completed paths = 1\n",
      "KLEE: done: generated tests = 1\n"
     ]
    },
    {
     "name": "stdout",
     "output_type": "stream",
     "text": [
      "/home/igandhi/Documents/build/bin/klee --search=random-path --no-forking --track-instruction-time --libc=uclibc --posix-runtime --replace-condition=12752 --replay-path=\"/home/igandhi/Documents/profiler/../klee/examples/llvm-coreutils/bitcodes/klee-out-0/test000001.path\" ../klee/examples/llvm-coreutils/bitcodes/tee.bc  --sym-arg 10\n"
     ]
    },
    {
     "name": "stderr",
     "output_type": "stream",
     "text": [
      "KLEE: NOTE: Using POSIX model: /home/igandhi/Documents/build/Debug+Asserts/lib/libkleeRuntimePOSIX.bca\n",
      "KLEE: NOTE: Using klee-uclibc : /home/igandhi/Documents/build/Debug+Asserts/lib/klee-uclibc.bca\n",
      "KLEE: output directory is \"/home/igandhi/Documents/profiler/../klee/examples/llvm-coreutils/bitcodes/klee-out-24\"\n",
      "KLEE: Using STP solver backend\n",
      "KLEE: WARNING: undefined reference to function: __ctype_get_mb_cur_max\n",
      "KLEE: WARNING: undefined reference to function: bindtextdomain\n",
      "KLEE: WARNING: undefined reference to function: gettext\n",
      "KLEE: WARNING: undefined reference to function: posix_fadvise\n",
      "KLEE: WARNING: undefined reference to function: textdomain\n",
      "KLEE: WARNING: executable has module level assembly (ignoring)\n",
      "KLEE: WARNING ONCE: calling external: syscall(16, 0, 21505, 94047397977456) at klee/runtime/POSIX/fd.c:1007 10\n",
      "KLEE: WARNING ONCE: Alignment of memory from call \"malloc\" is not modelled. Using alignment of 8.\n",
      "KLEE: WARNING ONCE: calling __klee_posix_wrapped_main with extra arguments.\n",
      "KLEE: WARNING ONCE: Alignment of memory from call \"calloc\" is not modelled. Using alignment of 8.\n",
      "KLEE: WARNING ONCE: calling external: bindtextdomain(94047397242352, 94047397357504) at [no debug info]\n",
      "KLEE: WARNING ONCE: calling external: textdomain(94047397242352) at [no debug info]\n",
      "KLEE: WARNING ONCE: Alignment of memory from call \"realloc\" is not modelled. Using alignment of 8.\n",
      "KLEE: WARNING ONCE: calling external: posix_fadvise(0, 0, 0, 2) at [no debug info]\n",
      "KLEE: WARNING ONCE: calling external: gettext(94047397242192) at [no debug info]\n",
      "KLEE: WARNING ONCE: calling close_stdout with extra arguments.\n",
      "\n",
      "KLEE: done: total instructions = 172249\n",
      "KLEE: done: completed paths = 1\n",
      "KLEE: done: generated tests = 1\n"
     ]
    },
    {
     "name": "stdout",
     "output_type": "stream",
     "text": [
      "/home/igandhi/Documents/build/bin/klee --search=random-path --no-forking --track-instruction-time --libc=uclibc --posix-runtime --replace-condition=12758 --replay-path=\"/home/igandhi/Documents/profiler/../klee/examples/llvm-coreutils/bitcodes/klee-out-0/test000001.path\" ../klee/examples/llvm-coreutils/bitcodes/tee.bc  --sym-arg 10\n"
     ]
    },
    {
     "name": "stderr",
     "output_type": "stream",
     "text": [
      "KLEE: NOTE: Using POSIX model: /home/igandhi/Documents/build/Debug+Asserts/lib/libkleeRuntimePOSIX.bca\n",
      "KLEE: NOTE: Using klee-uclibc : /home/igandhi/Documents/build/Debug+Asserts/lib/klee-uclibc.bca\n",
      "KLEE: output directory is \"/home/igandhi/Documents/profiler/../klee/examples/llvm-coreutils/bitcodes/klee-out-25\"\n",
      "KLEE: Using STP solver backend\n",
      "KLEE: WARNING: undefined reference to function: __ctype_get_mb_cur_max\n",
      "KLEE: WARNING: undefined reference to function: bindtextdomain\n",
      "KLEE: WARNING: undefined reference to function: gettext\n",
      "KLEE: WARNING: undefined reference to function: posix_fadvise\n",
      "KLEE: WARNING: undefined reference to function: textdomain\n",
      "KLEE: WARNING: executable has module level assembly (ignoring)\n",
      "KLEE: WARNING ONCE: calling external: syscall(16, 0, 21505, 94345161584864) at klee/runtime/POSIX/fd.c:1007 10\n",
      "KLEE: WARNING ONCE: Alignment of memory from call \"malloc\" is not modelled. Using alignment of 8.\n",
      "KLEE: WARNING ONCE: calling __klee_posix_wrapped_main with extra arguments.\n",
      "KLEE: WARNING ONCE: Alignment of memory from call \"calloc\" is not modelled. Using alignment of 8.\n",
      "KLEE: WARNING ONCE: calling external: bindtextdomain(94345160787456, 94345160902592) at [no debug info]\n",
      "KLEE: WARNING ONCE: calling external: textdomain(94345160787456) at [no debug info]\n",
      "KLEE: WARNING ONCE: Alignment of memory from call \"realloc\" is not modelled. Using alignment of 8.\n",
      "KLEE: WARNING ONCE: calling external: posix_fadvise(0, 0, 0, 2) at [no debug info]\n",
      "KLEE: WARNING ONCE: calling external: gettext(94345160787296) at [no debug info]\n",
      "KLEE: WARNING ONCE: calling close_stdout with extra arguments.\n",
      "\n",
      "KLEE: done: total instructions = 172249\n",
      "KLEE: done: completed paths = 1\n",
      "KLEE: done: generated tests = 1\n"
     ]
    },
    {
     "name": "stdout",
     "output_type": "stream",
     "text": [
      "/home/igandhi/Documents/build/bin/klee --search=random-path --no-forking --track-instruction-time --libc=uclibc --posix-runtime --replace-condition=12760 --replay-path=\"/home/igandhi/Documents/profiler/../klee/examples/llvm-coreutils/bitcodes/klee-out-0/test000001.path\" ../klee/examples/llvm-coreutils/bitcodes/tee.bc  --sym-arg 10\n"
     ]
    },
    {
     "name": "stderr",
     "output_type": "stream",
     "text": [
      "KLEE: NOTE: Using POSIX model: /home/igandhi/Documents/build/Debug+Asserts/lib/libkleeRuntimePOSIX.bca\n",
      "KLEE: NOTE: Using klee-uclibc : /home/igandhi/Documents/build/Debug+Asserts/lib/klee-uclibc.bca\n",
      "KLEE: output directory is \"/home/igandhi/Documents/profiler/../klee/examples/llvm-coreutils/bitcodes/klee-out-26\"\n",
      "KLEE: Using STP solver backend\n",
      "KLEE: WARNING: undefined reference to function: __ctype_get_mb_cur_max\n",
      "KLEE: WARNING: undefined reference to function: bindtextdomain\n",
      "KLEE: WARNING: undefined reference to function: gettext\n",
      "KLEE: WARNING: undefined reference to function: posix_fadvise\n",
      "KLEE: WARNING: undefined reference to function: textdomain\n",
      "KLEE: WARNING: executable has module level assembly (ignoring)\n",
      "KLEE: WARNING ONCE: calling external: syscall(16, 0, 21505, 94402196803808) at klee/runtime/POSIX/fd.c:1007 10\n",
      "KLEE: WARNING ONCE: Alignment of memory from call \"malloc\" is not modelled. Using alignment of 8.\n",
      "KLEE: WARNING ONCE: calling __klee_posix_wrapped_main with extra arguments.\n",
      "KLEE: WARNING ONCE: Alignment of memory from call \"calloc\" is not modelled. Using alignment of 8.\n",
      "KLEE: WARNING ONCE: calling external: bindtextdomain(94402196006384, 94402196121536) at [no debug info]\n",
      "KLEE: WARNING ONCE: calling external: textdomain(94402196006384) at [no debug info]\n",
      "KLEE: WARNING ONCE: Alignment of memory from call \"realloc\" is not modelled. Using alignment of 8.\n",
      "KLEE: WARNING ONCE: calling external: posix_fadvise(0, 0, 0, 2) at [no debug info]\n",
      "KLEE: WARNING ONCE: calling external: gettext(94402196006224) at [no debug info]\n",
      "KLEE: WARNING ONCE: calling close_stdout with extra arguments.\n",
      "\n",
      "KLEE: done: total instructions = 172249\n",
      "KLEE: done: completed paths = 1\n",
      "KLEE: done: generated tests = 1\n"
     ]
    },
    {
     "name": "stdout",
     "output_type": "stream",
     "text": [
      "/home/igandhi/Documents/build/bin/klee --search=random-path --no-forking --track-instruction-time --libc=uclibc --posix-runtime --replace-condition=12762 --replay-path=\"/home/igandhi/Documents/profiler/../klee/examples/llvm-coreutils/bitcodes/klee-out-0/test000001.path\" ../klee/examples/llvm-coreutils/bitcodes/tee.bc  --sym-arg 10\n"
     ]
    },
    {
     "name": "stderr",
     "output_type": "stream",
     "text": [
      "KLEE: NOTE: Using POSIX model: /home/igandhi/Documents/build/Debug+Asserts/lib/libkleeRuntimePOSIX.bca\n",
      "KLEE: NOTE: Using klee-uclibc : /home/igandhi/Documents/build/Debug+Asserts/lib/klee-uclibc.bca\n",
      "KLEE: output directory is \"/home/igandhi/Documents/profiler/../klee/examples/llvm-coreutils/bitcodes/klee-out-27\"\n",
      "KLEE: Using STP solver backend\n",
      "KLEE: WARNING: undefined reference to function: __ctype_get_mb_cur_max\n",
      "KLEE: WARNING: undefined reference to function: bindtextdomain\n",
      "KLEE: WARNING: undefined reference to function: gettext\n",
      "KLEE: WARNING: undefined reference to function: posix_fadvise\n",
      "KLEE: WARNING: undefined reference to function: textdomain\n",
      "KLEE: WARNING: executable has module level assembly (ignoring)\n",
      "KLEE: WARNING ONCE: calling external: syscall(16, 0, 21505, 94394829615328) at klee/runtime/POSIX/fd.c:1007 10\n",
      "KLEE: WARNING ONCE: Alignment of memory from call \"malloc\" is not modelled. Using alignment of 8.\n",
      "KLEE: WARNING ONCE: calling __klee_posix_wrapped_main with extra arguments.\n",
      "KLEE: WARNING ONCE: Alignment of memory from call \"calloc\" is not modelled. Using alignment of 8.\n",
      "KLEE: WARNING ONCE: calling external: bindtextdomain(94394828801728, 94394828916672) at [no debug info]\n",
      "KLEE: WARNING ONCE: calling external: textdomain(94394828801728) at [no debug info]\n",
      "KLEE: WARNING ONCE: Alignment of memory from call \"realloc\" is not modelled. Using alignment of 8.\n",
      "KLEE: WARNING ONCE: calling external: posix_fadvise(0, 0, 0, 2) at [no debug info]\n",
      "KLEE: WARNING ONCE: calling external: gettext(94394828801568) at [no debug info]\n",
      "KLEE: WARNING ONCE: calling close_stdout with extra arguments.\n",
      "\n",
      "KLEE: done: total instructions = 172249\n",
      "KLEE: done: completed paths = 1\n",
      "KLEE: done: generated tests = 1\n"
     ]
    },
    {
     "name": "stdout",
     "output_type": "stream",
     "text": [
      "/home/igandhi/Documents/build/bin/klee --search=random-path --no-forking --track-instruction-time --libc=uclibc --posix-runtime --replace-condition=12763 --replay-path=\"/home/igandhi/Documents/profiler/../klee/examples/llvm-coreutils/bitcodes/klee-out-0/test000001.path\" ../klee/examples/llvm-coreutils/bitcodes/tee.bc  --sym-arg 10\n"
     ]
    },
    {
     "name": "stderr",
     "output_type": "stream",
     "text": [
      "KLEE: NOTE: Using POSIX model: /home/igandhi/Documents/build/Debug+Asserts/lib/libkleeRuntimePOSIX.bca\n",
      "KLEE: NOTE: Using klee-uclibc : /home/igandhi/Documents/build/Debug+Asserts/lib/klee-uclibc.bca\n",
      "KLEE: output directory is \"/home/igandhi/Documents/profiler/../klee/examples/llvm-coreutils/bitcodes/klee-out-28\"\n",
      "KLEE: Using STP solver backend\n",
      "KLEE: WARNING: undefined reference to function: __ctype_get_mb_cur_max\n",
      "KLEE: WARNING: undefined reference to function: bindtextdomain\n",
      "KLEE: WARNING: undefined reference to function: gettext\n",
      "KLEE: WARNING: undefined reference to function: posix_fadvise\n",
      "KLEE: WARNING: undefined reference to function: textdomain\n",
      "KLEE: WARNING: executable has module level assembly (ignoring)\n",
      "KLEE: WARNING ONCE: calling external: syscall(16, 0, 21505, 94759096851824) at klee/runtime/POSIX/fd.c:1007 10\n",
      "KLEE: WARNING ONCE: Alignment of memory from call \"malloc\" is not modelled. Using alignment of 8.\n",
      "KLEE: WARNING ONCE: calling __klee_posix_wrapped_main with extra arguments.\n",
      "KLEE: WARNING ONCE: Alignment of memory from call \"calloc\" is not modelled. Using alignment of 8.\n",
      "KLEE: WARNING ONCE: calling external: bindtextdomain(94759096116736, 94759096231872) at [no debug info]\n",
      "KLEE: WARNING ONCE: calling external: textdomain(94759096116736) at [no debug info]\n",
      "KLEE: WARNING ONCE: Alignment of memory from call \"realloc\" is not modelled. Using alignment of 8.\n",
      "KLEE: WARNING ONCE: calling external: posix_fadvise(0, 0, 0, 2) at [no debug info]\n",
      "KLEE: WARNING ONCE: calling external: gettext(94759096116576) at [no debug info]\n",
      "KLEE: WARNING ONCE: calling close_stdout with extra arguments.\n",
      "\n",
      "KLEE: done: total instructions = 172249\n",
      "KLEE: done: completed paths = 1\n",
      "KLEE: done: generated tests = 1\n"
     ]
    },
    {
     "name": "stdout",
     "output_type": "stream",
     "text": [
      "/home/igandhi/Documents/build/bin/klee --search=random-path --no-forking --track-instruction-time --libc=uclibc --posix-runtime --replace-condition=12765 --replay-path=\"/home/igandhi/Documents/profiler/../klee/examples/llvm-coreutils/bitcodes/klee-out-0/test000001.path\" ../klee/examples/llvm-coreutils/bitcodes/tee.bc  --sym-arg 10\n"
     ]
    },
    {
     "name": "stderr",
     "output_type": "stream",
     "text": [
      "KLEE: NOTE: Using POSIX model: /home/igandhi/Documents/build/Debug+Asserts/lib/libkleeRuntimePOSIX.bca\n",
      "KLEE: NOTE: Using klee-uclibc : /home/igandhi/Documents/build/Debug+Asserts/lib/klee-uclibc.bca\n",
      "KLEE: output directory is \"/home/igandhi/Documents/profiler/../klee/examples/llvm-coreutils/bitcodes/klee-out-29\"\n",
      "KLEE: Using STP solver backend\n",
      "KLEE: WARNING: undefined reference to function: __ctype_get_mb_cur_max\n",
      "KLEE: WARNING: undefined reference to function: bindtextdomain\n",
      "KLEE: WARNING: undefined reference to function: gettext\n",
      "KLEE: WARNING: undefined reference to function: posix_fadvise\n",
      "KLEE: WARNING: undefined reference to function: textdomain\n",
      "KLEE: WARNING: executable has module level assembly (ignoring)\n",
      "KLEE: WARNING ONCE: calling external: syscall(16, 0, 21505, 94466985344368) at klee/runtime/POSIX/fd.c:1007 10\n",
      "KLEE: WARNING ONCE: Alignment of memory from call \"malloc\" is not modelled. Using alignment of 8.\n",
      "KLEE: WARNING ONCE: calling __klee_posix_wrapped_main with extra arguments.\n",
      "KLEE: WARNING ONCE: Alignment of memory from call \"calloc\" is not modelled. Using alignment of 8.\n",
      "KLEE: WARNING ONCE: calling external: bindtextdomain(94466984609296, 94466984724416) at [no debug info]\n",
      "KLEE: WARNING ONCE: calling external: textdomain(94466984609296) at [no debug info]\n",
      "KLEE: WARNING ONCE: Alignment of memory from call \"realloc\" is not modelled. Using alignment of 8.\n",
      "KLEE: WARNING ONCE: calling external: posix_fadvise(0, 0, 0, 2) at [no debug info]\n",
      "KLEE: WARNING ONCE: calling external: gettext(94466984609136) at [no debug info]\n",
      "KLEE: WARNING ONCE: calling close_stdout with extra arguments.\n",
      "\n",
      "KLEE: done: total instructions = 172249\n",
      "KLEE: done: completed paths = 1\n",
      "KLEE: done: generated tests = 1\n"
     ]
    },
    {
     "name": "stdout",
     "output_type": "stream",
     "text": [
      "/home/igandhi/Documents/build/bin/klee --search=random-path --no-forking --track-instruction-time --libc=uclibc --posix-runtime --replace-condition=12767 --replay-path=\"/home/igandhi/Documents/profiler/../klee/examples/llvm-coreutils/bitcodes/klee-out-0/test000001.path\" ../klee/examples/llvm-coreutils/bitcodes/tee.bc  --sym-arg 10\n"
     ]
    },
    {
     "name": "stderr",
     "output_type": "stream",
     "text": [
      "KLEE: NOTE: Using POSIX model: /home/igandhi/Documents/build/Debug+Asserts/lib/libkleeRuntimePOSIX.bca\n",
      "KLEE: NOTE: Using klee-uclibc : /home/igandhi/Documents/build/Debug+Asserts/lib/klee-uclibc.bca\n",
      "KLEE: output directory is \"/home/igandhi/Documents/profiler/../klee/examples/llvm-coreutils/bitcodes/klee-out-30\"\n",
      "KLEE: Using STP solver backend\n",
      "KLEE: WARNING: undefined reference to function: __ctype_get_mb_cur_max\n",
      "KLEE: WARNING: undefined reference to function: bindtextdomain\n",
      "KLEE: WARNING: undefined reference to function: gettext\n",
      "KLEE: WARNING: undefined reference to function: posix_fadvise\n",
      "KLEE: WARNING: undefined reference to function: textdomain\n",
      "KLEE: WARNING: executable has module level assembly (ignoring)\n",
      "KLEE: WARNING ONCE: calling external: syscall(16, 0, 21505, 93877260660240) at klee/runtime/POSIX/fd.c:1007 10\n",
      "KLEE: WARNING ONCE: Alignment of memory from call \"malloc\" is not modelled. Using alignment of 8.\n",
      "KLEE: WARNING ONCE: calling __klee_posix_wrapped_main with extra arguments.\n",
      "KLEE: WARNING ONCE: Alignment of memory from call \"calloc\" is not modelled. Using alignment of 8.\n",
      "KLEE: WARNING ONCE: calling external: bindtextdomain(93877259929104, 93877260044224) at [no debug info]\n",
      "KLEE: WARNING ONCE: calling external: textdomain(93877259929104) at [no debug info]\n",
      "KLEE: WARNING ONCE: Alignment of memory from call \"realloc\" is not modelled. Using alignment of 8.\n",
      "KLEE: WARNING ONCE: calling external: posix_fadvise(0, 0, 0, 2) at [no debug info]\n",
      "KLEE: WARNING ONCE: calling external: gettext(93877259928944) at [no debug info]\n",
      "KLEE: WARNING ONCE: calling close_stdout with extra arguments.\n",
      "\n",
      "KLEE: done: total instructions = 172249\n",
      "KLEE: done: completed paths = 1\n",
      "KLEE: done: generated tests = 1\n"
     ]
    },
    {
     "name": "stdout",
     "output_type": "stream",
     "text": [
      "Instructions,FullBranches,PartialBranches,NumBranches,UserTime,NumStates,MallocUsage,NumQueries,NumQueryConstructs,NumObjects,WallTime,CoveredInstructions,UncoveredInstructions,QueryTime,SolverTime,CexCacheTime,ForkTime,ResolveTime,QueryCexCacheMisses,QueryCexCacheHits,Breaks,Returns,Switchs,IndirectBrs,Invokes,Resumes,Unreachables,CleanupRets,CatchRets,CatchPads,CatchSwitchs,FNegs,Adds,FAdds,Subs,FSubs,Muls,FMuls,UDivs,SDivs,FDivs,URems,SRems,FRems,Ands,Ors,Xors,Allocas,Loads,Stores,AtomicCmpXchgs,AtomicRMWs,Fences,GetElementPtrs,Truncs,ZExts,SExts,FPTruncs,FPExts,FPToUIs,FPToSIs,UIToFPs,SIToFPs,IntToPtrs,PtrToInts,BitCasts,AddrSpaceCasts,ICmps,FCmps,PHIs,Selects,Calls,Shls,LShrs,AShrs,VAArgs,ExtractElements,InsertElements,ShuffleVectors,ExtractValues,InsertValues,LandingPads,CleanupPads,Cond\n",
      "172249,64,197,1507,937194.0,0,47468832,26,294,0,673103.0,4330,20822,291981,294648,292804,0,61,26,-1,23663,1080,3,0,0,0,0,0,0,0,0,0,8235,0,1247,0,81,0,5,0,0,1,0,0,125,16,17,5302,51978,34835,0,0,0,16540,601,5615,2508,0,0,0,0,0,0,2,98,145,0,12605,0,1261,3,6252,25,0,6,0,0,0,0,0,0,0,0,baseline\n",
      "172249,64,197,1507,760608.0,0,47471528,25,284,0,582758.0,4330,20822,229866,232365,230636,0,67,25,-1,23663,1080,3,0,0,0,0,0,0,0,0,0,8235,0,1247,0,81,0,5,0,0,1,0,0,125,16,17,5302,51978,34835,0,0,0,16540,601,5615,2508,0,0,0,0,0,0,2,98,145,0,12605,0,1261,3,6252,25,0,6,0,0,0,0,0,0,0,0,(Sle 32       (SExt w32 (Read w8 0 arg00)))\n",
      "172249,64,197,1507,958181.0,0,47468072,25,280,0,633812.0,4330,20822,238475,240974,239236,0,65,25,-1,23663,1080,3,0,0,0,0,0,0,0,0,0,8235,0,1247,0,81,0,5,0,0,1,0,0,125,16,17,5302,51978,34835,0,0,0,16540,601,5615,2508,0,0,0,0,0,0,2,98,145,0,12605,0,1261,3,6252,25,0,6,0,0,0,0,0,0,0,0,(Sle 32       (SExt w32 (Read w8 1 arg00)))\n",
      "172249,64,197,1507,801311.0,0,47468256,25,287,0,637597.0,4330,20822,257337,259920,258116,0,69,25,-1,23663,1080,3,0,0,0,0,0,0,0,0,0,8235,0,1247,0,81,0,5,0,0,1,0,0,125,16,17,5302,51978,34835,0,0,0,16540,601,5615,2508,0,0,0,0,0,0,2,98,145,0,12605,0,1261,3,6252,25,0,6,0,0,0,0,0,0,0,0,(Sle 32       (SExt w32 (Read w8 2 arg00)))\n",
      "172249,64,197,1507,736843.0,0,47471328,25,287,0,598303.0,4330,20822,246476,248759,247154,0,55,25,-1,23663,1080,3,0,0,0,0,0,0,0,0,0,8235,0,1247,0,81,0,5,0,0,1,0,0,125,16,17,5302,51978,34835,0,0,0,16540,601,5615,2508,0,0,0,0,0,0,2,98,145,0,12605,0,1261,3,6252,25,0,6,0,0,0,0,0,0,0,0,(Sle 32       (SExt w32 (Read w8 3 arg00)))\n",
      "172249,64,197,1507,690379.0,0,47471328,25,287,0,593970.0,4330,20822,258374,260904,259160,0,63,25,-1,23663,1080,3,0,0,0,0,0,0,0,0,0,8235,0,1247,0,81,0,5,0,0,1,0,0,125,16,17,5302,51978,34835,0,0,0,16540,601,5615,2508,0,0,0,0,0,0,2,98,145,0,12605,0,1261,3,6252,25,0,6,0,0,0,0,0,0,0,0,(Sle 32       (SExt w32 (Read w8 4 arg00)))\n",
      "172249,64,197,1507,674616.0,0,47471328,25,287,0,543645.0,4330,20822,248354,251038,249113,0,62,25,-1,23663,1080,3,0,0,0,0,0,0,0,0,0,8235,0,1247,0,81,0,5,0,0,1,0,0,125,16,17,5302,51978,34835,0,0,0,16540,601,5615,2508,0,0,0,0,0,0,2,98,145,0,12605,0,1261,3,6252,25,0,6,0,0,0,0,0,0,0,0,(Sle 32       (SExt w32 (Read w8 5 arg00)))\n",
      "172249,64,197,1507,674937.0,0,47468256,25,287,0,630689.0,4330,20822,250695,253104,251408,0,60,25,-1,23663,1080,3,0,0,0,0,0,0,0,0,0,8235,0,1247,0,81,0,5,0,0,1,0,0,125,16,17,5302,51978,34835,0,0,0,16540,601,5615,2508,0,0,0,0,0,0,2,98,145,0,12605,0,1261,3,6252,25,0,6,0,0,0,0,0,0,0,0,(Sle 32       (SExt w32 (Read w8 6 arg00)))\n",
      "172249,64,197,1507,885164.0,0,47468256,25,287,0,647750.0,4330,20822,271152,273732,271922,0,71,25,-1,23663,1080,3,0,0,0,0,0,0,0,0,0,8235,0,1247,0,81,0,5,0,0,1,0,0,125,16,17,5302,51978,34835,0,0,0,16540,601,5615,2508,0,0,0,0,0,0,2,98,145,0,12605,0,1261,3,6252,25,0,6,0,0,0,0,0,0,0,0,(Sle 32       (SExt w32 (Read w8 7 arg00)))\n",
      "172249,64,197,1507,737733.0,0,47471904,26,294,0,633530.0,4330,20822,270440,272947,271206,0,58,26,-1,23663,1080,3,0,0,0,0,0,0,0,0,0,8235,0,1247,0,81,0,5,0,0,1,0,0,125,16,17,5302,51978,34835,0,0,0,16540,601,5615,2508,0,0,0,0,0,0,2,98,145,0,12605,0,1261,3,6252,25,0,6,0,0,0,0,0,0,0,0,(Sle 32       (SExt w32 (Read w8 8 arg00)))\n",
      "172249,64,197,1507,675020.0,0,47471904,26,294,0,641557.0,4330,20822,287301,289963,288093,0,68,26,-1,23663,1080,3,0,0,0,0,0,0,0,0,0,8235,0,1247,0,81,0,5,0,0,1,0,0,125,16,17,5302,51978,34835,0,0,0,16540,601,5615,2508,0,0,0,0,0,0,2,98,145,0,12605,0,1261,3,6252,25,0,6,0,0,0,0,0,0,0,0,(Sle 32       (SExt w32 (Read w8 9 arg00)))\n",
      "172249,64,197,1507,750923.0,0,47468832,26,294,0,654632.0,4330,20822,283040,285626,283791,0,57,26,-1,23663,1080,3,0,0,0,0,0,0,0,0,0,8235,0,1247,0,81,0,5,0,0,1,0,0,125,16,17,5302,51978,34835,0,0,0,16540,601,5615,2508,0,0,0,0,0,0,2,98,145,0,12605,0,1261,3,6252,25,0,6,0,0,0,0,0,0,0,0,(Eq false      (Eq 45 (Read w8 0 arg00)))\n",
      "172249,64,197,1507,949575.0,0,47471680,26,294,0,639320.0,4330,20822,271680,274247,272464,0,58,26,-1,23663,1080,3,0,0,0,0,0,0,0,0,0,8235,0,1247,0,81,0,5,0,0,1,0,0,125,16,17,5302,51978,34835,0,0,0,16540,601,5615,2508,0,0,0,0,0,0,2,98,145,0,12605,0,1261,3,6252,25,0,6,0,0,0,0,0,0,0,0,(Eq 0 (Read w8 1 arg00))\n",
      "172249,64,197,1507,794647.0,0,47471904,26,294,0,624252.0,4330,20822,266186,268936,267023,0,71,26,-1,23663,1080,3,0,0,0,0,0,0,0,0,0,8235,0,1247,0,81,0,5,0,0,1,0,0,125,16,17,5302,51978,34835,0,0,0,16540,601,5615,2508,0,0,0,0,0,0,2,98,145,0,12605,0,1261,3,6252,25,0,6,0,0,0,0,0,0,0,0,(Eq 45 (Read w8 0 arg00))\n",
      "172249,64,197,1507,849808.0,0,47473440,26,294,0,624597.0,4330,20822,258593,261234,259414,0,70,26,-1,23663,1080,3,0,0,0,0,0,0,0,0,0,8235,0,1247,0,81,0,5,0,0,1,0,0,125,16,17,5302,51978,34835,0,0,0,16540,601,5615,2508,0,0,0,0,0,0,2,98,145,0,12605,0,1261,3,6252,25,0,6,0,0,0,0,0,0,0,0,(Eq false      (Eq 0 (Read w8 0 arg00)))\n",
      "172249,64,197,1507,751434.0,0,47471904,26,294,0,582209.0,4330,20822,257008,259579,257760,0,65,26,-1,23663,1080,3,0,0,0,0,0,0,0,0,0,8235,0,1247,0,81,0,5,0,0,1,0,0,125,16,17,5302,51978,34835,0,0,0,16540,601,5615,2508,0,0,0,0,0,0,2,98,145,0,12605,0,1261,3,6252,25,0,6,0,0,0,0,0,0,0,0,(Eq 45 (Read w8 1 arg00))\n",
      "172249,64,197,1507,743655.0,0,47470368,26,294,0,601080.0,4330,20822,269658,272301,270418,0,63,26,-1,23663,1080,3,0,0,0,0,0,0,0,0,0,8235,0,1247,0,81,0,5,0,0,1,0,0,125,16,17,5302,51978,34835,0,0,0,16540,601,5615,2508,0,0,0,0,0,0,2,98,145,0,12605,0,1261,3,6252,25,0,6,0,0,0,0,0,0,0,0,(Eq false      (Eq 45 (Read w8 1 arg00)))\n",
      "172249,64,197,1507,803490.0,0,47471296,25,271,0,620379.0,4330,20822,262448,265162,263279,0,63,25,-1,23663,1080,3,0,0,0,0,0,0,0,0,0,8235,0,1247,0,81,0,5,0,0,1,0,0,125,16,17,5302,51978,34835,0,0,0,16540,601,5615,2508,0,0,0,0,0,0,2,98,145,0,12605,0,1261,3,6252,25,0,6,0,0,0,0,0,0,0,0,(Eq false      (Eq 45 (Read w8 0 arg00)))\n",
      "172249,64,197,1507,800745.0,0,47471904,26,294,0,673392.0,4330,20822,282409,285107,283205,0,68,26,-1,23663,1080,3,0,0,0,0,0,0,0,0,0,8235,0,1247,0,81,0,5,0,0,1,0,0,125,16,17,5302,51978,34835,0,0,0,16540,601,5615,2508,0,0,0,0,0,0,2,98,145,0,12605,0,1261,3,6252,25,0,6,0,0,0,0,0,0,0,0,(Eq 0 (Read w8 1 arg00))\n",
      "172249,64,197,1507,776682.0,0,47471904,26,294,0,659936.0,4330,20822,261257,263965,262042,0,69,26,-1,23663,1080,3,0,0,0,0,0,0,0,0,0,8235,0,1247,0,81,0,5,0,0,1,0,0,125,16,17,5302,51978,34835,0,0,0,16540,601,5615,2508,0,0,0,0,0,0,2,98,145,0,12605,0,1261,3,6252,25,0,6,0,0,0,0,0,0,0,0,(Eq 45 (Read w8 1 arg00))\n",
      "172249,64,197,1507,779945.0,0,47471904,26,294,0,634409.0,4330,20822,275658,278258,276421,0,60,26,-1,23663,1080,3,0,0,0,0,0,0,0,0,0,8235,0,1247,0,81,0,5,0,0,1,0,0,125,16,17,5302,51978,34835,0,0,0,16540,601,5615,2508,0,0,0,0,0,0,2,98,145,0,12605,0,1261,3,6252,25,0,6,0,0,0,0,0,0,0,0,(Eq 97      (Extract w8 0 (SExt w32 (Read w8 (Extract w32 0 (Add w64 1                                                               (SExt w64 (ZExt w32 (Eq 45 (Read w8 1 arg00))))))                                       [10=0] @ arg00))))\n",
      "172249,64,197,1507,847025.0,0,47471904,26,294,0,629072.0,4330,20822,258829,261477,259622,0,69,26,-1,23663,1080,3,0,0,0,0,0,0,0,0,0,8235,0,1247,0,81,0,5,0,0,1,0,0,125,16,17,5302,51978,34835,0,0,0,16540,601,5615,2508,0,0,0,0,0,0,2,98,145,0,12605,0,1261,3,6252,25,0,6,0,0,0,0,0,0,0,0,(Eq 0      (Read w8 (Extract w32 0 (Add w64 2                                       (SExt w64 (ZExt w32 (Eq 45 (Read w8 1 arg00))))))               [10=0] @ arg00))\n",
      "172249,64,197,1507,623556.0,0,47471904,26,294,0,550958.0,4330,20822,251078,253592,251817,0,66,26,-1,23663,1080,3,0,0,0,0,0,0,0,0,0,8235,0,1247,0,81,0,5,0,0,1,0,0,125,16,17,5302,51978,34835,0,0,0,16540,601,5615,2508,0,0,0,0,0,0,2,98,145,0,12605,0,1261,3,6252,25,0,6,0,0,0,0,0,0,0,0,(Eq 58      (Read w8 (Extract w32 0 (Add w64 1                                       (SExt w64 (ZExt w32 (Eq 45 (Read w8 1 arg00))))))               [10=0] @ arg00))\n"
     ]
    },
    {
     "name": "stdout",
     "output_type": "stream",
     "text": [
      "172249,64,197,1507,923558.0,0,47473440,26,294,0,706900.0,4330,20822,280362,283012,281168,0,67,26,-1,23663,1080,3,0,0,0,0,0,0,0,0,0,8235,0,1247,0,81,0,5,0,0,1,0,0,125,16,17,5302,51978,34835,0,0,0,16540,601,5615,2508,0,0,0,0,0,0,2,98,145,0,12605,0,1261,3,6252,25,0,6,0,0,0,0,0,0,0,0,(Eq false      (Eq 255          (Read w8 (Extract w32 0 (Add w64 1                                           (SExt w64 (ZExt w32 (Eq 45 (Read w8 1 arg00))))))                   [10=0] @ arg00)))\n",
      "172249,64,197,1507,706768.0,0,47471344,25,277,0,580298.0,4330,20822,291694,294326,292536,0,67,25,-1,23663,1080,3,0,0,0,0,0,0,0,0,0,8235,0,1247,0,81,0,5,0,0,1,0,0,125,16,17,5302,51978,34835,0,0,0,16540,601,5615,2508,0,0,0,0,0,0,2,98,145,0,12605,0,1261,3,6252,25,0,6,0,0,0,0,0,0,0,0,(Eq 0      (Read w8 (Extract w32 0 (Add w64 2                                       (SExt w64 (ZExt w32 (Eq 45 (Read w8 1 arg00))))))               [10=0] @ arg00))\n",
      "172249,64,197,1507,855613.0,0,47473440,26,294,0,630024.0,4330,20822,267708,270393,268508,0,65,26,-1,23663,1080,3,0,0,0,0,0,0,0,0,0,8235,0,1247,0,81,0,5,0,0,1,0,0,125,16,17,5302,51978,34835,0,0,0,16540,601,5615,2508,0,0,0,0,0,0,2,98,145,0,12605,0,1261,3,6252,25,0,6,0,0,0,0,0,0,0,0,(Eq 45 (Read w8 1 arg00))\n",
      "172249,64,197,1507,738898.0,0,47470368,26,294,0,695972.0,4330,20822,274292,277078,275103,0,65,26,-1,23663,1080,3,0,0,0,0,0,0,0,0,0,8235,0,1247,0,81,0,5,0,0,1,0,0,125,16,17,5302,51978,34835,0,0,0,16540,601,5615,2508,0,0,0,0,0,0,2,98,145,0,12605,0,1261,3,6252,25,0,6,0,0,0,0,0,0,0,0,(Eq 97      (Extract w8 0 (SExt w32 (Read w8 (Extract w32 0 (Add w64 2                                                               (SExt w64 (ZExt w32 (Eq 45 (Read w8 1 arg00))))))                                       [10=0] @ arg00))))\n",
      "172249,64,197,1507,706712.0,0,47471904,26,294,0,585578.0,4330,20822,264442,266973,265184,0,65,26,-1,23663,1080,3,0,0,0,0,0,0,0,0,0,8235,0,1247,0,81,0,5,0,0,1,0,0,125,16,17,5302,51978,34835,0,0,0,16540,601,5615,2508,0,0,0,0,0,0,2,98,145,0,12605,0,1261,3,6252,25,0,6,0,0,0,0,0,0,0,0,(Eq 0      (Read w8 (Extract w32 0 (Add w64 3                                       (SExt w64 (ZExt w32 (Eq 45 (Read w8 1 arg00))))))               [10=0] @ arg00))\n",
      "172249,64,197,1507,790657.0,0,47468832,26,294,0,659775.0,4330,20822,252411,255116,253277,0,62,26,-1,23663,1080,3,0,0,0,0,0,0,0,0,0,8235,0,1247,0,81,0,5,0,0,1,0,0,125,16,17,5302,51978,34835,0,0,0,16540,601,5615,2508,0,0,0,0,0,0,2,98,145,0,12605,0,1261,3,6252,25,0,6,0,0,0,0,0,0,0,0,(Eq 58      (Read w8 (Extract w32 0 (Add w64 2                                       (SExt w64 (ZExt w32 (Eq 45 (Read w8 1 arg00))))))               [10=0] @ arg00))\n",
      "172249,64,197,1507,880061.0,0,47471904,26,294,0,683426.0,4330,20822,293579,296338,294412,0,67,26,-1,23663,1080,3,0,0,0,0,0,0,0,0,0,8235,0,1247,0,81,0,5,0,0,1,0,0,125,16,17,5302,51978,34835,0,0,0,16540,601,5615,2508,0,0,0,0,0,0,2,98,145,0,12605,0,1261,3,6252,25,0,6,0,0,0,0,0,0,0,0,(Eq false      (Eq 255          (Read w8 (Extract w32 0 (Add w64 2                                           (SExt w64 (ZExt w32 (Eq 45 (Read w8 1 arg00))))))                   [10=0] @ arg00)))\n"
     ]
    }
   ],
   "source": [
    "let main (bitcode : string) =\n",
    "    let klee_command =\n",
    "        String.concat ~sep:\" \" @@ [executable; flags_to_str output_flags; directory ^ bitcode; \" --sym-arg 10\"]\n",
    "    in\n",
    "    let initial_run = (run klee_command Keep : string list) in\n",
    "    print_str_list initial_run;\n",
    "    let output_dir = get_output_dir initial_run in\n",
    "    let branches = get_branches initial_run in\n",
    "    let run_branch (p, c) : string * string =\n",
    "        let klee_command =\n",
    "        String.concat ~sep:\" \"\n",
    "        @@ [ executable; flags_to_str replay_flags; \"--replace-condition=\" ^ string_of_int p; \n",
    "        \"--replay-path=\\\"\" ^ output_dir ^ \"/test000001.path\\\"\"; directory ^ bitcode; \" --sym-arg 10\" ]\n",
    "        in\n",
    "        print_endline klee_command;\n",
    "        (run klee_command Print : string list) |> ignore;\n",
    "        get_csv_stats directory c \n",
    "    in\n",
    "    (* header strings, value strings *)\n",
    "    let (h_str , v_str) = Caml.List.split @@ List.map ((0, \"baseline\")::branches) run_branch in\n",
    "    print_endline @@ Caml.List.hd h_str;\n",
    "    print_str_list v_str;\n",
    "    clear_subdirs directory;\n",
    "    write_to_log h_str v_str bitcode\n",
    "\n",
    "let () = List.iter bitcodes main"
   ]
  },
  {
   "cell_type": "code",
   "execution_count": null,
   "metadata": {},
   "outputs": [],
   "source": []
  },
  {
   "cell_type": "code",
   "execution_count": null,
   "metadata": {},
   "outputs": [],
   "source": []
  }
 ],
 "metadata": {
  "kernelspec": {
   "display_name": "OCaml 4.09.0",
   "language": "OCaml",
   "name": "ocaml-jupyter"
  },
  "language_info": {
   "codemirror_mode": "text/x-ocaml",
   "file_extension": ".ml",
   "mimetype": "text/x-ocaml",
   "name": "OCaml",
   "nbconverter_exporter": null,
   "pygments_lexer": "OCaml",
   "version": "4.09.0"
  }
 },
 "nbformat": 4,
 "nbformat_minor": 2
}
