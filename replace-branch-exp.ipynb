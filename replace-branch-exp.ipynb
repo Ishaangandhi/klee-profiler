{
 "cells": [
  {
   "cell_type": "code",
   "execution_count": 1,
   "metadata": {},
   "outputs": [],
   "source": [
    "#thread;;\n",
    "\n",
    "#require \"core\";;\n",
    "#require \"core.syntax\";;\n",
    "#require \"stdio\";;\n",
    "\n",
    "open Printf;;\n",
    "open Stdio;;\n",
    "open Core;;"
   ]
  },
  {
   "cell_type": "code",
   "execution_count": 7,
   "metadata": {},
   "outputs": [
    {
     "data": {
      "text/plain": [
       "val executable : string = \"/home/igandhi/Documents/build/bin/klee\"\n"
      ]
     },
     "execution_count": 7,
     "metadata": {},
     "output_type": "execute_result"
    },
    {
     "data": {
      "text/plain": [
       "val klee_stats : string = \"/home/igandhi/Documents/build/bin/klee-stats\"\n"
      ]
     },
     "execution_count": 7,
     "metadata": {},
     "output_type": "execute_result"
    },
    {
     "data": {
      "text/plain": [
       "val output_flags : string list =\n",
       "  [\"search=random-path\"; \"no-forking\"; \"track-instruction-time\";\n",
       "   \"libc=uclibc\"; \"posix-runtime\"; \"write-paths\"; \"output-conditions\"]\n"
      ]
     },
     "execution_count": 7,
     "metadata": {},
     "output_type": "execute_result"
    },
    {
     "data": {
      "text/plain": [
       "val replay_flags : string list =\n",
       "  [\"search=random-path\"; \"no-forking\"; \"track-instruction-time\";\n",
       "   \"libc=uclibc\"; \"posix-runtime\"]\n"
      ]
     },
     "execution_count": 7,
     "metadata": {},
     "output_type": "execute_result"
    },
    {
     "data": {
      "text/plain": [
       "val stats_flags : string list = [\"print-all\"; \"to-csv\"]\n"
      ]
     },
     "execution_count": 7,
     "metadata": {},
     "output_type": "execute_result"
    },
    {
     "data": {
      "text/plain": [
       "val directory : string = \"../klee/examples/llvm-coreutils/bitcodes/\"\n"
      ]
     },
     "execution_count": 7,
     "metadata": {},
     "output_type": "execute_result"
    },
    {
     "data": {
      "text/plain": [
       "val bitcode : string = \"echo.bc\"\n"
      ]
     },
     "execution_count": 7,
     "metadata": {},
     "output_type": "execute_result"
    },
    {
     "data": {
      "text/plain": [
       "val path_n : int = 1\n"
      ]
     },
     "execution_count": 7,
     "metadata": {},
     "output_type": "execute_result"
    }
   ],
   "source": [
    "let executable = \"/home/igandhi/Documents/build/bin/klee\"\n",
    "\n",
    "let klee_stats = \"/home/igandhi/Documents/build/bin/klee-stats\"\n",
    "\n",
    "let output_flags =\n",
    "  [ \n",
    "  \"search=random-path\"; \"no-forking\"; \"track-instruction-time\"; \n",
    "  \"libc=uclibc\"; \"posix-runtime\"; \"write-paths\"; \"output-conditions\"\n",
    "  ]\n",
    "  \n",
    "let replay_flags =\n",
    "  [ \n",
    "  \"search=random-path\"; \"no-forking\"; \"track-instruction-time\"; \n",
    "  \"libc=uclibc\"; \"posix-runtime\"\n",
    "  ]\n",
    "\n",
    "let stats_flags = [ \"print-all\"; \"to-csv\" ]\n",
    "\n",
    "let directory = \"../klee/examples/llvm-coreutils/bitcodes/\"\n",
    "\n",
    "let bitcode = \"echo.bc\"\n",
    "\n",
    "(* number of paths to explore with klee *)\n",
    "let path_n = 1"
   ]
  },
  {
   "cell_type": "code",
   "execution_count": 3,
   "metadata": {},
   "outputs": [
    {
     "data": {
      "text/plain": [
       "exception FileError of string\n"
      ]
     },
     "execution_count": 3,
     "metadata": {},
     "output_type": "execute_result"
    },
    {
     "data": {
      "text/plain": [
       "type stderrOutput = Print | Ignore | Keep\n"
      ]
     },
     "execution_count": 3,
     "metadata": {},
     "output_type": "execute_result"
    },
    {
     "data": {
      "text/plain": [
       "val flags_to_str : string list -> string = <fun>\n"
      ]
     },
     "execution_count": 3,
     "metadata": {},
     "output_type": "execute_result"
    },
    {
     "data": {
      "text/plain": [
       "val run : string -> stderrOutput -> string list = <fun>\n"
      ]
     },
     "execution_count": 3,
     "metadata": {},
     "output_type": "execute_result"
    },
    {
     "data": {
      "text/plain": [
       "val lowest_unused : unit -> int = <fun>\n"
      ]
     },
     "execution_count": 3,
     "metadata": {},
     "output_type": "execute_result"
    },
    {
     "data": {
      "text/plain": [
       "val write_to_log : string list -> string list -> unit = <fun>\n"
      ]
     },
     "execution_count": 3,
     "metadata": {},
     "output_type": "execute_result"
    },
    {
     "data": {
      "text/plain": [
       "val get_csv_stats : string -> string -> string * string = <fun>\n"
      ]
     },
     "execution_count": 3,
     "metadata": {},
     "output_type": "execute_result"
    },
    {
     "data": {
      "text/plain": [
       "val print_str_list : string list -> unit = <fun>\n"
      ]
     },
     "execution_count": 3,
     "metadata": {},
     "output_type": "execute_result"
    }
   ],
   "source": [
    "exception FileError of string\n",
    "\n",
    "type stderrOutput = \n",
    "  | Print\n",
    "  | Ignore\n",
    "  | Keep\n",
    "\n",
    "let flags_to_str (flags : string list) : string =\n",
    "  String.concat ~sep:\" \" @@ List.map flags (fun x -> \"--\" ^ x) \n",
    "\n",
    "(** run runs the given command, and returns each line of output of standard out*)\n",
    "let run (cmd : string) (suppress : stderrOutput) : string list =\n",
    "  let cmd = match suppress with\n",
    "  | Print -> cmd\n",
    "  | Ignore -> cmd ^ \" 2> /dev/null\"\n",
    "  | Keep -> cmd ^ \" 2>&1\"\n",
    "  in\n",
    "  let inp = Unix.open_process_in @@ cmd in\n",
    "  let r = In_channel.input_lines inp in\n",
    "  In_channel.close inp;\n",
    "  r\n",
    "  \n",
    "(* Outputs are logged as log1.csv, log2.csv... lowest_unused finds the lowest unused log number*)\n",
    "let lowest_unused () : int = \n",
    "    let filenames = run (\"ls logs/\") Print in\n",
    "    let num_to_name n = \"log\" ^ string_of_int n ^ \".csv\" in\n",
    "    let is_unused n = not @@ List.mem filenames (num_to_name n) (String.equal) in\n",
    "    match List.find (List.init 100 Fun.id) is_unused with\n",
    "    | Some unused -> unused\n",
    "    | None -> raise (FileError \"All file numbers used\")\n",
    "\n",
    "let write_to_log (headers : string list) (values : string list) : unit =\n",
    "  let i = lowest_unused () in\n",
    "  let oc = Out_channel.create ~append:true @@ \"logs/log\" ^ string_of_int i ^ \".csv\" in\n",
    "  fprintf oc \"%s\\n\" (Option.value (List.hd headers) ~default:\"No headers\");\n",
    "  List.iter values (fprintf oc \"%s\\n\");\n",
    "  Out_channel.close oc\n",
    "\n",
    "(** get_csv_stats returns the results of \"klee-stats\" as a tuple of (header, value) *)\n",
    "let get_csv_stats (directory : string) (cond : string) : string * string =\n",
    "  let command =\n",
    "    klee_stats ^ \" \" ^ directory ^ \"klee-last \" ^ flags_to_str stats_flags\n",
    "  in\n",
    "  let csv_table = run command Print in\n",
    "  ((Option.value (List.hd csv_table) ~default:\"No header\") ^ \", Cond\", \n",
    "  (Option.value (List.hd @@ List.rev csv_table) ~default:\"No rows\") ^ cond)\n",
    "  \n",
    "let print_str_list = fun l -> List.iter l print_endline"
   ]
  },
  {
   "cell_type": "code",
   "execution_count": 4,
   "metadata": {},
   "outputs": [
    {
     "data": {
      "text/plain": [
       "val clear_subdirs : string -> unit = <fun>\n"
      ]
     },
     "execution_count": 4,
     "metadata": {},
     "output_type": "execute_result"
    }
   ],
   "source": [
    "let clear_subdirs (directory : string) : unit = ( run (\"rm -rf \" ^ directory ^ \"*/\") Print : string list) |> ignore"
   ]
  },
  {
   "cell_type": "code",
   "execution_count": 16,
   "metadata": {},
   "outputs": [
    {
     "data": {
      "text/plain": [
       "val get_output_dir : string list -> string = <fun>\n"
      ]
     },
     "execution_count": 16,
     "metadata": {},
     "output_type": "execute_result"
    },
    {
     "data": {
      "text/plain": [
       "val get_branches : string list -> (int * string) list = <fun>\n"
      ]
     },
     "execution_count": 16,
     "metadata": {},
     "output_type": "execute_result"
    }
   ],
   "source": [
    "(*  Given KLEE output, returns a string of where the output is located *)\n",
    "let get_output_dir (klee_output : string list) : string = \n",
    "  let output_str = String.concat ~sep:\"\\n\" klee_output in\n",
    "  let r = Str.regexp \"KLEE: output directory is \\\"\\\\(.*\\\\)\\\"\" in\n",
    "  Str.search_forward r output_str 0 |> ignore;\n",
    "  Str.matched_group 1 output_str\n",
    " \n",
    "(*  Given KLEE output, returns a list of replayposition, condition pairs *)\n",
    "let get_branches (klee_output : string list) : (int * string) list =\n",
    "  let output_str = String.concat ~sep:\" \" klee_output in\n",
    "  let r = Str.regexp \"forking on condition: \\\\([^,]+\\\\), line number: [0-9]+, position \\\\([0-9]+\\\\)\" in\n",
    "  \n",
    "  let rec match_regs start =\n",
    "    try\n",
    "    let next_start = Str.search_forward r output_str start in\n",
    "    let c = Str.matched_group 1 output_str in\n",
    "    let p = Str.matched_group 2 output_str in\n",
    "    (int_of_string p, c) :: match_regs (next_start + 1)\n",
    "    with _ -> []\n",
    "  in\n",
    "  match_regs 0"
   ]
  },
  {
   "cell_type": "code",
   "execution_count": 38,
   "metadata": {},
   "outputs": [
    {
     "data": {
      "text/plain": [
       "- : string =\n",
       "\"/home/igandhi/Documents/profiler/../klee/examples/llvm-coreutils/bitcodes/klee-out-53\"\n"
      ]
     },
     "execution_count": 38,
     "metadata": {},
     "output_type": "execute_result"
    },
    {
     "data": {
      "text/plain": [
       "- : (int * string) list =\n",
       "[(849, \"(Sle 32       (SExt w32 (Read w8 0 arg00)))\");\n",
       " (851, \"(Sle 32       (SExt w32 (Read w8 1 arg00)))\");\n",
       " (853, \"(Sle 32       (SExt w32 (Read w8 2 arg00)))\");\n",
       " (855, \"(Sle 32       (SExt w32 (Read w8 3 arg00)))\");\n",
       " (857, \"(Sle 32       (SExt w32 (Read w8 4 arg00)))\");\n",
       " (859, \"(Sle 32       (SExt w32 (Read w8 5 arg00)))\");\n",
       " (861, \"(Sle 32       (SExt w32 (Read w8 6 arg00)))\");\n",
       " (863, \"(Sle 32       (SExt w32 (Read w8 7 arg00)))\");\n",
       " (865, \"(Sle 32       (SExt w32 (Read w8 8 arg00)))\");\n",
       " (867, \"(Sle 32       (SExt w32 (Read w8 9 arg00)))\");\n",
       " (12723, \"(Eq 45 (Read w8 0 arg00))\"); (12725, \"(Eq 45 (Read w8 0 arg00))\");\n",
       " (12726, \"(Eq 45 (Read w8 0 arg00))\"); (12728, \"(Eq 45 (Read w8 0 arg00))\");\n",
       " (12731, \"(Eq 45 (Read w8 0 arg00))\");\n",
       " (12734, \"(Eq false      (Eq 0 (Read w8 0 arg00)))\")]\n"
      ]
     },
     "execution_count": 38,
     "metadata": {},
     "output_type": "execute_result"
    }
   ],
   "source": [
    "get_output_dir initial_run;;\n",
    "get_branches initial_run;"
   ]
  },
  {
   "cell_type": "code",
   "execution_count": 17,
   "metadata": {
    "scrolled": true
   },
   "outputs": [
    {
     "data": {
      "text/plain": [
       "val main : unit -> unit = <fun>\n"
      ]
     },
     "execution_count": 17,
     "metadata": {},
     "output_type": "execute_result"
    },
    {
     "name": "stdout",
     "output_type": "stream",
     "text": [
      "Initial run in directory: /home/igandhi/Documents/profiler/../klee/examples/llvm-coreutils/bitcodes/klee-out-2\n"
     ]
    },
    {
     "name": "stderr",
     "output_type": "stream",
     "text": [
      "KLEE: NOTE: Using POSIX model: /home/igandhi/Documents/build/Debug+Asserts/lib/libkleeRuntimePOSIX.bca\n",
      "KLEE: NOTE: Using klee-uclibc : /home/igandhi/Documents/build/Debug+Asserts/lib/klee-uclibc.bca\n",
      "klee: /home/igandhi/Documents/klee/tools/klee/main.cpp:609: static void KleeHandler::loadPathFile(std::__cxx11::string, std::vector<bool>&): Assertion `0 && \"unable to open path file\"' failed.\n",
      "/usr/lib/llvm-8/lib/libLLVM-8.so.1(_ZN4llvm3sys15PrintStackTraceERNS_11raw_ostreamE+0x1f)[0x7f8cf13e54bf]\n",
      "/usr/lib/llvm-8/lib/libLLVM-8.so.1(_ZN4llvm3sys17RunSignalHandlersEv+0x22)[0x7f8cf13e38e2]\n",
      "/usr/lib/llvm-8/lib/libLLVM-8.so.1(+0x9728c8)[0x7f8cf13e58c8]\n",
      "/lib/x86_64-linux-gnu/libc.so.6(+0x3ef20)[0x7f8ceff99f20]\n",
      "/lib/x86_64-linux-gnu/libc.so.6(gsignal+0xc7)[0x7f8ceff99e97]\n",
      "/lib/x86_64-linux-gnu/libc.so.6(abort+0x141)[0x7f8ceff9b801]\n",
      "/lib/x86_64-linux-gnu/libc.so.6(+0x3039a)[0x7f8ceff8b39a]\n",
      "/lib/x86_64-linux-gnu/libc.so.6(+0x30412)[0x7f8ceff8b412]\n",
      "/home/igandhi/Documents/build/bin/klee(+0x81c88)[0x55c513559c88]\n",
      "/home/igandhi/Documents/build/bin/klee(main+0x1b94)[0x55c5135481e4]\n",
      "/lib/x86_64-linux-gnu/libc.so.6(__libc_start_main+0xe7)[0x7f8ceff7cb97]\n",
      "/home/igandhi/Documents/build/bin/klee(_start+0x2a)[0x55c5135572aa]\n",
      "Aborted\n",
      "KLEE: NOTE: Using POSIX model: /home/igandhi/Documents/build/Debug+Asserts/lib/libkleeRuntimePOSIX.bca\n",
      "KLEE: NOTE: Using klee-uclibc : /home/igandhi/Documents/build/Debug+Asserts/lib/klee-uclibc.bca\n",
      "klee: /home/igandhi/Documents/klee/tools/klee/main.cpp:609: static void KleeHandler::loadPathFile(std::__cxx11::string, std::vector<bool>&): Assertion `0 && \"unable to open path file\"' failed.\n",
      "/usr/lib/llvm-8/lib/libLLVM-8.so.1(_ZN4llvm3sys15PrintStackTraceERNS_11raw_ostreamE+0x1f)[0x7fe8f633d4bf]\n",
      "/usr/lib/llvm-8/lib/libLLVM-8.so.1(_ZN4llvm3sys17RunSignalHandlersEv+0x22)[0x7fe8f633b8e2]\n",
      "/usr/lib/llvm-8/lib/libLLVM-8.so.1(+0x9728c8)[0x7fe8f633d8c8]\n",
      "/lib/x86_64-linux-gnu/libc.so.6(+0x3ef20)[0x7fe8f4ef1f20]\n",
      "/lib/x86_64-linux-gnu/libc.so.6(gsignal+0xc7)[0x7fe8f4ef1e97]\n",
      "/lib/x86_64-linux-gnu/libc.so.6(abort+0x141)[0x7fe8f4ef3801]\n",
      "/lib/x86_64-linux-gnu/libc.so.6(+0x3039a)[0x7fe8f4ee339a]\n",
      "/lib/x86_64-linux-gnu/libc.so.6(+0x30412)[0x7fe8f4ee3412]\n",
      "/home/igandhi/Documents/build/bin/klee(+0x81c88)[0x55c808466c88]\n",
      "/home/igandhi/Documents/build/bin/klee(main+0x1b94)[0x55c8084551e4]\n",
      "/lib/x86_64-linux-gnu/libc.so.6(__libc_start_main+0xe7)[0x7fe8f4ed4b97]\n",
      "/home/igandhi/Documents/build/bin/klee(_start+0x2a)[0x55c8084642aa]\n",
      "Aborted\n",
      "KLEE: NOTE: Using POSIX model: /home/igandhi/Documents/build/Debug+Asserts/lib/libkleeRuntimePOSIX.bca\n",
      "KLEE: NOTE: Using klee-uclibc : /home/igandhi/Documents/build/Debug+Asserts/lib/klee-uclibc.bca\n",
      "klee: /home/igandhi/Documents/klee/tools/klee/main.cpp:609: static void KleeHandler::loadPathFile(std::__cxx11::string, std::vector<bool>&): Assertion `0 && \"unable to open path file\"' failed.\n",
      "/usr/lib/llvm-8/lib/libLLVM-8.so.1(_ZN4llvm3sys15PrintStackTraceERNS_11raw_ostreamE+0x1f)[0x7f45b1fe44bf]\n",
      "/usr/lib/llvm-8/lib/libLLVM-8.so.1(_ZN4llvm3sys17RunSignalHandlersEv+0x22)[0x7f45b1fe28e2]\n",
      "/usr/lib/llvm-8/lib/libLLVM-8.so.1(+0x9728c8)[0x7f45b1fe48c8]\n",
      "/lib/x86_64-linux-gnu/libc.so.6(+0x3ef20)[0x7f45b0b98f20]\n",
      "/lib/x86_64-linux-gnu/libc.so.6(gsignal+0xc7)[0x7f45b0b98e97]\n",
      "/lib/x86_64-linux-gnu/libc.so.6(abort+0x141)[0x7f45b0b9a801]\n",
      "/lib/x86_64-linux-gnu/libc.so.6(+0x3039a)[0x7f45b0b8a39a]\n",
      "/lib/x86_64-linux-gnu/libc.so.6(+0x30412)[0x7f45b0b8a412]\n",
      "/home/igandhi/Documents/build/bin/klee(+0x81c88)[0x55b5c94f6c88]\n",
      "/home/igandhi/Documents/build/bin/klee(main+0x1b94)[0x55b5c94e51e4]\n",
      "/lib/x86_64-linux-gnu/libc.so.6(__libc_start_main+0xe7)[0x7f45b0b7bb97]\n",
      "/home/igandhi/Documents/build/bin/klee(_start+0x2a)[0x55b5c94f42aa]\n",
      "Aborted\n",
      "KLEE: NOTE: Using POSIX model: /home/igandhi/Documents/build/Debug+Asserts/lib/libkleeRuntimePOSIX.bca\n",
      "KLEE: NOTE: Using klee-uclibc : /home/igandhi/Documents/build/Debug+Asserts/lib/klee-uclibc.bca\n",
      "klee: /home/igandhi/Documents/klee/tools/klee/main.cpp:609: static void KleeHandler::loadPathFile(std::__cxx11::string, std::vector<bool>&): Assertion `0 && \"unable to open path file\"' failed.\n",
      "/usr/lib/llvm-8/lib/libLLVM-8.so.1(_ZN4llvm3sys15PrintStackTraceERNS_11raw_ostreamE+0x1f)[0x7f203a5774bf]\n",
      "/usr/lib/llvm-8/lib/libLLVM-8.so.1(_ZN4llvm3sys17RunSignalHandlersEv+0x22)[0x7f203a5758e2]\n",
      "/usr/lib/llvm-8/lib/libLLVM-8.so.1(+0x9728c8)[0x7f203a5778c8]\n",
      "/lib/x86_64-linux-gnu/libc.so.6(+0x3ef20)[0x7f203912bf20]\n",
      "/lib/x86_64-linux-gnu/libc.so.6(gsignal+0xc7)[0x7f203912be97]\n",
      "/lib/x86_64-linux-gnu/libc.so.6(abort+0x141)[0x7f203912d801]\n",
      "/lib/x86_64-linux-gnu/libc.so.6(+0x3039a)[0x7f203911d39a]\n",
      "/lib/x86_64-linux-gnu/libc.so.6(+0x30412)[0x7f203911d412]\n",
      "/home/igandhi/Documents/build/bin/klee(+0x81c88)[0x56078dbbfc88]\n",
      "/home/igandhi/Documents/build/bin/klee(main+0x1b94)[0x56078dbae1e4]\n",
      "/lib/x86_64-linux-gnu/libc.so.6(__libc_start_main+0xe7)[0x7f203910eb97]\n",
      "/home/igandhi/Documents/build/bin/klee(_start+0x2a)[0x56078dbbd2aa]\n",
      "Aborted\n",
      "KLEE: NOTE: Using POSIX model: /home/igandhi/Documents/build/Debug+Asserts/lib/libkleeRuntimePOSIX.bca\n",
      "KLEE: NOTE: Using klee-uclibc : /home/igandhi/Documents/build/Debug+Asserts/lib/klee-uclibc.bca\n",
      "klee: /home/igandhi/Documents/klee/tools/klee/main.cpp:609: static void KleeHandler::loadPathFile(std::__cxx11::string, std::vector<bool>&): Assertion `0 && \"unable to open path file\"' failed.\n",
      "/usr/lib/llvm-8/lib/libLLVM-8.so.1(_ZN4llvm3sys15PrintStackTraceERNS_11raw_ostreamE+0x1f)[0x7fa0e20064bf]\n",
      "/usr/lib/llvm-8/lib/libLLVM-8.so.1(_ZN4llvm3sys17RunSignalHandlersEv+0x22)[0x7fa0e20048e2]\n",
      "/usr/lib/llvm-8/lib/libLLVM-8.so.1(+0x9728c8)[0x7fa0e20068c8]\n",
      "/lib/x86_64-linux-gnu/libc.so.6(+0x3ef20)[0x7fa0e0bbaf20]\n",
      "/lib/x86_64-linux-gnu/libc.so.6(gsignal+0xc7)[0x7fa0e0bbae97]\n",
      "/lib/x86_64-linux-gnu/libc.so.6(abort+0x141)[0x7fa0e0bbc801]\n",
      "/lib/x86_64-linux-gnu/libc.so.6(+0x3039a)[0x7fa0e0bac39a]\n",
      "/lib/x86_64-linux-gnu/libc.so.6(+0x30412)[0x7fa0e0bac412]\n",
      "/home/igandhi/Documents/build/bin/klee(+0x81c88)[0x56533d44dc88]\n",
      "/home/igandhi/Documents/build/bin/klee(main+0x1b94)[0x56533d43c1e4]\n",
      "/lib/x86_64-linux-gnu/libc.so.6(__libc_start_main+0xe7)[0x7fa0e0b9db97]\n",
      "/home/igandhi/Documents/build/bin/klee(_start+0x2a)[0x56533d44b2aa]\n",
      "Aborted\n",
      "KLEE: NOTE: Using POSIX model: /home/igandhi/Documents/build/Debug+Asserts/lib/libkleeRuntimePOSIX.bca\n",
      "KLEE: NOTE: Using klee-uclibc : /home/igandhi/Documents/build/Debug+Asserts/lib/klee-uclibc.bca\n",
      "klee: /home/igandhi/Documents/klee/tools/klee/main.cpp:609: static void KleeHandler::loadPathFile(std::__cxx11::string, std::vector<bool>&): Assertion `0 && \"unable to open path file\"' failed.\n",
      "/usr/lib/llvm-8/lib/libLLVM-8.so.1(_ZN4llvm3sys15PrintStackTraceERNS_11raw_ostreamE+0x1f)[0x7f90aedf74bf]\n",
      "/usr/lib/llvm-8/lib/libLLVM-8.so.1(_ZN4llvm3sys17RunSignalHandlersEv+0x22)[0x7f90aedf58e2]\n",
      "/usr/lib/llvm-8/lib/libLLVM-8.so.1(+0x9728c8)[0x7f90aedf78c8]\n",
      "/lib/x86_64-linux-gnu/libc.so.6(+0x3ef20)[0x7f90ad9abf20]\n",
      "/lib/x86_64-linux-gnu/libc.so.6(gsignal+0xc7)[0x7f90ad9abe97]\n",
      "/lib/x86_64-linux-gnu/libc.so.6(abort+0x141)[0x7f90ad9ad801]\n",
      "/lib/x86_64-linux-gnu/libc.so.6(+0x3039a)[0x7f90ad99d39a]\n",
      "/lib/x86_64-linux-gnu/libc.so.6(+0x30412)[0x7f90ad99d412]\n",
      "/home/igandhi/Documents/build/bin/klee(+0x81c88)[0x55c1a9dcdc88]\n",
      "/home/igandhi/Documents/build/bin/klee(main+0x1b94)[0x55c1a9dbc1e4]\n",
      "/lib/x86_64-linux-gnu/libc.so.6(__libc_start_main+0xe7)[0x7f90ad98eb97]\n",
      "/home/igandhi/Documents/build/bin/klee(_start+0x2a)[0x55c1a9dcb2aa]\n",
      "Aborted\n",
      "KLEE: NOTE: Using POSIX model: /home/igandhi/Documents/build/Debug+Asserts/lib/libkleeRuntimePOSIX.bca\n",
      "KLEE: NOTE: Using klee-uclibc : /home/igandhi/Documents/build/Debug+Asserts/lib/klee-uclibc.bca\n",
      "klee: /home/igandhi/Documents/klee/tools/klee/main.cpp:609: static void KleeHandler::loadPathFile(std::__cxx11::string, std::vector<bool>&): Assertion `0 && \"unable to open path file\"' failed.\n",
      "/usr/lib/llvm-8/lib/libLLVM-8.so.1(_ZN4llvm3sys15PrintStackTraceERNS_11raw_ostreamE+0x1f)[0x7f6b300694bf]\n",
      "/usr/lib/llvm-8/lib/libLLVM-8.so.1(_ZN4llvm3sys17RunSignalHandlersEv+0x22)[0x7f6b300678e2]\n",
      "/usr/lib/llvm-8/lib/libLLVM-8.so.1(+0x9728c8)[0x7f6b300698c8]\n",
      "/lib/x86_64-linux-gnu/libc.so.6(+0x3ef20)[0x7f6b2ec1df20]\n",
      "/lib/x86_64-linux-gnu/libc.so.6(gsignal+0xc7)[0x7f6b2ec1de97]\n",
      "/lib/x86_64-linux-gnu/libc.so.6(abort+0x141)[0x7f6b2ec1f801]\n"
     ]
    },
    {
     "name": "stderr",
     "output_type": "stream",
     "text": [
      "/lib/x86_64-linux-gnu/libc.so.6(+0x3039a)[0x7f6b2ec0f39a]\n",
      "/lib/x86_64-linux-gnu/libc.so.6(+0x30412)[0x7f6b2ec0f412]\n",
      "/home/igandhi/Documents/build/bin/klee(+0x81c88)[0x556e03ff8c88]\n",
      "/home/igandhi/Documents/build/bin/klee(main+0x1b94)[0x556e03fe71e4]\n",
      "/lib/x86_64-linux-gnu/libc.so.6(__libc_start_main+0xe7)[0x7f6b2ec00b97]\n",
      "/home/igandhi/Documents/build/bin/klee(_start+0x2a)[0x556e03ff62aa]\n",
      "Aborted\n",
      "KLEE: NOTE: Using POSIX model: /home/igandhi/Documents/build/Debug+Asserts/lib/libkleeRuntimePOSIX.bca\n",
      "KLEE: NOTE: Using klee-uclibc : /home/igandhi/Documents/build/Debug+Asserts/lib/klee-uclibc.bca\n",
      "klee: /home/igandhi/Documents/klee/tools/klee/main.cpp:609: static void KleeHandler::loadPathFile(std::__cxx11::string, std::vector<bool>&): Assertion `0 && \"unable to open path file\"' failed.\n",
      "/usr/lib/llvm-8/lib/libLLVM-8.so.1(_ZN4llvm3sys15PrintStackTraceERNS_11raw_ostreamE+0x1f)[0x7f8847b5a4bf]\n",
      "/usr/lib/llvm-8/lib/libLLVM-8.so.1(_ZN4llvm3sys17RunSignalHandlersEv+0x22)[0x7f8847b588e2]\n",
      "/usr/lib/llvm-8/lib/libLLVM-8.so.1(+0x9728c8)[0x7f8847b5a8c8]\n",
      "/lib/x86_64-linux-gnu/libc.so.6(+0x3ef20)[0x7f884670ef20]\n",
      "/lib/x86_64-linux-gnu/libc.so.6(gsignal+0xc7)[0x7f884670ee97]\n",
      "/lib/x86_64-linux-gnu/libc.so.6(abort+0x141)[0x7f8846710801]\n",
      "/lib/x86_64-linux-gnu/libc.so.6(+0x3039a)[0x7f884670039a]\n",
      "/lib/x86_64-linux-gnu/libc.so.6(+0x30412)[0x7f8846700412]\n",
      "/home/igandhi/Documents/build/bin/klee(+0x81c88)[0x55c36c1ebc88]\n",
      "/home/igandhi/Documents/build/bin/klee(main+0x1b94)[0x55c36c1da1e4]\n",
      "/lib/x86_64-linux-gnu/libc.so.6(__libc_start_main+0xe7)[0x7f88466f1b97]\n",
      "/home/igandhi/Documents/build/bin/klee(_start+0x2a)[0x55c36c1e92aa]\n",
      "Aborted\n",
      "KLEE: NOTE: Using POSIX model: /home/igandhi/Documents/build/Debug+Asserts/lib/libkleeRuntimePOSIX.bca\n",
      "KLEE: NOTE: Using klee-uclibc : /home/igandhi/Documents/build/Debug+Asserts/lib/klee-uclibc.bca\n",
      "klee: /home/igandhi/Documents/klee/tools/klee/main.cpp:609: static void KleeHandler::loadPathFile(std::__cxx11::string, std::vector<bool>&): Assertion `0 && \"unable to open path file\"' failed.\n",
      "/usr/lib/llvm-8/lib/libLLVM-8.so.1(_ZN4llvm3sys15PrintStackTraceERNS_11raw_ostreamE+0x1f)[0x7f7f03c604bf]\n",
      "/usr/lib/llvm-8/lib/libLLVM-8.so.1(_ZN4llvm3sys17RunSignalHandlersEv+0x22)[0x7f7f03c5e8e2]\n",
      "/usr/lib/llvm-8/lib/libLLVM-8.so.1(+0x9728c8)[0x7f7f03c608c8]\n",
      "/lib/x86_64-linux-gnu/libc.so.6(+0x3ef20)[0x7f7f02814f20]\n",
      "/lib/x86_64-linux-gnu/libc.so.6(gsignal+0xc7)[0x7f7f02814e97]\n",
      "/lib/x86_64-linux-gnu/libc.so.6(abort+0x141)[0x7f7f02816801]\n",
      "/lib/x86_64-linux-gnu/libc.so.6(+0x3039a)[0x7f7f0280639a]\n",
      "/lib/x86_64-linux-gnu/libc.so.6(+0x30412)[0x7f7f02806412]\n",
      "/home/igandhi/Documents/build/bin/klee(+0x81c88)[0x55d93a0a4c88]\n",
      "/home/igandhi/Documents/build/bin/klee(main+0x1b94)[0x55d93a0931e4]\n",
      "/lib/x86_64-linux-gnu/libc.so.6(__libc_start_main+0xe7)[0x7f7f027f7b97]\n",
      "/home/igandhi/Documents/build/bin/klee(_start+0x2a)[0x55d93a0a22aa]\n",
      "Aborted\n",
      "KLEE: NOTE: Using POSIX model: /home/igandhi/Documents/build/Debug+Asserts/lib/libkleeRuntimePOSIX.bca\n",
      "KLEE: NOTE: Using klee-uclibc : /home/igandhi/Documents/build/Debug+Asserts/lib/klee-uclibc.bca\n",
      "klee: /home/igandhi/Documents/klee/tools/klee/main.cpp:609: static void KleeHandler::loadPathFile(std::__cxx11::string, std::vector<bool>&): Assertion `0 && \"unable to open path file\"' failed.\n",
      "/usr/lib/llvm-8/lib/libLLVM-8.so.1(_ZN4llvm3sys15PrintStackTraceERNS_11raw_ostreamE+0x1f)[0x7fbfda2fe4bf]\n",
      "/usr/lib/llvm-8/lib/libLLVM-8.so.1(_ZN4llvm3sys17RunSignalHandlersEv+0x22)[0x7fbfda2fc8e2]\n",
      "/usr/lib/llvm-8/lib/libLLVM-8.so.1(+0x9728c8)[0x7fbfda2fe8c8]\n",
      "/lib/x86_64-linux-gnu/libc.so.6(+0x3ef20)[0x7fbfd8eb2f20]\n",
      "/lib/x86_64-linux-gnu/libc.so.6(gsignal+0xc7)[0x7fbfd8eb2e97]\n",
      "/lib/x86_64-linux-gnu/libc.so.6(abort+0x141)[0x7fbfd8eb4801]\n",
      "/lib/x86_64-linux-gnu/libc.so.6(+0x3039a)[0x7fbfd8ea439a]\n",
      "/lib/x86_64-linux-gnu/libc.so.6(+0x30412)[0x7fbfd8ea4412]\n",
      "/home/igandhi/Documents/build/bin/klee(+0x81c88)[0x562c9a3e2c88]\n",
      "/home/igandhi/Documents/build/bin/klee(main+0x1b94)[0x562c9a3d11e4]\n",
      "/lib/x86_64-linux-gnu/libc.so.6(__libc_start_main+0xe7)[0x7fbfd8e95b97]\n",
      "/home/igandhi/Documents/build/bin/klee(_start+0x2a)[0x562c9a3e02aa]\n",
      "Aborted\n",
      "KLEE: NOTE: Using POSIX model: /home/igandhi/Documents/build/Debug+Asserts/lib/libkleeRuntimePOSIX.bca\n",
      "KLEE: NOTE: Using klee-uclibc : /home/igandhi/Documents/build/Debug+Asserts/lib/klee-uclibc.bca\n",
      "klee: /home/igandhi/Documents/klee/tools/klee/main.cpp:609: static void KleeHandler::loadPathFile(std::__cxx11::string, std::vector<bool>&): Assertion `0 && \"unable to open path file\"' failed.\n",
      "/usr/lib/llvm-8/lib/libLLVM-8.so.1(_ZN4llvm3sys15PrintStackTraceERNS_11raw_ostreamE+0x1f)[0x7f05a18394bf]\n",
      "/usr/lib/llvm-8/lib/libLLVM-8.so.1(_ZN4llvm3sys17RunSignalHandlersEv+0x22)[0x7f05a18378e2]\n",
      "/usr/lib/llvm-8/lib/libLLVM-8.so.1(+0x9728c8)[0x7f05a18398c8]\n",
      "/lib/x86_64-linux-gnu/libc.so.6(+0x3ef20)[0x7f05a03edf20]\n",
      "/lib/x86_64-linux-gnu/libc.so.6(gsignal+0xc7)[0x7f05a03ede97]\n",
      "/lib/x86_64-linux-gnu/libc.so.6(abort+0x141)[0x7f05a03ef801]\n",
      "/lib/x86_64-linux-gnu/libc.so.6(+0x3039a)[0x7f05a03df39a]\n",
      "/lib/x86_64-linux-gnu/libc.so.6(+0x30412)[0x7f05a03df412]\n",
      "/home/igandhi/Documents/build/bin/klee(+0x81c88)[0x556fc51a6c88]\n",
      "/home/igandhi/Documents/build/bin/klee(main+0x1b94)[0x556fc51951e4]\n",
      "/lib/x86_64-linux-gnu/libc.so.6(__libc_start_main+0xe7)[0x7f05a03d0b97]\n",
      "/home/igandhi/Documents/build/bin/klee(_start+0x2a)[0x556fc51a42aa]\n",
      "Aborted\n",
      "KLEE: NOTE: Using POSIX model: /home/igandhi/Documents/build/Debug+Asserts/lib/libkleeRuntimePOSIX.bca\n",
      "KLEE: NOTE: Using klee-uclibc : /home/igandhi/Documents/build/Debug+Asserts/lib/klee-uclibc.bca\n",
      "klee: /home/igandhi/Documents/klee/tools/klee/main.cpp:609: static void KleeHandler::loadPathFile(std::__cxx11::string, std::vector<bool>&): Assertion `0 && \"unable to open path file\"' failed.\n",
      "/usr/lib/llvm-8/lib/libLLVM-8.so.1(_ZN4llvm3sys15PrintStackTraceERNS_11raw_ostreamE+0x1f)[0x7f68a93894bf]\n",
      "/usr/lib/llvm-8/lib/libLLVM-8.so.1(_ZN4llvm3sys17RunSignalHandlersEv+0x22)[0x7f68a93878e2]\n",
      "/usr/lib/llvm-8/lib/libLLVM-8.so.1(+0x9728c8)[0x7f68a93898c8]\n",
      "/lib/x86_64-linux-gnu/libc.so.6(+0x3ef20)[0x7f68a7f3df20]\n",
      "/lib/x86_64-linux-gnu/libc.so.6(gsignal+0xc7)[0x7f68a7f3de97]\n",
      "/lib/x86_64-linux-gnu/libc.so.6(abort+0x141)[0x7f68a7f3f801]\n",
      "/lib/x86_64-linux-gnu/libc.so.6(+0x3039a)[0x7f68a7f2f39a]\n",
      "/lib/x86_64-linux-gnu/libc.so.6(+0x30412)[0x7f68a7f2f412]\n",
      "/home/igandhi/Documents/build/bin/klee(+0x81c88)[0x55f0dc9c8c88]\n",
      "/home/igandhi/Documents/build/bin/klee(main+0x1b94)[0x55f0dc9b71e4]\n",
      "/lib/x86_64-linux-gnu/libc.so.6(__libc_start_main+0xe7)[0x7f68a7f20b97]\n",
      "/home/igandhi/Documents/build/bin/klee(_start+0x2a)[0x55f0dc9c62aa]\n",
      "Aborted\n",
      "KLEE: NOTE: Using POSIX model: /home/igandhi/Documents/build/Debug+Asserts/lib/libkleeRuntimePOSIX.bca\n",
      "KLEE: NOTE: Using klee-uclibc : /home/igandhi/Documents/build/Debug+Asserts/lib/klee-uclibc.bca\n",
      "klee: /home/igandhi/Documents/klee/tools/klee/main.cpp:609: static void KleeHandler::loadPathFile(std::__cxx11::string, std::vector<bool>&): Assertion `0 && \"unable to open path file\"' failed.\n",
      "/usr/lib/llvm-8/lib/libLLVM-8.so.1(_ZN4llvm3sys15PrintStackTraceERNS_11raw_ostreamE+0x1f)[0x7f648bb844bf]\n",
      "/usr/lib/llvm-8/lib/libLLVM-8.so.1(_ZN4llvm3sys17RunSignalHandlersEv+0x22)[0x7f648bb828e2]\n",
      "/usr/lib/llvm-8/lib/libLLVM-8.so.1(+0x9728c8)[0x7f648bb848c8]\n",
      "/lib/x86_64-linux-gnu/libc.so.6(+0x3ef20)[0x7f648a738f20]\n",
      "/lib/x86_64-linux-gnu/libc.so.6(gsignal+0xc7)[0x7f648a738e97]\n",
      "/lib/x86_64-linux-gnu/libc.so.6(abort+0x141)[0x7f648a73a801]\n",
      "/lib/x86_64-linux-gnu/libc.so.6(+0x3039a)[0x7f648a72a39a]\n",
      "/lib/x86_64-linux-gnu/libc.so.6(+0x30412)[0x7f648a72a412]\n",
      "/home/igandhi/Documents/build/bin/klee(+0x81c88)[0x563b168cdc88]\n",
      "/home/igandhi/Documents/build/bin/klee(main+0x1b94)[0x563b168bc1e4]\n",
      "/lib/x86_64-linux-gnu/libc.so.6(__libc_start_main+0xe7)[0x7f648a71bb97]\n",
      "/home/igandhi/Documents/build/bin/klee(_start+0x2a)[0x563b168cb2aa]\n",
      "Aborted\n",
      "KLEE: NOTE: Using POSIX model: /home/igandhi/Documents/build/Debug+Asserts/lib/libkleeRuntimePOSIX.bca\n",
      "KLEE: NOTE: Using klee-uclibc : /home/igandhi/Documents/build/Debug+Asserts/lib/klee-uclibc.bca\n",
      "klee: /home/igandhi/Documents/klee/tools/klee/main.cpp:609: static void KleeHandler::loadPathFile(std::__cxx11::string, std::vector<bool>&): Assertion `0 && \"unable to open path file\"' failed.\n",
      "/usr/lib/llvm-8/lib/libLLVM-8.so.1(_ZN4llvm3sys15PrintStackTraceERNS_11raw_ostreamE+0x1f)[0x7f38c9e764bf]\n"
     ]
    },
    {
     "name": "stderr",
     "output_type": "stream",
     "text": [
      "/usr/lib/llvm-8/lib/libLLVM-8.so.1(_ZN4llvm3sys17RunSignalHandlersEv+0x22)[0x7f38c9e748e2]\n",
      "/usr/lib/llvm-8/lib/libLLVM-8.so.1(+0x9728c8)[0x7f38c9e768c8]\n",
      "/lib/x86_64-linux-gnu/libc.so.6(+0x3ef20)[0x7f38c8a2af20]\n",
      "/lib/x86_64-linux-gnu/libc.so.6(gsignal+0xc7)[0x7f38c8a2ae97]\n",
      "/lib/x86_64-linux-gnu/libc.so.6(abort+0x141)[0x7f38c8a2c801]\n",
      "/lib/x86_64-linux-gnu/libc.so.6(+0x3039a)[0x7f38c8a1c39a]\n",
      "/lib/x86_64-linux-gnu/libc.so.6(+0x30412)[0x7f38c8a1c412]\n",
      "/home/igandhi/Documents/build/bin/klee(+0x81c88)[0x55ad588cec88]\n",
      "/home/igandhi/Documents/build/bin/klee(main+0x1b94)[0x55ad588bd1e4]\n",
      "/lib/x86_64-linux-gnu/libc.so.6(__libc_start_main+0xe7)[0x7f38c8a0db97]\n",
      "/home/igandhi/Documents/build/bin/klee(_start+0x2a)[0x55ad588cc2aa]\n",
      "Aborted\n",
      "KLEE: NOTE: Using POSIX model: /home/igandhi/Documents/build/Debug+Asserts/lib/libkleeRuntimePOSIX.bca\n",
      "KLEE: NOTE: Using klee-uclibc : /home/igandhi/Documents/build/Debug+Asserts/lib/klee-uclibc.bca\n",
      "klee: /home/igandhi/Documents/klee/tools/klee/main.cpp:609: static void KleeHandler::loadPathFile(std::__cxx11::string, std::vector<bool>&): Assertion `0 && \"unable to open path file\"' failed.\n",
      "/usr/lib/llvm-8/lib/libLLVM-8.so.1(_ZN4llvm3sys15PrintStackTraceERNS_11raw_ostreamE+0x1f)[0x7f4152dc04bf]\n",
      "/usr/lib/llvm-8/lib/libLLVM-8.so.1(_ZN4llvm3sys17RunSignalHandlersEv+0x22)[0x7f4152dbe8e2]\n",
      "/usr/lib/llvm-8/lib/libLLVM-8.so.1(+0x9728c8)[0x7f4152dc08c8]\n",
      "/lib/x86_64-linux-gnu/libc.so.6(+0x3ef20)[0x7f4151974f20]\n",
      "/lib/x86_64-linux-gnu/libc.so.6(gsignal+0xc7)[0x7f4151974e97]\n",
      "/lib/x86_64-linux-gnu/libc.so.6(abort+0x141)[0x7f4151976801]\n",
      "/lib/x86_64-linux-gnu/libc.so.6(+0x3039a)[0x7f415196639a]\n",
      "/lib/x86_64-linux-gnu/libc.so.6(+0x30412)[0x7f4151966412]\n",
      "/home/igandhi/Documents/build/bin/klee(+0x81c88)[0x560086e47c88]\n",
      "/home/igandhi/Documents/build/bin/klee(main+0x1b94)[0x560086e361e4]\n",
      "/lib/x86_64-linux-gnu/libc.so.6(__libc_start_main+0xe7)[0x7f4151957b97]\n",
      "/home/igandhi/Documents/build/bin/klee(_start+0x2a)[0x560086e452aa]\n",
      "Aborted\n",
      "KLEE: NOTE: Using POSIX model: /home/igandhi/Documents/build/Debug+Asserts/lib/libkleeRuntimePOSIX.bca\n",
      "KLEE: NOTE: Using klee-uclibc : /home/igandhi/Documents/build/Debug+Asserts/lib/klee-uclibc.bca\n",
      "klee: /home/igandhi/Documents/klee/tools/klee/main.cpp:609: static void KleeHandler::loadPathFile(std::__cxx11::string, std::vector<bool>&): Assertion `0 && \"unable to open path file\"' failed.\n",
      "/usr/lib/llvm-8/lib/libLLVM-8.so.1(_ZN4llvm3sys15PrintStackTraceERNS_11raw_ostreamE+0x1f)[0x7fd1e29bc4bf]\n",
      "/usr/lib/llvm-8/lib/libLLVM-8.so.1(_ZN4llvm3sys17RunSignalHandlersEv+0x22)[0x7fd1e29ba8e2]\n",
      "/usr/lib/llvm-8/lib/libLLVM-8.so.1(+0x9728c8)[0x7fd1e29bc8c8]\n",
      "/lib/x86_64-linux-gnu/libc.so.6(+0x3ef20)[0x7fd1e1570f20]\n",
      "/lib/x86_64-linux-gnu/libc.so.6(gsignal+0xc7)[0x7fd1e1570e97]\n",
      "/lib/x86_64-linux-gnu/libc.so.6(abort+0x141)[0x7fd1e1572801]\n",
      "/lib/x86_64-linux-gnu/libc.so.6(+0x3039a)[0x7fd1e156239a]\n",
      "/lib/x86_64-linux-gnu/libc.so.6(+0x30412)[0x7fd1e1562412]\n",
      "/home/igandhi/Documents/build/bin/klee(+0x81c88)[0x55b1d4eabc88]\n",
      "/home/igandhi/Documents/build/bin/klee(main+0x1b94)[0x55b1d4e9a1e4]\n",
      "/lib/x86_64-linux-gnu/libc.so.6(__libc_start_main+0xe7)[0x7fd1e1553b97]\n",
      "/home/igandhi/Documents/build/bin/klee(_start+0x2a)[0x55b1d4ea92aa]\n",
      "Aborted\n",
      "KLEE: NOTE: Using POSIX model: /home/igandhi/Documents/build/Debug+Asserts/lib/libkleeRuntimePOSIX.bca\n",
      "KLEE: NOTE: Using klee-uclibc : /home/igandhi/Documents/build/Debug+Asserts/lib/klee-uclibc.bca\n",
      "klee: /home/igandhi/Documents/klee/tools/klee/main.cpp:609: static void KleeHandler::loadPathFile(std::__cxx11::string, std::vector<bool>&): Assertion `0 && \"unable to open path file\"' failed.\n",
      "/usr/lib/llvm-8/lib/libLLVM-8.so.1(_ZN4llvm3sys15PrintStackTraceERNS_11raw_ostreamE+0x1f)[0x7f22a0f324bf]\n",
      "/usr/lib/llvm-8/lib/libLLVM-8.so.1(_ZN4llvm3sys17RunSignalHandlersEv+0x22)[0x7f22a0f308e2]\n",
      "/usr/lib/llvm-8/lib/libLLVM-8.so.1(+0x9728c8)[0x7f22a0f328c8]\n",
      "/lib/x86_64-linux-gnu/libc.so.6(+0x3ef20)[0x7f229fae6f20]\n",
      "/lib/x86_64-linux-gnu/libc.so.6(gsignal+0xc7)[0x7f229fae6e97]\n",
      "/lib/x86_64-linux-gnu/libc.so.6(abort+0x141)[0x7f229fae8801]\n",
      "/lib/x86_64-linux-gnu/libc.so.6(+0x3039a)[0x7f229fad839a]\n",
      "/lib/x86_64-linux-gnu/libc.so.6(+0x30412)[0x7f229fad8412]\n",
      "/home/igandhi/Documents/build/bin/klee(+0x81c88)[0x559a9fb58c88]\n",
      "/home/igandhi/Documents/build/bin/klee(main+0x1b94)[0x559a9fb471e4]\n",
      "/lib/x86_64-linux-gnu/libc.so.6(__libc_start_main+0xe7)[0x7f229fac9b97]\n",
      "/home/igandhi/Documents/build/bin/klee(_start+0x2a)[0x559a9fb562aa]\n",
      "Aborted\n",
      "KLEE: NOTE: Using POSIX model: /home/igandhi/Documents/build/Debug+Asserts/lib/libkleeRuntimePOSIX.bca\n",
      "KLEE: NOTE: Using klee-uclibc : /home/igandhi/Documents/build/Debug+Asserts/lib/klee-uclibc.bca\n",
      "klee: /home/igandhi/Documents/klee/tools/klee/main.cpp:609: static void KleeHandler::loadPathFile(std::__cxx11::string, std::vector<bool>&): Assertion `0 && \"unable to open path file\"' failed.\n",
      "/usr/lib/llvm-8/lib/libLLVM-8.so.1(_ZN4llvm3sys15PrintStackTraceERNS_11raw_ostreamE+0x1f)[0x7f33648104bf]\n",
      "/usr/lib/llvm-8/lib/libLLVM-8.so.1(_ZN4llvm3sys17RunSignalHandlersEv+0x22)[0x7f336480e8e2]\n",
      "/usr/lib/llvm-8/lib/libLLVM-8.so.1(+0x9728c8)[0x7f33648108c8]\n",
      "/lib/x86_64-linux-gnu/libc.so.6(+0x3ef20)[0x7f33633c4f20]\n",
      "/lib/x86_64-linux-gnu/libc.so.6(gsignal+0xc7)[0x7f33633c4e97]\n",
      "/lib/x86_64-linux-gnu/libc.so.6(abort+0x141)[0x7f33633c6801]\n",
      "/lib/x86_64-linux-gnu/libc.so.6(+0x3039a)[0x7f33633b639a]\n",
      "/lib/x86_64-linux-gnu/libc.so.6(+0x30412)[0x7f33633b6412]\n",
      "/home/igandhi/Documents/build/bin/klee(+0x81c88)[0x562a8b46ac88]\n",
      "/home/igandhi/Documents/build/bin/klee(main+0x1b94)[0x562a8b4591e4]\n",
      "/lib/x86_64-linux-gnu/libc.so.6(__libc_start_main+0xe7)[0x7f33633a7b97]\n",
      "/home/igandhi/Documents/build/bin/klee(_start+0x2a)[0x562a8b4682aa]\n",
      "Aborted\n",
      "KLEE: NOTE: Using POSIX model: /home/igandhi/Documents/build/Debug+Asserts/lib/libkleeRuntimePOSIX.bca\n",
      "KLEE: NOTE: Using klee-uclibc : /home/igandhi/Documents/build/Debug+Asserts/lib/klee-uclibc.bca\n",
      "klee: /home/igandhi/Documents/klee/tools/klee/main.cpp:609: static void KleeHandler::loadPathFile(std::__cxx11::string, std::vector<bool>&): Assertion `0 && \"unable to open path file\"' failed.\n",
      "/usr/lib/llvm-8/lib/libLLVM-8.so.1(_ZN4llvm3sys15PrintStackTraceERNS_11raw_ostreamE+0x1f)[0x7ff0951f84bf]\n",
      "/usr/lib/llvm-8/lib/libLLVM-8.so.1(_ZN4llvm3sys17RunSignalHandlersEv+0x22)[0x7ff0951f68e2]\n",
      "/usr/lib/llvm-8/lib/libLLVM-8.so.1(+0x9728c8)[0x7ff0951f88c8]\n",
      "/lib/x86_64-linux-gnu/libc.so.6(+0x3ef20)[0x7ff093dacf20]\n",
      "/lib/x86_64-linux-gnu/libc.so.6(gsignal+0xc7)[0x7ff093dace97]\n",
      "/lib/x86_64-linux-gnu/libc.so.6(abort+0x141)[0x7ff093dae801]\n",
      "/lib/x86_64-linux-gnu/libc.so.6(+0x3039a)[0x7ff093d9e39a]\n",
      "/lib/x86_64-linux-gnu/libc.so.6(+0x30412)[0x7ff093d9e412]\n",
      "/home/igandhi/Documents/build/bin/klee(+0x81c88)[0x563f55879c88]\n",
      "/home/igandhi/Documents/build/bin/klee(main+0x1b94)[0x563f558681e4]\n",
      "/lib/x86_64-linux-gnu/libc.so.6(__libc_start_main+0xe7)[0x7ff093d8fb97]\n",
      "/home/igandhi/Documents/build/bin/klee(_start+0x2a)[0x563f558772aa]\n",
      "Aborted\n",
      "KLEE: NOTE: Using POSIX model: /home/igandhi/Documents/build/Debug+Asserts/lib/libkleeRuntimePOSIX.bca\n",
      "KLEE: NOTE: Using klee-uclibc : /home/igandhi/Documents/build/Debug+Asserts/lib/klee-uclibc.bca\n",
      "klee: /home/igandhi/Documents/klee/tools/klee/main.cpp:609: static void KleeHandler::loadPathFile(std::__cxx11::string, std::vector<bool>&): Assertion `0 && \"unable to open path file\"' failed.\n",
      "/usr/lib/llvm-8/lib/libLLVM-8.so.1(_ZN4llvm3sys15PrintStackTraceERNS_11raw_ostreamE+0x1f)[0x7fd6a83274bf]\n",
      "/usr/lib/llvm-8/lib/libLLVM-8.so.1(_ZN4llvm3sys17RunSignalHandlersEv+0x22)[0x7fd6a83258e2]\n",
      "/usr/lib/llvm-8/lib/libLLVM-8.so.1(+0x9728c8)[0x7fd6a83278c8]\n",
      "/lib/x86_64-linux-gnu/libc.so.6(+0x3ef20)[0x7fd6a6edbf20]\n",
      "/lib/x86_64-linux-gnu/libc.so.6(gsignal+0xc7)[0x7fd6a6edbe97]\n",
      "/lib/x86_64-linux-gnu/libc.so.6(abort+0x141)[0x7fd6a6edd801]\n",
      "/lib/x86_64-linux-gnu/libc.so.6(+0x3039a)[0x7fd6a6ecd39a]\n",
      "/lib/x86_64-linux-gnu/libc.so.6(+0x30412)[0x7fd6a6ecd412]\n",
      "/home/igandhi/Documents/build/bin/klee(+0x81c88)[0x56402c9c2c88]\n",
      "/home/igandhi/Documents/build/bin/klee(main+0x1b94)[0x56402c9b11e4]\n",
      "/lib/x86_64-linux-gnu/libc.so.6(__libc_start_main+0xe7)[0x7fd6a6ebeb97]\n",
      "/home/igandhi/Documents/build/bin/klee(_start+0x2a)[0x56402c9c02aa]\n",
      "Aborted\n",
      "KLEE: NOTE: Using POSIX model: /home/igandhi/Documents/build/Debug+Asserts/lib/libkleeRuntimePOSIX.bca\n"
     ]
    },
    {
     "name": "stderr",
     "output_type": "stream",
     "text": [
      "KLEE: NOTE: Using klee-uclibc : /home/igandhi/Documents/build/Debug+Asserts/lib/klee-uclibc.bca\n",
      "klee: /home/igandhi/Documents/klee/tools/klee/main.cpp:609: static void KleeHandler::loadPathFile(std::__cxx11::string, std::vector<bool>&): Assertion `0 && \"unable to open path file\"' failed.\n",
      "/usr/lib/llvm-8/lib/libLLVM-8.so.1(_ZN4llvm3sys15PrintStackTraceERNS_11raw_ostreamE+0x1f)[0x7f27146da4bf]\n",
      "/usr/lib/llvm-8/lib/libLLVM-8.so.1(_ZN4llvm3sys17RunSignalHandlersEv+0x22)[0x7f27146d88e2]\n",
      "/usr/lib/llvm-8/lib/libLLVM-8.so.1(+0x9728c8)[0x7f27146da8c8]\n",
      "/lib/x86_64-linux-gnu/libc.so.6(+0x3ef20)[0x7f271328ef20]\n",
      "/lib/x86_64-linux-gnu/libc.so.6(gsignal+0xc7)[0x7f271328ee97]\n",
      "/lib/x86_64-linux-gnu/libc.so.6(abort+0x141)[0x7f2713290801]\n",
      "/lib/x86_64-linux-gnu/libc.so.6(+0x3039a)[0x7f271328039a]\n",
      "/lib/x86_64-linux-gnu/libc.so.6(+0x30412)[0x7f2713280412]\n",
      "/home/igandhi/Documents/build/bin/klee(+0x81c88)[0x55ec4f126c88]\n",
      "/home/igandhi/Documents/build/bin/klee(main+0x1b94)[0x55ec4f1151e4]\n",
      "/lib/x86_64-linux-gnu/libc.so.6(__libc_start_main+0xe7)[0x7f2713271b97]\n",
      "/home/igandhi/Documents/build/bin/klee(_start+0x2a)[0x55ec4f1242aa]\n",
      "Aborted\n",
      "KLEE: NOTE: Using POSIX model: /home/igandhi/Documents/build/Debug+Asserts/lib/libkleeRuntimePOSIX.bca\n",
      "KLEE: NOTE: Using klee-uclibc : /home/igandhi/Documents/build/Debug+Asserts/lib/klee-uclibc.bca\n",
      "klee: /home/igandhi/Documents/klee/tools/klee/main.cpp:609: static void KleeHandler::loadPathFile(std::__cxx11::string, std::vector<bool>&): Assertion `0 && \"unable to open path file\"' failed.\n",
      "/usr/lib/llvm-8/lib/libLLVM-8.so.1(_ZN4llvm3sys15PrintStackTraceERNS_11raw_ostreamE+0x1f)[0x7fd4d966a4bf]\n",
      "/usr/lib/llvm-8/lib/libLLVM-8.so.1(_ZN4llvm3sys17RunSignalHandlersEv+0x22)[0x7fd4d96688e2]\n",
      "/usr/lib/llvm-8/lib/libLLVM-8.so.1(+0x9728c8)[0x7fd4d966a8c8]\n",
      "/lib/x86_64-linux-gnu/libc.so.6(+0x3ef20)[0x7fd4d821ef20]\n",
      "/lib/x86_64-linux-gnu/libc.so.6(gsignal+0xc7)[0x7fd4d821ee97]\n",
      "/lib/x86_64-linux-gnu/libc.so.6(abort+0x141)[0x7fd4d8220801]\n",
      "/lib/x86_64-linux-gnu/libc.so.6(+0x3039a)[0x7fd4d821039a]\n",
      "/lib/x86_64-linux-gnu/libc.so.6(+0x30412)[0x7fd4d8210412]\n",
      "/home/igandhi/Documents/build/bin/klee(+0x81c88)[0x563e43280c88]\n",
      "/home/igandhi/Documents/build/bin/klee(main+0x1b94)[0x563e4326f1e4]\n",
      "/lib/x86_64-linux-gnu/libc.so.6(__libc_start_main+0xe7)[0x7fd4d8201b97]\n",
      "/home/igandhi/Documents/build/bin/klee(_start+0x2a)[0x563e4327e2aa]\n",
      "Aborted\n",
      "KLEE: NOTE: Using POSIX model: /home/igandhi/Documents/build/Debug+Asserts/lib/libkleeRuntimePOSIX.bca\n",
      "KLEE: NOTE: Using klee-uclibc : /home/igandhi/Documents/build/Debug+Asserts/lib/klee-uclibc.bca\n",
      "klee: /home/igandhi/Documents/klee/tools/klee/main.cpp:609: static void KleeHandler::loadPathFile(std::__cxx11::string, std::vector<bool>&): Assertion `0 && \"unable to open path file\"' failed.\n",
      "/usr/lib/llvm-8/lib/libLLVM-8.so.1(_ZN4llvm3sys15PrintStackTraceERNS_11raw_ostreamE+0x1f)[0x7f3acbafa4bf]\n",
      "/usr/lib/llvm-8/lib/libLLVM-8.so.1(_ZN4llvm3sys17RunSignalHandlersEv+0x22)[0x7f3acbaf88e2]\n",
      "/usr/lib/llvm-8/lib/libLLVM-8.so.1(+0x9728c8)[0x7f3acbafa8c8]\n",
      "/lib/x86_64-linux-gnu/libc.so.6(+0x3ef20)[0x7f3aca6aef20]\n",
      "/lib/x86_64-linux-gnu/libc.so.6(gsignal+0xc7)[0x7f3aca6aee97]\n",
      "/lib/x86_64-linux-gnu/libc.so.6(abort+0x141)[0x7f3aca6b0801]\n",
      "/lib/x86_64-linux-gnu/libc.so.6(+0x3039a)[0x7f3aca6a039a]\n",
      "/lib/x86_64-linux-gnu/libc.so.6(+0x30412)[0x7f3aca6a0412]\n",
      "/home/igandhi/Documents/build/bin/klee(+0x81c88)[0x557f2f481c88]\n",
      "/home/igandhi/Documents/build/bin/klee(main+0x1b94)[0x557f2f4701e4]\n",
      "/lib/x86_64-linux-gnu/libc.so.6(__libc_start_main+0xe7)[0x7f3aca691b97]\n",
      "/home/igandhi/Documents/build/bin/klee(_start+0x2a)[0x557f2f47f2aa]\n",
      "Aborted\n"
     ]
    },
    {
     "name": "stdout",
     "output_type": "stream",
     "text": [
      "Instructions,FullBranches,PartialBranches,NumBranches,UserTime,NumStates,MallocUsage,NumQueries,NumQueryConstructs,NumObjects,WallTime,CoveredInstructions,UncoveredInstructions,QueryTime,SolverTime,CexCacheTime,ForkTime,ResolveTime,QueryCexCacheMisses,QueryCexCacheHits,Breaks,Returns,Switchs,IndirectBrs,Invokes,Resumes,Unreachables,CleanupRets,CatchRets,CatchPads,CatchSwitchs,FNegs,Adds,FAdds,Subs,FSubs,Muls,FMuls,UDivs,SDivs,FDivs,URems,SRems,FRems,Ands,Ors,Xors,Allocas,Loads,Stores,AtomicCmpXchgs,AtomicRMWs,Fences,GetElementPtrs,Truncs,ZExts,SExts,FPTruncs,FPExts,FPToUIs,FPToSIs,UIToFPs,SIToFPs,IntToPtrs,PtrToInts,BitCasts,AddrSpaceCasts,ICmps,FCmps,PHIs,Selects,Calls,Shls,LShrs,AShrs,VAArgs,ExtractElements,InsertElements,ShuffleVectors,ExtractValues,InsertValues,LandingPads,CleanupPads, Cond\n",
      "171438,58,190,1406,693526.0,0,45929800,21,211,0,570742.0,4067,19329,262668,264556,263295,421,0,21,-1,23585,1074,2,0,0,0,0,0,0,0,0,0,8211,0,1255,0,80,0,6,0,0,1,0,0,131,16,15,5232,51719,34676,0,0,0,16446,581,5626,2473,0,0,0,0,0,0,3,109,142,0,12549,0,1264,1,6210,25,0,6,0,0,0,0,0,0,0,0(Sle 32       (SExt w32 (Read w8 0 arg00)))\n",
      "171438,58,190,1406,693526.0,0,45929800,21,211,0,570742.0,4067,19329,262668,264556,263295,421,0,21,-1,23585,1074,2,0,0,0,0,0,0,0,0,0,8211,0,1255,0,80,0,6,0,0,1,0,0,131,16,15,5232,51719,34676,0,0,0,16446,581,5626,2473,0,0,0,0,0,0,3,109,142,0,12549,0,1264,1,6210,25,0,6,0,0,0,0,0,0,0,0(Sle 32       (SExt w32 (Read w8 1 arg00)))\n",
      "171438,58,190,1406,693526.0,0,45929800,21,211,0,570742.0,4067,19329,262668,264556,263295,421,0,21,-1,23585,1074,2,0,0,0,0,0,0,0,0,0,8211,0,1255,0,80,0,6,0,0,1,0,0,131,16,15,5232,51719,34676,0,0,0,16446,581,5626,2473,0,0,0,0,0,0,3,109,142,0,12549,0,1264,1,6210,25,0,6,0,0,0,0,0,0,0,0(Sle 32       (SExt w32 (Read w8 2 arg00)))\n",
      "171438,58,190,1406,693526.0,0,45929800,21,211,0,570742.0,4067,19329,262668,264556,263295,421,0,21,-1,23585,1074,2,0,0,0,0,0,0,0,0,0,8211,0,1255,0,80,0,6,0,0,1,0,0,131,16,15,5232,51719,34676,0,0,0,16446,581,5626,2473,0,0,0,0,0,0,3,109,142,0,12549,0,1264,1,6210,25,0,6,0,0,0,0,0,0,0,0(Sle 32       (SExt w32 (Read w8 3 arg00)))\n",
      "171438,58,190,1406,693526.0,0,45929800,21,211,0,570742.0,4067,19329,262668,264556,263295,421,0,21,-1,23585,1074,2,0,0,0,0,0,0,0,0,0,8211,0,1255,0,80,0,6,0,0,1,0,0,131,16,15,5232,51719,34676,0,0,0,16446,581,5626,2473,0,0,0,0,0,0,3,109,142,0,12549,0,1264,1,6210,25,0,6,0,0,0,0,0,0,0,0(Sle 32       (SExt w32 (Read w8 4 arg00)))\n",
      "171438,58,190,1406,693526.0,0,45929800,21,211,0,570742.0,4067,19329,262668,264556,263295,421,0,21,-1,23585,1074,2,0,0,0,0,0,0,0,0,0,8211,0,1255,0,80,0,6,0,0,1,0,0,131,16,15,5232,51719,34676,0,0,0,16446,581,5626,2473,0,0,0,0,0,0,3,109,142,0,12549,0,1264,1,6210,25,0,6,0,0,0,0,0,0,0,0(Sle 32       (SExt w32 (Read w8 5 arg00)))\n",
      "171438,58,190,1406,693526.0,0,45929800,21,211,0,570742.0,4067,19329,262668,264556,263295,421,0,21,-1,23585,1074,2,0,0,0,0,0,0,0,0,0,8211,0,1255,0,80,0,6,0,0,1,0,0,131,16,15,5232,51719,34676,0,0,0,16446,581,5626,2473,0,0,0,0,0,0,3,109,142,0,12549,0,1264,1,6210,25,0,6,0,0,0,0,0,0,0,0(Sle 32       (SExt w32 (Read w8 6 arg00)))\n",
      "171438,58,190,1406,693526.0,0,45929800,21,211,0,570742.0,4067,19329,262668,264556,263295,421,0,21,-1,23585,1074,2,0,0,0,0,0,0,0,0,0,8211,0,1255,0,80,0,6,0,0,1,0,0,131,16,15,5232,51719,34676,0,0,0,16446,581,5626,2473,0,0,0,0,0,0,3,109,142,0,12549,0,1264,1,6210,25,0,6,0,0,0,0,0,0,0,0(Sle 32       (SExt w32 (Read w8 7 arg00)))\n",
      "171438,58,190,1406,693526.0,0,45929800,21,211,0,570742.0,4067,19329,262668,264556,263295,421,0,21,-1,23585,1074,2,0,0,0,0,0,0,0,0,0,8211,0,1255,0,80,0,6,0,0,1,0,0,131,16,15,5232,51719,34676,0,0,0,16446,581,5626,2473,0,0,0,0,0,0,3,109,142,0,12549,0,1264,1,6210,25,0,6,0,0,0,0,0,0,0,0(Sle 32       (SExt w32 (Read w8 8 arg00)))\n",
      "171438,58,190,1406,693526.0,0,45929800,21,211,0,570742.0,4067,19329,262668,264556,263295,421,0,21,-1,23585,1074,2,0,0,0,0,0,0,0,0,0,8211,0,1255,0,80,0,6,0,0,1,0,0,131,16,15,5232,51719,34676,0,0,0,16446,581,5626,2473,0,0,0,0,0,0,3,109,142,0,12549,0,1264,1,6210,25,0,6,0,0,0,0,0,0,0,0(Sle 32       (SExt w32 (Read w8 9 arg00)))\n",
      "171438,58,190,1406,693526.0,0,45929800,21,211,0,570742.0,4067,19329,262668,264556,263295,421,0,21,-1,23585,1074,2,0,0,0,0,0,0,0,0,0,8211,0,1255,0,80,0,6,0,0,1,0,0,131,16,15,5232,51719,34676,0,0,0,16446,581,5626,2473,0,0,0,0,0,0,3,109,142,0,12549,0,1264,1,6210,25,0,6,0,0,0,0,0,0,0,0(Eq 45 (Read w8 0 arg00))\n",
      "171438,58,190,1406,693526.0,0,45929800,21,211,0,570742.0,4067,19329,262668,264556,263295,421,0,21,-1,23585,1074,2,0,0,0,0,0,0,0,0,0,8211,0,1255,0,80,0,6,0,0,1,0,0,131,16,15,5232,51719,34676,0,0,0,16446,581,5626,2473,0,0,0,0,0,0,3,109,142,0,12549,0,1264,1,6210,25,0,6,0,0,0,0,0,0,0,0(Eq false      (Eq 0 (Read w8 0 arg00)))\n",
      "171438,58,190,1406,693526.0,0,45929800,21,211,0,570742.0,4067,19329,262668,264556,263295,421,0,21,-1,23585,1074,2,0,0,0,0,0,0,0,0,0,8211,0,1255,0,80,0,6,0,0,1,0,0,131,16,15,5232,51719,34676,0,0,0,16446,581,5626,2473,0,0,0,0,0,0,3,109,142,0,12549,0,1264,1,6210,25,0,6,0,0,0,0,0,0,0,0(Eq 45 (Read w8 1 arg00))\n",
      "171438,58,190,1406,693526.0,0,45929800,21,211,0,570742.0,4067,19329,262668,264556,263295,421,0,21,-1,23585,1074,2,0,0,0,0,0,0,0,0,0,8211,0,1255,0,80,0,6,0,0,1,0,0,131,16,15,5232,51719,34676,0,0,0,16446,581,5626,2473,0,0,0,0,0,0,3,109,142,0,12549,0,1264,1,6210,25,0,6,0,0,0,0,0,0,0,0(Eq 45 (Read w8 1 arg00))\n",
      "171438,58,190,1406,693526.0,0,45929800,21,211,0,570742.0,4067,19329,262668,264556,263295,421,0,21,-1,23585,1074,2,0,0,0,0,0,0,0,0,0,8211,0,1255,0,80,0,6,0,0,1,0,0,131,16,15,5232,51719,34676,0,0,0,16446,581,5626,2473,0,0,0,0,0,0,3,109,142,0,12549,0,1264,1,6210,25,0,6,0,0,0,0,0,0,0,0(Eq 45 (Read w8 0 arg00))\n",
      "171438,58,190,1406,693526.0,0,45929800,21,211,0,570742.0,4067,19329,262668,264556,263295,421,0,21,-1,23585,1074,2,0,0,0,0,0,0,0,0,0,8211,0,1255,0,80,0,6,0,0,1,0,0,131,16,15,5232,51719,34676,0,0,0,16446,581,5626,2473,0,0,0,0,0,0,3,109,142,0,12549,0,1264,1,6210,25,0,6,0,0,0,0,0,0,0,0(Eq false      (Eq 0 (Read w8 0 arg00)))\n",
      "171438,58,190,1406,693526.0,0,45929800,21,211,0,570742.0,4067,19329,262668,264556,263295,421,0,21,-1,23585,1074,2,0,0,0,0,0,0,0,0,0,8211,0,1255,0,80,0,6,0,0,1,0,0,131,16,15,5232,51719,34676,0,0,0,16446,581,5626,2473,0,0,0,0,0,0,3,109,142,0,12549,0,1264,1,6210,25,0,6,0,0,0,0,0,0,0,0(Eq 45 (Read w8 1 arg00))\n",
      "171438,58,190,1406,693526.0,0,45929800,21,211,0,570742.0,4067,19329,262668,264556,263295,421,0,21,-1,23585,1074,2,0,0,0,0,0,0,0,0,0,8211,0,1255,0,80,0,6,0,0,1,0,0,131,16,15,5232,51719,34676,0,0,0,16446,581,5626,2473,0,0,0,0,0,0,3,109,142,0,12549,0,1264,1,6210,25,0,6,0,0,0,0,0,0,0,0(Eq 45 (Read w8 1 arg00))\n",
      "171438,58,190,1406,693526.0,0,45929800,21,211,0,570742.0,4067,19329,262668,264556,263295,421,0,21,-1,23585,1074,2,0,0,0,0,0,0,0,0,0,8211,0,1255,0,80,0,6,0,0,1,0,0,131,16,15,5232,51719,34676,0,0,0,16446,581,5626,2473,0,0,0,0,0,0,3,109,142,0,12549,0,1264,1,6210,25,0,6,0,0,0,0,0,0,0,0(Eq 45 (Read w8 0 arg00))\n",
      "171438,58,190,1406,693526.0,0,45929800,21,211,0,570742.0,4067,19329,262668,264556,263295,421,0,21,-1,23585,1074,2,0,0,0,0,0,0,0,0,0,8211,0,1255,0,80,0,6,0,0,1,0,0,131,16,15,5232,51719,34676,0,0,0,16446,581,5626,2473,0,0,0,0,0,0,3,109,142,0,12549,0,1264,1,6210,25,0,6,0,0,0,0,0,0,0,0(Eq false      (Eq 0 (Read w8 1 arg00)))\n",
      "171438,58,190,1406,693526.0,0,45929800,21,211,0,570742.0,4067,19329,262668,264556,263295,421,0,21,-1,23585,1074,2,0,0,0,0,0,0,0,0,0,8211,0,1255,0,80,0,6,0,0,1,0,0,131,16,15,5232,51719,34676,0,0,0,16446,581,5626,2473,0,0,0,0,0,0,3,109,142,0,12549,0,1264,1,6210,25,0,6,0,0,0,0,0,0,0,0(Eq false      (Eq 0 (Read w8 0 arg00)))\n",
      "171438,58,190,1406,693526.0,0,45929800,21,211,0,570742.0,4067,19329,262668,264556,263295,421,0,21,-1,23585,1074,2,0,0,0,0,0,0,0,0,0,8211,0,1255,0,80,0,6,0,0,1,0,0,131,16,15,5232,51719,34676,0,0,0,16446,581,5626,2473,0,0,0,0,0,0,3,109,142,0,12549,0,1264,1,6210,25,0,6,0,0,0,0,0,0,0,0(Eq false      (Eq 0 (Read w8 1 arg00)))\n",
      "171438,58,190,1406,693526.0,0,45929800,21,211,0,570742.0,4067,19329,262668,264556,263295,421,0,21,-1,23585,1074,2,0,0,0,0,0,0,0,0,0,8211,0,1255,0,80,0,6,0,0,1,0,0,131,16,15,5232,51719,34676,0,0,0,16446,581,5626,2473,0,0,0,0,0,0,3,109,142,0,12549,0,1264,1,6210,25,0,6,0,0,0,0,0,0,0,0(Eq false      (Eq 0 (Read w8 2 arg00)))\n"
     ]
    }
   ],
   "source": [
    "let main () =\n",
    "    let klee_command =\n",
    "        String.concat ~sep:\" \" @@ [executable; flags_to_str output_flags; directory ^ bitcode; \" --sym-arg 10\"]\n",
    "    in\n",
    "    let initial_run = (run klee_command Keep : string list) in\n",
    "    let output_dir = get_output_dir initial_run in\n",
    "    let branches = get_branches initial_run in\n",
    "    print_str_list\n",
    "    let run_branch (p, c) : string * string =\n",
    "        let klee_command =\n",
    "        String.concat ~sep:\" \"\n",
    "        @@ [ executable; flags_to_str replay_flags; \"--replace-condition=\" ^ string_of_int p; \n",
    "        \"--replay-path=\\\"\" ^ output_dir ^ \"test000001.path\\\"\"; directory ^ bitcode; \" --sym-arg 10\" ]\n",
    "        in\n",
    "        (run klee_command Print : string list) |> ignore;\n",
    "        get_csv_stats directory c \n",
    "    in\n",
    "    (* header strings, value strings *)\n",
    "    let (h_str , v_str) = Caml.List.split @@ List.map branches run_branch in\n",
    "    print_endline @@ Caml.List.hd h_str;\n",
    "    print_str_list v_str;\n",
    "    clear_subdirs directory;\n",
    "    write_to_log h_str v_str\n",
    "\n",
    "let () = main ()"
   ]
  },
  {
   "cell_type": "code",
   "execution_count": null,
   "metadata": {},
   "outputs": [],
   "source": []
  }
 ],
 "metadata": {
  "kernelspec": {
   "display_name": "OCaml 4.09.0",
   "language": "OCaml",
   "name": "ocaml-jupyter"
  },
  "language_info": {
   "codemirror_mode": "text/x-ocaml",
   "file_extension": ".ml",
   "mimetype": "text/x-ocaml",
   "name": "OCaml",
   "nbconverter_exporter": null,
   "pygments_lexer": "OCaml",
   "version": "4.09.0"
  }
 },
 "nbformat": 4,
 "nbformat_minor": 2
}
