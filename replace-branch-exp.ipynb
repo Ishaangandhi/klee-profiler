{
 "cells": [
  {
   "cell_type": "code",
   "execution_count": 7,
   "metadata": {},
   "outputs": [],
   "source": [
    "#thread;;\n",
    "\n",
    "#require \"core\";;\n",
    "#require \"core.syntax\";;\n",
    "#require \"stdio\";;\n",
    "\n",
    "open Printf;;\n",
    "open Stdio;;\n",
    "open Core;;"
   ]
  },
  {
   "cell_type": "code",
   "execution_count": 8,
   "metadata": {},
   "outputs": [
    {
     "data": {
      "text/plain": [
       "val executable : string = \"/home/igandhi/Documents/build/bin/klee\"\n"
      ]
     },
     "execution_count": 8,
     "metadata": {},
     "output_type": "execute_result"
    },
    {
     "data": {
      "text/plain": [
       "val klee_stats : string = \"/home/igandhi/Documents/build/bin/klee-stats\"\n"
      ]
     },
     "execution_count": 8,
     "metadata": {},
     "output_type": "execute_result"
    },
    {
     "data": {
      "text/plain": [
       "val output_flags : string list =\n",
       "  [\"search=random-path\"; \"no-forking\"; \"track-instruction-time\";\n",
       "   \"libc=uclibc\"; \"posix-runtime\"; \"write-paths\"; \"output-conditions\"]\n"
      ]
     },
     "execution_count": 8,
     "metadata": {},
     "output_type": "execute_result"
    },
    {
     "data": {
      "text/plain": [
       "val replay_flags : string list =\n",
       "  [\"search=random-path\"; \"no-forking\"; \"track-instruction-time\";\n",
       "   \"libc=uclibc\"; \"posix-runtime\"]\n"
      ]
     },
     "execution_count": 8,
     "metadata": {},
     "output_type": "execute_result"
    },
    {
     "data": {
      "text/plain": [
       "val stats_flags : string list = [\"print-all\"; \"to-csv\"]\n"
      ]
     },
     "execution_count": 8,
     "metadata": {},
     "output_type": "execute_result"
    },
    {
     "data": {
      "text/plain": [
       "val directory : string = \"../klee/examples/llvm-coreutils/bitcodes/\"\n"
      ]
     },
     "execution_count": 8,
     "metadata": {},
     "output_type": "execute_result"
    },
    {
     "data": {
      "text/plain": [
       "val bitcode : string = \"ls.bc\"\n"
      ]
     },
     "execution_count": 8,
     "metadata": {},
     "output_type": "execute_result"
    },
    {
     "data": {
      "text/plain": [
       "val path_n : int = 1\n"
      ]
     },
     "execution_count": 8,
     "metadata": {},
     "output_type": "execute_result"
    }
   ],
   "source": [
    "let executable = \"/home/igandhi/Documents/build/bin/klee\"\n",
    "\n",
    "let klee_stats = \"/home/igandhi/Documents/build/bin/klee-stats\"\n",
    "\n",
    "let output_flags =\n",
    "  [ \n",
    "  \"search=random-path\"; \"no-forking\"; \"track-instruction-time\"; \n",
    "  \"libc=uclibc\"; \"posix-runtime\"; \"write-paths\"; \"output-conditions\"\n",
    "  ]\n",
    "  \n",
    "let replay_flags =\n",
    "  [ \n",
    "  \"search=random-path\"; \"no-forking\"; \"track-instruction-time\"; \n",
    "  \"libc=uclibc\"; \"posix-runtime\"\n",
    "  ]\n",
    "\n",
    "let stats_flags = [ \"print-all\"; \"to-csv\" ]\n",
    "\n",
    "let directory = \"../klee/examples/llvm-coreutils/bitcodes/\"\n",
    "\n",
    "let bitcode = \"ls.bc\"\n",
    "\n",
    "let bitcodes = [\"ls.bc\" ; \"cat.bc\" ; \"env.bc\" ; \"split.bc\" ; \"tee.bc\" ]\n",
    "\n",
    "(* number of paths to explore with klee *)\n",
    "let path_n = 1"
   ]
  },
  {
   "cell_type": "code",
   "execution_count": 15,
   "metadata": {},
   "outputs": [
    {
     "data": {
      "text/plain": [
       "exception FileError of string\n"
      ]
     },
     "execution_count": 15,
     "metadata": {},
     "output_type": "execute_result"
    },
    {
     "data": {
      "text/plain": [
       "type stderrOutput = Print | Ignore | Keep\n"
      ]
     },
     "execution_count": 15,
     "metadata": {},
     "output_type": "execute_result"
    },
    {
     "data": {
      "text/plain": [
       "val flags_to_str : string list -> string = <fun>\n"
      ]
     },
     "execution_count": 15,
     "metadata": {},
     "output_type": "execute_result"
    },
    {
     "data": {
      "text/plain": [
       "val run : string -> stderrOutput -> string list = <fun>\n"
      ]
     },
     "execution_count": 15,
     "metadata": {},
     "output_type": "execute_result"
    },
    {
     "data": {
      "text/plain": [
       "val lowest_unused : unit -> int = <fun>\n"
      ]
     },
     "execution_count": 15,
     "metadata": {},
     "output_type": "execute_result"
    },
    {
     "data": {
      "text/plain": [
       "val write_to_log : string list -> string list -> string -> unit = <fun>\n"
      ]
     },
     "execution_count": 15,
     "metadata": {},
     "output_type": "execute_result"
    },
    {
     "data": {
      "text/plain": [
       "val get_csv_stats : string -> string -> string * string = <fun>\n"
      ]
     },
     "execution_count": 15,
     "metadata": {},
     "output_type": "execute_result"
    },
    {
     "data": {
      "text/plain": [
       "val print_str_list : string list -> unit = <fun>\n"
      ]
     },
     "execution_count": 15,
     "metadata": {},
     "output_type": "execute_result"
    }
   ],
   "source": [
    "exception FileError of string\n",
    "\n",
    "type stderrOutput = \n",
    "  | Print\n",
    "  | Ignore\n",
    "  | Keep\n",
    "\n",
    "let flags_to_str (flags : string list) : string =\n",
    "  String.concat ~sep:\" \" @@ List.map flags (fun x -> \"--\" ^ x) \n",
    "\n",
    "(** run runs the given command, and returns each line of output of standard out*)\n",
    "let run (cmd : string) (suppress : stderrOutput) : string list =\n",
    "  let cmd = match suppress with\n",
    "  | Print -> cmd\n",
    "  | Ignore -> cmd ^ \" 2> /dev/null\"\n",
    "  | Keep -> cmd ^ \" 2>&1\"\n",
    "  in\n",
    "  let inp = Unix.open_process_in @@ cmd in\n",
    "  let r = In_channel.input_lines inp in\n",
    "  In_channel.close inp;\n",
    "  r\n",
    "  \n",
    "(* Outputs are logged as log1.csv, log2.csv... lowest_unused finds the lowest unused log number*)\n",
    "let lowest_unused () : int = \n",
    "    let filenames = run (\"ls logs/\") Print in\n",
    "    let num_to_name n = \"log\" ^ string_of_int n ^ \".csv\" in\n",
    "    let is_unused n = not @@ List.mem filenames (num_to_name n) (String.equal) in\n",
    "    match List.find (List.init 100 Fun.id) is_unused with\n",
    "    | Some unused -> unused\n",
    "    | None -> raise (FileError \"All file numbers used\")\n",
    "\n",
    "let write_to_log (headers : string list) (values : string list) (bitcode : string) : unit =\n",
    "  let i = lowest_unused () in\n",
    "  let oc = Out_channel.create ~append:true @@ \"logs/log\" ^ string_of_int i ^ \".csv\" in\n",
    "  fprintf oc \"#%s\\n %s\\n\" bitcode (Option.value (List.hd headers) ~default:\"No headers\");\n",
    "  List.iter values (fprintf oc \"%s\\n\");\n",
    "  Out_channel.close oc\n",
    "\n",
    "(** get_csv_stats returns the results of \"klee-stats\" as a tuple of (header, value) *)\n",
    "let get_csv_stats (directory : string) (cond : string) : string * string =\n",
    "  let command =\n",
    "    klee_stats ^ \" \" ^ directory ^ \"klee-last \" ^ flags_to_str stats_flags\n",
    "  in\n",
    "  let csv_table = run command Print in\n",
    "  ((Option.value (List.hd csv_table) ~default:\"No header\") ^ \",Cond\", \n",
    "  (Option.value (List.hd @@ List.rev csv_table) ~default:\"No rows\") ^ \",\" ^ cond)\n",
    "  \n",
    "let print_str_list = fun l -> List.iter l print_endline"
   ]
  },
  {
   "cell_type": "code",
   "execution_count": 10,
   "metadata": {},
   "outputs": [
    {
     "data": {
      "text/plain": [
       "val clear_subdirs : string -> unit = <fun>\n"
      ]
     },
     "execution_count": 10,
     "metadata": {},
     "output_type": "execute_result"
    }
   ],
   "source": [
    "let clear_subdirs (directory : string) : unit = ( run (\"rm -rf \" ^ directory ^ \"*/\") Print : string list) |> ignore"
   ]
  },
  {
   "cell_type": "code",
   "execution_count": 11,
   "metadata": {},
   "outputs": [
    {
     "data": {
      "text/plain": [
       "val get_output_dir : string list -> string = <fun>\n"
      ]
     },
     "execution_count": 11,
     "metadata": {},
     "output_type": "execute_result"
    },
    {
     "data": {
      "text/plain": [
       "val get_branches : string list -> (int * string) list = <fun>\n"
      ]
     },
     "execution_count": 11,
     "metadata": {},
     "output_type": "execute_result"
    }
   ],
   "source": [
    "(*  Given KLEE output, returns a string of where the output is located *)\n",
    "let get_output_dir (klee_output : string list) : string = \n",
    "  let output_str = String.concat ~sep:\"\\n\" klee_output in\n",
    "  let r = Str.regexp \"KLEE: output directory is \\\"\\\\(.*\\\\)\\\"\" in\n",
    "  Str.search_forward r output_str 0 |> ignore;\n",
    "  Str.matched_group 1 output_str\n",
    " \n",
    "(*  Given KLEE output, returns a list of replayposition, condition pairs *)\n",
    "let get_branches (klee_output : string list) : (int * string) list =\n",
    "  let output_str = String.concat ~sep:\" \" klee_output in\n",
    "  let r = Str.regexp \"forking on condition: \\\\([^,]+\\\\), line number: [0-9]+, position \\\\([0-9]+\\\\)\" in\n",
    "  \n",
    "  let rec match_regs start =\n",
    "    try\n",
    "    let next_start = Str.search_forward r output_str start in\n",
    "    let c = Str.matched_group 1 output_str in\n",
    "    let p = Str.matched_group 2 output_str in\n",
    "    (int_of_string p, c) :: match_regs (next_start + 1)\n",
    "    with _ -> []\n",
    "  in\n",
    "  match_regs 0"
   ]
  },
  {
   "cell_type": "code",
   "execution_count": 14,
   "metadata": {
    "scrolled": true
   },
   "outputs": [
    {
     "data": {
      "text/plain": [
       "val main : unit -> unit = <fun>\n"
      ]
     },
     "execution_count": 14,
     "metadata": {},
     "output_type": "execute_result"
    },
    {
     "name": "stdout",
     "output_type": "stream",
     "text": [
      "KLEE: NOTE: Using POSIX model: /home/igandhi/Documents/build/Debug+Asserts/lib/libkleeRuntimePOSIX.bca\n",
      "KLEE: NOTE: Using klee-uclibc : /home/igandhi/Documents/build/Debug+Asserts/lib/klee-uclibc.bca\n",
      "KLEE: output directory is \"/home/igandhi/Documents/profiler/../klee/examples/llvm-coreutils/bitcodes/klee-out-0\"\n",
      "KLEE: Using STP solver backend\n",
      "KLEE: WARNING: undefined reference to function: __ctype_get_mb_cur_max\n",
      "KLEE: WARNING: undefined reference to function: bindtextdomain\n",
      "KLEE: WARNING: undefined reference to function: cap_free\n",
      "KLEE: WARNING: undefined reference to function: cap_get_file\n",
      "KLEE: WARNING: undefined reference to function: cap_to_text\n",
      "KLEE: WARNING: undefined reference to function: dcgettext\n",
      "KLEE: WARNING: undefined reference to function: gettext\n",
      "KLEE: WARNING: undefined reference to function: textdomain\n",
      "KLEE: WARNING: executable has module level assembly (ignoring)\n",
      "KLEE: WARNING ONCE: calling external: syscall(16, 0, 21505, 94871277941104) at klee/runtime/POSIX/fd.c:1007 10\n",
      "KLEE: WARNING ONCE: Alignment of memory from call \"malloc\" is not modelled. Using alignment of 8.\n",
      "KLEE: WARNING ONCE: skipping fork (fork disabled globally)\n",
      "KLEE: WARNING ONCE: calling __klee_posix_wrapped_main with extra arguments.\n",
      "KLEE: WARNING ONCE: Alignment of memory from call \"calloc\" is not modelled. Using alignment of 8.\n",
      "KLEE: WARNING ONCE: calling external: bindtextdomain(94871276783840, 94871277074720) at [no debug info]\n",
      "KLEE: WARNING ONCE: calling external: textdomain(94871276783840) at [no debug info]\n",
      "KLEE: WARNING ONCE: Alignment of memory from call \"realloc\" is not modelled. Using alignment of 8.\n",
      "KLEE: WARNING ONCE: calling external: gettext(94871277138496) at [no debug info]\n",
      "KLEE: WARNING ONCE: calling external: __ctype_get_mb_cur_max() at [no debug info]\n",
      "cannot access KLEE: WARNING ONCE: calling external: vprintf(94871277184800, 94871277992640) at libc/stdio/fprintf.c:35 14\n",
      "\n",
      "KLEE: WARNING ONCE: calling close_stdout with extra arguments.\n",
      "\n",
      "KLEE: done: total instructions = 202886\n",
      "KLEE: done: completed paths = 1\n",
      "KLEE: done: generated tests = 1\n",
      "forking on condition: (Sle 32\n",
      "      (SExt w32 (Read w8 0 arg00))), line number: 50, position 845\n",
      "forking on condition: (Sle 32\n",
      "      (SExt w32 (Read w8 1 arg00))), line number: 50, position 847\n",
      "forking on condition: (Sle 32\n",
      "      (SExt w32 (Read w8 2 arg00))), line number: 50, position 849\n",
      "forking on condition: (Sle 32\n",
      "      (SExt w32 (Read w8 3 arg00))), line number: 50, position 851\n",
      "forking on condition: (Sle 32\n",
      "      (SExt w32 (Read w8 4 arg00))), line number: 50, position 853\n",
      "forking on condition: (Sle 32\n",
      "      (SExt w32 (Read w8 5 arg00))), line number: 50, position 855\n",
      "forking on condition: (Sle 32\n",
      "      (SExt w32 (Read w8 6 arg00))), line number: 50, position 857\n",
      "forking on condition: (Sle 32\n",
      "      (SExt w32 (Read w8 7 arg00))), line number: 50, position 859\n",
      "forking on condition: (Sle 32\n",
      "      (SExt w32 (Read w8 8 arg00))), line number: 50, position 861\n",
      "forking on condition: (Sle 32\n",
      "      (SExt w32 (Read w8 9 arg00))), line number: 50, position 863\n",
      "forking on condition: (Eq false\n",
      "     (Eq 45 (Read w8 0 arg00))), line number: 478, position 13178\n",
      "forking on condition: (Eq 47 (Read w8 0 arg00)), line number: 0, position 14212\n",
      "forking on condition: (Eq 47 (Read w8 0 arg00)), line number: 43, position 14216\n",
      "forking on condition: (Eq 0 (Read w8 0 arg00)), line number: 60, position 14217\n",
      "forking on condition: (Eq false\n",
      "     (Eq 0 (Read w8 0 arg00))), line number: 1399, position 14221\n",
      ": No such file or directory\n",
      "/home/igandhi/Documents/build/bin/klee --search=random-path --no-forking --track-instruction-time --libc=uclibc --posix-runtime --replace-condition=0 --replay-path=\"/home/igandhi/Documents/profiler/../klee/examples/llvm-coreutils/bitcodes/klee-out-0/test000001.path\" ../klee/examples/llvm-coreutils/bitcodes/ls.bc  --sym-arg 10\n"
     ]
    },
    {
     "name": "stderr",
     "output_type": "stream",
     "text": [
      "KLEE: NOTE: Using POSIX model: /home/igandhi/Documents/build/Debug+Asserts/lib/libkleeRuntimePOSIX.bca\n",
      "KLEE: NOTE: Using klee-uclibc : /home/igandhi/Documents/build/Debug+Asserts/lib/klee-uclibc.bca\n",
      "KLEE: output directory is \"/home/igandhi/Documents/profiler/../klee/examples/llvm-coreutils/bitcodes/klee-out-1\"\n",
      "KLEE: Using STP solver backend\n",
      "KLEE: WARNING: undefined reference to function: __ctype_get_mb_cur_max\n",
      "KLEE: WARNING: undefined reference to function: bindtextdomain\n",
      "KLEE: WARNING: undefined reference to function: cap_free\n",
      "KLEE: WARNING: undefined reference to function: cap_get_file\n",
      "KLEE: WARNING: undefined reference to function: cap_to_text\n",
      "KLEE: WARNING: undefined reference to function: dcgettext\n",
      "KLEE: WARNING: undefined reference to function: gettext\n",
      "KLEE: WARNING: undefined reference to function: textdomain\n",
      "KLEE: WARNING: executable has module level assembly (ignoring)\n",
      "KLEE: WARNING ONCE: calling external: syscall(16, 0, 21505, 93990621974608) at klee/runtime/POSIX/fd.c:1007 10\n",
      "KLEE: WARNING ONCE: Alignment of memory from call \"malloc\" is not modelled. Using alignment of 8.\n",
      "KLEE: WARNING ONCE: calling __klee_posix_wrapped_main with extra arguments.\n",
      "KLEE: WARNING ONCE: Alignment of memory from call \"calloc\" is not modelled. Using alignment of 8.\n",
      "KLEE: WARNING ONCE: calling external: bindtextdomain(93990620801248, 93990621108512) at [no debug info]\n",
      "KLEE: WARNING ONCE: calling external: textdomain(93990620801248) at [no debug info]\n",
      "KLEE: WARNING ONCE: Alignment of memory from call \"realloc\" is not modelled. Using alignment of 8.\n",
      "KLEE: WARNING ONCE: calling external: gettext(93990621172288) at [no debug info]\n",
      "KLEE: WARNING ONCE: calling external: __ctype_get_mb_cur_max() at [no debug info]\n",
      "cannot access KLEE: WARNING ONCE: calling external: vprintf(93990621218592, 93990622026432) at libc/stdio/fprintf.c:35 14\n",
      "\n",
      "KLEE: WARNING ONCE: calling close_stdout with extra arguments.\n",
      "\n",
      "KLEE: done: total instructions = 202886\n",
      "KLEE: done: completed paths = 1\n",
      "KLEE: done: generated tests = 1\n"
     ]
    },
    {
     "name": "stdout",
     "output_type": "stream",
     "text": [
      "/home/igandhi/Documents/build/bin/klee --search=random-path --no-forking --track-instruction-time --libc=uclibc --posix-runtime --replace-condition=845 --replay-path=\"/home/igandhi/Documents/profiler/../klee/examples/llvm-coreutils/bitcodes/klee-out-0/test000001.path\" ../klee/examples/llvm-coreutils/bitcodes/ls.bc  --sym-arg 10\n"
     ]
    },
    {
     "name": "stderr",
     "output_type": "stream",
     "text": [
      "KLEE: NOTE: Using POSIX model: /home/igandhi/Documents/build/Debug+Asserts/lib/libkleeRuntimePOSIX.bca\n",
      "KLEE: NOTE: Using klee-uclibc : /home/igandhi/Documents/build/Debug+Asserts/lib/klee-uclibc.bca\n",
      "KLEE: output directory is \"/home/igandhi/Documents/profiler/../klee/examples/llvm-coreutils/bitcodes/klee-out-2\"\n",
      "KLEE: Using STP solver backend\n",
      "KLEE: WARNING: undefined reference to function: __ctype_get_mb_cur_max\n",
      "KLEE: WARNING: undefined reference to function: bindtextdomain\n",
      "KLEE: WARNING: undefined reference to function: cap_free\n",
      "KLEE: WARNING: undefined reference to function: cap_get_file\n",
      "KLEE: WARNING: undefined reference to function: cap_to_text\n",
      "KLEE: WARNING: undefined reference to function: dcgettext\n",
      "KLEE: WARNING: undefined reference to function: gettext\n",
      "KLEE: WARNING: undefined reference to function: textdomain\n",
      "KLEE: WARNING: executable has module level assembly (ignoring)\n",
      "KLEE: WARNING ONCE: calling external: syscall(16, 0, 21505, 93845344047184) at klee/runtime/POSIX/fd.c:1007 10\n",
      "KLEE: WARNING ONCE: Alignment of memory from call \"malloc\" is not modelled. Using alignment of 8.\n",
      "KLEE: WARNING ONCE: calling __klee_posix_wrapped_main with extra arguments.\n",
      "KLEE: WARNING ONCE: Alignment of memory from call \"calloc\" is not modelled. Using alignment of 8.\n",
      "KLEE: WARNING ONCE: calling external: bindtextdomain(93845342873824, 93845343181088) at [no debug info]\n",
      "KLEE: WARNING ONCE: calling external: textdomain(93845342873824) at [no debug info]\n",
      "KLEE: WARNING ONCE: Alignment of memory from call \"realloc\" is not modelled. Using alignment of 8.\n",
      "KLEE: WARNING ONCE: calling external: gettext(93845343244864) at [no debug info]\n",
      "KLEE: WARNING ONCE: calling external: __ctype_get_mb_cur_max() at [no debug info]\n",
      "cannot access KLEE: WARNING ONCE: calling external: vprintf(93845343291168, 93845344098848) at libc/stdio/fprintf.c:35 14\n",
      "\n",
      "KLEE: WARNING ONCE: calling close_stdout with extra arguments.\n",
      "\n",
      "KLEE: done: total instructions = 202886\n",
      "KLEE: done: completed paths = 1\n",
      "KLEE: done: generated tests = 1\n"
     ]
    },
    {
     "name": "stdout",
     "output_type": "stream",
     "text": [
      "/home/igandhi/Documents/build/bin/klee --search=random-path --no-forking --track-instruction-time --libc=uclibc --posix-runtime --replace-condition=847 --replay-path=\"/home/igandhi/Documents/profiler/../klee/examples/llvm-coreutils/bitcodes/klee-out-0/test000001.path\" ../klee/examples/llvm-coreutils/bitcodes/ls.bc  --sym-arg 10\n"
     ]
    },
    {
     "name": "stderr",
     "output_type": "stream",
     "text": [
      "KLEE: NOTE: Using POSIX model: /home/igandhi/Documents/build/Debug+Asserts/lib/libkleeRuntimePOSIX.bca\n",
      "KLEE: NOTE: Using klee-uclibc : /home/igandhi/Documents/build/Debug+Asserts/lib/klee-uclibc.bca\n",
      "KLEE: output directory is \"/home/igandhi/Documents/profiler/../klee/examples/llvm-coreutils/bitcodes/klee-out-3\"\n",
      "KLEE: Using STP solver backend\n",
      "KLEE: WARNING: undefined reference to function: __ctype_get_mb_cur_max\n",
      "KLEE: WARNING: undefined reference to function: bindtextdomain\n",
      "KLEE: WARNING: undefined reference to function: cap_free\n",
      "KLEE: WARNING: undefined reference to function: cap_get_file\n",
      "KLEE: WARNING: undefined reference to function: cap_to_text\n",
      "KLEE: WARNING: undefined reference to function: dcgettext\n",
      "KLEE: WARNING: undefined reference to function: gettext\n",
      "KLEE: WARNING: undefined reference to function: textdomain\n",
      "KLEE: WARNING: executable has module level assembly (ignoring)\n",
      "KLEE: WARNING ONCE: calling external: syscall(16, 0, 21505, 94137433755728) at klee/runtime/POSIX/fd.c:1007 10\n",
      "KLEE: WARNING ONCE: Alignment of memory from call \"malloc\" is not modelled. Using alignment of 8.\n",
      "KLEE: WARNING ONCE: calling __klee_posix_wrapped_main with extra arguments.\n",
      "KLEE: WARNING ONCE: Alignment of memory from call \"calloc\" is not modelled. Using alignment of 8.\n",
      "KLEE: WARNING ONCE: calling external: bindtextdomain(94137432582368, 94137432889632) at [no debug info]\n",
      "KLEE: WARNING ONCE: calling external: textdomain(94137432582368) at [no debug info]\n",
      "KLEE: WARNING ONCE: Alignment of memory from call \"realloc\" is not modelled. Using alignment of 8.\n",
      "KLEE: WARNING ONCE: calling external: gettext(94137432953408) at [no debug info]\n",
      "KLEE: WARNING ONCE: calling external: __ctype_get_mb_cur_max() at [no debug info]\n",
      "cannot access KLEE: WARNING ONCE: calling external: vprintf(94137432999712, 94137433807328) at libc/stdio/fprintf.c:35 14\n",
      "\n",
      "KLEE: WARNING ONCE: calling close_stdout with extra arguments.\n",
      "\n",
      "KLEE: done: total instructions = 202886\n",
      "KLEE: done: completed paths = 1\n",
      "KLEE: done: generated tests = 1\n"
     ]
    },
    {
     "name": "stdout",
     "output_type": "stream",
     "text": [
      "/home/igandhi/Documents/build/bin/klee --search=random-path --no-forking --track-instruction-time --libc=uclibc --posix-runtime --replace-condition=849 --replay-path=\"/home/igandhi/Documents/profiler/../klee/examples/llvm-coreutils/bitcodes/klee-out-0/test000001.path\" ../klee/examples/llvm-coreutils/bitcodes/ls.bc  --sym-arg 10\n"
     ]
    },
    {
     "name": "stderr",
     "output_type": "stream",
     "text": [
      "KLEE: NOTE: Using POSIX model: /home/igandhi/Documents/build/Debug+Asserts/lib/libkleeRuntimePOSIX.bca\n",
      "KLEE: NOTE: Using klee-uclibc : /home/igandhi/Documents/build/Debug+Asserts/lib/klee-uclibc.bca\n",
      "KLEE: output directory is \"/home/igandhi/Documents/profiler/../klee/examples/llvm-coreutils/bitcodes/klee-out-4\"\n",
      "KLEE: Using STP solver backend\n",
      "KLEE: WARNING: undefined reference to function: __ctype_get_mb_cur_max\n",
      "KLEE: WARNING: undefined reference to function: bindtextdomain\n",
      "KLEE: WARNING: undefined reference to function: cap_free\n",
      "KLEE: WARNING: undefined reference to function: cap_get_file\n",
      "KLEE: WARNING: undefined reference to function: cap_to_text\n",
      "KLEE: WARNING: undefined reference to function: dcgettext\n",
      "KLEE: WARNING: undefined reference to function: gettext\n",
      "KLEE: WARNING: undefined reference to function: textdomain\n",
      "KLEE: WARNING: executable has module level assembly (ignoring)\n",
      "KLEE: WARNING ONCE: calling external: syscall(16, 0, 21505, 94530430505328) at klee/runtime/POSIX/fd.c:1007 10\n",
      "KLEE: WARNING ONCE: Alignment of memory from call \"malloc\" is not modelled. Using alignment of 8.\n",
      "KLEE: WARNING ONCE: calling __klee_posix_wrapped_main with extra arguments.\n",
      "KLEE: WARNING ONCE: Alignment of memory from call \"calloc\" is not modelled. Using alignment of 8.\n",
      "KLEE: WARNING ONCE: calling external: bindtextdomain(94530429331680, 94530429638944) at [no debug info]\n",
      "KLEE: WARNING ONCE: calling external: textdomain(94530429331680) at [no debug info]\n",
      "KLEE: WARNING ONCE: Alignment of memory from call \"realloc\" is not modelled. Using alignment of 8.\n",
      "KLEE: WARNING ONCE: calling external: gettext(94530429702720) at [no debug info]\n",
      "KLEE: WARNING ONCE: calling external: __ctype_get_mb_cur_max() at [no debug info]\n",
      "cannot access KLEE: WARNING ONCE: calling external: vprintf(94530429749024, 94530430556704) at libc/stdio/fprintf.c:35 14\n",
      "\n",
      "KLEE: WARNING ONCE: calling close_stdout with extra arguments.\n",
      "\n",
      "KLEE: done: total instructions = 202886\n",
      "KLEE: done: completed paths = 1\n",
      "KLEE: done: generated tests = 1\n"
     ]
    },
    {
     "name": "stdout",
     "output_type": "stream",
     "text": [
      "/home/igandhi/Documents/build/bin/klee --search=random-path --no-forking --track-instruction-time --libc=uclibc --posix-runtime --replace-condition=851 --replay-path=\"/home/igandhi/Documents/profiler/../klee/examples/llvm-coreutils/bitcodes/klee-out-0/test000001.path\" ../klee/examples/llvm-coreutils/bitcodes/ls.bc  --sym-arg 10\n"
     ]
    },
    {
     "name": "stderr",
     "output_type": "stream",
     "text": [
      "KLEE: NOTE: Using POSIX model: /home/igandhi/Documents/build/Debug+Asserts/lib/libkleeRuntimePOSIX.bca\n",
      "KLEE: NOTE: Using klee-uclibc : /home/igandhi/Documents/build/Debug+Asserts/lib/klee-uclibc.bca\n",
      "KLEE: output directory is \"/home/igandhi/Documents/profiler/../klee/examples/llvm-coreutils/bitcodes/klee-out-5\"\n",
      "KLEE: Using STP solver backend\n",
      "KLEE: WARNING: undefined reference to function: __ctype_get_mb_cur_max\n",
      "KLEE: WARNING: undefined reference to function: bindtextdomain\n",
      "KLEE: WARNING: undefined reference to function: cap_free\n",
      "KLEE: WARNING: undefined reference to function: cap_get_file\n",
      "KLEE: WARNING: undefined reference to function: cap_to_text\n",
      "KLEE: WARNING: undefined reference to function: dcgettext\n",
      "KLEE: WARNING: undefined reference to function: gettext\n",
      "KLEE: WARNING: undefined reference to function: textdomain\n",
      "KLEE: WARNING: executable has module level assembly (ignoring)\n",
      "KLEE: WARNING ONCE: calling external: syscall(16, 0, 21505, 94018916257872) at klee/runtime/POSIX/fd.c:1007 10\n",
      "KLEE: WARNING ONCE: Alignment of memory from call \"malloc\" is not modelled. Using alignment of 8.\n",
      "KLEE: WARNING ONCE: calling __klee_posix_wrapped_main with extra arguments.\n",
      "KLEE: WARNING ONCE: Alignment of memory from call \"calloc\" is not modelled. Using alignment of 8.\n",
      "KLEE: WARNING ONCE: calling external: bindtextdomain(94018915084512, 94018915391776) at [no debug info]\n",
      "KLEE: WARNING ONCE: calling external: textdomain(94018915084512) at [no debug info]\n",
      "KLEE: WARNING ONCE: Alignment of memory from call \"realloc\" is not modelled. Using alignment of 8.\n",
      "KLEE: WARNING ONCE: calling external: gettext(94018915455552) at [no debug info]\n",
      "KLEE: WARNING ONCE: calling external: __ctype_get_mb_cur_max() at [no debug info]\n",
      "cannot access KLEE: WARNING ONCE: calling external: vprintf(94018915501856, 94018916309472) at libc/stdio/fprintf.c:35 14\n",
      "\n",
      "KLEE: WARNING ONCE: calling close_stdout with extra arguments.\n",
      "\n",
      "KLEE: done: total instructions = 202886\n",
      "KLEE: done: completed paths = 1\n",
      "KLEE: done: generated tests = 1\n"
     ]
    },
    {
     "name": "stdout",
     "output_type": "stream",
     "text": [
      "/home/igandhi/Documents/build/bin/klee --search=random-path --no-forking --track-instruction-time --libc=uclibc --posix-runtime --replace-condition=853 --replay-path=\"/home/igandhi/Documents/profiler/../klee/examples/llvm-coreutils/bitcodes/klee-out-0/test000001.path\" ../klee/examples/llvm-coreutils/bitcodes/ls.bc  --sym-arg 10\n"
     ]
    },
    {
     "name": "stderr",
     "output_type": "stream",
     "text": [
      "KLEE: NOTE: Using POSIX model: /home/igandhi/Documents/build/Debug+Asserts/lib/libkleeRuntimePOSIX.bca\n",
      "KLEE: NOTE: Using klee-uclibc : /home/igandhi/Documents/build/Debug+Asserts/lib/klee-uclibc.bca\n",
      "KLEE: output directory is \"/home/igandhi/Documents/profiler/../klee/examples/llvm-coreutils/bitcodes/klee-out-6\"\n",
      "KLEE: Using STP solver backend\n",
      "KLEE: WARNING: undefined reference to function: __ctype_get_mb_cur_max\n",
      "KLEE: WARNING: undefined reference to function: bindtextdomain\n",
      "KLEE: WARNING: undefined reference to function: cap_free\n",
      "KLEE: WARNING: undefined reference to function: cap_get_file\n",
      "KLEE: WARNING: undefined reference to function: cap_to_text\n",
      "KLEE: WARNING: undefined reference to function: dcgettext\n",
      "KLEE: WARNING: undefined reference to function: gettext\n",
      "KLEE: WARNING: undefined reference to function: textdomain\n",
      "KLEE: WARNING: executable has module level assembly (ignoring)\n",
      "KLEE: WARNING ONCE: calling external: syscall(16, 0, 21505, 94445758246992) at klee/runtime/POSIX/fd.c:1007 10\n",
      "KLEE: WARNING ONCE: Alignment of memory from call \"malloc\" is not modelled. Using alignment of 8.\n",
      "KLEE: WARNING ONCE: calling __klee_posix_wrapped_main with extra arguments.\n",
      "KLEE: WARNING ONCE: Alignment of memory from call \"calloc\" is not modelled. Using alignment of 8.\n",
      "KLEE: WARNING ONCE: calling external: bindtextdomain(94445757073632, 94445757380896) at [no debug info]\n",
      "KLEE: WARNING ONCE: calling external: textdomain(94445757073632) at [no debug info]\n",
      "KLEE: WARNING ONCE: Alignment of memory from call \"realloc\" is not modelled. Using alignment of 8.\n",
      "KLEE: WARNING ONCE: calling external: gettext(94445757444672) at [no debug info]\n",
      "KLEE: WARNING ONCE: calling external: __ctype_get_mb_cur_max() at [no debug info]\n",
      "cannot access KLEE: WARNING ONCE: calling external: vprintf(94445757490976, 94445758298656) at libc/stdio/fprintf.c:35 14\n",
      "\n",
      "KLEE: WARNING ONCE: calling close_stdout with extra arguments.\n",
      "\n",
      "KLEE: done: total instructions = 202886\n",
      "KLEE: done: completed paths = 1\n",
      "KLEE: done: generated tests = 1\n"
     ]
    },
    {
     "name": "stdout",
     "output_type": "stream",
     "text": [
      "/home/igandhi/Documents/build/bin/klee --search=random-path --no-forking --track-instruction-time --libc=uclibc --posix-runtime --replace-condition=855 --replay-path=\"/home/igandhi/Documents/profiler/../klee/examples/llvm-coreutils/bitcodes/klee-out-0/test000001.path\" ../klee/examples/llvm-coreutils/bitcodes/ls.bc  --sym-arg 10\n"
     ]
    },
    {
     "name": "stderr",
     "output_type": "stream",
     "text": [
      "KLEE: NOTE: Using POSIX model: /home/igandhi/Documents/build/Debug+Asserts/lib/libkleeRuntimePOSIX.bca\n",
      "KLEE: NOTE: Using klee-uclibc : /home/igandhi/Documents/build/Debug+Asserts/lib/klee-uclibc.bca\n",
      "KLEE: output directory is \"/home/igandhi/Documents/profiler/../klee/examples/llvm-coreutils/bitcodes/klee-out-7\"\n",
      "KLEE: Using STP solver backend\n",
      "KLEE: WARNING: undefined reference to function: __ctype_get_mb_cur_max\n",
      "KLEE: WARNING: undefined reference to function: bindtextdomain\n",
      "KLEE: WARNING: undefined reference to function: cap_free\n",
      "KLEE: WARNING: undefined reference to function: cap_get_file\n",
      "KLEE: WARNING: undefined reference to function: cap_to_text\n",
      "KLEE: WARNING: undefined reference to function: dcgettext\n",
      "KLEE: WARNING: undefined reference to function: gettext\n",
      "KLEE: WARNING: undefined reference to function: textdomain\n",
      "KLEE: WARNING: executable has module level assembly (ignoring)\n",
      "KLEE: WARNING ONCE: calling external: syscall(16, 0, 21505, 94645682098256) at klee/runtime/POSIX/fd.c:1007 10\n",
      "KLEE: WARNING ONCE: Alignment of memory from call \"malloc\" is not modelled. Using alignment of 8.\n",
      "KLEE: WARNING ONCE: calling __klee_posix_wrapped_main with extra arguments.\n",
      "KLEE: WARNING ONCE: Alignment of memory from call \"calloc\" is not modelled. Using alignment of 8.\n",
      "KLEE: WARNING ONCE: calling external: bindtextdomain(94645680924896, 94645681232160) at [no debug info]\n",
      "KLEE: WARNING ONCE: calling external: textdomain(94645680924896) at [no debug info]\n",
      "KLEE: WARNING ONCE: Alignment of memory from call \"realloc\" is not modelled. Using alignment of 8.\n",
      "KLEE: WARNING ONCE: calling external: gettext(94645681295936) at [no debug info]\n",
      "KLEE: WARNING ONCE: calling external: __ctype_get_mb_cur_max() at [no debug info]\n",
      "cannot access KLEE: WARNING ONCE: calling external: vprintf(94645681342240, 94645682149920) at libc/stdio/fprintf.c:35 14\n",
      "\n",
      "KLEE: WARNING ONCE: calling close_stdout with extra arguments.\n",
      "\n",
      "KLEE: done: total instructions = 202886\n",
      "KLEE: done: completed paths = 1\n",
      "KLEE: done: generated tests = 1\n"
     ]
    },
    {
     "name": "stdout",
     "output_type": "stream",
     "text": [
      "/home/igandhi/Documents/build/bin/klee --search=random-path --no-forking --track-instruction-time --libc=uclibc --posix-runtime --replace-condition=857 --replay-path=\"/home/igandhi/Documents/profiler/../klee/examples/llvm-coreutils/bitcodes/klee-out-0/test000001.path\" ../klee/examples/llvm-coreutils/bitcodes/ls.bc  --sym-arg 10\n"
     ]
    },
    {
     "name": "stderr",
     "output_type": "stream",
     "text": [
      "KLEE: NOTE: Using POSIX model: /home/igandhi/Documents/build/Debug+Asserts/lib/libkleeRuntimePOSIX.bca\n",
      "KLEE: NOTE: Using klee-uclibc : /home/igandhi/Documents/build/Debug+Asserts/lib/klee-uclibc.bca\n",
      "KLEE: output directory is \"/home/igandhi/Documents/profiler/../klee/examples/llvm-coreutils/bitcodes/klee-out-8\"\n",
      "KLEE: Using STP solver backend\n",
      "KLEE: WARNING: undefined reference to function: __ctype_get_mb_cur_max\n",
      "KLEE: WARNING: undefined reference to function: bindtextdomain\n",
      "KLEE: WARNING: undefined reference to function: cap_free\n",
      "KLEE: WARNING: undefined reference to function: cap_get_file\n",
      "KLEE: WARNING: undefined reference to function: cap_to_text\n",
      "KLEE: WARNING: undefined reference to function: dcgettext\n",
      "KLEE: WARNING: undefined reference to function: gettext\n",
      "KLEE: WARNING: undefined reference to function: textdomain\n",
      "KLEE: WARNING: executable has module level assembly (ignoring)\n",
      "KLEE: WARNING ONCE: calling external: syscall(16, 0, 21505, 94783834476912) at klee/runtime/POSIX/fd.c:1007 10\n",
      "KLEE: WARNING ONCE: Alignment of memory from call \"malloc\" is not modelled. Using alignment of 8.\n",
      "KLEE: WARNING ONCE: calling __klee_posix_wrapped_main with extra arguments.\n",
      "KLEE: WARNING ONCE: Alignment of memory from call \"calloc\" is not modelled. Using alignment of 8.\n",
      "KLEE: WARNING ONCE: calling external: bindtextdomain(94783833303264, 94783833610528) at [no debug info]\n",
      "KLEE: WARNING ONCE: calling external: textdomain(94783833303264) at [no debug info]\n",
      "KLEE: WARNING ONCE: Alignment of memory from call \"realloc\" is not modelled. Using alignment of 8.\n",
      "KLEE: WARNING ONCE: calling external: gettext(94783833674304) at [no debug info]\n",
      "KLEE: WARNING ONCE: calling external: __ctype_get_mb_cur_max() at [no debug info]\n",
      "cannot access KLEE: WARNING ONCE: calling external: vprintf(94783833720608, 94783834528288) at libc/stdio/fprintf.c:35 14\n",
      "\n",
      "KLEE: WARNING ONCE: calling close_stdout with extra arguments.\n",
      "\n",
      "KLEE: done: total instructions = 202886\n",
      "KLEE: done: completed paths = 1\n",
      "KLEE: done: generated tests = 1\n"
     ]
    },
    {
     "name": "stdout",
     "output_type": "stream",
     "text": [
      "/home/igandhi/Documents/build/bin/klee --search=random-path --no-forking --track-instruction-time --libc=uclibc --posix-runtime --replace-condition=859 --replay-path=\"/home/igandhi/Documents/profiler/../klee/examples/llvm-coreutils/bitcodes/klee-out-0/test000001.path\" ../klee/examples/llvm-coreutils/bitcodes/ls.bc  --sym-arg 10\n"
     ]
    },
    {
     "name": "stderr",
     "output_type": "stream",
     "text": [
      "KLEE: NOTE: Using POSIX model: /home/igandhi/Documents/build/Debug+Asserts/lib/libkleeRuntimePOSIX.bca\n",
      "KLEE: NOTE: Using klee-uclibc : /home/igandhi/Documents/build/Debug+Asserts/lib/klee-uclibc.bca\n",
      "KLEE: output directory is \"/home/igandhi/Documents/profiler/../klee/examples/llvm-coreutils/bitcodes/klee-out-9\"\n",
      "KLEE: Using STP solver backend\n",
      "KLEE: WARNING: undefined reference to function: __ctype_get_mb_cur_max\n",
      "KLEE: WARNING: undefined reference to function: bindtextdomain\n",
      "KLEE: WARNING: undefined reference to function: cap_free\n",
      "KLEE: WARNING: undefined reference to function: cap_get_file\n",
      "KLEE: WARNING: undefined reference to function: cap_to_text\n",
      "KLEE: WARNING: undefined reference to function: dcgettext\n",
      "KLEE: WARNING: undefined reference to function: gettext\n",
      "KLEE: WARNING: undefined reference to function: textdomain\n",
      "KLEE: WARNING: executable has module level assembly (ignoring)\n",
      "KLEE: WARNING ONCE: calling external: syscall(16, 0, 21505, 93858429702512) at klee/runtime/POSIX/fd.c:1007 10\n",
      "KLEE: WARNING ONCE: Alignment of memory from call \"malloc\" is not modelled. Using alignment of 8.\n",
      "KLEE: WARNING ONCE: calling __klee_posix_wrapped_main with extra arguments.\n",
      "KLEE: WARNING ONCE: Alignment of memory from call \"calloc\" is not modelled. Using alignment of 8.\n",
      "KLEE: WARNING ONCE: calling external: bindtextdomain(93858428528864, 93858428836128) at [no debug info]\n",
      "KLEE: WARNING ONCE: calling external: textdomain(93858428528864) at [no debug info]\n",
      "KLEE: WARNING ONCE: Alignment of memory from call \"realloc\" is not modelled. Using alignment of 8.\n",
      "KLEE: WARNING ONCE: calling external: gettext(93858428899904) at [no debug info]\n",
      "KLEE: WARNING ONCE: calling external: __ctype_get_mb_cur_max() at [no debug info]\n",
      "cannot access KLEE: WARNING ONCE: calling external: vprintf(93858428946208, 93858429753888) at libc/stdio/fprintf.c:35 14\n",
      "\n",
      "KLEE: WARNING ONCE: calling close_stdout with extra arguments.\n",
      "\n",
      "KLEE: done: total instructions = 202886\n",
      "KLEE: done: completed paths = 1\n",
      "KLEE: done: generated tests = 1\n"
     ]
    },
    {
     "name": "stdout",
     "output_type": "stream",
     "text": [
      "/home/igandhi/Documents/build/bin/klee --search=random-path --no-forking --track-instruction-time --libc=uclibc --posix-runtime --replace-condition=861 --replay-path=\"/home/igandhi/Documents/profiler/../klee/examples/llvm-coreutils/bitcodes/klee-out-0/test000001.path\" ../klee/examples/llvm-coreutils/bitcodes/ls.bc  --sym-arg 10\n"
     ]
    },
    {
     "name": "stderr",
     "output_type": "stream",
     "text": [
      "KLEE: NOTE: Using POSIX model: /home/igandhi/Documents/build/Debug+Asserts/lib/libkleeRuntimePOSIX.bca\n",
      "KLEE: NOTE: Using klee-uclibc : /home/igandhi/Documents/build/Debug+Asserts/lib/klee-uclibc.bca\n",
      "KLEE: output directory is \"/home/igandhi/Documents/profiler/../klee/examples/llvm-coreutils/bitcodes/klee-out-10\"\n",
      "KLEE: Using STP solver backend\n",
      "KLEE: WARNING: undefined reference to function: __ctype_get_mb_cur_max\n",
      "KLEE: WARNING: undefined reference to function: bindtextdomain\n",
      "KLEE: WARNING: undefined reference to function: cap_free\n",
      "KLEE: WARNING: undefined reference to function: cap_get_file\n",
      "KLEE: WARNING: undefined reference to function: cap_to_text\n",
      "KLEE: WARNING: undefined reference to function: dcgettext\n",
      "KLEE: WARNING: undefined reference to function: gettext\n",
      "KLEE: WARNING: undefined reference to function: textdomain\n",
      "KLEE: WARNING: executable has module level assembly (ignoring)\n",
      "KLEE: WARNING ONCE: calling external: syscall(16, 0, 21505, 94804155125840) at klee/runtime/POSIX/fd.c:1007 10\n",
      "KLEE: WARNING ONCE: Alignment of memory from call \"malloc\" is not modelled. Using alignment of 8.\n",
      "KLEE: WARNING ONCE: calling __klee_posix_wrapped_main with extra arguments.\n",
      "KLEE: WARNING ONCE: Alignment of memory from call \"calloc\" is not modelled. Using alignment of 8.\n",
      "KLEE: WARNING ONCE: calling external: bindtextdomain(94804153952480, 94804154259744) at [no debug info]\n",
      "KLEE: WARNING ONCE: calling external: textdomain(94804153952480) at [no debug info]\n",
      "KLEE: WARNING ONCE: Alignment of memory from call \"realloc\" is not modelled. Using alignment of 8.\n",
      "KLEE: WARNING ONCE: calling external: gettext(94804154323520) at [no debug info]\n",
      "KLEE: WARNING ONCE: calling external: __ctype_get_mb_cur_max() at [no debug info]\n",
      "cannot access KLEE: WARNING ONCE: calling external: vprintf(94804154369824, 94804155177664) at libc/stdio/fprintf.c:35 14\n",
      "\n",
      "KLEE: WARNING ONCE: calling close_stdout with extra arguments.\n",
      "\n",
      "KLEE: done: total instructions = 202886\n",
      "KLEE: done: completed paths = 1\n",
      "KLEE: done: generated tests = 1\n"
     ]
    },
    {
     "name": "stdout",
     "output_type": "stream",
     "text": [
      "/home/igandhi/Documents/build/bin/klee --search=random-path --no-forking --track-instruction-time --libc=uclibc --posix-runtime --replace-condition=863 --replay-path=\"/home/igandhi/Documents/profiler/../klee/examples/llvm-coreutils/bitcodes/klee-out-0/test000001.path\" ../klee/examples/llvm-coreutils/bitcodes/ls.bc  --sym-arg 10\n"
     ]
    },
    {
     "name": "stderr",
     "output_type": "stream",
     "text": [
      "KLEE: NOTE: Using POSIX model: /home/igandhi/Documents/build/Debug+Asserts/lib/libkleeRuntimePOSIX.bca\n",
      "KLEE: NOTE: Using klee-uclibc : /home/igandhi/Documents/build/Debug+Asserts/lib/klee-uclibc.bca\n",
      "KLEE: output directory is \"/home/igandhi/Documents/profiler/../klee/examples/llvm-coreutils/bitcodes/klee-out-11\"\n",
      "KLEE: Using STP solver backend\n",
      "KLEE: WARNING: undefined reference to function: __ctype_get_mb_cur_max\n",
      "KLEE: WARNING: undefined reference to function: bindtextdomain\n",
      "KLEE: WARNING: undefined reference to function: cap_free\n",
      "KLEE: WARNING: undefined reference to function: cap_get_file\n",
      "KLEE: WARNING: undefined reference to function: cap_to_text\n",
      "KLEE: WARNING: undefined reference to function: dcgettext\n",
      "KLEE: WARNING: undefined reference to function: gettext\n",
      "KLEE: WARNING: undefined reference to function: textdomain\n",
      "KLEE: WARNING: executable has module level assembly (ignoring)\n",
      "KLEE: WARNING ONCE: calling external: syscall(16, 0, 21505, 93851605798992) at klee/runtime/POSIX/fd.c:1007 10\n",
      "KLEE: WARNING ONCE: Alignment of memory from call \"malloc\" is not modelled. Using alignment of 8.\n",
      "KLEE: WARNING ONCE: calling __klee_posix_wrapped_main with extra arguments.\n",
      "KLEE: WARNING ONCE: Alignment of memory from call \"calloc\" is not modelled. Using alignment of 8.\n",
      "KLEE: WARNING ONCE: calling external: bindtextdomain(93851604625632, 93851604932896) at [no debug info]\n",
      "KLEE: WARNING ONCE: calling external: textdomain(93851604625632) at [no debug info]\n",
      "KLEE: WARNING ONCE: Alignment of memory from call \"realloc\" is not modelled. Using alignment of 8.\n",
      "KLEE: WARNING ONCE: calling external: gettext(93851604996672) at [no debug info]\n",
      "KLEE: WARNING ONCE: calling external: __ctype_get_mb_cur_max() at [no debug info]\n",
      "cannot access KLEE: WARNING ONCE: calling external: vprintf(93851605042976, 93851605850816) at libc/stdio/fprintf.c:35 14\n",
      "\n",
      "KLEE: WARNING ONCE: calling close_stdout with extra arguments.\n",
      "\n",
      "KLEE: done: total instructions = 202886\n",
      "KLEE: done: completed paths = 1\n",
      "KLEE: done: generated tests = 1\n"
     ]
    },
    {
     "name": "stdout",
     "output_type": "stream",
     "text": [
      "/home/igandhi/Documents/build/bin/klee --search=random-path --no-forking --track-instruction-time --libc=uclibc --posix-runtime --replace-condition=13178 --replay-path=\"/home/igandhi/Documents/profiler/../klee/examples/llvm-coreutils/bitcodes/klee-out-0/test000001.path\" ../klee/examples/llvm-coreutils/bitcodes/ls.bc  --sym-arg 10\n"
     ]
    },
    {
     "name": "stderr",
     "output_type": "stream",
     "text": [
      "KLEE: NOTE: Using POSIX model: /home/igandhi/Documents/build/Debug+Asserts/lib/libkleeRuntimePOSIX.bca\n",
      "KLEE: NOTE: Using klee-uclibc : /home/igandhi/Documents/build/Debug+Asserts/lib/klee-uclibc.bca\n",
      "KLEE: output directory is \"/home/igandhi/Documents/profiler/../klee/examples/llvm-coreutils/bitcodes/klee-out-12\"\n",
      "KLEE: Using STP solver backend\n",
      "KLEE: WARNING: undefined reference to function: __ctype_get_mb_cur_max\n",
      "KLEE: WARNING: undefined reference to function: bindtextdomain\n",
      "KLEE: WARNING: undefined reference to function: cap_free\n",
      "KLEE: WARNING: undefined reference to function: cap_get_file\n",
      "KLEE: WARNING: undefined reference to function: cap_to_text\n",
      "KLEE: WARNING: undefined reference to function: dcgettext\n",
      "KLEE: WARNING: undefined reference to function: gettext\n",
      "KLEE: WARNING: undefined reference to function: textdomain\n",
      "KLEE: WARNING: executable has module level assembly (ignoring)\n",
      "KLEE: WARNING ONCE: calling external: syscall(16, 0, 21505, 94047007699024) at klee/runtime/POSIX/fd.c:1007 10\n",
      "KLEE: WARNING ONCE: Alignment of memory from call \"malloc\" is not modelled. Using alignment of 8.\n",
      "KLEE: WARNING ONCE: calling __klee_posix_wrapped_main with extra arguments.\n",
      "KLEE: WARNING ONCE: Alignment of memory from call \"calloc\" is not modelled. Using alignment of 8.\n",
      "KLEE: WARNING ONCE: calling external: bindtextdomain(94047006525664, 94047006832928) at [no debug info]\n",
      "KLEE: WARNING ONCE: calling external: textdomain(94047006525664) at [no debug info]\n",
      "KLEE: WARNING ONCE: Alignment of memory from call \"realloc\" is not modelled. Using alignment of 8.\n",
      "KLEE: WARNING ONCE: calling external: gettext(94047006896704) at [no debug info]\n",
      "KLEE: WARNING ONCE: calling external: __ctype_get_mb_cur_max() at [no debug info]\n",
      "cannot access KLEE: WARNING ONCE: calling external: vprintf(94047006943008, 94047007750848) at libc/stdio/fprintf.c:35 14\n",
      "\n",
      "KLEE: WARNING ONCE: calling close_stdout with extra arguments.\n",
      "\n",
      "KLEE: done: total instructions = 202886\n",
      "KLEE: done: completed paths = 1\n",
      "KLEE: done: generated tests = 1\n"
     ]
    },
    {
     "name": "stdout",
     "output_type": "stream",
     "text": [
      "/home/igandhi/Documents/build/bin/klee --search=random-path --no-forking --track-instruction-time --libc=uclibc --posix-runtime --replace-condition=14212 --replay-path=\"/home/igandhi/Documents/profiler/../klee/examples/llvm-coreutils/bitcodes/klee-out-0/test000001.path\" ../klee/examples/llvm-coreutils/bitcodes/ls.bc  --sym-arg 10\n"
     ]
    },
    {
     "name": "stderr",
     "output_type": "stream",
     "text": [
      "KLEE: NOTE: Using POSIX model: /home/igandhi/Documents/build/Debug+Asserts/lib/libkleeRuntimePOSIX.bca\n",
      "KLEE: NOTE: Using klee-uclibc : /home/igandhi/Documents/build/Debug+Asserts/lib/klee-uclibc.bca\n",
      "KLEE: output directory is \"/home/igandhi/Documents/profiler/../klee/examples/llvm-coreutils/bitcodes/klee-out-13\"\n",
      "KLEE: Using STP solver backend\n",
      "KLEE: WARNING: undefined reference to function: __ctype_get_mb_cur_max\n",
      "KLEE: WARNING: undefined reference to function: bindtextdomain\n",
      "KLEE: WARNING: undefined reference to function: cap_free\n",
      "KLEE: WARNING: undefined reference to function: cap_get_file\n",
      "KLEE: WARNING: undefined reference to function: cap_to_text\n",
      "KLEE: WARNING: undefined reference to function: dcgettext\n",
      "KLEE: WARNING: undefined reference to function: gettext\n",
      "KLEE: WARNING: undefined reference to function: textdomain\n",
      "KLEE: WARNING: executable has module level assembly (ignoring)\n",
      "KLEE: WARNING ONCE: calling external: syscall(16, 0, 21505, 93898897715280) at klee/runtime/POSIX/fd.c:1007 10\n",
      "KLEE: WARNING ONCE: Alignment of memory from call \"malloc\" is not modelled. Using alignment of 8.\n",
      "KLEE: WARNING ONCE: calling __klee_posix_wrapped_main with extra arguments.\n",
      "KLEE: WARNING ONCE: Alignment of memory from call \"calloc\" is not modelled. Using alignment of 8.\n",
      "KLEE: WARNING ONCE: calling external: bindtextdomain(93898896541920, 93898896849184) at [no debug info]\n",
      "KLEE: WARNING ONCE: calling external: textdomain(93898896541920) at [no debug info]\n",
      "KLEE: WARNING ONCE: Alignment of memory from call \"realloc\" is not modelled. Using alignment of 8.\n",
      "KLEE: WARNING ONCE: calling external: gettext(93898896912960) at [no debug info]\n",
      "KLEE: WARNING ONCE: calling external: __ctype_get_mb_cur_max() at [no debug info]\n",
      "cannot access KLEE: WARNING ONCE: calling external: vprintf(93898896959264, 93898897767104) at libc/stdio/fprintf.c:35 14\n",
      "\n",
      "KLEE: WARNING ONCE: calling close_stdout with extra arguments.\n",
      "\n",
      "KLEE: done: total instructions = 202886\n",
      "KLEE: done: completed paths = 1\n",
      "KLEE: done: generated tests = 1\n"
     ]
    },
    {
     "name": "stdout",
     "output_type": "stream",
     "text": [
      "/home/igandhi/Documents/build/bin/klee --search=random-path --no-forking --track-instruction-time --libc=uclibc --posix-runtime --replace-condition=14216 --replay-path=\"/home/igandhi/Documents/profiler/../klee/examples/llvm-coreutils/bitcodes/klee-out-0/test000001.path\" ../klee/examples/llvm-coreutils/bitcodes/ls.bc  --sym-arg 10\n"
     ]
    },
    {
     "name": "stderr",
     "output_type": "stream",
     "text": [
      "KLEE: NOTE: Using POSIX model: /home/igandhi/Documents/build/Debug+Asserts/lib/libkleeRuntimePOSIX.bca\n",
      "KLEE: NOTE: Using klee-uclibc : /home/igandhi/Documents/build/Debug+Asserts/lib/klee-uclibc.bca\n",
      "KLEE: output directory is \"/home/igandhi/Documents/profiler/../klee/examples/llvm-coreutils/bitcodes/klee-out-14\"\n",
      "KLEE: Using STP solver backend\n",
      "KLEE: WARNING: undefined reference to function: __ctype_get_mb_cur_max\n",
      "KLEE: WARNING: undefined reference to function: bindtextdomain\n",
      "KLEE: WARNING: undefined reference to function: cap_free\n",
      "KLEE: WARNING: undefined reference to function: cap_get_file\n",
      "KLEE: WARNING: undefined reference to function: cap_to_text\n",
      "KLEE: WARNING: undefined reference to function: dcgettext\n",
      "KLEE: WARNING: undefined reference to function: gettext\n",
      "KLEE: WARNING: undefined reference to function: textdomain\n",
      "KLEE: WARNING: executable has module level assembly (ignoring)\n",
      "KLEE: WARNING ONCE: calling external: syscall(16, 0, 21505, 94716317266000) at klee/runtime/POSIX/fd.c:1007 10\n",
      "KLEE: WARNING ONCE: Alignment of memory from call \"malloc\" is not modelled. Using alignment of 8.\n",
      "KLEE: WARNING ONCE: calling __klee_posix_wrapped_main with extra arguments.\n",
      "KLEE: WARNING ONCE: Alignment of memory from call \"calloc\" is not modelled. Using alignment of 8.\n",
      "KLEE: WARNING ONCE: calling external: bindtextdomain(94716316092640, 94716316399904) at [no debug info]\n",
      "KLEE: WARNING ONCE: calling external: textdomain(94716316092640) at [no debug info]\n",
      "KLEE: WARNING ONCE: Alignment of memory from call \"realloc\" is not modelled. Using alignment of 8.\n",
      "KLEE: WARNING ONCE: calling external: gettext(94716316463680) at [no debug info]\n",
      "KLEE: WARNING ONCE: calling external: __ctype_get_mb_cur_max() at [no debug info]\n",
      "cannot access KLEE: WARNING ONCE: calling external: vprintf(94716316509984, 94716317317824) at libc/stdio/fprintf.c:35 14\n",
      "\n",
      "KLEE: WARNING ONCE: calling close_stdout with extra arguments.\n",
      "\n",
      "KLEE: done: total instructions = 202886\n",
      "KLEE: done: completed paths = 1\n",
      "KLEE: done: generated tests = 1\n"
     ]
    },
    {
     "name": "stdout",
     "output_type": "stream",
     "text": [
      "/home/igandhi/Documents/build/bin/klee --search=random-path --no-forking --track-instruction-time --libc=uclibc --posix-runtime --replace-condition=14217 --replay-path=\"/home/igandhi/Documents/profiler/../klee/examples/llvm-coreutils/bitcodes/klee-out-0/test000001.path\" ../klee/examples/llvm-coreutils/bitcodes/ls.bc  --sym-arg 10\n"
     ]
    },
    {
     "name": "stderr",
     "output_type": "stream",
     "text": [
      "KLEE: NOTE: Using POSIX model: /home/igandhi/Documents/build/Debug+Asserts/lib/libkleeRuntimePOSIX.bca\n",
      "KLEE: NOTE: Using klee-uclibc : /home/igandhi/Documents/build/Debug+Asserts/lib/klee-uclibc.bca\n",
      "KLEE: output directory is \"/home/igandhi/Documents/profiler/../klee/examples/llvm-coreutils/bitcodes/klee-out-15\"\n",
      "KLEE: Using STP solver backend\n",
      "KLEE: WARNING: undefined reference to function: __ctype_get_mb_cur_max\n",
      "KLEE: WARNING: undefined reference to function: bindtextdomain\n",
      "KLEE: WARNING: undefined reference to function: cap_free\n",
      "KLEE: WARNING: undefined reference to function: cap_get_file\n",
      "KLEE: WARNING: undefined reference to function: cap_to_text\n",
      "KLEE: WARNING: undefined reference to function: dcgettext\n",
      "KLEE: WARNING: undefined reference to function: gettext\n",
      "KLEE: WARNING: undefined reference to function: textdomain\n",
      "KLEE: WARNING: executable has module level assembly (ignoring)\n",
      "KLEE: WARNING ONCE: calling external: syscall(16, 0, 21505, 94254717022576) at klee/runtime/POSIX/fd.c:1007 10\n",
      "KLEE: WARNING ONCE: Alignment of memory from call \"malloc\" is not modelled. Using alignment of 8.\n",
      "KLEE: WARNING ONCE: calling __klee_posix_wrapped_main with extra arguments.\n",
      "KLEE: WARNING ONCE: Alignment of memory from call \"calloc\" is not modelled. Using alignment of 8.\n",
      "KLEE: WARNING ONCE: calling external: bindtextdomain(94254715848928, 94254716156192) at [no debug info]\n",
      "KLEE: WARNING ONCE: calling external: textdomain(94254715848928) at [no debug info]\n",
      "KLEE: WARNING ONCE: Alignment of memory from call \"realloc\" is not modelled. Using alignment of 8.\n",
      "KLEE: WARNING ONCE: calling external: gettext(94254716219968) at [no debug info]\n",
      "KLEE: WARNING ONCE: calling external: __ctype_get_mb_cur_max() at [no debug info]\n",
      "cannot access KLEE: WARNING ONCE: calling external: vprintf(94254716266272, 94254717074112) at libc/stdio/fprintf.c:35 14\n",
      "\n",
      "KLEE: WARNING ONCE: calling close_stdout with extra arguments.\n",
      "\n",
      "KLEE: done: total instructions = 202886\n",
      "KLEE: done: completed paths = 1\n",
      "KLEE: done: generated tests = 1\n"
     ]
    },
    {
     "name": "stdout",
     "output_type": "stream",
     "text": [
      "/home/igandhi/Documents/build/bin/klee --search=random-path --no-forking --track-instruction-time --libc=uclibc --posix-runtime --replace-condition=14221 --replay-path=\"/home/igandhi/Documents/profiler/../klee/examples/llvm-coreutils/bitcodes/klee-out-0/test000001.path\" ../klee/examples/llvm-coreutils/bitcodes/ls.bc  --sym-arg 10\n"
     ]
    },
    {
     "name": "stderr",
     "output_type": "stream",
     "text": [
      "KLEE: NOTE: Using POSIX model: /home/igandhi/Documents/build/Debug+Asserts/lib/libkleeRuntimePOSIX.bca\n",
      "KLEE: NOTE: Using klee-uclibc : /home/igandhi/Documents/build/Debug+Asserts/lib/klee-uclibc.bca\n",
      "KLEE: output directory is \"/home/igandhi/Documents/profiler/../klee/examples/llvm-coreutils/bitcodes/klee-out-16\"\n",
      "KLEE: Using STP solver backend\n",
      "KLEE: WARNING: undefined reference to function: __ctype_get_mb_cur_max\n",
      "KLEE: WARNING: undefined reference to function: bindtextdomain\n",
      "KLEE: WARNING: undefined reference to function: cap_free\n",
      "KLEE: WARNING: undefined reference to function: cap_get_file\n",
      "KLEE: WARNING: undefined reference to function: cap_to_text\n",
      "KLEE: WARNING: undefined reference to function: dcgettext\n",
      "KLEE: WARNING: undefined reference to function: gettext\n",
      "KLEE: WARNING: undefined reference to function: textdomain\n",
      "KLEE: WARNING: executable has module level assembly (ignoring)\n",
      "KLEE: WARNING ONCE: calling external: syscall(16, 0, 21505, 93995900416368) at klee/runtime/POSIX/fd.c:1007 10\n",
      "KLEE: WARNING ONCE: Alignment of memory from call \"malloc\" is not modelled. Using alignment of 8.\n",
      "KLEE: WARNING ONCE: calling __klee_posix_wrapped_main with extra arguments.\n",
      "KLEE: WARNING ONCE: Alignment of memory from call \"calloc\" is not modelled. Using alignment of 8.\n",
      "KLEE: WARNING ONCE: calling external: bindtextdomain(93995899242720, 93995899549984) at [no debug info]\n",
      "KLEE: WARNING ONCE: calling external: textdomain(93995899242720) at [no debug info]\n",
      "KLEE: WARNING ONCE: Alignment of memory from call \"realloc\" is not modelled. Using alignment of 8.\n",
      "KLEE: WARNING ONCE: calling external: gettext(93995899613760) at [no debug info]\n",
      "KLEE: WARNING ONCE: calling external: __ctype_get_mb_cur_max() at [no debug info]\n",
      "cannot access KLEE: WARNING ONCE: calling external: vprintf(93995899660064, 93995900467904) at libc/stdio/fprintf.c:35 14\n",
      "\n",
      "KLEE: WARNING ONCE: calling close_stdout with extra arguments.\n",
      "\n",
      "KLEE: done: total instructions = 202886\n",
      "KLEE: done: completed paths = 1\n",
      "KLEE: done: generated tests = 1\n"
     ]
    },
    {
     "name": "stdout",
     "output_type": "stream",
     "text": [
      "Instructions,FullBranches,PartialBranches,NumBranches,UserTime,NumStates,MallocUsage,NumQueries,NumQueryConstructs,NumObjects,WallTime,CoveredInstructions,UncoveredInstructions,QueryTime,SolverTime,CexCacheTime,ForkTime,ResolveTime,QueryCexCacheMisses,QueryCexCacheHits,Breaks,Returns,Switchs,IndirectBrs,Invokes,Resumes,Unreachables,CleanupRets,CatchRets,CatchPads,CatchSwitchs,FNegs,Adds,FAdds,Subs,FSubs,Muls,FMuls,UDivs,SDivs,FDivs,URems,SRems,FRems,Ands,Ors,Xors,Allocas,Loads,Stores,AtomicCmpXchgs,AtomicRMWs,Fences,GetElementPtrs,Truncs,ZExts,SExts,FPTruncs,FPExts,FPToUIs,FPToSIs,UIToFPs,SIToFPs,IntToPtrs,PtrToInts,BitCasts,AddrSpaceCasts,ICmps,FCmps,PHIs,Selects,Calls,Shls,LShrs,AShrs,VAArgs,ExtractElements,InsertElements,ShuffleVectors,ExtractValues,InsertValues,LandingPads,CleanupPads,Cond\n",
      "202886,81,334,3038,1345791.0,0,69755496,15,123,0,675218.0,6496,40958,213017,214177,213448,0,0,15,-1,27996,1409,5,0,0,0,0,0,0,0,0,0,9209,0,1526,0,82,0,9,0,0,3,0,0,169,27,25,7185,60537,40593,0,0,0,18699,1082,6159,2998,0,0,0,0,0,0,5,147,173,0,14919,0,1561,10,8319,29,2,8,0,0,0,0,0,0,0,0,baseline\n",
      "202886,81,334,3038,1244228.0,0,69756456,14,116,0,575859.0,6496,40958,200624,201629,201000,0,0,14,-1,27996,1409,5,0,0,0,0,0,0,0,0,0,9209,0,1526,0,82,0,9,0,0,3,0,0,169,27,25,7185,60537,40593,0,0,0,18699,1082,6159,2998,0,0,0,0,0,0,5,147,173,0,14919,0,1561,10,8319,29,2,8,0,0,0,0,0,0,0,0,(Sle 32       (SExt w32 (Read w8 0 arg00)))\n",
      "202886,81,334,3038,1117439.0,0,69754920,14,116,0,656753.0,6496,40958,205240,206257,205621,0,0,14,-1,27996,1409,5,0,0,0,0,0,0,0,0,0,9209,0,1526,0,82,0,9,0,0,3,0,0,169,27,25,7185,60537,40593,0,0,0,18699,1082,6159,2998,0,0,0,0,0,0,5,147,173,0,14919,0,1561,10,8319,29,2,8,0,0,0,0,0,0,0,0,(Sle 32       (SExt w32 (Read w8 1 arg00)))\n",
      "202886,81,334,3038,1090151.0,0,69754920,14,116,0,593388.0,6496,40958,211753,212828,212165,0,0,14,-1,27996,1409,5,0,0,0,0,0,0,0,0,0,9209,0,1526,0,82,0,9,0,0,3,0,0,169,27,25,7185,60537,40593,0,0,0,18699,1082,6159,2998,0,0,0,0,0,0,5,147,173,0,14919,0,1561,10,8319,29,2,8,0,0,0,0,0,0,0,0,(Sle 32       (SExt w32 (Read w8 2 arg00)))\n",
      "202886,81,334,3038,1017444.0,0,69754920,14,116,0,684619.0,6496,40958,224145,225244,224548,0,0,14,-1,27996,1409,5,0,0,0,0,0,0,0,0,0,9209,0,1526,0,82,0,9,0,0,3,0,0,169,27,25,7185,60537,40593,0,0,0,18699,1082,6159,2998,0,0,0,0,0,0,5,147,173,0,14919,0,1561,10,8319,29,2,8,0,0,0,0,0,0,0,0,(Sle 32       (SExt w32 (Read w8 3 arg00)))\n",
      "202886,81,334,3038,935111.0,0,69754920,14,116,0,574745.0,6496,40958,215112,216127,215505,0,0,14,-1,27996,1409,5,0,0,0,0,0,0,0,0,0,9209,0,1526,0,82,0,9,0,0,3,0,0,169,27,25,7185,60537,40593,0,0,0,18699,1082,6159,2998,0,0,0,0,0,0,5,147,173,0,14919,0,1561,10,8319,29,2,8,0,0,0,0,0,0,0,0,(Sle 32       (SExt w32 (Read w8 4 arg00)))\n",
      "202886,81,334,3038,1077553.0,0,69756456,14,116,0,583574.0,6496,40958,194297,195307,194672,0,0,14,-1,27996,1409,5,0,0,0,0,0,0,0,0,0,9209,0,1526,0,82,0,9,0,0,3,0,0,169,27,25,7185,60537,40593,0,0,0,18699,1082,6159,2998,0,0,0,0,0,0,5,147,173,0,14919,0,1561,10,8319,29,2,8,0,0,0,0,0,0,0,0,(Sle 32       (SExt w32 (Read w8 5 arg00)))\n",
      "202886,81,334,3038,1027957.0,0,69754920,14,116,0,593472.0,6496,40958,200373,201411,200755,0,0,14,-1,27996,1409,5,0,0,0,0,0,0,0,0,0,9209,0,1526,0,82,0,9,0,0,3,0,0,169,27,25,7185,60537,40593,0,0,0,18699,1082,6159,2998,0,0,0,0,0,0,5,147,173,0,14919,0,1561,10,8319,29,2,8,0,0,0,0,0,0,0,0,(Sle 32       (SExt w32 (Read w8 6 arg00)))\n",
      "202886,81,334,3038,1112601.0,0,69756456,14,116,0,707193.0,6496,40958,208990,210006,209389,0,0,14,-1,27996,1409,5,0,0,0,0,0,0,0,0,0,9209,0,1526,0,82,0,9,0,0,3,0,0,169,27,25,7185,60537,40593,0,0,0,18699,1082,6159,2998,0,0,0,0,0,0,5,147,173,0,14919,0,1561,10,8319,29,2,8,0,0,0,0,0,0,0,0,(Sle 32       (SExt w32 (Read w8 7 arg00)))\n",
      "202886,81,334,3038,1334742.0,0,69758568,15,123,0,741075.0,6496,40958,222939,224010,223346,0,0,15,-1,27996,1409,5,0,0,0,0,0,0,0,0,0,9209,0,1526,0,82,0,9,0,0,3,0,0,169,27,25,7185,60537,40593,0,0,0,18699,1082,6159,2998,0,0,0,0,0,0,5,147,173,0,14919,0,1561,10,8319,29,2,8,0,0,0,0,0,0,0,0,(Sle 32       (SExt w32 (Read w8 8 arg00)))\n",
      "202886,81,334,3038,1146073.0,0,69755496,15,123,0,692871.0,6496,40958,247199,248364,247618,0,0,15,-1,27996,1409,5,0,0,0,0,0,0,0,0,0,9209,0,1526,0,82,0,9,0,0,3,0,0,169,27,25,7185,60537,40593,0,0,0,18699,1082,6159,2998,0,0,0,0,0,0,5,147,173,0,14919,0,1561,10,8319,29,2,8,0,0,0,0,0,0,0,0,(Sle 32       (SExt w32 (Read w8 9 arg00)))\n",
      "202886,81,334,3038,1304878.0,0,69755496,15,123,0,682460.0,6496,40958,238606,239793,239011,0,0,15,-1,27996,1409,5,0,0,0,0,0,0,0,0,0,9209,0,1526,0,82,0,9,0,0,3,0,0,169,27,25,7185,60537,40593,0,0,0,18699,1082,6159,2998,0,0,0,0,0,0,5,147,173,0,14919,0,1561,10,8319,29,2,8,0,0,0,0,0,0,0,0,(Eq false      (Eq 45 (Read w8 0 arg00)))\n",
      "202886,81,334,3038,1214581.0,0,69755496,15,123,0,687670.0,6496,40958,223002,224131,223416,0,0,15,-1,27996,1409,5,0,0,0,0,0,0,0,0,0,9209,0,1526,0,82,0,9,0,0,3,0,0,169,27,25,7185,60537,40593,0,0,0,18699,1082,6159,2998,0,0,0,0,0,0,5,147,173,0,14919,0,1561,10,8319,29,2,8,0,0,0,0,0,0,0,0,(Eq 47 (Read w8 0 arg00))\n",
      "202886,81,334,3038,1188395.0,0,69755496,15,123,0,601049.0,6496,40958,212770,213864,213185,0,0,15,-1,27996,1409,5,0,0,0,0,0,0,0,0,0,9209,0,1526,0,82,0,9,0,0,3,0,0,169,27,25,7185,60537,40593,0,0,0,18699,1082,6159,2998,0,0,0,0,0,0,5,147,173,0,14919,0,1561,10,8319,29,2,8,0,0,0,0,0,0,0,0,(Eq 47 (Read w8 0 arg00))\n",
      "202886,81,334,3038,1102478.0,0,69755496,15,123,0,720817.0,6496,40958,238767,240073,239240,0,0,15,-1,27996,1409,5,0,0,0,0,0,0,0,0,0,9209,0,1526,0,82,0,9,0,0,3,0,0,169,27,25,7185,60537,40593,0,0,0,18699,1082,6159,2998,0,0,0,0,0,0,5,147,173,0,14919,0,1561,10,8319,29,2,8,0,0,0,0,0,0,0,0,(Eq 0 (Read w8 0 arg00))\n",
      "202886,81,334,3038,1135194.0,0,69755496,15,123,0,663041.0,6496,40958,223290,224437,223703,0,0,15,-1,27996,1409,5,0,0,0,0,0,0,0,0,0,9209,0,1526,0,82,0,9,0,0,3,0,0,169,27,25,7185,60537,40593,0,0,0,18699,1082,6159,2998,0,0,0,0,0,0,5,147,173,0,14919,0,1561,10,8319,29,2,8,0,0,0,0,0,0,0,0,(Eq false      (Eq 0 (Read w8 0 arg00)))\n"
     ]
    }
   ],
   "source": [
    "let main (bitcode : string) =\n",
    "    let klee_command =\n",
    "        String.concat ~sep:\" \" @@ [executable; flags_to_str output_flags; directory ^ bitcode; \" --sym-arg 10\"]\n",
    "    in\n",
    "    let initial_run = (run klee_command Keep : string list) in\n",
    "    print_str_list initial_run;\n",
    "    let output_dir = get_output_dir initial_run in\n",
    "    let branches = get_branches initial_run in\n",
    "    let run_branch (p, c) : string * string =\n",
    "        let klee_command =\n",
    "        String.concat ~sep:\" \"\n",
    "        @@ [ executable; flags_to_str replay_flags; \"--replace-condition=\" ^ string_of_int p; \n",
    "        \"--replay-path=\\\"\" ^ output_dir ^ \"/test000001.path\\\"\"; directory ^ bitcode; \" --sym-arg 10\" ]\n",
    "        in\n",
    "        print_endline klee_command;\n",
    "        (run klee_command Print : string list) |> ignore;\n",
    "        get_csv_stats directory c \n",
    "    in\n",
    "    (* header strings, value strings *)\n",
    "    let (h_str , v_str) = Caml.List.split @@ List.map ((0, \"baseline\")::branches) run_branch in\n",
    "    print_endline @@ Caml.List.hd h_str;\n",
    "    print_str_list v_str;\n",
    "    clear_subdirs directory;\n",
    "    write_to_log h_str v_str bitcode\n",
    "\n",
    "let () = List.iter bitcodes main"
   ]
  },
  {
   "cell_type": "code",
   "execution_count": null,
   "metadata": {},
   "outputs": [],
   "source": []
  },
  {
   "cell_type": "code",
   "execution_count": null,
   "metadata": {},
   "outputs": [],
   "source": []
  }
 ],
 "metadata": {
  "kernelspec": {
   "display_name": "OCaml 4.09.0",
   "language": "OCaml",
   "name": "ocaml-jupyter"
  },
  "language_info": {
   "codemirror_mode": "text/x-ocaml",
   "file_extension": ".ml",
   "mimetype": "text/x-ocaml",
   "name": "OCaml",
   "nbconverter_exporter": null,
   "pygments_lexer": "OCaml",
   "version": "4.09.0"
  }
 },
 "nbformat": 4,
 "nbformat_minor": 2
}
