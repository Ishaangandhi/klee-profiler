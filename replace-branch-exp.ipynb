{
 "cells": [
  {
   "cell_type": "code",
   "execution_count": 1,
   "metadata": {},
   "outputs": [],
   "source": [
    "#thread;;\n",
    "\n",
    "#require \"core\";;\n",
    "#require \"core.syntax\";;\n",
    "#require \"stdio\";;\n",
    "\n",
    "open Printf;;\n",
    "open Stdio;;\n",
    "open Core;;"
   ]
  },
  {
   "cell_type": "code",
   "execution_count": 6,
   "metadata": {},
   "outputs": [
    {
     "data": {
      "text/plain": [
       "val executable : string = \"/home/igandhi/Documents/build/bin/klee\"\n"
      ]
     },
     "execution_count": 6,
     "metadata": {},
     "output_type": "execute_result"
    },
    {
     "data": {
      "text/plain": [
       "val klee_stats : string = \"/home/igandhi/Documents/build/bin/klee-stats\"\n"
      ]
     },
     "execution_count": 6,
     "metadata": {},
     "output_type": "execute_result"
    },
    {
     "data": {
      "text/plain": [
       "val output_flags : string list =\n",
       "  [\"search=random-path\"; \"no-forking\"; \"track-instruction-time\";\n",
       "   \"libc=uclibc\"; \"posix-runtime\"; \"write-paths\"; \"output-conditions\"]\n"
      ]
     },
     "execution_count": 6,
     "metadata": {},
     "output_type": "execute_result"
    },
    {
     "data": {
      "text/plain": [
       "val replay_flags : string list =\n",
       "  [\"search=random-path\"; \"no-forking\"; \"track-instruction-time\";\n",
       "   \"libc=uclibc\"; \"posix-runtime\"]\n"
      ]
     },
     "execution_count": 6,
     "metadata": {},
     "output_type": "execute_result"
    },
    {
     "data": {
      "text/plain": [
       "val stats_flags : string list = [\"print-all\"; \"to-csv\"]\n"
      ]
     },
     "execution_count": 6,
     "metadata": {},
     "output_type": "execute_result"
    },
    {
     "data": {
      "text/plain": [
       "val directory : string = \"../klee/examples/llvm-coreutils/bitcodes/\"\n"
      ]
     },
     "execution_count": 6,
     "metadata": {},
     "output_type": "execute_result"
    },
    {
     "data": {
      "text/plain": [
       "val bitcode : string = \"ls.bc\"\n"
      ]
     },
     "execution_count": 6,
     "metadata": {},
     "output_type": "execute_result"
    },
    {
     "data": {
      "text/plain": [
       "val path_n : int = 1\n"
      ]
     },
     "execution_count": 6,
     "metadata": {},
     "output_type": "execute_result"
    }
   ],
   "source": [
    "let executable = \"/home/igandhi/Documents/build/bin/klee\"\n",
    "\n",
    "let klee_stats = \"/home/igandhi/Documents/build/bin/klee-stats\"\n",
    "\n",
    "let output_flags =\n",
    "  [ \n",
    "  \"search=random-path\"; \"no-forking\"; \"track-instruction-time\"; \n",
    "  \"libc=uclibc\"; \"posix-runtime\"; \"write-paths\"; \"output-conditions\"\n",
    "  ]\n",
    "  \n",
    "let replay_flags =\n",
    "  [ \n",
    "  \"search=random-path\"; \"no-forking\"; \"track-instruction-time\"; \n",
    "  \"libc=uclibc\"; \"posix-runtime\"\n",
    "  ]\n",
    "\n",
    "let stats_flags = [ \"print-all\"; \"to-csv\" ]\n",
    "\n",
    "let directory = \"../klee/examples/llvm-coreutils/bitcodes/\"\n",
    "\n",
    "let bitcode = \"ls.bc\"\n",
    "\n",
    "(* number of paths to explore with klee *)\n",
    "let path_n = 1"
   ]
  },
  {
   "cell_type": "code",
   "execution_count": 3,
   "metadata": {},
   "outputs": [
    {
     "data": {
      "text/plain": [
       "exception FileError of string\n"
      ]
     },
     "execution_count": 3,
     "metadata": {},
     "output_type": "execute_result"
    },
    {
     "data": {
      "text/plain": [
       "type stderrOutput = Print | Ignore | Keep\n"
      ]
     },
     "execution_count": 3,
     "metadata": {},
     "output_type": "execute_result"
    },
    {
     "data": {
      "text/plain": [
       "val flags_to_str : string list -> string = <fun>\n"
      ]
     },
     "execution_count": 3,
     "metadata": {},
     "output_type": "execute_result"
    },
    {
     "data": {
      "text/plain": [
       "val run : string -> stderrOutput -> string list = <fun>\n"
      ]
     },
     "execution_count": 3,
     "metadata": {},
     "output_type": "execute_result"
    },
    {
     "data": {
      "text/plain": [
       "val lowest_unused : unit -> int = <fun>\n"
      ]
     },
     "execution_count": 3,
     "metadata": {},
     "output_type": "execute_result"
    },
    {
     "data": {
      "text/plain": [
       "val write_to_log : string list -> string list -> unit = <fun>\n"
      ]
     },
     "execution_count": 3,
     "metadata": {},
     "output_type": "execute_result"
    },
    {
     "data": {
      "text/plain": [
       "val get_csv_stats : string -> string -> string * string = <fun>\n"
      ]
     },
     "execution_count": 3,
     "metadata": {},
     "output_type": "execute_result"
    },
    {
     "data": {
      "text/plain": [
       "val print_str_list : string list -> unit = <fun>\n"
      ]
     },
     "execution_count": 3,
     "metadata": {},
     "output_type": "execute_result"
    }
   ],
   "source": [
    "exception FileError of string\n",
    "\n",
    "type stderrOutput = \n",
    "  | Print\n",
    "  | Ignore\n",
    "  | Keep\n",
    "\n",
    "let flags_to_str (flags : string list) : string =\n",
    "  String.concat ~sep:\" \" @@ List.map flags (fun x -> \"--\" ^ x) \n",
    "\n",
    "(** run runs the given command, and returns each line of output of standard out*)\n",
    "let run (cmd : string) (suppress : stderrOutput) : string list =\n",
    "  let cmd = match suppress with\n",
    "  | Print -> cmd\n",
    "  | Ignore -> cmd ^ \" 2> /dev/null\"\n",
    "  | Keep -> cmd ^ \" 2>&1\"\n",
    "  in\n",
    "  let inp = Unix.open_process_in @@ cmd in\n",
    "  let r = In_channel.input_lines inp in\n",
    "  In_channel.close inp;\n",
    "  r\n",
    "  \n",
    "(* Outputs are logged as log1.csv, log2.csv... lowest_unused finds the lowest unused log number*)\n",
    "let lowest_unused () : int = \n",
    "    let filenames = run (\"ls logs/\") Print in\n",
    "    let num_to_name n = \"log\" ^ string_of_int n ^ \".csv\" in\n",
    "    let is_unused n = not @@ List.mem filenames (num_to_name n) (String.equal) in\n",
    "    match List.find (List.init 100 Fun.id) is_unused with\n",
    "    | Some unused -> unused\n",
    "    | None -> raise (FileError \"All file numbers used\")\n",
    "\n",
    "let write_to_log (headers : string list) (values : string list) : unit =\n",
    "  let i = lowest_unused () in\n",
    "  let oc = Out_channel.create ~append:true @@ \"logs/log\" ^ string_of_int i ^ \".csv\" in\n",
    "  fprintf oc \"%s\\n\" (Option.value (List.hd headers) ~default:\"No headers\");\n",
    "  List.iter values (fprintf oc \"%s\\n\");\n",
    "  Out_channel.close oc\n",
    "\n",
    "(** get_csv_stats returns the results of \"klee-stats\" as a tuple of (header, value) *)\n",
    "let get_csv_stats (directory : string) (cond : string) : string * string =\n",
    "  let command =\n",
    "    klee_stats ^ \" \" ^ directory ^ \"klee-last \" ^ flags_to_str stats_flags\n",
    "  in\n",
    "  let csv_table = run command Print in\n",
    "  ((Option.value (List.hd csv_table) ~default:\"No header\") ^ \",Cond\", \n",
    "  (Option.value (List.hd @@ List.rev csv_table) ~default:\"No rows\") ^ \",\" ^ cond)\n",
    "  \n",
    "let print_str_list = fun l -> List.iter l print_endline"
   ]
  },
  {
   "cell_type": "code",
   "execution_count": 4,
   "metadata": {},
   "outputs": [
    {
     "data": {
      "text/plain": [
       "val clear_subdirs : string -> unit = <fun>\n"
      ]
     },
     "execution_count": 4,
     "metadata": {},
     "output_type": "execute_result"
    }
   ],
   "source": [
    "let clear_subdirs (directory : string) : unit = ( run (\"rm -rf \" ^ directory ^ \"*/\") Print : string list) |> ignore"
   ]
  },
  {
   "cell_type": "code",
   "execution_count": 5,
   "metadata": {},
   "outputs": [
    {
     "data": {
      "text/plain": [
       "val get_output_dir : string list -> string = <fun>\n"
      ]
     },
     "execution_count": 5,
     "metadata": {},
     "output_type": "execute_result"
    },
    {
     "data": {
      "text/plain": [
       "val get_branches : string list -> (int * string) list = <fun>\n"
      ]
     },
     "execution_count": 5,
     "metadata": {},
     "output_type": "execute_result"
    }
   ],
   "source": [
    "(*  Given KLEE output, returns a string of where the output is located *)\n",
    "let get_output_dir (klee_output : string list) : string = \n",
    "  let output_str = String.concat ~sep:\"\\n\" klee_output in\n",
    "  let r = Str.regexp \"KLEE: output directory is \\\"\\\\(.*\\\\)\\\"\" in\n",
    "  Str.search_forward r output_str 0 |> ignore;\n",
    "  Str.matched_group 1 output_str\n",
    " \n",
    "(*  Given KLEE output, returns a list of replayposition, condition pairs *)\n",
    "let get_branches (klee_output : string list) : (int * string) list =\n",
    "  let output_str = String.concat ~sep:\" \" klee_output in\n",
    "  let r = Str.regexp \"forking on condition: \\\\([^,]+\\\\), line number: [0-9]+, position \\\\([0-9]+\\\\)\" in\n",
    "  \n",
    "  let rec match_regs start =\n",
    "    try\n",
    "    let next_start = Str.search_forward r output_str start in\n",
    "    let c = Str.matched_group 1 output_str in\n",
    "    let p = Str.matched_group 2 output_str in\n",
    "    (int_of_string p, c) :: match_regs (next_start + 1)\n",
    "    with _ -> []\n",
    "  in\n",
    "  match_regs 0"
   ]
  },
  {
   "cell_type": "code",
   "execution_count": 7,
   "metadata": {
    "scrolled": true
   },
   "outputs": [
    {
     "data": {
      "text/plain": [
       "val main : unit -> unit = <fun>\n"
      ]
     },
     "execution_count": 7,
     "metadata": {},
     "output_type": "execute_result"
    },
    {
     "name": "stdout",
     "output_type": "stream",
     "text": [
      "KLEE: NOTE: Using POSIX model: /home/igandhi/Documents/build/Debug+Asserts/lib/libkleeRuntimePOSIX.bca\n",
      "KLEE: NOTE: Using klee-uclibc : /home/igandhi/Documents/build/Debug+Asserts/lib/klee-uclibc.bca\n",
      "KLEE: output directory is \"/home/igandhi/Documents/profiler/../klee/examples/llvm-coreutils/bitcodes/klee-out-68\"\n",
      "KLEE: Using STP solver backend\n",
      "KLEE: WARNING: undefined reference to function: __ctype_get_mb_cur_max\n",
      "KLEE: WARNING: undefined reference to function: bindtextdomain\n",
      "KLEE: WARNING: undefined reference to function: cap_free\n",
      "KLEE: WARNING: undefined reference to function: cap_get_file\n",
      "KLEE: WARNING: undefined reference to function: cap_to_text\n",
      "KLEE: WARNING: undefined reference to function: dcgettext\n",
      "KLEE: WARNING: undefined reference to function: gettext\n",
      "KLEE: WARNING: undefined reference to function: textdomain\n",
      "KLEE: WARNING: executable has module level assembly (ignoring)\n",
      "KLEE: WARNING ONCE: calling external: syscall(16, 0, 21505, 93883395510640) at klee/runtime/POSIX/fd.c:1007 10\n",
      "KLEE: WARNING ONCE: Alignment of memory from call \"malloc\" is not modelled. Using alignment of 8.\n",
      "KLEE: WARNING ONCE: skipping fork (fork disabled globally)\n",
      "KLEE: WARNING ONCE: calling __klee_posix_wrapped_main with extra arguments.\n",
      "KLEE: WARNING ONCE: Alignment of memory from call \"calloc\" is not modelled. Using alignment of 8.\n",
      "KLEE: WARNING ONCE: calling external: bindtextdomain(93883394353376, 93883394644256) at [no debug info]\n",
      "KLEE: WARNING ONCE: calling external: textdomain(93883394353376) at [no debug info]\n",
      "KLEE: WARNING ONCE: Alignment of memory from call \"realloc\" is not modelled. Using alignment of 8.\n",
      "KLEE: WARNING ONCE: _setjmp: ignoring\n",
      "KLEE: WARNING ONCE: calling external: __ctype_get_mb_cur_max() at [no debug info]\n",
      "bin\n",
      "boot\n",
      "dev\n",
      "etc\n",
      "home\n",
      "initrd.img\n",
      "initrd.img.old\n",
      "lib\n",
      "lib32\n",
      "lib64\n",
      "libx32\n",
      "local\n",
      "lost+found\n",
      "media\n",
      "mnt\n",
      "net\n",
      "net5\n",
      "net5i\n",
      "net5p\n",
      "opt\n",
      "proc\n",
      "restore\n",
      "root\n",
      "run\n",
      "sbin\n",
      "snap\n",
      "srv\n",
      "sys\n",
      "tmp\n",
      "usr\n",
      "var\n",
      "vmlinuz\n",
      "vmlinuz.old\n",
      "KLEE: WARNING ONCE: calling close_stdout with extra arguments.\n",
      "\n",
      "KLEE: done: total instructions = 1647738\n",
      "KLEE: done: completed paths = 1\n",
      "KLEE: done: generated tests = 1\n",
      "forking on condition: (Sle 32\n",
      "      (SExt w32 (Read w8 0 arg00))), line number: 50, position 845\n",
      "forking on condition: (Sle 32\n",
      "      (SExt w32 (Read w8 1 arg00))), line number: 50, position 847\n",
      "forking on condition: (Sle 32\n",
      "      (SExt w32 (Read w8 2 arg00))), line number: 50, position 849\n",
      "forking on condition: (Sle 32\n",
      "      (SExt w32 (Read w8 3 arg00))), line number: 50, position 851\n",
      "forking on condition: (Sle 32\n",
      "      (SExt w32 (Read w8 4 arg00))), line number: 50, position 853\n",
      "forking on condition: (Sle 32\n",
      "      (SExt w32 (Read w8 5 arg00))), line number: 50, position 855\n",
      "forking on condition: (Sle 32\n",
      "      (SExt w32 (Read w8 6 arg00))), line number: 50, position 857\n",
      "forking on condition: (Sle 32\n",
      "      (SExt w32 (Read w8 7 arg00))), line number: 50, position 859\n",
      "forking on condition: (Sle 32\n",
      "      (SExt w32 (Read w8 8 arg00))), line number: 50, position 861\n",
      "forking on condition: (Sle 32\n",
      "      (SExt w32 (Read w8 9 arg00))), line number: 50, position 863\n",
      "forking on condition: (Eq false\n",
      "     (Eq 45 (Read w8 0 arg00))), line number: 478, position 13178\n",
      "forking on condition: (Eq 47 (Read w8 0 arg00)), line number: 0, position 14212\n",
      "forking on condition: (Eq 47 (Read w8 0 arg00)), line number: 43, position 14215\n",
      "forking on condition: (Eq 47 (Read w8 0 arg00)), line number: 35, position 15281\n",
      "forking on condition: (Eq false\n",
      "     (Eq 0 (Read w8 0 arg00))), line number: 32, position 15282\n",
      "forking on condition: (Eq 104 (Read w8 1 arg00)), line number: 35, position 15284\n",
      "forking on condition: (Eq 104 (Read w8 1 arg00)), line number: 51, position 15286\n",
      "forking on condition: (Eq 0 (Read w8 0 arg00)), line number: 60, position 15287\n",
      "forking on condition: (Eq false\n",
      "     (Eq 0 (Read w8 1 arg00))), line number: 60, position 15288\n",
      "forking on condition: (Eq false\n",
      "     (Eq 0 (Read w8 0 arg00))), line number: 1399, position 15292\n",
      "forking on condition: (Eq 47 (Read w8 0 arg00)), line number: 1402, position 15293\n",
      "forking on condition: (Eq false\n",
      "     (Eq 0 (Read w8 1 arg00))), line number: 1399, position 15296\n",
      "forking on condition: (Eq 47 (Read w8 1 arg00)), line number: 1402, position 15297\n",
      "forking on condition: (Eq false\n",
      "     (Eq 0 (Read w8 2 arg00))), line number: 1399, position 15300\n",
      "/home/igandhi/Documents/build/bin/klee --search=random-path --no-forking --track-instruction-time --libc=uclibc --posix-runtime --replace-condition=845 --replay-path=\"/home/igandhi/Documents/profiler/../klee/examples/llvm-coreutils/bitcodes/klee-out-68/test000001.path\" ../klee/examples/llvm-coreutils/bitcodes/ls.bc  --sym-arg 10\n"
     ]
    },
    {
     "name": "stderr",
     "output_type": "stream",
     "text": [
      "KLEE: NOTE: Using POSIX model: /home/igandhi/Documents/build/Debug+Asserts/lib/libkleeRuntimePOSIX.bca\n",
      "KLEE: NOTE: Using klee-uclibc : /home/igandhi/Documents/build/Debug+Asserts/lib/klee-uclibc.bca\n",
      "KLEE: output directory is \"/home/igandhi/Documents/profiler/../klee/examples/llvm-coreutils/bitcodes/klee-out-69\"\n",
      "KLEE: Using STP solver backend\n",
      "KLEE: WARNING: undefined reference to function: __ctype_get_mb_cur_max\n",
      "KLEE: WARNING: undefined reference to function: bindtextdomain\n",
      "KLEE: WARNING: undefined reference to function: cap_free\n",
      "KLEE: WARNING: undefined reference to function: cap_get_file\n",
      "KLEE: WARNING: undefined reference to function: cap_to_text\n",
      "KLEE: WARNING: undefined reference to function: dcgettext\n",
      "KLEE: WARNING: undefined reference to function: gettext\n",
      "KLEE: WARNING: undefined reference to function: textdomain\n",
      "KLEE: WARNING: executable has module level assembly (ignoring)\n",
      "KLEE: WARNING ONCE: calling external: syscall(16, 0, 21505, 94382088130640) at klee/runtime/POSIX/fd.c:1007 10\n",
      "KLEE: WARNING ONCE: Alignment of memory from call \"malloc\" is not modelled. Using alignment of 8.\n",
      "KLEE: WARNING ONCE: calling __klee_posix_wrapped_main with extra arguments.\n",
      "KLEE: WARNING ONCE: Alignment of memory from call \"calloc\" is not modelled. Using alignment of 8.\n",
      "KLEE: WARNING ONCE: calling external: bindtextdomain(94382086973664, 94382087280928) at [no debug info]\n",
      "KLEE: WARNING ONCE: calling external: textdomain(94382086973664) at [no debug info]\n",
      "KLEE: WARNING ONCE: Alignment of memory from call \"realloc\" is not modelled. Using alignment of 8.\n",
      "KLEE: WARNING ONCE: _setjmp: ignoring\n",
      "KLEE: WARNING ONCE: calling external: __ctype_get_mb_cur_max() at [no debug info]\n",
      "KLEE: WARNING ONCE: calling close_stdout with extra arguments.\n",
      "\n",
      "KLEE: done: total instructions = 1647738\n",
      "KLEE: done: completed paths = 1\n",
      "KLEE: done: generated tests = 1\n"
     ]
    },
    {
     "name": "stdout",
     "output_type": "stream",
     "text": [
      "/home/igandhi/Documents/build/bin/klee --search=random-path --no-forking --track-instruction-time --libc=uclibc --posix-runtime --replace-condition=847 --replay-path=\"/home/igandhi/Documents/profiler/../klee/examples/llvm-coreutils/bitcodes/klee-out-68/test000001.path\" ../klee/examples/llvm-coreutils/bitcodes/ls.bc  --sym-arg 10\n"
     ]
    },
    {
     "name": "stderr",
     "output_type": "stream",
     "text": [
      "KLEE: NOTE: Using POSIX model: /home/igandhi/Documents/build/Debug+Asserts/lib/libkleeRuntimePOSIX.bca\n",
      "KLEE: NOTE: Using klee-uclibc : /home/igandhi/Documents/build/Debug+Asserts/lib/klee-uclibc.bca\n",
      "KLEE: output directory is \"/home/igandhi/Documents/profiler/../klee/examples/llvm-coreutils/bitcodes/klee-out-70\"\n",
      "KLEE: Using STP solver backend\n",
      "KLEE: WARNING: undefined reference to function: __ctype_get_mb_cur_max\n",
      "KLEE: WARNING: undefined reference to function: bindtextdomain\n",
      "KLEE: WARNING: undefined reference to function: cap_free\n",
      "KLEE: WARNING: undefined reference to function: cap_get_file\n",
      "KLEE: WARNING: undefined reference to function: cap_to_text\n",
      "KLEE: WARNING: undefined reference to function: dcgettext\n",
      "KLEE: WARNING: undefined reference to function: gettext\n",
      "KLEE: WARNING: undefined reference to function: textdomain\n",
      "KLEE: WARNING: executable has module level assembly (ignoring)\n",
      "KLEE: WARNING ONCE: calling external: syscall(16, 0, 21505, 94213442924624) at klee/runtime/POSIX/fd.c:1007 10\n",
      "KLEE: WARNING ONCE: Alignment of memory from call \"malloc\" is not modelled. Using alignment of 8.\n",
      "KLEE: WARNING ONCE: calling __klee_posix_wrapped_main with extra arguments.\n",
      "KLEE: WARNING ONCE: Alignment of memory from call \"calloc\" is not modelled. Using alignment of 8.\n",
      "KLEE: WARNING ONCE: calling external: bindtextdomain(94213441767648, 94213442074912) at [no debug info]\n",
      "KLEE: WARNING ONCE: calling external: textdomain(94213441767648) at [no debug info]\n",
      "KLEE: WARNING ONCE: Alignment of memory from call \"realloc\" is not modelled. Using alignment of 8.\n",
      "KLEE: WARNING ONCE: _setjmp: ignoring\n",
      "KLEE: WARNING ONCE: calling external: __ctype_get_mb_cur_max() at [no debug info]\n",
      "KLEE: WARNING ONCE: calling close_stdout with extra arguments.\n",
      "\n",
      "KLEE: done: total instructions = 1647738\n",
      "KLEE: done: completed paths = 1\n",
      "KLEE: done: generated tests = 1\n"
     ]
    },
    {
     "name": "stdout",
     "output_type": "stream",
     "text": [
      "/home/igandhi/Documents/build/bin/klee --search=random-path --no-forking --track-instruction-time --libc=uclibc --posix-runtime --replace-condition=849 --replay-path=\"/home/igandhi/Documents/profiler/../klee/examples/llvm-coreutils/bitcodes/klee-out-68/test000001.path\" ../klee/examples/llvm-coreutils/bitcodes/ls.bc  --sym-arg 10\n"
     ]
    },
    {
     "name": "stderr",
     "output_type": "stream",
     "text": [
      "KLEE: NOTE: Using POSIX model: /home/igandhi/Documents/build/Debug+Asserts/lib/libkleeRuntimePOSIX.bca\n",
      "KLEE: NOTE: Using klee-uclibc : /home/igandhi/Documents/build/Debug+Asserts/lib/klee-uclibc.bca\n",
      "KLEE: output directory is \"/home/igandhi/Documents/profiler/../klee/examples/llvm-coreutils/bitcodes/klee-out-71\"\n",
      "KLEE: Using STP solver backend\n",
      "KLEE: WARNING: undefined reference to function: __ctype_get_mb_cur_max\n",
      "KLEE: WARNING: undefined reference to function: bindtextdomain\n",
      "KLEE: WARNING: undefined reference to function: cap_free\n",
      "KLEE: WARNING: undefined reference to function: cap_get_file\n",
      "KLEE: WARNING: undefined reference to function: cap_to_text\n",
      "KLEE: WARNING: undefined reference to function: dcgettext\n",
      "KLEE: WARNING: undefined reference to function: gettext\n",
      "KLEE: WARNING: undefined reference to function: textdomain\n",
      "KLEE: WARNING: executable has module level assembly (ignoring)\n",
      "KLEE: WARNING ONCE: calling external: syscall(16, 0, 21505, 94455664930896) at klee/runtime/POSIX/fd.c:1007 10\n",
      "KLEE: WARNING ONCE: Alignment of memory from call \"malloc\" is not modelled. Using alignment of 8.\n",
      "KLEE: WARNING ONCE: calling __klee_posix_wrapped_main with extra arguments.\n",
      "KLEE: WARNING ONCE: Alignment of memory from call \"calloc\" is not modelled. Using alignment of 8.\n",
      "KLEE: WARNING ONCE: calling external: bindtextdomain(94455663773920, 94455664081184) at [no debug info]\n",
      "KLEE: WARNING ONCE: calling external: textdomain(94455663773920) at [no debug info]\n",
      "KLEE: WARNING ONCE: Alignment of memory from call \"realloc\" is not modelled. Using alignment of 8.\n",
      "KLEE: WARNING ONCE: _setjmp: ignoring\n",
      "KLEE: WARNING ONCE: calling external: __ctype_get_mb_cur_max() at [no debug info]\n",
      "KLEE: WARNING ONCE: calling close_stdout with extra arguments.\n",
      "\n",
      "KLEE: done: total instructions = 1647738\n",
      "KLEE: done: completed paths = 1\n",
      "KLEE: done: generated tests = 1\n"
     ]
    },
    {
     "name": "stdout",
     "output_type": "stream",
     "text": [
      "/home/igandhi/Documents/build/bin/klee --search=random-path --no-forking --track-instruction-time --libc=uclibc --posix-runtime --replace-condition=851 --replay-path=\"/home/igandhi/Documents/profiler/../klee/examples/llvm-coreutils/bitcodes/klee-out-68/test000001.path\" ../klee/examples/llvm-coreutils/bitcodes/ls.bc  --sym-arg 10\n"
     ]
    },
    {
     "name": "stderr",
     "output_type": "stream",
     "text": [
      "KLEE: NOTE: Using POSIX model: /home/igandhi/Documents/build/Debug+Asserts/lib/libkleeRuntimePOSIX.bca\n",
      "KLEE: NOTE: Using klee-uclibc : /home/igandhi/Documents/build/Debug+Asserts/lib/klee-uclibc.bca\n",
      "KLEE: output directory is \"/home/igandhi/Documents/profiler/../klee/examples/llvm-coreutils/bitcodes/klee-out-72\"\n",
      "KLEE: Using STP solver backend\n",
      "KLEE: WARNING: undefined reference to function: __ctype_get_mb_cur_max\n",
      "KLEE: WARNING: undefined reference to function: bindtextdomain\n",
      "KLEE: WARNING: undefined reference to function: cap_free\n",
      "KLEE: WARNING: undefined reference to function: cap_get_file\n",
      "KLEE: WARNING: undefined reference to function: cap_to_text\n",
      "KLEE: WARNING: undefined reference to function: dcgettext\n",
      "KLEE: WARNING: undefined reference to function: gettext\n",
      "KLEE: WARNING: undefined reference to function: textdomain\n",
      "KLEE: WARNING: executable has module level assembly (ignoring)\n",
      "KLEE: WARNING ONCE: calling external: syscall(16, 0, 21505, 94120070254672) at klee/runtime/POSIX/fd.c:1007 10\n",
      "KLEE: WARNING ONCE: Alignment of memory from call \"malloc\" is not modelled. Using alignment of 8.\n",
      "KLEE: WARNING ONCE: calling __klee_posix_wrapped_main with extra arguments.\n",
      "KLEE: WARNING ONCE: Alignment of memory from call \"calloc\" is not modelled. Using alignment of 8.\n",
      "KLEE: WARNING ONCE: calling external: bindtextdomain(94120069097696, 94120069404960) at [no debug info]\n",
      "KLEE: WARNING ONCE: calling external: textdomain(94120069097696) at [no debug info]\n",
      "KLEE: WARNING ONCE: Alignment of memory from call \"realloc\" is not modelled. Using alignment of 8.\n",
      "KLEE: WARNING ONCE: _setjmp: ignoring\n",
      "KLEE: WARNING ONCE: calling external: __ctype_get_mb_cur_max() at [no debug info]\n",
      "KLEE: WARNING ONCE: calling close_stdout with extra arguments.\n",
      "\n",
      "KLEE: done: total instructions = 1647738\n",
      "KLEE: done: completed paths = 1\n",
      "KLEE: done: generated tests = 1\n"
     ]
    },
    {
     "name": "stdout",
     "output_type": "stream",
     "text": [
      "/home/igandhi/Documents/build/bin/klee --search=random-path --no-forking --track-instruction-time --libc=uclibc --posix-runtime --replace-condition=853 --replay-path=\"/home/igandhi/Documents/profiler/../klee/examples/llvm-coreutils/bitcodes/klee-out-68/test000001.path\" ../klee/examples/llvm-coreutils/bitcodes/ls.bc  --sym-arg 10\n"
     ]
    },
    {
     "name": "stderr",
     "output_type": "stream",
     "text": [
      "KLEE: NOTE: Using POSIX model: /home/igandhi/Documents/build/Debug+Asserts/lib/libkleeRuntimePOSIX.bca\n",
      "KLEE: NOTE: Using klee-uclibc : /home/igandhi/Documents/build/Debug+Asserts/lib/klee-uclibc.bca\n",
      "KLEE: output directory is \"/home/igandhi/Documents/profiler/../klee/examples/llvm-coreutils/bitcodes/klee-out-73\"\n",
      "KLEE: Using STP solver backend\n",
      "KLEE: WARNING: undefined reference to function: __ctype_get_mb_cur_max\n",
      "KLEE: WARNING: undefined reference to function: bindtextdomain\n",
      "KLEE: WARNING: undefined reference to function: cap_free\n",
      "KLEE: WARNING: undefined reference to function: cap_get_file\n",
      "KLEE: WARNING: undefined reference to function: cap_to_text\n",
      "KLEE: WARNING: undefined reference to function: dcgettext\n",
      "KLEE: WARNING: undefined reference to function: gettext\n",
      "KLEE: WARNING: undefined reference to function: textdomain\n",
      "KLEE: WARNING: executable has module level assembly (ignoring)\n",
      "KLEE: WARNING ONCE: calling external: syscall(16, 0, 21505, 94878264914000) at klee/runtime/POSIX/fd.c:1007 10\n",
      "KLEE: WARNING ONCE: Alignment of memory from call \"malloc\" is not modelled. Using alignment of 8.\n",
      "KLEE: WARNING ONCE: calling __klee_posix_wrapped_main with extra arguments.\n",
      "KLEE: WARNING ONCE: Alignment of memory from call \"calloc\" is not modelled. Using alignment of 8.\n",
      "KLEE: WARNING ONCE: calling external: bindtextdomain(94878263757024, 94878264064288) at [no debug info]\n",
      "KLEE: WARNING ONCE: calling external: textdomain(94878263757024) at [no debug info]\n",
      "KLEE: WARNING ONCE: Alignment of memory from call \"realloc\" is not modelled. Using alignment of 8.\n",
      "KLEE: WARNING ONCE: _setjmp: ignoring\n",
      "KLEE: WARNING ONCE: calling external: __ctype_get_mb_cur_max() at [no debug info]\n",
      "KLEE: WARNING ONCE: calling close_stdout with extra arguments.\n",
      "\n",
      "KLEE: done: total instructions = 1647738\n",
      "KLEE: done: completed paths = 1\n",
      "KLEE: done: generated tests = 1\n"
     ]
    },
    {
     "name": "stdout",
     "output_type": "stream",
     "text": [
      "/home/igandhi/Documents/build/bin/klee --search=random-path --no-forking --track-instruction-time --libc=uclibc --posix-runtime --replace-condition=855 --replay-path=\"/home/igandhi/Documents/profiler/../klee/examples/llvm-coreutils/bitcodes/klee-out-68/test000001.path\" ../klee/examples/llvm-coreutils/bitcodes/ls.bc  --sym-arg 10\n"
     ]
    },
    {
     "name": "stderr",
     "output_type": "stream",
     "text": [
      "KLEE: NOTE: Using POSIX model: /home/igandhi/Documents/build/Debug+Asserts/lib/libkleeRuntimePOSIX.bca\n",
      "KLEE: NOTE: Using klee-uclibc : /home/igandhi/Documents/build/Debug+Asserts/lib/klee-uclibc.bca\n",
      "KLEE: output directory is \"/home/igandhi/Documents/profiler/../klee/examples/llvm-coreutils/bitcodes/klee-out-74\"\n",
      "KLEE: Using STP solver backend\n",
      "KLEE: WARNING: undefined reference to function: __ctype_get_mb_cur_max\n",
      "KLEE: WARNING: undefined reference to function: bindtextdomain\n",
      "KLEE: WARNING: undefined reference to function: cap_free\n",
      "KLEE: WARNING: undefined reference to function: cap_get_file\n",
      "KLEE: WARNING: undefined reference to function: cap_to_text\n",
      "KLEE: WARNING: undefined reference to function: dcgettext\n",
      "KLEE: WARNING: undefined reference to function: gettext\n",
      "KLEE: WARNING: undefined reference to function: textdomain\n",
      "KLEE: WARNING: executable has module level assembly (ignoring)\n",
      "KLEE: WARNING ONCE: calling external: syscall(16, 0, 21505, 93868753530960) at klee/runtime/POSIX/fd.c:1007 10\n",
      "KLEE: WARNING ONCE: Alignment of memory from call \"malloc\" is not modelled. Using alignment of 8.\n",
      "KLEE: WARNING ONCE: calling __klee_posix_wrapped_main with extra arguments.\n",
      "KLEE: WARNING ONCE: Alignment of memory from call \"calloc\" is not modelled. Using alignment of 8.\n",
      "KLEE: WARNING ONCE: calling external: bindtextdomain(93868752373984, 93868752681248) at [no debug info]\n",
      "KLEE: WARNING ONCE: calling external: textdomain(93868752373984) at [no debug info]\n",
      "KLEE: WARNING ONCE: Alignment of memory from call \"realloc\" is not modelled. Using alignment of 8.\n",
      "KLEE: WARNING ONCE: _setjmp: ignoring\n",
      "KLEE: WARNING ONCE: calling external: __ctype_get_mb_cur_max() at [no debug info]\n",
      "KLEE: WARNING ONCE: calling close_stdout with extra arguments.\n",
      "\n",
      "KLEE: done: total instructions = 1647738\n",
      "KLEE: done: completed paths = 1\n",
      "KLEE: done: generated tests = 1\n"
     ]
    },
    {
     "name": "stdout",
     "output_type": "stream",
     "text": [
      "/home/igandhi/Documents/build/bin/klee --search=random-path --no-forking --track-instruction-time --libc=uclibc --posix-runtime --replace-condition=857 --replay-path=\"/home/igandhi/Documents/profiler/../klee/examples/llvm-coreutils/bitcodes/klee-out-68/test000001.path\" ../klee/examples/llvm-coreutils/bitcodes/ls.bc  --sym-arg 10\n"
     ]
    },
    {
     "name": "stderr",
     "output_type": "stream",
     "text": [
      "KLEE: NOTE: Using POSIX model: /home/igandhi/Documents/build/Debug+Asserts/lib/libkleeRuntimePOSIX.bca\n",
      "KLEE: NOTE: Using klee-uclibc : /home/igandhi/Documents/build/Debug+Asserts/lib/klee-uclibc.bca\n",
      "KLEE: output directory is \"/home/igandhi/Documents/profiler/../klee/examples/llvm-coreutils/bitcodes/klee-out-75\"\n",
      "KLEE: Using STP solver backend\n",
      "KLEE: WARNING: undefined reference to function: __ctype_get_mb_cur_max\n",
      "KLEE: WARNING: undefined reference to function: bindtextdomain\n",
      "KLEE: WARNING: undefined reference to function: cap_free\n",
      "KLEE: WARNING: undefined reference to function: cap_get_file\n",
      "KLEE: WARNING: undefined reference to function: cap_to_text\n",
      "KLEE: WARNING: undefined reference to function: dcgettext\n",
      "KLEE: WARNING: undefined reference to function: gettext\n",
      "KLEE: WARNING: undefined reference to function: textdomain\n",
      "KLEE: WARNING: executable has module level assembly (ignoring)\n",
      "KLEE: WARNING ONCE: calling external: syscall(16, 0, 21505, 94153772970064) at klee/runtime/POSIX/fd.c:1007 10\n",
      "KLEE: WARNING ONCE: Alignment of memory from call \"malloc\" is not modelled. Using alignment of 8.\n",
      "KLEE: WARNING ONCE: calling __klee_posix_wrapped_main with extra arguments.\n",
      "KLEE: WARNING ONCE: Alignment of memory from call \"calloc\" is not modelled. Using alignment of 8.\n",
      "KLEE: WARNING ONCE: calling external: bindtextdomain(94153771813088, 94153772120352) at [no debug info]\n",
      "KLEE: WARNING ONCE: calling external: textdomain(94153771813088) at [no debug info]\n",
      "KLEE: WARNING ONCE: Alignment of memory from call \"realloc\" is not modelled. Using alignment of 8.\n",
      "KLEE: WARNING ONCE: _setjmp: ignoring\n",
      "KLEE: WARNING ONCE: calling external: __ctype_get_mb_cur_max() at [no debug info]\n",
      "KLEE: WARNING ONCE: calling close_stdout with extra arguments.\n",
      "\n",
      "KLEE: done: total instructions = 1647738\n",
      "KLEE: done: completed paths = 1\n",
      "KLEE: done: generated tests = 1\n"
     ]
    },
    {
     "name": "stdout",
     "output_type": "stream",
     "text": [
      "/home/igandhi/Documents/build/bin/klee --search=random-path --no-forking --track-instruction-time --libc=uclibc --posix-runtime --replace-condition=859 --replay-path=\"/home/igandhi/Documents/profiler/../klee/examples/llvm-coreutils/bitcodes/klee-out-68/test000001.path\" ../klee/examples/llvm-coreutils/bitcodes/ls.bc  --sym-arg 10\n"
     ]
    },
    {
     "name": "stderr",
     "output_type": "stream",
     "text": [
      "KLEE: NOTE: Using POSIX model: /home/igandhi/Documents/build/Debug+Asserts/lib/libkleeRuntimePOSIX.bca\n",
      "KLEE: NOTE: Using klee-uclibc : /home/igandhi/Documents/build/Debug+Asserts/lib/klee-uclibc.bca\n",
      "KLEE: output directory is \"/home/igandhi/Documents/profiler/../klee/examples/llvm-coreutils/bitcodes/klee-out-76\"\n",
      "KLEE: Using STP solver backend\n",
      "KLEE: WARNING: undefined reference to function: __ctype_get_mb_cur_max\n",
      "KLEE: WARNING: undefined reference to function: bindtextdomain\n",
      "KLEE: WARNING: undefined reference to function: cap_free\n",
      "KLEE: WARNING: undefined reference to function: cap_get_file\n",
      "KLEE: WARNING: undefined reference to function: cap_to_text\n",
      "KLEE: WARNING: undefined reference to function: dcgettext\n",
      "KLEE: WARNING: undefined reference to function: gettext\n",
      "KLEE: WARNING: undefined reference to function: textdomain\n",
      "KLEE: WARNING: executable has module level assembly (ignoring)\n",
      "KLEE: WARNING ONCE: calling external: syscall(16, 0, 21505, 94731153559632) at klee/runtime/POSIX/fd.c:1007 10\n",
      "KLEE: WARNING ONCE: Alignment of memory from call \"malloc\" is not modelled. Using alignment of 8.\n",
      "KLEE: WARNING ONCE: calling __klee_posix_wrapped_main with extra arguments.\n",
      "KLEE: WARNING ONCE: Alignment of memory from call \"calloc\" is not modelled. Using alignment of 8.\n",
      "KLEE: WARNING ONCE: calling external: bindtextdomain(94731152402656, 94731152709920) at [no debug info]\n",
      "KLEE: WARNING ONCE: calling external: textdomain(94731152402656) at [no debug info]\n",
      "KLEE: WARNING ONCE: Alignment of memory from call \"realloc\" is not modelled. Using alignment of 8.\n",
      "KLEE: WARNING ONCE: _setjmp: ignoring\n",
      "KLEE: WARNING ONCE: calling external: __ctype_get_mb_cur_max() at [no debug info]\n",
      "KLEE: WARNING ONCE: calling close_stdout with extra arguments.\n",
      "\n",
      "KLEE: done: total instructions = 1647738\n",
      "KLEE: done: completed paths = 1\n",
      "KLEE: done: generated tests = 1\n"
     ]
    },
    {
     "name": "stdout",
     "output_type": "stream",
     "text": [
      "/home/igandhi/Documents/build/bin/klee --search=random-path --no-forking --track-instruction-time --libc=uclibc --posix-runtime --replace-condition=861 --replay-path=\"/home/igandhi/Documents/profiler/../klee/examples/llvm-coreutils/bitcodes/klee-out-68/test000001.path\" ../klee/examples/llvm-coreutils/bitcodes/ls.bc  --sym-arg 10\n"
     ]
    },
    {
     "name": "stderr",
     "output_type": "stream",
     "text": [
      "KLEE: NOTE: Using POSIX model: /home/igandhi/Documents/build/Debug+Asserts/lib/libkleeRuntimePOSIX.bca\n",
      "KLEE: NOTE: Using klee-uclibc : /home/igandhi/Documents/build/Debug+Asserts/lib/klee-uclibc.bca\n",
      "KLEE: output directory is \"/home/igandhi/Documents/profiler/../klee/examples/llvm-coreutils/bitcodes/klee-out-77\"\n",
      "KLEE: Using STP solver backend\n",
      "KLEE: WARNING: undefined reference to function: __ctype_get_mb_cur_max\n",
      "KLEE: WARNING: undefined reference to function: bindtextdomain\n",
      "KLEE: WARNING: undefined reference to function: cap_free\n",
      "KLEE: WARNING: undefined reference to function: cap_get_file\n",
      "KLEE: WARNING: undefined reference to function: cap_to_text\n",
      "KLEE: WARNING: undefined reference to function: dcgettext\n",
      "KLEE: WARNING: undefined reference to function: gettext\n",
      "KLEE: WARNING: undefined reference to function: textdomain\n",
      "KLEE: WARNING: executable has module level assembly (ignoring)\n",
      "KLEE: WARNING ONCE: calling external: syscall(16, 0, 21505, 94718169452624) at klee/runtime/POSIX/fd.c:1007 10\n",
      "KLEE: WARNING ONCE: Alignment of memory from call \"malloc\" is not modelled. Using alignment of 8.\n",
      "KLEE: WARNING ONCE: calling __klee_posix_wrapped_main with extra arguments.\n",
      "KLEE: WARNING ONCE: Alignment of memory from call \"calloc\" is not modelled. Using alignment of 8.\n",
      "KLEE: WARNING ONCE: calling external: bindtextdomain(94718168295648, 94718168602912) at [no debug info]\n",
      "KLEE: WARNING ONCE: calling external: textdomain(94718168295648) at [no debug info]\n",
      "KLEE: WARNING ONCE: Alignment of memory from call \"realloc\" is not modelled. Using alignment of 8.\n",
      "KLEE: WARNING ONCE: _setjmp: ignoring\n",
      "KLEE: WARNING ONCE: calling external: __ctype_get_mb_cur_max() at [no debug info]\n",
      "KLEE: WARNING ONCE: calling close_stdout with extra arguments.\n",
      "\n",
      "KLEE: done: total instructions = 1647738\n",
      "KLEE: done: completed paths = 1\n",
      "KLEE: done: generated tests = 1\n"
     ]
    },
    {
     "name": "stdout",
     "output_type": "stream",
     "text": [
      "/home/igandhi/Documents/build/bin/klee --search=random-path --no-forking --track-instruction-time --libc=uclibc --posix-runtime --replace-condition=863 --replay-path=\"/home/igandhi/Documents/profiler/../klee/examples/llvm-coreutils/bitcodes/klee-out-68/test000001.path\" ../klee/examples/llvm-coreutils/bitcodes/ls.bc  --sym-arg 10\n"
     ]
    },
    {
     "name": "stderr",
     "output_type": "stream",
     "text": [
      "KLEE: NOTE: Using POSIX model: /home/igandhi/Documents/build/Debug+Asserts/lib/libkleeRuntimePOSIX.bca\n",
      "KLEE: NOTE: Using klee-uclibc : /home/igandhi/Documents/build/Debug+Asserts/lib/klee-uclibc.bca\n",
      "KLEE: output directory is \"/home/igandhi/Documents/profiler/../klee/examples/llvm-coreutils/bitcodes/klee-out-78\"\n",
      "KLEE: Using STP solver backend\n",
      "KLEE: WARNING: undefined reference to function: __ctype_get_mb_cur_max\n",
      "KLEE: WARNING: undefined reference to function: bindtextdomain\n",
      "KLEE: WARNING: undefined reference to function: cap_free\n",
      "KLEE: WARNING: undefined reference to function: cap_get_file\n",
      "KLEE: WARNING: undefined reference to function: cap_to_text\n",
      "KLEE: WARNING: undefined reference to function: dcgettext\n",
      "KLEE: WARNING: undefined reference to function: gettext\n",
      "KLEE: WARNING: undefined reference to function: textdomain\n",
      "KLEE: WARNING: executable has module level assembly (ignoring)\n",
      "KLEE: WARNING ONCE: calling external: syscall(16, 0, 21505, 94362061410672) at klee/runtime/POSIX/fd.c:1007 10\n",
      "KLEE: WARNING ONCE: Alignment of memory from call \"malloc\" is not modelled. Using alignment of 8.\n",
      "KLEE: WARNING ONCE: calling __klee_posix_wrapped_main with extra arguments.\n",
      "KLEE: WARNING ONCE: Alignment of memory from call \"calloc\" is not modelled. Using alignment of 8.\n",
      "KLEE: WARNING ONCE: calling external: bindtextdomain(94362060253408, 94362060560672) at [no debug info]\n",
      "KLEE: WARNING ONCE: calling external: textdomain(94362060253408) at [no debug info]\n",
      "KLEE: WARNING ONCE: Alignment of memory from call \"realloc\" is not modelled. Using alignment of 8.\n",
      "KLEE: WARNING ONCE: _setjmp: ignoring\n",
      "KLEE: WARNING ONCE: calling external: __ctype_get_mb_cur_max() at [no debug info]\n",
      "KLEE: WARNING ONCE: calling close_stdout with extra arguments.\n",
      "\n",
      "KLEE: done: total instructions = 1647738\n",
      "KLEE: done: completed paths = 1\n",
      "KLEE: done: generated tests = 1\n"
     ]
    },
    {
     "name": "stdout",
     "output_type": "stream",
     "text": [
      "/home/igandhi/Documents/build/bin/klee --search=random-path --no-forking --track-instruction-time --libc=uclibc --posix-runtime --replace-condition=13178 --replay-path=\"/home/igandhi/Documents/profiler/../klee/examples/llvm-coreutils/bitcodes/klee-out-68/test000001.path\" ../klee/examples/llvm-coreutils/bitcodes/ls.bc  --sym-arg 10\n"
     ]
    },
    {
     "name": "stderr",
     "output_type": "stream",
     "text": [
      "KLEE: NOTE: Using POSIX model: /home/igandhi/Documents/build/Debug+Asserts/lib/libkleeRuntimePOSIX.bca\n",
      "KLEE: NOTE: Using klee-uclibc : /home/igandhi/Documents/build/Debug+Asserts/lib/klee-uclibc.bca\n",
      "KLEE: output directory is \"/home/igandhi/Documents/profiler/../klee/examples/llvm-coreutils/bitcodes/klee-out-79\"\n",
      "KLEE: Using STP solver backend\n",
      "KLEE: WARNING: undefined reference to function: __ctype_get_mb_cur_max\n",
      "KLEE: WARNING: undefined reference to function: bindtextdomain\n",
      "KLEE: WARNING: undefined reference to function: cap_free\n",
      "KLEE: WARNING: undefined reference to function: cap_get_file\n",
      "KLEE: WARNING: undefined reference to function: cap_to_text\n",
      "KLEE: WARNING: undefined reference to function: dcgettext\n",
      "KLEE: WARNING: undefined reference to function: gettext\n",
      "KLEE: WARNING: undefined reference to function: textdomain\n",
      "KLEE: WARNING: executable has module level assembly (ignoring)\n",
      "KLEE: WARNING ONCE: calling external: syscall(16, 0, 21505, 94635326722128) at klee/runtime/POSIX/fd.c:1007 10\n",
      "KLEE: WARNING ONCE: Alignment of memory from call \"malloc\" is not modelled. Using alignment of 8.\n",
      "KLEE: WARNING ONCE: calling __klee_posix_wrapped_main with extra arguments.\n",
      "KLEE: WARNING ONCE: Alignment of memory from call \"calloc\" is not modelled. Using alignment of 8.\n",
      "KLEE: WARNING ONCE: calling external: bindtextdomain(94635325548768, 94635325872416) at [no debug info]\n",
      "KLEE: WARNING ONCE: calling external: textdomain(94635325548768) at [no debug info]\n",
      "KLEE: WARNING ONCE: Alignment of memory from call \"realloc\" is not modelled. Using alignment of 8.\n",
      "KLEE: WARNING ONCE: _setjmp: ignoring\n",
      "KLEE: WARNING ONCE: calling external: __ctype_get_mb_cur_max() at [no debug info]\n",
      "KLEE: WARNING ONCE: calling close_stdout with extra arguments.\n",
      "\n",
      "KLEE: done: total instructions = 1647738\n",
      "KLEE: done: completed paths = 1\n",
      "KLEE: done: generated tests = 1\n"
     ]
    },
    {
     "name": "stdout",
     "output_type": "stream",
     "text": [
      "/home/igandhi/Documents/build/bin/klee --search=random-path --no-forking --track-instruction-time --libc=uclibc --posix-runtime --replace-condition=14212 --replay-path=\"/home/igandhi/Documents/profiler/../klee/examples/llvm-coreutils/bitcodes/klee-out-68/test000001.path\" ../klee/examples/llvm-coreutils/bitcodes/ls.bc  --sym-arg 10\n"
     ]
    },
    {
     "name": "stderr",
     "output_type": "stream",
     "text": [
      "KLEE: NOTE: Using POSIX model: /home/igandhi/Documents/build/Debug+Asserts/lib/libkleeRuntimePOSIX.bca\n",
      "KLEE: NOTE: Using klee-uclibc : /home/igandhi/Documents/build/Debug+Asserts/lib/klee-uclibc.bca\n",
      "KLEE: output directory is \"/home/igandhi/Documents/profiler/../klee/examples/llvm-coreutils/bitcodes/klee-out-80\"\n",
      "KLEE: Using STP solver backend\n",
      "KLEE: WARNING: undefined reference to function: __ctype_get_mb_cur_max\n",
      "KLEE: WARNING: undefined reference to function: bindtextdomain\n",
      "KLEE: WARNING: undefined reference to function: cap_free\n",
      "KLEE: WARNING: undefined reference to function: cap_get_file\n",
      "KLEE: WARNING: undefined reference to function: cap_to_text\n",
      "KLEE: WARNING: undefined reference to function: dcgettext\n",
      "KLEE: WARNING: undefined reference to function: gettext\n",
      "KLEE: WARNING: undefined reference to function: textdomain\n",
      "KLEE: WARNING: executable has module level assembly (ignoring)\n",
      "KLEE: WARNING ONCE: calling external: syscall(16, 0, 21505, 94833344925776) at klee/runtime/POSIX/fd.c:1007 10\n",
      "KLEE: WARNING ONCE: Alignment of memory from call \"malloc\" is not modelled. Using alignment of 8.\n",
      "KLEE: WARNING ONCE: calling __klee_posix_wrapped_main with extra arguments.\n",
      "KLEE: WARNING ONCE: Alignment of memory from call \"calloc\" is not modelled. Using alignment of 8.\n",
      "KLEE: WARNING ONCE: calling external: bindtextdomain(94833343768800, 94833344076064) at [no debug info]\n",
      "KLEE: WARNING ONCE: calling external: textdomain(94833343768800) at [no debug info]\n",
      "KLEE: WARNING ONCE: Alignment of memory from call \"realloc\" is not modelled. Using alignment of 8.\n",
      "KLEE: WARNING ONCE: _setjmp: ignoring\n",
      "KLEE: WARNING ONCE: calling external: __ctype_get_mb_cur_max() at [no debug info]\n",
      "KLEE: WARNING ONCE: calling close_stdout with extra arguments.\n",
      "\n",
      "KLEE: done: total instructions = 1647738\n",
      "KLEE: done: completed paths = 1\n",
      "KLEE: done: generated tests = 1\n"
     ]
    },
    {
     "name": "stdout",
     "output_type": "stream",
     "text": [
      "/home/igandhi/Documents/build/bin/klee --search=random-path --no-forking --track-instruction-time --libc=uclibc --posix-runtime --replace-condition=14215 --replay-path=\"/home/igandhi/Documents/profiler/../klee/examples/llvm-coreutils/bitcodes/klee-out-68/test000001.path\" ../klee/examples/llvm-coreutils/bitcodes/ls.bc  --sym-arg 10\n"
     ]
    },
    {
     "name": "stderr",
     "output_type": "stream",
     "text": [
      "KLEE: NOTE: Using POSIX model: /home/igandhi/Documents/build/Debug+Asserts/lib/libkleeRuntimePOSIX.bca\n",
      "KLEE: NOTE: Using klee-uclibc : /home/igandhi/Documents/build/Debug+Asserts/lib/klee-uclibc.bca\n",
      "KLEE: output directory is \"/home/igandhi/Documents/profiler/../klee/examples/llvm-coreutils/bitcodes/klee-out-81\"\n",
      "KLEE: Using STP solver backend\n",
      "KLEE: WARNING: undefined reference to function: __ctype_get_mb_cur_max\n",
      "KLEE: WARNING: undefined reference to function: bindtextdomain\n",
      "KLEE: WARNING: undefined reference to function: cap_free\n",
      "KLEE: WARNING: undefined reference to function: cap_get_file\n",
      "KLEE: WARNING: undefined reference to function: cap_to_text\n",
      "KLEE: WARNING: undefined reference to function: dcgettext\n",
      "KLEE: WARNING: undefined reference to function: gettext\n",
      "KLEE: WARNING: undefined reference to function: textdomain\n",
      "KLEE: WARNING: executable has module level assembly (ignoring)\n",
      "KLEE: WARNING ONCE: calling external: syscall(16, 0, 21505, 94628787785808) at klee/runtime/POSIX/fd.c:1007 10\n",
      "KLEE: WARNING ONCE: Alignment of memory from call \"malloc\" is not modelled. Using alignment of 8.\n",
      "KLEE: WARNING ONCE: calling __klee_posix_wrapped_main with extra arguments.\n",
      "KLEE: WARNING ONCE: Alignment of memory from call \"calloc\" is not modelled. Using alignment of 8.\n",
      "KLEE: WARNING ONCE: calling external: bindtextdomain(94628786628832, 94628786936096) at [no debug info]\n",
      "KLEE: WARNING ONCE: calling external: textdomain(94628786628832) at [no debug info]\n",
      "KLEE: WARNING ONCE: Alignment of memory from call \"realloc\" is not modelled. Using alignment of 8.\n",
      "KLEE: WARNING ONCE: _setjmp: ignoring\n",
      "KLEE: WARNING ONCE: calling external: __ctype_get_mb_cur_max() at [no debug info]\n",
      "KLEE: WARNING ONCE: calling close_stdout with extra arguments.\n",
      "\n",
      "KLEE: done: total instructions = 1647738\n",
      "KLEE: done: completed paths = 1\n",
      "KLEE: done: generated tests = 1\n"
     ]
    },
    {
     "name": "stdout",
     "output_type": "stream",
     "text": [
      "/home/igandhi/Documents/build/bin/klee --search=random-path --no-forking --track-instruction-time --libc=uclibc --posix-runtime --replace-condition=15281 --replay-path=\"/home/igandhi/Documents/profiler/../klee/examples/llvm-coreutils/bitcodes/klee-out-68/test000001.path\" ../klee/examples/llvm-coreutils/bitcodes/ls.bc  --sym-arg 10\n"
     ]
    },
    {
     "name": "stderr",
     "output_type": "stream",
     "text": [
      "KLEE: NOTE: Using POSIX model: /home/igandhi/Documents/build/Debug+Asserts/lib/libkleeRuntimePOSIX.bca\n",
      "KLEE: NOTE: Using klee-uclibc : /home/igandhi/Documents/build/Debug+Asserts/lib/klee-uclibc.bca\n",
      "KLEE: output directory is \"/home/igandhi/Documents/profiler/../klee/examples/llvm-coreutils/bitcodes/klee-out-82\"\n",
      "KLEE: Using STP solver backend\n",
      "KLEE: WARNING: undefined reference to function: __ctype_get_mb_cur_max\n",
      "KLEE: WARNING: undefined reference to function: bindtextdomain\n",
      "KLEE: WARNING: undefined reference to function: cap_free\n",
      "KLEE: WARNING: undefined reference to function: cap_get_file\n",
      "KLEE: WARNING: undefined reference to function: cap_to_text\n",
      "KLEE: WARNING: undefined reference to function: dcgettext\n",
      "KLEE: WARNING: undefined reference to function: gettext\n",
      "KLEE: WARNING: undefined reference to function: textdomain\n",
      "KLEE: WARNING: executable has module level assembly (ignoring)\n",
      "KLEE: WARNING ONCE: calling external: syscall(16, 0, 21505, 94355666604112) at klee/runtime/POSIX/fd.c:1007 10\n",
      "KLEE: WARNING ONCE: Alignment of memory from call \"malloc\" is not modelled. Using alignment of 8.\n",
      "KLEE: WARNING ONCE: calling __klee_posix_wrapped_main with extra arguments.\n",
      "KLEE: WARNING ONCE: Alignment of memory from call \"calloc\" is not modelled. Using alignment of 8.\n",
      "KLEE: WARNING ONCE: calling external: bindtextdomain(94355665447136, 94355665754400) at [no debug info]\n",
      "KLEE: WARNING ONCE: calling external: textdomain(94355665447136) at [no debug info]\n",
      "KLEE: WARNING ONCE: Alignment of memory from call \"realloc\" is not modelled. Using alignment of 8.\n",
      "KLEE: WARNING ONCE: _setjmp: ignoring\n",
      "KLEE: WARNING ONCE: calling external: __ctype_get_mb_cur_max() at [no debug info]\n",
      "KLEE: WARNING ONCE: calling close_stdout with extra arguments.\n",
      "\n",
      "KLEE: done: total instructions = 1647738\n",
      "KLEE: done: completed paths = 1\n",
      "KLEE: done: generated tests = 1\n"
     ]
    },
    {
     "name": "stdout",
     "output_type": "stream",
     "text": [
      "/home/igandhi/Documents/build/bin/klee --search=random-path --no-forking --track-instruction-time --libc=uclibc --posix-runtime --replace-condition=15282 --replay-path=\"/home/igandhi/Documents/profiler/../klee/examples/llvm-coreutils/bitcodes/klee-out-68/test000001.path\" ../klee/examples/llvm-coreutils/bitcodes/ls.bc  --sym-arg 10\n"
     ]
    },
    {
     "name": "stderr",
     "output_type": "stream",
     "text": [
      "KLEE: NOTE: Using POSIX model: /home/igandhi/Documents/build/Debug+Asserts/lib/libkleeRuntimePOSIX.bca\n",
      "KLEE: NOTE: Using klee-uclibc : /home/igandhi/Documents/build/Debug+Asserts/lib/klee-uclibc.bca\n",
      "KLEE: output directory is \"/home/igandhi/Documents/profiler/../klee/examples/llvm-coreutils/bitcodes/klee-out-83\"\n",
      "KLEE: Using STP solver backend\n",
      "KLEE: WARNING: undefined reference to function: __ctype_get_mb_cur_max\n",
      "KLEE: WARNING: undefined reference to function: bindtextdomain\n",
      "KLEE: WARNING: undefined reference to function: cap_free\n",
      "KLEE: WARNING: undefined reference to function: cap_get_file\n",
      "KLEE: WARNING: undefined reference to function: cap_to_text\n",
      "KLEE: WARNING: undefined reference to function: dcgettext\n",
      "KLEE: WARNING: undefined reference to function: gettext\n",
      "KLEE: WARNING: undefined reference to function: textdomain\n",
      "KLEE: WARNING: executable has module level assembly (ignoring)\n",
      "KLEE: WARNING ONCE: calling external: syscall(16, 0, 21505, 94150144241744) at klee/runtime/POSIX/fd.c:1007 10\n",
      "KLEE: WARNING ONCE: Alignment of memory from call \"malloc\" is not modelled. Using alignment of 8.\n",
      "KLEE: WARNING ONCE: calling __klee_posix_wrapped_main with extra arguments.\n",
      "KLEE: WARNING ONCE: Alignment of memory from call \"calloc\" is not modelled. Using alignment of 8.\n",
      "KLEE: WARNING ONCE: calling external: bindtextdomain(94150143084768, 94150143392032) at [no debug info]\n",
      "KLEE: WARNING ONCE: calling external: textdomain(94150143084768) at [no debug info]\n",
      "KLEE: WARNING ONCE: Alignment of memory from call \"realloc\" is not modelled. Using alignment of 8.\n",
      "KLEE: WARNING ONCE: _setjmp: ignoring\n",
      "KLEE: WARNING ONCE: calling external: __ctype_get_mb_cur_max() at [no debug info]\n",
      "KLEE: WARNING ONCE: calling close_stdout with extra arguments.\n",
      "\n",
      "KLEE: done: total instructions = 1647738\n",
      "KLEE: done: completed paths = 1\n",
      "KLEE: done: generated tests = 1\n"
     ]
    },
    {
     "name": "stdout",
     "output_type": "stream",
     "text": [
      "/home/igandhi/Documents/build/bin/klee --search=random-path --no-forking --track-instruction-time --libc=uclibc --posix-runtime --replace-condition=15284 --replay-path=\"/home/igandhi/Documents/profiler/../klee/examples/llvm-coreutils/bitcodes/klee-out-68/test000001.path\" ../klee/examples/llvm-coreutils/bitcodes/ls.bc  --sym-arg 10\n"
     ]
    },
    {
     "name": "stderr",
     "output_type": "stream",
     "text": [
      "KLEE: NOTE: Using POSIX model: /home/igandhi/Documents/build/Debug+Asserts/lib/libkleeRuntimePOSIX.bca\n",
      "KLEE: NOTE: Using klee-uclibc : /home/igandhi/Documents/build/Debug+Asserts/lib/klee-uclibc.bca\n",
      "KLEE: output directory is \"/home/igandhi/Documents/profiler/../klee/examples/llvm-coreutils/bitcodes/klee-out-84\"\n",
      "KLEE: Using STP solver backend\n",
      "KLEE: WARNING: undefined reference to function: __ctype_get_mb_cur_max\n",
      "KLEE: WARNING: undefined reference to function: bindtextdomain\n",
      "KLEE: WARNING: undefined reference to function: cap_free\n",
      "KLEE: WARNING: undefined reference to function: cap_get_file\n",
      "KLEE: WARNING: undefined reference to function: cap_to_text\n",
      "KLEE: WARNING: undefined reference to function: dcgettext\n",
      "KLEE: WARNING: undefined reference to function: gettext\n",
      "KLEE: WARNING: undefined reference to function: textdomain\n",
      "KLEE: WARNING: executable has module level assembly (ignoring)\n",
      "KLEE: WARNING ONCE: calling external: syscall(16, 0, 21505, 93953694290000) at klee/runtime/POSIX/fd.c:1007 10\n",
      "KLEE: WARNING ONCE: Alignment of memory from call \"malloc\" is not modelled. Using alignment of 8.\n",
      "KLEE: WARNING ONCE: calling __klee_posix_wrapped_main with extra arguments.\n",
      "KLEE: WARNING ONCE: Alignment of memory from call \"calloc\" is not modelled. Using alignment of 8.\n",
      "KLEE: WARNING ONCE: calling external: bindtextdomain(93953693133024, 93953693440288) at [no debug info]\n",
      "KLEE: WARNING ONCE: calling external: textdomain(93953693133024) at [no debug info]\n",
      "KLEE: WARNING ONCE: Alignment of memory from call \"realloc\" is not modelled. Using alignment of 8.\n",
      "KLEE: WARNING ONCE: _setjmp: ignoring\n",
      "KLEE: WARNING ONCE: calling external: __ctype_get_mb_cur_max() at [no debug info]\n",
      "KLEE: WARNING ONCE: calling close_stdout with extra arguments.\n",
      "\n",
      "KLEE: done: total instructions = 1647738\n",
      "KLEE: done: completed paths = 1\n",
      "KLEE: done: generated tests = 1\n"
     ]
    },
    {
     "name": "stdout",
     "output_type": "stream",
     "text": [
      "/home/igandhi/Documents/build/bin/klee --search=random-path --no-forking --track-instruction-time --libc=uclibc --posix-runtime --replace-condition=15286 --replay-path=\"/home/igandhi/Documents/profiler/../klee/examples/llvm-coreutils/bitcodes/klee-out-68/test000001.path\" ../klee/examples/llvm-coreutils/bitcodes/ls.bc  --sym-arg 10\n"
     ]
    },
    {
     "name": "stderr",
     "output_type": "stream",
     "text": [
      "KLEE: NOTE: Using POSIX model: /home/igandhi/Documents/build/Debug+Asserts/lib/libkleeRuntimePOSIX.bca\n",
      "KLEE: NOTE: Using klee-uclibc : /home/igandhi/Documents/build/Debug+Asserts/lib/klee-uclibc.bca\n",
      "KLEE: output directory is \"/home/igandhi/Documents/profiler/../klee/examples/llvm-coreutils/bitcodes/klee-out-85\"\n",
      "KLEE: Using STP solver backend\n",
      "KLEE: WARNING: undefined reference to function: __ctype_get_mb_cur_max\n",
      "KLEE: WARNING: undefined reference to function: bindtextdomain\n",
      "KLEE: WARNING: undefined reference to function: cap_free\n",
      "KLEE: WARNING: undefined reference to function: cap_get_file\n",
      "KLEE: WARNING: undefined reference to function: cap_to_text\n",
      "KLEE: WARNING: undefined reference to function: dcgettext\n",
      "KLEE: WARNING: undefined reference to function: gettext\n",
      "KLEE: WARNING: undefined reference to function: textdomain\n",
      "KLEE: WARNING: executable has module level assembly (ignoring)\n",
      "KLEE: WARNING ONCE: calling external: syscall(16, 0, 21505, 93847734816848) at klee/runtime/POSIX/fd.c:1007 10\n",
      "KLEE: WARNING ONCE: Alignment of memory from call \"malloc\" is not modelled. Using alignment of 8.\n",
      "KLEE: WARNING ONCE: calling __klee_posix_wrapped_main with extra arguments.\n",
      "KLEE: WARNING ONCE: Alignment of memory from call \"calloc\" is not modelled. Using alignment of 8.\n",
      "KLEE: WARNING ONCE: calling external: bindtextdomain(93847733659872, 93847733967136) at [no debug info]\n",
      "KLEE: WARNING ONCE: calling external: textdomain(93847733659872) at [no debug info]\n",
      "KLEE: WARNING ONCE: Alignment of memory from call \"realloc\" is not modelled. Using alignment of 8.\n",
      "KLEE: WARNING ONCE: _setjmp: ignoring\n",
      "KLEE: WARNING ONCE: calling external: __ctype_get_mb_cur_max() at [no debug info]\n",
      "KLEE: WARNING ONCE: calling close_stdout with extra arguments.\n",
      "\n",
      "KLEE: done: total instructions = 1647738\n",
      "KLEE: done: completed paths = 1\n",
      "KLEE: done: generated tests = 1\n"
     ]
    },
    {
     "name": "stdout",
     "output_type": "stream",
     "text": [
      "/home/igandhi/Documents/build/bin/klee --search=random-path --no-forking --track-instruction-time --libc=uclibc --posix-runtime --replace-condition=15287 --replay-path=\"/home/igandhi/Documents/profiler/../klee/examples/llvm-coreutils/bitcodes/klee-out-68/test000001.path\" ../klee/examples/llvm-coreutils/bitcodes/ls.bc  --sym-arg 10\n"
     ]
    },
    {
     "name": "stderr",
     "output_type": "stream",
     "text": [
      "KLEE: NOTE: Using POSIX model: /home/igandhi/Documents/build/Debug+Asserts/lib/libkleeRuntimePOSIX.bca\n",
      "KLEE: NOTE: Using klee-uclibc : /home/igandhi/Documents/build/Debug+Asserts/lib/klee-uclibc.bca\n",
      "KLEE: output directory is \"/home/igandhi/Documents/profiler/../klee/examples/llvm-coreutils/bitcodes/klee-out-86\"\n",
      "KLEE: Using STP solver backend\n",
      "KLEE: WARNING: undefined reference to function: __ctype_get_mb_cur_max\n",
      "KLEE: WARNING: undefined reference to function: bindtextdomain\n",
      "KLEE: WARNING: undefined reference to function: cap_free\n",
      "KLEE: WARNING: undefined reference to function: cap_get_file\n",
      "KLEE: WARNING: undefined reference to function: cap_to_text\n",
      "KLEE: WARNING: undefined reference to function: dcgettext\n",
      "KLEE: WARNING: undefined reference to function: gettext\n",
      "KLEE: WARNING: undefined reference to function: textdomain\n",
      "KLEE: WARNING: executable has module level assembly (ignoring)\n",
      "KLEE: WARNING ONCE: calling external: syscall(16, 0, 21505, 94189544517712) at klee/runtime/POSIX/fd.c:1007 10\n",
      "KLEE: WARNING ONCE: Alignment of memory from call \"malloc\" is not modelled. Using alignment of 8.\n",
      "KLEE: WARNING ONCE: calling __klee_posix_wrapped_main with extra arguments.\n",
      "KLEE: WARNING ONCE: Alignment of memory from call \"calloc\" is not modelled. Using alignment of 8.\n",
      "KLEE: WARNING ONCE: calling external: bindtextdomain(94189543360736, 94189543668000) at [no debug info]\n",
      "KLEE: WARNING ONCE: calling external: textdomain(94189543360736) at [no debug info]\n",
      "KLEE: WARNING ONCE: Alignment of memory from call \"realloc\" is not modelled. Using alignment of 8.\n",
      "KLEE: WARNING ONCE: _setjmp: ignoring\n",
      "KLEE: WARNING ONCE: calling external: __ctype_get_mb_cur_max() at [no debug info]\n",
      "KLEE: WARNING ONCE: calling close_stdout with extra arguments.\n",
      "\n",
      "KLEE: done: total instructions = 1647738\n",
      "KLEE: done: completed paths = 1\n",
      "KLEE: done: generated tests = 1\n"
     ]
    },
    {
     "name": "stdout",
     "output_type": "stream",
     "text": [
      "/home/igandhi/Documents/build/bin/klee --search=random-path --no-forking --track-instruction-time --libc=uclibc --posix-runtime --replace-condition=15288 --replay-path=\"/home/igandhi/Documents/profiler/../klee/examples/llvm-coreutils/bitcodes/klee-out-68/test000001.path\" ../klee/examples/llvm-coreutils/bitcodes/ls.bc  --sym-arg 10\n"
     ]
    },
    {
     "name": "stderr",
     "output_type": "stream",
     "text": [
      "KLEE: NOTE: Using POSIX model: /home/igandhi/Documents/build/Debug+Asserts/lib/libkleeRuntimePOSIX.bca\n",
      "KLEE: NOTE: Using klee-uclibc : /home/igandhi/Documents/build/Debug+Asserts/lib/klee-uclibc.bca\n",
      "KLEE: output directory is \"/home/igandhi/Documents/profiler/../klee/examples/llvm-coreutils/bitcodes/klee-out-87\"\n",
      "KLEE: Using STP solver backend\n",
      "KLEE: WARNING: undefined reference to function: __ctype_get_mb_cur_max\n",
      "KLEE: WARNING: undefined reference to function: bindtextdomain\n",
      "KLEE: WARNING: undefined reference to function: cap_free\n",
      "KLEE: WARNING: undefined reference to function: cap_get_file\n",
      "KLEE: WARNING: undefined reference to function: cap_to_text\n",
      "KLEE: WARNING: undefined reference to function: dcgettext\n",
      "KLEE: WARNING: undefined reference to function: gettext\n",
      "KLEE: WARNING: undefined reference to function: textdomain\n",
      "KLEE: WARNING: executable has module level assembly (ignoring)\n",
      "KLEE: WARNING ONCE: calling external: syscall(16, 0, 21505, 94901866557808) at klee/runtime/POSIX/fd.c:1007 10\n",
      "KLEE: WARNING ONCE: Alignment of memory from call \"malloc\" is not modelled. Using alignment of 8.\n",
      "KLEE: WARNING ONCE: calling __klee_posix_wrapped_main with extra arguments.\n",
      "KLEE: WARNING ONCE: Alignment of memory from call \"calloc\" is not modelled. Using alignment of 8.\n",
      "KLEE: WARNING ONCE: calling external: bindtextdomain(94901865400544, 94901865707808) at [no debug info]\n",
      "KLEE: WARNING ONCE: calling external: textdomain(94901865400544) at [no debug info]\n",
      "KLEE: WARNING ONCE: Alignment of memory from call \"realloc\" is not modelled. Using alignment of 8.\n",
      "KLEE: WARNING ONCE: _setjmp: ignoring\n",
      "KLEE: WARNING ONCE: calling external: __ctype_get_mb_cur_max() at [no debug info]\n",
      "KLEE: WARNING ONCE: calling close_stdout with extra arguments.\n",
      "\n",
      "KLEE: done: total instructions = 1647738\n",
      "KLEE: done: completed paths = 1\n",
      "KLEE: done: generated tests = 1\n"
     ]
    },
    {
     "name": "stdout",
     "output_type": "stream",
     "text": [
      "/home/igandhi/Documents/build/bin/klee --search=random-path --no-forking --track-instruction-time --libc=uclibc --posix-runtime --replace-condition=15292 --replay-path=\"/home/igandhi/Documents/profiler/../klee/examples/llvm-coreutils/bitcodes/klee-out-68/test000001.path\" ../klee/examples/llvm-coreutils/bitcodes/ls.bc  --sym-arg 10\n"
     ]
    },
    {
     "name": "stderr",
     "output_type": "stream",
     "text": [
      "KLEE: NOTE: Using POSIX model: /home/igandhi/Documents/build/Debug+Asserts/lib/libkleeRuntimePOSIX.bca\n",
      "KLEE: NOTE: Using klee-uclibc : /home/igandhi/Documents/build/Debug+Asserts/lib/klee-uclibc.bca\n",
      "KLEE: output directory is \"/home/igandhi/Documents/profiler/../klee/examples/llvm-coreutils/bitcodes/klee-out-88\"\n",
      "KLEE: Using STP solver backend\n",
      "KLEE: WARNING: undefined reference to function: __ctype_get_mb_cur_max\n",
      "KLEE: WARNING: undefined reference to function: bindtextdomain\n",
      "KLEE: WARNING: undefined reference to function: cap_free\n",
      "KLEE: WARNING: undefined reference to function: cap_get_file\n",
      "KLEE: WARNING: undefined reference to function: cap_to_text\n",
      "KLEE: WARNING: undefined reference to function: dcgettext\n",
      "KLEE: WARNING: undefined reference to function: gettext\n",
      "KLEE: WARNING: undefined reference to function: textdomain\n",
      "KLEE: WARNING: executable has module level assembly (ignoring)\n",
      "KLEE: WARNING ONCE: calling external: syscall(16, 0, 21505, 94145636233584) at klee/runtime/POSIX/fd.c:1007 10\n",
      "KLEE: WARNING ONCE: Alignment of memory from call \"malloc\" is not modelled. Using alignment of 8.\n",
      "KLEE: WARNING ONCE: calling __klee_posix_wrapped_main with extra arguments.\n",
      "KLEE: WARNING ONCE: Alignment of memory from call \"calloc\" is not modelled. Using alignment of 8.\n",
      "KLEE: WARNING ONCE: calling external: bindtextdomain(94145635076320, 94145635383584) at [no debug info]\n",
      "KLEE: WARNING ONCE: calling external: textdomain(94145635076320) at [no debug info]\n",
      "KLEE: WARNING ONCE: Alignment of memory from call \"realloc\" is not modelled. Using alignment of 8.\n",
      "KLEE: WARNING ONCE: _setjmp: ignoring\n",
      "KLEE: WARNING ONCE: calling external: __ctype_get_mb_cur_max() at [no debug info]\n",
      "KLEE: WARNING ONCE: calling close_stdout with extra arguments.\n",
      "\n",
      "KLEE: done: total instructions = 1647738\n",
      "KLEE: done: completed paths = 1\n",
      "KLEE: done: generated tests = 1\n"
     ]
    },
    {
     "name": "stdout",
     "output_type": "stream",
     "text": [
      "/home/igandhi/Documents/build/bin/klee --search=random-path --no-forking --track-instruction-time --libc=uclibc --posix-runtime --replace-condition=15293 --replay-path=\"/home/igandhi/Documents/profiler/../klee/examples/llvm-coreutils/bitcodes/klee-out-68/test000001.path\" ../klee/examples/llvm-coreutils/bitcodes/ls.bc  --sym-arg 10\n"
     ]
    },
    {
     "name": "stderr",
     "output_type": "stream",
     "text": [
      "KLEE: NOTE: Using POSIX model: /home/igandhi/Documents/build/Debug+Asserts/lib/libkleeRuntimePOSIX.bca\n",
      "KLEE: NOTE: Using klee-uclibc : /home/igandhi/Documents/build/Debug+Asserts/lib/klee-uclibc.bca\n",
      "KLEE: output directory is \"/home/igandhi/Documents/profiler/../klee/examples/llvm-coreutils/bitcodes/klee-out-89\"\n",
      "KLEE: Using STP solver backend\n",
      "KLEE: WARNING: undefined reference to function: __ctype_get_mb_cur_max\n",
      "KLEE: WARNING: undefined reference to function: bindtextdomain\n",
      "KLEE: WARNING: undefined reference to function: cap_free\n",
      "KLEE: WARNING: undefined reference to function: cap_get_file\n",
      "KLEE: WARNING: undefined reference to function: cap_to_text\n",
      "KLEE: WARNING: undefined reference to function: dcgettext\n",
      "KLEE: WARNING: undefined reference to function: gettext\n",
      "KLEE: WARNING: undefined reference to function: textdomain\n",
      "KLEE: WARNING: executable has module level assembly (ignoring)\n",
      "KLEE: WARNING ONCE: calling external: syscall(16, 0, 21505, 94170675966032) at klee/runtime/POSIX/fd.c:1007 10\n",
      "KLEE: WARNING ONCE: Alignment of memory from call \"malloc\" is not modelled. Using alignment of 8.\n",
      "KLEE: WARNING ONCE: calling __klee_posix_wrapped_main with extra arguments.\n",
      "KLEE: WARNING ONCE: Alignment of memory from call \"calloc\" is not modelled. Using alignment of 8.\n",
      "KLEE: WARNING ONCE: calling external: bindtextdomain(94170674809056, 94170675116320) at [no debug info]\n",
      "KLEE: WARNING ONCE: calling external: textdomain(94170674809056) at [no debug info]\n",
      "KLEE: WARNING ONCE: Alignment of memory from call \"realloc\" is not modelled. Using alignment of 8.\n",
      "KLEE: WARNING ONCE: _setjmp: ignoring\n",
      "KLEE: WARNING ONCE: calling external: __ctype_get_mb_cur_max() at [no debug info]\n",
      "KLEE: WARNING ONCE: calling close_stdout with extra arguments.\n",
      "\n",
      "KLEE: done: total instructions = 1647738\n",
      "KLEE: done: completed paths = 1\n",
      "KLEE: done: generated tests = 1\n"
     ]
    },
    {
     "name": "stdout",
     "output_type": "stream",
     "text": [
      "/home/igandhi/Documents/build/bin/klee --search=random-path --no-forking --track-instruction-time --libc=uclibc --posix-runtime --replace-condition=15296 --replay-path=\"/home/igandhi/Documents/profiler/../klee/examples/llvm-coreutils/bitcodes/klee-out-68/test000001.path\" ../klee/examples/llvm-coreutils/bitcodes/ls.bc  --sym-arg 10\n"
     ]
    },
    {
     "name": "stderr",
     "output_type": "stream",
     "text": [
      "KLEE: NOTE: Using POSIX model: /home/igandhi/Documents/build/Debug+Asserts/lib/libkleeRuntimePOSIX.bca\n",
      "KLEE: NOTE: Using klee-uclibc : /home/igandhi/Documents/build/Debug+Asserts/lib/klee-uclibc.bca\n",
      "KLEE: output directory is \"/home/igandhi/Documents/profiler/../klee/examples/llvm-coreutils/bitcodes/klee-out-90\"\n",
      "KLEE: Using STP solver backend\n",
      "KLEE: WARNING: undefined reference to function: __ctype_get_mb_cur_max\n",
      "KLEE: WARNING: undefined reference to function: bindtextdomain\n",
      "KLEE: WARNING: undefined reference to function: cap_free\n",
      "KLEE: WARNING: undefined reference to function: cap_get_file\n",
      "KLEE: WARNING: undefined reference to function: cap_to_text\n",
      "KLEE: WARNING: undefined reference to function: dcgettext\n",
      "KLEE: WARNING: undefined reference to function: gettext\n",
      "KLEE: WARNING: undefined reference to function: textdomain\n",
      "KLEE: WARNING: executable has module level assembly (ignoring)\n",
      "KLEE: WARNING ONCE: calling external: syscall(16, 0, 21505, 94855761498192) at klee/runtime/POSIX/fd.c:1007 10\n",
      "KLEE: WARNING ONCE: Alignment of memory from call \"malloc\" is not modelled. Using alignment of 8.\n",
      "KLEE: WARNING ONCE: calling __klee_posix_wrapped_main with extra arguments.\n",
      "KLEE: WARNING ONCE: Alignment of memory from call \"calloc\" is not modelled. Using alignment of 8.\n",
      "KLEE: WARNING ONCE: calling external: bindtextdomain(94855760341216, 94855760648480) at [no debug info]\n",
      "KLEE: WARNING ONCE: calling external: textdomain(94855760341216) at [no debug info]\n",
      "KLEE: WARNING ONCE: Alignment of memory from call \"realloc\" is not modelled. Using alignment of 8.\n",
      "KLEE: WARNING ONCE: _setjmp: ignoring\n",
      "KLEE: WARNING ONCE: calling external: __ctype_get_mb_cur_max() at [no debug info]\n",
      "KLEE: WARNING ONCE: calling close_stdout with extra arguments.\n",
      "\n",
      "KLEE: done: total instructions = 1647738\n",
      "KLEE: done: completed paths = 1\n",
      "KLEE: done: generated tests = 1\n"
     ]
    },
    {
     "name": "stdout",
     "output_type": "stream",
     "text": [
      "/home/igandhi/Documents/build/bin/klee --search=random-path --no-forking --track-instruction-time --libc=uclibc --posix-runtime --replace-condition=15297 --replay-path=\"/home/igandhi/Documents/profiler/../klee/examples/llvm-coreutils/bitcodes/klee-out-68/test000001.path\" ../klee/examples/llvm-coreutils/bitcodes/ls.bc  --sym-arg 10\n"
     ]
    },
    {
     "name": "stderr",
     "output_type": "stream",
     "text": [
      "KLEE: NOTE: Using POSIX model: /home/igandhi/Documents/build/Debug+Asserts/lib/libkleeRuntimePOSIX.bca\n",
      "KLEE: NOTE: Using klee-uclibc : /home/igandhi/Documents/build/Debug+Asserts/lib/klee-uclibc.bca\n",
      "KLEE: output directory is \"/home/igandhi/Documents/profiler/../klee/examples/llvm-coreutils/bitcodes/klee-out-91\"\n",
      "KLEE: Using STP solver backend\n",
      "KLEE: WARNING: undefined reference to function: __ctype_get_mb_cur_max\n",
      "KLEE: WARNING: undefined reference to function: bindtextdomain\n",
      "KLEE: WARNING: undefined reference to function: cap_free\n",
      "KLEE: WARNING: undefined reference to function: cap_get_file\n",
      "KLEE: WARNING: undefined reference to function: cap_to_text\n",
      "KLEE: WARNING: undefined reference to function: dcgettext\n",
      "KLEE: WARNING: undefined reference to function: gettext\n",
      "KLEE: WARNING: undefined reference to function: textdomain\n",
      "KLEE: WARNING: executable has module level assembly (ignoring)\n",
      "KLEE: WARNING ONCE: calling external: syscall(16, 0, 21505, 94072655630704) at klee/runtime/POSIX/fd.c:1007 10\n",
      "KLEE: WARNING ONCE: Alignment of memory from call \"malloc\" is not modelled. Using alignment of 8.\n",
      "KLEE: WARNING ONCE: calling __klee_posix_wrapped_main with extra arguments.\n",
      "KLEE: WARNING ONCE: Alignment of memory from call \"calloc\" is not modelled. Using alignment of 8.\n",
      "KLEE: WARNING ONCE: calling external: bindtextdomain(94072654473440, 94072654780704) at [no debug info]\n",
      "KLEE: WARNING ONCE: calling external: textdomain(94072654473440) at [no debug info]\n",
      "KLEE: WARNING ONCE: Alignment of memory from call \"realloc\" is not modelled. Using alignment of 8.\n",
      "KLEE: WARNING ONCE: _setjmp: ignoring\n",
      "KLEE: WARNING ONCE: calling external: __ctype_get_mb_cur_max() at [no debug info]\n",
      "KLEE: WARNING ONCE: calling close_stdout with extra arguments.\n",
      "\n",
      "KLEE: done: total instructions = 1647738\n",
      "KLEE: done: completed paths = 1\n",
      "KLEE: done: generated tests = 1\n"
     ]
    },
    {
     "name": "stdout",
     "output_type": "stream",
     "text": [
      "/home/igandhi/Documents/build/bin/klee --search=random-path --no-forking --track-instruction-time --libc=uclibc --posix-runtime --replace-condition=15300 --replay-path=\"/home/igandhi/Documents/profiler/../klee/examples/llvm-coreutils/bitcodes/klee-out-68/test000001.path\" ../klee/examples/llvm-coreutils/bitcodes/ls.bc  --sym-arg 10\n"
     ]
    },
    {
     "name": "stderr",
     "output_type": "stream",
     "text": [
      "KLEE: NOTE: Using POSIX model: /home/igandhi/Documents/build/Debug+Asserts/lib/libkleeRuntimePOSIX.bca\n",
      "KLEE: NOTE: Using klee-uclibc : /home/igandhi/Documents/build/Debug+Asserts/lib/klee-uclibc.bca\n",
      "KLEE: output directory is \"/home/igandhi/Documents/profiler/../klee/examples/llvm-coreutils/bitcodes/klee-out-92\"\n",
      "KLEE: Using STP solver backend\n",
      "KLEE: WARNING: undefined reference to function: __ctype_get_mb_cur_max\n",
      "KLEE: WARNING: undefined reference to function: bindtextdomain\n",
      "KLEE: WARNING: undefined reference to function: cap_free\n",
      "KLEE: WARNING: undefined reference to function: cap_get_file\n",
      "KLEE: WARNING: undefined reference to function: cap_to_text\n",
      "KLEE: WARNING: undefined reference to function: dcgettext\n",
      "KLEE: WARNING: undefined reference to function: gettext\n",
      "KLEE: WARNING: undefined reference to function: textdomain\n",
      "KLEE: WARNING: executable has module level assembly (ignoring)\n",
      "KLEE: WARNING ONCE: calling external: syscall(16, 0, 21505, 94781344739696) at klee/runtime/POSIX/fd.c:1007 10\n",
      "KLEE: WARNING ONCE: Alignment of memory from call \"malloc\" is not modelled. Using alignment of 8.\n",
      "KLEE: WARNING ONCE: calling __klee_posix_wrapped_main with extra arguments.\n",
      "KLEE: WARNING ONCE: Alignment of memory from call \"calloc\" is not modelled. Using alignment of 8.\n",
      "KLEE: WARNING ONCE: calling external: bindtextdomain(94781343582432, 94781343889696) at [no debug info]\n",
      "KLEE: WARNING ONCE: calling external: textdomain(94781343582432) at [no debug info]\n",
      "KLEE: WARNING ONCE: Alignment of memory from call \"realloc\" is not modelled. Using alignment of 8.\n",
      "KLEE: WARNING ONCE: _setjmp: ignoring\n",
      "KLEE: WARNING ONCE: calling external: __ctype_get_mb_cur_max() at [no debug info]\n",
      "KLEE: WARNING ONCE: calling close_stdout with extra arguments.\n",
      "\n",
      "KLEE: done: total instructions = 1647738\n",
      "KLEE: done: completed paths = 1\n",
      "KLEE: done: generated tests = 1\n"
     ]
    },
    {
     "name": "stdout",
     "output_type": "stream",
     "text": [
      "Instructions,FullBranches,PartialBranches,NumBranches,UserTime,NumStates,MallocUsage,NumQueries,NumQueryConstructs,NumObjects,WallTime,CoveredInstructions,UncoveredInstructions,QueryTime,SolverTime,CexCacheTime,ForkTime,ResolveTime,QueryCexCacheMisses,QueryCexCacheHits,Breaks,Returns,Switchs,IndirectBrs,Invokes,Resumes,Unreachables,CleanupRets,CatchRets,CatchPads,CatchSwitchs,FNegs,Adds,FAdds,Subs,FSubs,Muls,FMuls,UDivs,SDivs,FDivs,URems,SRems,FRems,Ands,Ors,Xors,Allocas,Loads,Stores,AtomicCmpXchgs,AtomicRMWs,Fences,GetElementPtrs,Truncs,ZExts,SExts,FPTruncs,FPExts,FPToUIs,FPToSIs,UIToFPs,SIToFPs,IntToPtrs,PtrToInts,BitCasts,AddrSpaceCasts,ICmps,FCmps,PHIs,Selects,Calls,Shls,LShrs,AShrs,VAArgs,ExtractElements,InsertElements,ShuffleVectors,ExtractValues,InsertValues,LandingPads,CleanupPads,Cond\n",
      "1647738,98,381,3038,2403214.0,0,70633632,19,166,0,2608924.0,7536,39918,269540,271082,270145,0,0,19,-1,233991,6937,232,0,0,0,0,0,0,0,0,0,100195,0,4562,0,522,0,100,0,0,2,0,0,3040,63,249,37229,497869,342834,0,0,0,147665,84776,18060,6155,0,0,0,0,0,0,71,1101,1442,0,119326,0,2689,43,37008,798,1,778,0,0,0,0,0,0,0,0,(Sle 32       (SExt w32 (Read w8 0 arg00)))\n",
      "1647738,98,381,3038,2616706.0,0,70632280,19,173,0,2497825.0,7536,39918,246797,248322,247432,0,0,19,-1,233991,6937,232,0,0,0,0,0,0,0,0,0,100195,0,4562,0,522,0,100,0,0,2,0,0,3040,63,249,37229,497869,342834,0,0,0,147665,84776,18060,6155,0,0,0,0,0,0,71,1101,1442,0,119326,0,2689,43,37008,798,1,778,0,0,0,0,0,0,0,0,(Sle 32       (SExt w32 (Read w8 1 arg00)))\n",
      "1647738,98,381,3038,2466563.0,0,70635352,19,173,0,2338008.0,7536,39918,246934,248550,247601,0,0,19,-1,233991,6937,232,0,0,0,0,0,0,0,0,0,100195,0,4562,0,522,0,100,0,0,2,0,0,3040,63,249,37229,497869,342834,0,0,0,147665,84776,18060,6155,0,0,0,0,0,0,71,1101,1442,0,119326,0,2689,43,37008,798,1,778,0,0,0,0,0,0,0,0,(Sle 32       (SExt w32 (Read w8 2 arg00)))\n",
      "1647738,98,381,3038,2465904.0,0,70632280,19,173,0,2196638.0,7536,39918,223832,225337,224459,0,0,19,-1,233991,6937,232,0,0,0,0,0,0,0,0,0,100195,0,4562,0,522,0,100,0,0,2,0,0,3040,63,249,37229,497869,342834,0,0,0,147665,84776,18060,6155,0,0,0,0,0,0,71,1101,1442,0,119326,0,2689,43,37008,798,1,778,0,0,0,0,0,0,0,0,(Sle 32       (SExt w32 (Read w8 3 arg00)))\n",
      "1647738,98,381,3038,2493768.0,0,70632280,19,173,0,2368855.0,7536,39918,227821,229295,228422,0,0,19,-1,233991,6937,232,0,0,0,0,0,0,0,0,0,100195,0,4562,0,522,0,100,0,0,2,0,0,3040,63,249,37229,497869,342834,0,0,0,147665,84776,18060,6155,0,0,0,0,0,0,71,1101,1442,0,119326,0,2689,43,37008,798,1,778,0,0,0,0,0,0,0,0,(Sle 32       (SExt w32 (Read w8 4 arg00)))\n",
      "1647738,98,381,3038,2123831.0,0,70632280,19,173,0,2038312.0,7536,39918,268390,270050,269047,0,0,19,-1,233991,6937,232,0,0,0,0,0,0,0,0,0,100195,0,4562,0,522,0,100,0,0,2,0,0,3040,63,249,37229,497869,342834,0,0,0,147665,84776,18060,6155,0,0,0,0,0,0,71,1101,1442,0,119326,0,2689,43,37008,798,1,778,0,0,0,0,0,0,0,0,(Sle 32       (SExt w32 (Read w8 5 arg00)))\n",
      "1647738,98,381,3038,2554403.0,0,70632280,19,173,0,2419592.0,7536,39918,242525,244054,243141,0,0,19,-1,233991,6937,232,0,0,0,0,0,0,0,0,0,100195,0,4562,0,522,0,100,0,0,2,0,0,3040,63,249,37229,497869,342834,0,0,0,147665,84776,18060,6155,0,0,0,0,0,0,71,1101,1442,0,119326,0,2689,43,37008,798,1,778,0,0,0,0,0,0,0,0,(Sle 32       (SExt w32 (Read w8 6 arg00)))\n",
      "1647738,98,381,3038,2640519.0,0,70632280,19,173,0,2632218.0,7536,39918,268963,270488,269557,0,0,19,-1,233991,6937,232,0,0,0,0,0,0,0,0,0,100195,0,4562,0,522,0,100,0,0,2,0,0,3040,63,249,37229,497869,342834,0,0,0,147665,84776,18060,6155,0,0,0,0,0,0,71,1101,1442,0,119326,0,2689,43,37008,798,1,778,0,0,0,0,0,0,0,0,(Sle 32       (SExt w32 (Read w8 7 arg00)))\n",
      "1647738,98,381,3038,2325914.0,0,70636104,20,180,0,2284753.0,7536,39918,312418,314161,313068,0,0,20,-1,233991,6937,232,0,0,0,0,0,0,0,0,0,100195,0,4562,0,522,0,100,0,0,2,0,0,3040,63,249,37229,497869,342834,0,0,0,147665,84776,18060,6155,0,0,0,0,0,0,71,1101,1442,0,119326,0,2689,43,37008,798,1,778,0,0,0,0,0,0,0,0,(Sle 32       (SExt w32 (Read w8 8 arg00)))\n",
      "1647738,98,381,3038,2749631.0,0,70633032,20,180,0,2672153.0,7536,39918,243262,244915,243922,0,0,20,-1,233991,6937,232,0,0,0,0,0,0,0,0,0,100195,0,4562,0,522,0,100,0,0,2,0,0,3040,63,249,37229,497869,342834,0,0,0,147665,84776,18060,6155,0,0,0,0,0,0,71,1101,1442,0,119326,0,2689,43,37008,798,1,778,0,0,0,0,0,0,0,0,(Sle 32       (SExt w32 (Read w8 9 arg00)))\n",
      "1647738,98,381,3038,2163221.0,0,70636104,20,180,0,2213011.0,7536,39918,289281,290890,289880,0,0,20,-1,233991,6937,232,0,0,0,0,0,0,0,0,0,100195,0,4562,0,522,0,100,0,0,2,0,0,3040,63,249,37229,497869,342834,0,0,0,147665,84776,18060,6155,0,0,0,0,0,0,71,1101,1442,0,119326,0,2689,43,37008,798,1,778,0,0,0,0,0,0,0,0,(Eq false      (Eq 45 (Read w8 0 arg00)))\n",
      "1647738,98,381,3038,2365255.0,0,70633032,20,180,0,2165194.0,7536,39918,299064,300576,299641,0,0,20,-1,233991,6937,232,0,0,0,0,0,0,0,0,0,100195,0,4562,0,522,0,100,0,0,2,0,0,3040,63,249,37229,497869,342834,0,0,0,147665,84776,18060,6155,0,0,0,0,0,0,71,1101,1442,0,119326,0,2689,43,37008,798,1,778,0,0,0,0,0,0,0,0,(Eq 47 (Read w8 0 arg00))\n",
      "1647738,98,381,3038,2687365.0,0,70633032,20,180,0,2711160.0,7536,39918,294843,296374,295425,0,0,20,-1,233991,6937,232,0,0,0,0,0,0,0,0,0,100195,0,4562,0,522,0,100,0,0,2,0,0,3040,63,249,37229,497869,342834,0,0,0,147665,84776,18060,6155,0,0,0,0,0,0,71,1101,1442,0,119326,0,2689,43,37008,798,1,778,0,0,0,0,0,0,0,0,(Eq 47 (Read w8 0 arg00))\n",
      "1647738,98,381,3038,2136884.0,0,70636104,20,180,0,2014809.0,7536,39918,224230,225750,224841,0,0,20,-1,233991,6937,232,0,0,0,0,0,0,0,0,0,100195,0,4562,0,522,0,100,0,0,2,0,0,3040,63,249,37229,497869,342834,0,0,0,147665,84776,18060,6155,0,0,0,0,0,0,71,1101,1442,0,119326,0,2689,43,37008,798,1,778,0,0,0,0,0,0,0,0,(Eq 47 (Read w8 0 arg00))\n",
      "1647738,98,381,3038,2289671.0,0,70636104,20,180,0,2262148.0,7536,39918,294104,295780,294728,0,0,20,-1,233991,6937,232,0,0,0,0,0,0,0,0,0,100195,0,4562,0,522,0,100,0,0,2,0,0,3040,63,249,37229,497869,342834,0,0,0,147665,84776,18060,6155,0,0,0,0,0,0,71,1101,1442,0,119326,0,2689,43,37008,798,1,778,0,0,0,0,0,0,0,0,(Eq false      (Eq 0 (Read w8 0 arg00)))\n",
      "1647738,98,381,3038,2257462.0,0,70633032,20,180,0,2300130.0,7536,39918,289447,290962,290035,0,0,20,-1,233991,6937,232,0,0,0,0,0,0,0,0,0,100195,0,4562,0,522,0,100,0,0,2,0,0,3040,63,249,37229,497869,342834,0,0,0,147665,84776,18060,6155,0,0,0,0,0,0,71,1101,1442,0,119326,0,2689,43,37008,798,1,778,0,0,0,0,0,0,0,0,(Eq 104 (Read w8 1 arg00))\n",
      "1647738,98,381,3038,2687923.0,0,70634568,20,180,0,2680183.0,7536,39918,285386,286998,286036,0,0,20,-1,233991,6937,232,0,0,0,0,0,0,0,0,0,100195,0,4562,0,522,0,100,0,0,2,0,0,3040,63,249,37229,497869,342834,0,0,0,147665,84776,18060,6155,0,0,0,0,0,0,71,1101,1442,0,119326,0,2689,43,37008,798,1,778,0,0,0,0,0,0,0,0,(Eq 104 (Read w8 1 arg00))\n",
      "1647738,98,381,3038,2246233.0,0,70636104,20,180,0,2103750.0,7536,39918,251645,253208,252255,0,0,20,-1,233991,6937,232,0,0,0,0,0,0,0,0,0,100195,0,4562,0,522,0,100,0,0,2,0,0,3040,63,249,37229,497869,342834,0,0,0,147665,84776,18060,6155,0,0,0,0,0,0,71,1101,1442,0,119326,0,2689,43,37008,798,1,778,0,0,0,0,0,0,0,0,(Eq 0 (Read w8 0 arg00))\n",
      "1647738,98,381,3038,2193598.0,0,70632104,18,158,0,2236915.0,7536,39918,279516,280992,280081,0,0,18,-1,233991,6937,232,0,0,0,0,0,0,0,0,0,100195,0,4562,0,522,0,100,0,0,2,0,0,3040,63,249,37229,497869,342834,0,0,0,147665,84776,18060,6155,0,0,0,0,0,0,71,1101,1442,0,119326,0,2689,43,37008,798,1,778,0,0,0,0,0,0,0,0,(Eq false      (Eq 0 (Read w8 1 arg00)))\n",
      "1647738,98,381,3038,2377491.0,0,70633032,20,180,0,2362412.0,7536,39918,294203,295782,294825,0,0,20,-1,233991,6937,232,0,0,0,0,0,0,0,0,0,100195,0,4562,0,522,0,100,0,0,2,0,0,3040,63,249,37229,497869,342834,0,0,0,147665,84776,18060,6155,0,0,0,0,0,0,71,1101,1442,0,119326,0,2689,43,37008,798,1,778,0,0,0,0,0,0,0,0,(Eq false      (Eq 0 (Read w8 0 arg00)))\n",
      "1647738,98,381,3038,2496164.0,0,70633032,20,180,0,2496466.0,7536,39918,235475,237327,236137,0,0,20,-1,233991,6937,232,0,0,0,0,0,0,0,0,0,100195,0,4562,0,522,0,100,0,0,2,0,0,3040,63,249,37229,497869,342834,0,0,0,147665,84776,18060,6155,0,0,0,0,0,0,71,1101,1442,0,119326,0,2689,43,37008,798,1,778,0,0,0,0,0,0,0,0,(Eq 47 (Read w8 0 arg00))\n",
      "1647738,98,381,3038,2227985.0,0,70633032,20,180,0,2144754.0,7536,39918,254121,255745,254760,0,0,20,-1,233991,6937,232,0,0,0,0,0,0,0,0,0,100195,0,4562,0,522,0,100,0,0,2,0,0,3040,63,249,37229,497869,342834,0,0,0,147665,84776,18060,6155,0,0,0,0,0,0,71,1101,1442,0,119326,0,2689,43,37008,798,1,778,0,0,0,0,0,0,0,0,(Eq false      (Eq 0 (Read w8 1 arg00)))\n"
     ]
    },
    {
     "name": "stdout",
     "output_type": "stream",
     "text": [
      "1647738,98,381,3038,2297805.0,0,70633032,20,180,0,2188989.0,7536,39918,266404,267979,267002,0,0,20,-1,233991,6937,232,0,0,0,0,0,0,0,0,0,100195,0,4562,0,522,0,100,0,0,2,0,0,3040,63,249,37229,497869,342834,0,0,0,147665,84776,18060,6155,0,0,0,0,0,0,71,1101,1442,0,119326,0,2689,43,37008,798,1,778,0,0,0,0,0,0,0,0,(Eq 47 (Read w8 1 arg00))\n",
      "1647738,98,381,3038,2393543.0,0,70634568,20,180,0,2208142.0,7536,39918,257543,259224,258190,0,0,20,-1,233991,6937,232,0,0,0,0,0,0,0,0,0,100195,0,4562,0,522,0,100,0,0,2,0,0,3040,63,249,37229,497869,342834,0,0,0,147665,84776,18060,6155,0,0,0,0,0,0,71,1101,1442,0,119326,0,2689,43,37008,798,1,778,0,0,0,0,0,0,0,0,(Eq false      (Eq 0 (Read w8 2 arg00)))\n"
     ]
    }
   ],
   "source": [
    "let main () =\n",
    "    let klee_command =\n",
    "        String.concat ~sep:\" \" @@ [executable; flags_to_str output_flags; directory ^ bitcode; \" --sym-arg 10\"]\n",
    "    in\n",
    "    let initial_run = (run klee_command Keep : string list) in\n",
    "    print_str_list initial_run;\n",
    "    let output_dir = get_output_dir initial_run in\n",
    "    let branches = get_branches initial_run in\n",
    "    let run_branch (p, c) : string * string =\n",
    "        let klee_command =\n",
    "        String.concat ~sep:\" \"\n",
    "        @@ [ executable; flags_to_str replay_flags; \"--replace-condition=\" ^ string_of_int p; \n",
    "        \"--replay-path=\\\"\" ^ output_dir ^ \"/test000001.path\\\"\"; directory ^ bitcode; \" --sym-arg 10\" ]\n",
    "        in\n",
    "        print_endline klee_command;\n",
    "        (run klee_command Print : string list) |> ignore;\n",
    "        get_csv_stats directory c \n",
    "    in\n",
    "    (* header strings, value strings *)\n",
    "    let (h_str , v_str) = Caml.List.split @@ List.map branches run_branch in\n",
    "    print_endline @@ Caml.List.hd h_str;\n",
    "    print_str_list v_str;\n",
    "    clear_subdirs directory;\n",
    "    write_to_log h_str v_str\n",
    "\n",
    "let () = main ()"
   ]
  },
  {
   "cell_type": "code",
   "execution_count": null,
   "metadata": {},
   "outputs": [],
   "source": []
  }
 ],
 "metadata": {
  "kernelspec": {
   "display_name": "OCaml 4.09.0",
   "language": "OCaml",
   "name": "ocaml-jupyter"
  },
  "language_info": {
   "codemirror_mode": "text/x-ocaml",
   "file_extension": ".ml",
   "mimetype": "text/x-ocaml",
   "name": "OCaml",
   "nbconverter_exporter": null,
   "pygments_lexer": "OCaml",
   "version": "4.09.0"
  }
 },
 "nbformat": 4,
 "nbformat_minor": 2
}
