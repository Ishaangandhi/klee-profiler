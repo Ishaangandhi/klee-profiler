{
 "cells": [
  {
   "cell_type": "code",
   "execution_count": 71,
   "metadata": {},
   "outputs": [],
   "source": [
    "#thread;;\n",
    "\n",
    "#require \"core\";;\n",
    "#require \"core.syntax\";;\n",
    "#require \"stdio\";;\n",
    "\n",
    "open Printf;;\n",
    "open Stdio;;\n",
    "open Core;;"
   ]
  },
  {
   "cell_type": "code",
   "execution_count": 76,
   "metadata": {},
   "outputs": [
    {
     "data": {
      "text/plain": [
       "val executable : string = \"/home/igandhi/Documents/build/bin/klee\"\n"
      ]
     },
     "execution_count": 76,
     "metadata": {},
     "output_type": "execute_result"
    },
    {
     "data": {
      "text/plain": [
       "val klee_stats : string = \"/home/igandhi/Documents/build/bin/klee-stats\"\n"
      ]
     },
     "execution_count": 76,
     "metadata": {},
     "output_type": "execute_result"
    },
    {
     "data": {
      "text/plain": [
       "val klee_flags : string list =\n",
       "  [\"search=random-path\"; \"no-forking\"; \"track-instruction-time\";\n",
       "   \"libc=uclibc\"; \"posix-runtime\"]\n"
      ]
     },
     "execution_count": 76,
     "metadata": {},
     "output_type": "execute_result"
    },
    {
     "data": {
      "text/plain": [
       "val stats_flags : string list = [\"print-all\"; \"to-csv\"]\n"
      ]
     },
     "execution_count": 76,
     "metadata": {},
     "output_type": "execute_result"
    },
    {
     "data": {
      "text/plain": [
       "val directory : string = \"../klee/examples/llvm-coreutils/bitcodes/\"\n"
      ]
     },
     "execution_count": 76,
     "metadata": {},
     "output_type": "execute_result"
    },
    {
     "data": {
      "text/plain": [
       "val bitcode : string = \"echo.bc\"\n"
      ]
     },
     "execution_count": 76,
     "metadata": {},
     "output_type": "execute_result"
    },
    {
     "data": {
      "text/plain": [
       "val path_n : int = 1\n"
      ]
     },
     "execution_count": 76,
     "metadata": {},
     "output_type": "execute_result"
    }
   ],
   "source": [
    "let executable = \"/home/igandhi/Documents/build/bin/klee\"\n",
    "\n",
    "let klee_stats = \"/home/igandhi/Documents/build/bin/klee-stats\"\n",
    "\n",
    "let klee_flags =\n",
    "  [ \n",
    "  \"search=random-path\"; \"no-forking\"; \"track-instruction-time\"; \n",
    "  \"libc=uclibc\"; \"posix-runtime\";\n",
    "  ]\n",
    "\n",
    "let stats_flags = [ \"print-all\"; \"to-csv\" ]\n",
    "\n",
    "let directory = \"../klee/examples/llvm-coreutils/bitcodes/\"\n",
    "\n",
    "let bitcode = \"echo.bc\"\n",
    "\n",
    "(* number of paths to explore with klee *)\n",
    "let path_n = 1"
   ]
  },
  {
   "cell_type": "code",
   "execution_count": 73,
   "metadata": {},
   "outputs": [
    {
     "data": {
      "text/plain": [
       "exception FileError of string\n"
      ]
     },
     "execution_count": 73,
     "metadata": {},
     "output_type": "execute_result"
    },
    {
     "data": {
      "text/plain": [
       "val flags_to_str : string list -> string = <fun>\n"
      ]
     },
     "execution_count": 73,
     "metadata": {},
     "output_type": "execute_result"
    },
    {
     "data": {
      "text/plain": [
       "val run : string -> bool -> string list = <fun>\n"
      ]
     },
     "execution_count": 73,
     "metadata": {},
     "output_type": "execute_result"
    },
    {
     "data": {
      "text/plain": [
       "val lowest_unused : unit -> int = <fun>\n"
      ]
     },
     "execution_count": 73,
     "metadata": {},
     "output_type": "execute_result"
    },
    {
     "data": {
      "text/plain": [
       "val x : int = 13\n"
      ]
     },
     "execution_count": 73,
     "metadata": {},
     "output_type": "execute_result"
    },
    {
     "data": {
      "text/plain": [
       "val write_to_log : string list -> string list -> unit = <fun>\n"
      ]
     },
     "execution_count": 73,
     "metadata": {},
     "output_type": "execute_result"
    },
    {
     "data": {
      "text/plain": [
       "val get_csv_stats : string -> string * string = <fun>\n"
      ]
     },
     "execution_count": 73,
     "metadata": {},
     "output_type": "execute_result"
    },
    {
     "data": {
      "text/plain": [
       "val print_str_list : string list -> unit = <fun>\n"
      ]
     },
     "execution_count": 73,
     "metadata": {},
     "output_type": "execute_result"
    }
   ],
   "source": [
    "exception FileError of string\n",
    "\n",
    "let flags_to_str (flags : string list) : string =\n",
    "  String.concat ~sep:\" \" @@ List.map flags (fun x -> \"--\" ^ x) \n",
    "\n",
    "(** run runs the given command, and returns each line of output of standard out*)\n",
    "let run (cmd : string) (suppress : bool) : string list =\n",
    "  let cmd = if suppress then cmd ^ \" 2> /dev/null\" else cmd in\n",
    "  let inp = Unix.open_process_in @@ cmd in\n",
    "  let r = In_channel.input_lines inp in\n",
    "  In_channel.close inp;\n",
    "  r\n",
    "  \n",
    "(* Outputs are logged as log1.csv, log2.csv... lowest_unused finds the lowest unused log number*)\n",
    "let lowest_unused () : int = \n",
    "    let filenames = run (\"ls logs/\") false in\n",
    "    let num_to_name n = \"log\" ^ string_of_int n ^ \".csv\" in\n",
    "    let is_unused n = not @@ List.mem filenames (num_to_name n) (String.equal) in\n",
    "    match List.find (List.init 100 Fun.id) is_unused with\n",
    "    | Some unused -> unused\n",
    "    | None -> raise (FileError \"All file numbers used\")\n",
    "\n",
    "let x = lowest_unused ()\n",
    "\n",
    "let write_to_log (headers : string list) (values : string list) : unit =\n",
    "  let i = lowest_unused () in\n",
    "  let oc = Out_channel.create ~append:true @@ \"logs/log\" ^ string_of_int i ^ \".csv\" in\n",
    "  fprintf oc \"%s\\n\" (Option.value (List.hd headers) ~default:\"No headers\");\n",
    "  List.iter values (fprintf oc \"%s\\n\");\n",
    "  Out_channel.close oc\n",
    "\n",
    "(** get_csv_stats returns the results of \"klee-stats\" as a tuple of (header, value) *)\n",
    "let get_csv_stats (directory : string) : string * string =\n",
    "  let command =\n",
    "    klee_stats ^ \" \" ^ directory ^ \"klee-last \" ^ flags_to_str stats_flags\n",
    "  in\n",
    "  let csv_table = run command false in\n",
    "  (Option.value (List.hd csv_table) ~default:\"No header\", \n",
    "  Option.value (List.hd @@ List.rev csv_table) ~default:\"No rows\")\n",
    "  \n",
    "let print_str_list = fun l -> List.iter l print_endline"
   ]
  },
  {
   "cell_type": "code",
   "execution_count": 74,
   "metadata": {},
   "outputs": [
    {
     "data": {
      "text/plain": [
       "val clear_subdirs : string -> unit = <fun>\n"
      ]
     },
     "execution_count": 74,
     "metadata": {},
     "output_type": "execute_result"
    }
   ],
   "source": [
    "let clear_subdirs (directory : string) : unit = ( run (\"rm -rf \" ^ directory ^ \"*/\") false : string list) |> ignore"
   ]
  },
  {
   "cell_type": "code",
   "execution_count": 78,
   "metadata": {},
   "outputs": [
    {
     "data": {
      "text/plain": [
       "val main : unit -> unit = <fun>\n"
      ]
     },
     "execution_count": 78,
     "metadata": {},
     "output_type": "execute_result"
    },
    {
     "name": "stderr",
     "output_type": "stream",
     "text": [
      "KLEE: NOTE: Using POSIX model: /home/igandhi/Documents/build/Debug+Asserts/lib/libkleeRuntimePOSIX.bca\n",
      "KLEE: NOTE: Using klee-uclibc : /home/igandhi/Documents/build/Debug+Asserts/lib/klee-uclibc.bca\n",
      "KLEE: output directory is \"/home/igandhi/Documents/profiler/../klee/examples/llvm-coreutils/bitcodes/klee-out-0\"\n",
      "KLEE: Using STP solver backend\n",
      "KLEE: WARNING: undefined reference to function: __ctype_get_mb_cur_max\n",
      "KLEE: WARNING: undefined reference to function: bindtextdomain\n",
      "KLEE: WARNING: undefined reference to function: gettext\n",
      "KLEE: WARNING: undefined reference to function: textdomain\n",
      "KLEE: WARNING: executable has module level assembly (ignoring)\n",
      "KLEE: WARNING ONCE: calling external: syscall(16, 0, 21505, 94068195667952) at klee/runtime/POSIX/fd.c:1007 10\n",
      "KLEE: WARNING ONCE: Alignment of memory from call \"malloc\" is not modelled. Using alignment of 8.\n",
      "KLEE: WARNING ONCE: skipping fork (fork disabled globally)\n",
      "KLEE: WARNING ONCE: calling __klee_posix_wrapped_main with extra arguments.\n",
      "KLEE: WARNING ONCE: Alignment of memory from call \"calloc\" is not modelled. Using alignment of 8.\n",
      "KLEE: WARNING ONCE: calling external: bindtextdomain(94068194659216, 94068194983616) at [no debug info]\n",
      "KLEE: WARNING ONCE: calling external: textdomain(94068194659216) at [no debug info]\n",
      "KLEE: WARNING ONCE: Alignment of memory from call \"realloc\" is not modelled. Using alignment of 8.\n",
      "KLEE: WARNING ONCE: calling close_stdout with extra arguments.\n",
      "here4:21\n",
      "\n",
      "KLEE: done: total instructions = 164035\n",
      "KLEE: done: completed paths = 1\n",
      "KLEE: done: generated tests = 1\n"
     ]
    },
    {
     "name": "stdout",
     "output_type": "stream",
     "text": [
      "Instructions,FullBranches,PartialBranches,NumBranches,UserTime,NumStates,MallocUsage,NumQueries,NumQueryConstructs,NumObjects,WallTime,CoveredInstructions,UncoveredInstructions,QueryTime,SolverTime,CexCacheTime,ForkTime,ResolveTime,QueryCexCacheMisses,QueryCexCacheHits,Breaks,Returns,Switchs,IndirectBrs,Invokes,Resumes,Unreachables,CleanupRets,CatchRets,CatchPads,CatchSwitchs,FNegs,Adds,FAdds,Subs,FSubs,Muls,FMuls,UDivs,SDivs,FDivs,URems,SRems,FRems,Ands,Ors,Xors,Allocas,Loads,Stores,AtomicCmpXchgs,AtomicRMWs,Fences,GetElementPtrs,Truncs,ZExts,SExts,FPTruncs,FPExts,FPToUIs,FPToSIs,UIToFPs,SIToFPs,IntToPtrs,PtrToInts,BitCasts,AddrSpaceCasts,ICmps,FCmps,PHIs,Selects,Calls,Shls,LShrs,AShrs,VAArgs,ExtractElements,InsertElements,ShuffleVectors,ExtractValues,InsertValues,LandingPads,CleanupPads\n",
      "/home/igandhi/Documents/build/bin/klee --search=random-path --no-forking --track-instruction-time --libc=uclibc --posix-runtime ../klee/examples/llvm-coreutils/bitcodes/echo.bc  --sym-arg 10\n",
      "164035,58,189,1406,738477.0,0,45920784,16,136,0,520862.0,4048,19348,224422,225648,224871,333,0,16,-1,22687,959,1,0,0,0,0,0,0,0,0,0,8078,0,1120,0,80,0,6,0,0,1,0,0,131,16,15,4542,49866,33324,0,0,0,16050,581,5356,2358,0,0,0,0,0,0,3,109,142,0,12044,0,1129,1,5405,25,0,6,0,0,0,0,0,0,0,0\n"
     ]
    }
   ],
   "source": [
    "let main () =\n",
    "  let klee_command =\n",
    "    String.concat ~sep:\" \"\n",
    "    @@ [ executable; flags_to_str klee_flags; directory ^ bitcode; \" --sym-arg 10\" ]\n",
    "  in\n",
    "  let (h_str (* header strings *), v_str (* value strings *)) = Caml.List.split @@ Caml.List.init path_n @@ fun _ ->\n",
    "      (run klee_command false : string list) |> ignore;\n",
    "      get_csv_stats directory in\n",
    "   print_endline @@ Caml.List.hd h_str;\n",
    "   print_endline klee_command;\n",
    "   print_str_list v_str;\n",
    "   clear_subdirs directory;\n",
    "   write_to_log h_str v_str\n",
    "\n",
    "let () = main ()"
   ]
  },
  {
   "cell_type": "code",
   "execution_count": null,
   "metadata": {},
   "outputs": [],
   "source": []
  }
 ],
 "metadata": {
  "kernelspec": {
   "display_name": "OCaml 4.09.0",
   "language": "OCaml",
   "name": "ocaml-jupyter"
  },
  "language_info": {
   "codemirror_mode": "text/x-ocaml",
   "file_extension": ".ml",
   "mimetype": "text/x-ocaml",
   "name": "OCaml",
   "nbconverter_exporter": null,
   "pygments_lexer": "OCaml",
   "version": "4.09.0"
  }
 },
 "nbformat": 4,
 "nbformat_minor": 2
}
